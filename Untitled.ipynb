{
 "cells": [
  {
   "cell_type": "code",
   "execution_count": 1,
   "metadata": {
    "ExecuteTime": {
     "end_time": "2021-08-04T18:20:56.790999Z",
     "start_time": "2021-08-04T18:20:55.461825Z"
    }
   },
   "outputs": [],
   "source": [
    "#import relevant libraries\n",
    "import pandas as pd\n",
    "import numpy as np\n",
    "import matplotlib.pyplot as plt\n",
    "import seaborn as sns\n",
    "import plotly.graph_objects as go\n",
    "from plotly.io import write_image"
   ]
  },
  {
   "cell_type": "code",
   "execution_count": 4,
   "metadata": {
    "ExecuteTime": {
     "end_time": "2021-08-04T18:21:46.028646Z",
     "start_time": "2021-08-04T18:21:46.023894Z"
    }
   },
   "outputs": [
    {
     "data": {
      "text/plain": [
       "'/Users/arthur/Documents/Flatiron/phase_3/Project/SyriaTel_Customer_Churn'"
      ]
     },
     "execution_count": 4,
     "metadata": {},
     "output_type": "execute_result"
    }
   ],
   "source": [
    "pwd"
   ]
  },
  {
   "cell_type": "code",
   "execution_count": 5,
   "metadata": {
    "ExecuteTime": {
     "end_time": "2021-08-04T18:22:01.839214Z",
     "start_time": "2021-08-04T18:22:01.814996Z"
    }
   },
   "outputs": [],
   "source": [
    "df = pd.read_csv('data/syrialtel_cleaned_data.csv')"
   ]
  },
  {
   "cell_type": "code",
   "execution_count": 6,
   "metadata": {
    "ExecuteTime": {
     "end_time": "2021-08-04T18:26:49.497150Z",
     "start_time": "2021-08-04T18:26:49.481902Z"
    }
   },
   "outputs": [
    {
     "name": "stdout",
     "output_type": "stream",
     "text": [
      "<class 'pandas.core.frame.DataFrame'>\n",
      "RangeIndex: 3333 entries, 0 to 3332\n",
      "Data columns (total 34 columns):\n",
      " #   Column                  Non-Null Count  Dtype  \n",
      "---  ------                  --------------  -----  \n",
      " 0   state                   3333 non-null   object \n",
      " 1   account_length          3333 non-null   int64  \n",
      " 2   area_code               3333 non-null   int64  \n",
      " 3   international_plan      3333 non-null   object \n",
      " 4   voice_mail_plan         3333 non-null   object \n",
      " 5   number_vmail_messages   3333 non-null   int64  \n",
      " 6   total_day_minutes       3333 non-null   float64\n",
      " 7   total_day_calls         3333 non-null   int64  \n",
      " 8   total_day_charge        3333 non-null   float64\n",
      " 9   total_eve_minutes       3333 non-null   float64\n",
      " 10  total_eve_calls         3333 non-null   int64  \n",
      " 11  total_eve_charge        3333 non-null   float64\n",
      " 12  total_night_minutes     3333 non-null   float64\n",
      " 13  total_night_calls       3333 non-null   int64  \n",
      " 14  total_night_charge      3333 non-null   float64\n",
      " 15  total_intl_minutes      3333 non-null   float64\n",
      " 16  total_intl_calls        3333 non-null   int64  \n",
      " 17  total_intl_charge       3333 non-null   float64\n",
      " 18  customer_service_calls  3333 non-null   int64  \n",
      " 19  churn                   3333 non-null   int64  \n",
      " 20  total_minutes_dom       3333 non-null   float64\n",
      " 21  total_calls_dom         3333 non-null   int64  \n",
      " 22  total_charge_dom        3333 non-null   float64\n",
      " 23  total_minutes           3333 non-null   float64\n",
      " 24  total_calls             3333 non-null   int64  \n",
      " 25  total_charge            3333 non-null   float64\n",
      " 26  charge_per_min_day      3333 non-null   float64\n",
      " 27  charge_per_min_eve      3333 non-null   float64\n",
      " 28  charge_per_min_night    3333 non-null   float64\n",
      " 29  charge_per_min_dom      3333 non-null   float64\n",
      " 30  charge_per_min_int      3333 non-null   float64\n",
      " 31  %_int_min               3333 non-null   float64\n",
      " 32  call_satisfaction       3333 non-null   float64\n",
      " 33  region                  3333 non-null   object \n",
      "dtypes: float64(19), int64(11), object(4)\n",
      "memory usage: 885.5+ KB\n"
     ]
    }
   ],
   "source": [
    "new_df = df\n",
    "new_df.info(verbose=True)"
   ]
  },
  {
   "cell_type": "code",
   "execution_count": 8,
   "metadata": {
    "ExecuteTime": {
     "end_time": "2021-08-04T18:31:13.273992Z",
     "start_time": "2021-08-04T18:31:13.186233Z"
    }
   },
   "outputs": [
    {
     "data": {
      "text/html": [
       "<div>\n",
       "<style scoped>\n",
       "    .dataframe tbody tr th:only-of-type {\n",
       "        vertical-align: middle;\n",
       "    }\n",
       "\n",
       "    .dataframe tbody tr th {\n",
       "        vertical-align: top;\n",
       "    }\n",
       "\n",
       "    .dataframe thead th {\n",
       "        text-align: right;\n",
       "    }\n",
       "</style>\n",
       "<table border=\"1\" class=\"dataframe\">\n",
       "  <thead>\n",
       "    <tr style=\"text-align: right;\">\n",
       "      <th></th>\n",
       "      <th>account_length</th>\n",
       "      <th>area_code</th>\n",
       "      <th>number_vmail_messages</th>\n",
       "      <th>total_day_minutes</th>\n",
       "      <th>total_day_calls</th>\n",
       "      <th>total_day_charge</th>\n",
       "      <th>total_eve_minutes</th>\n",
       "      <th>total_eve_calls</th>\n",
       "      <th>total_eve_charge</th>\n",
       "      <th>total_night_minutes</th>\n",
       "      <th>...</th>\n",
       "      <th>total_minutes</th>\n",
       "      <th>total_calls</th>\n",
       "      <th>total_charge</th>\n",
       "      <th>charge_per_min_day</th>\n",
       "      <th>charge_per_min_eve</th>\n",
       "      <th>charge_per_min_night</th>\n",
       "      <th>charge_per_min_dom</th>\n",
       "      <th>charge_per_min_int</th>\n",
       "      <th>%_int_min</th>\n",
       "      <th>call_satisfaction</th>\n",
       "    </tr>\n",
       "  </thead>\n",
       "  <tbody>\n",
       "    <tr>\n",
       "      <th>count</th>\n",
       "      <td>3333.000000</td>\n",
       "      <td>3333.000000</td>\n",
       "      <td>3333.000000</td>\n",
       "      <td>3333.000000</td>\n",
       "      <td>3333.000000</td>\n",
       "      <td>3333.000000</td>\n",
       "      <td>3333.000000</td>\n",
       "      <td>3333.000000</td>\n",
       "      <td>3333.000000</td>\n",
       "      <td>3333.000000</td>\n",
       "      <td>...</td>\n",
       "      <td>3333.000000</td>\n",
       "      <td>3333.000000</td>\n",
       "      <td>3333.000000</td>\n",
       "      <td>3333.000000</td>\n",
       "      <td>3333.000000</td>\n",
       "      <td>3333.000000</td>\n",
       "      <td>3333.000000</td>\n",
       "      <td>3333.000000</td>\n",
       "      <td>3333.000000</td>\n",
       "      <td>3333.000000</td>\n",
       "    </tr>\n",
       "    <tr>\n",
       "      <th>mean</th>\n",
       "      <td>101.064806</td>\n",
       "      <td>437.182418</td>\n",
       "      <td>8.099010</td>\n",
       "      <td>179.775098</td>\n",
       "      <td>100.435644</td>\n",
       "      <td>30.562307</td>\n",
       "      <td>200.980348</td>\n",
       "      <td>100.114311</td>\n",
       "      <td>17.083540</td>\n",
       "      <td>200.872037</td>\n",
       "      <td>...</td>\n",
       "      <td>591.864776</td>\n",
       "      <td>305.137114</td>\n",
       "      <td>59.449754</td>\n",
       "      <td>0.318147</td>\n",
       "      <td>0.178768</td>\n",
       "      <td>0.094130</td>\n",
       "      <td>0.191022</td>\n",
       "      <td>0.835943</td>\n",
       "      <td>1.772072</td>\n",
       "      <td>0.519833</td>\n",
       "    </tr>\n",
       "    <tr>\n",
       "      <th>std</th>\n",
       "      <td>39.822106</td>\n",
       "      <td>42.371290</td>\n",
       "      <td>13.688365</td>\n",
       "      <td>54.467389</td>\n",
       "      <td>20.069084</td>\n",
       "      <td>9.259435</td>\n",
       "      <td>50.713844</td>\n",
       "      <td>19.922625</td>\n",
       "      <td>4.310668</td>\n",
       "      <td>50.573847</td>\n",
       "      <td>...</td>\n",
       "      <td>89.954251</td>\n",
       "      <td>34.448164</td>\n",
       "      <td>10.502261</td>\n",
       "      <td>0.124572</td>\n",
       "      <td>0.065992</td>\n",
       "      <td>0.031932</td>\n",
       "      <td>0.041955</td>\n",
       "      <td>0.611900</td>\n",
       "      <td>0.566639</td>\n",
       "      <td>0.445629</td>\n",
       "    </tr>\n",
       "    <tr>\n",
       "      <th>min</th>\n",
       "      <td>1.000000</td>\n",
       "      <td>408.000000</td>\n",
       "      <td>0.000000</td>\n",
       "      <td>0.000000</td>\n",
       "      <td>0.000000</td>\n",
       "      <td>0.000000</td>\n",
       "      <td>0.000000</td>\n",
       "      <td>0.000000</td>\n",
       "      <td>0.000000</td>\n",
       "      <td>23.200000</td>\n",
       "      <td>...</td>\n",
       "      <td>284.300000</td>\n",
       "      <td>191.000000</td>\n",
       "      <td>22.930000</td>\n",
       "      <td>0.000000</td>\n",
       "      <td>0.000000</td>\n",
       "      <td>0.010196</td>\n",
       "      <td>0.063388</td>\n",
       "      <td>0.000000</td>\n",
       "      <td>0.000000</td>\n",
       "      <td>0.000000</td>\n",
       "    </tr>\n",
       "    <tr>\n",
       "      <th>25%</th>\n",
       "      <td>74.000000</td>\n",
       "      <td>408.000000</td>\n",
       "      <td>0.000000</td>\n",
       "      <td>143.700000</td>\n",
       "      <td>87.000000</td>\n",
       "      <td>24.430000</td>\n",
       "      <td>166.600000</td>\n",
       "      <td>87.000000</td>\n",
       "      <td>14.160000</td>\n",
       "      <td>167.000000</td>\n",
       "      <td>...</td>\n",
       "      <td>531.500000</td>\n",
       "      <td>282.000000</td>\n",
       "      <td>52.380000</td>\n",
       "      <td>0.234490</td>\n",
       "      <td>0.137297</td>\n",
       "      <td>0.072377</td>\n",
       "      <td>0.162097</td>\n",
       "      <td>0.451429</td>\n",
       "      <td>1.402255</td>\n",
       "      <td>0.289017</td>\n",
       "    </tr>\n",
       "    <tr>\n",
       "      <th>50%</th>\n",
       "      <td>101.000000</td>\n",
       "      <td>415.000000</td>\n",
       "      <td>0.000000</td>\n",
       "      <td>179.400000</td>\n",
       "      <td>101.000000</td>\n",
       "      <td>30.500000</td>\n",
       "      <td>201.400000</td>\n",
       "      <td>100.000000</td>\n",
       "      <td>17.120000</td>\n",
       "      <td>201.200000</td>\n",
       "      <td>...</td>\n",
       "      <td>593.600000</td>\n",
       "      <td>305.000000</td>\n",
       "      <td>59.470000</td>\n",
       "      <td>0.304409</td>\n",
       "      <td>0.168739</td>\n",
       "      <td>0.090280</td>\n",
       "      <td>0.188159</td>\n",
       "      <td>0.662500</td>\n",
       "      <td>1.744287</td>\n",
       "      <td>0.366300</td>\n",
       "    </tr>\n",
       "    <tr>\n",
       "      <th>75%</th>\n",
       "      <td>127.000000</td>\n",
       "      <td>510.000000</td>\n",
       "      <td>20.000000</td>\n",
       "      <td>216.400000</td>\n",
       "      <td>114.000000</td>\n",
       "      <td>36.790000</td>\n",
       "      <td>235.300000</td>\n",
       "      <td>114.000000</td>\n",
       "      <td>20.000000</td>\n",
       "      <td>235.300000</td>\n",
       "      <td>...</td>\n",
       "      <td>652.400000</td>\n",
       "      <td>328.000000</td>\n",
       "      <td>66.480000</td>\n",
       "      <td>0.384510</td>\n",
       "      <td>0.211389</td>\n",
       "      <td>0.110769</td>\n",
       "      <td>0.217788</td>\n",
       "      <td>1.025000</td>\n",
       "      <td>2.111614</td>\n",
       "      <td>0.727273</td>\n",
       "    </tr>\n",
       "    <tr>\n",
       "      <th>max</th>\n",
       "      <td>243.000000</td>\n",
       "      <td>510.000000</td>\n",
       "      <td>51.000000</td>\n",
       "      <td>350.800000</td>\n",
       "      <td>165.000000</td>\n",
       "      <td>59.640000</td>\n",
       "      <td>363.700000</td>\n",
       "      <td>170.000000</td>\n",
       "      <td>30.910000</td>\n",
       "      <td>395.000000</td>\n",
       "      <td>...</td>\n",
       "      <td>885.000000</td>\n",
       "      <td>416.000000</td>\n",
       "      <td>96.150000</td>\n",
       "      <td>1.228000</td>\n",
       "      <td>1.326667</td>\n",
       "      <td>0.320606</td>\n",
       "      <td>0.402548</td>\n",
       "      <td>4.910000</td>\n",
       "      <td>4.246170</td>\n",
       "      <td>3.030303</td>\n",
       "    </tr>\n",
       "  </tbody>\n",
       "</table>\n",
       "<p>8 rows × 30 columns</p>\n",
       "</div>"
      ],
      "text/plain": [
       "       account_length    area_code  number_vmail_messages  total_day_minutes  \\\n",
       "count     3333.000000  3333.000000            3333.000000        3333.000000   \n",
       "mean       101.064806   437.182418               8.099010         179.775098   \n",
       "std         39.822106    42.371290              13.688365          54.467389   \n",
       "min          1.000000   408.000000               0.000000           0.000000   \n",
       "25%         74.000000   408.000000               0.000000         143.700000   \n",
       "50%        101.000000   415.000000               0.000000         179.400000   \n",
       "75%        127.000000   510.000000              20.000000         216.400000   \n",
       "max        243.000000   510.000000              51.000000         350.800000   \n",
       "\n",
       "       total_day_calls  total_day_charge  total_eve_minutes  total_eve_calls  \\\n",
       "count      3333.000000       3333.000000        3333.000000      3333.000000   \n",
       "mean        100.435644         30.562307         200.980348       100.114311   \n",
       "std          20.069084          9.259435          50.713844        19.922625   \n",
       "min           0.000000          0.000000           0.000000         0.000000   \n",
       "25%          87.000000         24.430000         166.600000        87.000000   \n",
       "50%         101.000000         30.500000         201.400000       100.000000   \n",
       "75%         114.000000         36.790000         235.300000       114.000000   \n",
       "max         165.000000         59.640000         363.700000       170.000000   \n",
       "\n",
       "       total_eve_charge  total_night_minutes  ...  total_minutes  total_calls  \\\n",
       "count       3333.000000          3333.000000  ...    3333.000000  3333.000000   \n",
       "mean          17.083540           200.872037  ...     591.864776   305.137114   \n",
       "std            4.310668            50.573847  ...      89.954251    34.448164   \n",
       "min            0.000000            23.200000  ...     284.300000   191.000000   \n",
       "25%           14.160000           167.000000  ...     531.500000   282.000000   \n",
       "50%           17.120000           201.200000  ...     593.600000   305.000000   \n",
       "75%           20.000000           235.300000  ...     652.400000   328.000000   \n",
       "max           30.910000           395.000000  ...     885.000000   416.000000   \n",
       "\n",
       "       total_charge  charge_per_min_day  charge_per_min_eve  \\\n",
       "count   3333.000000         3333.000000         3333.000000   \n",
       "mean      59.449754            0.318147            0.178768   \n",
       "std       10.502261            0.124572            0.065992   \n",
       "min       22.930000            0.000000            0.000000   \n",
       "25%       52.380000            0.234490            0.137297   \n",
       "50%       59.470000            0.304409            0.168739   \n",
       "75%       66.480000            0.384510            0.211389   \n",
       "max       96.150000            1.228000            1.326667   \n",
       "\n",
       "       charge_per_min_night  charge_per_min_dom  charge_per_min_int  \\\n",
       "count           3333.000000         3333.000000         3333.000000   \n",
       "mean               0.094130            0.191022            0.835943   \n",
       "std                0.031932            0.041955            0.611900   \n",
       "min                0.010196            0.063388            0.000000   \n",
       "25%                0.072377            0.162097            0.451429   \n",
       "50%                0.090280            0.188159            0.662500   \n",
       "75%                0.110769            0.217788            1.025000   \n",
       "max                0.320606            0.402548            4.910000   \n",
       "\n",
       "         %_int_min  call_satisfaction  \n",
       "count  3333.000000        3333.000000  \n",
       "mean      1.772072           0.519833  \n",
       "std       0.566639           0.445629  \n",
       "min       0.000000           0.000000  \n",
       "25%       1.402255           0.289017  \n",
       "50%       1.744287           0.366300  \n",
       "75%       2.111614           0.727273  \n",
       "max       4.246170           3.030303  \n",
       "\n",
       "[8 rows x 30 columns]"
      ]
     },
     "execution_count": 8,
     "metadata": {},
     "output_type": "execute_result"
    }
   ],
   "source": [
    "new_df.describe()"
   ]
  },
  {
   "cell_type": "markdown",
   "metadata": {
    "ExecuteTime": {
     "end_time": "2021-08-04T18:34:27.421033Z",
     "start_time": "2021-08-04T18:34:27.419206Z"
    }
   },
   "source": [
    "### Implementing a Fixed Price Plan"
   ]
  },
  {
   "cell_type": "code",
   "execution_count": 9,
   "metadata": {
    "ExecuteTime": {
     "end_time": "2021-08-04T18:31:39.857945Z",
     "start_time": "2021-08-04T18:31:39.851005Z"
    }
   },
   "outputs": [],
   "source": [
    "new_df.loc[new_df['total_day_minutes'] > 300, 'charge_per_min_day'] = 0.2\n",
    "new_df['total_day_charge'] = new_df['charge_per_min_day'] * new_df['total_day_minutes']"
   ]
  },
  {
   "cell_type": "code",
   "execution_count": 11,
   "metadata": {
    "ExecuteTime": {
     "end_time": "2021-08-04T18:33:51.604223Z",
     "start_time": "2021-08-04T18:33:51.600852Z"
    }
   },
   "outputs": [],
   "source": [
    "new_df['total_charge_dom'] = new_df['total_day_charge'] + new_df['total_eve_charge'] + new_df['total_night_charge']"
   ]
  },
  {
   "cell_type": "code",
   "execution_count": 12,
   "metadata": {
    "ExecuteTime": {
     "end_time": "2021-08-04T18:33:53.209009Z",
     "start_time": "2021-08-04T18:33:53.205190Z"
    }
   },
   "outputs": [],
   "source": [
    "new_df['total_charge'] = new_df['total_day_charge'] + new_df['total_eve_charge'] + new_df['total_night_charge'] + new_df['total_intl_charge']"
   ]
  },
  {
   "cell_type": "code",
   "execution_count": null,
   "metadata": {},
   "outputs": [],
   "source": [
    "#run model here"
   ]
  },
  {
   "cell_type": "markdown",
   "metadata": {},
   "source": [
    "### Improve Customer Satisfaction"
   ]
  },
  {
   "cell_type": "code",
   "execution_count": 14,
   "metadata": {
    "ExecuteTime": {
     "end_time": "2021-08-04T18:36:56.327432Z",
     "start_time": "2021-08-04T18:36:56.324134Z"
    }
   },
   "outputs": [],
   "source": [
    "new_df.loc[new_df['call_satisfaction'] > 0.72, 'call_satisfaction'] = 0.72"
   ]
  },
  {
   "cell_type": "code",
   "execution_count": 15,
   "metadata": {
    "ExecuteTime": {
     "end_time": "2021-08-04T18:38:15.959083Z",
     "start_time": "2021-08-04T18:38:15.955826Z"
    }
   },
   "outputs": [],
   "source": [
    "new_df['customer_service_calls'] = (new_df['call_satisfaction']/100)*new_df['total_calls']"
   ]
  },
  {
   "cell_type": "markdown",
   "metadata": {},
   "source": [
    "### Target the Key States First"
   ]
  },
  {
   "cell_type": "markdown",
   "metadata": {},
   "source": [
    "Key states are: NJ, CA, TX, MD, SC"
   ]
  },
  {
   "cell_type": "code",
   "execution_count": null,
   "metadata": {},
   "outputs": [],
   "source": [
    "df_NJ = df[df['State'] = 'NJ']\n",
    "new_df_NJ = new_df['NJ']\n"
   ]
  }
 ],
 "metadata": {
  "kernelspec": {
   "display_name": "Python (learn-env)",
   "language": "python",
   "name": "learn-env"
  },
  "language_info": {
   "codemirror_mode": {
    "name": "ipython",
    "version": 3
   },
   "file_extension": ".py",
   "mimetype": "text/x-python",
   "name": "python",
   "nbconvert_exporter": "python",
   "pygments_lexer": "ipython3",
   "version": "3.8.5"
  }
 },
 "nbformat": 4,
 "nbformat_minor": 4
}
