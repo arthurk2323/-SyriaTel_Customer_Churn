{
 "cells": [
  {
   "cell_type": "markdown",
   "metadata": {},
   "source": [
    "# [Insert Title]"
   ]
  },
  {
   "cell_type": "markdown",
   "metadata": {},
   "source": [
    "## Imports"
   ]
  },
  {
   "cell_type": "code",
   "execution_count": 2,
   "metadata": {
    "ExecuteTime": {
     "end_time": "2021-08-04T15:13:42.585217Z",
     "start_time": "2021-08-04T15:13:40.733615Z"
    }
   },
   "outputs": [],
   "source": [
    "#import relevant libraries\n",
    "import pandas as pd\n",
    "import numpy as np\n",
    "import matplotlib.pyplot as plt\n",
    "import seaborn as sns\n",
    "from sklearn.model_selection import train_test_split, cross_val_score, GridSearchCV\n",
    "from sklearn.preprocessing import StandardScaler, OneHotEncoder\n",
    "from sklearn.linear_model import LogisticRegression\n",
    "from sklearn.metrics import accuracy_score, precision_score, recall_score, f1_score, classification_report, confusion_matrix, plot_confusion_matrix\n",
    "from sklearn.pipeline import Pipeline\n",
    "from sklearn.compose import ColumnTransformer\n",
    "from sklearn.neighbors import KNeighborsClassifier\n",
    "from sklearn.ensemble import AdaBoostClassifier,GradientBoostingClassifier\n",
    "from imblearn.over_sampling import SMOTE, SMOTENC"
   ]
  },
  {
   "cell_type": "markdown",
   "metadata": {},
   "source": [
    "## Functions"
   ]
  },
  {
   "cell_type": "code",
   "execution_count": 3,
   "metadata": {
    "ExecuteTime": {
     "end_time": "2021-08-04T15:13:42.589631Z",
     "start_time": "2021-08-04T15:13:42.587041Z"
    }
   },
   "outputs": [],
   "source": [
    "def scores(actual, pred):\n",
    "    print(\"log loss: \", log_loss(actual, pred))\n",
    "    print(\"accuracy: \", accuracy_score(actual, pred))\n",
    "    print(\"precision:\", precision_score(actual, pred))\n",
    "    print(\"recall:   \", recall_score(actual, pred))"
   ]
  },
  {
   "cell_type": "markdown",
   "metadata": {},
   "source": [
    "## Data Manipulation"
   ]
  },
  {
   "cell_type": "code",
   "execution_count": 4,
   "metadata": {
    "ExecuteTime": {
     "end_time": "2021-08-04T15:13:42.611767Z",
     "start_time": "2021-08-04T15:13:42.594708Z"
    }
   },
   "outputs": [],
   "source": [
    "df = pd.read_csv('data/syrialtel_cleaned_data.csv')"
   ]
  },
  {
   "cell_type": "code",
   "execution_count": 5,
   "metadata": {
    "ExecuteTime": {
     "end_time": "2021-08-04T15:13:42.640353Z",
     "start_time": "2021-08-04T15:13:42.613986Z"
    }
   },
   "outputs": [
    {
     "data": {
      "text/html": [
       "<div>\n",
       "<style scoped>\n",
       "    .dataframe tbody tr th:only-of-type {\n",
       "        vertical-align: middle;\n",
       "    }\n",
       "\n",
       "    .dataframe tbody tr th {\n",
       "        vertical-align: top;\n",
       "    }\n",
       "\n",
       "    .dataframe thead th {\n",
       "        text-align: right;\n",
       "    }\n",
       "</style>\n",
       "<table border=\"1\" class=\"dataframe\">\n",
       "  <thead>\n",
       "    <tr style=\"text-align: right;\">\n",
       "      <th></th>\n",
       "      <th>state</th>\n",
       "      <th>account_length</th>\n",
       "      <th>area_code</th>\n",
       "      <th>international_plan</th>\n",
       "      <th>voice_mail_plan</th>\n",
       "      <th>number_vmail_messages</th>\n",
       "      <th>total_day_minutes</th>\n",
       "      <th>total_day_calls</th>\n",
       "      <th>total_day_charge</th>\n",
       "      <th>total_eve_minutes</th>\n",
       "      <th>...</th>\n",
       "      <th>total_calls</th>\n",
       "      <th>total_charge</th>\n",
       "      <th>charge_per_min_day</th>\n",
       "      <th>charge_per_min_eve</th>\n",
       "      <th>charge_per_min_night</th>\n",
       "      <th>charge_per_min_dom</th>\n",
       "      <th>charge_per_min_int</th>\n",
       "      <th>%_int_min</th>\n",
       "      <th>call_satisfaction</th>\n",
       "      <th>region</th>\n",
       "    </tr>\n",
       "  </thead>\n",
       "  <tbody>\n",
       "    <tr>\n",
       "      <th>0</th>\n",
       "      <td>KS</td>\n",
       "      <td>128</td>\n",
       "      <td>415</td>\n",
       "      <td>no</td>\n",
       "      <td>yes</td>\n",
       "      <td>25</td>\n",
       "      <td>265.1</td>\n",
       "      <td>110</td>\n",
       "      <td>45.07</td>\n",
       "      <td>197.4</td>\n",
       "      <td>...</td>\n",
       "      <td>303</td>\n",
       "      <td>75.56</td>\n",
       "      <td>0.409727</td>\n",
       "      <td>0.169495</td>\n",
       "      <td>0.120989</td>\n",
       "      <td>0.242867</td>\n",
       "      <td>0.900000</td>\n",
       "      <td>1.394311</td>\n",
       "      <td>0.330033</td>\n",
       "      <td>Midwest</td>\n",
       "    </tr>\n",
       "    <tr>\n",
       "      <th>1</th>\n",
       "      <td>OH</td>\n",
       "      <td>107</td>\n",
       "      <td>415</td>\n",
       "      <td>no</td>\n",
       "      <td>yes</td>\n",
       "      <td>26</td>\n",
       "      <td>161.6</td>\n",
       "      <td>123</td>\n",
       "      <td>27.47</td>\n",
       "      <td>195.5</td>\n",
       "      <td>...</td>\n",
       "      <td>332</td>\n",
       "      <td>59.24</td>\n",
       "      <td>0.223333</td>\n",
       "      <td>0.161359</td>\n",
       "      <td>0.111165</td>\n",
       "      <td>0.168815</td>\n",
       "      <td>1.233333</td>\n",
       "      <td>2.191299</td>\n",
       "      <td>0.301205</td>\n",
       "      <td>Midwest</td>\n",
       "    </tr>\n",
       "    <tr>\n",
       "      <th>2</th>\n",
       "      <td>NJ</td>\n",
       "      <td>137</td>\n",
       "      <td>415</td>\n",
       "      <td>no</td>\n",
       "      <td>no</td>\n",
       "      <td>0</td>\n",
       "      <td>243.4</td>\n",
       "      <td>114</td>\n",
       "      <td>41.38</td>\n",
       "      <td>121.2</td>\n",
       "      <td>...</td>\n",
       "      <td>333</td>\n",
       "      <td>62.29</td>\n",
       "      <td>0.362982</td>\n",
       "      <td>0.093636</td>\n",
       "      <td>0.070385</td>\n",
       "      <td>0.179878</td>\n",
       "      <td>0.658000</td>\n",
       "      <td>2.261772</td>\n",
       "      <td>0.000000</td>\n",
       "      <td>Northeast</td>\n",
       "    </tr>\n",
       "    <tr>\n",
       "      <th>3</th>\n",
       "      <td>OH</td>\n",
       "      <td>84</td>\n",
       "      <td>408</td>\n",
       "      <td>yes</td>\n",
       "      <td>no</td>\n",
       "      <td>0</td>\n",
       "      <td>299.4</td>\n",
       "      <td>71</td>\n",
       "      <td>50.90</td>\n",
       "      <td>61.9</td>\n",
       "      <td>...</td>\n",
       "      <td>255</td>\n",
       "      <td>66.80</td>\n",
       "      <td>0.716901</td>\n",
       "      <td>0.059773</td>\n",
       "      <td>0.099551</td>\n",
       "      <td>0.262177</td>\n",
       "      <td>0.254286</td>\n",
       "      <td>1.168555</td>\n",
       "      <td>0.784314</td>\n",
       "      <td>Midwest</td>\n",
       "    </tr>\n",
       "    <tr>\n",
       "      <th>4</th>\n",
       "      <td>OK</td>\n",
       "      <td>75</td>\n",
       "      <td>415</td>\n",
       "      <td>yes</td>\n",
       "      <td>no</td>\n",
       "      <td>0</td>\n",
       "      <td>166.7</td>\n",
       "      <td>113</td>\n",
       "      <td>28.34</td>\n",
       "      <td>148.3</td>\n",
       "      <td>...</td>\n",
       "      <td>359</td>\n",
       "      <td>52.09</td>\n",
       "      <td>0.250796</td>\n",
       "      <td>0.103361</td>\n",
       "      <td>0.069504</td>\n",
       "      <td>0.138652</td>\n",
       "      <td>0.910000</td>\n",
       "      <td>1.972656</td>\n",
       "      <td>0.835655</td>\n",
       "      <td>South</td>\n",
       "    </tr>\n",
       "  </tbody>\n",
       "</table>\n",
       "<p>5 rows × 34 columns</p>\n",
       "</div>"
      ],
      "text/plain": [
       "  state  account_length  area_code international_plan voice_mail_plan  \\\n",
       "0    KS             128        415                 no             yes   \n",
       "1    OH             107        415                 no             yes   \n",
       "2    NJ             137        415                 no              no   \n",
       "3    OH              84        408                yes              no   \n",
       "4    OK              75        415                yes              no   \n",
       "\n",
       "   number_vmail_messages  total_day_minutes  total_day_calls  \\\n",
       "0                     25              265.1              110   \n",
       "1                     26              161.6              123   \n",
       "2                      0              243.4              114   \n",
       "3                      0              299.4               71   \n",
       "4                      0              166.7              113   \n",
       "\n",
       "   total_day_charge  total_eve_minutes  ...  total_calls  total_charge  \\\n",
       "0             45.07              197.4  ...          303         75.56   \n",
       "1             27.47              195.5  ...          332         59.24   \n",
       "2             41.38              121.2  ...          333         62.29   \n",
       "3             50.90               61.9  ...          255         66.80   \n",
       "4             28.34              148.3  ...          359         52.09   \n",
       "\n",
       "   charge_per_min_day  charge_per_min_eve  charge_per_min_night  \\\n",
       "0            0.409727            0.169495              0.120989   \n",
       "1            0.223333            0.161359              0.111165   \n",
       "2            0.362982            0.093636              0.070385   \n",
       "3            0.716901            0.059773              0.099551   \n",
       "4            0.250796            0.103361              0.069504   \n",
       "\n",
       "   charge_per_min_dom  charge_per_min_int  %_int_min  call_satisfaction  \\\n",
       "0            0.242867            0.900000   1.394311           0.330033   \n",
       "1            0.168815            1.233333   2.191299           0.301205   \n",
       "2            0.179878            0.658000   2.261772           0.000000   \n",
       "3            0.262177            0.254286   1.168555           0.784314   \n",
       "4            0.138652            0.910000   1.972656           0.835655   \n",
       "\n",
       "      region  \n",
       "0    Midwest  \n",
       "1    Midwest  \n",
       "2  Northeast  \n",
       "3    Midwest  \n",
       "4      South  \n",
       "\n",
       "[5 rows x 34 columns]"
      ]
     },
     "execution_count": 5,
     "metadata": {},
     "output_type": "execute_result"
    }
   ],
   "source": [
    "df.head()"
   ]
  },
  {
   "cell_type": "markdown",
   "metadata": {},
   "source": [
    "The data is split to a train and test data"
   ]
  },
  {
   "cell_type": "code",
   "execution_count": 6,
   "metadata": {
    "ExecuteTime": {
     "end_time": "2021-08-04T15:13:42.650318Z",
     "start_time": "2021-08-04T15:13:42.641905Z"
    }
   },
   "outputs": [],
   "source": [
    "#seperating the target and data\n",
    "X = df.drop('churn', axis=1)\n",
    "y = df['churn']\n",
    "\n",
    "#creating a training and testing set\n",
    "X_train, X_test, y_train, y_test = train_test_split(X, y, test_size=0.3, random_state=42)"
   ]
  },
  {
   "cell_type": "markdown",
   "metadata": {},
   "source": [
    "## Splitting the data between categorical and continuous"
   ]
  },
  {
   "cell_type": "code",
   "execution_count": 7,
   "metadata": {
    "ExecuteTime": {
     "end_time": "2021-08-04T15:13:42.658669Z",
     "start_time": "2021-08-04T15:13:42.652502Z"
    }
   },
   "outputs": [],
   "source": [
    "categorical = ['state','area_code', 'international_plan', 'voice_mail_plan', 'region']\n",
    "df_cat = X_train[categorical]\n",
    "df_cont = X_train.drop(categorical,axis = 1)"
   ]
  },
  {
   "cell_type": "code",
   "execution_count": 8,
   "metadata": {
    "ExecuteTime": {
     "end_time": "2021-08-04T15:13:42.699871Z",
     "start_time": "2021-08-04T15:13:42.660387Z"
    },
    "scrolled": true
   },
   "outputs": [
    {
     "data": {
      "text/html": [
       "<div>\n",
       "<style scoped>\n",
       "    .dataframe tbody tr th:only-of-type {\n",
       "        vertical-align: middle;\n",
       "    }\n",
       "\n",
       "    .dataframe tbody tr th {\n",
       "        vertical-align: top;\n",
       "    }\n",
       "\n",
       "    .dataframe thead th {\n",
       "        text-align: right;\n",
       "    }\n",
       "</style>\n",
       "<table border=\"1\" class=\"dataframe\">\n",
       "  <thead>\n",
       "    <tr style=\"text-align: right;\">\n",
       "      <th></th>\n",
       "      <th>account_length</th>\n",
       "      <th>number_vmail_messages</th>\n",
       "      <th>total_day_minutes</th>\n",
       "      <th>total_day_calls</th>\n",
       "      <th>total_day_charge</th>\n",
       "      <th>total_eve_minutes</th>\n",
       "      <th>total_eve_calls</th>\n",
       "      <th>total_eve_charge</th>\n",
       "      <th>total_night_minutes</th>\n",
       "      <th>total_night_calls</th>\n",
       "      <th>...</th>\n",
       "      <th>total_minutes</th>\n",
       "      <th>total_calls</th>\n",
       "      <th>total_charge</th>\n",
       "      <th>charge_per_min_day</th>\n",
       "      <th>charge_per_min_eve</th>\n",
       "      <th>charge_per_min_night</th>\n",
       "      <th>charge_per_min_dom</th>\n",
       "      <th>charge_per_min_int</th>\n",
       "      <th>%_int_min</th>\n",
       "      <th>call_satisfaction</th>\n",
       "    </tr>\n",
       "  </thead>\n",
       "  <tbody>\n",
       "    <tr>\n",
       "      <th>2016</th>\n",
       "      <td>80</td>\n",
       "      <td>0</td>\n",
       "      <td>202.4</td>\n",
       "      <td>118</td>\n",
       "      <td>34.41</td>\n",
       "      <td>260.2</td>\n",
       "      <td>67</td>\n",
       "      <td>22.12</td>\n",
       "      <td>177.4</td>\n",
       "      <td>112</td>\n",
       "      <td>...</td>\n",
       "      <td>649.2</td>\n",
       "      <td>302</td>\n",
       "      <td>66.99</td>\n",
       "      <td>0.291610</td>\n",
       "      <td>0.330149</td>\n",
       "      <td>0.071250</td>\n",
       "      <td>0.217205</td>\n",
       "      <td>0.496000</td>\n",
       "      <td>1.417129</td>\n",
       "      <td>0.993377</td>\n",
       "    </tr>\n",
       "    <tr>\n",
       "      <th>1362</th>\n",
       "      <td>63</td>\n",
       "      <td>0</td>\n",
       "      <td>132.9</td>\n",
       "      <td>122</td>\n",
       "      <td>22.59</td>\n",
       "      <td>67.0</td>\n",
       "      <td>62</td>\n",
       "      <td>5.70</td>\n",
       "      <td>160.4</td>\n",
       "      <td>121</td>\n",
       "      <td>...</td>\n",
       "      <td>370.2</td>\n",
       "      <td>307</td>\n",
       "      <td>38.18</td>\n",
       "      <td>0.185164</td>\n",
       "      <td>0.091935</td>\n",
       "      <td>0.059669</td>\n",
       "      <td>0.116426</td>\n",
       "      <td>1.335000</td>\n",
       "      <td>2.674230</td>\n",
       "      <td>0.977199</td>\n",
       "    </tr>\n",
       "    <tr>\n",
       "      <th>2670</th>\n",
       "      <td>116</td>\n",
       "      <td>12</td>\n",
       "      <td>221.0</td>\n",
       "      <td>108</td>\n",
       "      <td>37.57</td>\n",
       "      <td>151.0</td>\n",
       "      <td>118</td>\n",
       "      <td>12.84</td>\n",
       "      <td>179.0</td>\n",
       "      <td>80</td>\n",
       "      <td>...</td>\n",
       "      <td>560.0</td>\n",
       "      <td>312</td>\n",
       "      <td>60.90</td>\n",
       "      <td>0.347870</td>\n",
       "      <td>0.108814</td>\n",
       "      <td>0.100750</td>\n",
       "      <td>0.191078</td>\n",
       "      <td>0.405000</td>\n",
       "      <td>1.607143</td>\n",
       "      <td>0.641026</td>\n",
       "    </tr>\n",
       "    <tr>\n",
       "      <th>2210</th>\n",
       "      <td>71</td>\n",
       "      <td>0</td>\n",
       "      <td>278.9</td>\n",
       "      <td>110</td>\n",
       "      <td>47.41</td>\n",
       "      <td>190.2</td>\n",
       "      <td>67</td>\n",
       "      <td>16.17</td>\n",
       "      <td>255.2</td>\n",
       "      <td>84</td>\n",
       "      <td>...</td>\n",
       "      <td>736.0</td>\n",
       "      <td>268</td>\n",
       "      <td>78.22</td>\n",
       "      <td>0.431000</td>\n",
       "      <td>0.241343</td>\n",
       "      <td>0.136667</td>\n",
       "      <td>0.287586</td>\n",
       "      <td>0.451429</td>\n",
       "      <td>1.589674</td>\n",
       "      <td>0.000000</td>\n",
       "    </tr>\n",
       "    <tr>\n",
       "      <th>1846</th>\n",
       "      <td>120</td>\n",
       "      <td>43</td>\n",
       "      <td>177.9</td>\n",
       "      <td>117</td>\n",
       "      <td>30.24</td>\n",
       "      <td>175.1</td>\n",
       "      <td>70</td>\n",
       "      <td>14.88</td>\n",
       "      <td>161.3</td>\n",
       "      <td>117</td>\n",
       "      <td>...</td>\n",
       "      <td>525.8</td>\n",
       "      <td>308</td>\n",
       "      <td>55.49</td>\n",
       "      <td>0.258462</td>\n",
       "      <td>0.212571</td>\n",
       "      <td>0.062051</td>\n",
       "      <td>0.172303</td>\n",
       "      <td>0.777500</td>\n",
       "      <td>2.187143</td>\n",
       "      <td>0.324675</td>\n",
       "    </tr>\n",
       "    <tr>\n",
       "      <th>...</th>\n",
       "      <td>...</td>\n",
       "      <td>...</td>\n",
       "      <td>...</td>\n",
       "      <td>...</td>\n",
       "      <td>...</td>\n",
       "      <td>...</td>\n",
       "      <td>...</td>\n",
       "      <td>...</td>\n",
       "      <td>...</td>\n",
       "      <td>...</td>\n",
       "      <td>...</td>\n",
       "      <td>...</td>\n",
       "      <td>...</td>\n",
       "      <td>...</td>\n",
       "      <td>...</td>\n",
       "      <td>...</td>\n",
       "      <td>...</td>\n",
       "      <td>...</td>\n",
       "      <td>...</td>\n",
       "      <td>...</td>\n",
       "      <td>...</td>\n",
       "    </tr>\n",
       "    <tr>\n",
       "      <th>1095</th>\n",
       "      <td>106</td>\n",
       "      <td>0</td>\n",
       "      <td>274.4</td>\n",
       "      <td>120</td>\n",
       "      <td>46.65</td>\n",
       "      <td>198.6</td>\n",
       "      <td>82</td>\n",
       "      <td>16.88</td>\n",
       "      <td>160.8</td>\n",
       "      <td>62</td>\n",
       "      <td>...</td>\n",
       "      <td>639.8</td>\n",
       "      <td>267</td>\n",
       "      <td>72.39</td>\n",
       "      <td>0.388750</td>\n",
       "      <td>0.205854</td>\n",
       "      <td>0.116774</td>\n",
       "      <td>0.268068</td>\n",
       "      <td>0.540000</td>\n",
       "      <td>0.937793</td>\n",
       "      <td>0.374532</td>\n",
       "    </tr>\n",
       "    <tr>\n",
       "      <th>1130</th>\n",
       "      <td>122</td>\n",
       "      <td>0</td>\n",
       "      <td>35.1</td>\n",
       "      <td>62</td>\n",
       "      <td>5.97</td>\n",
       "      <td>180.8</td>\n",
       "      <td>89</td>\n",
       "      <td>15.37</td>\n",
       "      <td>251.6</td>\n",
       "      <td>58</td>\n",
       "      <td>...</td>\n",
       "      <td>480.2</td>\n",
       "      <td>211</td>\n",
       "      <td>36.09</td>\n",
       "      <td>0.096290</td>\n",
       "      <td>0.172697</td>\n",
       "      <td>0.195172</td>\n",
       "      <td>0.156268</td>\n",
       "      <td>1.715000</td>\n",
       "      <td>2.644731</td>\n",
       "      <td>0.473934</td>\n",
       "    </tr>\n",
       "    <tr>\n",
       "      <th>1294</th>\n",
       "      <td>66</td>\n",
       "      <td>0</td>\n",
       "      <td>87.6</td>\n",
       "      <td>76</td>\n",
       "      <td>14.89</td>\n",
       "      <td>262.0</td>\n",
       "      <td>111</td>\n",
       "      <td>22.27</td>\n",
       "      <td>184.6</td>\n",
       "      <td>125</td>\n",
       "      <td>...</td>\n",
       "      <td>543.4</td>\n",
       "      <td>317</td>\n",
       "      <td>47.95</td>\n",
       "      <td>0.195921</td>\n",
       "      <td>0.200631</td>\n",
       "      <td>0.066480</td>\n",
       "      <td>0.145737</td>\n",
       "      <td>0.496000</td>\n",
       "      <td>1.693044</td>\n",
       "      <td>0.315457</td>\n",
       "    </tr>\n",
       "    <tr>\n",
       "      <th>860</th>\n",
       "      <td>169</td>\n",
       "      <td>0</td>\n",
       "      <td>179.2</td>\n",
       "      <td>111</td>\n",
       "      <td>30.46</td>\n",
       "      <td>175.2</td>\n",
       "      <td>130</td>\n",
       "      <td>14.89</td>\n",
       "      <td>228.6</td>\n",
       "      <td>92</td>\n",
       "      <td>...</td>\n",
       "      <td>592.9</td>\n",
       "      <td>339</td>\n",
       "      <td>58.31</td>\n",
       "      <td>0.274414</td>\n",
       "      <td>0.114538</td>\n",
       "      <td>0.111848</td>\n",
       "      <td>0.167087</td>\n",
       "      <td>0.445000</td>\n",
       "      <td>1.669759</td>\n",
       "      <td>0.589971</td>\n",
       "    </tr>\n",
       "    <tr>\n",
       "      <th>3174</th>\n",
       "      <td>36</td>\n",
       "      <td>43</td>\n",
       "      <td>29.9</td>\n",
       "      <td>123</td>\n",
       "      <td>5.08</td>\n",
       "      <td>129.1</td>\n",
       "      <td>117</td>\n",
       "      <td>10.97</td>\n",
       "      <td>325.9</td>\n",
       "      <td>105</td>\n",
       "      <td>...</td>\n",
       "      <td>493.5</td>\n",
       "      <td>351</td>\n",
       "      <td>33.04</td>\n",
       "      <td>0.041301</td>\n",
       "      <td>0.093761</td>\n",
       "      <td>0.139714</td>\n",
       "      <td>0.089043</td>\n",
       "      <td>0.386667</td>\n",
       "      <td>1.742655</td>\n",
       "      <td>0.569801</td>\n",
       "    </tr>\n",
       "  </tbody>\n",
       "</table>\n",
       "<p>2333 rows × 28 columns</p>\n",
       "</div>"
      ],
      "text/plain": [
       "      account_length  number_vmail_messages  total_day_minutes  \\\n",
       "2016              80                      0              202.4   \n",
       "1362              63                      0              132.9   \n",
       "2670             116                     12              221.0   \n",
       "2210              71                      0              278.9   \n",
       "1846             120                     43              177.9   \n",
       "...              ...                    ...                ...   \n",
       "1095             106                      0              274.4   \n",
       "1130             122                      0               35.1   \n",
       "1294              66                      0               87.6   \n",
       "860              169                      0              179.2   \n",
       "3174              36                     43               29.9   \n",
       "\n",
       "      total_day_calls  total_day_charge  total_eve_minutes  total_eve_calls  \\\n",
       "2016              118             34.41              260.2               67   \n",
       "1362              122             22.59               67.0               62   \n",
       "2670              108             37.57              151.0              118   \n",
       "2210              110             47.41              190.2               67   \n",
       "1846              117             30.24              175.1               70   \n",
       "...               ...               ...                ...              ...   \n",
       "1095              120             46.65              198.6               82   \n",
       "1130               62              5.97              180.8               89   \n",
       "1294               76             14.89              262.0              111   \n",
       "860               111             30.46              175.2              130   \n",
       "3174              123              5.08              129.1              117   \n",
       "\n",
       "      total_eve_charge  total_night_minutes  total_night_calls  ...  \\\n",
       "2016             22.12                177.4                112  ...   \n",
       "1362              5.70                160.4                121  ...   \n",
       "2670             12.84                179.0                 80  ...   \n",
       "2210             16.17                255.2                 84  ...   \n",
       "1846             14.88                161.3                117  ...   \n",
       "...                ...                  ...                ...  ...   \n",
       "1095             16.88                160.8                 62  ...   \n",
       "1130             15.37                251.6                 58  ...   \n",
       "1294             22.27                184.6                125  ...   \n",
       "860              14.89                228.6                 92  ...   \n",
       "3174             10.97                325.9                105  ...   \n",
       "\n",
       "      total_minutes  total_calls  total_charge  charge_per_min_day  \\\n",
       "2016          649.2          302         66.99            0.291610   \n",
       "1362          370.2          307         38.18            0.185164   \n",
       "2670          560.0          312         60.90            0.347870   \n",
       "2210          736.0          268         78.22            0.431000   \n",
       "1846          525.8          308         55.49            0.258462   \n",
       "...             ...          ...           ...                 ...   \n",
       "1095          639.8          267         72.39            0.388750   \n",
       "1130          480.2          211         36.09            0.096290   \n",
       "1294          543.4          317         47.95            0.195921   \n",
       "860           592.9          339         58.31            0.274414   \n",
       "3174          493.5          351         33.04            0.041301   \n",
       "\n",
       "      charge_per_min_eve  charge_per_min_night  charge_per_min_dom  \\\n",
       "2016            0.330149              0.071250            0.217205   \n",
       "1362            0.091935              0.059669            0.116426   \n",
       "2670            0.108814              0.100750            0.191078   \n",
       "2210            0.241343              0.136667            0.287586   \n",
       "1846            0.212571              0.062051            0.172303   \n",
       "...                  ...                   ...                 ...   \n",
       "1095            0.205854              0.116774            0.268068   \n",
       "1130            0.172697              0.195172            0.156268   \n",
       "1294            0.200631              0.066480            0.145737   \n",
       "860             0.114538              0.111848            0.167087   \n",
       "3174            0.093761              0.139714            0.089043   \n",
       "\n",
       "      charge_per_min_int  %_int_min  call_satisfaction  \n",
       "2016            0.496000   1.417129           0.993377  \n",
       "1362            1.335000   2.674230           0.977199  \n",
       "2670            0.405000   1.607143           0.641026  \n",
       "2210            0.451429   1.589674           0.000000  \n",
       "1846            0.777500   2.187143           0.324675  \n",
       "...                  ...        ...                ...  \n",
       "1095            0.540000   0.937793           0.374532  \n",
       "1130            1.715000   2.644731           0.473934  \n",
       "1294            0.496000   1.693044           0.315457  \n",
       "860             0.445000   1.669759           0.589971  \n",
       "3174            0.386667   1.742655           0.569801  \n",
       "\n",
       "[2333 rows x 28 columns]"
      ]
     },
     "execution_count": 8,
     "metadata": {},
     "output_type": "execute_result"
    }
   ],
   "source": [
    "df_cont"
   ]
  },
  {
   "cell_type": "code",
   "execution_count": 9,
   "metadata": {
    "ExecuteTime": {
     "end_time": "2021-08-04T15:13:42.706102Z",
     "start_time": "2021-08-04T15:13:42.703309Z"
    }
   },
   "outputs": [],
   "source": [
    "#splitting the numericals and categoricals\n",
    "X_num = df_cont.columns\n",
    "X_cat = df_cat.columns"
   ]
  },
  {
   "cell_type": "code",
   "execution_count": 10,
   "metadata": {
    "ExecuteTime": {
     "end_time": "2021-08-04T15:13:42.711613Z",
     "start_time": "2021-08-04T15:13:42.708299Z"
    }
   },
   "outputs": [
    {
     "data": {
      "text/plain": [
       "Index(['account_length', 'number_vmail_messages', 'total_day_minutes',\n",
       "       'total_day_calls', 'total_day_charge', 'total_eve_minutes',\n",
       "       'total_eve_calls', 'total_eve_charge', 'total_night_minutes',\n",
       "       'total_night_calls', 'total_night_charge', 'total_intl_minutes',\n",
       "       'total_intl_calls', 'total_intl_charge', 'customer_service_calls',\n",
       "       'total_minutes_dom', 'total_calls_dom', 'total_charge_dom',\n",
       "       'total_minutes', 'total_calls', 'total_charge', 'charge_per_min_day',\n",
       "       'charge_per_min_eve', 'charge_per_min_night', 'charge_per_min_dom',\n",
       "       'charge_per_min_int', '%_int_min', 'call_satisfaction'],\n",
       "      dtype='object')"
      ]
     },
     "execution_count": 10,
     "metadata": {},
     "output_type": "execute_result"
    }
   ],
   "source": [
    "X_num"
   ]
  },
  {
   "cell_type": "markdown",
   "metadata": {},
   "source": [
    "## Pipeline"
   ]
  },
  {
   "cell_type": "code",
   "execution_count": 9,
   "metadata": {
    "ExecuteTime": {
     "end_time": "2021-08-03T21:31:46.795577Z",
     "start_time": "2021-08-03T21:31:46.792161Z"
    }
   },
   "outputs": [],
   "source": [
    "#preprocessing\n",
    "numTrans = Pipeline(steps=[\n",
    "    ('scaler', StandardScaler())\n",
    "    ])\n",
    "catTrans = Pipeline(steps=[\n",
    "    ('ohe', OneHotEncoder(drop='first',\n",
    "                          sparse=False))\n",
    "    ])\n",
    "\n",
    "pp = ColumnTransformer(transformers=[\n",
    "    ('num', numTrans, X_num),\n",
    "    ('cat', catTrans, X_cat)\n",
    "    ])"
   ]
  },
  {
   "cell_type": "code",
   "execution_count": 10,
   "metadata": {
    "ExecuteTime": {
     "end_time": "2021-08-03T21:31:46.825768Z",
     "start_time": "2021-08-03T21:31:46.796989Z"
    }
   },
   "outputs": [],
   "source": [
    "X_train_scaled = pp.fit_transform(X_train)\n",
    "X_test_scaled = pp.transform(X_test)"
   ]
  },
  {
   "cell_type": "code",
   "execution_count": 11,
   "metadata": {
    "ExecuteTime": {
     "end_time": "2021-08-03T21:31:46.832327Z",
     "start_time": "2021-08-03T21:31:46.828624Z"
    }
   },
   "outputs": [],
   "source": [
    "cat_names = pp.transformers_[1][1].named_steps['ohe'].get_feature_names(X_cat).tolist()\n",
    "feature_names= list(X_num) + cat_names"
   ]
  },
  {
   "cell_type": "code",
   "execution_count": 12,
   "metadata": {
    "ExecuteTime": {
     "end_time": "2021-08-03T21:31:46.838139Z",
     "start_time": "2021-08-03T21:31:46.834857Z"
    }
   },
   "outputs": [],
   "source": [
    "X_train_scaled = pd.DataFrame(X_train_scaled, columns = feature_names)\n",
    "X_test_scaled = pd.DataFrame(X_test_scaled, columns=feature_names)"
   ]
  },
  {
   "cell_type": "markdown",
   "metadata": {},
   "source": [
    "## Model 1: Baseline Log Regression"
   ]
  },
  {
   "cell_type": "code",
   "execution_count": 13,
   "metadata": {
    "ExecuteTime": {
     "end_time": "2021-08-03T21:31:47.126453Z",
     "start_time": "2021-08-03T21:31:46.840016Z"
    }
   },
   "outputs": [
    {
     "name": "stdout",
     "output_type": "stream",
     "text": [
      "0.8636884138552169\n"
     ]
    }
   ],
   "source": [
    "logreg_baseline = LogisticRegression(random_state=42, max_iter=2000)\n",
    "\n",
    "logreg_baseline.fit(X_train_scaled, y_train)\n",
    "\n",
    "logreg_baseline_cv = cross_val_score(logreg_baseline, X_train_scaled, y_train).mean()\n",
    "print(logreg_baseline_cv)"
   ]
  },
  {
   "cell_type": "code",
   "execution_count": 14,
   "metadata": {
    "ExecuteTime": {
     "end_time": "2021-08-03T21:31:47.136354Z",
     "start_time": "2021-08-03T21:31:47.128161Z"
    }
   },
   "outputs": [
    {
     "name": "stdout",
     "output_type": "stream",
     "text": [
      "0.8769824260608658\n",
      "0.867\n"
     ]
    }
   ],
   "source": [
    "print(logreg_baseline.score(X_train_scaled, y_train))\n",
    "print(logreg_baseline.score(X_test_scaled, y_test))"
   ]
  },
  {
   "cell_type": "markdown",
   "metadata": {
    "ExecuteTime": {
     "end_time": "2021-08-03T21:22:48.539690Z",
     "start_time": "2021-08-03T21:22:48.536855Z"
    }
   },
   "source": [
    "## Model 2: K-Nearest Neighbors and Grid Search without SMOTE"
   ]
  },
  {
   "cell_type": "code",
   "execution_count": 15,
   "metadata": {
    "ExecuteTime": {
     "end_time": "2021-08-03T21:34:44.739563Z",
     "start_time": "2021-08-03T21:31:47.138042Z"
    }
   },
   "outputs": [
    {
     "data": {
      "text/plain": [
       "{'n_neighbors': 7, 'p': 1, 'weights': 'uniform'}"
      ]
     },
     "execution_count": 15,
     "metadata": {},
     "output_type": "execute_result"
    }
   ],
   "source": [
    "knn_model = KNeighborsClassifier()\n",
    "\n",
    "param_grid = {\n",
    "    'n_neighbors': list(range(1, 20, 2)),\n",
    "    'weights': ['uniform', 'distance'],\n",
    "    'p': [1, 2, 3, 4],\n",
    "}\n",
    "\n",
    "gs_knn = GridSearchCV(knn_model, param_grid=param_grid, cv=5)\n",
    "gs_knn.fit(X_train_scaled, y_train)\n",
    "\n",
    "gs_knn.best_params_"
   ]
  },
  {
   "cell_type": "code",
   "execution_count": 16,
   "metadata": {
    "ExecuteTime": {
     "end_time": "2021-08-03T21:34:45.669703Z",
     "start_time": "2021-08-03T21:34:44.741407Z"
    }
   },
   "outputs": [
    {
     "data": {
      "text/plain": [
       "0.9074153450492928"
      ]
     },
     "execution_count": 16,
     "metadata": {},
     "output_type": "execute_result"
    }
   ],
   "source": [
    "gs_knn.score(X_train_scaled, y_train)"
   ]
  },
  {
   "cell_type": "code",
   "execution_count": 17,
   "metadata": {
    "ExecuteTime": {
     "end_time": "2021-08-03T21:34:46.089753Z",
     "start_time": "2021-08-03T21:34:45.671472Z"
    }
   },
   "outputs": [
    {
     "data": {
      "text/plain": [
       "0.901"
      ]
     },
     "execution_count": 17,
     "metadata": {},
     "output_type": "execute_result"
    }
   ],
   "source": [
    "gs_knn.score(X_test_scaled, y_test)"
   ]
  },
  {
   "cell_type": "code",
   "execution_count": 18,
   "metadata": {
    "ExecuteTime": {
     "end_time": "2021-08-03T21:34:47.318697Z",
     "start_time": "2021-08-03T21:34:47.307537Z"
    }
   },
   "outputs": [],
   "source": [
    "y_train_preds = gs_knn.predict(X_train_scaled)\n",
    "y_test_preds = gs_knn.predict(X_test_scaled)"
   ]
  },
  {
   "cell_type": "code",
   "execution_count": 19,
   "metadata": {
    "ExecuteTime": {
     "end_time": "2021-08-03T21:34:47.318697Z",
     "start_time": "2021-08-03T21:34:47.307537Z"
    }
   },
   "outputs": [
    {
     "name": "stdout",
     "output_type": "stream",
     "text": [
      "              precision    recall  f1-score   support\n",
      "\n",
      "           0       0.91      1.00      0.95      1993\n",
      "           1       0.94      0.39      0.55       340\n",
      "\n",
      "    accuracy                           0.91      2333\n",
      "   macro avg       0.92      0.69      0.75      2333\n",
      "weighted avg       0.91      0.91      0.89      2333\n",
      "\n"
     ]
    }
   ],
   "source": [
    "print(classification_report(y_train, y_train_preds))"
   ]
  },
  {
   "cell_type": "code",
   "execution_count": 20,
   "metadata": {
    "ExecuteTime": {
     "end_time": "2021-08-03T21:34:47.328772Z",
     "start_time": "2021-08-03T21:34:47.321081Z"
    }
   },
   "outputs": [
    {
     "name": "stdout",
     "output_type": "stream",
     "text": [
      "              precision    recall  f1-score   support\n",
      "\n",
      "           0       0.90      1.00      0.95       857\n",
      "           1       0.96      0.32      0.48       143\n",
      "\n",
      "    accuracy                           0.90      1000\n",
      "   macro avg       0.93      0.66      0.71      1000\n",
      "weighted avg       0.91      0.90      0.88      1000\n",
      "\n"
     ]
    }
   ],
   "source": [
    "print(classification_report(y_test, y_test_preds))"
   ]
  },
  {
   "cell_type": "code",
   "execution_count": 21,
   "metadata": {
    "ExecuteTime": {
     "end_time": "2021-08-03T21:34:47.337102Z",
     "start_time": "2021-08-03T21:34:47.330858Z"
    }
   },
   "outputs": [
    {
     "name": "stdout",
     "output_type": "stream",
     "text": [
      "[[1985    8]\n",
      " [ 208  132]]\n"
     ]
    }
   ],
   "source": [
    "print(confusion_matrix(y_train, y_train_preds))"
   ]
  },
  {
   "cell_type": "code",
   "execution_count": 22,
   "metadata": {
    "ExecuteTime": {
     "end_time": "2021-08-03T21:34:47.348347Z",
     "start_time": "2021-08-03T21:34:47.342287Z"
    }
   },
   "outputs": [
    {
     "name": "stdout",
     "output_type": "stream",
     "text": [
      "[[855   2]\n",
      " [ 97  46]]\n"
     ]
    }
   ],
   "source": [
    "print(confusion_matrix(y_test, y_test_preds))"
   ]
  },
  {
   "cell_type": "markdown",
   "metadata": {},
   "source": [
    "## Model 3: K-Nearest Neighbors and Grid Search with SMOTE"
   ]
  },
  {
   "cell_type": "code",
   "execution_count": 23,
   "metadata": {
    "ExecuteTime": {
     "end_time": "2021-08-03T21:34:47.357724Z",
     "start_time": "2021-08-03T21:34:47.351106Z"
    }
   },
   "outputs": [
    {
     "data": {
      "text/plain": [
       "0.17"
      ]
     },
     "execution_count": 23,
     "metadata": {},
     "output_type": "execute_result"
    }
   ],
   "source": [
    "round(len(y_train[y_train==1])/len(y_train[y_train==0]),2)"
   ]
  },
  {
   "cell_type": "code",
   "execution_count": 24,
   "metadata": {
    "ExecuteTime": {
     "end_time": "2021-08-03T21:34:47.373756Z",
     "start_time": "2021-08-03T21:34:47.360319Z"
    }
   },
   "outputs": [
    {
     "name": "stdout",
     "output_type": "stream",
     "text": [
      "<class 'pandas.core.frame.DataFrame'>\n",
      "Int64Index: 2333 entries, 2016 to 3174\n",
      "Data columns (total 33 columns):\n",
      " #   Column                  Non-Null Count  Dtype  \n",
      "---  ------                  --------------  -----  \n",
      " 0   state                   2333 non-null   object \n",
      " 1   account_length          2333 non-null   int64  \n",
      " 2   area_code               2333 non-null   int64  \n",
      " 3   international_plan      2333 non-null   object \n",
      " 4   voice_mail_plan         2333 non-null   object \n",
      " 5   number_vmail_messages   2333 non-null   int64  \n",
      " 6   total_day_minutes       2333 non-null   float64\n",
      " 7   total_day_calls         2333 non-null   int64  \n",
      " 8   total_day_charge        2333 non-null   float64\n",
      " 9   total_eve_minutes       2333 non-null   float64\n",
      " 10  total_eve_calls         2333 non-null   int64  \n",
      " 11  total_eve_charge        2333 non-null   float64\n",
      " 12  total_night_minutes     2333 non-null   float64\n",
      " 13  total_night_calls       2333 non-null   int64  \n",
      " 14  total_night_charge      2333 non-null   float64\n",
      " 15  total_intl_minutes      2333 non-null   float64\n",
      " 16  total_intl_calls        2333 non-null   int64  \n",
      " 17  total_intl_charge       2333 non-null   float64\n",
      " 18  customer_service_calls  2333 non-null   int64  \n",
      " 19  total_minutes_dom       2333 non-null   float64\n",
      " 20  total_calls_dom         2333 non-null   int64  \n",
      " 21  total_charge_dom        2333 non-null   float64\n",
      " 22  total_minutes           2333 non-null   float64\n",
      " 23  total_calls             2333 non-null   int64  \n",
      " 24  total_charge            2333 non-null   float64\n",
      " 25  charge_per_min_day      2333 non-null   float64\n",
      " 26  charge_per_min_eve      2333 non-null   float64\n",
      " 27  charge_per_min_night    2333 non-null   float64\n",
      " 28  charge_per_min_dom      2333 non-null   float64\n",
      " 29  charge_per_min_int      2333 non-null   float64\n",
      " 30  %_int_min               2333 non-null   float64\n",
      " 31  call_satisfaction       2333 non-null   float64\n",
      " 32  region                  2333 non-null   object \n",
      "dtypes: float64(19), int64(10), object(4)\n",
      "memory usage: 619.7+ KB\n"
     ]
    }
   ],
   "source": [
    "X_train.info()"
   ]
  },
  {
   "cell_type": "code",
   "execution_count": 25,
   "metadata": {
    "ExecuteTime": {
     "end_time": "2021-08-03T21:34:47.639138Z",
     "start_time": "2021-08-03T21:34:47.376437Z"
    }
   },
   "outputs": [],
   "source": [
    "smote = SMOTENC([28, 29, 30, 31, 32, 33, 34],random_state=42, sampling_strategy=0.5)\n",
    "X_train_resampled, y_train_resampled = smote.fit_sample(X_train_scaled, y_train)"
   ]
  },
  {
   "cell_type": "code",
   "execution_count": 26,
   "metadata": {
    "ExecuteTime": {
     "end_time": "2021-08-03T21:38:54.500074Z",
     "start_time": "2021-08-03T21:34:47.640732Z"
    }
   },
   "outputs": [
    {
     "data": {
      "text/plain": [
       "{'n_neighbors': 1, 'p': 3, 'weights': 'uniform'}"
      ]
     },
     "execution_count": 26,
     "metadata": {},
     "output_type": "execute_result"
    }
   ],
   "source": [
    "knn_model = KNeighborsClassifier()\n",
    "\n",
    "param_grid = {\n",
    "    'n_neighbors': list(range(1, 20, 2)),\n",
    "    'weights': ['uniform', 'distance'],\n",
    "    'p': [1, 2, 3, 4],\n",
    "}\n",
    "\n",
    "gs_knn = GridSearchCV(knn_model, param_grid, cv=5, scoring='recall')\n",
    "gs_knn.fit(X_train_resampled, y_train_resampled)\n",
    "\n",
    "gs_knn.best_params_"
   ]
  },
  {
   "cell_type": "code",
   "execution_count": 27,
   "metadata": {
    "ExecuteTime": {
     "end_time": "2021-08-03T21:38:54.734571Z",
     "start_time": "2021-08-03T21:38:54.501709Z"
    }
   },
   "outputs": [
    {
     "data": {
      "text/plain": [
       "1.0"
      ]
     },
     "execution_count": 27,
     "metadata": {},
     "output_type": "execute_result"
    }
   ],
   "source": [
    "gs_knn.score(X_train_scaled, y_train)"
   ]
  },
  {
   "cell_type": "code",
   "execution_count": 28,
   "metadata": {
    "ExecuteTime": {
     "end_time": "2021-08-03T21:38:56.837743Z",
     "start_time": "2021-08-03T21:38:54.736145Z"
    }
   },
   "outputs": [
    {
     "data": {
      "text/plain": [
       "0.5734265734265734"
      ]
     },
     "execution_count": 28,
     "metadata": {},
     "output_type": "execute_result"
    }
   ],
   "source": [
    "gs_knn.score(X_test_scaled, y_test)"
   ]
  },
  {
   "cell_type": "code",
   "execution_count": 29,
   "metadata": {
    "ExecuteTime": {
     "end_time": "2021-08-03T21:38:59.086263Z",
     "start_time": "2021-08-03T21:38:56.839122Z"
    }
   },
   "outputs": [],
   "source": [
    "y_train_preds = gs_knn.predict(X_train_scaled)\n",
    "y_test_preds = gs_knn.predict(X_test_scaled)"
   ]
  },
  {
   "cell_type": "code",
   "execution_count": 30,
   "metadata": {
    "ExecuteTime": {
     "end_time": "2021-08-03T21:38:59.097488Z",
     "start_time": "2021-08-03T21:38:59.087520Z"
    }
   },
   "outputs": [
    {
     "name": "stdout",
     "output_type": "stream",
     "text": [
      "              precision    recall  f1-score   support\n",
      "\n",
      "           0       1.00      1.00      1.00      1993\n",
      "           1       1.00      1.00      1.00       340\n",
      "\n",
      "    accuracy                           1.00      2333\n",
      "   macro avg       1.00      1.00      1.00      2333\n",
      "weighted avg       1.00      1.00      1.00      2333\n",
      "\n"
     ]
    }
   ],
   "source": [
    "print(classification_report(y_train, y_train_preds))"
   ]
  },
  {
   "cell_type": "code",
   "execution_count": 31,
   "metadata": {
    "ExecuteTime": {
     "end_time": "2021-08-03T21:38:59.107105Z",
     "start_time": "2021-08-03T21:38:59.099154Z"
    }
   },
   "outputs": [
    {
     "name": "stdout",
     "output_type": "stream",
     "text": [
      "              precision    recall  f1-score   support\n",
      "\n",
      "           0       0.92      0.84      0.88       857\n",
      "           1       0.38      0.57      0.46       143\n",
      "\n",
      "    accuracy                           0.80      1000\n",
      "   macro avg       0.65      0.71      0.67      1000\n",
      "weighted avg       0.84      0.80      0.82      1000\n",
      "\n"
     ]
    }
   ],
   "source": [
    "print(classification_report(y_test, y_test_preds))"
   ]
  },
  {
   "cell_type": "code",
   "execution_count": null,
   "metadata": {},
   "outputs": [],
   "source": [
    "for index, i df2.iterrows():\n",
    "    "
   ]
  },
  {
   "cell_type": "code",
   "execution_count": 32,
   "metadata": {
    "ExecuteTime": {
     "end_time": "2021-08-03T21:38:59.114269Z",
     "start_time": "2021-08-03T21:38:59.108723Z"
    }
   },
   "outputs": [
    {
     "name": "stdout",
     "output_type": "stream",
     "text": [
      "[[722 135]\n",
      " [ 61  82]]\n"
     ]
    }
   ],
   "source": [
    "print(confusion_matrix(y_test, y_test_preds))"
   ]
  }
 ],
 "metadata": {
  "kernelspec": {
   "display_name": "Python (learn-env)",
   "language": "python",
   "name": "learn-env"
  },
  "language_info": {
   "codemirror_mode": {
    "name": "ipython",
    "version": 3
   },
   "file_extension": ".py",
   "mimetype": "text/x-python",
   "name": "python",
   "nbconvert_exporter": "python",
   "pygments_lexer": "ipython3",
   "version": "3.8.5"
  }
 },
 "nbformat": 4,
 "nbformat_minor": 4
}
