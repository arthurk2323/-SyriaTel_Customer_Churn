{
 "cells": [
  {
   "cell_type": "code",
   "execution_count": 303,
   "id": "274183c0",

   "metadata": {
    "ExecuteTime": {
     "end_time": "2021-08-03T14:39:21.431106Z",
     "start_time": "2021-08-03T14:39:21.425169Z"
    }
   },
   "outputs": [],
   "source": [
    "import pandas as pd\n",
    "import seaborn as sns\n",
    "import folium\n",
    "import plotly.graph_objects as go\n",
    "import matplotlib.pyplot as plt\n",
    "from sklearn.metrics import accuracy_score, precision_score, recall_score, log_loss\n",
    "from sklearn.model_selection import train_test_split,GridSearchCV\n",
    "from sklearn.preprocessing import OneHotEncoder, StandardScaler, PolynomialFeatures\n",
    "from sklearn.ensemble import RandomForestClassifier\n",
    "from sklearn.pipeline import Pipeline\n",
    "from sklearn.compose import ColumnTransformer\n",
    "from sklearn.svm import LinearSVC"
   ]
  },
  {
   "cell_type": "code",

   "execution_count": 304,
   "id": "b24be6ea",

   "metadata": {
    "ExecuteTime": {
     "end_time": "2021-08-03T14:39:27.418023Z",
     "start_time": "2021-08-03T14:39:27.370922Z"
    }
   },
   "outputs": [],
   "source": [
    "df= pd.read_csv(\"data/syriatel_customer_churn.csv\")"
   ]
  },
  {
   "cell_type": "code",

   "execution_count": 305,
   "id": "1efa8cfe",

   "metadata": {
    "ExecuteTime": {
     "end_time": "2021-08-03T14:39:27.618646Z",
     "start_time": "2021-08-03T14:39:27.574353Z"
    }
   },
   "outputs": [
    {
     "data": {
      "text/html": [
       "<div>\n",
       "<style scoped>\n",
       "    .dataframe tbody tr th:only-of-type {\n",
       "        vertical-align: middle;\n",
       "    }\n",
       "\n",
       "    .dataframe tbody tr th {\n",
       "        vertical-align: top;\n",
       "    }\n",
       "\n",
       "    .dataframe thead th {\n",
       "        text-align: right;\n",
       "    }\n",
       "</style>\n",
       "<table border=\"1\" class=\"dataframe\">\n",
       "  <thead>\n",
       "    <tr style=\"text-align: right;\">\n",
       "      <th></th>\n",
       "      <th>state</th>\n",
       "      <th>account length</th>\n",
       "      <th>area code</th>\n",
       "      <th>phone number</th>\n",
       "      <th>international plan</th>\n",
       "      <th>voice mail plan</th>\n",
       "      <th>number vmail messages</th>\n",
       "      <th>total day minutes</th>\n",
       "      <th>total day calls</th>\n",
       "      <th>total day charge</th>\n",
       "      <th>...</th>\n",
       "      <th>total eve calls</th>\n",
       "      <th>total eve charge</th>\n",
       "      <th>total night minutes</th>\n",
       "      <th>total night calls</th>\n",
       "      <th>total night charge</th>\n",
       "      <th>total intl minutes</th>\n",
       "      <th>total intl calls</th>\n",
       "      <th>total intl charge</th>\n",
       "      <th>customer service calls</th>\n",
       "      <th>churn</th>\n",
       "    </tr>\n",
       "  </thead>\n",
       "  <tbody>\n",
       "    <tr>\n",
       "      <th>0</th>\n",
       "      <td>KS</td>\n",
       "      <td>128</td>\n",
       "      <td>415</td>\n",
       "      <td>382-4657</td>\n",
       "      <td>no</td>\n",
       "      <td>yes</td>\n",
       "      <td>25</td>\n",
       "      <td>265.1</td>\n",
       "      <td>110</td>\n",
       "      <td>45.07</td>\n",
       "      <td>...</td>\n",
       "      <td>99</td>\n",
       "      <td>16.78</td>\n",
       "      <td>244.7</td>\n",
       "      <td>91</td>\n",
       "      <td>11.01</td>\n",
       "      <td>10.0</td>\n",
       "      <td>3</td>\n",
       "      <td>2.70</td>\n",
       "      <td>1</td>\n",
       "      <td>False</td>\n",
       "    </tr>\n",
       "    <tr>\n",
       "      <th>1</th>\n",
       "      <td>OH</td>\n",
       "      <td>107</td>\n",
       "      <td>415</td>\n",
       "      <td>371-7191</td>\n",
       "      <td>no</td>\n",
       "      <td>yes</td>\n",
       "      <td>26</td>\n",
       "      <td>161.6</td>\n",
       "      <td>123</td>\n",
       "      <td>27.47</td>\n",
       "      <td>...</td>\n",
       "      <td>103</td>\n",
       "      <td>16.62</td>\n",
       "      <td>254.4</td>\n",
       "      <td>103</td>\n",
       "      <td>11.45</td>\n",
       "      <td>13.7</td>\n",
       "      <td>3</td>\n",
       "      <td>3.70</td>\n",
       "      <td>1</td>\n",
       "      <td>False</td>\n",
       "    </tr>\n",
       "    <tr>\n",
       "      <th>2</th>\n",
       "      <td>NJ</td>\n",
       "      <td>137</td>\n",
       "      <td>415</td>\n",
       "      <td>358-1921</td>\n",
       "      <td>no</td>\n",
       "      <td>no</td>\n",
       "      <td>0</td>\n",
       "      <td>243.4</td>\n",
       "      <td>114</td>\n",
       "      <td>41.38</td>\n",
       "      <td>...</td>\n",
       "      <td>110</td>\n",
       "      <td>10.30</td>\n",
       "      <td>162.6</td>\n",
       "      <td>104</td>\n",
       "      <td>7.32</td>\n",
       "      <td>12.2</td>\n",
       "      <td>5</td>\n",
       "      <td>3.29</td>\n",
       "      <td>0</td>\n",
       "      <td>False</td>\n",
       "    </tr>\n",
       "    <tr>\n",
       "      <th>3</th>\n",
       "      <td>OH</td>\n",
       "      <td>84</td>\n",
       "      <td>408</td>\n",
       "      <td>375-9999</td>\n",
       "      <td>yes</td>\n",
       "      <td>no</td>\n",
       "      <td>0</td>\n",
       "      <td>299.4</td>\n",
       "      <td>71</td>\n",
       "      <td>50.90</td>\n",
       "      <td>...</td>\n",
       "      <td>88</td>\n",
       "      <td>5.26</td>\n",
       "      <td>196.9</td>\n",
       "      <td>89</td>\n",
       "      <td>8.86</td>\n",
       "      <td>6.6</td>\n",
       "      <td>7</td>\n",
       "      <td>1.78</td>\n",
       "      <td>2</td>\n",
       "      <td>False</td>\n",
       "    </tr>\n",
       "    <tr>\n",
       "      <th>4</th>\n",
       "      <td>OK</td>\n",
       "      <td>75</td>\n",
       "      <td>415</td>\n",
       "      <td>330-6626</td>\n",
       "      <td>yes</td>\n",
       "      <td>no</td>\n",
       "      <td>0</td>\n",
       "      <td>166.7</td>\n",
       "      <td>113</td>\n",
       "      <td>28.34</td>\n",
       "      <td>...</td>\n",
       "      <td>122</td>\n",
       "      <td>12.61</td>\n",
       "      <td>186.9</td>\n",
       "      <td>121</td>\n",
       "      <td>8.41</td>\n",
       "      <td>10.1</td>\n",
       "      <td>3</td>\n",
       "      <td>2.73</td>\n",
       "      <td>3</td>\n",
       "      <td>False</td>\n",
       "    </tr>\n",
       "    <tr>\n",
       "      <th>...</th>\n",
       "      <td>...</td>\n",
       "      <td>...</td>\n",
       "      <td>...</td>\n",
       "      <td>...</td>\n",
       "      <td>...</td>\n",
       "      <td>...</td>\n",
       "      <td>...</td>\n",
       "      <td>...</td>\n",
       "      <td>...</td>\n",
       "      <td>...</td>\n",
       "      <td>...</td>\n",
       "      <td>...</td>\n",
       "      <td>...</td>\n",
       "      <td>...</td>\n",
       "      <td>...</td>\n",
       "      <td>...</td>\n",
       "      <td>...</td>\n",
       "      <td>...</td>\n",
       "      <td>...</td>\n",
       "      <td>...</td>\n",
       "      <td>...</td>\n",
       "    </tr>\n",
       "    <tr>\n",
       "      <th>3328</th>\n",
       "      <td>AZ</td>\n",
       "      <td>192</td>\n",
       "      <td>415</td>\n",
       "      <td>414-4276</td>\n",
       "      <td>no</td>\n",
       "      <td>yes</td>\n",
       "      <td>36</td>\n",
       "      <td>156.2</td>\n",
       "      <td>77</td>\n",
       "      <td>26.55</td>\n",
       "      <td>...</td>\n",
       "      <td>126</td>\n",
       "      <td>18.32</td>\n",
       "      <td>279.1</td>\n",
       "      <td>83</td>\n",
       "      <td>12.56</td>\n",
       "      <td>9.9</td>\n",
       "      <td>6</td>\n",
       "      <td>2.67</td>\n",
       "      <td>2</td>\n",
       "      <td>False</td>\n",
       "    </tr>\n",
       "    <tr>\n",
       "      <th>3329</th>\n",
       "      <td>WV</td>\n",
       "      <td>68</td>\n",
       "      <td>415</td>\n",
       "      <td>370-3271</td>\n",
       "      <td>no</td>\n",
       "      <td>no</td>\n",
       "      <td>0</td>\n",
       "      <td>231.1</td>\n",
       "      <td>57</td>\n",
       "      <td>39.29</td>\n",
       "      <td>...</td>\n",
       "      <td>55</td>\n",
       "      <td>13.04</td>\n",
       "      <td>191.3</td>\n",
       "      <td>123</td>\n",
       "      <td>8.61</td>\n",
       "      <td>9.6</td>\n",
       "      <td>4</td>\n",
       "      <td>2.59</td>\n",
       "      <td>3</td>\n",
       "      <td>False</td>\n",
       "    </tr>\n",
       "    <tr>\n",
       "      <th>3330</th>\n",
       "      <td>RI</td>\n",
       "      <td>28</td>\n",
       "      <td>510</td>\n",
       "      <td>328-8230</td>\n",
       "      <td>no</td>\n",
       "      <td>no</td>\n",
       "      <td>0</td>\n",
       "      <td>180.8</td>\n",
       "      <td>109</td>\n",
       "      <td>30.74</td>\n",
       "      <td>...</td>\n",
       "      <td>58</td>\n",
       "      <td>24.55</td>\n",
       "      <td>191.9</td>\n",
       "      <td>91</td>\n",
       "      <td>8.64</td>\n",
       "      <td>14.1</td>\n",
       "      <td>6</td>\n",
       "      <td>3.81</td>\n",
       "      <td>2</td>\n",
       "      <td>False</td>\n",
       "    </tr>\n",
       "    <tr>\n",
       "      <th>3331</th>\n",
       "      <td>CT</td>\n",
       "      <td>184</td>\n",
       "      <td>510</td>\n",
       "      <td>364-6381</td>\n",
       "      <td>yes</td>\n",
       "      <td>no</td>\n",
       "      <td>0</td>\n",
       "      <td>213.8</td>\n",
       "      <td>105</td>\n",
       "      <td>36.35</td>\n",
       "      <td>...</td>\n",
       "      <td>84</td>\n",
       "      <td>13.57</td>\n",
       "      <td>139.2</td>\n",
       "      <td>137</td>\n",
       "      <td>6.26</td>\n",
       "      <td>5.0</td>\n",
       "      <td>10</td>\n",
       "      <td>1.35</td>\n",
       "      <td>2</td>\n",
       "      <td>False</td>\n",
       "    </tr>\n",
       "    <tr>\n",
       "      <th>3332</th>\n",
       "      <td>TN</td>\n",
       "      <td>74</td>\n",
       "      <td>415</td>\n",
       "      <td>400-4344</td>\n",
       "      <td>no</td>\n",
       "      <td>yes</td>\n",
       "      <td>25</td>\n",
       "      <td>234.4</td>\n",
       "      <td>113</td>\n",
       "      <td>39.85</td>\n",
       "      <td>...</td>\n",
       "      <td>82</td>\n",
       "      <td>22.60</td>\n",
       "      <td>241.4</td>\n",
       "      <td>77</td>\n",
       "      <td>10.86</td>\n",
       "      <td>13.7</td>\n",
       "      <td>4</td>\n",
       "      <td>3.70</td>\n",
       "      <td>0</td>\n",
       "      <td>False</td>\n",
       "    </tr>\n",
       "  </tbody>\n",
       "</table>\n",
       "<p>3333 rows × 21 columns</p>\n",
       "</div>"
      ],
      "text/plain": [
       "     state  account length  area code phone number international plan  \\\n",
       "0       KS             128        415     382-4657                 no   \n",
       "1       OH             107        415     371-7191                 no   \n",
       "2       NJ             137        415     358-1921                 no   \n",
       "3       OH              84        408     375-9999                yes   \n",
       "4       OK              75        415     330-6626                yes   \n",
       "...    ...             ...        ...          ...                ...   \n",
       "3328    AZ             192        415     414-4276                 no   \n",
       "3329    WV              68        415     370-3271                 no   \n",
       "3330    RI              28        510     328-8230                 no   \n",
       "3331    CT             184        510     364-6381                yes   \n",
       "3332    TN              74        415     400-4344                 no   \n",
       "\n",
       "     voice mail plan  number vmail messages  total day minutes  \\\n",
       "0                yes                     25              265.1   \n",
       "1                yes                     26              161.6   \n",
       "2                 no                      0              243.4   \n",
       "3                 no                      0              299.4   \n",
       "4                 no                      0              166.7   \n",
       "...              ...                    ...                ...   \n",
       "3328             yes                     36              156.2   \n",
       "3329              no                      0              231.1   \n",
       "3330              no                      0              180.8   \n",
       "3331              no                      0              213.8   \n",
       "3332             yes                     25              234.4   \n",
       "\n",
       "      total day calls  total day charge  ...  total eve calls  \\\n",
       "0                 110             45.07  ...               99   \n",
       "1                 123             27.47  ...              103   \n",
       "2                 114             41.38  ...              110   \n",
       "3                  71             50.90  ...               88   \n",
       "4                 113             28.34  ...              122   \n",
       "...               ...               ...  ...              ...   \n",
       "3328               77             26.55  ...              126   \n",
       "3329               57             39.29  ...               55   \n",
       "3330              109             30.74  ...               58   \n",
       "3331              105             36.35  ...               84   \n",
       "3332              113             39.85  ...               82   \n",
       "\n",
       "      total eve charge  total night minutes  total night calls  \\\n",
       "0                16.78                244.7                 91   \n",
       "1                16.62                254.4                103   \n",
       "2                10.30                162.6                104   \n",
       "3                 5.26                196.9                 89   \n",
       "4                12.61                186.9                121   \n",
       "...                ...                  ...                ...   \n",
       "3328             18.32                279.1                 83   \n",
       "3329             13.04                191.3                123   \n",
       "3330             24.55                191.9                 91   \n",
       "3331             13.57                139.2                137   \n",
       "3332             22.60                241.4                 77   \n",
       "\n",
       "      total night charge  total intl minutes  total intl calls  \\\n",
       "0                  11.01                10.0                 3   \n",
       "1                  11.45                13.7                 3   \n",
       "2                   7.32                12.2                 5   \n",
       "3                   8.86                 6.6                 7   \n",
       "4                   8.41                10.1                 3   \n",
       "...                  ...                 ...               ...   \n",
       "3328               12.56                 9.9                 6   \n",
       "3329                8.61                 9.6                 4   \n",
       "3330                8.64                14.1                 6   \n",
       "3331                6.26                 5.0                10   \n",
       "3332               10.86                13.7                 4   \n",
       "\n",
       "      total intl charge  customer service calls  churn  \n",
       "0                  2.70                       1  False  \n",
       "1                  3.70                       1  False  \n",
       "2                  3.29                       0  False  \n",
       "3                  1.78                       2  False  \n",
       "4                  2.73                       3  False  \n",
       "...                 ...                     ...    ...  \n",
       "3328               2.67                       2  False  \n",
       "3329               2.59                       3  False  \n",
       "3330               3.81                       2  False  \n",
       "3331               1.35                       2  False  \n",
       "3332               3.70                       0  False  \n",
       "\n",
       "[3333 rows x 21 columns]"
      ]
     },
     "execution_count": 305,
     "metadata": {},
     "output_type": "execute_result"
    }
   ],
   "source": [
    "df"
   ]
  },
  {
   "cell_type": "code",

   "execution_count": 306,
   "id": "5d608da8",

   "metadata": {
    "ExecuteTime": {
     "end_time": "2021-08-03T14:39:27.762669Z",
     "start_time": "2021-08-03T14:39:27.754787Z"
    }
   },
   "outputs": [],
   "source": [
    "#cleaning of the col names\n",
    "df.columns = df.columns.str.replace(' ', \"_\")\n",
    "        "
   ]
  },
  {
   "cell_type": "code",

   "execution_count": 307,
   "id": "2fa46283",

   "metadata": {
    "ExecuteTime": {
     "end_time": "2021-08-03T14:39:27.957568Z",
     "start_time": "2021-08-03T14:39:27.917739Z"
    }
   },
   "outputs": [
    {
     "data": {
      "text/html": [
       "<div>\n",
       "<style scoped>\n",
       "    .dataframe tbody tr th:only-of-type {\n",
       "        vertical-align: middle;\n",
       "    }\n",
       "\n",
       "    .dataframe tbody tr th {\n",
       "        vertical-align: top;\n",
       "    }\n",
       "\n",
       "    .dataframe thead th {\n",
       "        text-align: right;\n",
       "    }\n",
       "</style>\n",
       "<table border=\"1\" class=\"dataframe\">\n",
       "  <thead>\n",
       "    <tr style=\"text-align: right;\">\n",
       "      <th></th>\n",
       "      <th>state</th>\n",
       "      <th>account_length</th>\n",
       "      <th>area_code</th>\n",
       "      <th>phone_number</th>\n",
       "      <th>international_plan</th>\n",
       "      <th>voice_mail_plan</th>\n",
       "      <th>number_vmail_messages</th>\n",
       "      <th>total_day_minutes</th>\n",
       "      <th>total_day_calls</th>\n",
       "      <th>total_day_charge</th>\n",
       "      <th>...</th>\n",
       "      <th>total_eve_calls</th>\n",
       "      <th>total_eve_charge</th>\n",
       "      <th>total_night_minutes</th>\n",
       "      <th>total_night_calls</th>\n",
       "      <th>total_night_charge</th>\n",
       "      <th>total_intl_minutes</th>\n",
       "      <th>total_intl_calls</th>\n",
       "      <th>total_intl_charge</th>\n",
       "      <th>customer_service_calls</th>\n",
       "      <th>churn</th>\n",
       "    </tr>\n",
       "  </thead>\n",
       "  <tbody>\n",
       "    <tr>\n",
       "      <th>0</th>\n",
       "      <td>KS</td>\n",
       "      <td>128</td>\n",
       "      <td>415</td>\n",
       "      <td>382-4657</td>\n",
       "      <td>no</td>\n",
       "      <td>yes</td>\n",
       "      <td>25</td>\n",
       "      <td>265.1</td>\n",
       "      <td>110</td>\n",
       "      <td>45.07</td>\n",
       "      <td>...</td>\n",
       "      <td>99</td>\n",
       "      <td>16.78</td>\n",
       "      <td>244.7</td>\n",
       "      <td>91</td>\n",
       "      <td>11.01</td>\n",
       "      <td>10.0</td>\n",
       "      <td>3</td>\n",
       "      <td>2.70</td>\n",
       "      <td>1</td>\n",
       "      <td>False</td>\n",
       "    </tr>\n",
       "    <tr>\n",
       "      <th>1</th>\n",
       "      <td>OH</td>\n",
       "      <td>107</td>\n",
       "      <td>415</td>\n",
       "      <td>371-7191</td>\n",
       "      <td>no</td>\n",
       "      <td>yes</td>\n",
       "      <td>26</td>\n",
       "      <td>161.6</td>\n",
       "      <td>123</td>\n",
       "      <td>27.47</td>\n",
       "      <td>...</td>\n",
       "      <td>103</td>\n",
       "      <td>16.62</td>\n",
       "      <td>254.4</td>\n",
       "      <td>103</td>\n",
       "      <td>11.45</td>\n",
       "      <td>13.7</td>\n",
       "      <td>3</td>\n",
       "      <td>3.70</td>\n",
       "      <td>1</td>\n",
       "      <td>False</td>\n",
       "    </tr>\n",
       "    <tr>\n",
       "      <th>2</th>\n",
       "      <td>NJ</td>\n",
       "      <td>137</td>\n",
       "      <td>415</td>\n",
       "      <td>358-1921</td>\n",
       "      <td>no</td>\n",
       "      <td>no</td>\n",
       "      <td>0</td>\n",
       "      <td>243.4</td>\n",
       "      <td>114</td>\n",
       "      <td>41.38</td>\n",
       "      <td>...</td>\n",
       "      <td>110</td>\n",
       "      <td>10.30</td>\n",
       "      <td>162.6</td>\n",
       "      <td>104</td>\n",
       "      <td>7.32</td>\n",
       "      <td>12.2</td>\n",
       "      <td>5</td>\n",
       "      <td>3.29</td>\n",
       "      <td>0</td>\n",
       "      <td>False</td>\n",
       "    </tr>\n",
       "    <tr>\n",
       "      <th>3</th>\n",
       "      <td>OH</td>\n",
       "      <td>84</td>\n",
       "      <td>408</td>\n",
       "      <td>375-9999</td>\n",
       "      <td>yes</td>\n",
       "      <td>no</td>\n",
       "      <td>0</td>\n",
       "      <td>299.4</td>\n",
       "      <td>71</td>\n",
       "      <td>50.90</td>\n",
       "      <td>...</td>\n",
       "      <td>88</td>\n",
       "      <td>5.26</td>\n",
       "      <td>196.9</td>\n",
       "      <td>89</td>\n",
       "      <td>8.86</td>\n",
       "      <td>6.6</td>\n",
       "      <td>7</td>\n",
       "      <td>1.78</td>\n",
       "      <td>2</td>\n",
       "      <td>False</td>\n",
       "    </tr>\n",
       "    <tr>\n",
       "      <th>4</th>\n",
       "      <td>OK</td>\n",
       "      <td>75</td>\n",
       "      <td>415</td>\n",
       "      <td>330-6626</td>\n",
       "      <td>yes</td>\n",
       "      <td>no</td>\n",
       "      <td>0</td>\n",
       "      <td>166.7</td>\n",
       "      <td>113</td>\n",
       "      <td>28.34</td>\n",
       "      <td>...</td>\n",
       "      <td>122</td>\n",
       "      <td>12.61</td>\n",
       "      <td>186.9</td>\n",
       "      <td>121</td>\n",
       "      <td>8.41</td>\n",
       "      <td>10.1</td>\n",
       "      <td>3</td>\n",
       "      <td>2.73</td>\n",
       "      <td>3</td>\n",
       "      <td>False</td>\n",
       "    </tr>\n",
       "    <tr>\n",
       "      <th>...</th>\n",
       "      <td>...</td>\n",
       "      <td>...</td>\n",
       "      <td>...</td>\n",
       "      <td>...</td>\n",
       "      <td>...</td>\n",
       "      <td>...</td>\n",
       "      <td>...</td>\n",
       "      <td>...</td>\n",
       "      <td>...</td>\n",
       "      <td>...</td>\n",
       "      <td>...</td>\n",
       "      <td>...</td>\n",
       "      <td>...</td>\n",
       "      <td>...</td>\n",
       "      <td>...</td>\n",
       "      <td>...</td>\n",
       "      <td>...</td>\n",
       "      <td>...</td>\n",
       "      <td>...</td>\n",
       "      <td>...</td>\n",
       "      <td>...</td>\n",
       "    </tr>\n",
       "    <tr>\n",
       "      <th>3328</th>\n",
       "      <td>AZ</td>\n",
       "      <td>192</td>\n",
       "      <td>415</td>\n",
       "      <td>414-4276</td>\n",
       "      <td>no</td>\n",
       "      <td>yes</td>\n",
       "      <td>36</td>\n",
       "      <td>156.2</td>\n",
       "      <td>77</td>\n",
       "      <td>26.55</td>\n",
       "      <td>...</td>\n",
       "      <td>126</td>\n",
       "      <td>18.32</td>\n",
       "      <td>279.1</td>\n",
       "      <td>83</td>\n",
       "      <td>12.56</td>\n",
       "      <td>9.9</td>\n",
       "      <td>6</td>\n",
       "      <td>2.67</td>\n",
       "      <td>2</td>\n",
       "      <td>False</td>\n",
       "    </tr>\n",
       "    <tr>\n",
       "      <th>3329</th>\n",
       "      <td>WV</td>\n",
       "      <td>68</td>\n",
       "      <td>415</td>\n",
       "      <td>370-3271</td>\n",
       "      <td>no</td>\n",
       "      <td>no</td>\n",
       "      <td>0</td>\n",
       "      <td>231.1</td>\n",
       "      <td>57</td>\n",
       "      <td>39.29</td>\n",
       "      <td>...</td>\n",
       "      <td>55</td>\n",
       "      <td>13.04</td>\n",
       "      <td>191.3</td>\n",
       "      <td>123</td>\n",
       "      <td>8.61</td>\n",
       "      <td>9.6</td>\n",
       "      <td>4</td>\n",
       "      <td>2.59</td>\n",
       "      <td>3</td>\n",
       "      <td>False</td>\n",
       "    </tr>\n",
       "    <tr>\n",
       "      <th>3330</th>\n",
       "      <td>RI</td>\n",
       "      <td>28</td>\n",
       "      <td>510</td>\n",
       "      <td>328-8230</td>\n",
       "      <td>no</td>\n",
       "      <td>no</td>\n",
       "      <td>0</td>\n",
       "      <td>180.8</td>\n",
       "      <td>109</td>\n",
       "      <td>30.74</td>\n",
       "      <td>...</td>\n",
       "      <td>58</td>\n",
       "      <td>24.55</td>\n",
       "      <td>191.9</td>\n",
       "      <td>91</td>\n",
       "      <td>8.64</td>\n",
       "      <td>14.1</td>\n",
       "      <td>6</td>\n",
       "      <td>3.81</td>\n",
       "      <td>2</td>\n",
       "      <td>False</td>\n",
       "    </tr>\n",
       "    <tr>\n",
       "      <th>3331</th>\n",
       "      <td>CT</td>\n",
       "      <td>184</td>\n",
       "      <td>510</td>\n",
       "      <td>364-6381</td>\n",
       "      <td>yes</td>\n",
       "      <td>no</td>\n",
       "      <td>0</td>\n",
       "      <td>213.8</td>\n",
       "      <td>105</td>\n",
       "      <td>36.35</td>\n",
       "      <td>...</td>\n",
       "      <td>84</td>\n",
       "      <td>13.57</td>\n",
       "      <td>139.2</td>\n",
       "      <td>137</td>\n",
       "      <td>6.26</td>\n",
       "      <td>5.0</td>\n",
       "      <td>10</td>\n",
       "      <td>1.35</td>\n",
       "      <td>2</td>\n",
       "      <td>False</td>\n",
       "    </tr>\n",
       "    <tr>\n",
       "      <th>3332</th>\n",
       "      <td>TN</td>\n",
       "      <td>74</td>\n",
       "      <td>415</td>\n",
       "      <td>400-4344</td>\n",
       "      <td>no</td>\n",
       "      <td>yes</td>\n",
       "      <td>25</td>\n",
       "      <td>234.4</td>\n",
       "      <td>113</td>\n",
       "      <td>39.85</td>\n",
       "      <td>...</td>\n",
       "      <td>82</td>\n",
       "      <td>22.60</td>\n",
       "      <td>241.4</td>\n",
       "      <td>77</td>\n",
       "      <td>10.86</td>\n",
       "      <td>13.7</td>\n",
       "      <td>4</td>\n",
       "      <td>3.70</td>\n",
       "      <td>0</td>\n",
       "      <td>False</td>\n",
       "    </tr>\n",
       "  </tbody>\n",
       "</table>\n",
       "<p>3333 rows × 21 columns</p>\n",
       "</div>"
      ],
      "text/plain": [
       "     state  account_length  area_code phone_number international_plan  \\\n",
       "0       KS             128        415     382-4657                 no   \n",
       "1       OH             107        415     371-7191                 no   \n",
       "2       NJ             137        415     358-1921                 no   \n",
       "3       OH              84        408     375-9999                yes   \n",
       "4       OK              75        415     330-6626                yes   \n",
       "...    ...             ...        ...          ...                ...   \n",
       "3328    AZ             192        415     414-4276                 no   \n",
       "3329    WV              68        415     370-3271                 no   \n",
       "3330    RI              28        510     328-8230                 no   \n",
       "3331    CT             184        510     364-6381                yes   \n",
       "3332    TN              74        415     400-4344                 no   \n",
       "\n",
       "     voice_mail_plan  number_vmail_messages  total_day_minutes  \\\n",
       "0                yes                     25              265.1   \n",
       "1                yes                     26              161.6   \n",
       "2                 no                      0              243.4   \n",
       "3                 no                      0              299.4   \n",
       "4                 no                      0              166.7   \n",
       "...              ...                    ...                ...   \n",
       "3328             yes                     36              156.2   \n",
       "3329              no                      0              231.1   \n",
       "3330              no                      0              180.8   \n",
       "3331              no                      0              213.8   \n",
       "3332             yes                     25              234.4   \n",
       "\n",
       "      total_day_calls  total_day_charge  ...  total_eve_calls  \\\n",
       "0                 110             45.07  ...               99   \n",
       "1                 123             27.47  ...              103   \n",
       "2                 114             41.38  ...              110   \n",
       "3                  71             50.90  ...               88   \n",
       "4                 113             28.34  ...              122   \n",
       "...               ...               ...  ...              ...   \n",
       "3328               77             26.55  ...              126   \n",
       "3329               57             39.29  ...               55   \n",
       "3330              109             30.74  ...               58   \n",
       "3331              105             36.35  ...               84   \n",
       "3332              113             39.85  ...               82   \n",
       "\n",
       "      total_eve_charge  total_night_minutes  total_night_calls  \\\n",
       "0                16.78                244.7                 91   \n",
       "1                16.62                254.4                103   \n",
       "2                10.30                162.6                104   \n",
       "3                 5.26                196.9                 89   \n",
       "4                12.61                186.9                121   \n",
       "...                ...                  ...                ...   \n",
       "3328             18.32                279.1                 83   \n",
       "3329             13.04                191.3                123   \n",
       "3330             24.55                191.9                 91   \n",
       "3331             13.57                139.2                137   \n",
       "3332             22.60                241.4                 77   \n",
       "\n",
       "      total_night_charge  total_intl_minutes  total_intl_calls  \\\n",
       "0                  11.01                10.0                 3   \n",
       "1                  11.45                13.7                 3   \n",
       "2                   7.32                12.2                 5   \n",
       "3                   8.86                 6.6                 7   \n",
       "4                   8.41                10.1                 3   \n",
       "...                  ...                 ...               ...   \n",
       "3328               12.56                 9.9                 6   \n",
       "3329                8.61                 9.6                 4   \n",
       "3330                8.64                14.1                 6   \n",
       "3331                6.26                 5.0                10   \n",
       "3332               10.86                13.7                 4   \n",
       "\n",
       "      total_intl_charge  customer_service_calls  churn  \n",
       "0                  2.70                       1  False  \n",
       "1                  3.70                       1  False  \n",
       "2                  3.29                       0  False  \n",
       "3                  1.78                       2  False  \n",
       "4                  2.73                       3  False  \n",
       "...                 ...                     ...    ...  \n",
       "3328               2.67                       2  False  \n",
       "3329               2.59                       3  False  \n",
       "3330               3.81                       2  False  \n",
       "3331               1.35                       2  False  \n",
       "3332               3.70                       0  False  \n",
       "\n",
       "[3333 rows x 21 columns]"
      ]
     },
     "execution_count": 307,
     "metadata": {},
     "output_type": "execute_result"
    }
   ],
   "source": [
    "df"
   ]
  },
  {
   "cell_type": "code",

   "execution_count": 308,
<<<<<<< HEAD
   "id": "9e87fed1",
=======
   "id": "5ba2f985",

>>>>>>> 474dd32f643bd9eca840df2556f293fb24883824
   "metadata": {
    "ExecuteTime": {
     "end_time": "2021-08-03T14:39:28.058269Z",
     "start_time": "2021-08-03T14:39:28.052742Z"
    }
   },
   "outputs": [],
   "source": [
    "df['churn']= df[\"churn\"].astype(int)"
   ]
  },
  {
   "cell_type": "code",

   "execution_count": 309,
<<<<<<< HEAD
   "id": "9753bade",
=======
   "id": "a63b52df",

>>>>>>> 474dd32f643bd9eca840df2556f293fb24883824
   "metadata": {
    "ExecuteTime": {
     "end_time": "2021-08-03T14:39:28.241333Z",
     "start_time": "2021-08-03T14:39:28.201832Z"
    }
   },
   "outputs": [
    {
     "data": {
      "text/html": [
       "<div>\n",
       "<style scoped>\n",
       "    .dataframe tbody tr th:only-of-type {\n",
       "        vertical-align: middle;\n",
       "    }\n",
       "\n",
       "    .dataframe tbody tr th {\n",
       "        vertical-align: top;\n",
       "    }\n",
       "\n",
       "    .dataframe thead th {\n",
       "        text-align: right;\n",
       "    }\n",
       "</style>\n",
       "<table border=\"1\" class=\"dataframe\">\n",
       "  <thead>\n",
       "    <tr style=\"text-align: right;\">\n",
       "      <th></th>\n",
       "      <th>state</th>\n",
       "      <th>account_length</th>\n",
       "      <th>area_code</th>\n",
       "      <th>phone_number</th>\n",
       "      <th>international_plan</th>\n",
       "      <th>voice_mail_plan</th>\n",
       "      <th>number_vmail_messages</th>\n",
       "      <th>total_day_minutes</th>\n",
       "      <th>total_day_calls</th>\n",
       "      <th>total_day_charge</th>\n",
       "      <th>...</th>\n",
       "      <th>total_eve_calls</th>\n",
       "      <th>total_eve_charge</th>\n",
       "      <th>total_night_minutes</th>\n",
       "      <th>total_night_calls</th>\n",
       "      <th>total_night_charge</th>\n",
       "      <th>total_intl_minutes</th>\n",
       "      <th>total_intl_calls</th>\n",
       "      <th>total_intl_charge</th>\n",
       "      <th>customer_service_calls</th>\n",
       "      <th>churn</th>\n",
       "    </tr>\n",
       "  </thead>\n",
       "  <tbody>\n",
       "    <tr>\n",
       "      <th>0</th>\n",
       "      <td>KS</td>\n",
       "      <td>128</td>\n",
       "      <td>415</td>\n",
       "      <td>382-4657</td>\n",
       "      <td>no</td>\n",
       "      <td>yes</td>\n",
       "      <td>25</td>\n",
       "      <td>265.1</td>\n",
       "      <td>110</td>\n",
       "      <td>45.07</td>\n",
       "      <td>...</td>\n",
       "      <td>99</td>\n",
       "      <td>16.78</td>\n",
       "      <td>244.7</td>\n",
       "      <td>91</td>\n",
       "      <td>11.01</td>\n",
       "      <td>10.0</td>\n",
       "      <td>3</td>\n",
       "      <td>2.70</td>\n",
       "      <td>1</td>\n",
       "      <td>0</td>\n",
       "    </tr>\n",
       "    <tr>\n",
       "      <th>1</th>\n",
       "      <td>OH</td>\n",
       "      <td>107</td>\n",
       "      <td>415</td>\n",
       "      <td>371-7191</td>\n",
       "      <td>no</td>\n",
       "      <td>yes</td>\n",
       "      <td>26</td>\n",
       "      <td>161.6</td>\n",
       "      <td>123</td>\n",
       "      <td>27.47</td>\n",
       "      <td>...</td>\n",
       "      <td>103</td>\n",
       "      <td>16.62</td>\n",
       "      <td>254.4</td>\n",
       "      <td>103</td>\n",
       "      <td>11.45</td>\n",
       "      <td>13.7</td>\n",
       "      <td>3</td>\n",
       "      <td>3.70</td>\n",
       "      <td>1</td>\n",
       "      <td>0</td>\n",
       "    </tr>\n",
       "    <tr>\n",
       "      <th>2</th>\n",
       "      <td>NJ</td>\n",
       "      <td>137</td>\n",
       "      <td>415</td>\n",
       "      <td>358-1921</td>\n",
       "      <td>no</td>\n",
       "      <td>no</td>\n",
       "      <td>0</td>\n",
       "      <td>243.4</td>\n",
       "      <td>114</td>\n",
       "      <td>41.38</td>\n",
       "      <td>...</td>\n",
       "      <td>110</td>\n",
       "      <td>10.30</td>\n",
       "      <td>162.6</td>\n",
       "      <td>104</td>\n",
       "      <td>7.32</td>\n",
       "      <td>12.2</td>\n",
       "      <td>5</td>\n",
       "      <td>3.29</td>\n",
       "      <td>0</td>\n",
       "      <td>0</td>\n",
       "    </tr>\n",
       "    <tr>\n",
       "      <th>3</th>\n",
       "      <td>OH</td>\n",
       "      <td>84</td>\n",
       "      <td>408</td>\n",
       "      <td>375-9999</td>\n",
       "      <td>yes</td>\n",
       "      <td>no</td>\n",
       "      <td>0</td>\n",
       "      <td>299.4</td>\n",
       "      <td>71</td>\n",
       "      <td>50.90</td>\n",
       "      <td>...</td>\n",
       "      <td>88</td>\n",
       "      <td>5.26</td>\n",
       "      <td>196.9</td>\n",
       "      <td>89</td>\n",
       "      <td>8.86</td>\n",
       "      <td>6.6</td>\n",
       "      <td>7</td>\n",
       "      <td>1.78</td>\n",
       "      <td>2</td>\n",
       "      <td>0</td>\n",
       "    </tr>\n",
       "    <tr>\n",
       "      <th>4</th>\n",
       "      <td>OK</td>\n",
       "      <td>75</td>\n",
       "      <td>415</td>\n",
       "      <td>330-6626</td>\n",
       "      <td>yes</td>\n",
       "      <td>no</td>\n",
       "      <td>0</td>\n",
       "      <td>166.7</td>\n",
       "      <td>113</td>\n",
       "      <td>28.34</td>\n",
       "      <td>...</td>\n",
       "      <td>122</td>\n",
       "      <td>12.61</td>\n",
       "      <td>186.9</td>\n",
       "      <td>121</td>\n",
       "      <td>8.41</td>\n",
       "      <td>10.1</td>\n",
       "      <td>3</td>\n",
       "      <td>2.73</td>\n",
       "      <td>3</td>\n",
       "      <td>0</td>\n",
       "    </tr>\n",
       "    <tr>\n",
       "      <th>...</th>\n",
       "      <td>...</td>\n",
       "      <td>...</td>\n",
       "      <td>...</td>\n",
       "      <td>...</td>\n",
       "      <td>...</td>\n",
       "      <td>...</td>\n",
       "      <td>...</td>\n",
       "      <td>...</td>\n",
       "      <td>...</td>\n",
       "      <td>...</td>\n",
       "      <td>...</td>\n",
       "      <td>...</td>\n",
       "      <td>...</td>\n",
       "      <td>...</td>\n",
       "      <td>...</td>\n",
       "      <td>...</td>\n",
       "      <td>...</td>\n",
       "      <td>...</td>\n",
       "      <td>...</td>\n",
       "      <td>...</td>\n",
       "      <td>...</td>\n",
       "    </tr>\n",
       "    <tr>\n",
       "      <th>3328</th>\n",
       "      <td>AZ</td>\n",
       "      <td>192</td>\n",
       "      <td>415</td>\n",
       "      <td>414-4276</td>\n",
       "      <td>no</td>\n",
       "      <td>yes</td>\n",
       "      <td>36</td>\n",
       "      <td>156.2</td>\n",
       "      <td>77</td>\n",
       "      <td>26.55</td>\n",
       "      <td>...</td>\n",
       "      <td>126</td>\n",
       "      <td>18.32</td>\n",
       "      <td>279.1</td>\n",
       "      <td>83</td>\n",
       "      <td>12.56</td>\n",
       "      <td>9.9</td>\n",
       "      <td>6</td>\n",
       "      <td>2.67</td>\n",
       "      <td>2</td>\n",
       "      <td>0</td>\n",
       "    </tr>\n",
       "    <tr>\n",
       "      <th>3329</th>\n",
       "      <td>WV</td>\n",
       "      <td>68</td>\n",
       "      <td>415</td>\n",
       "      <td>370-3271</td>\n",
       "      <td>no</td>\n",
       "      <td>no</td>\n",
       "      <td>0</td>\n",
       "      <td>231.1</td>\n",
       "      <td>57</td>\n",
       "      <td>39.29</td>\n",
       "      <td>...</td>\n",
       "      <td>55</td>\n",
       "      <td>13.04</td>\n",
       "      <td>191.3</td>\n",
       "      <td>123</td>\n",
       "      <td>8.61</td>\n",
       "      <td>9.6</td>\n",
       "      <td>4</td>\n",
       "      <td>2.59</td>\n",
       "      <td>3</td>\n",
       "      <td>0</td>\n",
       "    </tr>\n",
       "    <tr>\n",
       "      <th>3330</th>\n",
       "      <td>RI</td>\n",
       "      <td>28</td>\n",
       "      <td>510</td>\n",
       "      <td>328-8230</td>\n",
       "      <td>no</td>\n",
       "      <td>no</td>\n",
       "      <td>0</td>\n",
       "      <td>180.8</td>\n",
       "      <td>109</td>\n",
       "      <td>30.74</td>\n",
       "      <td>...</td>\n",
       "      <td>58</td>\n",
       "      <td>24.55</td>\n",
       "      <td>191.9</td>\n",
       "      <td>91</td>\n",
       "      <td>8.64</td>\n",
       "      <td>14.1</td>\n",
       "      <td>6</td>\n",
       "      <td>3.81</td>\n",
       "      <td>2</td>\n",
       "      <td>0</td>\n",
       "    </tr>\n",
       "    <tr>\n",
       "      <th>3331</th>\n",
       "      <td>CT</td>\n",
       "      <td>184</td>\n",
       "      <td>510</td>\n",
       "      <td>364-6381</td>\n",
       "      <td>yes</td>\n",
       "      <td>no</td>\n",
       "      <td>0</td>\n",
       "      <td>213.8</td>\n",
       "      <td>105</td>\n",
       "      <td>36.35</td>\n",
       "      <td>...</td>\n",
       "      <td>84</td>\n",
       "      <td>13.57</td>\n",
       "      <td>139.2</td>\n",
       "      <td>137</td>\n",
       "      <td>6.26</td>\n",
       "      <td>5.0</td>\n",
       "      <td>10</td>\n",
       "      <td>1.35</td>\n",
       "      <td>2</td>\n",
       "      <td>0</td>\n",
       "    </tr>\n",
       "    <tr>\n",
       "      <th>3332</th>\n",
       "      <td>TN</td>\n",
       "      <td>74</td>\n",
       "      <td>415</td>\n",
       "      <td>400-4344</td>\n",
       "      <td>no</td>\n",
       "      <td>yes</td>\n",
       "      <td>25</td>\n",
       "      <td>234.4</td>\n",
       "      <td>113</td>\n",
       "      <td>39.85</td>\n",
       "      <td>...</td>\n",
       "      <td>82</td>\n",
       "      <td>22.60</td>\n",
       "      <td>241.4</td>\n",
       "      <td>77</td>\n",
       "      <td>10.86</td>\n",
       "      <td>13.7</td>\n",
       "      <td>4</td>\n",
       "      <td>3.70</td>\n",
       "      <td>0</td>\n",
       "      <td>0</td>\n",
       "    </tr>\n",
       "  </tbody>\n",
       "</table>\n",
       "<p>3333 rows × 21 columns</p>\n",
       "</div>"
      ],
      "text/plain": [
       "     state  account_length  area_code phone_number international_plan  \\\n",
       "0       KS             128        415     382-4657                 no   \n",
       "1       OH             107        415     371-7191                 no   \n",
       "2       NJ             137        415     358-1921                 no   \n",
       "3       OH              84        408     375-9999                yes   \n",
       "4       OK              75        415     330-6626                yes   \n",
       "...    ...             ...        ...          ...                ...   \n",
       "3328    AZ             192        415     414-4276                 no   \n",
       "3329    WV              68        415     370-3271                 no   \n",
       "3330    RI              28        510     328-8230                 no   \n",
       "3331    CT             184        510     364-6381                yes   \n",
       "3332    TN              74        415     400-4344                 no   \n",
       "\n",
       "     voice_mail_plan  number_vmail_messages  total_day_minutes  \\\n",
       "0                yes                     25              265.1   \n",
       "1                yes                     26              161.6   \n",
       "2                 no                      0              243.4   \n",
       "3                 no                      0              299.4   \n",
       "4                 no                      0              166.7   \n",
       "...              ...                    ...                ...   \n",
       "3328             yes                     36              156.2   \n",
       "3329              no                      0              231.1   \n",
       "3330              no                      0              180.8   \n",
       "3331              no                      0              213.8   \n",
       "3332             yes                     25              234.4   \n",
       "\n",
       "      total_day_calls  total_day_charge  ...  total_eve_calls  \\\n",
       "0                 110             45.07  ...               99   \n",
       "1                 123             27.47  ...              103   \n",
       "2                 114             41.38  ...              110   \n",
       "3                  71             50.90  ...               88   \n",
       "4                 113             28.34  ...              122   \n",
       "...               ...               ...  ...              ...   \n",
       "3328               77             26.55  ...              126   \n",
       "3329               57             39.29  ...               55   \n",
       "3330              109             30.74  ...               58   \n",
       "3331              105             36.35  ...               84   \n",
       "3332              113             39.85  ...               82   \n",
       "\n",
       "      total_eve_charge  total_night_minutes  total_night_calls  \\\n",
       "0                16.78                244.7                 91   \n",
       "1                16.62                254.4                103   \n",
       "2                10.30                162.6                104   \n",
       "3                 5.26                196.9                 89   \n",
       "4                12.61                186.9                121   \n",
       "...                ...                  ...                ...   \n",
       "3328             18.32                279.1                 83   \n",
       "3329             13.04                191.3                123   \n",
       "3330             24.55                191.9                 91   \n",
       "3331             13.57                139.2                137   \n",
       "3332             22.60                241.4                 77   \n",
       "\n",
       "      total_night_charge  total_intl_minutes  total_intl_calls  \\\n",
       "0                  11.01                10.0                 3   \n",
       "1                  11.45                13.7                 3   \n",
       "2                   7.32                12.2                 5   \n",
       "3                   8.86                 6.6                 7   \n",
       "4                   8.41                10.1                 3   \n",
       "...                  ...                 ...               ...   \n",
       "3328               12.56                 9.9                 6   \n",
       "3329                8.61                 9.6                 4   \n",
       "3330                8.64                14.1                 6   \n",
       "3331                6.26                 5.0                10   \n",
       "3332               10.86                13.7                 4   \n",
       "\n",
       "      total_intl_charge  customer_service_calls  churn  \n",
       "0                  2.70                       1      0  \n",
       "1                  3.70                       1      0  \n",
       "2                  3.29                       0      0  \n",
       "3                  1.78                       2      0  \n",
       "4                  2.73                       3      0  \n",
       "...                 ...                     ...    ...  \n",
       "3328               2.67                       2      0  \n",
       "3329               2.59                       3      0  \n",
       "3330               3.81                       2      0  \n",
       "3331               1.35                       2      0  \n",
       "3332               3.70                       0      0  \n",
       "\n",
       "[3333 rows x 21 columns]"
      ]
     },
     "execution_count": 309,
     "metadata": {},
     "output_type": "execute_result"
    }
   ],
   "source": [
    "df"
   ]
  },
  {
   "cell_type": "code",

   "execution_count": 310,
   "id": "a1805405",

   "metadata": {
    "ExecuteTime": {
     "end_time": "2021-08-03T14:39:28.350279Z",
     "start_time": "2021-08-03T14:39:28.340903Z"
    }
   },
   "outputs": [
    {
     "data": {
      "text/plain": [
       "0    0.855086\n",
       "1    0.144914\n",
       "Name: churn, dtype: float64"
      ]
     },
     "execution_count": 310,
     "metadata": {},
     "output_type": "execute_result"
    }
   ],
   "source": [
    "df[\"churn\"].value_counts(normalize = True)"
   ]
  },
  {
   "cell_type": "markdown",
<<<<<<< HEAD
   "id": "afa18cb3",
=======

   "id": "2c0e76a7",

>>>>>>> 474dd32f643bd9eca840df2556f293fb24883824
   "metadata": {},
   "source": [
    "There may be a class imbalance : not terrible"
   ]
  },
  {
   "cell_type": "markdown",
<<<<<<< HEAD
   "id": "4f9d55ad",
=======

   "id": "e8aaac0b",

>>>>>>> 474dd32f643bd9eca840df2556f293fb24883824
   "metadata": {},
   "source": [
    "## Start exploring some features "
   ]
  },
  {
   "cell_type": "code",

   "execution_count": 311,
<<<<<<< HEAD
   "id": "e8ebfbe7",
=======
   "id": "b5bef5f5",

>>>>>>> 474dd32f643bd9eca840df2556f293fb24883824
   "metadata": {
    "ExecuteTime": {
     "end_time": "2021-08-03T14:39:29.142413Z",
     "start_time": "2021-08-03T14:39:29.133531Z"
    }
   },
   "outputs": [],
   "source": [
    "df['total_min']= df['total_day_minutes']+ df['total_eve_minutes'] + df['total_intl_minutes']+df['total_night_minutes']"
   ]
  },
  {
   "cell_type": "code",

   "execution_count": 312,
<<<<<<< HEAD
   "id": "74f7af54",
=======
   "id": "34248908",

>>>>>>> 474dd32f643bd9eca840df2556f293fb24883824
   "metadata": {
    "ExecuteTime": {
     "end_time": "2021-08-03T14:39:29.309433Z",
     "start_time": "2021-08-03T14:39:29.301076Z"
    }
   },
   "outputs": [],
   "source": [
    "df['total_calls_dom'] = df['total_day_calls'] + df['total_night_calls']+ df['total_eve_calls']"
   ]
  },
  {
   "cell_type": "code",

   "execution_count": 313,
<<<<<<< HEAD
   "id": "57067d25",
=======
   "id": "67eb8317",

>>>>>>> 474dd32f643bd9eca840df2556f293fb24883824
   "metadata": {
    "ExecuteTime": {
     "end_time": "2021-08-03T14:39:29.430291Z",
     "start_time": "2021-08-03T14:39:29.417371Z"
    }
   },
   "outputs": [],
   "source": [
    "df[\"total_calls\"] = df['total_day_calls'] + df['total_night_calls']+df['total_intl_calls']+df['total_eve_calls']\n",
    "df['total_charge_dom'] = df['total_day_calls'] + df['total_eve_charge'] + df['total_night_charge']\n",
    "\n",
    "df['total_charge'] = df['total_day_calls'] + df['total_eve_charge'] + df['total_night_charge'] + df['total_intl_charge']"
   ]
  },
  {
   "cell_type": "code",

   "execution_count": 314,
<<<<<<< HEAD
   "id": "cd3b1354",
=======
   "id": "f03afd12",

>>>>>>> 474dd32f643bd9eca840df2556f293fb24883824
   "metadata": {
    "ExecuteTime": {
     "end_time": "2021-08-03T14:39:29.587203Z",
     "start_time": "2021-08-03T14:39:29.581000Z"
    }
   },
   "outputs": [],
   "source": [
    "\n",
    "#new feature to measure customer service calls ratio tot total calls\n",
    "df['call_satisfaction'] = df['customer_service_calls']/df['total_calls']"
   ]
  },
  {
   "cell_type": "code",

   "execution_count": 315,
<<<<<<< HEAD
   "id": "dee4c046",
=======
   "id": "1eb8c158",

>>>>>>> 474dd32f643bd9eca840df2556f293fb24883824
   "metadata": {
    "ExecuteTime": {
     "end_time": "2021-08-03T14:39:29.708388Z",
     "start_time": "2021-08-03T14:39:29.700880Z"
    }
   },
   "outputs": [],
   "source": [
    "df[\"charge_per_min_dom\"] = df['total_charge_dom']/df['total_calls_dom']\n",
    "df['charge_per_min_intl'] = df['total_intl_charge']/ df['total_intl_calls']"
   ]
  },
  {
   "cell_type": "code",

   "execution_count": 316,
<<<<<<< HEAD
   "id": "cf1d05f3",
=======
   "id": "b080516f",

>>>>>>> 474dd32f643bd9eca840df2556f293fb24883824
   "metadata": {
    "ExecuteTime": {
     "end_time": "2021-08-03T14:39:29.884635Z",
     "start_time": "2021-08-03T14:39:29.865734Z"
    }
   },
   "outputs": [
    {
     "data": {
      "text/plain": [
       "count    3333.000000\n",
       "mean        0.005198\n",
       "std         0.004456\n",
       "min         0.000000\n",
       "25%         0.002890\n",
       "50%         0.003663\n",
       "75%         0.007273\n",
       "max         0.030303\n",
       "Name: call_satisfaction, dtype: float64"
      ]
     },
     "execution_count": 316,
     "metadata": {},
     "output_type": "execute_result"
    }
   ],
   "source": [
    "df['call_satisfaction'].describe()"
   ]
  },
  {
   "cell_type": "code",

   "execution_count": 317,
<<<<<<< HEAD
   "id": "890b0110",
=======
   "id": "bb94a020",

>>>>>>> 474dd32f643bd9eca840df2556f293fb24883824
   "metadata": {
    "ExecuteTime": {
     "end_time": "2021-08-03T14:39:30.041168Z",
     "start_time": "2021-08-03T14:39:30.031884Z"
    }
   },
   "outputs": [],
   "source": [
    "df[\"%_int_min\"]= df['total_intl_minutes']/ df['total_min']\n"
   ]
  },
  {
   "cell_type": "code",
   "execution_count": 16,
<<<<<<< HEAD
   "id": "5c5a03ad",
=======

   "id": "da26c425",

>>>>>>> 474dd32f643bd9eca840df2556f293fb24883824
   "metadata": {
    "ExecuteTime": {
     "end_time": "2021-08-02T15:30:38.157402Z",
     "start_time": "2021-08-02T15:30:38.152652Z"
    }
   },
   "outputs": [],
   "source": [
    "states = {\n",
    "        'AK': 'West',\n",
    "        'AL': 'South',\n",
    "        'AR': 'South',\n",
    "        'AZ': 'West',\n",
    "        'CA': 'West',\n",
    "        'CO': 'West',\n",
    "        'CT': 'Northeast',\n",
    "        'DC': 'South',\n",
    "        'DE': 'South',\n",
    "        'FL': 'South',\n",
    "        'GA': 'South',\n",
    "        'HI': 'West',\n",
    "        'IA': 'Midwest',\n",
    "        'ID': 'West',\n",
    "        'IL': 'Midwest',\n",
    "        'IN': 'Midwest',\n",
    "        'KS': 'Midwest',\n",
    "        'KY': 'South',\n",
    "        'LA': 'South',\n",
    "        'MA': 'Northeast',\n",
    "        'MD': 'South',\n",
    "        'ME': 'Northeast',\n",
    "        'MI': 'Midwest',\n",
    "        'MN': 'Midwest',\n",
    "        'MO': 'Midwest',\n",
    "        'MS': 'South',\n",
    "        'MT': 'West',\n",
    "        'NC': 'South',\n",
    "        'ND': 'Midwest',\n",
    "        'NE': 'Midwest',\n",
    "        'NH': 'Northeast',\n",
    "        'NJ': 'Northeast',\n",
    "        'NM': 'West',\n",
    "        'NV': 'West',\n",
    "        'NY': 'Northeast',\n",
    "        'OH': 'Midwest',\n",
    "        'OK': 'South',\n",
    "        'OR': 'West',\n",
    "        'PA': 'Northeast',\n",
    "        'RI': 'Northeast',\n",
    "        'SC': 'South',\n",
    "        'SD': 'Midwest',\n",
    "        'TN': 'South',\n",
    "        'TX': 'South',\n",
    "        'UT': 'West',\n",
    "        'VA': 'South',\n",
    "        'VT': 'Northeast',\n",
    "        'WA': 'West',\n",
    "        'WI': 'Midwest',\n",
    "        'WV': 'South',\n",
    "        'WY': 'West'\n",
    "}"
   ]
  },
  {
   "cell_type": "code",
   "execution_count": 17,
<<<<<<< HEAD
   "id": "237717be",
=======

   "id": "e83e1891",

>>>>>>> 474dd32f643bd9eca840df2556f293fb24883824
   "metadata": {
    "ExecuteTime": {
     "end_time": "2021-08-02T15:30:38.169949Z",
     "start_time": "2021-08-02T15:30:38.159596Z"
    }
   },
   "outputs": [],
   "source": [
    "df['region']= df['state'].replace(states)"
   ]
  },
  {
   "cell_type": "code",
   "execution_count": 18,
<<<<<<< HEAD
   "id": "e9f0d9e7",
=======

   "id": "97daa02c",

>>>>>>> 474dd32f643bd9eca840df2556f293fb24883824
   "metadata": {
    "ExecuteTime": {
     "end_time": "2021-08-02T15:30:38.194358Z",
     "start_time": "2021-08-02T15:30:38.172002Z"
    }
   },
   "outputs": [
    {
     "data": {
      "text/html": [
       "<div>\n",
       "<style scoped>\n",
       "    .dataframe tbody tr th:only-of-type {\n",
       "        vertical-align: middle;\n",
       "    }\n",
       "\n",
       "    .dataframe tbody tr th {\n",
       "        vertical-align: top;\n",
       "    }\n",
       "\n",
       "    .dataframe thead th {\n",
       "        text-align: right;\n",
       "    }\n",
       "</style>\n",
       "<table border=\"1\" class=\"dataframe\">\n",
       "  <thead>\n",
       "    <tr style=\"text-align: right;\">\n",
       "      <th></th>\n",
       "      <th>state</th>\n",
       "      <th>account_length</th>\n",
       "      <th>area_code</th>\n",
       "      <th>phone_number</th>\n",
       "      <th>international_plan</th>\n",
       "      <th>voice_mail_plan</th>\n",
       "      <th>number_vmail_messages</th>\n",
       "      <th>total_day_minutes</th>\n",
       "      <th>total_day_calls</th>\n",
       "      <th>total_day_charge</th>\n",
       "      <th>...</th>\n",
       "      <th>total_min</th>\n",
       "      <th>total_calls_dom</th>\n",
       "      <th>total_calls</th>\n",
       "      <th>total_charge_dom</th>\n",
       "      <th>total_charge</th>\n",
       "      <th>call_satisfaction</th>\n",
       "      <th>charge_per_min_dom</th>\n",
       "      <th>charge_per_min_intl</th>\n",
       "      <th>%_int_min</th>\n",
       "      <th>region</th>\n",
       "    </tr>\n",
       "  </thead>\n",
       "  <tbody>\n",
       "    <tr>\n",
       "      <th>0</th>\n",
       "      <td>KS</td>\n",
       "      <td>128</td>\n",
       "      <td>415</td>\n",
       "      <td>382-4657</td>\n",
       "      <td>no</td>\n",
       "      <td>yes</td>\n",
       "      <td>25</td>\n",
       "      <td>265.1</td>\n",
       "      <td>110</td>\n",
       "      <td>45.07</td>\n",
       "      <td>...</td>\n",
       "      <td>717.2</td>\n",
       "      <td>300</td>\n",
       "      <td>303</td>\n",
       "      <td>137.79</td>\n",
       "      <td>140.49</td>\n",
       "      <td>0.003300</td>\n",
       "      <td>0.459300</td>\n",
       "      <td>0.900000</td>\n",
       "      <td>0.013943</td>\n",
       "      <td>Midwest</td>\n",
       "    </tr>\n",
       "    <tr>\n",
       "      <th>1</th>\n",
       "      <td>OH</td>\n",
       "      <td>107</td>\n",
       "      <td>415</td>\n",
       "      <td>371-7191</td>\n",
       "      <td>no</td>\n",
       "      <td>yes</td>\n",
       "      <td>26</td>\n",
       "      <td>161.6</td>\n",
       "      <td>123</td>\n",
       "      <td>27.47</td>\n",
       "      <td>...</td>\n",
       "      <td>625.2</td>\n",
       "      <td>329</td>\n",
       "      <td>332</td>\n",
       "      <td>151.07</td>\n",
       "      <td>154.77</td>\n",
       "      <td>0.003012</td>\n",
       "      <td>0.459179</td>\n",
       "      <td>1.233333</td>\n",
       "      <td>0.021913</td>\n",
       "      <td>Midwest</td>\n",
       "    </tr>\n",
       "    <tr>\n",
       "      <th>2</th>\n",
       "      <td>NJ</td>\n",
       "      <td>137</td>\n",
       "      <td>415</td>\n",
       "      <td>358-1921</td>\n",
       "      <td>no</td>\n",
       "      <td>no</td>\n",
       "      <td>0</td>\n",
       "      <td>243.4</td>\n",
       "      <td>114</td>\n",
       "      <td>41.38</td>\n",
       "      <td>...</td>\n",
       "      <td>539.4</td>\n",
       "      <td>328</td>\n",
       "      <td>333</td>\n",
       "      <td>131.62</td>\n",
       "      <td>134.91</td>\n",
       "      <td>0.000000</td>\n",
       "      <td>0.401280</td>\n",
       "      <td>0.658000</td>\n",
       "      <td>0.022618</td>\n",
       "      <td>Northeast</td>\n",
       "    </tr>\n",
       "    <tr>\n",
       "      <th>3</th>\n",
       "      <td>OH</td>\n",
       "      <td>84</td>\n",
       "      <td>408</td>\n",
       "      <td>375-9999</td>\n",
       "      <td>yes</td>\n",
       "      <td>no</td>\n",
       "      <td>0</td>\n",
       "      <td>299.4</td>\n",
       "      <td>71</td>\n",
       "      <td>50.90</td>\n",
       "      <td>...</td>\n",
       "      <td>564.8</td>\n",
       "      <td>248</td>\n",
       "      <td>255</td>\n",
       "      <td>85.12</td>\n",
       "      <td>86.90</td>\n",
       "      <td>0.007843</td>\n",
       "      <td>0.343226</td>\n",
       "      <td>0.254286</td>\n",
       "      <td>0.011686</td>\n",
       "      <td>Midwest</td>\n",
       "    </tr>\n",
       "    <tr>\n",
       "      <th>4</th>\n",
       "      <td>OK</td>\n",
       "      <td>75</td>\n",
       "      <td>415</td>\n",
       "      <td>330-6626</td>\n",
       "      <td>yes</td>\n",
       "      <td>no</td>\n",
       "      <td>0</td>\n",
       "      <td>166.7</td>\n",
       "      <td>113</td>\n",
       "      <td>28.34</td>\n",
       "      <td>...</td>\n",
       "      <td>512.0</td>\n",
       "      <td>356</td>\n",
       "      <td>359</td>\n",
       "      <td>134.02</td>\n",
       "      <td>136.75</td>\n",
       "      <td>0.008357</td>\n",
       "      <td>0.376461</td>\n",
       "      <td>0.910000</td>\n",
       "      <td>0.019727</td>\n",
       "      <td>South</td>\n",
       "    </tr>\n",
       "    <tr>\n",
       "      <th>...</th>\n",
       "      <td>...</td>\n",
       "      <td>...</td>\n",
       "      <td>...</td>\n",
       "      <td>...</td>\n",
       "      <td>...</td>\n",
       "      <td>...</td>\n",
       "      <td>...</td>\n",
       "      <td>...</td>\n",
       "      <td>...</td>\n",
       "      <td>...</td>\n",
       "      <td>...</td>\n",
       "      <td>...</td>\n",
       "      <td>...</td>\n",
       "      <td>...</td>\n",
       "      <td>...</td>\n",
       "      <td>...</td>\n",
       "      <td>...</td>\n",
       "      <td>...</td>\n",
       "      <td>...</td>\n",
       "      <td>...</td>\n",
       "      <td>...</td>\n",
       "    </tr>\n",
       "    <tr>\n",
       "      <th>3328</th>\n",
       "      <td>AZ</td>\n",
       "      <td>192</td>\n",
       "      <td>415</td>\n",
       "      <td>414-4276</td>\n",
       "      <td>no</td>\n",
       "      <td>yes</td>\n",
       "      <td>36</td>\n",
       "      <td>156.2</td>\n",
       "      <td>77</td>\n",
       "      <td>26.55</td>\n",
       "      <td>...</td>\n",
       "      <td>660.7</td>\n",
       "      <td>286</td>\n",
       "      <td>292</td>\n",
       "      <td>107.88</td>\n",
       "      <td>110.55</td>\n",
       "      <td>0.006849</td>\n",
       "      <td>0.377203</td>\n",
       "      <td>0.445000</td>\n",
       "      <td>0.014984</td>\n",
       "      <td>West</td>\n",
       "    </tr>\n",
       "    <tr>\n",
       "      <th>3329</th>\n",
       "      <td>WV</td>\n",
       "      <td>68</td>\n",
       "      <td>415</td>\n",
       "      <td>370-3271</td>\n",
       "      <td>no</td>\n",
       "      <td>no</td>\n",
       "      <td>0</td>\n",
       "      <td>231.1</td>\n",
       "      <td>57</td>\n",
       "      <td>39.29</td>\n",
       "      <td>...</td>\n",
       "      <td>585.4</td>\n",
       "      <td>235</td>\n",
       "      <td>239</td>\n",
       "      <td>78.65</td>\n",
       "      <td>81.24</td>\n",
       "      <td>0.012552</td>\n",
       "      <td>0.334681</td>\n",
       "      <td>0.647500</td>\n",
       "      <td>0.016399</td>\n",
       "      <td>South</td>\n",
       "    </tr>\n",
       "    <tr>\n",
       "      <th>3330</th>\n",
       "      <td>RI</td>\n",
       "      <td>28</td>\n",
       "      <td>510</td>\n",
       "      <td>328-8230</td>\n",
       "      <td>no</td>\n",
       "      <td>no</td>\n",
       "      <td>0</td>\n",
       "      <td>180.8</td>\n",
       "      <td>109</td>\n",
       "      <td>30.74</td>\n",
       "      <td>...</td>\n",
       "      <td>675.6</td>\n",
       "      <td>258</td>\n",
       "      <td>264</td>\n",
       "      <td>142.19</td>\n",
       "      <td>146.00</td>\n",
       "      <td>0.007576</td>\n",
       "      <td>0.551124</td>\n",
       "      <td>0.635000</td>\n",
       "      <td>0.020870</td>\n",
       "      <td>Northeast</td>\n",
       "    </tr>\n",
       "    <tr>\n",
       "      <th>3331</th>\n",
       "      <td>CT</td>\n",
       "      <td>184</td>\n",
       "      <td>510</td>\n",
       "      <td>364-6381</td>\n",
       "      <td>yes</td>\n",
       "      <td>no</td>\n",
       "      <td>0</td>\n",
       "      <td>213.8</td>\n",
       "      <td>105</td>\n",
       "      <td>36.35</td>\n",
       "      <td>...</td>\n",
       "      <td>517.6</td>\n",
       "      <td>326</td>\n",
       "      <td>336</td>\n",
       "      <td>124.83</td>\n",
       "      <td>126.18</td>\n",
       "      <td>0.005952</td>\n",
       "      <td>0.382914</td>\n",
       "      <td>0.135000</td>\n",
       "      <td>0.009660</td>\n",
       "      <td>Northeast</td>\n",
       "    </tr>\n",
       "    <tr>\n",
       "      <th>3332</th>\n",
       "      <td>TN</td>\n",
       "      <td>74</td>\n",
       "      <td>415</td>\n",
       "      <td>400-4344</td>\n",
       "      <td>no</td>\n",
       "      <td>yes</td>\n",
       "      <td>25</td>\n",
       "      <td>234.4</td>\n",
       "      <td>113</td>\n",
       "      <td>39.85</td>\n",
       "      <td>...</td>\n",
       "      <td>755.4</td>\n",
       "      <td>272</td>\n",
       "      <td>276</td>\n",
       "      <td>146.46</td>\n",
       "      <td>150.16</td>\n",
       "      <td>0.000000</td>\n",
       "      <td>0.538456</td>\n",
       "      <td>0.925000</td>\n",
       "      <td>0.018136</td>\n",
       "      <td>South</td>\n",
       "    </tr>\n",
       "  </tbody>\n",
       "</table>\n",
       "<p>3333 rows × 31 columns</p>\n",
       "</div>"
      ],
      "text/plain": [
       "     state  account_length  area_code phone_number international_plan  \\\n",
       "0       KS             128        415     382-4657                 no   \n",
       "1       OH             107        415     371-7191                 no   \n",
       "2       NJ             137        415     358-1921                 no   \n",
       "3       OH              84        408     375-9999                yes   \n",
       "4       OK              75        415     330-6626                yes   \n",
       "...    ...             ...        ...          ...                ...   \n",
       "3328    AZ             192        415     414-4276                 no   \n",
       "3329    WV              68        415     370-3271                 no   \n",
       "3330    RI              28        510     328-8230                 no   \n",
       "3331    CT             184        510     364-6381                yes   \n",
       "3332    TN              74        415     400-4344                 no   \n",
       "\n",
       "     voice_mail_plan  number_vmail_messages  total_day_minutes  \\\n",
       "0                yes                     25              265.1   \n",
       "1                yes                     26              161.6   \n",
       "2                 no                      0              243.4   \n",
       "3                 no                      0              299.4   \n",
       "4                 no                      0              166.7   \n",
       "...              ...                    ...                ...   \n",
       "3328             yes                     36              156.2   \n",
       "3329              no                      0              231.1   \n",
       "3330              no                      0              180.8   \n",
       "3331              no                      0              213.8   \n",
       "3332             yes                     25              234.4   \n",
       "\n",
       "      total_day_calls  total_day_charge  ...  total_min  total_calls_dom  \\\n",
       "0                 110             45.07  ...      717.2              300   \n",
       "1                 123             27.47  ...      625.2              329   \n",
       "2                 114             41.38  ...      539.4              328   \n",
       "3                  71             50.90  ...      564.8              248   \n",
       "4                 113             28.34  ...      512.0              356   \n",
       "...               ...               ...  ...        ...              ...   \n",
       "3328               77             26.55  ...      660.7              286   \n",
       "3329               57             39.29  ...      585.4              235   \n",
       "3330              109             30.74  ...      675.6              258   \n",
       "3331              105             36.35  ...      517.6              326   \n",
       "3332              113             39.85  ...      755.4              272   \n",
       "\n",
       "      total_calls  total_charge_dom  total_charge  call_satisfaction  \\\n",
       "0             303            137.79        140.49           0.003300   \n",
       "1             332            151.07        154.77           0.003012   \n",
       "2             333            131.62        134.91           0.000000   \n",
       "3             255             85.12         86.90           0.007843   \n",
       "4             359            134.02        136.75           0.008357   \n",
       "...           ...               ...           ...                ...   \n",
       "3328          292            107.88        110.55           0.006849   \n",
       "3329          239             78.65         81.24           0.012552   \n",
       "3330          264            142.19        146.00           0.007576   \n",
       "3331          336            124.83        126.18           0.005952   \n",
       "3332          276            146.46        150.16           0.000000   \n",
       "\n",
       "      charge_per_min_dom  charge_per_min_intl  %_int_min     region  \n",
       "0               0.459300             0.900000   0.013943    Midwest  \n",
       "1               0.459179             1.233333   0.021913    Midwest  \n",
       "2               0.401280             0.658000   0.022618  Northeast  \n",
       "3               0.343226             0.254286   0.011686    Midwest  \n",
       "4               0.376461             0.910000   0.019727      South  \n",
       "...                  ...                  ...        ...        ...  \n",
       "3328            0.377203             0.445000   0.014984       West  \n",
       "3329            0.334681             0.647500   0.016399      South  \n",
       "3330            0.551124             0.635000   0.020870  Northeast  \n",
       "3331            0.382914             0.135000   0.009660  Northeast  \n",
       "3332            0.538456             0.925000   0.018136      South  \n",
       "\n",
       "[3333 rows x 31 columns]"
      ]
     },
     "execution_count": 18,
     "metadata": {},
     "output_type": "execute_result"
    }
   ],
   "source": [
    "df"
   ]
  },
  {
   "cell_type": "code",
   "execution_count": 19,
<<<<<<< HEAD
   "id": "cd0b19c3",
=======

   "id": "df8ccc9b",

>>>>>>> 474dd32f643bd9eca840df2556f293fb24883824
   "metadata": {
    "ExecuteTime": {
     "end_time": "2021-08-02T15:30:38.202993Z",
     "start_time": "2021-08-02T15:30:38.195466Z"
    }
   },
   "outputs": [
    {
     "name": "stdout",
     "output_type": "stream",
     "text": [
      "<class 'pandas.core.frame.DataFrame'>\n",
      "RangeIndex: 3333 entries, 0 to 3332\n",
      "Data columns (total 31 columns):\n",
      " #   Column                  Non-Null Count  Dtype  \n",
      "---  ------                  --------------  -----  \n",
      " 0   state                   3333 non-null   object \n",
      " 1   account_length          3333 non-null   int64  \n",
      " 2   area_code               3333 non-null   int64  \n",
      " 3   phone_number            3333 non-null   object \n",
      " 4   international_plan      3333 non-null   object \n",
      " 5   voice_mail_plan         3333 non-null   object \n",
      " 6   number_vmail_messages   3333 non-null   int64  \n",
      " 7   total_day_minutes       3333 non-null   float64\n",
      " 8   total_day_calls         3333 non-null   int64  \n",
      " 9   total_day_charge        3333 non-null   float64\n",
      " 10  total_eve_minutes       3333 non-null   float64\n",
      " 11  total_eve_calls         3333 non-null   int64  \n",
      " 12  total_eve_charge        3333 non-null   float64\n",
      " 13  total_night_minutes     3333 non-null   float64\n",
      " 14  total_night_calls       3333 non-null   int64  \n",
      " 15  total_night_charge      3333 non-null   float64\n",
      " 16  total_intl_minutes      3333 non-null   float64\n",
      " 17  total_intl_calls        3333 non-null   int64  \n",
      " 18  total_intl_charge       3333 non-null   float64\n",
      " 19  customer_service_calls  3333 non-null   int64  \n",
      " 20  churn                   3333 non-null   int64  \n",
      " 21  total_min               3333 non-null   float64\n",
      " 22  total_calls_dom         3333 non-null   int64  \n",
      " 23  total_calls             3333 non-null   int64  \n",
      " 24  total_charge_dom        3333 non-null   float64\n",
      " 25  total_charge            3333 non-null   float64\n",
      " 26  call_satisfaction       3333 non-null   float64\n",
      " 27  charge_per_min_dom      3333 non-null   float64\n",
      " 28  charge_per_min_intl     3315 non-null   float64\n",
      " 29  %_int_min               3333 non-null   float64\n",
      " 30  region                  3333 non-null   object \n",
      "dtypes: float64(15), int64(11), object(5)\n",
      "memory usage: 807.3+ KB\n"
     ]
    }
   ],
   "source": [
    "df.info()"
   ]
  },
  {
   "cell_type": "code",
   "execution_count": 119,
<<<<<<< HEAD
   "id": "5a216565",
=======

   "id": "148ba371",

>>>>>>> 474dd32f643bd9eca840df2556f293fb24883824
   "metadata": {
    "ExecuteTime": {
     "end_time": "2021-08-02T18:14:17.712115Z",
     "start_time": "2021-08-02T18:14:17.691717Z"
    }
   },
   "outputs": [],
   "source": [
    "# seperating the continous and categorical variables into two data frames for data exploration\n",
    "\n",
    "df_cont = df.select_dtypes(include=['number'])\n",
    "df_cont= df_cont.drop(\"churn\", 1)\n",
    "df_cat = df.select_dtypes(exclude=['number'])"
   ]
  },
  {
   "cell_type": "code",
   "execution_count": 120,
<<<<<<< HEAD
   "id": "5daa1d6f",
=======

   "id": "55f5c67d",

>>>>>>> 474dd32f643bd9eca840df2556f293fb24883824
   "metadata": {
    "ExecuteTime": {
     "end_time": "2021-08-02T18:14:18.983844Z",
     "start_time": "2021-08-02T18:14:18.964613Z"
    }
   },
   "outputs": [
    {
     "data": {
      "text/html": [
       "<div>\n",
       "<style scoped>\n",
       "    .dataframe tbody tr th:only-of-type {\n",
       "        vertical-align: middle;\n",
       "    }\n",
       "\n",
       "    .dataframe tbody tr th {\n",
       "        vertical-align: top;\n",
       "    }\n",
       "\n",
       "    .dataframe thead th {\n",
       "        text-align: right;\n",
       "    }\n",
       "</style>\n",
       "<table border=\"1\" class=\"dataframe\">\n",
       "  <thead>\n",
       "    <tr style=\"text-align: right;\">\n",
       "      <th></th>\n",
       "      <th>state</th>\n",
       "      <th>phone_number</th>\n",
       "      <th>international_plan</th>\n",
       "      <th>voice_mail_plan</th>\n",
       "      <th>region</th>\n",
       "    </tr>\n",
       "  </thead>\n",
       "  <tbody>\n",
       "    <tr>\n",
       "      <th>0</th>\n",
       "      <td>KS</td>\n",
       "      <td>382-4657</td>\n",
       "      <td>no</td>\n",
       "      <td>yes</td>\n",
       "      <td>Midwest</td>\n",
       "    </tr>\n",
       "    <tr>\n",
       "      <th>1</th>\n",
       "      <td>OH</td>\n",
       "      <td>371-7191</td>\n",
       "      <td>no</td>\n",
       "      <td>yes</td>\n",
       "      <td>Midwest</td>\n",
       "    </tr>\n",
       "    <tr>\n",
       "      <th>2</th>\n",
       "      <td>NJ</td>\n",
       "      <td>358-1921</td>\n",
       "      <td>no</td>\n",
       "      <td>no</td>\n",
       "      <td>Northeast</td>\n",
       "    </tr>\n",
       "    <tr>\n",
       "      <th>3</th>\n",
       "      <td>OH</td>\n",
       "      <td>375-9999</td>\n",
       "      <td>yes</td>\n",
       "      <td>no</td>\n",
       "      <td>Midwest</td>\n",
       "    </tr>\n",
       "    <tr>\n",
       "      <th>4</th>\n",
       "      <td>OK</td>\n",
       "      <td>330-6626</td>\n",
       "      <td>yes</td>\n",
       "      <td>no</td>\n",
       "      <td>South</td>\n",
       "    </tr>\n",
       "    <tr>\n",
       "      <th>...</th>\n",
       "      <td>...</td>\n",
       "      <td>...</td>\n",
       "      <td>...</td>\n",
       "      <td>...</td>\n",
       "      <td>...</td>\n",
       "    </tr>\n",
       "    <tr>\n",
       "      <th>3328</th>\n",
       "      <td>AZ</td>\n",
       "      <td>414-4276</td>\n",
       "      <td>no</td>\n",
       "      <td>yes</td>\n",
       "      <td>West</td>\n",
       "    </tr>\n",
       "    <tr>\n",
       "      <th>3329</th>\n",
       "      <td>WV</td>\n",
       "      <td>370-3271</td>\n",
       "      <td>no</td>\n",
       "      <td>no</td>\n",
       "      <td>South</td>\n",
       "    </tr>\n",
       "    <tr>\n",
       "      <th>3330</th>\n",
       "      <td>RI</td>\n",
       "      <td>328-8230</td>\n",
       "      <td>no</td>\n",
       "      <td>no</td>\n",
       "      <td>Northeast</td>\n",
       "    </tr>\n",
       "    <tr>\n",
       "      <th>3331</th>\n",
       "      <td>CT</td>\n",
       "      <td>364-6381</td>\n",
       "      <td>yes</td>\n",
       "      <td>no</td>\n",
       "      <td>Northeast</td>\n",
       "    </tr>\n",
       "    <tr>\n",
       "      <th>3332</th>\n",
       "      <td>TN</td>\n",
       "      <td>400-4344</td>\n",
       "      <td>no</td>\n",
       "      <td>yes</td>\n",
       "      <td>South</td>\n",
       "    </tr>\n",
       "  </tbody>\n",
       "</table>\n",
       "<p>3333 rows × 5 columns</p>\n",
       "</div>"
      ],
      "text/plain": [
       "     state phone_number international_plan voice_mail_plan     region\n",
       "0       KS     382-4657                 no             yes    Midwest\n",
       "1       OH     371-7191                 no             yes    Midwest\n",
       "2       NJ     358-1921                 no              no  Northeast\n",
       "3       OH     375-9999                yes              no    Midwest\n",
       "4       OK     330-6626                yes              no      South\n",
       "...    ...          ...                ...             ...        ...\n",
       "3328    AZ     414-4276                 no             yes       West\n",
       "3329    WV     370-3271                 no              no      South\n",
       "3330    RI     328-8230                 no              no  Northeast\n",
       "3331    CT     364-6381                yes              no  Northeast\n",
       "3332    TN     400-4344                 no             yes      South\n",
       "\n",
       "[3333 rows x 5 columns]"
      ]
     },
     "execution_count": 120,
     "metadata": {},
     "output_type": "execute_result"
    }
   ],
   "source": [
    "df_cat"
   ]
  },
  {
   "cell_type": "code",
   "execution_count": 121,
<<<<<<< HEAD
   "id": "335592e2",
=======

   "id": "4c4906b2",

>>>>>>> 474dd32f643bd9eca840df2556f293fb24883824
   "metadata": {
    "ExecuteTime": {
     "end_time": "2021-08-02T18:14:19.319265Z",
     "start_time": "2021-08-02T18:14:19.297459Z"
    }
   },
   "outputs": [
    {
     "name": "stdout",
     "output_type": "stream",
     "text": [
      "<class 'pandas.core.frame.DataFrame'>\n",
      "RangeIndex: 3333 entries, 0 to 3332\n",
      "Data columns (total 5 columns):\n",
      " #   Column              Non-Null Count  Dtype \n",
      "---  ------              --------------  ----- \n",
      " 0   state               3333 non-null   object\n",
      " 1   phone_number        3333 non-null   object\n",
      " 2   international_plan  3333 non-null   object\n",
      " 3   voice_mail_plan     3333 non-null   object\n",
      " 4   region              3333 non-null   object\n",
      "dtypes: object(5)\n",
      "memory usage: 130.3+ KB\n"
     ]
    },
    {
     "name": "stderr",
     "output_type": "stream",
     "text": [
      "/Users/tbai/opt/anaconda3/envs/learn-env/lib/python3.8/site-packages/pandas/core/frame.py:4163: SettingWithCopyWarning:\n",
      "\n",
      "\n",
      "A value is trying to be set on a copy of a slice from a DataFrame\n",
      "\n",
      "See the caveats in the documentation: https://pandas.pydata.org/pandas-docs/stable/user_guide/indexing.html#returning-a-view-versus-a-copy\n",
      "\n"
     ]
    }
   ],
   "source": [
    "df_cat.info()\n",
    "df_cat.drop(['phone_number', 'state'], 1, inplace= True)"
   ]
  },
  {
   "cell_type": "code",
   "execution_count": 122,
<<<<<<< HEAD
   "id": "1b3d075d",
=======

   "id": "1a3d602b",

>>>>>>> 474dd32f643bd9eca840df2556f293fb24883824
   "metadata": {
    "ExecuteTime": {
     "end_time": "2021-08-02T18:14:19.724022Z",
     "start_time": "2021-08-02T18:14:19.472913Z"
    }
   },
   "outputs": [
    {
     "data": {
      "image/png": "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\n",
      "text/plain": [
       "<Figure size 1080x720 with 4 Axes>"
      ]
     },
     "metadata": {
      "needs_background": "light"
     },
     "output_type": "display_data"
    }
   ],
   "source": [
    "fig, ax = plt.subplots(2, 2, figsize=(15, 10))\n",
    "for variable, subplot in zip(df_cat.columns, ax.flatten()):\n",
    "    sns.countplot(x =df_cat[variable], ax=subplot )"
   ]
  },
  {
   "cell_type": "markdown",
<<<<<<< HEAD
   "id": "7f640a6b",
=======

   "id": "c5a5c033",

>>>>>>> 474dd32f643bd9eca840df2556f293fb24883824
   "metadata": {},
   "source": [
    "Seems that not many people have international plans.\n",
    "region seems "
   ]
  },
  {
   "cell_type": "code",
   "execution_count": 123,
<<<<<<< HEAD
   "id": "9ea50e7a",
=======

   "id": "0d3c32ff",

>>>>>>> 474dd32f643bd9eca840df2556f293fb24883824
   "metadata": {
    "ExecuteTime": {
     "end_time": "2021-08-02T18:14:20.205403Z",
     "start_time": "2021-08-02T18:14:19.754955Z"
    }
   },
   "outputs": [
    {
     "data": {
      "image/png": "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\n",
      "text/plain": [
       "<Figure size 1440x720 with 1 Axes>"
      ]
     },
     "metadata": {
      "needs_background": "light"
     },
     "output_type": "display_data"
    }
   ],
   "source": [
    "fig, ax = plt.subplots(figsize=(20, 10))\n",
    "state_plot = sns.countplot(x = df['state']);\n",
    "plt.xlabel(\"States\",size = 25)\n",
    "plt.ylabel(\"Count\", size = 25)\n",
    "plt.xticks(size = 13, rotation = 30);\n",
    "plt.yticks(size = 13, rotation = 30);"
   ]
  },
  {
   "cell_type": "code",
   "execution_count": 124,
<<<<<<< HEAD
   "id": "26c0f7c5",
=======

   "id": "e28c4247",

>>>>>>> 474dd32f643bd9eca840df2556f293fb24883824
   "metadata": {
    "ExecuteTime": {
     "end_time": "2021-08-02T18:14:20.214445Z",
     "start_time": "2021-08-02T18:14:20.206563Z"
    }
   },
   "outputs": [],
   "source": [
    "state_count1=df[['state','churn']]\n",
    "state_churn=state_count1[state_count1['churn']== 1].groupby('state',as_index = False).count()\n",
    "\n",
    "state_count2=df[['state','churn']].groupby('state',as_index = False).count()\n",
    "state_count2.rename(columns={\"churn\":\"total_cust\"},inplace=True)\n",
    "\n",
    "state_churn['total_cust']=state_count2['total_cust']\n",
    "state_churn['%churn']=(state_churn['churn']/state_count2['total_cust'])*100"
   ]
  },
  {
   "cell_type": "code",
<<<<<<< HEAD
   "execution_count": 435,
   "id": "a4fc920b",
=======

   "execution_count": 296,
   "id": "b26b2bc3",

>>>>>>> 474dd32f643bd9eca840df2556f293fb24883824
   "metadata": {
    "ExecuteTime": {
     "end_time": "2021-08-03T19:00:25.937476Z",
     "start_time": "2021-08-03T19:00:25.893560Z"
    }
   },
   "outputs": [
    {
     "data": {
      "application/vnd.plotly.v1+json": {
       "config": {
        "plotlyServerURL": "https://plot.ly"
       },
       "data": [
        {
         "colorbar": {
          "title": {
           "text": "churn percentage %"
          }
         },
         "colorscale": [
          [
           0,
           "rgb(247,252,253)"
          ],
          [
           0.125,
           "rgb(224,236,244)"
          ],
          [
           0.25,
           "rgb(191,211,230)"
          ],
          [
           0.375,
           "rgb(158,188,218)"
          ],
          [
           0.5,
           "rgb(140,150,198)"
          ],
          [
           0.625,
           "rgb(140,107,177)"
          ],
          [
           0.75,
           "rgb(136,65,157)"
          ],
          [
           0.875,
           "rgb(129,15,124)"
          ],
          [
           1,
           "rgb(77,0,75)"
          ]
         ],
         "locationmode": "USA-states",
         "locations": [
          "AK",
          "AL",
          "AR",
          "AZ",
          "CA",
          "CO",
          "CT",
          "DC",
          "DE",
          "FL",
          "GA",
          "HI",
          "IA",
          "ID",
          "IL",
          "IN",
          "KS",
          "KY",
          "LA",
          "MA",
          "MD",
          "ME",
          "MI",
          "MN",
          "MO",
          "MS",
          "MT",
          "NC",
          "ND",
          "NE",
          "NH",
          "NJ",
          "NM",
          "NV",
          "NY",
          "OH",
          "OK",
          "OR",
          "PA",
          "RI",
          "SC",
          "SD",
          "TN",
          "TX",
          "UT",
          "VA",
          "VT",
          "WA",
          "WI",
          "WV",
          "WY"
         ],
         "type": "choropleth",
         "z": [
          5.769230769230769,
          10,
          20,
          6.25,
          26.47058823529412,
          13.636363636363635,
          16.216216216216218,
          9.25925925925926,
          14.754098360655737,
          12.698412698412698,
          14.814814814814813,
          5.660377358490567,
          6.8181818181818175,
          12.32876712328767,
          8.620689655172415,
          12.676056338028168,
          18.571428571428573,
          13.559322033898304,
          7.8431372549019605,
          16.923076923076923,
          24.285714285714285,
          20.967741935483872,
          21.91780821917808,
          17.857142857142858,
          11.11111111111111,
          21.53846153846154,
          20.588235294117645,
          16.176470588235293,
          9.67741935483871,
          8.19672131147541,
          16.071428571428573,
          26.47058823529412,
          9.67741935483871,
          21.21212121212121,
          18.072289156626507,
          12.82051282051282,
          14.754098360655737,
          14.102564102564102,
          17.77777777777778,
          9.230769230769232,
          23.333333333333332,
          13.333333333333334,
          9.433962264150944,
          25,
          13.88888888888889,
          6.493506493506493,
          10.95890410958904,
          21.21212121212121,
          8.974358974358974,
          9.433962264150944,
          11.688311688311687
         ]
        }
       ],
       "layout": {
        "geo": {
         "scope": "usa"
        },
        "template": {
         "data": {
          "bar": [
           {
            "error_x": {
             "color": "#2a3f5f"
            },
            "error_y": {
             "color": "#2a3f5f"
            },
            "marker": {
             "line": {
              "color": "#E5ECF6",
              "width": 0.5
             }
            },
            "type": "bar"
           }
          ],
          "barpolar": [
           {
            "marker": {
             "line": {
              "color": "#E5ECF6",
              "width": 0.5
             }
            },
            "type": "barpolar"
           }
          ],
          "carpet": [
           {
            "aaxis": {
             "endlinecolor": "#2a3f5f",
             "gridcolor": "white",
             "linecolor": "white",
             "minorgridcolor": "white",
             "startlinecolor": "#2a3f5f"
            },
            "baxis": {
             "endlinecolor": "#2a3f5f",
             "gridcolor": "white",
             "linecolor": "white",
             "minorgridcolor": "white",
             "startlinecolor": "#2a3f5f"
            },
            "type": "carpet"
           }
          ],
          "choropleth": [
           {
            "colorbar": {
             "outlinewidth": 0,
             "ticks": ""
            },
            "type": "choropleth"
           }
          ],
          "contour": [
           {
            "colorbar": {
             "outlinewidth": 0,
             "ticks": ""
            },
            "colorscale": [
             [
              0,
              "#0d0887"
             ],
             [
              0.1111111111111111,
              "#46039f"
             ],
             [
              0.2222222222222222,
              "#7201a8"
             ],
             [
              0.3333333333333333,
              "#9c179e"
             ],
             [
              0.4444444444444444,
              "#bd3786"
             ],
             [
              0.5555555555555556,
              "#d8576b"
             ],
             [
              0.6666666666666666,
              "#ed7953"
             ],
             [
              0.7777777777777778,
              "#fb9f3a"
             ],
             [
              0.8888888888888888,
              "#fdca26"
             ],
             [
              1,
              "#f0f921"
             ]
            ],
            "type": "contour"
           }
          ],
          "contourcarpet": [
           {
            "colorbar": {
             "outlinewidth": 0,
             "ticks": ""
            },
            "type": "contourcarpet"
           }
          ],
          "heatmap": [
           {
            "colorbar": {
             "outlinewidth": 0,
             "ticks": ""
            },
            "colorscale": [
             [
              0,
              "#0d0887"
             ],
             [
              0.1111111111111111,
              "#46039f"
             ],
             [
              0.2222222222222222,
              "#7201a8"
             ],
             [
              0.3333333333333333,
              "#9c179e"
             ],
             [
              0.4444444444444444,
              "#bd3786"
             ],
             [
              0.5555555555555556,
              "#d8576b"
             ],
             [
              0.6666666666666666,
              "#ed7953"
             ],
             [
              0.7777777777777778,
              "#fb9f3a"
             ],
             [
              0.8888888888888888,
              "#fdca26"
             ],
             [
              1,
              "#f0f921"
             ]
            ],
            "type": "heatmap"
           }
          ],
          "heatmapgl": [
           {
            "colorbar": {
             "outlinewidth": 0,
             "ticks": ""
            },
            "colorscale": [
             [
              0,
              "#0d0887"
             ],
             [
              0.1111111111111111,
              "#46039f"
             ],
             [
              0.2222222222222222,
              "#7201a8"
             ],
             [
              0.3333333333333333,
              "#9c179e"
             ],
             [
              0.4444444444444444,
              "#bd3786"
             ],
             [
              0.5555555555555556,
              "#d8576b"
             ],
             [
              0.6666666666666666,
              "#ed7953"
             ],
             [
              0.7777777777777778,
              "#fb9f3a"
             ],
             [
              0.8888888888888888,
              "#fdca26"
             ],
             [
              1,
              "#f0f921"
             ]
            ],
            "type": "heatmapgl"
           }
          ],
          "histogram": [
           {
            "marker": {
             "colorbar": {
              "outlinewidth": 0,
              "ticks": ""
             }
            },
            "type": "histogram"
           }
          ],
          "histogram2d": [
           {
            "colorbar": {
             "outlinewidth": 0,
             "ticks": ""
            },
            "colorscale": [
             [
              0,
              "#0d0887"
             ],
             [
              0.1111111111111111,
              "#46039f"
             ],
             [
              0.2222222222222222,
              "#7201a8"
             ],
             [
              0.3333333333333333,
              "#9c179e"
             ],
             [
              0.4444444444444444,
              "#bd3786"
             ],
             [
              0.5555555555555556,
              "#d8576b"
             ],
             [
              0.6666666666666666,
              "#ed7953"
             ],
             [
              0.7777777777777778,
              "#fb9f3a"
             ],
             [
              0.8888888888888888,
              "#fdca26"
             ],
             [
              1,
              "#f0f921"
             ]
            ],
            "type": "histogram2d"
           }
          ],
          "histogram2dcontour": [
           {
            "colorbar": {
             "outlinewidth": 0,
             "ticks": ""
            },
            "colorscale": [
             [
              0,
              "#0d0887"
             ],
             [
              0.1111111111111111,
              "#46039f"
             ],
             [
              0.2222222222222222,
              "#7201a8"
             ],
             [
              0.3333333333333333,
              "#9c179e"
             ],
             [
              0.4444444444444444,
              "#bd3786"
             ],
             [
              0.5555555555555556,
              "#d8576b"
             ],
             [
              0.6666666666666666,
              "#ed7953"
             ],
             [
              0.7777777777777778,
              "#fb9f3a"
             ],
             [
              0.8888888888888888,
              "#fdca26"
             ],
             [
              1,
              "#f0f921"
             ]
            ],
            "type": "histogram2dcontour"
           }
          ],
          "mesh3d": [
           {
            "colorbar": {
             "outlinewidth": 0,
             "ticks": ""
            },
            "type": "mesh3d"
           }
          ],
          "parcoords": [
           {
            "line": {
             "colorbar": {
              "outlinewidth": 0,
              "ticks": ""
             }
            },
            "type": "parcoords"
           }
          ],
          "pie": [
           {
            "automargin": true,
            "type": "pie"
           }
          ],
          "scatter": [
           {
            "marker": {
             "colorbar": {
              "outlinewidth": 0,
              "ticks": ""
             }
            },
            "type": "scatter"
           }
          ],
          "scatter3d": [
           {
            "line": {
             "colorbar": {
              "outlinewidth": 0,
              "ticks": ""
             }
            },
            "marker": {
             "colorbar": {
              "outlinewidth": 0,
              "ticks": ""
             }
            },
            "type": "scatter3d"
           }
          ],
          "scattercarpet": [
           {
            "marker": {
             "colorbar": {
              "outlinewidth": 0,
              "ticks": ""
             }
            },
            "type": "scattercarpet"
           }
          ],
          "scattergeo": [
           {
            "marker": {
             "colorbar": {
              "outlinewidth": 0,
              "ticks": ""
             }
            },
            "type": "scattergeo"
           }
          ],
          "scattergl": [
           {
            "marker": {
             "colorbar": {
              "outlinewidth": 0,
              "ticks": ""
             }
            },
            "type": "scattergl"
           }
          ],
          "scattermapbox": [
           {
            "marker": {
             "colorbar": {
              "outlinewidth": 0,
              "ticks": ""
             }
            },
            "type": "scattermapbox"
           }
          ],
          "scatterpolar": [
           {
            "marker": {
             "colorbar": {
              "outlinewidth": 0,
              "ticks": ""
             }
            },
            "type": "scatterpolar"
           }
          ],
          "scatterpolargl": [
           {
            "marker": {
             "colorbar": {
              "outlinewidth": 0,
              "ticks": ""
             }
            },
            "type": "scatterpolargl"
           }
          ],
          "scatterternary": [
           {
            "marker": {
             "colorbar": {
              "outlinewidth": 0,
              "ticks": ""
             }
            },
            "type": "scatterternary"
           }
          ],
          "surface": [
           {
            "colorbar": {
             "outlinewidth": 0,
             "ticks": ""
            },
            "colorscale": [
             [
              0,
              "#0d0887"
             ],
             [
              0.1111111111111111,
              "#46039f"
             ],
             [
              0.2222222222222222,
              "#7201a8"
             ],
             [
              0.3333333333333333,
              "#9c179e"
             ],
             [
              0.4444444444444444,
              "#bd3786"
             ],
             [
              0.5555555555555556,
              "#d8576b"
             ],
             [
              0.6666666666666666,
              "#ed7953"
             ],
             [
              0.7777777777777778,
              "#fb9f3a"
             ],
             [
              0.8888888888888888,
              "#fdca26"
             ],
             [
              1,
              "#f0f921"
             ]
            ],
            "type": "surface"
           }
          ],
          "table": [
           {
            "cells": {
             "fill": {
              "color": "#EBF0F8"
             },
             "line": {
              "color": "white"
             }
            },
            "header": {
             "fill": {
              "color": "#C8D4E3"
             },
             "line": {
              "color": "white"
             }
            },
            "type": "table"
           }
          ]
         },
         "layout": {
          "annotationdefaults": {
           "arrowcolor": "#2a3f5f",
           "arrowhead": 0,
           "arrowwidth": 1
          },
          "coloraxis": {
           "colorbar": {
            "outlinewidth": 0,
            "ticks": ""
           }
          },
          "colorscale": {
           "diverging": [
            [
             0,
             "#8e0152"
            ],
            [
             0.1,
             "#c51b7d"
            ],
            [
             0.2,
             "#de77ae"
            ],
            [
             0.3,
             "#f1b6da"
            ],
            [
             0.4,
             "#fde0ef"
            ],
            [
             0.5,
             "#f7f7f7"
            ],
            [
             0.6,
             "#e6f5d0"
            ],
            [
             0.7,
             "#b8e186"
            ],
            [
             0.8,
             "#7fbc41"
            ],
            [
             0.9,
             "#4d9221"
            ],
            [
             1,
             "#276419"
            ]
           ],
           "sequential": [
            [
             0,
             "#0d0887"
            ],
            [
             0.1111111111111111,
             "#46039f"
            ],
            [
             0.2222222222222222,
             "#7201a8"
            ],
            [
             0.3333333333333333,
             "#9c179e"
            ],
            [
             0.4444444444444444,
             "#bd3786"
            ],
            [
             0.5555555555555556,
             "#d8576b"
            ],
            [
             0.6666666666666666,
             "#ed7953"
            ],
            [
             0.7777777777777778,
             "#fb9f3a"
            ],
            [
             0.8888888888888888,
             "#fdca26"
            ],
            [
             1,
             "#f0f921"
            ]
           ],
           "sequentialminus": [
            [
             0,
             "#0d0887"
            ],
            [
             0.1111111111111111,
             "#46039f"
            ],
            [
             0.2222222222222222,
             "#7201a8"
            ],
            [
             0.3333333333333333,
             "#9c179e"
            ],
            [
             0.4444444444444444,
             "#bd3786"
            ],
            [
             0.5555555555555556,
             "#d8576b"
            ],
            [
             0.6666666666666666,
             "#ed7953"
            ],
            [
             0.7777777777777778,
             "#fb9f3a"
            ],
            [
             0.8888888888888888,
             "#fdca26"
            ],
            [
             1,
             "#f0f921"
            ]
           ]
          },
          "colorway": [
           "#636efa",
           "#EF553B",
           "#00cc96",
           "#ab63fa",
           "#FFA15A",
           "#19d3f3",
           "#FF6692",
           "#B6E880",
           "#FF97FF",
           "#FECB52"
          ],
          "font": {
           "color": "#2a3f5f"
          },
          "geo": {
           "bgcolor": "white",
           "lakecolor": "white",
           "landcolor": "#E5ECF6",
           "showlakes": true,
           "showland": true,
           "subunitcolor": "white"
          },
          "hoverlabel": {
           "align": "left"
          },
          "hovermode": "closest",
          "mapbox": {
           "style": "light"
          },
          "paper_bgcolor": "white",
          "plot_bgcolor": "#E5ECF6",
          "polar": {
           "angularaxis": {
            "gridcolor": "white",
            "linecolor": "white",
            "ticks": ""
           },
           "bgcolor": "#E5ECF6",
           "radialaxis": {
            "gridcolor": "white",
            "linecolor": "white",
            "ticks": ""
           }
          },
          "scene": {
           "xaxis": {
            "backgroundcolor": "#E5ECF6",
            "gridcolor": "white",
            "gridwidth": 2,
            "linecolor": "white",
            "showbackground": true,
            "ticks": "",
            "zerolinecolor": "white"
           },
           "yaxis": {
            "backgroundcolor": "#E5ECF6",
            "gridcolor": "white",
            "gridwidth": 2,
            "linecolor": "white",
            "showbackground": true,
            "ticks": "",
            "zerolinecolor": "white"
           },
           "zaxis": {
            "backgroundcolor": "#E5ECF6",
            "gridcolor": "white",
            "gridwidth": 2,
            "linecolor": "white",
            "showbackground": true,
            "ticks": "",
            "zerolinecolor": "white"
           }
          },
          "shapedefaults": {
           "line": {
            "color": "#2a3f5f"
           }
          },
          "ternary": {
           "aaxis": {
            "gridcolor": "white",
            "linecolor": "white",
            "ticks": ""
           },
           "baxis": {
            "gridcolor": "white",
            "linecolor": "white",
            "ticks": ""
           },
           "bgcolor": "#E5ECF6",
           "caxis": {
            "gridcolor": "white",
            "linecolor": "white",
            "ticks": ""
           }
          },
          "title": {
           "x": 0.05
          },
          "xaxis": {
           "automargin": true,
           "gridcolor": "white",
           "linecolor": "white",
           "ticks": "",
           "title": {
            "standoff": 15
           },
           "zerolinecolor": "white",
           "zerolinewidth": 2
          },
          "yaxis": {
           "automargin": true,
           "gridcolor": "white",
           "linecolor": "white",
           "ticks": "",
           "title": {
            "standoff": 15
           },
           "zerolinecolor": "white",
           "zerolinewidth": 2
          }
         }
        },
        "title": {
         "text": "Customer churns by State"
        }
       }
      },
      "text/html": [
       "<div>                            <div id=\"e8d49a3e-87e3-45a5-8fc3-55b7b9980bab\" class=\"plotly-graph-div\" style=\"height:525px; width:100%;\"></div>            <script type=\"text/javascript\">                require([\"plotly\"], function(Plotly) {                    window.PLOTLYENV=window.PLOTLYENV || {};                                    if (document.getElementById(\"e8d49a3e-87e3-45a5-8fc3-55b7b9980bab\")) {                    Plotly.newPlot(                        \"e8d49a3e-87e3-45a5-8fc3-55b7b9980bab\",                        [{\"colorbar\": {\"title\": {\"text\": \"churn percentage %\"}}, \"colorscale\": [[0.0, \"rgb(247,252,253)\"], [0.125, \"rgb(224,236,244)\"], [0.25, \"rgb(191,211,230)\"], [0.375, \"rgb(158,188,218)\"], [0.5, \"rgb(140,150,198)\"], [0.625, \"rgb(140,107,177)\"], [0.75, \"rgb(136,65,157)\"], [0.875, \"rgb(129,15,124)\"], [1.0, \"rgb(77,0,75)\"]], \"locationmode\": \"USA-states\", \"locations\": [\"AK\", \"AL\", \"AR\", \"AZ\", \"CA\", \"CO\", \"CT\", \"DC\", \"DE\", \"FL\", \"GA\", \"HI\", \"IA\", \"ID\", \"IL\", \"IN\", \"KS\", \"KY\", \"LA\", \"MA\", \"MD\", \"ME\", \"MI\", \"MN\", \"MO\", \"MS\", \"MT\", \"NC\", \"ND\", \"NE\", \"NH\", \"NJ\", \"NM\", \"NV\", \"NY\", \"OH\", \"OK\", \"OR\", \"PA\", \"RI\", \"SC\", \"SD\", \"TN\", \"TX\", \"UT\", \"VA\", \"VT\", \"WA\", \"WI\", \"WV\", \"WY\"], \"type\": \"choropleth\", \"z\": [5.769230769230769, 10.0, 20.0, 6.25, 26.47058823529412, 13.636363636363635, 16.216216216216218, 9.25925925925926, 14.754098360655737, 12.698412698412698, 14.814814814814813, 5.660377358490567, 6.8181818181818175, 12.32876712328767, 8.620689655172415, 12.676056338028168, 18.571428571428573, 13.559322033898304, 7.8431372549019605, 16.923076923076923, 24.285714285714285, 20.967741935483872, 21.91780821917808, 17.857142857142858, 11.11111111111111, 21.53846153846154, 20.588235294117645, 16.176470588235293, 9.67741935483871, 8.19672131147541, 16.071428571428573, 26.47058823529412, 9.67741935483871, 21.21212121212121, 18.072289156626507, 12.82051282051282, 14.754098360655737, 14.102564102564102, 17.77777777777778, 9.230769230769232, 23.333333333333332, 13.333333333333334, 9.433962264150944, 25.0, 13.88888888888889, 6.493506493506493, 10.95890410958904, 21.21212121212121, 8.974358974358974, 9.433962264150944, 11.688311688311687]}],                        {\"geo\": {\"scope\": \"usa\"}, \"template\": {\"data\": {\"bar\": [{\"error_x\": {\"color\": \"#2a3f5f\"}, \"error_y\": {\"color\": \"#2a3f5f\"}, \"marker\": {\"line\": {\"color\": \"#E5ECF6\", \"width\": 0.5}}, \"type\": \"bar\"}], \"barpolar\": [{\"marker\": {\"line\": {\"color\": \"#E5ECF6\", \"width\": 0.5}}, \"type\": \"barpolar\"}], \"carpet\": [{\"aaxis\": {\"endlinecolor\": \"#2a3f5f\", \"gridcolor\": \"white\", \"linecolor\": \"white\", \"minorgridcolor\": \"white\", \"startlinecolor\": \"#2a3f5f\"}, \"baxis\": {\"endlinecolor\": \"#2a3f5f\", \"gridcolor\": \"white\", \"linecolor\": \"white\", \"minorgridcolor\": \"white\", \"startlinecolor\": \"#2a3f5f\"}, \"type\": \"carpet\"}], \"choropleth\": [{\"colorbar\": {\"outlinewidth\": 0, \"ticks\": \"\"}, \"type\": \"choropleth\"}], \"contour\": [{\"colorbar\": {\"outlinewidth\": 0, \"ticks\": \"\"}, \"colorscale\": [[0.0, \"#0d0887\"], [0.1111111111111111, \"#46039f\"], [0.2222222222222222, \"#7201a8\"], [0.3333333333333333, \"#9c179e\"], [0.4444444444444444, \"#bd3786\"], [0.5555555555555556, \"#d8576b\"], [0.6666666666666666, \"#ed7953\"], [0.7777777777777778, \"#fb9f3a\"], [0.8888888888888888, \"#fdca26\"], [1.0, \"#f0f921\"]], \"type\": \"contour\"}], \"contourcarpet\": [{\"colorbar\": {\"outlinewidth\": 0, \"ticks\": \"\"}, \"type\": \"contourcarpet\"}], \"heatmap\": [{\"colorbar\": {\"outlinewidth\": 0, \"ticks\": \"\"}, \"colorscale\": [[0.0, \"#0d0887\"], [0.1111111111111111, \"#46039f\"], [0.2222222222222222, \"#7201a8\"], [0.3333333333333333, \"#9c179e\"], [0.4444444444444444, \"#bd3786\"], [0.5555555555555556, \"#d8576b\"], [0.6666666666666666, \"#ed7953\"], [0.7777777777777778, \"#fb9f3a\"], [0.8888888888888888, \"#fdca26\"], [1.0, \"#f0f921\"]], \"type\": \"heatmap\"}], \"heatmapgl\": [{\"colorbar\": {\"outlinewidth\": 0, \"ticks\": \"\"}, \"colorscale\": [[0.0, \"#0d0887\"], [0.1111111111111111, \"#46039f\"], [0.2222222222222222, \"#7201a8\"], [0.3333333333333333, \"#9c179e\"], [0.4444444444444444, \"#bd3786\"], [0.5555555555555556, \"#d8576b\"], [0.6666666666666666, \"#ed7953\"], [0.7777777777777778, \"#fb9f3a\"], [0.8888888888888888, \"#fdca26\"], [1.0, \"#f0f921\"]], \"type\": \"heatmapgl\"}], \"histogram\": [{\"marker\": {\"colorbar\": {\"outlinewidth\": 0, \"ticks\": \"\"}}, \"type\": \"histogram\"}], \"histogram2d\": [{\"colorbar\": {\"outlinewidth\": 0, \"ticks\": \"\"}, \"colorscale\": [[0.0, \"#0d0887\"], [0.1111111111111111, \"#46039f\"], [0.2222222222222222, \"#7201a8\"], [0.3333333333333333, \"#9c179e\"], [0.4444444444444444, \"#bd3786\"], [0.5555555555555556, \"#d8576b\"], [0.6666666666666666, \"#ed7953\"], [0.7777777777777778, \"#fb9f3a\"], [0.8888888888888888, \"#fdca26\"], [1.0, \"#f0f921\"]], \"type\": \"histogram2d\"}], \"histogram2dcontour\": [{\"colorbar\": {\"outlinewidth\": 0, \"ticks\": \"\"}, \"colorscale\": [[0.0, \"#0d0887\"], [0.1111111111111111, \"#46039f\"], [0.2222222222222222, \"#7201a8\"], [0.3333333333333333, \"#9c179e\"], [0.4444444444444444, \"#bd3786\"], [0.5555555555555556, \"#d8576b\"], [0.6666666666666666, \"#ed7953\"], [0.7777777777777778, \"#fb9f3a\"], [0.8888888888888888, \"#fdca26\"], [1.0, \"#f0f921\"]], \"type\": \"histogram2dcontour\"}], \"mesh3d\": [{\"colorbar\": {\"outlinewidth\": 0, \"ticks\": \"\"}, \"type\": \"mesh3d\"}], \"parcoords\": [{\"line\": {\"colorbar\": {\"outlinewidth\": 0, \"ticks\": \"\"}}, \"type\": \"parcoords\"}], \"pie\": [{\"automargin\": true, \"type\": \"pie\"}], \"scatter\": [{\"marker\": {\"colorbar\": {\"outlinewidth\": 0, \"ticks\": \"\"}}, \"type\": \"scatter\"}], \"scatter3d\": [{\"line\": {\"colorbar\": {\"outlinewidth\": 0, \"ticks\": \"\"}}, \"marker\": {\"colorbar\": {\"outlinewidth\": 0, \"ticks\": \"\"}}, \"type\": \"scatter3d\"}], \"scattercarpet\": [{\"marker\": {\"colorbar\": {\"outlinewidth\": 0, \"ticks\": \"\"}}, \"type\": \"scattercarpet\"}], \"scattergeo\": [{\"marker\": {\"colorbar\": {\"outlinewidth\": 0, \"ticks\": \"\"}}, \"type\": \"scattergeo\"}], \"scattergl\": [{\"marker\": {\"colorbar\": {\"outlinewidth\": 0, \"ticks\": \"\"}}, \"type\": \"scattergl\"}], \"scattermapbox\": [{\"marker\": {\"colorbar\": {\"outlinewidth\": 0, \"ticks\": \"\"}}, \"type\": \"scattermapbox\"}], \"scatterpolar\": [{\"marker\": {\"colorbar\": {\"outlinewidth\": 0, \"ticks\": \"\"}}, \"type\": \"scatterpolar\"}], \"scatterpolargl\": [{\"marker\": {\"colorbar\": {\"outlinewidth\": 0, \"ticks\": \"\"}}, \"type\": \"scatterpolargl\"}], \"scatterternary\": [{\"marker\": {\"colorbar\": {\"outlinewidth\": 0, \"ticks\": \"\"}}, \"type\": \"scatterternary\"}], \"surface\": [{\"colorbar\": {\"outlinewidth\": 0, \"ticks\": \"\"}, \"colorscale\": [[0.0, \"#0d0887\"], [0.1111111111111111, \"#46039f\"], [0.2222222222222222, \"#7201a8\"], [0.3333333333333333, \"#9c179e\"], [0.4444444444444444, \"#bd3786\"], [0.5555555555555556, \"#d8576b\"], [0.6666666666666666, \"#ed7953\"], [0.7777777777777778, \"#fb9f3a\"], [0.8888888888888888, \"#fdca26\"], [1.0, \"#f0f921\"]], \"type\": \"surface\"}], \"table\": [{\"cells\": {\"fill\": {\"color\": \"#EBF0F8\"}, \"line\": {\"color\": \"white\"}}, \"header\": {\"fill\": {\"color\": \"#C8D4E3\"}, \"line\": {\"color\": \"white\"}}, \"type\": \"table\"}]}, \"layout\": {\"annotationdefaults\": {\"arrowcolor\": \"#2a3f5f\", \"arrowhead\": 0, \"arrowwidth\": 1}, \"coloraxis\": {\"colorbar\": {\"outlinewidth\": 0, \"ticks\": \"\"}}, \"colorscale\": {\"diverging\": [[0, \"#8e0152\"], [0.1, \"#c51b7d\"], [0.2, \"#de77ae\"], [0.3, \"#f1b6da\"], [0.4, \"#fde0ef\"], [0.5, \"#f7f7f7\"], [0.6, \"#e6f5d0\"], [0.7, \"#b8e186\"], [0.8, \"#7fbc41\"], [0.9, \"#4d9221\"], [1, \"#276419\"]], \"sequential\": [[0.0, \"#0d0887\"], [0.1111111111111111, \"#46039f\"], [0.2222222222222222, \"#7201a8\"], [0.3333333333333333, \"#9c179e\"], [0.4444444444444444, \"#bd3786\"], [0.5555555555555556, \"#d8576b\"], [0.6666666666666666, \"#ed7953\"], [0.7777777777777778, \"#fb9f3a\"], [0.8888888888888888, \"#fdca26\"], [1.0, \"#f0f921\"]], \"sequentialminus\": [[0.0, \"#0d0887\"], [0.1111111111111111, \"#46039f\"], [0.2222222222222222, \"#7201a8\"], [0.3333333333333333, \"#9c179e\"], [0.4444444444444444, \"#bd3786\"], [0.5555555555555556, \"#d8576b\"], [0.6666666666666666, \"#ed7953\"], [0.7777777777777778, \"#fb9f3a\"], [0.8888888888888888, \"#fdca26\"], [1.0, \"#f0f921\"]]}, \"colorway\": [\"#636efa\", \"#EF553B\", \"#00cc96\", \"#ab63fa\", \"#FFA15A\", \"#19d3f3\", \"#FF6692\", \"#B6E880\", \"#FF97FF\", \"#FECB52\"], \"font\": {\"color\": \"#2a3f5f\"}, \"geo\": {\"bgcolor\": \"white\", \"lakecolor\": \"white\", \"landcolor\": \"#E5ECF6\", \"showlakes\": true, \"showland\": true, \"subunitcolor\": \"white\"}, \"hoverlabel\": {\"align\": \"left\"}, \"hovermode\": \"closest\", \"mapbox\": {\"style\": \"light\"}, \"paper_bgcolor\": \"white\", \"plot_bgcolor\": \"#E5ECF6\", \"polar\": {\"angularaxis\": {\"gridcolor\": \"white\", \"linecolor\": \"white\", \"ticks\": \"\"}, \"bgcolor\": \"#E5ECF6\", \"radialaxis\": {\"gridcolor\": \"white\", \"linecolor\": \"white\", \"ticks\": \"\"}}, \"scene\": {\"xaxis\": {\"backgroundcolor\": \"#E5ECF6\", \"gridcolor\": \"white\", \"gridwidth\": 2, \"linecolor\": \"white\", \"showbackground\": true, \"ticks\": \"\", \"zerolinecolor\": \"white\"}, \"yaxis\": {\"backgroundcolor\": \"#E5ECF6\", \"gridcolor\": \"white\", \"gridwidth\": 2, \"linecolor\": \"white\", \"showbackground\": true, \"ticks\": \"\", \"zerolinecolor\": \"white\"}, \"zaxis\": {\"backgroundcolor\": \"#E5ECF6\", \"gridcolor\": \"white\", \"gridwidth\": 2, \"linecolor\": \"white\", \"showbackground\": true, \"ticks\": \"\", \"zerolinecolor\": \"white\"}}, \"shapedefaults\": {\"line\": {\"color\": \"#2a3f5f\"}}, \"ternary\": {\"aaxis\": {\"gridcolor\": \"white\", \"linecolor\": \"white\", \"ticks\": \"\"}, \"baxis\": {\"gridcolor\": \"white\", \"linecolor\": \"white\", \"ticks\": \"\"}, \"bgcolor\": \"#E5ECF6\", \"caxis\": {\"gridcolor\": \"white\", \"linecolor\": \"white\", \"ticks\": \"\"}}, \"title\": {\"x\": 0.05}, \"xaxis\": {\"automargin\": true, \"gridcolor\": \"white\", \"linecolor\": \"white\", \"ticks\": \"\", \"title\": {\"standoff\": 15}, \"zerolinecolor\": \"white\", \"zerolinewidth\": 2}, \"yaxis\": {\"automargin\": true, \"gridcolor\": \"white\", \"linecolor\": \"white\", \"ticks\": \"\", \"title\": {\"standoff\": 15}, \"zerolinecolor\": \"white\", \"zerolinewidth\": 2}}}, \"title\": {\"text\": \"Customer churns by State\"}},                        {\"responsive\": true}                    ).then(function(){\n",
       "                            \n",
       "var gd = document.getElementById('e8d49a3e-87e3-45a5-8fc3-55b7b9980bab');\n",
       "var x = new MutationObserver(function (mutations, observer) {{\n",
       "        var display = window.getComputedStyle(gd).display;\n",
       "        if (!display || display === 'none') {{\n",
       "            console.log([gd, 'removed!']);\n",
       "            Plotly.purge(gd);\n",
       "            observer.disconnect();\n",
       "        }}\n",
       "}});\n",
       "\n",
       "// Listen for the removal of the full notebook cells\n",
       "var notebookContainer = gd.closest('#notebook-container');\n",
       "if (notebookContainer) {{\n",
       "    x.observe(notebookContainer, {childList: true});\n",
       "}}\n",
       "\n",
       "// Listen for the clearing of the current output cell\n",
       "var outputEl = gd.closest('.output');\n",
       "if (outputEl) {{\n",
       "    x.observe(outputEl, {childList: true});\n",
       "}}\n",
       "\n",
       "                        })                };                });            </script>        </div>"
      ]
     },
     "metadata": {},
     "output_type": "display_data"
    }
   ],
   "source": [
    "fig = go.Figure(data=go.Choropleth(\n",
    "    locations=state_churn['state'], # Spatial coordinates\n",
    "    z = state_churn['%churn'].astype(float), # Data to be color-coded\n",
    "    locationmode = 'USA-states', # set of locations match entries in `locations`\n",
    "    colorscale = 'bupu',\n",
    "    colorbar_title = \"churn percentage %\",\n",
    "))\n",
    "\n",
    "fig.update_layout(\n",
    "    title_text = 'Customer churns by State',\n",
    "    geo_scope='usa', # limit map scope to US\n",
    ")\n",
    "\n",
    "fig.show()"
   ]
  },
  {
   "cell_type": "markdown",
<<<<<<< HEAD
   "id": "94a1ba10",
=======

   "id": "df0d6750",

>>>>>>> 474dd32f643bd9eca840df2556f293fb24883824
   "metadata": {},
   "source": [
    "# Churn By State:\n",
    " * worst states are Texas, New Jersey and California"
   ]
  },
  {
   "cell_type": "code",
   "execution_count": 126,
<<<<<<< HEAD
   "id": "7dede0c3",
=======

   "id": "d32572a4",

>>>>>>> 474dd32f643bd9eca840df2556f293fb24883824
   "metadata": {
    "ExecuteTime": {
     "end_time": "2021-08-02T18:14:20.409831Z",
     "start_time": "2021-08-02T18:14:20.403521Z"
    }
   },
   "outputs": [
    {
     "data": {
      "text/plain": [
       "Index(['state', 'account_length', 'area_code', 'phone_number',\n",
       "       'international_plan', 'voice_mail_plan', 'number_vmail_messages',\n",
       "       'total_day_minutes', 'total_day_calls', 'total_day_charge',\n",
       "       'total_eve_minutes', 'total_eve_calls', 'total_eve_charge',\n",
       "       'total_night_minutes', 'total_night_calls', 'total_night_charge',\n",
       "       'total_intl_minutes', 'total_intl_calls', 'total_intl_charge',\n",
       "       'customer_service_calls', 'churn', 'total_min', 'total_calls_dom',\n",
       "       'total_calls', 'total_charge_dom', 'total_charge', 'call_satisfaction',\n",
       "       'charge_per_min_dom', 'charge_per_min_intl', '%_int_min', 'region'],\n",
       "      dtype='object')"
      ]
     },
     "execution_count": 126,
     "metadata": {},
     "output_type": "execute_result"
    }
   ],
   "source": [
    "df.columns"
   ]
  },
  {
   "cell_type": "code",
   "execution_count": 127,
<<<<<<< HEAD
   "id": "c1391036",
=======

   "id": "b2003bb4",

>>>>>>> 474dd32f643bd9eca840df2556f293fb24883824
   "metadata": {
    "ExecuteTime": {
     "end_time": "2021-08-02T18:14:20.631218Z",
     "start_time": "2021-08-02T18:14:20.614702Z"
    },
    "scrolled": true
   },
   "outputs": [
    {
     "data": {
      "text/plain": [
       "state                     0\n",
       "account_length            0\n",
       "area_code                 0\n",
       "phone_number              0\n",
       "international_plan        0\n",
       "voice_mail_plan           0\n",
       "number_vmail_messages     0\n",
       "total_day_minutes         0\n",
       "total_day_calls           0\n",
       "total_day_charge          0\n",
       "total_eve_minutes         0\n",
       "total_eve_calls           0\n",
       "total_eve_charge          0\n",
       "total_night_minutes       0\n",
       "total_night_calls         0\n",
       "total_night_charge        0\n",
       "total_intl_minutes        0\n",
       "total_intl_calls          0\n",
       "total_intl_charge         0\n",
       "customer_service_calls    0\n",
       "churn                     0\n",
       "total_min                 0\n",
       "total_calls_dom           0\n",
       "total_calls               0\n",
       "total_charge_dom          0\n",
       "total_charge              0\n",
       "call_satisfaction         0\n",
       "charge_per_min_dom        0\n",
       "charge_per_min_intl       0\n",
       "%_int_min                 0\n",
       "region                    0\n",
       "dtype: int64"
      ]
     },
     "execution_count": 127,
     "metadata": {},
     "output_type": "execute_result"
    }
   ],
   "source": [
    "df.isnull().sum()"
   ]
  },
  {
   "cell_type": "code",
   "execution_count": 128,
<<<<<<< HEAD
   "id": "4c608474",
=======

   "id": "eb2c590a",

>>>>>>> 474dd32f643bd9eca840df2556f293fb24883824
   "metadata": {
    "ExecuteTime": {
     "end_time": "2021-08-02T18:14:20.832586Z",
     "start_time": "2021-08-02T18:14:20.824233Z"
    }
   },
   "outputs": [],
   "source": [
    "# filled the charge per_min_intl since some values were divided by 0\n",
    "df.fillna(0, inplace= True)"
   ]
  },
  {
   "cell_type": "code",
   "execution_count": 129,
<<<<<<< HEAD
   "id": "91e70f2b",
=======

   "id": "978b1546",

>>>>>>> 474dd32f643bd9eca840df2556f293fb24883824
   "metadata": {
    "ExecuteTime": {
     "end_time": "2021-08-02T18:14:21.198250Z",
     "start_time": "2021-08-02T18:14:21.183605Z"
    },
    "scrolled": true
   },
   "outputs": [
    {
     "data": {
      "text/plain": [
       "state                     0\n",
       "account_length            0\n",
       "area_code                 0\n",
       "phone_number              0\n",
       "international_plan        0\n",
       "voice_mail_plan           0\n",
       "number_vmail_messages     0\n",
       "total_day_minutes         0\n",
       "total_day_calls           0\n",
       "total_day_charge          0\n",
       "total_eve_minutes         0\n",
       "total_eve_calls           0\n",
       "total_eve_charge          0\n",
       "total_night_minutes       0\n",
       "total_night_calls         0\n",
       "total_night_charge        0\n",
       "total_intl_minutes        0\n",
       "total_intl_calls          0\n",
       "total_intl_charge         0\n",
       "customer_service_calls    0\n",
       "churn                     0\n",
       "total_min                 0\n",
       "total_calls_dom           0\n",
       "total_calls               0\n",
       "total_charge_dom          0\n",
       "total_charge              0\n",
       "call_satisfaction         0\n",
       "charge_per_min_dom        0\n",
       "charge_per_min_intl       0\n",
       "%_int_min                 0\n",
       "region                    0\n",
       "dtype: int64"
      ]
     },
     "execution_count": 129,
     "metadata": {},
     "output_type": "execute_result"
    }
   ],
   "source": [
    "df.isnull().sum()"
   ]
  },
  {
   "cell_type": "code",
   "execution_count": null,
<<<<<<< HEAD
   "id": "f48799d4",
=======

   "id": "7eb938ee",

>>>>>>> 474dd32f643bd9eca840df2556f293fb24883824
   "metadata": {},
   "outputs": [],
   "source": []
  },
  {
   "cell_type": "code",

   "execution_count": 416,
<<<<<<< HEAD
   "id": "e713f27a",
=======
   "id": "5750588c",

>>>>>>> 474dd32f643bd9eca840df2556f293fb24883824
   "metadata": {
    "ExecuteTime": {
     "end_time": "2021-08-03T17:16:25.254589Z",
     "start_time": "2021-08-03T17:16:25.232516Z"
    }
   },
   "outputs": [],
   "source": [
    "y= df['churn']\n",
    "X= df.drop(['churn', 'state', 'phone_number'], axis=1)\n",
    "X_train, X_test, y_train, y_test = train_test_split(X, y, test_size = .3 ,random_state=42)"
   ]
  },
  {
   "cell_type": "markdown",
<<<<<<< HEAD
   "id": "5387b717",
=======

   "id": "1bcef418",

>>>>>>> 474dd32f643bd9eca840df2556f293fb24883824
   "metadata": {},
   "source": [
    "## Pipeline"
   ]
  },
  {
   "cell_type": "code",

   "execution_count": 251,
<<<<<<< HEAD
   "id": "5ca8831d",
=======
   "id": "b12b1ab9",

>>>>>>> 474dd32f643bd9eca840df2556f293fb24883824
   "metadata": {
    "ExecuteTime": {
     "end_time": "2021-08-03T13:37:15.900712Z",
     "start_time": "2021-08-03T13:37:15.893393Z"
    }
   },
   "outputs": [],
   "source": [
    "X_num = df_cont.columns\n",
    "X_cat= df_cat.columns"
   ]
  },
  {
   "cell_type": "code",

   "execution_count": 252,
<<<<<<< HEAD
   "id": "035f2ffd",
=======
   "id": "ddd83112",

>>>>>>> 474dd32f643bd9eca840df2556f293fb24883824
   "metadata": {
    "ExecuteTime": {
     "end_time": "2021-08-03T13:37:17.030181Z",
     "start_time": "2021-08-03T13:37:17.018661Z"
    }
   },
   "outputs": [],
   "source": [
    "numTrans = Pipeline(steps=[\n",
    "    ('scaler', StandardScaler())\n",
    "])\n",
    "catTrans = Pipeline(steps=[\n",
    "    ('ohe', OneHotEncoder(drop='first',\n",
    "                          sparse=False))\n",
    "])\n",
    "\n",
    "pp = ColumnTransformer(transformers=[\n",
    "    ('num', numTrans, X_num),\n",
    "    ('cat', catTrans, X_cat)\n",
    "])"
   ]
  },
  {
   "cell_type": "code",

   "execution_count": 253,
<<<<<<< HEAD
   "id": "2a5cf4d8",
=======
   "id": "e933de2f",

>>>>>>> 474dd32f643bd9eca840df2556f293fb24883824
   "metadata": {
    "ExecuteTime": {
     "end_time": "2021-08-03T13:37:35.015833Z",
     "start_time": "2021-08-03T13:37:34.985128Z"
    }
   },
   "outputs": [],
   "source": [
    "X_test_clean_pp = pp.fit_transform(X_test)"
   ]
  },
  {
   "cell_type": "code",

   "execution_count": 254,
<<<<<<< HEAD
   "id": "852f7790",
=======
   "id": "f0ff02d0",

>>>>>>> 474dd32f643bd9eca840df2556f293fb24883824
   "metadata": {
    "ExecuteTime": {
     "end_time": "2021-08-03T13:37:35.874220Z",
     "start_time": "2021-08-03T13:37:35.870906Z"
    }
   },
   "outputs": [],
   "source": [
    "X_test_clean_pp=pd.DataFrame(X_test_clean)"
   ]
  },
  {
   "cell_type": "code",

   "execution_count": 255,
<<<<<<< HEAD
   "id": "d9e091b9",
=======
   "id": "227478da",

>>>>>>> 474dd32f643bd9eca840df2556f293fb24883824
   "metadata": {
    "ExecuteTime": {
     "end_time": "2021-08-03T13:37:42.143200Z",
     "start_time": "2021-08-03T13:37:42.109382Z"
    }
   },
   "outputs": [
    {
     "data": {
      "text/html": [
       "<div>\n",
       "<style scoped>\n",
       "    .dataframe tbody tr th:only-of-type {\n",
       "        vertical-align: middle;\n",
       "    }\n",
       "\n",
       "    .dataframe tbody tr th {\n",
       "        vertical-align: top;\n",
       "    }\n",
       "\n",
       "    .dataframe thead th {\n",
       "        text-align: right;\n",
       "    }\n",
       "</style>\n",
       "<table border=\"1\" class=\"dataframe\">\n",
       "  <thead>\n",
       "    <tr style=\"text-align: right;\">\n",
       "      <th></th>\n",
       "      <th>x0_yes</th>\n",
       "      <th>x1_yes</th>\n",
       "      <th>x2_Northeast</th>\n",
       "      <th>x2_South</th>\n",
       "      <th>x2_West</th>\n",
       "      <th>total_day_minutes</th>\n",
       "      <th>total_day_charge</th>\n",
       "      <th>total_eve_minutes</th>\n",
       "      <th>total_eve_charge</th>\n",
       "      <th>total_night_minutes</th>\n",
       "      <th>total_night_charge</th>\n",
       "      <th>total_intl_minutes</th>\n",
       "      <th>total_intl_charge</th>\n",
       "      <th>total_min</th>\n",
       "      <th>total_charge_dom</th>\n",
       "      <th>total_charge</th>\n",
       "      <th>call_satisfaction</th>\n",
       "      <th>charge_per_min_dom</th>\n",
       "      <th>charge_per_min_intl</th>\n",
       "      <th>%_int_min</th>\n",
       "    </tr>\n",
       "  </thead>\n",
       "  <tbody>\n",
       "    <tr>\n",
       "      <th>438</th>\n",
       "      <td>0.0</td>\n",
       "      <td>0.0</td>\n",
       "      <td>0.0</td>\n",
       "      <td>0.0</td>\n",
       "      <td>1.0</td>\n",
       "      <td>-0.445110</td>\n",
       "      <td>-0.445175</td>\n",
       "      <td>2.561623</td>\n",
       "      <td>2.561418</td>\n",
       "      <td>-0.240205</td>\n",
       "      <td>-0.241616</td>\n",
       "      <td>1.172579</td>\n",
       "      <td>1.178729</td>\n",
       "      <td>1.061954</td>\n",
       "      <td>0.165651</td>\n",
       "      <td>0.207530</td>\n",
       "      <td>-0.481091</td>\n",
       "      <td>-0.307370</td>\n",
       "      <td>0.627372</td>\n",
       "      <td>0.340880</td>\n",
       "    </tr>\n",
       "    <tr>\n",
       "      <th>2674</th>\n",
       "      <td>0.0</td>\n",
       "      <td>0.0</td>\n",
       "      <td>0.0</td>\n",
       "      <td>0.0</td>\n",
       "      <td>0.0</td>\n",
       "      <td>-1.289176</td>\n",
       "      <td>-1.288918</td>\n",
       "      <td>0.323576</td>\n",
       "      <td>0.323785</td>\n",
       "      <td>-0.260318</td>\n",
       "      <td>-0.259494</td>\n",
       "      <td>0.921990</td>\n",
       "      <td>0.926765</td>\n",
       "      <td>-0.704043</td>\n",
       "      <td>0.849735</td>\n",
       "      <td>0.880854</td>\n",
       "      <td>-1.193959</td>\n",
       "      <td>-0.758702</td>\n",
       "      <td>-0.400194</td>\n",
       "      <td>1.166827</td>\n",
       "    </tr>\n",
       "    <tr>\n",
       "      <th>1345</th>\n",
       "      <td>0.0</td>\n",
       "      <td>0.0</td>\n",
       "      <td>0.0</td>\n",
       "      <td>0.0</td>\n",
       "      <td>0.0</td>\n",
       "      <td>-3.295441</td>\n",
       "      <td>-3.295512</td>\n",
       "      <td>-0.819173</td>\n",
       "      <td>-0.818292</td>\n",
       "      <td>-0.688735</td>\n",
       "      <td>-0.688564</td>\n",
       "      <td>-1.225919</td>\n",
       "      <td>-1.221563</td>\n",
       "      <td>-2.836857</td>\n",
       "      <td>-5.011735</td>\n",
       "      <td>-5.042972</td>\n",
       "      <td>3.037678</td>\n",
       "      <td>-5.680282</td>\n",
       "      <td>1.628178</td>\n",
       "      <td>0.479823</td>\n",
       "    </tr>\n",
       "    <tr>\n",
       "      <th>1957</th>\n",
       "      <td>0.0</td>\n",
       "      <td>0.0</td>\n",
       "      <td>0.0</td>\n",
       "      <td>1.0</td>\n",
       "      <td>0.0</td>\n",
       "      <td>0.617788</td>\n",
       "      <td>0.618158</td>\n",
       "      <td>0.060625</td>\n",
       "      <td>0.060944</td>\n",
       "      <td>-0.907972</td>\n",
       "      <td>-0.907568</td>\n",
       "      <td>-0.008771</td>\n",
       "      <td>-0.014786</td>\n",
       "      <td>-0.093412</td>\n",
       "      <td>-1.086119</td>\n",
       "      <td>-1.083920</td>\n",
       "      <td>-0.381040</td>\n",
       "      <td>-0.961779</td>\n",
       "      <td>0.881587</td>\n",
       "      <td>-0.036015</td>\n",
       "    </tr>\n",
       "    <tr>\n",
       "      <th>2148</th>\n",
       "      <td>0.0</td>\n",
       "      <td>0.0</td>\n",
       "      <td>0.0</td>\n",
       "      <td>0.0</td>\n",
       "      <td>1.0</td>\n",
       "      <td>-0.647391</td>\n",
       "      <td>-0.647457</td>\n",
       "      <td>0.467902</td>\n",
       "      <td>0.467998</td>\n",
       "      <td>0.530140</td>\n",
       "      <td>0.531604</td>\n",
       "      <td>-0.080368</td>\n",
       "      <td>-0.081093</td>\n",
       "      <td>0.160285</td>\n",
       "      <td>0.248180</td>\n",
       "      <td>0.244646</td>\n",
       "      <td>-0.345307</td>\n",
       "      <td>1.295884</td>\n",
       "      <td>-0.706781</td>\n",
       "      <td>-0.212980</td>\n",
       "    </tr>\n",
       "    <tr>\n",
       "      <th>...</th>\n",
       "      <td>...</td>\n",
       "      <td>...</td>\n",
       "      <td>...</td>\n",
       "      <td>...</td>\n",
       "      <td>...</td>\n",
       "      <td>...</td>\n",
       "      <td>...</td>\n",
       "      <td>...</td>\n",
       "      <td>...</td>\n",
       "      <td>...</td>\n",
       "      <td>...</td>\n",
       "      <td>...</td>\n",
       "      <td>...</td>\n",
       "      <td>...</td>\n",
       "      <td>...</td>\n",
       "      <td>...</td>\n",
       "      <td>...</td>\n",
       "      <td>...</td>\n",
       "      <td>...</td>\n",
       "      <td>...</td>\n",
       "    </tr>\n",
       "    <tr>\n",
       "      <th>3080</th>\n",
       "      <td>0.0</td>\n",
       "      <td>0.0</td>\n",
       "      <td>0.0</td>\n",
       "      <td>0.0</td>\n",
       "      <td>0.0</td>\n",
       "      <td>-0.805539</td>\n",
       "      <td>-0.805388</td>\n",
       "      <td>0.713059</td>\n",
       "      <td>0.712230</td>\n",
       "      <td>-1.670272</td>\n",
       "      <td>-1.671849</td>\n",
       "      <td>2.604518</td>\n",
       "      <td>2.610948</td>\n",
       "      <td>-0.917105</td>\n",
       "      <td>0.063086</td>\n",
       "      <td>0.156614</td>\n",
       "      <td>-1.193959</td>\n",
       "      <td>-0.270120</td>\n",
       "      <td>0.572515</td>\n",
       "      <td>2.974296</td>\n",
       "    </tr>\n",
       "    <tr>\n",
       "      <th>2548</th>\n",
       "      <td>0.0</td>\n",
       "      <td>1.0</td>\n",
       "      <td>0.0</td>\n",
       "      <td>0.0</td>\n",
       "      <td>0.0</td>\n",
       "      <td>-0.478210</td>\n",
       "      <td>-0.478708</td>\n",
       "      <td>1.231053</td>\n",
       "      <td>1.230933</td>\n",
       "      <td>-1.334377</td>\n",
       "      <td>-1.332169</td>\n",
       "      <td>0.599803</td>\n",
       "      <td>0.595233</td>\n",
       "      <td>-0.311965</td>\n",
       "      <td>0.682769</td>\n",
       "      <td>0.702411</td>\n",
       "      <td>-0.456118</td>\n",
       "      <td>0.658581</td>\n",
       "      <td>-0.589804</td>\n",
       "      <td>0.609881</td>\n",
       "    </tr>\n",
       "    <tr>\n",
       "      <th>2916</th>\n",
       "      <td>0.0</td>\n",
       "      <td>0.0</td>\n",
       "      <td>0.0</td>\n",
       "      <td>1.0</td>\n",
       "      <td>0.0</td>\n",
       "      <td>-1.206424</td>\n",
       "      <td>-1.206707</td>\n",
       "      <td>-0.838944</td>\n",
       "      <td>-0.839227</td>\n",
       "      <td>-0.274398</td>\n",
       "      <td>-0.272902</td>\n",
       "      <td>0.098625</td>\n",
       "      <td>0.104565</td>\n",
       "      <td>-1.333344</td>\n",
       "      <td>-0.821359</td>\n",
       "      <td>-0.815542</td>\n",
       "      <td>0.472819</td>\n",
       "      <td>-0.343715</td>\n",
       "      <td>-0.566103</td>\n",
       "      <td>0.823045</td>\n",
       "    </tr>\n",
       "    <tr>\n",
       "      <th>2655</th>\n",
       "      <td>0.0</td>\n",
       "      <td>0.0</td>\n",
       "      <td>0.0</td>\n",
       "      <td>0.0</td>\n",
       "      <td>0.0</td>\n",
       "      <td>0.735479</td>\n",
       "      <td>0.734983</td>\n",
       "      <td>-0.672869</td>\n",
       "      <td>-0.671753</td>\n",
       "      <td>-0.803382</td>\n",
       "      <td>-0.804770</td>\n",
       "      <td>-0.080368</td>\n",
       "      <td>-0.081093</td>\n",
       "      <td>-0.375664</td>\n",
       "      <td>-1.511645</td>\n",
       "      <td>-1.510755</td>\n",
       "      <td>-0.309676</td>\n",
       "      <td>-0.922277</td>\n",
       "      <td>-0.459065</td>\n",
       "      <td>0.043462</td>\n",
       "    </tr>\n",
       "    <tr>\n",
       "      <th>1159</th>\n",
       "      <td>0.0</td>\n",
       "      <td>0.0</td>\n",
       "      <td>0.0</td>\n",
       "      <td>0.0</td>\n",
       "      <td>0.0</td>\n",
       "      <td>-1.395833</td>\n",
       "      <td>-1.396009</td>\n",
       "      <td>0.887042</td>\n",
       "      <td>0.886682</td>\n",
       "      <td>-0.809416</td>\n",
       "      <td>-0.809240</td>\n",
       "      <td>-1.369113</td>\n",
       "      <td>-1.367438</td>\n",
       "      <td>-0.824851</td>\n",
       "      <td>1.145027</td>\n",
       "      <td>1.093082</td>\n",
       "      <td>-1.193959</td>\n",
       "      <td>0.379102</td>\n",
       "      <td>-0.929267</td>\n",
       "      <td>-0.942286</td>\n",
       "    </tr>\n",
       "  </tbody>\n",
       "</table>\n",
       "<p>1000 rows × 20 columns</p>\n",
       "</div>"
      ],
      "text/plain": [
       "      x0_yes  x1_yes  x2_Northeast  x2_South  x2_West  total_day_minutes  \\\n",
       "438      0.0     0.0           0.0       0.0      1.0          -0.445110   \n",
       "2674     0.0     0.0           0.0       0.0      0.0          -1.289176   \n",
       "1345     0.0     0.0           0.0       0.0      0.0          -3.295441   \n",
       "1957     0.0     0.0           0.0       1.0      0.0           0.617788   \n",
       "2148     0.0     0.0           0.0       0.0      1.0          -0.647391   \n",
       "...      ...     ...           ...       ...      ...                ...   \n",
       "3080     0.0     0.0           0.0       0.0      0.0          -0.805539   \n",
       "2548     0.0     1.0           0.0       0.0      0.0          -0.478210   \n",
       "2916     0.0     0.0           0.0       1.0      0.0          -1.206424   \n",
       "2655     0.0     0.0           0.0       0.0      0.0           0.735479   \n",
       "1159     0.0     0.0           0.0       0.0      0.0          -1.395833   \n",
       "\n",
       "      total_day_charge  total_eve_minutes  total_eve_charge  \\\n",
       "438          -0.445175           2.561623          2.561418   \n",
       "2674         -1.288918           0.323576          0.323785   \n",
       "1345         -3.295512          -0.819173         -0.818292   \n",
       "1957          0.618158           0.060625          0.060944   \n",
       "2148         -0.647457           0.467902          0.467998   \n",
       "...                ...                ...               ...   \n",
       "3080         -0.805388           0.713059          0.712230   \n",
       "2548         -0.478708           1.231053          1.230933   \n",
       "2916         -1.206707          -0.838944         -0.839227   \n",
       "2655          0.734983          -0.672869         -0.671753   \n",
       "1159         -1.396009           0.887042          0.886682   \n",
       "\n",
       "      total_night_minutes  total_night_charge  total_intl_minutes  \\\n",
       "438             -0.240205           -0.241616            1.172579   \n",
       "2674            -0.260318           -0.259494            0.921990   \n",
       "1345            -0.688735           -0.688564           -1.225919   \n",
       "1957            -0.907972           -0.907568           -0.008771   \n",
       "2148             0.530140            0.531604           -0.080368   \n",
       "...                   ...                 ...                 ...   \n",
       "3080            -1.670272           -1.671849            2.604518   \n",
       "2548            -1.334377           -1.332169            0.599803   \n",
       "2916            -0.274398           -0.272902            0.098625   \n",
       "2655            -0.803382           -0.804770           -0.080368   \n",
       "1159            -0.809416           -0.809240           -1.369113   \n",
       "\n",
       "      total_intl_charge  total_min  total_charge_dom  total_charge  \\\n",
       "438            1.178729   1.061954          0.165651      0.207530   \n",
       "2674           0.926765  -0.704043          0.849735      0.880854   \n",
       "1345          -1.221563  -2.836857         -5.011735     -5.042972   \n",
       "1957          -0.014786  -0.093412         -1.086119     -1.083920   \n",
       "2148          -0.081093   0.160285          0.248180      0.244646   \n",
       "...                 ...        ...               ...           ...   \n",
       "3080           2.610948  -0.917105          0.063086      0.156614   \n",
       "2548           0.595233  -0.311965          0.682769      0.702411   \n",
       "2916           0.104565  -1.333344         -0.821359     -0.815542   \n",
       "2655          -0.081093  -0.375664         -1.511645     -1.510755   \n",
       "1159          -1.367438  -0.824851          1.145027      1.093082   \n",
       "\n",
       "      call_satisfaction  charge_per_min_dom  charge_per_min_intl  %_int_min  \n",
       "438           -0.481091           -0.307370             0.627372   0.340880  \n",
       "2674          -1.193959           -0.758702            -0.400194   1.166827  \n",
       "1345           3.037678           -5.680282             1.628178   0.479823  \n",
       "1957          -0.381040           -0.961779             0.881587  -0.036015  \n",
       "2148          -0.345307            1.295884            -0.706781  -0.212980  \n",
       "...                 ...                 ...                  ...        ...  \n",
       "3080          -1.193959           -0.270120             0.572515   2.974296  \n",
       "2548          -0.456118            0.658581            -0.589804   0.609881  \n",
       "2916           0.472819           -0.343715            -0.566103   0.823045  \n",
       "2655          -0.309676           -0.922277            -0.459065   0.043462  \n",
       "1159          -1.193959            0.379102            -0.929267  -0.942286  \n",
       "\n",
       "[1000 rows x 20 columns]"
      ]
     },
     "execution_count": 255,
     "metadata": {},
     "output_type": "execute_result"
    }
   ],
   "source": [
    "X_test_clean_pp"
   ]
  },
  {
   "cell_type": "code",
]
   "execution_count": 164,
<<<<<<< HEAD
   "id": "44b91064",
=======
   "id": "b54a6cf8",
]
>>>>>>> 474dd32f643bd9eca840df2556f293fb24883824
   "metadata": {
    "ExecuteTime": {
     "end_time": "2021-08-02T18:31:47.941558Z",
     "start_time": "2021-08-02T18:31:47.918380Z"
    }
   },
   "outputs": [],
   "source": [
    "# transforming the categorical variables \n",
    "X_train_cat = X_train.select_dtypes(exclude=['number'])\n",
    "\n",
    "ohe = OneHotEncoder(\n",
    "    drop='first',\n",
    "    sparse=False)\n",
    "\n",
    "dums = ohe.fit_transform(X_train_cat)\n",
    "dums_df = pd.DataFrame(dums,\n",
    "                       columns=ohe.get_feature_names(),\n",
    "                       index=X_train_cat.index)"
   ]
  },
  {
   "cell_type": "code",
   "execution_count": 165,
   "id": "85767af2",
   "metadata": {
    "ExecuteTime": {
     "end_time": "2021-08-02T18:31:48.209732Z",
     "start_time": "2021-08-02T18:31:48.192751Z"
    }
   },
   "outputs": [],
   "source": [
    "#scaling the continous variables\n",
    "X_train_nums = X_train.select_dtypes('float64')\n",
    "\n",
    "ss = StandardScaler()\n",
    "\n",
    "ss.fit(X_train_nums)\n",
    "nums_df = pd.DataFrame(ss.transform(X_train_nums),\n",
    "                      index=X_train_nums.index)\n",
    "\n",
    "\n",
    "nums_df.columns= X_train_nums.columns"
   ]
  },
  {
   "cell_type": "code",
   "execution_count": 179,
   "id": "3eb137d6",
   "metadata": {
    "ExecuteTime": {
     "end_time": "2021-08-02T18:34:24.358997Z",
     "start_time": "2021-08-02T18:34:24.334891Z"
    }
   },
   "outputs": [],
   "source": [
    "X_test_cat = X_test.select_dtypes(exclude=['number'])\n",
    "\n",
    "ohe = OneHotEncoder(\n",
    "    drop='first',\n",
    "    sparse=False)\n",
    "\n",
    "dums_2 = ohe.fit_transform(X_test_cat)\n",
    "dums_df2 = pd.DataFrame(dums_2,\n",
    "                       columns=ohe.get_feature_names(),\n",
    "                       index=X_test_cat.index)\n",
    "\n",
    "X_test_nums = X_test.select_dtypes('float64')\n",
    "\n",
    "ss = StandardScaler()\n",
    "\n",
    "ss.fit(X_test_nums)\n",
    "nums_df2 = pd.DataFrame(ss.transform(X_test_nums),\n",
    "                      index=X_test_nums.index)\n",
    "\n",
    "\n",
    "nums_df2.columns= X_train_nums.columns"
   ]
  },
  {
   "cell_type": "code",
   "execution_count": 180,
   "id": "4926fe35",
   "metadata": {
    "ExecuteTime": {
     "end_time": "2021-08-02T18:34:25.255459Z",
     "start_time": "2021-08-02T18:34:25.249360Z"
    }
   },
   "outputs": [],
   "source": [
    "X_train_clean = pd.concat([dums_df, nums_df],1)\n",
    "X_test_clean = pd.concat([dums_df2, nums_df2],1)"
   ]
  },
  {
   "cell_type": "code",
   "execution_count": 181,
   "id": "85f8de26",
   "metadata": {
    "ExecuteTime": {
     "end_time": "2021-08-02T18:34:26.182282Z",
     "start_time": "2021-08-02T18:34:26.148399Z"
    }
   },
   "outputs": [
    {
     "data": {
      "text/html": [
       "<div>\n",
       "<style scoped>\n",
       "    .dataframe tbody tr th:only-of-type {\n",
       "        vertical-align: middle;\n",
       "    }\n",
       "\n",
       "    .dataframe tbody tr th {\n",
       "        vertical-align: top;\n",
       "    }\n",
       "\n",
       "    .dataframe thead th {\n",
       "        text-align: right;\n",
       "    }\n",
       "</style>\n",
       "<table border=\"1\" class=\"dataframe\">\n",
       "  <thead>\n",
       "    <tr style=\"text-align: right;\">\n",
       "      <th></th>\n",
       "      <th>x0_yes</th>\n",
       "      <th>x1_yes</th>\n",
       "      <th>x2_Northeast</th>\n",
       "      <th>x2_South</th>\n",
       "      <th>x2_West</th>\n",
       "      <th>total_day_minutes</th>\n",
       "      <th>total_day_charge</th>\n",
       "      <th>total_eve_minutes</th>\n",
       "      <th>total_eve_charge</th>\n",
       "      <th>total_night_minutes</th>\n",
       "      <th>total_night_charge</th>\n",
       "      <th>total_intl_minutes</th>\n",
       "      <th>total_intl_charge</th>\n",
       "      <th>total_min</th>\n",
       "      <th>total_charge_dom</th>\n",
       "      <th>total_charge</th>\n",
       "      <th>call_satisfaction</th>\n",
       "      <th>charge_per_min_dom</th>\n",
       "      <th>charge_per_min_intl</th>\n",
       "      <th>%_int_min</th>\n",
       "    </tr>\n",
       "  </thead>\n",
       "  <tbody>\n",
       "    <tr>\n",
       "      <th>2016</th>\n",
       "      <td>0.0</td>\n",
       "      <td>0.0</td>\n",
       "      <td>1.0</td>\n",
       "      <td>0.0</td>\n",
       "      <td>0.0</td>\n",
       "      <td>0.410716</td>\n",
       "      <td>0.410877</td>\n",
       "      <td>1.167102</td>\n",
       "      <td>1.167733</td>\n",
       "      <td>-0.456961</td>\n",
       "      <td>-0.458282</td>\n",
       "      <td>-0.373682</td>\n",
       "      <td>-0.379643</td>\n",
       "      <td>0.640622</td>\n",
       "      <td>1.044943</td>\n",
       "      <td>1.030191</td>\n",
       "      <td>1.044815</td>\n",
       "      <td>1.264866</td>\n",
       "      <td>-0.567143</td>\n",
       "      <td>-0.627093</td>\n",
       "    </tr>\n",
       "    <tr>\n",
       "      <th>1362</th>\n",
       "      <td>0.0</td>\n",
       "      <td>0.0</td>\n",
       "      <td>0.0</td>\n",
       "      <td>1.0</td>\n",
       "      <td>0.0</td>\n",
       "      <td>-0.864713</td>\n",
       "      <td>-0.865095</td>\n",
       "      <td>-2.639021</td>\n",
       "      <td>-2.637901</td>\n",
       "      <td>-0.790790</td>\n",
       "      <td>-0.789925</td>\n",
       "      <td>-0.122835</td>\n",
       "      <td>-0.127479</td>\n",
       "      <td>-2.478104</td>\n",
       "      <td>0.400332</td>\n",
       "      <td>0.395342</td>\n",
       "      <td>1.008973</td>\n",
       "      <td>0.324584</td>\n",
       "      <td>0.815131</td>\n",
       "      <td>1.585515</td>\n",
       "    </tr>\n",
       "    <tr>\n",
       "      <th>2670</th>\n",
       "      <td>0.0</td>\n",
       "      <td>1.0</td>\n",
       "      <td>0.0</td>\n",
       "      <td>0.0</td>\n",
       "      <td>1.0</td>\n",
       "      <td>0.752053</td>\n",
       "      <td>0.752000</td>\n",
       "      <td>-0.984185</td>\n",
       "      <td>-0.983076</td>\n",
       "      <td>-0.425542</td>\n",
       "      <td>-0.423373</td>\n",
       "      <td>-0.445353</td>\n",
       "      <td>-0.446002</td>\n",
       "      <td>-0.356476</td>\n",
       "      <td>0.105904</td>\n",
       "      <td>0.089402</td>\n",
       "      <td>0.264224</td>\n",
       "      <td>-0.028174</td>\n",
       "      <td>-0.717068</td>\n",
       "      <td>-0.292651</td>\n",
       "    </tr>\n",
       "    <tr>\n",
       "      <th>2210</th>\n",
       "      <td>0.0</td>\n",
       "      <td>0.0</td>\n",
       "      <td>0.0</td>\n",
       "      <td>0.0</td>\n",
       "      <td>1.0</td>\n",
       "      <td>1.814605</td>\n",
       "      <td>1.814230</td>\n",
       "      <td>-0.211928</td>\n",
       "      <td>-0.211288</td>\n",
       "      <td>1.070799</td>\n",
       "      <td>1.069020</td>\n",
       "      <td>0.522200</td>\n",
       "      <td>0.522840</td>\n",
       "      <td>1.610893</td>\n",
       "      <td>0.533851</td>\n",
       "      <td>0.552710</td>\n",
       "      <td>-1.155889</td>\n",
       "      <td>1.744948</td>\n",
       "      <td>-0.640575</td>\n",
       "      <td>-0.323398</td>\n",
       "    </tr>\n",
       "    <tr>\n",
       "      <th>1846</th>\n",
       "      <td>0.0</td>\n",
       "      <td>1.0</td>\n",
       "      <td>1.0</td>\n",
       "      <td>0.0</td>\n",
       "      <td>0.0</td>\n",
       "      <td>-0.038896</td>\n",
       "      <td>-0.039276</td>\n",
       "      <td>-0.509404</td>\n",
       "      <td>-0.510269</td>\n",
       "      <td>-0.773117</td>\n",
       "      <td>-0.772470</td>\n",
       "      <td>0.450529</td>\n",
       "      <td>0.456481</td>\n",
       "      <td>-0.738771</td>\n",
       "      <td>0.606725</td>\n",
       "      <td>0.623086</td>\n",
       "      <td>-0.436611</td>\n",
       "      <td>0.580761</td>\n",
       "      <td>-0.103365</td>\n",
       "      <td>0.728200</td>\n",
       "    </tr>\n",
       "    <tr>\n",
       "      <th>...</th>\n",
       "      <td>...</td>\n",
       "      <td>...</td>\n",
       "      <td>...</td>\n",
       "      <td>...</td>\n",
       "      <td>...</td>\n",
       "      <td>...</td>\n",
       "      <td>...</td>\n",
       "      <td>...</td>\n",
       "      <td>...</td>\n",
       "      <td>...</td>\n",
       "      <td>...</td>\n",
       "      <td>...</td>\n",
       "      <td>...</td>\n",
       "      <td>...</td>\n",
       "      <td>...</td>\n",
       "      <td>...</td>\n",
       "      <td>...</td>\n",
       "      <td>...</td>\n",
       "      <td>...</td>\n",
       "      <td>...</td>\n",
       "    </tr>\n",
       "    <tr>\n",
       "      <th>1095</th>\n",
       "      <td>0.0</td>\n",
       "      <td>0.0</td>\n",
       "      <td>0.0</td>\n",
       "      <td>0.0</td>\n",
       "      <td>1.0</td>\n",
       "      <td>1.732023</td>\n",
       "      <td>1.732188</td>\n",
       "      <td>-0.046444</td>\n",
       "      <td>-0.046732</td>\n",
       "      <td>-0.782936</td>\n",
       "      <td>-0.781198</td>\n",
       "      <td>-1.520411</td>\n",
       "      <td>-1.521019</td>\n",
       "      <td>0.535547</td>\n",
       "      <td>0.850288</td>\n",
       "      <td>0.793650</td>\n",
       "      <td>-0.326160</td>\n",
       "      <td>2.054204</td>\n",
       "      <td>-0.494652</td>\n",
       "      <td>-1.470765</td>\n",
       "    </tr>\n",
       "    <tr>\n",
       "      <th>1130</th>\n",
       "      <td>0.0</td>\n",
       "      <td>0.0</td>\n",
       "      <td>1.0</td>\n",
       "      <td>0.0</td>\n",
       "      <td>0.0</td>\n",
       "      <td>-2.659490</td>\n",
       "      <td>-2.659228</td>\n",
       "      <td>-0.397112</td>\n",
       "      <td>-0.396702</td>\n",
       "      <td>1.000106</td>\n",
       "      <td>0.999200</td>\n",
       "      <td>0.880552</td>\n",
       "      <td>0.881179</td>\n",
       "      <td>-1.248499</td>\n",
       "      <td>-1.860699</td>\n",
       "      <td>-1.826876</td>\n",
       "      <td>-0.105948</td>\n",
       "      <td>0.023812</td>\n",
       "      <td>1.441190</td>\n",
       "      <td>1.533594</td>\n",
       "    </tr>\n",
       "    <tr>\n",
       "      <th>1294</th>\n",
       "      <td>0.0</td>\n",
       "      <td>0.0</td>\n",
       "      <td>0.0</td>\n",
       "      <td>0.0</td>\n",
       "      <td>1.0</td>\n",
       "      <td>-1.696036</td>\n",
       "      <td>-1.696312</td>\n",
       "      <td>1.202563</td>\n",
       "      <td>1.202498</td>\n",
       "      <td>-0.315574</td>\n",
       "      <td>-0.314280</td>\n",
       "      <td>-0.373682</td>\n",
       "      <td>-0.379643</td>\n",
       "      <td>-0.542034</td>\n",
       "      <td>-0.985730</td>\n",
       "      <td>-0.998981</td>\n",
       "      <td>-0.457032</td>\n",
       "      <td>-1.358426</td>\n",
       "      <td>-0.567143</td>\n",
       "      <td>-0.141458</td>\n",
       "    </tr>\n",
       "    <tr>\n",
       "      <th>860</th>\n",
       "      <td>0.0</td>\n",
       "      <td>0.0</td>\n",
       "      <td>0.0</td>\n",
       "      <td>0.0</td>\n",
       "      <td>1.0</td>\n",
       "      <td>-0.015039</td>\n",
       "      <td>-0.015527</td>\n",
       "      <td>-0.507434</td>\n",
       "      <td>-0.507951</td>\n",
       "      <td>0.548455</td>\n",
       "      <td>0.549737</td>\n",
       "      <td>-0.122835</td>\n",
       "      <td>-0.127479</td>\n",
       "      <td>0.011288</td>\n",
       "      <td>0.461956</td>\n",
       "      <td>0.456921</td>\n",
       "      <td>0.151117</td>\n",
       "      <td>-0.233507</td>\n",
       "      <td>-0.651167</td>\n",
       "      <td>-0.182442</td>\n",
       "    </tr>\n",
       "    <tr>\n",
       "      <th>3174</th>\n",
       "      <td>0.0</td>\n",
       "      <td>1.0</td>\n",
       "      <td>0.0</td>\n",
       "      <td>1.0</td>\n",
       "      <td>0.0</td>\n",
       "      <td>-2.754918</td>\n",
       "      <td>-2.755304</td>\n",
       "      <td>-1.415624</td>\n",
       "      <td>-1.416482</td>\n",
       "      <td>2.459137</td>\n",
       "      <td>2.461047</td>\n",
       "      <td>-0.588694</td>\n",
       "      <td>-0.591992</td>\n",
       "      <td>-1.099828</td>\n",
       "      <td>1.071354</td>\n",
       "      <td>1.048763</td>\n",
       "      <td>0.106434</td>\n",
       "      <td>0.132159</td>\n",
       "      <td>-0.747272</td>\n",
       "      <td>-0.054139</td>\n",
       "    </tr>\n",
       "  </tbody>\n",
       "</table>\n",
       "<p>2333 rows × 20 columns</p>\n",
       "</div>"
      ],
      "text/plain": [
       "      x0_yes  x1_yes  x2_Northeast  x2_South  x2_West  total_day_minutes  \\\n",
       "2016     0.0     0.0           1.0       0.0      0.0           0.410716   \n",
       "1362     0.0     0.0           0.0       1.0      0.0          -0.864713   \n",
       "2670     0.0     1.0           0.0       0.0      1.0           0.752053   \n",
       "2210     0.0     0.0           0.0       0.0      1.0           1.814605   \n",
       "1846     0.0     1.0           1.0       0.0      0.0          -0.038896   \n",
       "...      ...     ...           ...       ...      ...                ...   \n",
       "1095     0.0     0.0           0.0       0.0      1.0           1.732023   \n",
       "1130     0.0     0.0           1.0       0.0      0.0          -2.659490   \n",
       "1294     0.0     0.0           0.0       0.0      1.0          -1.696036   \n",
       "860      0.0     0.0           0.0       0.0      1.0          -0.015039   \n",
       "3174     0.0     1.0           0.0       1.0      0.0          -2.754918   \n",
       "\n",
       "      total_day_charge  total_eve_minutes  total_eve_charge  \\\n",
       "2016          0.410877           1.167102          1.167733   \n",
       "1362         -0.865095          -2.639021         -2.637901   \n",
       "2670          0.752000          -0.984185         -0.983076   \n",
       "2210          1.814230          -0.211928         -0.211288   \n",
       "1846         -0.039276          -0.509404         -0.510269   \n",
       "...                ...                ...               ...   \n",
       "1095          1.732188          -0.046444         -0.046732   \n",
       "1130         -2.659228          -0.397112         -0.396702   \n",
       "1294         -1.696312           1.202563          1.202498   \n",
       "860          -0.015527          -0.507434         -0.507951   \n",
       "3174         -2.755304          -1.415624         -1.416482   \n",
       "\n",
       "      total_night_minutes  total_night_charge  total_intl_minutes  \\\n",
       "2016            -0.456961           -0.458282           -0.373682   \n",
       "1362            -0.790790           -0.789925           -0.122835   \n",
       "2670            -0.425542           -0.423373           -0.445353   \n",
       "2210             1.070799            1.069020            0.522200   \n",
       "1846            -0.773117           -0.772470            0.450529   \n",
       "...                   ...                 ...                 ...   \n",
       "1095            -0.782936           -0.781198           -1.520411   \n",
       "1130             1.000106            0.999200            0.880552   \n",
       "1294            -0.315574           -0.314280           -0.373682   \n",
       "860              0.548455            0.549737           -0.122835   \n",
       "3174             2.459137            2.461047           -0.588694   \n",
       "\n",
       "      total_intl_charge  total_min  total_charge_dom  total_charge  \\\n",
       "2016          -0.379643   0.640622          1.044943      1.030191   \n",
       "1362          -0.127479  -2.478104          0.400332      0.395342   \n",
       "2670          -0.446002  -0.356476          0.105904      0.089402   \n",
       "2210           0.522840   1.610893          0.533851      0.552710   \n",
       "1846           0.456481  -0.738771          0.606725      0.623086   \n",
       "...                 ...        ...               ...           ...   \n",
       "1095          -1.521019   0.535547          0.850288      0.793650   \n",
       "1130           0.881179  -1.248499         -1.860699     -1.826876   \n",
       "1294          -0.379643  -0.542034         -0.985730     -0.998981   \n",
       "860           -0.127479   0.011288          0.461956      0.456921   \n",
       "3174          -0.591992  -1.099828          1.071354      1.048763   \n",
       "\n",
       "      call_satisfaction  charge_per_min_dom  charge_per_min_intl  %_int_min  \n",
       "2016           1.044815            1.264866            -0.567143  -0.627093  \n",
       "1362           1.008973            0.324584             0.815131   1.585515  \n",
       "2670           0.264224           -0.028174            -0.717068  -0.292651  \n",
       "2210          -1.155889            1.744948            -0.640575  -0.323398  \n",
       "1846          -0.436611            0.580761            -0.103365   0.728200  \n",
       "...                 ...                 ...                  ...        ...  \n",
       "1095          -0.326160            2.054204            -0.494652  -1.470765  \n",
       "1130          -0.105948            0.023812             1.441190   1.533594  \n",
       "1294          -0.457032           -1.358426            -0.567143  -0.141458  \n",
       "860            0.151117           -0.233507            -0.651167  -0.182442  \n",
       "3174           0.106434            0.132159            -0.747272  -0.054139  \n",
       "\n",
       "[2333 rows x 20 columns]"
      ]
     },
     "execution_count": 181,
     "metadata": {},
     "output_type": "execute_result"
    }
   ],
   "source": [
    "X_train_clean"
   ]
  },
  {
   "cell_type": "code",
]
   "execution_count": 182,
<<<<<<< HEAD
   "id": "edb03a00",
=======
   "id": "fc23c58e",
]
>>>>>>> 474dd32f643bd9eca840df2556f293fb24883824
   "metadata": {
    "ExecuteTime": {
     "end_time": "2021-08-02T18:34:27.015983Z",
     "start_time": "2021-08-02T18:34:26.980185Z"
    }
   },
   "outputs": [
    {
     "data": {
      "text/html": [
       "<div>\n",
       "<style scoped>\n",
       "    .dataframe tbody tr th:only-of-type {\n",
       "        vertical-align: middle;\n",
       "    }\n",
       "\n",
       "    .dataframe tbody tr th {\n",
       "        vertical-align: top;\n",
       "    }\n",
       "\n",
       "    .dataframe thead th {\n",
       "        text-align: right;\n",
       "    }\n",
       "</style>\n",
       "<table border=\"1\" class=\"dataframe\">\n",
       "  <thead>\n",
       "    <tr style=\"text-align: right;\">\n",
       "      <th></th>\n",
       "      <th>x0_yes</th>\n",
       "      <th>x1_yes</th>\n",
       "      <th>x2_Northeast</th>\n",
       "      <th>x2_South</th>\n",
       "      <th>x2_West</th>\n",
       "      <th>total_day_minutes</th>\n",
       "      <th>total_day_charge</th>\n",
       "      <th>total_eve_minutes</th>\n",
       "      <th>total_eve_charge</th>\n",
       "      <th>total_night_minutes</th>\n",
       "      <th>total_night_charge</th>\n",
       "      <th>total_intl_minutes</th>\n",
       "      <th>total_intl_charge</th>\n",
       "      <th>total_min</th>\n",
       "      <th>total_charge_dom</th>\n",
       "      <th>total_charge</th>\n",
       "      <th>call_satisfaction</th>\n",
       "      <th>charge_per_min_dom</th>\n",
       "      <th>charge_per_min_intl</th>\n",
       "      <th>%_int_min</th>\n",
       "    </tr>\n",
       "  </thead>\n",
       "  <tbody>\n",
       "    <tr>\n",
       "      <th>438</th>\n",
       "      <td>0.0</td>\n",
       "      <td>0.0</td>\n",
       "      <td>0.0</td>\n",
       "      <td>0.0</td>\n",
       "      <td>1.0</td>\n",
       "      <td>-0.445110</td>\n",
       "      <td>-0.445175</td>\n",
       "      <td>2.561623</td>\n",
       "      <td>2.561418</td>\n",
       "      <td>-0.240205</td>\n",
       "      <td>-0.241616</td>\n",
       "      <td>1.172579</td>\n",
       "      <td>1.178729</td>\n",
       "      <td>1.061954</td>\n",
       "      <td>0.165651</td>\n",
       "      <td>0.207530</td>\n",
       "      <td>-0.481091</td>\n",
       "      <td>-0.307370</td>\n",
       "      <td>0.627372</td>\n",
       "      <td>0.340880</td>\n",
       "    </tr>\n",
       "    <tr>\n",
       "      <th>2674</th>\n",
       "      <td>0.0</td>\n",
       "      <td>0.0</td>\n",
       "      <td>0.0</td>\n",
       "      <td>0.0</td>\n",
       "      <td>0.0</td>\n",
       "      <td>-1.289176</td>\n",
       "      <td>-1.288918</td>\n",
       "      <td>0.323576</td>\n",
       "      <td>0.323785</td>\n",
       "      <td>-0.260318</td>\n",
       "      <td>-0.259494</td>\n",
       "      <td>0.921990</td>\n",
       "      <td>0.926765</td>\n",
       "      <td>-0.704043</td>\n",
       "      <td>0.849735</td>\n",
       "      <td>0.880854</td>\n",
       "      <td>-1.193959</td>\n",
       "      <td>-0.758702</td>\n",
       "      <td>-0.400194</td>\n",
       "      <td>1.166827</td>\n",
       "    </tr>\n",
       "    <tr>\n",
       "      <th>1345</th>\n",
       "      <td>0.0</td>\n",
       "      <td>0.0</td>\n",
       "      <td>0.0</td>\n",
       "      <td>0.0</td>\n",
       "      <td>0.0</td>\n",
       "      <td>-3.295441</td>\n",
       "      <td>-3.295512</td>\n",
       "      <td>-0.819173</td>\n",
       "      <td>-0.818292</td>\n",
       "      <td>-0.688735</td>\n",
       "      <td>-0.688564</td>\n",
       "      <td>-1.225919</td>\n",
       "      <td>-1.221563</td>\n",
       "      <td>-2.836857</td>\n",
       "      <td>-5.011735</td>\n",
       "      <td>-5.042972</td>\n",
       "      <td>3.037678</td>\n",
       "      <td>-5.680282</td>\n",
       "      <td>1.628178</td>\n",
       "      <td>0.479823</td>\n",
       "    </tr>\n",
       "    <tr>\n",
       "      <th>1957</th>\n",
       "      <td>0.0</td>\n",
       "      <td>0.0</td>\n",
       "      <td>0.0</td>\n",
       "      <td>1.0</td>\n",
       "      <td>0.0</td>\n",
       "      <td>0.617788</td>\n",
       "      <td>0.618158</td>\n",
       "      <td>0.060625</td>\n",
       "      <td>0.060944</td>\n",
       "      <td>-0.907972</td>\n",
       "      <td>-0.907568</td>\n",
       "      <td>-0.008771</td>\n",
       "      <td>-0.014786</td>\n",
       "      <td>-0.093412</td>\n",
       "      <td>-1.086119</td>\n",
       "      <td>-1.083920</td>\n",
       "      <td>-0.381040</td>\n",
       "      <td>-0.961779</td>\n",
       "      <td>0.881587</td>\n",
       "      <td>-0.036015</td>\n",
       "    </tr>\n",
       "    <tr>\n",
       "      <th>2148</th>\n",
       "      <td>0.0</td>\n",
       "      <td>0.0</td>\n",
       "      <td>0.0</td>\n",
       "      <td>0.0</td>\n",
       "      <td>1.0</td>\n",
       "      <td>-0.647391</td>\n",
       "      <td>-0.647457</td>\n",
       "      <td>0.467902</td>\n",
       "      <td>0.467998</td>\n",
       "      <td>0.530140</td>\n",
       "      <td>0.531604</td>\n",
       "      <td>-0.080368</td>\n",
       "      <td>-0.081093</td>\n",
       "      <td>0.160285</td>\n",
       "      <td>0.248180</td>\n",
       "      <td>0.244646</td>\n",
       "      <td>-0.345307</td>\n",
       "      <td>1.295884</td>\n",
       "      <td>-0.706781</td>\n",
       "      <td>-0.212980</td>\n",
       "    </tr>\n",
       "    <tr>\n",
       "      <th>...</th>\n",
       "      <td>...</td>\n",
       "      <td>...</td>\n",
       "      <td>...</td>\n",
       "      <td>...</td>\n",
       "      <td>...</td>\n",
       "      <td>...</td>\n",
       "      <td>...</td>\n",
       "      <td>...</td>\n",
       "      <td>...</td>\n",
       "      <td>...</td>\n",
       "      <td>...</td>\n",
       "      <td>...</td>\n",
       "      <td>...</td>\n",
       "      <td>...</td>\n",
       "      <td>...</td>\n",
       "      <td>...</td>\n",
       "      <td>...</td>\n",
       "      <td>...</td>\n",
       "      <td>...</td>\n",
       "      <td>...</td>\n",
       "    </tr>\n",
       "    <tr>\n",
       "      <th>3080</th>\n",
       "      <td>0.0</td>\n",
       "      <td>0.0</td>\n",
       "      <td>0.0</td>\n",
       "      <td>0.0</td>\n",
       "      <td>0.0</td>\n",
       "      <td>-0.805539</td>\n",
       "      <td>-0.805388</td>\n",
       "      <td>0.713059</td>\n",
       "      <td>0.712230</td>\n",
       "      <td>-1.670272</td>\n",
       "      <td>-1.671849</td>\n",
       "      <td>2.604518</td>\n",
       "      <td>2.610948</td>\n",
       "      <td>-0.917105</td>\n",
       "      <td>0.063086</td>\n",
       "      <td>0.156614</td>\n",
       "      <td>-1.193959</td>\n",
       "      <td>-0.270120</td>\n",
       "      <td>0.572515</td>\n",
       "      <td>2.974296</td>\n",
       "    </tr>\n",
       "    <tr>\n",
       "      <th>2548</th>\n",
       "      <td>0.0</td>\n",
       "      <td>1.0</td>\n",
       "      <td>0.0</td>\n",
       "      <td>0.0</td>\n",
       "      <td>0.0</td>\n",
       "      <td>-0.478210</td>\n",
       "      <td>-0.478708</td>\n",
       "      <td>1.231053</td>\n",
       "      <td>1.230933</td>\n",
       "      <td>-1.334377</td>\n",
       "      <td>-1.332169</td>\n",
       "      <td>0.599803</td>\n",
       "      <td>0.595233</td>\n",
       "      <td>-0.311965</td>\n",
       "      <td>0.682769</td>\n",
       "      <td>0.702411</td>\n",
       "      <td>-0.456118</td>\n",
       "      <td>0.658581</td>\n",
       "      <td>-0.589804</td>\n",
       "      <td>0.609881</td>\n",
       "    </tr>\n",
       "    <tr>\n",
       "      <th>2916</th>\n",
       "      <td>0.0</td>\n",
       "      <td>0.0</td>\n",
       "      <td>0.0</td>\n",
       "      <td>1.0</td>\n",
       "      <td>0.0</td>\n",
       "      <td>-1.206424</td>\n",
       "      <td>-1.206707</td>\n",
       "      <td>-0.838944</td>\n",
       "      <td>-0.839227</td>\n",
       "      <td>-0.274398</td>\n",
       "      <td>-0.272902</td>\n",
       "      <td>0.098625</td>\n",
       "      <td>0.104565</td>\n",
       "      <td>-1.333344</td>\n",
       "      <td>-0.821359</td>\n",
       "      <td>-0.815542</td>\n",
       "      <td>0.472819</td>\n",
       "      <td>-0.343715</td>\n",
       "      <td>-0.566103</td>\n",
       "      <td>0.823045</td>\n",
       "    </tr>\n",
       "    <tr>\n",
       "      <th>2655</th>\n",
       "      <td>0.0</td>\n",
       "      <td>0.0</td>\n",
       "      <td>0.0</td>\n",
       "      <td>0.0</td>\n",
       "      <td>0.0</td>\n",
       "      <td>0.735479</td>\n",
       "      <td>0.734983</td>\n",
       "      <td>-0.672869</td>\n",
       "      <td>-0.671753</td>\n",
       "      <td>-0.803382</td>\n",
       "      <td>-0.804770</td>\n",
       "      <td>-0.080368</td>\n",
       "      <td>-0.081093</td>\n",
       "      <td>-0.375664</td>\n",
       "      <td>-1.511645</td>\n",
       "      <td>-1.510755</td>\n",
       "      <td>-0.309676</td>\n",
       "      <td>-0.922277</td>\n",
       "      <td>-0.459065</td>\n",
       "      <td>0.043462</td>\n",
       "    </tr>\n",
       "    <tr>\n",
       "      <th>1159</th>\n",
       "      <td>0.0</td>\n",
       "      <td>0.0</td>\n",
       "      <td>0.0</td>\n",
       "      <td>0.0</td>\n",
       "      <td>0.0</td>\n",
       "      <td>-1.395833</td>\n",
       "      <td>-1.396009</td>\n",
       "      <td>0.887042</td>\n",
       "      <td>0.886682</td>\n",
       "      <td>-0.809416</td>\n",
       "      <td>-0.809240</td>\n",
       "      <td>-1.369113</td>\n",
       "      <td>-1.367438</td>\n",
       "      <td>-0.824851</td>\n",
       "      <td>1.145027</td>\n",
       "      <td>1.093082</td>\n",
       "      <td>-1.193959</td>\n",
       "      <td>0.379102</td>\n",
       "      <td>-0.929267</td>\n",
       "      <td>-0.942286</td>\n",
       "    </tr>\n",
       "  </tbody>\n",
       "</table>\n",
       "<p>1000 rows × 20 columns</p>\n",
       "</div>"
      ],
      "text/plain": [
       "      x0_yes  x1_yes  x2_Northeast  x2_South  x2_West  total_day_minutes  \\\n",
       "438      0.0     0.0           0.0       0.0      1.0          -0.445110   \n",
       "2674     0.0     0.0           0.0       0.0      0.0          -1.289176   \n",
       "1345     0.0     0.0           0.0       0.0      0.0          -3.295441   \n",
       "1957     0.0     0.0           0.0       1.0      0.0           0.617788   \n",
       "2148     0.0     0.0           0.0       0.0      1.0          -0.647391   \n",
       "...      ...     ...           ...       ...      ...                ...   \n",
       "3080     0.0     0.0           0.0       0.0      0.0          -0.805539   \n",
       "2548     0.0     1.0           0.0       0.0      0.0          -0.478210   \n",
       "2916     0.0     0.0           0.0       1.0      0.0          -1.206424   \n",
       "2655     0.0     0.0           0.0       0.0      0.0           0.735479   \n",
       "1159     0.0     0.0           0.0       0.0      0.0          -1.395833   \n",
       "\n",
       "      total_day_charge  total_eve_minutes  total_eve_charge  \\\n",
       "438          -0.445175           2.561623          2.561418   \n",
       "2674         -1.288918           0.323576          0.323785   \n",
       "1345         -3.295512          -0.819173         -0.818292   \n",
       "1957          0.618158           0.060625          0.060944   \n",
       "2148         -0.647457           0.467902          0.467998   \n",
       "...                ...                ...               ...   \n",
       "3080         -0.805388           0.713059          0.712230   \n",
       "2548         -0.478708           1.231053          1.230933   \n",
       "2916         -1.206707          -0.838944         -0.839227   \n",
       "2655          0.734983          -0.672869         -0.671753   \n",
       "1159         -1.396009           0.887042          0.886682   \n",
       "\n",
       "      total_night_minutes  total_night_charge  total_intl_minutes  \\\n",
       "438             -0.240205           -0.241616            1.172579   \n",
       "2674            -0.260318           -0.259494            0.921990   \n",
       "1345            -0.688735           -0.688564           -1.225919   \n",
       "1957            -0.907972           -0.907568           -0.008771   \n",
       "2148             0.530140            0.531604           -0.080368   \n",
       "...                   ...                 ...                 ...   \n",
       "3080            -1.670272           -1.671849            2.604518   \n",
       "2548            -1.334377           -1.332169            0.599803   \n",
       "2916            -0.274398           -0.272902            0.098625   \n",
       "2655            -0.803382           -0.804770           -0.080368   \n",
       "1159            -0.809416           -0.809240           -1.369113   \n",
       "\n",
       "      total_intl_charge  total_min  total_charge_dom  total_charge  \\\n",
       "438            1.178729   1.061954          0.165651      0.207530   \n",
       "2674           0.926765  -0.704043          0.849735      0.880854   \n",
       "1345          -1.221563  -2.836857         -5.011735     -5.042972   \n",
       "1957          -0.014786  -0.093412         -1.086119     -1.083920   \n",
       "2148          -0.081093   0.160285          0.248180      0.244646   \n",
       "...                 ...        ...               ...           ...   \n",
       "3080           2.610948  -0.917105          0.063086      0.156614   \n",
       "2548           0.595233  -0.311965          0.682769      0.702411   \n",
       "2916           0.104565  -1.333344         -0.821359     -0.815542   \n",
       "2655          -0.081093  -0.375664         -1.511645     -1.510755   \n",
       "1159          -1.367438  -0.824851          1.145027      1.093082   \n",
       "\n",
       "      call_satisfaction  charge_per_min_dom  charge_per_min_intl  %_int_min  \n",
       "438           -0.481091           -0.307370             0.627372   0.340880  \n",
       "2674          -1.193959           -0.758702            -0.400194   1.166827  \n",
       "1345           3.037678           -5.680282             1.628178   0.479823  \n",
       "1957          -0.381040           -0.961779             0.881587  -0.036015  \n",
       "2148          -0.345307            1.295884            -0.706781  -0.212980  \n",
       "...                 ...                 ...                  ...        ...  \n",
       "3080          -1.193959           -0.270120             0.572515   2.974296  \n",
       "2548          -0.456118            0.658581            -0.589804   0.609881  \n",
       "2916           0.472819           -0.343715            -0.566103   0.823045  \n",
       "2655          -0.309676           -0.922277            -0.459065   0.043462  \n",
       "1159          -1.193959            0.379102            -0.929267  -0.942286  \n",
       "\n",
       "[1000 rows x 20 columns]"
      ]
     },
     "execution_count": 182,
     "metadata": {},
     "output_type": "execute_result"
    }
   ],
   "source": [
    "X_test_clean"
   ]
  },
  {
   "cell_type": "code",
   "execution_count": 45,
   "id": "91ad96d3",
   "metadata": {
    "ExecuteTime": {
     "end_time": "2021-08-02T15:32:23.380994Z",
     "start_time": "2021-08-02T15:32:23.375468Z"
    }
   },
   "outputs": [],
   "source": [
    "from sklearn.linear_model import LogisticRegression\n",
    "log_reg = LogisticRegression()"
   ]
  },
  {
   "cell_type": "code",
   "execution_count": 46,
   "id": "66012b16",
   "metadata": {
    "ExecuteTime": {
     "end_time": "2021-08-02T15:32:23.563324Z",
     "start_time": "2021-08-02T15:32:23.553328Z"
    }
   },
   "outputs": [
    {
     "data": {
      "text/plain": [
       "x0_yes          0\n",
       "x1_yes          0\n",
       "x2_Northeast    0\n",
       "x2_South        0\n",
       "x2_West         0\n",
       "0               0\n",
       "1               0\n",
       "2               0\n",
       "3               0\n",
       "4               0\n",
       "5               0\n",
       "6               0\n",
       "7               0\n",
       "8               0\n",
       "9               0\n",
       "10              0\n",
       "11              0\n",
       "12              0\n",
       "13              0\n",
       "14              0\n",
       "dtype: int64"
      ]
     },
     "execution_count": 46,
     "metadata": {},
     "output_type": "execute_result"
    }
   ],
   "source": [
    "X_train_clean.isnull().sum()"
   ]
  },
  {
   "cell_type": "markdown",
   "id": "371e78d7",
   "metadata": {},
   "source": [
    "# Baseline Model Logistic Classification"
   ]
  },
  {
   "cell_type": "code",
   "execution_count": 64,
   "id": "c99d31df",
   "metadata": {
    "ExecuteTime": {
     "end_time": "2021-08-02T17:23:16.073562Z",
     "start_time": "2021-08-02T17:23:16.019908Z"
    }
   },
   "outputs": [
    {
     "data": {
      "text/plain": [
       "LogisticRegression()"
      ]
     },
     "execution_count": 64,
     "metadata": {},
     "output_type": "execute_result"
    }
   ],
   "source": [
    "log_reg.fit(X_train_clean, y_train)"
   ]
  },
  {
   "cell_type": "code",
   "execution_count": 50,
   "id": "e2e95b4d",
   "metadata": {
    "ExecuteTime": {
     "end_time": "2021-08-02T15:33:10.559989Z",
     "start_time": "2021-08-02T15:33:10.549028Z"
    }
   },
   "outputs": [
    {
     "data": {
      "text/plain": [
       "0.866266609515645"
      ]
     },
     "execution_count": 50,
     "metadata": {},
     "output_type": "execute_result"
    }
   ],
   "source": [
    "log_reg.score(X_train_clean, y_train)"
   ]
  },
  {
   "cell_type": "code",
   "execution_count": 65,
   "id": "3811a94e",
   "metadata": {
    "ExecuteTime": {
     "end_time": "2021-08-02T17:23:52.446586Z",
     "start_time": "2021-08-02T17:23:52.440072Z"
    }
   },
   "outputs": [],
   "source": [
    "base_pred = log_reg.predict(X_train_clean)"
   ]
  },
  {
   "cell_type": "code",
   "execution_count": 67,
   "id": "dfad83d1",
   "metadata": {
    "ExecuteTime": {
     "end_time": "2021-08-02T17:25:20.981461Z",
     "start_time": "2021-08-02T17:25:20.975270Z"
    }
   },
   "outputs": [],
   "source": [
    "def scores(actual, pred):\n",
    "    print(\"log loss: \", log_loss(actual, pred))\n",
    "    print(\"accuracy: \", accuracy_score(actual, pred))\n",
    "    print(\"precision:\", precision_score(actual, pred))\n",
    "    print(\"recall:   \", recall_score(actual, pred))"
   ]
  },
  {
   "cell_type": "code",
   "execution_count": 68,
   "id": "de5c4349",
   "metadata": {
    "ExecuteTime": {
     "end_time": "2021-08-02T17:25:38.429709Z",
     "start_time": "2021-08-02T17:25:38.402507Z"
    }
   },
   "outputs": [
    {
     "name": "stdout",
     "output_type": "stream",
     "text": [
      "log loss:  4.619005149884729\n",
      "accuracy:  0.866266609515645\n",
      "precision: 0.6076923076923076\n",
      "recall:    0.2323529411764706\n"
     ]
    }
   ],
   "source": [
    "scores(y_train, base_pred)"
   ]
  },
  {
   "cell_type": "markdown",
   "id": "06b4c8af",
   "metadata": {},
   "source": [
    "## Random Forest"
   ]
  },
  {
   "cell_type": "code",
   "execution_count": 424,
   "id": "587ad3d6",
   "metadata": {
    "ExecuteTime": {
     "end_time": "2021-08-03T17:25:37.016388Z",
     "start_time": "2021-08-03T17:25:32.244408Z"
    }
   },
   "outputs": [
    {
     "data": {
      "text/plain": [
       "RandomForestClassifier(criterion='entropy', max_depth=10, min_samples_split=7,\n",
       "                       n_estimators=1150)"
      ]
     },
     "execution_count": 424,
     "metadata": {},
     "output_type": "execute_result"
    }
   ],
   "source": [
    "rf_model = RandomForestClassifier(criterion = 'entropy', n_estimators = 1150, max_depth=10, bootstrap = True, min_samples_split= 7)\n",
    "rf_model.fit(X_train_clean, y_train)"
   ]
  },
  {
   "cell_type": "code",
   "execution_count": 425,
   "id": "8a1bec69",
   "metadata": {
    "ExecuteTime": {
     "end_time": "2021-08-03T17:25:37.169524Z",
     "start_time": "2021-08-03T17:25:37.018218Z"
    }
   },
   "outputs": [],
   "source": [
    "rf_preds = rf_model.predict(X_test_clean)"
   ]
  },
  {
   "cell_type": "code",
   "execution_count": 426,
   "id": "c9700a52",
   "metadata": {
    "ExecuteTime": {
     "end_time": "2021-08-03T17:25:37.179115Z",
     "start_time": "2021-08-03T17:25:37.171065Z"
    }
   },
   "outputs": [
    {
     "name": "stdout",
     "output_type": "stream",
     "text": [
      "log loss:  1.8305583473199876\n",
      "accuracy:  0.947\n",
      "precision: 0.9591836734693877\n",
      "recall:    0.6573426573426573\n"
     ]
    }
   ],
   "source": [
    "scores(y_test, rf_preds)"
   ]
  },
  {
   "cell_type": "code",
   "execution_count": 427,
   "id": "7560fc9c",
   "metadata": {
    "ExecuteTime": {
     "end_time": "2021-08-03T17:25:37.182928Z",
     "start_time": "2021-08-03T17:25:37.180333Z"
    }
   },
   "outputs": [],
   "source": [
    "grid = {        \n",
    " 'max_depth': [8,10],\n",
    " 'max_features': ['auto', 'sqrt'],\n",
    " 'min_samples_leaf': [1, 2, 4],\n",
    " 'min_samples_split': [2, 5, 7]}"
   ]
  },
  {
   "cell_type": "code",
   "execution_count": 428,
   "id": "4e10c225",
   "metadata": {
    "ExecuteTime": {
     "end_time": "2021-08-03T17:25:37.188179Z",
     "start_time": "2021-08-03T17:25:37.184290Z"
    }
   },
   "outputs": [],
   "source": [
    "gs = GridSearchCV(estimator=rf_model, param_grid= grid, cv=2)"
   ]
  },
  {
   "cell_type": "code",
   "execution_count": 429,
   "id": "8ba7f16c",
   "metadata": {
    "ExecuteTime": {
     "end_time": "2021-08-03T17:28:51.339741Z",
     "start_time": "2021-08-03T17:25:37.189192Z"
    }
   },
   "outputs": [
    {
     "data": {
      "text/plain": [
       "GridSearchCV(cv=2,\n",
       "             estimator=RandomForestClassifier(criterion='entropy', max_depth=10,\n",
       "                                              min_samples_split=7,\n",
       "                                              n_estimators=1150),\n",
       "             param_grid={'max_depth': [8, 10], 'max_features': ['auto', 'sqrt'],\n",
       "                         'min_samples_leaf': [1, 2, 4],\n",
       "                         'min_samples_split': [2, 5, 7]})"
      ]
     },
     "execution_count": 429,
     "metadata": {},
     "output_type": "execute_result"
    }
   ],
   "source": [
    "gs.fit(X_train_clean, y_train)"
   ]
  },
  {
   "cell_type": "code",
   "execution_count": 430,
   "id": "d0438a7e",
   "metadata": {
    "ExecuteTime": {
     "end_time": "2021-08-03T17:28:51.343816Z",
     "start_time": "2021-08-03T17:28:51.340647Z"
    }
   },
   "outputs": [
    {
     "data": {
      "text/plain": [
       "{'max_depth': 10,\n",
       " 'max_features': 'sqrt',\n",
       " 'min_samples_leaf': 1,\n",
       " 'min_samples_split': 2}"
      ]
     },
     "execution_count": 430,
     "metadata": {},
     "output_type": "execute_result"
    }
   ],
   "source": [
    "gs.best_params_"
   ]
  },
  {
   "cell_type": "code",
   "execution_count": 433,
   "id": "ae9d1e4a",
   "metadata": {
    "ExecuteTime": {
     "end_time": "2021-08-03T17:31:58.272498Z",
     "start_time": "2021-08-03T17:31:58.262801Z"
    }
   },
   "outputs": [],
   "source": [
    "best_model= gs.best_estimator_"
   ]
  },
  {
   "cell_type": "code",
   "execution_count": 431,
   "id": "a07deea4",
   "metadata": {
    "ExecuteTime": {
     "end_time": "2021-08-03T17:28:51.406277Z",
     "start_time": "2021-08-03T17:28:51.345545Z"
    }
   },
   "outputs": [
    {
     "name": "stdout",
     "output_type": "stream",
     "text": [
      "x0_yes 0.09895758374421139\n",
      "x1_yes 0.03526254384013579\n",
      "x2_Northeast 0.0029758709216678616\n",
      "x2_South 0.0034044251940481664\n",
      "x2_West 0.003167725261311598\n",
      "total_day_minutes 0.1084036612138352\n",
      "total_day_charge 0.10710145357224676\n",
      "total_eve_minutes 0.04278023475102105\n",
      "total_eve_charge 0.04090555402545203\n",
      "total_night_minutes 0.03211282582342509\n",
      "total_night_charge 0.030314274993911053\n",
      "total_intl_minutes 0.03594065715097159\n",
      "total_intl_charge 0.03597072382919129\n",
      "total_min 0.11640677271498664\n",
      "total_charge_dom 0.024523725133906087\n",
      "total_charge 0.02432280710772289\n",
      "call_satisfaction 0.1417689447882352\n",
      "charge_per_min_dom 0.026009978904985426\n",
      "charge_per_min_intl 0.058202230440151596\n",
      "%_int_min 0.03146800658858321\n"
     ]
    }
   ],
   "source": [
    "for name, score in zip(X_train_clean.columns, rf_model.feature_importances_):\n",
    "    print(name,score)"
   ]
  },
  {
   "cell_type": "markdown",
   "id": "defa6a94",
   "metadata": {},
   "source": [
    "#### most important features all have to do with charge\n"
   ]
  },
  {
   "cell_type": "markdown",
   "id": "3bfb976d",
   "metadata": {},
   "source": [
    "## XGBOOST"
   ]
  },
  {
   "cell_type": "code",
   "execution_count": 360,
   "id": "38860201",
   "metadata": {
    "ExecuteTime": {
     "end_time": "2021-08-03T15:32:14.618265Z",
     "start_time": "2021-08-03T15:32:14.614701Z"
    }
   },
   "outputs": [],
   "source": [
    "import xgboost as xg"
   ]
  },
  {
   "cell_type": "code",
   "execution_count": 361,
   "id": "fcb7c573",
   "metadata": {
    "ExecuteTime": {
     "end_time": "2021-08-03T15:32:14.930643Z",
     "start_time": "2021-08-03T15:32:14.926244Z"
    }
   },
   "outputs": [],
   "source": [
    "xgb_model= xg.XGBClassifier(random_state=42, objective='binary:hinge', alpha=2)"
   ]
  },
  {
   "cell_type": "code",
   "execution_count": 362,
   "id": "793747d5",
   "metadata": {
    "ExecuteTime": {
     "end_time": "2021-08-03T15:32:15.420541Z",
     "start_time": "2021-08-03T15:32:15.232342Z"
    }
   },
   "outputs": [
    {
     "data": {
      "text/plain": [
       "XGBClassifier(alpha=2, base_score=0.5, booster='gbtree', colsample_bylevel=1,\n",
       "              colsample_bynode=1, colsample_bytree=1, gamma=0, gpu_id=-1,\n",
       "              importance_type='gain', interaction_constraints='',\n",
       "              learning_rate=0.300000012, max_delta_step=0, max_depth=6,\n",
       "              min_child_weight=1, missing=nan, monotone_constraints='()',\n",
       "              n_estimators=100, n_jobs=0, num_parallel_tree=1,\n",
       "              objective='binary:hinge', random_state=42, reg_alpha=2,\n",
       "              reg_lambda=1, scale_pos_weight=None, subsample=1,\n",
       "              tree_method='exact', validate_parameters=1, verbosity=None)"
      ]
     },
     "execution_count": 362,
     "metadata": {},
     "output_type": "execute_result"
    }
   ],
   "source": [
    "xgb_model.fit(X_train_clean, y_train)"
   ]
  },
  {
   "cell_type": "code",
   "execution_count": 363,
   "id": "5d2a493b",
   "metadata": {
    "ExecuteTime": {
     "end_time": "2021-08-03T15:32:16.997444Z",
     "start_time": "2021-08-03T15:32:16.988398Z"
    }
   },
   "outputs": [],
   "source": [
    "y_preds_xgb = xgb_model.predict(X_test_clean)"
   ]
  },
  {
   "cell_type": "code",
   "execution_count": 364,
   "id": "5c1c84e7",
   "metadata": {
    "ExecuteTime": {
     "end_time": "2021-08-03T15:32:17.529578Z",
     "start_time": "2021-08-03T15:32:17.512006Z"
    }
   },
   "outputs": [
    {
     "name": "stdout",
     "output_type": "stream",
     "text": [
      "log loss:  1.761487990907038\n",
      "accuracy:  0.949\n",
      "precision: 0.8898305084745762\n",
      "recall:    0.7342657342657343\n"
     ]
    }
   ],
   "source": [
    "scores(y_test, y_preds_xgb)"
   ]
  },
  {
   "cell_type": "code",
   "execution_count": 278,
   "id": "75200491",
   "metadata": {
    "ExecuteTime": {
     "end_time": "2021-08-03T14:07:32.594159Z",
     "start_time": "2021-08-03T14:07:32.588364Z"
    }
   },
   "outputs": [],
   "source": [
    "grid2 = {'eta': [.05,.1, .2, .4],\n",
    "         'max_depth': [3,8,9],\n",
    "         'alpha' : [1,2,3,4]\n",
    " }\n",
    "gs = GridSearchCV(estimator=xgb_model, param_grid= grid2, cv=2)"
   ]
  },
  {
   "cell_type": "code",
]
   "execution_count": 279,
<<<<<<< HEAD
   "id": "a579a785",
=======
   "id": "de295051",
]
>>>>>>> 474dd32f643bd9eca840df2556f293fb24883824
   "metadata": {
    "ExecuteTime": {
     "end_time": "2021-08-03T14:07:41.531732Z",
     "start_time": "2021-08-03T14:07:33.277784Z"
    }
   },
   "outputs": [
    {
     "data": {
      "text/plain": [
       "GridSearchCV(cv=2,\n",
       "             estimator=XGBClassifier(alpha=2, base_score=0.5, booster='gbtree',\n",
       "                                     colsample_bylevel=1, colsample_bynode=1,\n",
       "                                     colsample_bytree=1, gamma=0, gpu_id=-1,\n",
       "                                     importance_type='gain',\n",
       "                                     interaction_constraints='',\n",
       "                                     learning_rate=0.300000012,\n",
       "                                     max_delta_step=0, max_depth=6,\n",
       "                                     min_child_weight=1, missing=nan,\n",
       "                                     monotone_constraints='()',\n",
       "                                     n_estimators=100, n_jobs=0,\n",
       "                                     num_parallel_tree=1,\n",
       "                                     objective='reg:squarederror',\n",
       "                                     random_state=42, reg_alpha=2, reg_lambda=1,\n",
       "                                     scale_pos_weight=1, subsample=1,\n",
       "                                     tree_method='exact', validate_parameters=1,\n",
       "                                     verbosity=None),\n",
       "             param_grid={'alpha': [1, 2, 3, 4], 'eta': [0.05, 0.1, 0.2, 0.4],\n",
       "                         'max_depth': [3, 8, 9]})"
      ]
     },
     "execution_count": 279,
     "metadata": {},
     "output_type": "execute_result"
    }
   ],
   "source": [
]
    "gs.fit(X_train_clean, y_train)"
]
   ]
  },
  {
   "cell_type": "code",
]
   "execution_count": 280,
<<<<<<< HEAD
   "id": "7483b9b8",
=======
   "id": "cd1ab217",
]
>>>>>>> 474dd32f643bd9eca840df2556f293fb24883824
   "metadata": {
    "ExecuteTime": {
     "end_time": "2021-08-03T14:08:28.689088Z",
     "start_time": "2021-08-03T14:08:28.681390Z"
    }
   },
   "outputs": [
    {
     "data": {
      "text/plain": [
       "{'alpha': 1, 'eta': 0.05, 'max_depth': 3}"
      ]
     },
     "execution_count": 280,
     "metadata": {},
     "output_type": "execute_result"
    }
   ],
   "source": [
    "gs.best_params_"
   ]
  },
  {
   "cell_type": "code",

   "execution_count": 434,
<<<<<<< HEAD
   "id": "da95fa42",
=======
   "id": "fd4956bf",

>>>>>>> 474dd32f643bd9eca840df2556f293fb24883824
   "metadata": {
    "ExecuteTime": {
     "end_time": "2021-08-03T18:54:07.530960Z",
     "start_time": "2021-08-03T18:54:07.026029Z"
    }
   },
   "outputs": [
    {
     "data": {
      "text/plain": [
       "<AxesSubplot:title={'center':'Feature importance'}, xlabel='F score', ylabel='Features'>"
      ]
     },
     "execution_count": 434,
     "metadata": {},
     "output_type": "execute_result"
    },
    {
     "data": {
      "image/png": "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\n",
      "text/plain": [
       "<Figure size 432x288 with 1 Axes>"
      ]
     },
     "metadata": {
      "needs_background": "light"
     },
     "output_type": "display_data"
    }
   ],
   "source": [
    "from xgboost import plot_importance\n",
    "fit = xgb_model.fit(X_train_clean, y_train)\n",
    "plot_importance(fit)"
   ]
  },
  {
   "cell_type": "code",

   "execution_count": 293,
<<<<<<< HEAD
   "id": "ec1b7176",
=======
   "id": "02f14f74",

>>>>>>> 474dd32f643bd9eca840df2556f293fb24883824
   "metadata": {
    "ExecuteTime": {
     "end_time": "2021-08-03T14:17:10.143180Z",
     "start_time": "2021-08-03T14:17:09.975147Z"
    }
   },
   "outputs": [
    {
     "name": "stdout",
     "output_type": "stream",
     "text": [
      "log loss:  1.7614823937250266\n",
      "accuracy:  0.949\n",
      "precision: 0.9423076923076923\n",
      "recall:    0.6853146853146853\n"
     ]
    }
   ],
   "source": [
    "xgb_model= xg.XGBClassifier(random_state=42, objective='binary:hinge', alpha=1, eta =.05, max_depth =3)\n",
    "xgb_model.fit(X_train_clean, y_train)\n",
    "y_preds_xgb = xgb_model.predict(X_test_clean)\n",
    "scores(y_test, y_preds_xgb)"
   ]
  },
  {

   "cell_type": "markdown",
   "id": "7564cd8b",
   "metadata": {},

   "source": [
    "## Prediction program"
   ]
  },
  {
   "cell_type": "code",

   "execution_count": 329,
<<<<<<< HEAD
   "id": "0796c98f",
=======
   "id": "7d4e6f5c",

>>>>>>> 474dd32f643bd9eca840df2556f293fb24883824
   "metadata": {
    "ExecuteTime": {
     "end_time": "2021-08-03T14:43:55.584848Z",
     "start_time": "2021-08-03T14:43:55.533972Z"
    }
   },
   "outputs": [
    {
     "data": {
      "text/html": [
       "<div>\n",
       "<style scoped>\n",
       "    .dataframe tbody tr th:only-of-type {\n",
       "        vertical-align: middle;\n",
       "    }\n",
       "\n",
       "    .dataframe tbody tr th {\n",
       "        vertical-align: top;\n",
       "    }\n",
       "\n",
       "    .dataframe thead th {\n",
       "        text-align: right;\n",
       "    }\n",
       "</style>\n",
       "<table border=\"1\" class=\"dataframe\">\n",
       "  <thead>\n",
       "    <tr style=\"text-align: right;\">\n",
       "      <th></th>\n",
       "      <th>account_length</th>\n",
       "      <th>area_code</th>\n",
       "      <th>international_plan</th>\n",
       "      <th>voice_mail_plan</th>\n",
       "      <th>number_vmail_messages</th>\n",
       "      <th>total_day_minutes</th>\n",
       "      <th>total_day_calls</th>\n",
       "      <th>total_day_charge</th>\n",
       "      <th>total_eve_minutes</th>\n",
       "      <th>total_eve_calls</th>\n",
       "      <th>...</th>\n",
       "      <th>total_min</th>\n",
       "      <th>total_calls_dom</th>\n",
       "      <th>total_calls</th>\n",
       "      <th>total_charge_dom</th>\n",
       "      <th>total_charge</th>\n",
       "      <th>call_satisfaction</th>\n",
       "      <th>charge_per_min_dom</th>\n",
       "      <th>charge_per_min_intl</th>\n",
       "      <th>%_int_min</th>\n",
       "      <th>region</th>\n",
       "    </tr>\n",
       "  </thead>\n",
       "  <tbody>\n",
       "    <tr>\n",
       "      <th>2016</th>\n",
       "      <td>80</td>\n",
       "      <td>510</td>\n",
       "      <td>no</td>\n",
       "      <td>no</td>\n",
       "      <td>0</td>\n",
       "      <td>202.4</td>\n",
       "      <td>118</td>\n",
       "      <td>34.41</td>\n",
       "      <td>260.2</td>\n",
       "      <td>67</td>\n",
       "      <td>...</td>\n",
       "      <td>649.2</td>\n",
       "      <td>297</td>\n",
       "      <td>302</td>\n",
       "      <td>148.10</td>\n",
       "      <td>150.58</td>\n",
       "      <td>0.009934</td>\n",
       "      <td>0.498653</td>\n",
       "      <td>0.496000</td>\n",
       "      <td>0.014171</td>\n",
       "      <td>Northeast</td>\n",
       "    </tr>\n",
       "    <tr>\n",
       "      <th>1362</th>\n",
       "      <td>63</td>\n",
       "      <td>510</td>\n",
       "      <td>no</td>\n",
       "      <td>no</td>\n",
       "      <td>0</td>\n",
       "      <td>132.9</td>\n",
       "      <td>122</td>\n",
       "      <td>22.59</td>\n",
       "      <td>67.0</td>\n",
       "      <td>62</td>\n",
       "      <td>...</td>\n",
       "      <td>370.2</td>\n",
       "      <td>305</td>\n",
       "      <td>307</td>\n",
       "      <td>134.92</td>\n",
       "      <td>137.59</td>\n",
       "      <td>0.009772</td>\n",
       "      <td>0.442361</td>\n",
       "      <td>1.335000</td>\n",
       "      <td>0.026742</td>\n",
       "      <td>South</td>\n",
       "    </tr>\n",
       "    <tr>\n",
       "      <th>2670</th>\n",
       "      <td>116</td>\n",
       "      <td>510</td>\n",
       "      <td>no</td>\n",
       "      <td>yes</td>\n",
       "      <td>12</td>\n",
       "      <td>221.0</td>\n",
       "      <td>108</td>\n",
       "      <td>37.57</td>\n",
       "      <td>151.0</td>\n",
       "      <td>118</td>\n",
       "      <td>...</td>\n",
       "      <td>560.0</td>\n",
       "      <td>306</td>\n",
       "      <td>312</td>\n",
       "      <td>128.90</td>\n",
       "      <td>131.33</td>\n",
       "      <td>0.006410</td>\n",
       "      <td>0.421242</td>\n",
       "      <td>0.405000</td>\n",
       "      <td>0.016071</td>\n",
       "      <td>West</td>\n",
       "    </tr>\n",
       "    <tr>\n",
       "      <th>2210</th>\n",
       "      <td>71</td>\n",
       "      <td>415</td>\n",
       "      <td>no</td>\n",
       "      <td>no</td>\n",
       "      <td>0</td>\n",
       "      <td>278.9</td>\n",
       "      <td>110</td>\n",
       "      <td>47.41</td>\n",
       "      <td>190.2</td>\n",
       "      <td>67</td>\n",
       "      <td>...</td>\n",
       "      <td>736.0</td>\n",
       "      <td>261</td>\n",
       "      <td>268</td>\n",
       "      <td>137.65</td>\n",
       "      <td>140.81</td>\n",
       "      <td>0.000000</td>\n",
       "      <td>0.527395</td>\n",
       "      <td>0.451429</td>\n",
       "      <td>0.015897</td>\n",
       "      <td>West</td>\n",
       "    </tr>\n",
       "    <tr>\n",
       "      <th>1846</th>\n",
       "      <td>120</td>\n",
       "      <td>510</td>\n",
       "      <td>no</td>\n",
       "      <td>yes</td>\n",
       "      <td>43</td>\n",
       "      <td>177.9</td>\n",
       "      <td>117</td>\n",
       "      <td>30.24</td>\n",
       "      <td>175.1</td>\n",
       "      <td>70</td>\n",
       "      <td>...</td>\n",
       "      <td>525.8</td>\n",
       "      <td>304</td>\n",
       "      <td>308</td>\n",
       "      <td>139.14</td>\n",
       "      <td>142.25</td>\n",
       "      <td>0.003247</td>\n",
       "      <td>0.457697</td>\n",
       "      <td>0.777500</td>\n",
       "      <td>0.021871</td>\n",
       "      <td>Northeast</td>\n",
       "    </tr>\n",
       "    <tr>\n",
       "      <th>...</th>\n",
       "      <td>...</td>\n",
       "      <td>...</td>\n",
       "      <td>...</td>\n",
       "      <td>...</td>\n",
       "      <td>...</td>\n",
       "      <td>...</td>\n",
       "      <td>...</td>\n",
       "      <td>...</td>\n",
       "      <td>...</td>\n",
       "      <td>...</td>\n",
       "      <td>...</td>\n",
       "      <td>...</td>\n",
       "      <td>...</td>\n",
       "      <td>...</td>\n",
       "      <td>...</td>\n",
       "      <td>...</td>\n",
       "      <td>...</td>\n",
       "      <td>...</td>\n",
       "      <td>...</td>\n",
       "      <td>...</td>\n",
       "      <td>...</td>\n",
       "    </tr>\n",
       "    <tr>\n",
       "      <th>1095</th>\n",
       "      <td>106</td>\n",
       "      <td>510</td>\n",
       "      <td>no</td>\n",
       "      <td>no</td>\n",
       "      <td>0</td>\n",
       "      <td>274.4</td>\n",
       "      <td>120</td>\n",
       "      <td>46.65</td>\n",
       "      <td>198.6</td>\n",
       "      <td>82</td>\n",
       "      <td>...</td>\n",
       "      <td>639.8</td>\n",
       "      <td>264</td>\n",
       "      <td>267</td>\n",
       "      <td>144.12</td>\n",
       "      <td>145.74</td>\n",
       "      <td>0.003745</td>\n",
       "      <td>0.545909</td>\n",
       "      <td>0.540000</td>\n",
       "      <td>0.009378</td>\n",
       "      <td>West</td>\n",
       "    </tr>\n",
       "    <tr>\n",
       "      <th>1130</th>\n",
       "      <td>122</td>\n",
       "      <td>415</td>\n",
       "      <td>no</td>\n",
       "      <td>no</td>\n",
       "      <td>0</td>\n",
       "      <td>35.1</td>\n",
       "      <td>62</td>\n",
       "      <td>5.97</td>\n",
       "      <td>180.8</td>\n",
       "      <td>89</td>\n",
       "      <td>...</td>\n",
       "      <td>480.2</td>\n",
       "      <td>209</td>\n",
       "      <td>211</td>\n",
       "      <td>88.69</td>\n",
       "      <td>92.12</td>\n",
       "      <td>0.004739</td>\n",
       "      <td>0.424354</td>\n",
       "      <td>1.715000</td>\n",
       "      <td>0.026447</td>\n",
       "      <td>Northeast</td>\n",
       "    </tr>\n",
       "    <tr>\n",
       "      <th>1294</th>\n",
       "      <td>66</td>\n",
       "      <td>408</td>\n",
       "      <td>no</td>\n",
       "      <td>no</td>\n",
       "      <td>0</td>\n",
       "      <td>87.6</td>\n",
       "      <td>76</td>\n",
       "      <td>14.89</td>\n",
       "      <td>262.0</td>\n",
       "      <td>111</td>\n",
       "      <td>...</td>\n",
       "      <td>543.4</td>\n",
       "      <td>312</td>\n",
       "      <td>317</td>\n",
       "      <td>106.58</td>\n",
       "      <td>109.06</td>\n",
       "      <td>0.003155</td>\n",
       "      <td>0.341603</td>\n",
       "      <td>0.496000</td>\n",
       "      <td>0.016930</td>\n",
       "      <td>West</td>\n",
       "    </tr>\n",
       "    <tr>\n",
       "      <th>860</th>\n",
       "      <td>169</td>\n",
       "      <td>415</td>\n",
       "      <td>no</td>\n",
       "      <td>no</td>\n",
       "      <td>0</td>\n",
       "      <td>179.2</td>\n",
       "      <td>111</td>\n",
       "      <td>30.46</td>\n",
       "      <td>175.2</td>\n",
       "      <td>130</td>\n",
       "      <td>...</td>\n",
       "      <td>592.9</td>\n",
       "      <td>333</td>\n",
       "      <td>339</td>\n",
       "      <td>136.18</td>\n",
       "      <td>138.85</td>\n",
       "      <td>0.005900</td>\n",
       "      <td>0.408949</td>\n",
       "      <td>0.445000</td>\n",
       "      <td>0.016698</td>\n",
       "      <td>West</td>\n",
       "    </tr>\n",
       "    <tr>\n",
       "      <th>3174</th>\n",
       "      <td>36</td>\n",
       "      <td>408</td>\n",
       "      <td>no</td>\n",
       "      <td>yes</td>\n",
       "      <td>43</td>\n",
       "      <td>29.9</td>\n",
       "      <td>123</td>\n",
       "      <td>5.08</td>\n",
       "      <td>129.1</td>\n",
       "      <td>117</td>\n",
       "      <td>...</td>\n",
       "      <td>493.5</td>\n",
       "      <td>345</td>\n",
       "      <td>351</td>\n",
       "      <td>148.64</td>\n",
       "      <td>150.96</td>\n",
       "      <td>0.005698</td>\n",
       "      <td>0.430841</td>\n",
       "      <td>0.386667</td>\n",
       "      <td>0.017427</td>\n",
       "      <td>South</td>\n",
       "    </tr>\n",
       "  </tbody>\n",
       "</table>\n",
       "<p>2333 rows × 28 columns</p>\n",
       "</div>"
      ],
      "text/plain": [
       "      account_length  area_code international_plan voice_mail_plan  \\\n",
       "2016              80        510                 no              no   \n",
       "1362              63        510                 no              no   \n",
       "2670             116        510                 no             yes   \n",
       "2210              71        415                 no              no   \n",
       "1846             120        510                 no             yes   \n",
       "...              ...        ...                ...             ...   \n",
       "1095             106        510                 no              no   \n",
       "1130             122        415                 no              no   \n",
       "1294              66        408                 no              no   \n",
       "860              169        415                 no              no   \n",
       "3174              36        408                 no             yes   \n",
       "\n",
       "      number_vmail_messages  total_day_minutes  total_day_calls  \\\n",
       "2016                      0              202.4              118   \n",
       "1362                      0              132.9              122   \n",
       "2670                     12              221.0              108   \n",
       "2210                      0              278.9              110   \n",
       "1846                     43              177.9              117   \n",
       "...                     ...                ...              ...   \n",
       "1095                      0              274.4              120   \n",
       "1130                      0               35.1               62   \n",
       "1294                      0               87.6               76   \n",
       "860                       0              179.2              111   \n",
       "3174                     43               29.9              123   \n",
       "\n",
       "      total_day_charge  total_eve_minutes  total_eve_calls  ...  total_min  \\\n",
       "2016             34.41              260.2               67  ...      649.2   \n",
       "1362             22.59               67.0               62  ...      370.2   \n",
       "2670             37.57              151.0              118  ...      560.0   \n",
       "2210             47.41              190.2               67  ...      736.0   \n",
       "1846             30.24              175.1               70  ...      525.8   \n",
       "...                ...                ...              ...  ...        ...   \n",
       "1095             46.65              198.6               82  ...      639.8   \n",
       "1130              5.97              180.8               89  ...      480.2   \n",
       "1294             14.89              262.0              111  ...      543.4   \n",
       "860              30.46              175.2              130  ...      592.9   \n",
       "3174              5.08              129.1              117  ...      493.5   \n",
       "\n",
       "      total_calls_dom  total_calls  total_charge_dom  total_charge  \\\n",
       "2016              297          302            148.10        150.58   \n",
       "1362              305          307            134.92        137.59   \n",
       "2670              306          312            128.90        131.33   \n",
       "2210              261          268            137.65        140.81   \n",
       "1846              304          308            139.14        142.25   \n",
       "...               ...          ...               ...           ...   \n",
       "1095              264          267            144.12        145.74   \n",
       "1130              209          211             88.69         92.12   \n",
       "1294              312          317            106.58        109.06   \n",
       "860               333          339            136.18        138.85   \n",
       "3174              345          351            148.64        150.96   \n",
       "\n",
       "      call_satisfaction  charge_per_min_dom  charge_per_min_intl  %_int_min  \\\n",
       "2016           0.009934            0.498653             0.496000   0.014171   \n",
       "1362           0.009772            0.442361             1.335000   0.026742   \n",
       "2670           0.006410            0.421242             0.405000   0.016071   \n",
       "2210           0.000000            0.527395             0.451429   0.015897   \n",
       "1846           0.003247            0.457697             0.777500   0.021871   \n",
       "...                 ...                 ...                  ...        ...   \n",
       "1095           0.003745            0.545909             0.540000   0.009378   \n",
       "1130           0.004739            0.424354             1.715000   0.026447   \n",
       "1294           0.003155            0.341603             0.496000   0.016930   \n",
       "860            0.005900            0.408949             0.445000   0.016698   \n",
       "3174           0.005698            0.430841             0.386667   0.017427   \n",
       "\n",
       "         region  \n",
       "2016  Northeast  \n",
       "1362      South  \n",
       "2670       West  \n",
       "2210       West  \n",
       "1846  Northeast  \n",
       "...         ...  \n",
       "1095       West  \n",
       "1130  Northeast  \n",
       "1294       West  \n",
       "860        West  \n",
       "3174      South  \n",
       "\n",
       "[2333 rows x 28 columns]"
      ]
     },
     "execution_count": 329,
     "metadata": {},
     "output_type": "execute_result"
    }
   ],
   "source": [

    "X_train"

   ]
  },
  {
   "cell_type": "code",

   "execution_count": 332,
<<<<<<< HEAD
   "id": "9edb0542",
=======
   "id": "ba3815a7",

>>>>>>> 474dd32f643bd9eca840df2556f293fb24883824
   "metadata": {
    "ExecuteTime": {
     "end_time": "2021-08-03T14:50:46.029697Z",
     "start_time": "2021-08-03T14:50:46.001483Z"
    }
   },
   "outputs": [
    {
     "data": {
      "text/html": [
       "<div>\n",
       "<style scoped>\n",
       "    .dataframe tbody tr th:only-of-type {\n",
       "        vertical-align: middle;\n",
       "    }\n",
       "\n",
       "    .dataframe tbody tr th {\n",
       "        vertical-align: top;\n",
       "    }\n",
       "\n",
       "    .dataframe thead th {\n",
       "        text-align: right;\n",
       "    }\n",
       "</style>\n",
       "<table border=\"1\" class=\"dataframe\">\n",
       "  <thead>\n",
       "    <tr style=\"text-align: right;\">\n",
       "      <th></th>\n",
       "      <th>account_length</th>\n",
       "      <th>total_day_minutes</th>\n",
       "      <th>total_day_calls</th>\n",
       "      <th>total_night_charge</th>\n",
       "      <th>total_intl_charge</th>\n",
       "      <th>churn</th>\n",
       "    </tr>\n",
       "  </thead>\n",
       "  <tbody>\n",
       "    <tr>\n",
       "      <th>0</th>\n",
       "      <td>128</td>\n",
       "      <td>265.1</td>\n",
       "      <td>110</td>\n",
       "      <td>11.01</td>\n",
       "      <td>2.70</td>\n",
       "      <td>0</td>\n",
       "    </tr>\n",
       "    <tr>\n",
       "      <th>1</th>\n",
       "      <td>107</td>\n",
       "      <td>161.6</td>\n",
       "      <td>123</td>\n",
       "      <td>11.45</td>\n",
       "      <td>3.70</td>\n",
       "      <td>0</td>\n",
       "    </tr>\n",
       "    <tr>\n",
       "      <th>2</th>\n",
       "      <td>137</td>\n",
       "      <td>243.4</td>\n",
       "      <td>114</td>\n",
       "      <td>7.32</td>\n",
       "      <td>3.29</td>\n",
       "      <td>0</td>\n",
       "    </tr>\n",
       "    <tr>\n",
       "      <th>3</th>\n",
       "      <td>84</td>\n",
       "      <td>299.4</td>\n",
       "      <td>71</td>\n",
       "      <td>8.86</td>\n",
       "      <td>1.78</td>\n",
       "      <td>0</td>\n",
       "    </tr>\n",
       "    <tr>\n",
       "      <th>4</th>\n",
       "      <td>75</td>\n",
       "      <td>166.7</td>\n",
       "      <td>113</td>\n",
       "      <td>8.41</td>\n",
       "      <td>2.73</td>\n",
       "      <td>0</td>\n",
       "    </tr>\n",
       "    <tr>\n",
       "      <th>...</th>\n",
       "      <td>...</td>\n",
       "      <td>...</td>\n",
       "      <td>...</td>\n",
       "      <td>...</td>\n",
       "      <td>...</td>\n",
       "      <td>...</td>\n",
       "    </tr>\n",
       "    <tr>\n",
       "      <th>3328</th>\n",
       "      <td>192</td>\n",
       "      <td>156.2</td>\n",
       "      <td>77</td>\n",
       "      <td>12.56</td>\n",
       "      <td>2.67</td>\n",
       "      <td>0</td>\n",
       "    </tr>\n",
       "    <tr>\n",
       "      <th>3329</th>\n",
       "      <td>68</td>\n",
       "      <td>231.1</td>\n",
       "      <td>57</td>\n",
       "      <td>8.61</td>\n",
       "      <td>2.59</td>\n",
       "      <td>0</td>\n",
       "    </tr>\n",
       "    <tr>\n",
       "      <th>3330</th>\n",
       "      <td>28</td>\n",
       "      <td>180.8</td>\n",
       "      <td>109</td>\n",
       "      <td>8.64</td>\n",
       "      <td>3.81</td>\n",
       "      <td>0</td>\n",
       "    </tr>\n",
       "    <tr>\n",
       "      <th>3331</th>\n",
       "      <td>184</td>\n",
       "      <td>213.8</td>\n",
       "      <td>105</td>\n",
       "      <td>6.26</td>\n",
       "      <td>1.35</td>\n",
       "      <td>0</td>\n",
       "    </tr>\n",
       "    <tr>\n",
       "      <th>3332</th>\n",
       "      <td>74</td>\n",
       "      <td>234.4</td>\n",
       "      <td>113</td>\n",
       "      <td>10.86</td>\n",
       "      <td>3.70</td>\n",
       "      <td>0</td>\n",
       "    </tr>\n",
       "  </tbody>\n",
       "</table>\n",
       "<p>3333 rows × 6 columns</p>\n",
       "</div>"
      ],
      "text/plain": [
       "      account_length  total_day_minutes  total_day_calls  total_night_charge  \\\n",
       "0                128              265.1              110               11.01   \n",
       "1                107              161.6              123               11.45   \n",
       "2                137              243.4              114                7.32   \n",
       "3                 84              299.4               71                8.86   \n",
       "4                 75              166.7              113                8.41   \n",
       "...              ...                ...              ...                 ...   \n",
       "3328             192              156.2               77               12.56   \n",
       "3329              68              231.1               57                8.61   \n",
       "3330              28              180.8              109                8.64   \n",
       "3331             184              213.8              105                6.26   \n",
       "3332              74              234.4              113               10.86   \n",
       "\n",
       "      total_intl_charge  churn  \n",
       "0                  2.70      0  \n",
       "1                  3.70      0  \n",
       "2                  3.29      0  \n",
       "3                  1.78      0  \n",
       "4                  2.73      0  \n",
       "...                 ...    ...  \n",
       "3328               2.67      0  \n",
       "3329               2.59      0  \n",
       "3330               3.81      0  \n",
       "3331               1.35      0  \n",
       "3332               3.70      0  \n",
       "\n",
       "[3333 rows x 6 columns]"
      ]
     },
     "execution_count": 332,
     "metadata": {},
     "output_type": "execute_result"
    }
   ],
   "source": [
    "df[['account_length', 'total_day_minutes', 'total_day_calls','total_night_charge', 'total_intl_charge','churn']]"
   ]
  },
  {
   "cell_type": "code",

   "execution_count": 407,
<<<<<<< HEAD
   "id": "7621a5ce",
=======
   "id": "4e3152c2",

>>>>>>> 474dd32f643bd9eca840df2556f293fb24883824
   "metadata": {
    "ExecuteTime": {
     "end_time": "2021-08-03T15:45:37.419402Z",
     "start_time": "2021-08-03T15:45:37.398838Z"
    }
   },
   "outputs": [],
   "source": [
    "#example function to predict churn percentage of a customer using only continous variables\n",
    "\n",
    "def churn(account_length, total_day_min, total_day_calls, total_night_charge, total_intl_charge):\n",
    "    xgb_model= xg.XGBClassifier(random_state=42, objective='binary:logistic', alpha=2)\n",
    "    data= df[['account_length', 'total_day_minutes', 'total_day_calls','total_night_charge', 'total_intl_charge', 'churn']]\n",
    "    \n",
    "    \n",
    "    #split into train test\n",
    "    y= data['churn']\n",
    "    X= data.drop('churn', axis=1)\n",
    "    X_train, X_test, y_train, y_test = train_test_split(X, y, test_size = .3 ,random_state=42)\n",
    "    \n",
    "    #use pipeline to scale \n",
    "    X_train_scaled = numTrans.fit_transform(X_train)\n",
    "    X_train_scaled= pd.DataFrame(X_train_scaled)\n",
    "    \n",
    "    #create dataframe form function inputs\n",
    "    d= {'account_length':account_length , \n",
    "        'total_day_minutes': total_day_min , \n",
    "        'total_day_calls': total_day_calls,\n",
    "        'total_night_charge':total_night_charge , \n",
    "        'total_intl_charge':total_intl_charge}\n",
    "    \n",
    "    df_pred= pd.DataFrame(d, index=[0])\n",
    "    \n",
    "    #scale it\n",
    "    df_pred = numTrans.transform(df_pred)\n",
    "    df_pred = pd.DataFrame(df_pred)\n",
    "    \n",
    "    #fit the model\n",
    "    xgb_model.fit(X_train_scaled, y_train)\n",
    "  \n",
    "    #predict the probability that customer may churn\n",
    "    p = xgb_model.predict_proba(df_pred)\n",
    "    \n",
    "    print(f\"The selected account has a {round(p[0][1]*100)}% chance of churning \")\n",
    "    "
   ]
  },
  {
   "cell_type": "code",

   "execution_count": 408,
<<<<<<< HEAD
   "id": "c519f298",
=======
   "id": "00023245",

>>>>>>> 474dd32f643bd9eca840df2556f293fb24883824
   "metadata": {
    "ExecuteTime": {
     "end_time": "2021-08-03T15:45:37.945462Z",
     "start_time": "2021-08-03T15:45:37.727875Z"
    }
   },
   "outputs": [
    {
     "name": "stdout",
     "output_type": "stream",
     "text": [
      "The selected account has a 88.0% chance of churning \n"
     ]
    }
   ],
   "source": [

    "churn(220,3000, 3000, 32, 30)"
   ]
  },
  {
   "cell_type": "markdown",
   "id": "88c06b69",
   "metadata": {},

   "source": [
    "## lets try to see if we can identify why people are leaving"
   ]
  },
  {
   "cell_type": "code",

   "execution_count": 413,
<<<<<<< HEAD
   "id": "d393bbc0",
=======
   "id": "d42f3c02",

>>>>>>> 474dd32f643bd9eca840df2556f293fb24883824
   "metadata": {
    "ExecuteTime": {
     "end_time": "2021-08-03T17:11:01.938925Z",
     "start_time": "2021-08-03T17:11:01.857612Z"
    }
   },
   "outputs": [
    {
     "data": {
      "text/html": [
       "<div>\n",
       "<style scoped>\n",
       "    .dataframe tbody tr th:only-of-type {\n",
       "        vertical-align: middle;\n",
       "    }\n",
       "\n",
       "    .dataframe tbody tr th {\n",
       "        vertical-align: top;\n",
       "    }\n",
       "\n",
       "    .dataframe thead th {\n",
       "        text-align: right;\n",
       "    }\n",
       "</style>\n",
       "<table border=\"1\" class=\"dataframe\">\n",
       "  <thead>\n",
       "    <tr style=\"text-align: right;\">\n",
       "      <th></th>\n",
       "      <th>account_length</th>\n",
       "      <th>area_code</th>\n",
       "      <th>number_vmail_messages</th>\n",
       "      <th>total_day_minutes</th>\n",
       "      <th>total_day_calls</th>\n",
       "      <th>total_day_charge</th>\n",
       "      <th>total_eve_minutes</th>\n",
       "      <th>total_eve_calls</th>\n",
       "      <th>total_eve_charge</th>\n",
       "      <th>total_night_minutes</th>\n",
       "      <th>...</th>\n",
       "      <th>churn</th>\n",
       "      <th>total_min</th>\n",
       "      <th>total_calls_dom</th>\n",
       "      <th>total_calls</th>\n",
       "      <th>total_charge_dom</th>\n",
       "      <th>total_charge</th>\n",
       "      <th>call_satisfaction</th>\n",
       "      <th>charge_per_min_dom</th>\n",
       "      <th>charge_per_min_intl</th>\n",
       "      <th>%_int_min</th>\n",
       "    </tr>\n",
       "  </thead>\n",
       "  <tbody>\n",
       "    <tr>\n",
       "      <th>count</th>\n",
       "      <td>483.000000</td>\n",
       "      <td>483.000000</td>\n",
       "      <td>483.000000</td>\n",
       "      <td>483.000000</td>\n",
       "      <td>483.000000</td>\n",
       "      <td>483.000000</td>\n",
       "      <td>483.000000</td>\n",
       "      <td>483.000000</td>\n",
       "      <td>483.000000</td>\n",
       "      <td>483.000000</td>\n",
       "      <td>...</td>\n",
       "      <td>483.0</td>\n",
       "      <td>483.000000</td>\n",
       "      <td>483.000000</td>\n",
       "      <td>483.000000</td>\n",
       "      <td>483.000000</td>\n",
       "      <td>483.000000</td>\n",
       "      <td>483.000000</td>\n",
       "      <td>483.000000</td>\n",
       "      <td>483.000000</td>\n",
       "      <td>483.000000</td>\n",
       "    </tr>\n",
       "    <tr>\n",
       "      <th>mean</th>\n",
       "      <td>102.664596</td>\n",
       "      <td>437.817805</td>\n",
       "      <td>5.115942</td>\n",
       "      <td>206.914079</td>\n",
       "      <td>101.335404</td>\n",
       "      <td>35.175921</td>\n",
       "      <td>212.410145</td>\n",
       "      <td>100.561077</td>\n",
       "      <td>18.054969</td>\n",
       "      <td>205.231677</td>\n",
       "      <td>...</td>\n",
       "      <td>1.0</td>\n",
       "      <td>635.255901</td>\n",
       "      <td>302.296066</td>\n",
       "      <td>306.459627</td>\n",
       "      <td>128.625901</td>\n",
       "      <td>131.515445</td>\n",
       "      <td>0.007392</td>\n",
       "      <td>0.426104</td>\n",
       "      <td>0.962971</td>\n",
       "      <td>0.017415</td>\n",
       "    </tr>\n",
       "    <tr>\n",
       "      <th>std</th>\n",
       "      <td>39.467820</td>\n",
       "      <td>42.792270</td>\n",
       "      <td>11.860138</td>\n",
       "      <td>68.997792</td>\n",
       "      <td>21.582307</td>\n",
       "      <td>11.729710</td>\n",
       "      <td>51.728910</td>\n",
       "      <td>19.724711</td>\n",
       "      <td>4.396762</td>\n",
       "      <td>47.132825</td>\n",
       "      <td>...</td>\n",
       "      <td>0.0</td>\n",
       "      <td>110.730492</td>\n",
       "      <td>35.027276</td>\n",
       "      <td>35.236367</td>\n",
       "      <td>22.507669</td>\n",
       "      <td>22.510302</td>\n",
       "      <td>0.006253</td>\n",
       "      <td>0.063392</td>\n",
       "      <td>0.649983</td>\n",
       "      <td>0.005672</td>\n",
       "    </tr>\n",
       "    <tr>\n",
       "      <th>min</th>\n",
       "      <td>1.000000</td>\n",
       "      <td>408.000000</td>\n",
       "      <td>0.000000</td>\n",
       "      <td>0.000000</td>\n",
       "      <td>0.000000</td>\n",
       "      <td>0.000000</td>\n",
       "      <td>70.900000</td>\n",
       "      <td>48.000000</td>\n",
       "      <td>6.030000</td>\n",
       "      <td>47.400000</td>\n",
       "      <td>...</td>\n",
       "      <td>1.0</td>\n",
       "      <td>319.900000</td>\n",
       "      <td>204.000000</td>\n",
       "      <td>207.000000</td>\n",
       "      <td>21.090000</td>\n",
       "      <td>22.930000</td>\n",
       "      <td>0.000000</td>\n",
       "      <td>0.096743</td>\n",
       "      <td>0.081333</td>\n",
       "      <td>0.002667</td>\n",
       "    </tr>\n",
       "    <tr>\n",
       "      <th>25%</th>\n",
       "      <td>76.000000</td>\n",
       "      <td>408.000000</td>\n",
       "      <td>0.000000</td>\n",
       "      <td>153.250000</td>\n",
       "      <td>87.500000</td>\n",
       "      <td>26.055000</td>\n",
       "      <td>177.100000</td>\n",
       "      <td>87.000000</td>\n",
       "      <td>15.055000</td>\n",
       "      <td>171.250000</td>\n",
       "      <td>...</td>\n",
       "      <td>1.0</td>\n",
       "      <td>546.650000</td>\n",
       "      <td>278.500000</td>\n",
       "      <td>283.000000</td>\n",
       "      <td>113.795000</td>\n",
       "      <td>116.665000</td>\n",
       "      <td>0.002920</td>\n",
       "      <td>0.384895</td>\n",
       "      <td>0.513095</td>\n",
       "      <td>0.013270</td>\n",
       "    </tr>\n",
       "    <tr>\n",
       "      <th>50%</th>\n",
       "      <td>103.000000</td>\n",
       "      <td>415.000000</td>\n",
       "      <td>0.000000</td>\n",
       "      <td>217.600000</td>\n",
       "      <td>103.000000</td>\n",
       "      <td>36.990000</td>\n",
       "      <td>211.300000</td>\n",
       "      <td>101.000000</td>\n",
       "      <td>17.960000</td>\n",
       "      <td>204.800000</td>\n",
       "      <td>...</td>\n",
       "      <td>1.0</td>\n",
       "      <td>646.100000</td>\n",
       "      <td>302.000000</td>\n",
       "      <td>306.000000</td>\n",
       "      <td>130.090000</td>\n",
       "      <td>133.190000</td>\n",
       "      <td>0.006135</td>\n",
       "      <td>0.422134</td>\n",
       "      <td>0.793333</td>\n",
       "      <td>0.016760</td>\n",
       "    </tr>\n",
       "    <tr>\n",
       "      <th>75%</th>\n",
       "      <td>127.000000</td>\n",
       "      <td>510.000000</td>\n",
       "      <td>0.000000</td>\n",
       "      <td>265.950000</td>\n",
       "      <td>116.500000</td>\n",
       "      <td>45.210000</td>\n",
       "      <td>249.450000</td>\n",
       "      <td>114.000000</td>\n",
       "      <td>21.205000</td>\n",
       "      <td>239.850000</td>\n",
       "      <td>...</td>\n",
       "      <td>1.0</td>\n",
       "      <td>724.950000</td>\n",
       "      <td>326.500000</td>\n",
       "      <td>331.000000</td>\n",
       "      <td>143.595000</td>\n",
       "      <td>146.445000</td>\n",
       "      <td>0.012170</td>\n",
       "      <td>0.466094</td>\n",
       "      <td>1.252500</td>\n",
       "      <td>0.020885</td>\n",
       "    </tr>\n",
       "    <tr>\n",
       "      <th>max</th>\n",
       "      <td>225.000000</td>\n",
       "      <td>510.000000</td>\n",
       "      <td>48.000000</td>\n",
       "      <td>350.800000</td>\n",
       "      <td>165.000000</td>\n",
       "      <td>59.640000</td>\n",
       "      <td>363.700000</td>\n",
       "      <td>168.000000</td>\n",
       "      <td>30.910000</td>\n",
       "      <td>354.900000</td>\n",
       "      <td>...</td>\n",
       "      <td>1.0</td>\n",
       "      <td>885.000000</td>\n",
       "      <td>407.000000</td>\n",
       "      <td>408.000000</td>\n",
       "      <td>191.730000</td>\n",
       "      <td>195.380000</td>\n",
       "      <td>0.030303</td>\n",
       "      <td>0.592350</td>\n",
       "      <td>4.100000</td>\n",
       "      <td>0.037575</td>\n",
       "    </tr>\n",
       "  </tbody>\n",
       "</table>\n",
       "<p>8 rows × 26 columns</p>\n",
       "</div>"
      ],
      "text/plain": [
       "       account_length   area_code  number_vmail_messages  total_day_minutes  \\\n",
       "count      483.000000  483.000000             483.000000         483.000000   \n",
       "mean       102.664596  437.817805               5.115942         206.914079   \n",
       "std         39.467820   42.792270              11.860138          68.997792   \n",
       "min          1.000000  408.000000               0.000000           0.000000   \n",
       "25%         76.000000  408.000000               0.000000         153.250000   \n",
       "50%        103.000000  415.000000               0.000000         217.600000   \n",
       "75%        127.000000  510.000000               0.000000         265.950000   \n",
       "max        225.000000  510.000000              48.000000         350.800000   \n",
       "\n",
       "       total_day_calls  total_day_charge  total_eve_minutes  total_eve_calls  \\\n",
       "count       483.000000        483.000000         483.000000       483.000000   \n",
       "mean        101.335404         35.175921         212.410145       100.561077   \n",
       "std          21.582307         11.729710          51.728910        19.724711   \n",
       "min           0.000000          0.000000          70.900000        48.000000   \n",
       "25%          87.500000         26.055000         177.100000        87.000000   \n",
       "50%         103.000000         36.990000         211.300000       101.000000   \n",
       "75%         116.500000         45.210000         249.450000       114.000000   \n",
       "max         165.000000         59.640000         363.700000       168.000000   \n",
       "\n",
       "       total_eve_charge  total_night_minutes  ...  churn   total_min  \\\n",
       "count        483.000000           483.000000  ...  483.0  483.000000   \n",
       "mean          18.054969           205.231677  ...    1.0  635.255901   \n",
       "std            4.396762            47.132825  ...    0.0  110.730492   \n",
       "min            6.030000            47.400000  ...    1.0  319.900000   \n",
       "25%           15.055000           171.250000  ...    1.0  546.650000   \n",
       "50%           17.960000           204.800000  ...    1.0  646.100000   \n",
       "75%           21.205000           239.850000  ...    1.0  724.950000   \n",
       "max           30.910000           354.900000  ...    1.0  885.000000   \n",
       "\n",
       "       total_calls_dom  total_calls  total_charge_dom  total_charge  \\\n",
       "count       483.000000   483.000000        483.000000    483.000000   \n",
       "mean        302.296066   306.459627        128.625901    131.515445   \n",
       "std          35.027276    35.236367         22.507669     22.510302   \n",
       "min         204.000000   207.000000         21.090000     22.930000   \n",
       "25%         278.500000   283.000000        113.795000    116.665000   \n",
       "50%         302.000000   306.000000        130.090000    133.190000   \n",
       "75%         326.500000   331.000000        143.595000    146.445000   \n",
       "max         407.000000   408.000000        191.730000    195.380000   \n",
       "\n",
       "       call_satisfaction  charge_per_min_dom  charge_per_min_intl   %_int_min  \n",
       "count         483.000000          483.000000           483.000000  483.000000  \n",
       "mean            0.007392            0.426104             0.962971    0.017415  \n",
       "std             0.006253            0.063392             0.649983    0.005672  \n",
       "min             0.000000            0.096743             0.081333    0.002667  \n",
       "25%             0.002920            0.384895             0.513095    0.013270  \n",
       "50%             0.006135            0.422134             0.793333    0.016760  \n",
       "75%             0.012170            0.466094             1.252500    0.020885  \n",
       "max             0.030303            0.592350             4.100000    0.037575  \n",
       "\n",
       "[8 rows x 26 columns]"
      ]
     },
     "execution_count": 413,
     "metadata": {},
     "output_type": "execute_result"
    }
   ],
   "source": [
    "df.loc[df['churn']==1].describe()"
   ]
  },
  {
   "cell_type": "code",

   "execution_count": 415,
<<<<<<< HEAD
   "id": "fe6b5472",
=======
   "id": "d306f7db",

>>>>>>> 474dd32f643bd9eca840df2556f293fb24883824
   "metadata": {
    "ExecuteTime": {
     "end_time": "2021-08-03T17:12:07.903651Z",
     "start_time": "2021-08-03T17:12:07.826444Z"
    }
   },
   "outputs": [
    {
     "data": {
      "text/html": [
       "<div>\n",
       "<style scoped>\n",
       "    .dataframe tbody tr th:only-of-type {\n",
       "        vertical-align: middle;\n",
       "    }\n",
       "\n",
       "    .dataframe tbody tr th {\n",
       "        vertical-align: top;\n",
       "    }\n",
       "\n",
       "    .dataframe thead th {\n",
       "        text-align: right;\n",
       "    }\n",
       "</style>\n",
       "<table border=\"1\" class=\"dataframe\">\n",
       "  <thead>\n",
       "    <tr style=\"text-align: right;\">\n",
       "      <th></th>\n",
       "      <th>account_length</th>\n",
       "      <th>area_code</th>\n",
       "      <th>number_vmail_messages</th>\n",
       "      <th>total_day_minutes</th>\n",
       "      <th>total_day_calls</th>\n",
       "      <th>total_day_charge</th>\n",
       "      <th>total_eve_minutes</th>\n",
       "      <th>total_eve_calls</th>\n",
       "      <th>total_eve_charge</th>\n",
       "      <th>total_night_minutes</th>\n",
       "      <th>...</th>\n",
       "      <th>churn</th>\n",
       "      <th>total_min</th>\n",
       "      <th>total_calls_dom</th>\n",
       "      <th>total_calls</th>\n",
       "      <th>total_charge_dom</th>\n",
       "      <th>total_charge</th>\n",
       "      <th>call_satisfaction</th>\n",
       "      <th>charge_per_min_dom</th>\n",
       "      <th>charge_per_min_intl</th>\n",
       "      <th>%_int_min</th>\n",
       "    </tr>\n",
       "  </thead>\n",
       "  <tbody>\n",
       "    <tr>\n",
       "      <th>count</th>\n",
       "      <td>2850.000000</td>\n",
       "      <td>2850.000000</td>\n",
       "      <td>2850.000000</td>\n",
       "      <td>2850.000000</td>\n",
       "      <td>2850.000000</td>\n",
       "      <td>2850.000000</td>\n",
       "      <td>2850.000000</td>\n",
       "      <td>2850.000000</td>\n",
       "      <td>2850.000000</td>\n",
       "      <td>2850.000000</td>\n",
       "      <td>...</td>\n",
       "      <td>2850.0</td>\n",
       "      <td>2850.000000</td>\n",
       "      <td>2850.00000</td>\n",
       "      <td>2850.000000</td>\n",
       "      <td>2850.000000</td>\n",
       "      <td>2850.000000</td>\n",
       "      <td>2850.000000</td>\n",
       "      <td>2850.000000</td>\n",
       "      <td>2832.000000</td>\n",
       "      <td>2850.000000</td>\n",
       "    </tr>\n",
       "    <tr>\n",
       "      <th>mean</th>\n",
       "      <td>100.793684</td>\n",
       "      <td>437.074737</td>\n",
       "      <td>8.604561</td>\n",
       "      <td>175.175754</td>\n",
       "      <td>100.283158</td>\n",
       "      <td>29.780421</td>\n",
       "      <td>199.043298</td>\n",
       "      <td>100.038596</td>\n",
       "      <td>16.918909</td>\n",
       "      <td>200.133193</td>\n",
       "      <td>...</td>\n",
       "      <td>0.0</td>\n",
       "      <td>584.511123</td>\n",
       "      <td>300.38000</td>\n",
       "      <td>304.912982</td>\n",
       "      <td>126.208140</td>\n",
       "      <td>128.951544</td>\n",
       "      <td>0.004827</td>\n",
       "      <td>0.421377</td>\n",
       "      <td>0.819591</td>\n",
       "      <td>0.017773</td>\n",
       "    </tr>\n",
       "    <tr>\n",
       "      <th>std</th>\n",
       "      <td>39.882350</td>\n",
       "      <td>42.306156</td>\n",
       "      <td>13.913125</td>\n",
       "      <td>50.181655</td>\n",
       "      <td>19.801157</td>\n",
       "      <td>8.530835</td>\n",
       "      <td>50.292175</td>\n",
       "      <td>19.958414</td>\n",
       "      <td>4.274863</td>\n",
       "      <td>51.105032</td>\n",
       "      <td>...</td>\n",
       "      <td>0.0</td>\n",
       "      <td>83.761067</td>\n",
       "      <td>34.20682</td>\n",
       "      <td>34.314039</td>\n",
       "      <td>20.251076</td>\n",
       "      <td>20.279707</td>\n",
       "      <td>0.003957</td>\n",
       "      <td>0.058232</td>\n",
       "      <td>0.601073</td>\n",
       "      <td>0.005665</td>\n",
       "    </tr>\n",
       "    <tr>\n",
       "      <th>min</th>\n",
       "      <td>1.000000</td>\n",
       "      <td>408.000000</td>\n",
       "      <td>0.000000</td>\n",
       "      <td>0.000000</td>\n",
       "      <td>0.000000</td>\n",
       "      <td>0.000000</td>\n",
       "      <td>0.000000</td>\n",
       "      <td>0.000000</td>\n",
       "      <td>0.000000</td>\n",
       "      <td>23.200000</td>\n",
       "      <td>...</td>\n",
       "      <td>0.0</td>\n",
       "      <td>284.300000</td>\n",
       "      <td>188.00000</td>\n",
       "      <td>191.000000</td>\n",
       "      <td>23.930000</td>\n",
       "      <td>25.870000</td>\n",
       "      <td>0.000000</td>\n",
       "      <td>0.111822</td>\n",
       "      <td>0.058333</td>\n",
       "      <td>0.000000</td>\n",
       "    </tr>\n",
       "    <tr>\n",
       "      <th>25%</th>\n",
       "      <td>73.000000</td>\n",
       "      <td>408.000000</td>\n",
       "      <td>0.000000</td>\n",
       "      <td>142.825000</td>\n",
       "      <td>87.000000</td>\n",
       "      <td>24.282500</td>\n",
       "      <td>164.500000</td>\n",
       "      <td>87.000000</td>\n",
       "      <td>13.980000</td>\n",
       "      <td>165.900000</td>\n",
       "      <td>...</td>\n",
       "      <td>0.0</td>\n",
       "      <td>528.925000</td>\n",
       "      <td>277.00000</td>\n",
       "      <td>282.000000</td>\n",
       "      <td>112.467500</td>\n",
       "      <td>115.420000</td>\n",
       "      <td>0.002874</td>\n",
       "      <td>0.382461</td>\n",
       "      <td>0.445000</td>\n",
       "      <td>0.014116</td>\n",
       "    </tr>\n",
       "    <tr>\n",
       "      <th>50%</th>\n",
       "      <td>100.000000</td>\n",
       "      <td>415.000000</td>\n",
       "      <td>0.000000</td>\n",
       "      <td>177.200000</td>\n",
       "      <td>100.000000</td>\n",
       "      <td>30.120000</td>\n",
       "      <td>199.600000</td>\n",
       "      <td>100.000000</td>\n",
       "      <td>16.970000</td>\n",
       "      <td>200.250000</td>\n",
       "      <td>...</td>\n",
       "      <td>0.0</td>\n",
       "      <td>589.200000</td>\n",
       "      <td>301.00000</td>\n",
       "      <td>305.000000</td>\n",
       "      <td>126.180000</td>\n",
       "      <td>128.820000</td>\n",
       "      <td>0.003584</td>\n",
       "      <td>0.420542</td>\n",
       "      <td>0.647500</td>\n",
       "      <td>0.017516</td>\n",
       "    </tr>\n",
       "    <tr>\n",
       "      <th>75%</th>\n",
       "      <td>127.000000</td>\n",
       "      <td>510.000000</td>\n",
       "      <td>22.000000</td>\n",
       "      <td>210.300000</td>\n",
       "      <td>114.000000</td>\n",
       "      <td>35.750000</td>\n",
       "      <td>233.200000</td>\n",
       "      <td>114.000000</td>\n",
       "      <td>19.820000</td>\n",
       "      <td>234.900000</td>\n",
       "      <td>...</td>\n",
       "      <td>0.0</td>\n",
       "      <td>641.575000</td>\n",
       "      <td>323.00000</td>\n",
       "      <td>328.000000</td>\n",
       "      <td>139.920000</td>\n",
       "      <td>142.620000</td>\n",
       "      <td>0.006987</td>\n",
       "      <td>0.458873</td>\n",
       "      <td>0.992500</td>\n",
       "      <td>0.021135</td>\n",
       "    </tr>\n",
       "    <tr>\n",
       "      <th>max</th>\n",
       "      <td>243.000000</td>\n",
       "      <td>510.000000</td>\n",
       "      <td>51.000000</td>\n",
       "      <td>315.600000</td>\n",
       "      <td>163.000000</td>\n",
       "      <td>53.650000</td>\n",
       "      <td>361.800000</td>\n",
       "      <td>170.000000</td>\n",
       "      <td>30.750000</td>\n",
       "      <td>395.000000</td>\n",
       "      <td>...</td>\n",
       "      <td>0.0</td>\n",
       "      <td>842.300000</td>\n",
       "      <td>410.00000</td>\n",
       "      <td>416.000000</td>\n",
       "      <td>191.610000</td>\n",
       "      <td>194.580000</td>\n",
       "      <td>0.026403</td>\n",
       "      <td>0.648030</td>\n",
       "      <td>4.910000</td>\n",
       "      <td>0.042462</td>\n",
       "    </tr>\n",
       "  </tbody>\n",
       "</table>\n",
       "<p>8 rows × 26 columns</p>\n",
       "</div>"
      ],
      "text/plain": [
       "       account_length    area_code  number_vmail_messages  total_day_minutes  \\\n",
       "count     2850.000000  2850.000000            2850.000000        2850.000000   \n",
       "mean       100.793684   437.074737               8.604561         175.175754   \n",
       "std         39.882350    42.306156              13.913125          50.181655   \n",
       "min          1.000000   408.000000               0.000000           0.000000   \n",
       "25%         73.000000   408.000000               0.000000         142.825000   \n",
       "50%        100.000000   415.000000               0.000000         177.200000   \n",
       "75%        127.000000   510.000000              22.000000         210.300000   \n",
       "max        243.000000   510.000000              51.000000         315.600000   \n",
       "\n",
       "       total_day_calls  total_day_charge  total_eve_minutes  total_eve_calls  \\\n",
       "count      2850.000000       2850.000000        2850.000000      2850.000000   \n",
       "mean        100.283158         29.780421         199.043298       100.038596   \n",
       "std          19.801157          8.530835          50.292175        19.958414   \n",
       "min           0.000000          0.000000           0.000000         0.000000   \n",
       "25%          87.000000         24.282500         164.500000        87.000000   \n",
       "50%         100.000000         30.120000         199.600000       100.000000   \n",
       "75%         114.000000         35.750000         233.200000       114.000000   \n",
       "max         163.000000         53.650000         361.800000       170.000000   \n",
       "\n",
       "       total_eve_charge  total_night_minutes  ...   churn    total_min  \\\n",
       "count       2850.000000          2850.000000  ...  2850.0  2850.000000   \n",
       "mean          16.918909           200.133193  ...     0.0   584.511123   \n",
       "std            4.274863            51.105032  ...     0.0    83.761067   \n",
       "min            0.000000            23.200000  ...     0.0   284.300000   \n",
       "25%           13.980000           165.900000  ...     0.0   528.925000   \n",
       "50%           16.970000           200.250000  ...     0.0   589.200000   \n",
       "75%           19.820000           234.900000  ...     0.0   641.575000   \n",
       "max           30.750000           395.000000  ...     0.0   842.300000   \n",
       "\n",
       "       total_calls_dom  total_calls  total_charge_dom  total_charge  \\\n",
       "count       2850.00000  2850.000000       2850.000000   2850.000000   \n",
       "mean         300.38000   304.912982        126.208140    128.951544   \n",
       "std           34.20682    34.314039         20.251076     20.279707   \n",
       "min          188.00000   191.000000         23.930000     25.870000   \n",
       "25%          277.00000   282.000000        112.467500    115.420000   \n",
       "50%          301.00000   305.000000        126.180000    128.820000   \n",
       "75%          323.00000   328.000000        139.920000    142.620000   \n",
       "max          410.00000   416.000000        191.610000    194.580000   \n",
       "\n",
       "       call_satisfaction  charge_per_min_dom  charge_per_min_intl    %_int_min  \n",
       "count        2850.000000         2850.000000          2832.000000  2850.000000  \n",
       "mean            0.004827            0.421377             0.819591     0.017773  \n",
       "std             0.003957            0.058232             0.601073     0.005665  \n",
       "min             0.000000            0.111822             0.058333     0.000000  \n",
       "25%             0.002874            0.382461             0.445000     0.014116  \n",
       "50%             0.003584            0.420542             0.647500     0.017516  \n",
       "75%             0.006987            0.458873             0.992500     0.021135  \n",
       "max             0.026403            0.648030             4.910000     0.042462  \n",
       "\n",
       "[8 rows x 26 columns]"
      ]
     },
     "execution_count": 415,
     "metadata": {},
     "output_type": "execute_result"
    }
   ],
   "source": [
    "df.loc[df['churn']==0].describe()"
   ]
  },
  {
   "cell_type": "code",

   "execution_count": 414,
<<<<<<< HEAD
   "id": "a05a163b",
=======
   "id": "2da6772a",

>>>>>>> 474dd32f643bd9eca840df2556f293fb24883824
   "metadata": {
    "ExecuteTime": {
     "end_time": "2021-08-03T17:11:42.403181Z",
     "start_time": "2021-08-03T17:11:42.340230Z"
    }
   },
   "outputs": [
    {
     "data": {
      "text/html": [
       "<div>\n",
       "<style scoped>\n",
       "    .dataframe tbody tr th:only-of-type {\n",
       "        vertical-align: middle;\n",
       "    }\n",
       "\n",
       "    .dataframe tbody tr th {\n",
       "        vertical-align: top;\n",
       "    }\n",
       "\n",
       "    .dataframe thead th {\n",
       "        text-align: right;\n",
       "    }\n",
       "</style>\n",
       "<table border=\"1\" class=\"dataframe\">\n",
       "  <thead>\n",
       "    <tr style=\"text-align: right;\">\n",
       "      <th></th>\n",
       "      <th>account_length</th>\n",
       "      <th>area_code</th>\n",
       "      <th>number_vmail_messages</th>\n",
       "      <th>total_day_minutes</th>\n",
       "      <th>total_day_calls</th>\n",
       "      <th>total_day_charge</th>\n",
       "      <th>total_eve_minutes</th>\n",
       "      <th>total_eve_calls</th>\n",
       "      <th>total_eve_charge</th>\n",
       "      <th>total_night_minutes</th>\n",
       "      <th>...</th>\n",
       "      <th>churn</th>\n",
       "      <th>total_min</th>\n",
       "      <th>total_calls_dom</th>\n",
       "      <th>total_calls</th>\n",
       "      <th>total_charge_dom</th>\n",
       "      <th>total_charge</th>\n",
       "      <th>call_satisfaction</th>\n",
       "      <th>charge_per_min_dom</th>\n",
       "      <th>charge_per_min_intl</th>\n",
       "      <th>%_int_min</th>\n",
       "    </tr>\n",
       "  </thead>\n",
       "  <tbody>\n",
       "    <tr>\n",
       "      <th>count</th>\n",
       "      <td>3333.000000</td>\n",
       "      <td>3333.000000</td>\n",
       "      <td>3333.000000</td>\n",
       "      <td>3333.000000</td>\n",
       "      <td>3333.000000</td>\n",
       "      <td>3333.000000</td>\n",
       "      <td>3333.000000</td>\n",
       "      <td>3333.000000</td>\n",
       "      <td>3333.000000</td>\n",
       "      <td>3333.000000</td>\n",
       "      <td>...</td>\n",
       "      <td>3333.000000</td>\n",
       "      <td>3333.000000</td>\n",
       "      <td>3333.000000</td>\n",
       "      <td>3333.000000</td>\n",
       "      <td>3333.000000</td>\n",
       "      <td>3333.000000</td>\n",
       "      <td>3333.000000</td>\n",
       "      <td>3333.000000</td>\n",
       "      <td>3315.000000</td>\n",
       "      <td>3333.000000</td>\n",
       "    </tr>\n",
       "    <tr>\n",
       "      <th>mean</th>\n",
       "      <td>101.064806</td>\n",
       "      <td>437.182418</td>\n",
       "      <td>8.099010</td>\n",
       "      <td>179.775098</td>\n",
       "      <td>100.435644</td>\n",
       "      <td>30.562307</td>\n",
       "      <td>200.980348</td>\n",
       "      <td>100.114311</td>\n",
       "      <td>17.083540</td>\n",
       "      <td>200.872037</td>\n",
       "      <td>...</td>\n",
       "      <td>0.144914</td>\n",
       "      <td>591.864776</td>\n",
       "      <td>300.657666</td>\n",
       "      <td>305.137114</td>\n",
       "      <td>126.558509</td>\n",
       "      <td>129.323090</td>\n",
       "      <td>0.005198</td>\n",
       "      <td>0.422062</td>\n",
       "      <td>0.840482</td>\n",
       "      <td>0.017721</td>\n",
       "    </tr>\n",
       "    <tr>\n",
       "      <th>std</th>\n",
       "      <td>39.822106</td>\n",
       "      <td>42.371290</td>\n",
       "      <td>13.688365</td>\n",
       "      <td>54.467389</td>\n",
       "      <td>20.069084</td>\n",
       "      <td>9.259435</td>\n",
       "      <td>50.713844</td>\n",
       "      <td>19.922625</td>\n",
       "      <td>4.310668</td>\n",
       "      <td>50.573847</td>\n",
       "      <td>...</td>\n",
       "      <td>0.352067</td>\n",
       "      <td>89.954251</td>\n",
       "      <td>34.328232</td>\n",
       "      <td>34.448164</td>\n",
       "      <td>20.607413</td>\n",
       "      <td>20.634076</td>\n",
       "      <td>0.004456</td>\n",
       "      <td>0.059021</td>\n",
       "      <td>0.610441</td>\n",
       "      <td>0.005666</td>\n",
       "    </tr>\n",
       "    <tr>\n",
       "      <th>min</th>\n",
       "      <td>1.000000</td>\n",
       "      <td>408.000000</td>\n",
       "      <td>0.000000</td>\n",
       "      <td>0.000000</td>\n",
       "      <td>0.000000</td>\n",
       "      <td>0.000000</td>\n",
       "      <td>0.000000</td>\n",
       "      <td>0.000000</td>\n",
       "      <td>0.000000</td>\n",
       "      <td>23.200000</td>\n",
       "      <td>...</td>\n",
       "      <td>0.000000</td>\n",
       "      <td>284.300000</td>\n",
       "      <td>188.000000</td>\n",
       "      <td>191.000000</td>\n",
       "      <td>21.090000</td>\n",
       "      <td>22.930000</td>\n",
       "      <td>0.000000</td>\n",
       "      <td>0.096743</td>\n",
       "      <td>0.058333</td>\n",
       "      <td>0.000000</td>\n",
       "    </tr>\n",
       "    <tr>\n",
       "      <th>25%</th>\n",
       "      <td>74.000000</td>\n",
       "      <td>408.000000</td>\n",
       "      <td>0.000000</td>\n",
       "      <td>143.700000</td>\n",
       "      <td>87.000000</td>\n",
       "      <td>24.430000</td>\n",
       "      <td>166.600000</td>\n",
       "      <td>87.000000</td>\n",
       "      <td>14.160000</td>\n",
       "      <td>167.000000</td>\n",
       "      <td>...</td>\n",
       "      <td>0.000000</td>\n",
       "      <td>531.500000</td>\n",
       "      <td>278.000000</td>\n",
       "      <td>282.000000</td>\n",
       "      <td>112.740000</td>\n",
       "      <td>115.550000</td>\n",
       "      <td>0.002890</td>\n",
       "      <td>0.382835</td>\n",
       "      <td>0.455714</td>\n",
       "      <td>0.014023</td>\n",
       "    </tr>\n",
       "    <tr>\n",
       "      <th>50%</th>\n",
       "      <td>101.000000</td>\n",
       "      <td>415.000000</td>\n",
       "      <td>0.000000</td>\n",
       "      <td>179.400000</td>\n",
       "      <td>101.000000</td>\n",
       "      <td>30.500000</td>\n",
       "      <td>201.400000</td>\n",
       "      <td>100.000000</td>\n",
       "      <td>17.120000</td>\n",
       "      <td>201.200000</td>\n",
       "      <td>...</td>\n",
       "      <td>0.000000</td>\n",
       "      <td>593.600000</td>\n",
       "      <td>301.000000</td>\n",
       "      <td>305.000000</td>\n",
       "      <td>126.680000</td>\n",
       "      <td>129.410000</td>\n",
       "      <td>0.003663</td>\n",
       "      <td>0.421007</td>\n",
       "      <td>0.664000</td>\n",
       "      <td>0.017443</td>\n",
       "    </tr>\n",
       "    <tr>\n",
       "      <th>75%</th>\n",
       "      <td>127.000000</td>\n",
       "      <td>510.000000</td>\n",
       "      <td>20.000000</td>\n",
       "      <td>216.400000</td>\n",
       "      <td>114.000000</td>\n",
       "      <td>36.790000</td>\n",
       "      <td>235.300000</td>\n",
       "      <td>114.000000</td>\n",
       "      <td>20.000000</td>\n",
       "      <td>235.300000</td>\n",
       "      <td>...</td>\n",
       "      <td>0.000000</td>\n",
       "      <td>652.400000</td>\n",
       "      <td>324.000000</td>\n",
       "      <td>328.000000</td>\n",
       "      <td>140.330000</td>\n",
       "      <td>143.030000</td>\n",
       "      <td>0.007273</td>\n",
       "      <td>0.459838</td>\n",
       "      <td>1.026667</td>\n",
       "      <td>0.021116</td>\n",
       "    </tr>\n",
       "    <tr>\n",
       "      <th>max</th>\n",
       "      <td>243.000000</td>\n",
       "      <td>510.000000</td>\n",
       "      <td>51.000000</td>\n",
       "      <td>350.800000</td>\n",
       "      <td>165.000000</td>\n",
       "      <td>59.640000</td>\n",
       "      <td>363.700000</td>\n",
       "      <td>170.000000</td>\n",
       "      <td>30.910000</td>\n",
       "      <td>395.000000</td>\n",
       "      <td>...</td>\n",
       "      <td>1.000000</td>\n",
       "      <td>885.000000</td>\n",
       "      <td>410.000000</td>\n",
       "      <td>416.000000</td>\n",
       "      <td>191.730000</td>\n",
       "      <td>195.380000</td>\n",
       "      <td>0.030303</td>\n",
       "      <td>0.648030</td>\n",
       "      <td>4.910000</td>\n",
       "      <td>0.042462</td>\n",
       "    </tr>\n",
       "  </tbody>\n",
       "</table>\n",
       "<p>8 rows × 26 columns</p>\n",
       "</div>"
      ],
      "text/plain": [
       "       account_length    area_code  number_vmail_messages  total_day_minutes  \\\n",
       "count     3333.000000  3333.000000            3333.000000        3333.000000   \n",
       "mean       101.064806   437.182418               8.099010         179.775098   \n",
       "std         39.822106    42.371290              13.688365          54.467389   \n",
       "min          1.000000   408.000000               0.000000           0.000000   \n",
       "25%         74.000000   408.000000               0.000000         143.700000   \n",
       "50%        101.000000   415.000000               0.000000         179.400000   \n",
       "75%        127.000000   510.000000              20.000000         216.400000   \n",
       "max        243.000000   510.000000              51.000000         350.800000   \n",
       "\n",
       "       total_day_calls  total_day_charge  total_eve_minutes  total_eve_calls  \\\n",
       "count      3333.000000       3333.000000        3333.000000      3333.000000   \n",
       "mean        100.435644         30.562307         200.980348       100.114311   \n",
       "std          20.069084          9.259435          50.713844        19.922625   \n",
       "min           0.000000          0.000000           0.000000         0.000000   \n",
       "25%          87.000000         24.430000         166.600000        87.000000   \n",
       "50%         101.000000         30.500000         201.400000       100.000000   \n",
       "75%         114.000000         36.790000         235.300000       114.000000   \n",
       "max         165.000000         59.640000         363.700000       170.000000   \n",
       "\n",
       "       total_eve_charge  total_night_minutes  ...        churn    total_min  \\\n",
       "count       3333.000000          3333.000000  ...  3333.000000  3333.000000   \n",
       "mean          17.083540           200.872037  ...     0.144914   591.864776   \n",
       "std            4.310668            50.573847  ...     0.352067    89.954251   \n",
       "min            0.000000            23.200000  ...     0.000000   284.300000   \n",
       "25%           14.160000           167.000000  ...     0.000000   531.500000   \n",
       "50%           17.120000           201.200000  ...     0.000000   593.600000   \n",
       "75%           20.000000           235.300000  ...     0.000000   652.400000   \n",
       "max           30.910000           395.000000  ...     1.000000   885.000000   \n",
       "\n",
       "       total_calls_dom  total_calls  total_charge_dom  total_charge  \\\n",
       "count      3333.000000  3333.000000       3333.000000   3333.000000   \n",
       "mean        300.657666   305.137114        126.558509    129.323090   \n",
       "std          34.328232    34.448164         20.607413     20.634076   \n",
       "min         188.000000   191.000000         21.090000     22.930000   \n",
       "25%         278.000000   282.000000        112.740000    115.550000   \n",
       "50%         301.000000   305.000000        126.680000    129.410000   \n",
       "75%         324.000000   328.000000        140.330000    143.030000   \n",
       "max         410.000000   416.000000        191.730000    195.380000   \n",
       "\n",
       "       call_satisfaction  charge_per_min_dom  charge_per_min_intl    %_int_min  \n",
       "count        3333.000000         3333.000000          3315.000000  3333.000000  \n",
       "mean            0.005198            0.422062             0.840482     0.017721  \n",
       "std             0.004456            0.059021             0.610441     0.005666  \n",
       "min             0.000000            0.096743             0.058333     0.000000  \n",
       "25%             0.002890            0.382835             0.455714     0.014023  \n",
       "50%             0.003663            0.421007             0.664000     0.017443  \n",
       "75%             0.007273            0.459838             1.026667     0.021116  \n",
       "max             0.030303            0.648030             4.910000     0.042462  \n",
       "\n",
       "[8 rows x 26 columns]"
      ]
     },
     "execution_count": 414,
     "metadata": {},
     "output_type": "execute_result"
    }
   ],
   "source": [

    "df.describe()"

   ]
  },
  {
   "cell_type": "code",
   "execution_count": 438,
   "id": "a5c15e81",
   "metadata": {
    "ExecuteTime": {
     "end_time": "2021-08-03T19:17:36.792968Z",
     "start_time": "2021-08-03T19:17:36.767504Z"
    }
   },
   "outputs": [
    {
     "data": {
      "text/plain": [
       "10      169.25\n",
       "15      102.70\n",
       "21      114.41\n",
       "33      155.25\n",
       "41      111.77\n",
       "         ...  \n",
       "3301    140.06\n",
       "3304    143.90\n",
       "3320    125.71\n",
       "3322    138.80\n",
       "3323    161.08\n",
       "Name: total_charge, Length: 483, dtype: float64"
      ]
     },
     "execution_count": 438,
     "metadata": {},
     "output_type": "execute_result"
    }
   ],
   "source": [
    "df.loc[(df['churn']==1),\"total_charge\"]"
   ]
  },
  {
   "cell_type": "code",
   "execution_count": null,
<<<<<<< HEAD
   "id": "7e30091f",
=======

   "id": "e1b75307",

>>>>>>> 474dd32f643bd9eca840df2556f293fb24883824
   "metadata": {},
   "outputs": [],
   "source": []
  }
 ],
 "metadata": {
  "kernelspec": {
   "display_name": "Python (learn-env)",
   "language": "python",
   "name": "learn-env"
  },
  "language_info": {
   "codemirror_mode": {
    "name": "ipython",
    "version": 3
   },
   "file_extension": ".py",
   "mimetype": "text/x-python",
   "name": "python",
   "nbconvert_exporter": "python",
   "pygments_lexer": "ipython3",
   "version": "3.8.5"
  }
 },
 "nbformat": 4,
 "nbformat_minor": 5
}
