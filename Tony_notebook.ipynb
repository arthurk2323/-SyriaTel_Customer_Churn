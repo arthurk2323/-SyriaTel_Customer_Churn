{
 "cells": [
  {
   "cell_type": "code",
   "execution_count": 100,
   "id": "274183c0",
   "metadata": {
    "ExecuteTime": {
     "end_time": "2021-08-02T18:04:58.904997Z",
     "start_time": "2021-08-02T18:04:58.886226Z"
    }
   },
   "outputs": [],
   "source": [
    "import pandas as pd\n",
    "import seaborn as sns\n",
    "import folium\n",
    "import plotly.graph_objects as go\n",
    "import matplotlib.pyplot as plt\n",
    "from sklearn.metrics import accuracy_score, precision_score, recall_score, log_loss\n",
    "from sklearn.model_selection import train_test_split,GridSearchCV\n",
    "from sklearn.preprocessing import OneHotEncoder, StandardScaler\n",
    "from sklearn.ensemble import RandomForestClassifier\n",
    "from sklearn.pipeline import Pipeline\n",
    "from sklearn.compose import ColumnTransformer"
   ]
  },
  {
   "cell_type": "code",
   "execution_count": 2,
   "id": "b24be6ea",
   "metadata": {
    "ExecuteTime": {
     "end_time": "2021-08-02T15:30:38.020467Z",
     "start_time": "2021-08-02T15:30:38.011316Z"
    }
   },
   "outputs": [],
   "source": [
    "df= pd.read_csv(\"data/syriatel_customer_churn.csv\")"
   ]
  },
  {
   "cell_type": "code",
   "execution_count": 3,
   "id": "1efa8cfe",
   "metadata": {
    "ExecuteTime": {
     "end_time": "2021-08-02T15:30:38.046820Z",
     "start_time": "2021-08-02T15:30:38.021854Z"
    }
   },
   "outputs": [
    {
     "data": {
      "text/html": [
       "<div>\n",
       "<style scoped>\n",
       "    .dataframe tbody tr th:only-of-type {\n",
       "        vertical-align: middle;\n",
       "    }\n",
       "\n",
       "    .dataframe tbody tr th {\n",
       "        vertical-align: top;\n",
       "    }\n",
       "\n",
       "    .dataframe thead th {\n",
       "        text-align: right;\n",
       "    }\n",
       "</style>\n",
       "<table border=\"1\" class=\"dataframe\">\n",
       "  <thead>\n",
       "    <tr style=\"text-align: right;\">\n",
       "      <th></th>\n",
       "      <th>state</th>\n",
       "      <th>account length</th>\n",
       "      <th>area code</th>\n",
       "      <th>phone number</th>\n",
       "      <th>international plan</th>\n",
       "      <th>voice mail plan</th>\n",
       "      <th>number vmail messages</th>\n",
       "      <th>total day minutes</th>\n",
       "      <th>total day calls</th>\n",
       "      <th>total day charge</th>\n",
       "      <th>...</th>\n",
       "      <th>total eve calls</th>\n",
       "      <th>total eve charge</th>\n",
       "      <th>total night minutes</th>\n",
       "      <th>total night calls</th>\n",
       "      <th>total night charge</th>\n",
       "      <th>total intl minutes</th>\n",
       "      <th>total intl calls</th>\n",
       "      <th>total intl charge</th>\n",
       "      <th>customer service calls</th>\n",
       "      <th>churn</th>\n",
       "    </tr>\n",
       "  </thead>\n",
       "  <tbody>\n",
       "    <tr>\n",
       "      <th>0</th>\n",
       "      <td>KS</td>\n",
       "      <td>128</td>\n",
       "      <td>415</td>\n",
       "      <td>382-4657</td>\n",
       "      <td>no</td>\n",
       "      <td>yes</td>\n",
       "      <td>25</td>\n",
       "      <td>265.1</td>\n",
       "      <td>110</td>\n",
       "      <td>45.07</td>\n",
       "      <td>...</td>\n",
       "      <td>99</td>\n",
       "      <td>16.78</td>\n",
       "      <td>244.7</td>\n",
       "      <td>91</td>\n",
       "      <td>11.01</td>\n",
       "      <td>10.0</td>\n",
       "      <td>3</td>\n",
       "      <td>2.70</td>\n",
       "      <td>1</td>\n",
       "      <td>False</td>\n",
       "    </tr>\n",
       "    <tr>\n",
       "      <th>1</th>\n",
       "      <td>OH</td>\n",
       "      <td>107</td>\n",
       "      <td>415</td>\n",
       "      <td>371-7191</td>\n",
       "      <td>no</td>\n",
       "      <td>yes</td>\n",
       "      <td>26</td>\n",
       "      <td>161.6</td>\n",
       "      <td>123</td>\n",
       "      <td>27.47</td>\n",
       "      <td>...</td>\n",
       "      <td>103</td>\n",
       "      <td>16.62</td>\n",
       "      <td>254.4</td>\n",
       "      <td>103</td>\n",
       "      <td>11.45</td>\n",
       "      <td>13.7</td>\n",
       "      <td>3</td>\n",
       "      <td>3.70</td>\n",
       "      <td>1</td>\n",
       "      <td>False</td>\n",
       "    </tr>\n",
       "    <tr>\n",
       "      <th>2</th>\n",
       "      <td>NJ</td>\n",
       "      <td>137</td>\n",
       "      <td>415</td>\n",
       "      <td>358-1921</td>\n",
       "      <td>no</td>\n",
       "      <td>no</td>\n",
       "      <td>0</td>\n",
       "      <td>243.4</td>\n",
       "      <td>114</td>\n",
       "      <td>41.38</td>\n",
       "      <td>...</td>\n",
       "      <td>110</td>\n",
       "      <td>10.30</td>\n",
       "      <td>162.6</td>\n",
       "      <td>104</td>\n",
       "      <td>7.32</td>\n",
       "      <td>12.2</td>\n",
       "      <td>5</td>\n",
       "      <td>3.29</td>\n",
       "      <td>0</td>\n",
       "      <td>False</td>\n",
       "    </tr>\n",
       "    <tr>\n",
       "      <th>3</th>\n",
       "      <td>OH</td>\n",
       "      <td>84</td>\n",
       "      <td>408</td>\n",
       "      <td>375-9999</td>\n",
       "      <td>yes</td>\n",
       "      <td>no</td>\n",
       "      <td>0</td>\n",
       "      <td>299.4</td>\n",
       "      <td>71</td>\n",
       "      <td>50.90</td>\n",
       "      <td>...</td>\n",
       "      <td>88</td>\n",
       "      <td>5.26</td>\n",
       "      <td>196.9</td>\n",
       "      <td>89</td>\n",
       "      <td>8.86</td>\n",
       "      <td>6.6</td>\n",
       "      <td>7</td>\n",
       "      <td>1.78</td>\n",
       "      <td>2</td>\n",
       "      <td>False</td>\n",
       "    </tr>\n",
       "    <tr>\n",
       "      <th>4</th>\n",
       "      <td>OK</td>\n",
       "      <td>75</td>\n",
       "      <td>415</td>\n",
       "      <td>330-6626</td>\n",
       "      <td>yes</td>\n",
       "      <td>no</td>\n",
       "      <td>0</td>\n",
       "      <td>166.7</td>\n",
       "      <td>113</td>\n",
       "      <td>28.34</td>\n",
       "      <td>...</td>\n",
       "      <td>122</td>\n",
       "      <td>12.61</td>\n",
       "      <td>186.9</td>\n",
       "      <td>121</td>\n",
       "      <td>8.41</td>\n",
       "      <td>10.1</td>\n",
       "      <td>3</td>\n",
       "      <td>2.73</td>\n",
       "      <td>3</td>\n",
       "      <td>False</td>\n",
       "    </tr>\n",
       "    <tr>\n",
       "      <th>...</th>\n",
       "      <td>...</td>\n",
       "      <td>...</td>\n",
       "      <td>...</td>\n",
       "      <td>...</td>\n",
       "      <td>...</td>\n",
       "      <td>...</td>\n",
       "      <td>...</td>\n",
       "      <td>...</td>\n",
       "      <td>...</td>\n",
       "      <td>...</td>\n",
       "      <td>...</td>\n",
       "      <td>...</td>\n",
       "      <td>...</td>\n",
       "      <td>...</td>\n",
       "      <td>...</td>\n",
       "      <td>...</td>\n",
       "      <td>...</td>\n",
       "      <td>...</td>\n",
       "      <td>...</td>\n",
       "      <td>...</td>\n",
       "      <td>...</td>\n",
       "    </tr>\n",
       "    <tr>\n",
       "      <th>3328</th>\n",
       "      <td>AZ</td>\n",
       "      <td>192</td>\n",
       "      <td>415</td>\n",
       "      <td>414-4276</td>\n",
       "      <td>no</td>\n",
       "      <td>yes</td>\n",
       "      <td>36</td>\n",
       "      <td>156.2</td>\n",
       "      <td>77</td>\n",
       "      <td>26.55</td>\n",
       "      <td>...</td>\n",
       "      <td>126</td>\n",
       "      <td>18.32</td>\n",
       "      <td>279.1</td>\n",
       "      <td>83</td>\n",
       "      <td>12.56</td>\n",
       "      <td>9.9</td>\n",
       "      <td>6</td>\n",
       "      <td>2.67</td>\n",
       "      <td>2</td>\n",
       "      <td>False</td>\n",
       "    </tr>\n",
       "    <tr>\n",
       "      <th>3329</th>\n",
       "      <td>WV</td>\n",
       "      <td>68</td>\n",
       "      <td>415</td>\n",
       "      <td>370-3271</td>\n",
       "      <td>no</td>\n",
       "      <td>no</td>\n",
       "      <td>0</td>\n",
       "      <td>231.1</td>\n",
       "      <td>57</td>\n",
       "      <td>39.29</td>\n",
       "      <td>...</td>\n",
       "      <td>55</td>\n",
       "      <td>13.04</td>\n",
       "      <td>191.3</td>\n",
       "      <td>123</td>\n",
       "      <td>8.61</td>\n",
       "      <td>9.6</td>\n",
       "      <td>4</td>\n",
       "      <td>2.59</td>\n",
       "      <td>3</td>\n",
       "      <td>False</td>\n",
       "    </tr>\n",
       "    <tr>\n",
       "      <th>3330</th>\n",
       "      <td>RI</td>\n",
       "      <td>28</td>\n",
       "      <td>510</td>\n",
       "      <td>328-8230</td>\n",
       "      <td>no</td>\n",
       "      <td>no</td>\n",
       "      <td>0</td>\n",
       "      <td>180.8</td>\n",
       "      <td>109</td>\n",
       "      <td>30.74</td>\n",
       "      <td>...</td>\n",
       "      <td>58</td>\n",
       "      <td>24.55</td>\n",
       "      <td>191.9</td>\n",
       "      <td>91</td>\n",
       "      <td>8.64</td>\n",
       "      <td>14.1</td>\n",
       "      <td>6</td>\n",
       "      <td>3.81</td>\n",
       "      <td>2</td>\n",
       "      <td>False</td>\n",
       "    </tr>\n",
       "    <tr>\n",
       "      <th>3331</th>\n",
       "      <td>CT</td>\n",
       "      <td>184</td>\n",
       "      <td>510</td>\n",
       "      <td>364-6381</td>\n",
       "      <td>yes</td>\n",
       "      <td>no</td>\n",
       "      <td>0</td>\n",
       "      <td>213.8</td>\n",
       "      <td>105</td>\n",
       "      <td>36.35</td>\n",
       "      <td>...</td>\n",
       "      <td>84</td>\n",
       "      <td>13.57</td>\n",
       "      <td>139.2</td>\n",
       "      <td>137</td>\n",
       "      <td>6.26</td>\n",
       "      <td>5.0</td>\n",
       "      <td>10</td>\n",
       "      <td>1.35</td>\n",
       "      <td>2</td>\n",
       "      <td>False</td>\n",
       "    </tr>\n",
       "    <tr>\n",
       "      <th>3332</th>\n",
       "      <td>TN</td>\n",
       "      <td>74</td>\n",
       "      <td>415</td>\n",
       "      <td>400-4344</td>\n",
       "      <td>no</td>\n",
       "      <td>yes</td>\n",
       "      <td>25</td>\n",
       "      <td>234.4</td>\n",
       "      <td>113</td>\n",
       "      <td>39.85</td>\n",
       "      <td>...</td>\n",
       "      <td>82</td>\n",
       "      <td>22.60</td>\n",
       "      <td>241.4</td>\n",
       "      <td>77</td>\n",
       "      <td>10.86</td>\n",
       "      <td>13.7</td>\n",
       "      <td>4</td>\n",
       "      <td>3.70</td>\n",
       "      <td>0</td>\n",
       "      <td>False</td>\n",
       "    </tr>\n",
       "  </tbody>\n",
       "</table>\n",
       "<p>3333 rows × 21 columns</p>\n",
       "</div>"
      ],
      "text/plain": [
       "     state  account length  area code phone number international plan  \\\n",
       "0       KS             128        415     382-4657                 no   \n",
       "1       OH             107        415     371-7191                 no   \n",
       "2       NJ             137        415     358-1921                 no   \n",
       "3       OH              84        408     375-9999                yes   \n",
       "4       OK              75        415     330-6626                yes   \n",
       "...    ...             ...        ...          ...                ...   \n",
       "3328    AZ             192        415     414-4276                 no   \n",
       "3329    WV              68        415     370-3271                 no   \n",
       "3330    RI              28        510     328-8230                 no   \n",
       "3331    CT             184        510     364-6381                yes   \n",
       "3332    TN              74        415     400-4344                 no   \n",
       "\n",
       "     voice mail plan  number vmail messages  total day minutes  \\\n",
       "0                yes                     25              265.1   \n",
       "1                yes                     26              161.6   \n",
       "2                 no                      0              243.4   \n",
       "3                 no                      0              299.4   \n",
       "4                 no                      0              166.7   \n",
       "...              ...                    ...                ...   \n",
       "3328             yes                     36              156.2   \n",
       "3329              no                      0              231.1   \n",
       "3330              no                      0              180.8   \n",
       "3331              no                      0              213.8   \n",
       "3332             yes                     25              234.4   \n",
       "\n",
       "      total day calls  total day charge  ...  total eve calls  \\\n",
       "0                 110             45.07  ...               99   \n",
       "1                 123             27.47  ...              103   \n",
       "2                 114             41.38  ...              110   \n",
       "3                  71             50.90  ...               88   \n",
       "4                 113             28.34  ...              122   \n",
       "...               ...               ...  ...              ...   \n",
       "3328               77             26.55  ...              126   \n",
       "3329               57             39.29  ...               55   \n",
       "3330              109             30.74  ...               58   \n",
       "3331              105             36.35  ...               84   \n",
       "3332              113             39.85  ...               82   \n",
       "\n",
       "      total eve charge  total night minutes  total night calls  \\\n",
       "0                16.78                244.7                 91   \n",
       "1                16.62                254.4                103   \n",
       "2                10.30                162.6                104   \n",
       "3                 5.26                196.9                 89   \n",
       "4                12.61                186.9                121   \n",
       "...                ...                  ...                ...   \n",
       "3328             18.32                279.1                 83   \n",
       "3329             13.04                191.3                123   \n",
       "3330             24.55                191.9                 91   \n",
       "3331             13.57                139.2                137   \n",
       "3332             22.60                241.4                 77   \n",
       "\n",
       "      total night charge  total intl minutes  total intl calls  \\\n",
       "0                  11.01                10.0                 3   \n",
       "1                  11.45                13.7                 3   \n",
       "2                   7.32                12.2                 5   \n",
       "3                   8.86                 6.6                 7   \n",
       "4                   8.41                10.1                 3   \n",
       "...                  ...                 ...               ...   \n",
       "3328               12.56                 9.9                 6   \n",
       "3329                8.61                 9.6                 4   \n",
       "3330                8.64                14.1                 6   \n",
       "3331                6.26                 5.0                10   \n",
       "3332               10.86                13.7                 4   \n",
       "\n",
       "      total intl charge  customer service calls  churn  \n",
       "0                  2.70                       1  False  \n",
       "1                  3.70                       1  False  \n",
       "2                  3.29                       0  False  \n",
       "3                  1.78                       2  False  \n",
       "4                  2.73                       3  False  \n",
       "...                 ...                     ...    ...  \n",
       "3328               2.67                       2  False  \n",
       "3329               2.59                       3  False  \n",
       "3330               3.81                       2  False  \n",
       "3331               1.35                       2  False  \n",
       "3332               3.70                       0  False  \n",
       "\n",
       "[3333 rows x 21 columns]"
      ]
     },
     "execution_count": 3,
     "metadata": {},
     "output_type": "execute_result"
    }
   ],
   "source": [
    "df"
   ]
  },
  {
   "cell_type": "code",
   "execution_count": 4,
   "id": "5d608da8",
   "metadata": {
    "ExecuteTime": {
     "end_time": "2021-08-02T15:30:38.050020Z",
     "start_time": "2021-08-02T15:30:38.047875Z"
    }
   },
   "outputs": [],
   "source": [
    "#cleaning of the col names\n",
    "df.columns = df.columns.str.replace(' ', \"_\")\n",
    "        "
   ]
  },
  {
   "cell_type": "code",
   "execution_count": 5,
   "id": "2fa46283",
   "metadata": {
    "ExecuteTime": {
     "end_time": "2021-08-02T15:30:38.074259Z",
     "start_time": "2021-08-02T15:30:38.050992Z"
    }
   },
   "outputs": [
    {
     "data": {
      "text/html": [
       "<div>\n",
       "<style scoped>\n",
       "    .dataframe tbody tr th:only-of-type {\n",
       "        vertical-align: middle;\n",
       "    }\n",
       "\n",
       "    .dataframe tbody tr th {\n",
       "        vertical-align: top;\n",
       "    }\n",
       "\n",
       "    .dataframe thead th {\n",
       "        text-align: right;\n",
       "    }\n",
       "</style>\n",
       "<table border=\"1\" class=\"dataframe\">\n",
       "  <thead>\n",
       "    <tr style=\"text-align: right;\">\n",
       "      <th></th>\n",
       "      <th>state</th>\n",
       "      <th>account_length</th>\n",
       "      <th>area_code</th>\n",
       "      <th>phone_number</th>\n",
       "      <th>international_plan</th>\n",
       "      <th>voice_mail_plan</th>\n",
       "      <th>number_vmail_messages</th>\n",
       "      <th>total_day_minutes</th>\n",
       "      <th>total_day_calls</th>\n",
       "      <th>total_day_charge</th>\n",
       "      <th>...</th>\n",
       "      <th>total_eve_calls</th>\n",
       "      <th>total_eve_charge</th>\n",
       "      <th>total_night_minutes</th>\n",
       "      <th>total_night_calls</th>\n",
       "      <th>total_night_charge</th>\n",
       "      <th>total_intl_minutes</th>\n",
       "      <th>total_intl_calls</th>\n",
       "      <th>total_intl_charge</th>\n",
       "      <th>customer_service_calls</th>\n",
       "      <th>churn</th>\n",
       "    </tr>\n",
       "  </thead>\n",
       "  <tbody>\n",
       "    <tr>\n",
       "      <th>0</th>\n",
       "      <td>KS</td>\n",
       "      <td>128</td>\n",
       "      <td>415</td>\n",
       "      <td>382-4657</td>\n",
       "      <td>no</td>\n",
       "      <td>yes</td>\n",
       "      <td>25</td>\n",
       "      <td>265.1</td>\n",
       "      <td>110</td>\n",
       "      <td>45.07</td>\n",
       "      <td>...</td>\n",
       "      <td>99</td>\n",
       "      <td>16.78</td>\n",
       "      <td>244.7</td>\n",
       "      <td>91</td>\n",
       "      <td>11.01</td>\n",
       "      <td>10.0</td>\n",
       "      <td>3</td>\n",
       "      <td>2.70</td>\n",
       "      <td>1</td>\n",
       "      <td>False</td>\n",
       "    </tr>\n",
       "    <tr>\n",
       "      <th>1</th>\n",
       "      <td>OH</td>\n",
       "      <td>107</td>\n",
       "      <td>415</td>\n",
       "      <td>371-7191</td>\n",
       "      <td>no</td>\n",
       "      <td>yes</td>\n",
       "      <td>26</td>\n",
       "      <td>161.6</td>\n",
       "      <td>123</td>\n",
       "      <td>27.47</td>\n",
       "      <td>...</td>\n",
       "      <td>103</td>\n",
       "      <td>16.62</td>\n",
       "      <td>254.4</td>\n",
       "      <td>103</td>\n",
       "      <td>11.45</td>\n",
       "      <td>13.7</td>\n",
       "      <td>3</td>\n",
       "      <td>3.70</td>\n",
       "      <td>1</td>\n",
       "      <td>False</td>\n",
       "    </tr>\n",
       "    <tr>\n",
       "      <th>2</th>\n",
       "      <td>NJ</td>\n",
       "      <td>137</td>\n",
       "      <td>415</td>\n",
       "      <td>358-1921</td>\n",
       "      <td>no</td>\n",
       "      <td>no</td>\n",
       "      <td>0</td>\n",
       "      <td>243.4</td>\n",
       "      <td>114</td>\n",
       "      <td>41.38</td>\n",
       "      <td>...</td>\n",
       "      <td>110</td>\n",
       "      <td>10.30</td>\n",
       "      <td>162.6</td>\n",
       "      <td>104</td>\n",
       "      <td>7.32</td>\n",
       "      <td>12.2</td>\n",
       "      <td>5</td>\n",
       "      <td>3.29</td>\n",
       "      <td>0</td>\n",
       "      <td>False</td>\n",
       "    </tr>\n",
       "    <tr>\n",
       "      <th>3</th>\n",
       "      <td>OH</td>\n",
       "      <td>84</td>\n",
       "      <td>408</td>\n",
       "      <td>375-9999</td>\n",
       "      <td>yes</td>\n",
       "      <td>no</td>\n",
       "      <td>0</td>\n",
       "      <td>299.4</td>\n",
       "      <td>71</td>\n",
       "      <td>50.90</td>\n",
       "      <td>...</td>\n",
       "      <td>88</td>\n",
       "      <td>5.26</td>\n",
       "      <td>196.9</td>\n",
       "      <td>89</td>\n",
       "      <td>8.86</td>\n",
       "      <td>6.6</td>\n",
       "      <td>7</td>\n",
       "      <td>1.78</td>\n",
       "      <td>2</td>\n",
       "      <td>False</td>\n",
       "    </tr>\n",
       "    <tr>\n",
       "      <th>4</th>\n",
       "      <td>OK</td>\n",
       "      <td>75</td>\n",
       "      <td>415</td>\n",
       "      <td>330-6626</td>\n",
       "      <td>yes</td>\n",
       "      <td>no</td>\n",
       "      <td>0</td>\n",
       "      <td>166.7</td>\n",
       "      <td>113</td>\n",
       "      <td>28.34</td>\n",
       "      <td>...</td>\n",
       "      <td>122</td>\n",
       "      <td>12.61</td>\n",
       "      <td>186.9</td>\n",
       "      <td>121</td>\n",
       "      <td>8.41</td>\n",
       "      <td>10.1</td>\n",
       "      <td>3</td>\n",
       "      <td>2.73</td>\n",
       "      <td>3</td>\n",
       "      <td>False</td>\n",
       "    </tr>\n",
       "    <tr>\n",
       "      <th>...</th>\n",
       "      <td>...</td>\n",
       "      <td>...</td>\n",
       "      <td>...</td>\n",
       "      <td>...</td>\n",
       "      <td>...</td>\n",
       "      <td>...</td>\n",
       "      <td>...</td>\n",
       "      <td>...</td>\n",
       "      <td>...</td>\n",
       "      <td>...</td>\n",
       "      <td>...</td>\n",
       "      <td>...</td>\n",
       "      <td>...</td>\n",
       "      <td>...</td>\n",
       "      <td>...</td>\n",
       "      <td>...</td>\n",
       "      <td>...</td>\n",
       "      <td>...</td>\n",
       "      <td>...</td>\n",
       "      <td>...</td>\n",
       "      <td>...</td>\n",
       "    </tr>\n",
       "    <tr>\n",
       "      <th>3328</th>\n",
       "      <td>AZ</td>\n",
       "      <td>192</td>\n",
       "      <td>415</td>\n",
       "      <td>414-4276</td>\n",
       "      <td>no</td>\n",
       "      <td>yes</td>\n",
       "      <td>36</td>\n",
       "      <td>156.2</td>\n",
       "      <td>77</td>\n",
       "      <td>26.55</td>\n",
       "      <td>...</td>\n",
       "      <td>126</td>\n",
       "      <td>18.32</td>\n",
       "      <td>279.1</td>\n",
       "      <td>83</td>\n",
       "      <td>12.56</td>\n",
       "      <td>9.9</td>\n",
       "      <td>6</td>\n",
       "      <td>2.67</td>\n",
       "      <td>2</td>\n",
       "      <td>False</td>\n",
       "    </tr>\n",
       "    <tr>\n",
       "      <th>3329</th>\n",
       "      <td>WV</td>\n",
       "      <td>68</td>\n",
       "      <td>415</td>\n",
       "      <td>370-3271</td>\n",
       "      <td>no</td>\n",
       "      <td>no</td>\n",
       "      <td>0</td>\n",
       "      <td>231.1</td>\n",
       "      <td>57</td>\n",
       "      <td>39.29</td>\n",
       "      <td>...</td>\n",
       "      <td>55</td>\n",
       "      <td>13.04</td>\n",
       "      <td>191.3</td>\n",
       "      <td>123</td>\n",
       "      <td>8.61</td>\n",
       "      <td>9.6</td>\n",
       "      <td>4</td>\n",
       "      <td>2.59</td>\n",
       "      <td>3</td>\n",
       "      <td>False</td>\n",
       "    </tr>\n",
       "    <tr>\n",
       "      <th>3330</th>\n",
       "      <td>RI</td>\n",
       "      <td>28</td>\n",
       "      <td>510</td>\n",
       "      <td>328-8230</td>\n",
       "      <td>no</td>\n",
       "      <td>no</td>\n",
       "      <td>0</td>\n",
       "      <td>180.8</td>\n",
       "      <td>109</td>\n",
       "      <td>30.74</td>\n",
       "      <td>...</td>\n",
       "      <td>58</td>\n",
       "      <td>24.55</td>\n",
       "      <td>191.9</td>\n",
       "      <td>91</td>\n",
       "      <td>8.64</td>\n",
       "      <td>14.1</td>\n",
       "      <td>6</td>\n",
       "      <td>3.81</td>\n",
       "      <td>2</td>\n",
       "      <td>False</td>\n",
       "    </tr>\n",
       "    <tr>\n",
       "      <th>3331</th>\n",
       "      <td>CT</td>\n",
       "      <td>184</td>\n",
       "      <td>510</td>\n",
       "      <td>364-6381</td>\n",
       "      <td>yes</td>\n",
       "      <td>no</td>\n",
       "      <td>0</td>\n",
       "      <td>213.8</td>\n",
       "      <td>105</td>\n",
       "      <td>36.35</td>\n",
       "      <td>...</td>\n",
       "      <td>84</td>\n",
       "      <td>13.57</td>\n",
       "      <td>139.2</td>\n",
       "      <td>137</td>\n",
       "      <td>6.26</td>\n",
       "      <td>5.0</td>\n",
       "      <td>10</td>\n",
       "      <td>1.35</td>\n",
       "      <td>2</td>\n",
       "      <td>False</td>\n",
       "    </tr>\n",
       "    <tr>\n",
       "      <th>3332</th>\n",
       "      <td>TN</td>\n",
       "      <td>74</td>\n",
       "      <td>415</td>\n",
       "      <td>400-4344</td>\n",
       "      <td>no</td>\n",
       "      <td>yes</td>\n",
       "      <td>25</td>\n",
       "      <td>234.4</td>\n",
       "      <td>113</td>\n",
       "      <td>39.85</td>\n",
       "      <td>...</td>\n",
       "      <td>82</td>\n",
       "      <td>22.60</td>\n",
       "      <td>241.4</td>\n",
       "      <td>77</td>\n",
       "      <td>10.86</td>\n",
       "      <td>13.7</td>\n",
       "      <td>4</td>\n",
       "      <td>3.70</td>\n",
       "      <td>0</td>\n",
       "      <td>False</td>\n",
       "    </tr>\n",
       "  </tbody>\n",
       "</table>\n",
       "<p>3333 rows × 21 columns</p>\n",
       "</div>"
      ],
      "text/plain": [
       "     state  account_length  area_code phone_number international_plan  \\\n",
       "0       KS             128        415     382-4657                 no   \n",
       "1       OH             107        415     371-7191                 no   \n",
       "2       NJ             137        415     358-1921                 no   \n",
       "3       OH              84        408     375-9999                yes   \n",
       "4       OK              75        415     330-6626                yes   \n",
       "...    ...             ...        ...          ...                ...   \n",
       "3328    AZ             192        415     414-4276                 no   \n",
       "3329    WV              68        415     370-3271                 no   \n",
       "3330    RI              28        510     328-8230                 no   \n",
       "3331    CT             184        510     364-6381                yes   \n",
       "3332    TN              74        415     400-4344                 no   \n",
       "\n",
       "     voice_mail_plan  number_vmail_messages  total_day_minutes  \\\n",
       "0                yes                     25              265.1   \n",
       "1                yes                     26              161.6   \n",
       "2                 no                      0              243.4   \n",
       "3                 no                      0              299.4   \n",
       "4                 no                      0              166.7   \n",
       "...              ...                    ...                ...   \n",
       "3328             yes                     36              156.2   \n",
       "3329              no                      0              231.1   \n",
       "3330              no                      0              180.8   \n",
       "3331              no                      0              213.8   \n",
       "3332             yes                     25              234.4   \n",
       "\n",
       "      total_day_calls  total_day_charge  ...  total_eve_calls  \\\n",
       "0                 110             45.07  ...               99   \n",
       "1                 123             27.47  ...              103   \n",
       "2                 114             41.38  ...              110   \n",
       "3                  71             50.90  ...               88   \n",
       "4                 113             28.34  ...              122   \n",
       "...               ...               ...  ...              ...   \n",
       "3328               77             26.55  ...              126   \n",
       "3329               57             39.29  ...               55   \n",
       "3330              109             30.74  ...               58   \n",
       "3331              105             36.35  ...               84   \n",
       "3332              113             39.85  ...               82   \n",
       "\n",
       "      total_eve_charge  total_night_minutes  total_night_calls  \\\n",
       "0                16.78                244.7                 91   \n",
       "1                16.62                254.4                103   \n",
       "2                10.30                162.6                104   \n",
       "3                 5.26                196.9                 89   \n",
       "4                12.61                186.9                121   \n",
       "...                ...                  ...                ...   \n",
       "3328             18.32                279.1                 83   \n",
       "3329             13.04                191.3                123   \n",
       "3330             24.55                191.9                 91   \n",
       "3331             13.57                139.2                137   \n",
       "3332             22.60                241.4                 77   \n",
       "\n",
       "      total_night_charge  total_intl_minutes  total_intl_calls  \\\n",
       "0                  11.01                10.0                 3   \n",
       "1                  11.45                13.7                 3   \n",
       "2                   7.32                12.2                 5   \n",
       "3                   8.86                 6.6                 7   \n",
       "4                   8.41                10.1                 3   \n",
       "...                  ...                 ...               ...   \n",
       "3328               12.56                 9.9                 6   \n",
       "3329                8.61                 9.6                 4   \n",
       "3330                8.64                14.1                 6   \n",
       "3331                6.26                 5.0                10   \n",
       "3332               10.86                13.7                 4   \n",
       "\n",
       "      total_intl_charge  customer_service_calls  churn  \n",
       "0                  2.70                       1  False  \n",
       "1                  3.70                       1  False  \n",
       "2                  3.29                       0  False  \n",
       "3                  1.78                       2  False  \n",
       "4                  2.73                       3  False  \n",
       "...                 ...                     ...    ...  \n",
       "3328               2.67                       2  False  \n",
       "3329               2.59                       3  False  \n",
       "3330               3.81                       2  False  \n",
       "3331               1.35                       2  False  \n",
       "3332               3.70                       0  False  \n",
       "\n",
       "[3333 rows x 21 columns]"
      ]
     },
     "execution_count": 5,
     "metadata": {},
     "output_type": "execute_result"
    }
   ],
   "source": [
    "df"
   ]
  },
  {
   "cell_type": "code",
   "execution_count": 6,
   "id": "e59d1249",
   "metadata": {
    "ExecuteTime": {
     "end_time": "2021-08-02T15:30:38.079259Z",
     "start_time": "2021-08-02T15:30:38.076218Z"
    }
   },
   "outputs": [],
   "source": [
    "df['churn']= df[\"churn\"].astype(int)"
   ]
  },
  {
   "cell_type": "code",
   "execution_count": 7,
   "id": "42e989d2",
   "metadata": {
    "ExecuteTime": {
     "end_time": "2021-08-02T15:30:38.107206Z",
     "start_time": "2021-08-02T15:30:38.083747Z"
    }
   },
   "outputs": [
    {
     "data": {
      "text/html": [
       "<div>\n",
       "<style scoped>\n",
       "    .dataframe tbody tr th:only-of-type {\n",
       "        vertical-align: middle;\n",
       "    }\n",
       "\n",
       "    .dataframe tbody tr th {\n",
       "        vertical-align: top;\n",
       "    }\n",
       "\n",
       "    .dataframe thead th {\n",
       "        text-align: right;\n",
       "    }\n",
       "</style>\n",
       "<table border=\"1\" class=\"dataframe\">\n",
       "  <thead>\n",
       "    <tr style=\"text-align: right;\">\n",
       "      <th></th>\n",
       "      <th>state</th>\n",
       "      <th>account_length</th>\n",
       "      <th>area_code</th>\n",
       "      <th>phone_number</th>\n",
       "      <th>international_plan</th>\n",
       "      <th>voice_mail_plan</th>\n",
       "      <th>number_vmail_messages</th>\n",
       "      <th>total_day_minutes</th>\n",
       "      <th>total_day_calls</th>\n",
       "      <th>total_day_charge</th>\n",
       "      <th>...</th>\n",
       "      <th>total_eve_calls</th>\n",
       "      <th>total_eve_charge</th>\n",
       "      <th>total_night_minutes</th>\n",
       "      <th>total_night_calls</th>\n",
       "      <th>total_night_charge</th>\n",
       "      <th>total_intl_minutes</th>\n",
       "      <th>total_intl_calls</th>\n",
       "      <th>total_intl_charge</th>\n",
       "      <th>customer_service_calls</th>\n",
       "      <th>churn</th>\n",
       "    </tr>\n",
       "  </thead>\n",
       "  <tbody>\n",
       "    <tr>\n",
       "      <th>0</th>\n",
       "      <td>KS</td>\n",
       "      <td>128</td>\n",
       "      <td>415</td>\n",
       "      <td>382-4657</td>\n",
       "      <td>no</td>\n",
       "      <td>yes</td>\n",
       "      <td>25</td>\n",
       "      <td>265.1</td>\n",
       "      <td>110</td>\n",
       "      <td>45.07</td>\n",
       "      <td>...</td>\n",
       "      <td>99</td>\n",
       "      <td>16.78</td>\n",
       "      <td>244.7</td>\n",
       "      <td>91</td>\n",
       "      <td>11.01</td>\n",
       "      <td>10.0</td>\n",
       "      <td>3</td>\n",
       "      <td>2.70</td>\n",
       "      <td>1</td>\n",
       "      <td>0</td>\n",
       "    </tr>\n",
       "    <tr>\n",
       "      <th>1</th>\n",
       "      <td>OH</td>\n",
       "      <td>107</td>\n",
       "      <td>415</td>\n",
       "      <td>371-7191</td>\n",
       "      <td>no</td>\n",
       "      <td>yes</td>\n",
       "      <td>26</td>\n",
       "      <td>161.6</td>\n",
       "      <td>123</td>\n",
       "      <td>27.47</td>\n",
       "      <td>...</td>\n",
       "      <td>103</td>\n",
       "      <td>16.62</td>\n",
       "      <td>254.4</td>\n",
       "      <td>103</td>\n",
       "      <td>11.45</td>\n",
       "      <td>13.7</td>\n",
       "      <td>3</td>\n",
       "      <td>3.70</td>\n",
       "      <td>1</td>\n",
       "      <td>0</td>\n",
       "    </tr>\n",
       "    <tr>\n",
       "      <th>2</th>\n",
       "      <td>NJ</td>\n",
       "      <td>137</td>\n",
       "      <td>415</td>\n",
       "      <td>358-1921</td>\n",
       "      <td>no</td>\n",
       "      <td>no</td>\n",
       "      <td>0</td>\n",
       "      <td>243.4</td>\n",
       "      <td>114</td>\n",
       "      <td>41.38</td>\n",
       "      <td>...</td>\n",
       "      <td>110</td>\n",
       "      <td>10.30</td>\n",
       "      <td>162.6</td>\n",
       "      <td>104</td>\n",
       "      <td>7.32</td>\n",
       "      <td>12.2</td>\n",
       "      <td>5</td>\n",
       "      <td>3.29</td>\n",
       "      <td>0</td>\n",
       "      <td>0</td>\n",
       "    </tr>\n",
       "    <tr>\n",
       "      <th>3</th>\n",
       "      <td>OH</td>\n",
       "      <td>84</td>\n",
       "      <td>408</td>\n",
       "      <td>375-9999</td>\n",
       "      <td>yes</td>\n",
       "      <td>no</td>\n",
       "      <td>0</td>\n",
       "      <td>299.4</td>\n",
       "      <td>71</td>\n",
       "      <td>50.90</td>\n",
       "      <td>...</td>\n",
       "      <td>88</td>\n",
       "      <td>5.26</td>\n",
       "      <td>196.9</td>\n",
       "      <td>89</td>\n",
       "      <td>8.86</td>\n",
       "      <td>6.6</td>\n",
       "      <td>7</td>\n",
       "      <td>1.78</td>\n",
       "      <td>2</td>\n",
       "      <td>0</td>\n",
       "    </tr>\n",
       "    <tr>\n",
       "      <th>4</th>\n",
       "      <td>OK</td>\n",
       "      <td>75</td>\n",
       "      <td>415</td>\n",
       "      <td>330-6626</td>\n",
       "      <td>yes</td>\n",
       "      <td>no</td>\n",
       "      <td>0</td>\n",
       "      <td>166.7</td>\n",
       "      <td>113</td>\n",
       "      <td>28.34</td>\n",
       "      <td>...</td>\n",
       "      <td>122</td>\n",
       "      <td>12.61</td>\n",
       "      <td>186.9</td>\n",
       "      <td>121</td>\n",
       "      <td>8.41</td>\n",
       "      <td>10.1</td>\n",
       "      <td>3</td>\n",
       "      <td>2.73</td>\n",
       "      <td>3</td>\n",
       "      <td>0</td>\n",
       "    </tr>\n",
       "    <tr>\n",
       "      <th>...</th>\n",
       "      <td>...</td>\n",
       "      <td>...</td>\n",
       "      <td>...</td>\n",
       "      <td>...</td>\n",
       "      <td>...</td>\n",
       "      <td>...</td>\n",
       "      <td>...</td>\n",
       "      <td>...</td>\n",
       "      <td>...</td>\n",
       "      <td>...</td>\n",
       "      <td>...</td>\n",
       "      <td>...</td>\n",
       "      <td>...</td>\n",
       "      <td>...</td>\n",
       "      <td>...</td>\n",
       "      <td>...</td>\n",
       "      <td>...</td>\n",
       "      <td>...</td>\n",
       "      <td>...</td>\n",
       "      <td>...</td>\n",
       "      <td>...</td>\n",
       "    </tr>\n",
       "    <tr>\n",
       "      <th>3328</th>\n",
       "      <td>AZ</td>\n",
       "      <td>192</td>\n",
       "      <td>415</td>\n",
       "      <td>414-4276</td>\n",
       "      <td>no</td>\n",
       "      <td>yes</td>\n",
       "      <td>36</td>\n",
       "      <td>156.2</td>\n",
       "      <td>77</td>\n",
       "      <td>26.55</td>\n",
       "      <td>...</td>\n",
       "      <td>126</td>\n",
       "      <td>18.32</td>\n",
       "      <td>279.1</td>\n",
       "      <td>83</td>\n",
       "      <td>12.56</td>\n",
       "      <td>9.9</td>\n",
       "      <td>6</td>\n",
       "      <td>2.67</td>\n",
       "      <td>2</td>\n",
       "      <td>0</td>\n",
       "    </tr>\n",
       "    <tr>\n",
       "      <th>3329</th>\n",
       "      <td>WV</td>\n",
       "      <td>68</td>\n",
       "      <td>415</td>\n",
       "      <td>370-3271</td>\n",
       "      <td>no</td>\n",
       "      <td>no</td>\n",
       "      <td>0</td>\n",
       "      <td>231.1</td>\n",
       "      <td>57</td>\n",
       "      <td>39.29</td>\n",
       "      <td>...</td>\n",
       "      <td>55</td>\n",
       "      <td>13.04</td>\n",
       "      <td>191.3</td>\n",
       "      <td>123</td>\n",
       "      <td>8.61</td>\n",
       "      <td>9.6</td>\n",
       "      <td>4</td>\n",
       "      <td>2.59</td>\n",
       "      <td>3</td>\n",
       "      <td>0</td>\n",
       "    </tr>\n",
       "    <tr>\n",
       "      <th>3330</th>\n",
       "      <td>RI</td>\n",
       "      <td>28</td>\n",
       "      <td>510</td>\n",
       "      <td>328-8230</td>\n",
       "      <td>no</td>\n",
       "      <td>no</td>\n",
       "      <td>0</td>\n",
       "      <td>180.8</td>\n",
       "      <td>109</td>\n",
       "      <td>30.74</td>\n",
       "      <td>...</td>\n",
       "      <td>58</td>\n",
       "      <td>24.55</td>\n",
       "      <td>191.9</td>\n",
       "      <td>91</td>\n",
       "      <td>8.64</td>\n",
       "      <td>14.1</td>\n",
       "      <td>6</td>\n",
       "      <td>3.81</td>\n",
       "      <td>2</td>\n",
       "      <td>0</td>\n",
       "    </tr>\n",
       "    <tr>\n",
       "      <th>3331</th>\n",
       "      <td>CT</td>\n",
       "      <td>184</td>\n",
       "      <td>510</td>\n",
       "      <td>364-6381</td>\n",
       "      <td>yes</td>\n",
       "      <td>no</td>\n",
       "      <td>0</td>\n",
       "      <td>213.8</td>\n",
       "      <td>105</td>\n",
       "      <td>36.35</td>\n",
       "      <td>...</td>\n",
       "      <td>84</td>\n",
       "      <td>13.57</td>\n",
       "      <td>139.2</td>\n",
       "      <td>137</td>\n",
       "      <td>6.26</td>\n",
       "      <td>5.0</td>\n",
       "      <td>10</td>\n",
       "      <td>1.35</td>\n",
       "      <td>2</td>\n",
       "      <td>0</td>\n",
       "    </tr>\n",
       "    <tr>\n",
       "      <th>3332</th>\n",
       "      <td>TN</td>\n",
       "      <td>74</td>\n",
       "      <td>415</td>\n",
       "      <td>400-4344</td>\n",
       "      <td>no</td>\n",
       "      <td>yes</td>\n",
       "      <td>25</td>\n",
       "      <td>234.4</td>\n",
       "      <td>113</td>\n",
       "      <td>39.85</td>\n",
       "      <td>...</td>\n",
       "      <td>82</td>\n",
       "      <td>22.60</td>\n",
       "      <td>241.4</td>\n",
       "      <td>77</td>\n",
       "      <td>10.86</td>\n",
       "      <td>13.7</td>\n",
       "      <td>4</td>\n",
       "      <td>3.70</td>\n",
       "      <td>0</td>\n",
       "      <td>0</td>\n",
       "    </tr>\n",
       "  </tbody>\n",
       "</table>\n",
       "<p>3333 rows × 21 columns</p>\n",
       "</div>"
      ],
      "text/plain": [
       "     state  account_length  area_code phone_number international_plan  \\\n",
       "0       KS             128        415     382-4657                 no   \n",
       "1       OH             107        415     371-7191                 no   \n",
       "2       NJ             137        415     358-1921                 no   \n",
       "3       OH              84        408     375-9999                yes   \n",
       "4       OK              75        415     330-6626                yes   \n",
       "...    ...             ...        ...          ...                ...   \n",
       "3328    AZ             192        415     414-4276                 no   \n",
       "3329    WV              68        415     370-3271                 no   \n",
       "3330    RI              28        510     328-8230                 no   \n",
       "3331    CT             184        510     364-6381                yes   \n",
       "3332    TN              74        415     400-4344                 no   \n",
       "\n",
       "     voice_mail_plan  number_vmail_messages  total_day_minutes  \\\n",
       "0                yes                     25              265.1   \n",
       "1                yes                     26              161.6   \n",
       "2                 no                      0              243.4   \n",
       "3                 no                      0              299.4   \n",
       "4                 no                      0              166.7   \n",
       "...              ...                    ...                ...   \n",
       "3328             yes                     36              156.2   \n",
       "3329              no                      0              231.1   \n",
       "3330              no                      0              180.8   \n",
       "3331              no                      0              213.8   \n",
       "3332             yes                     25              234.4   \n",
       "\n",
       "      total_day_calls  total_day_charge  ...  total_eve_calls  \\\n",
       "0                 110             45.07  ...               99   \n",
       "1                 123             27.47  ...              103   \n",
       "2                 114             41.38  ...              110   \n",
       "3                  71             50.90  ...               88   \n",
       "4                 113             28.34  ...              122   \n",
       "...               ...               ...  ...              ...   \n",
       "3328               77             26.55  ...              126   \n",
       "3329               57             39.29  ...               55   \n",
       "3330              109             30.74  ...               58   \n",
       "3331              105             36.35  ...               84   \n",
       "3332              113             39.85  ...               82   \n",
       "\n",
       "      total_eve_charge  total_night_minutes  total_night_calls  \\\n",
       "0                16.78                244.7                 91   \n",
       "1                16.62                254.4                103   \n",
       "2                10.30                162.6                104   \n",
       "3                 5.26                196.9                 89   \n",
       "4                12.61                186.9                121   \n",
       "...                ...                  ...                ...   \n",
       "3328             18.32                279.1                 83   \n",
       "3329             13.04                191.3                123   \n",
       "3330             24.55                191.9                 91   \n",
       "3331             13.57                139.2                137   \n",
       "3332             22.60                241.4                 77   \n",
       "\n",
       "      total_night_charge  total_intl_minutes  total_intl_calls  \\\n",
       "0                  11.01                10.0                 3   \n",
       "1                  11.45                13.7                 3   \n",
       "2                   7.32                12.2                 5   \n",
       "3                   8.86                 6.6                 7   \n",
       "4                   8.41                10.1                 3   \n",
       "...                  ...                 ...               ...   \n",
       "3328               12.56                 9.9                 6   \n",
       "3329                8.61                 9.6                 4   \n",
       "3330                8.64                14.1                 6   \n",
       "3331                6.26                 5.0                10   \n",
       "3332               10.86                13.7                 4   \n",
       "\n",
       "      total_intl_charge  customer_service_calls  churn  \n",
       "0                  2.70                       1      0  \n",
       "1                  3.70                       1      0  \n",
       "2                  3.29                       0      0  \n",
       "3                  1.78                       2      0  \n",
       "4                  2.73                       3      0  \n",
       "...                 ...                     ...    ...  \n",
       "3328               2.67                       2      0  \n",
       "3329               2.59                       3      0  \n",
       "3330               3.81                       2      0  \n",
       "3331               1.35                       2      0  \n",
       "3332               3.70                       0      0  \n",
       "\n",
       "[3333 rows x 21 columns]"
      ]
     },
     "execution_count": 7,
     "metadata": {},
     "output_type": "execute_result"
    }
   ],
   "source": [
    "df"
   ]
  },
  {
   "cell_type": "code",
   "execution_count": 8,
   "id": "a1805405",
   "metadata": {
    "ExecuteTime": {
     "end_time": "2021-08-02T15:30:38.115449Z",
     "start_time": "2021-08-02T15:30:38.110514Z"
    }
   },
   "outputs": [
    {
     "data": {
      "text/plain": [
       "0    0.855086\n",
       "1    0.144914\n",
       "Name: churn, dtype: float64"
      ]
     },
     "execution_count": 8,
     "metadata": {},
     "output_type": "execute_result"
    }
   ],
   "source": [
    "df[\"churn\"].value_counts(normalize = True)"
   ]
  },
  {
   "cell_type": "markdown",
   "id": "f1536b16",
   "metadata": {},
   "source": [
    "There may be a class imbalance : not terrible"
   ]
  },
  {
   "cell_type": "markdown",
   "id": "64c294a3",
   "metadata": {},
   "source": [
    "## Start exploring some features "
   ]
  },
  {
   "cell_type": "code",
   "execution_count": 9,
   "id": "cbb75de8",
   "metadata": {
    "ExecuteTime": {
     "end_time": "2021-08-02T15:30:38.119810Z",
     "start_time": "2021-08-02T15:30:38.117084Z"
    }
   },
   "outputs": [],
   "source": [
    "df['total_min']= df['total_day_minutes']+ df['total_eve_minutes'] + df['total_intl_minutes']+df['total_night_minutes']"
   ]
  },
  {
   "cell_type": "code",
   "execution_count": 10,
   "id": "8ad105fb",
   "metadata": {
    "ExecuteTime": {
     "end_time": "2021-08-02T15:30:38.123046Z",
     "start_time": "2021-08-02T15:30:38.120769Z"
    }
   },
   "outputs": [],
   "source": [
    "df['total_calls_dom'] = df['total_day_calls'] + df['total_night_calls']+ df['total_eve_calls']"
   ]
  },
  {
   "cell_type": "code",
   "execution_count": 11,
   "id": "24dbd804",
   "metadata": {
    "ExecuteTime": {
     "end_time": "2021-08-02T15:30:38.128402Z",
     "start_time": "2021-08-02T15:30:38.124126Z"
    }
   },
   "outputs": [],
   "source": [
    "df[\"total_calls\"] = df['total_day_calls'] + df['total_night_calls']+df['total_intl_calls']+df['total_eve_calls']\n",
    "df['total_charge_dom'] = df['total_day_calls'] + df['total_eve_charge'] + df['total_night_charge']\n",
    "\n",
    "df['total_charge'] = df['total_day_calls'] + df['total_eve_charge'] + df['total_night_charge'] + df['total_intl_charge']"
   ]
  },
  {
   "cell_type": "code",
   "execution_count": 12,
   "id": "941811ba",
   "metadata": {
    "ExecuteTime": {
     "end_time": "2021-08-02T15:30:38.131571Z",
     "start_time": "2021-08-02T15:30:38.129307Z"
    }
   },
   "outputs": [],
   "source": [
    "\n",
    "#new feature to measure customer service calls ratio tot total calls\n",
    "df['call_satisfaction'] = df['customer_service_calls']/df['total_calls']"
   ]
  },
  {
   "cell_type": "code",
   "execution_count": 13,
   "id": "e6a12d9f",
   "metadata": {
    "ExecuteTime": {
     "end_time": "2021-08-02T15:30:38.141209Z",
     "start_time": "2021-08-02T15:30:38.132541Z"
    }
   },
   "outputs": [],
   "source": [
    "df[\"charge_per_min_dom\"] = df['total_charge_dom']/df['total_calls_dom']\n",
    "df['charge_per_min_intl'] = df['total_intl_charge']/ df['total_intl_calls']"
   ]
  },
  {
   "cell_type": "code",
   "execution_count": 14,
   "id": "fd053c6e",
   "metadata": {
    "ExecuteTime": {
     "end_time": "2021-08-02T15:30:38.148139Z",
     "start_time": "2021-08-02T15:30:38.142323Z"
    }
   },
   "outputs": [
    {
     "data": {
      "text/plain": [
       "count    3333.000000\n",
       "mean        0.005198\n",
       "std         0.004456\n",
       "min         0.000000\n",
       "25%         0.002890\n",
       "50%         0.003663\n",
       "75%         0.007273\n",
       "max         0.030303\n",
       "Name: call_satisfaction, dtype: float64"
      ]
     },
     "execution_count": 14,
     "metadata": {},
     "output_type": "execute_result"
    }
   ],
   "source": [
    "df['call_satisfaction'].describe()"
   ]
  },
  {
   "cell_type": "code",
   "execution_count": 15,
   "id": "de9ba04e",
   "metadata": {
    "ExecuteTime": {
     "end_time": "2021-08-02T15:30:38.151577Z",
     "start_time": "2021-08-02T15:30:38.149059Z"
    }
   },
   "outputs": [],
   "source": [
    "df[\"%_int_min\"]= df['total_intl_minutes']/ df['total_min']\n"
   ]
  },
  {
   "cell_type": "code",
   "execution_count": 16,
   "id": "7affa2ef",
   "metadata": {
    "ExecuteTime": {
     "end_time": "2021-08-02T15:30:38.157402Z",
     "start_time": "2021-08-02T15:30:38.152652Z"
    }
   },
   "outputs": [],
   "source": [
    "states = {\n",
    "        'AK': 'West',\n",
    "        'AL': 'South',\n",
    "        'AR': 'South',\n",
    "        'AZ': 'West',\n",
    "        'CA': 'West',\n",
    "        'CO': 'West',\n",
    "        'CT': 'Northeast',\n",
    "        'DC': 'South',\n",
    "        'DE': 'South',\n",
    "        'FL': 'South',\n",
    "        'GA': 'South',\n",
    "        'HI': 'West',\n",
    "        'IA': 'Midwest',\n",
    "        'ID': 'West',\n",
    "        'IL': 'Midwest',\n",
    "        'IN': 'Midwest',\n",
    "        'KS': 'Midwest',\n",
    "        'KY': 'South',\n",
    "        'LA': 'South',\n",
    "        'MA': 'Northeast',\n",
    "        'MD': 'South',\n",
    "        'ME': 'Northeast',\n",
    "        'MI': 'Midwest',\n",
    "        'MN': 'Midwest',\n",
    "        'MO': 'Midwest',\n",
    "        'MS': 'South',\n",
    "        'MT': 'West',\n",
    "        'NC': 'South',\n",
    "        'ND': 'Midwest',\n",
    "        'NE': 'Midwest',\n",
    "        'NH': 'Northeast',\n",
    "        'NJ': 'Northeast',\n",
    "        'NM': 'West',\n",
    "        'NV': 'West',\n",
    "        'NY': 'Northeast',\n",
    "        'OH': 'Midwest',\n",
    "        'OK': 'South',\n",
    "        'OR': 'West',\n",
    "        'PA': 'Northeast',\n",
    "        'RI': 'Northeast',\n",
    "        'SC': 'South',\n",
    "        'SD': 'Midwest',\n",
    "        'TN': 'South',\n",
    "        'TX': 'South',\n",
    "        'UT': 'West',\n",
    "        'VA': 'South',\n",
    "        'VT': 'Northeast',\n",
    "        'WA': 'West',\n",
    "        'WI': 'Midwest',\n",
    "        'WV': 'South',\n",
    "        'WY': 'West'\n",
    "}"
   ]
  },
  {
   "cell_type": "code",
   "execution_count": 17,
   "id": "ab2e6913",
   "metadata": {
    "ExecuteTime": {
     "end_time": "2021-08-02T15:30:38.169949Z",
     "start_time": "2021-08-02T15:30:38.159596Z"
    }
   },
   "outputs": [],
   "source": [
    "df['region']= df['state'].replace(states)"
   ]
  },
  {
   "cell_type": "code",
   "execution_count": 18,
   "id": "168844da",
   "metadata": {
    "ExecuteTime": {
     "end_time": "2021-08-02T15:30:38.194358Z",
     "start_time": "2021-08-02T15:30:38.172002Z"
    }
   },
   "outputs": [
    {
     "data": {
      "text/html": [
       "<div>\n",
       "<style scoped>\n",
       "    .dataframe tbody tr th:only-of-type {\n",
       "        vertical-align: middle;\n",
       "    }\n",
       "\n",
       "    .dataframe tbody tr th {\n",
       "        vertical-align: top;\n",
       "    }\n",
       "\n",
       "    .dataframe thead th {\n",
       "        text-align: right;\n",
       "    }\n",
       "</style>\n",
       "<table border=\"1\" class=\"dataframe\">\n",
       "  <thead>\n",
       "    <tr style=\"text-align: right;\">\n",
       "      <th></th>\n",
       "      <th>state</th>\n",
       "      <th>account_length</th>\n",
       "      <th>area_code</th>\n",
       "      <th>phone_number</th>\n",
       "      <th>international_plan</th>\n",
       "      <th>voice_mail_plan</th>\n",
       "      <th>number_vmail_messages</th>\n",
       "      <th>total_day_minutes</th>\n",
       "      <th>total_day_calls</th>\n",
       "      <th>total_day_charge</th>\n",
       "      <th>...</th>\n",
       "      <th>total_min</th>\n",
       "      <th>total_calls_dom</th>\n",
       "      <th>total_calls</th>\n",
       "      <th>total_charge_dom</th>\n",
       "      <th>total_charge</th>\n",
       "      <th>call_satisfaction</th>\n",
       "      <th>charge_per_min_dom</th>\n",
       "      <th>charge_per_min_intl</th>\n",
       "      <th>%_int_min</th>\n",
       "      <th>region</th>\n",
       "    </tr>\n",
       "  </thead>\n",
       "  <tbody>\n",
       "    <tr>\n",
       "      <th>0</th>\n",
       "      <td>KS</td>\n",
       "      <td>128</td>\n",
       "      <td>415</td>\n",
       "      <td>382-4657</td>\n",
       "      <td>no</td>\n",
       "      <td>yes</td>\n",
       "      <td>25</td>\n",
       "      <td>265.1</td>\n",
       "      <td>110</td>\n",
       "      <td>45.07</td>\n",
       "      <td>...</td>\n",
       "      <td>717.2</td>\n",
       "      <td>300</td>\n",
       "      <td>303</td>\n",
       "      <td>137.79</td>\n",
       "      <td>140.49</td>\n",
       "      <td>0.003300</td>\n",
       "      <td>0.459300</td>\n",
       "      <td>0.900000</td>\n",
       "      <td>0.013943</td>\n",
       "      <td>Midwest</td>\n",
       "    </tr>\n",
       "    <tr>\n",
       "      <th>1</th>\n",
       "      <td>OH</td>\n",
       "      <td>107</td>\n",
       "      <td>415</td>\n",
       "      <td>371-7191</td>\n",
       "      <td>no</td>\n",
       "      <td>yes</td>\n",
       "      <td>26</td>\n",
       "      <td>161.6</td>\n",
       "      <td>123</td>\n",
       "      <td>27.47</td>\n",
       "      <td>...</td>\n",
       "      <td>625.2</td>\n",
       "      <td>329</td>\n",
       "      <td>332</td>\n",
       "      <td>151.07</td>\n",
       "      <td>154.77</td>\n",
       "      <td>0.003012</td>\n",
       "      <td>0.459179</td>\n",
       "      <td>1.233333</td>\n",
       "      <td>0.021913</td>\n",
       "      <td>Midwest</td>\n",
       "    </tr>\n",
       "    <tr>\n",
       "      <th>2</th>\n",
       "      <td>NJ</td>\n",
       "      <td>137</td>\n",
       "      <td>415</td>\n",
       "      <td>358-1921</td>\n",
       "      <td>no</td>\n",
       "      <td>no</td>\n",
       "      <td>0</td>\n",
       "      <td>243.4</td>\n",
       "      <td>114</td>\n",
       "      <td>41.38</td>\n",
       "      <td>...</td>\n",
       "      <td>539.4</td>\n",
       "      <td>328</td>\n",
       "      <td>333</td>\n",
       "      <td>131.62</td>\n",
       "      <td>134.91</td>\n",
       "      <td>0.000000</td>\n",
       "      <td>0.401280</td>\n",
       "      <td>0.658000</td>\n",
       "      <td>0.022618</td>\n",
       "      <td>Northeast</td>\n",
       "    </tr>\n",
       "    <tr>\n",
       "      <th>3</th>\n",
       "      <td>OH</td>\n",
       "      <td>84</td>\n",
       "      <td>408</td>\n",
       "      <td>375-9999</td>\n",
       "      <td>yes</td>\n",
       "      <td>no</td>\n",
       "      <td>0</td>\n",
       "      <td>299.4</td>\n",
       "      <td>71</td>\n",
       "      <td>50.90</td>\n",
       "      <td>...</td>\n",
       "      <td>564.8</td>\n",
       "      <td>248</td>\n",
       "      <td>255</td>\n",
       "      <td>85.12</td>\n",
       "      <td>86.90</td>\n",
       "      <td>0.007843</td>\n",
       "      <td>0.343226</td>\n",
       "      <td>0.254286</td>\n",
       "      <td>0.011686</td>\n",
       "      <td>Midwest</td>\n",
       "    </tr>\n",
       "    <tr>\n",
       "      <th>4</th>\n",
       "      <td>OK</td>\n",
       "      <td>75</td>\n",
       "      <td>415</td>\n",
       "      <td>330-6626</td>\n",
       "      <td>yes</td>\n",
       "      <td>no</td>\n",
       "      <td>0</td>\n",
       "      <td>166.7</td>\n",
       "      <td>113</td>\n",
       "      <td>28.34</td>\n",
       "      <td>...</td>\n",
       "      <td>512.0</td>\n",
       "      <td>356</td>\n",
       "      <td>359</td>\n",
       "      <td>134.02</td>\n",
       "      <td>136.75</td>\n",
       "      <td>0.008357</td>\n",
       "      <td>0.376461</td>\n",
       "      <td>0.910000</td>\n",
       "      <td>0.019727</td>\n",
       "      <td>South</td>\n",
       "    </tr>\n",
       "    <tr>\n",
       "      <th>...</th>\n",
       "      <td>...</td>\n",
       "      <td>...</td>\n",
       "      <td>...</td>\n",
       "      <td>...</td>\n",
       "      <td>...</td>\n",
       "      <td>...</td>\n",
       "      <td>...</td>\n",
       "      <td>...</td>\n",
       "      <td>...</td>\n",
       "      <td>...</td>\n",
       "      <td>...</td>\n",
       "      <td>...</td>\n",
       "      <td>...</td>\n",
       "      <td>...</td>\n",
       "      <td>...</td>\n",
       "      <td>...</td>\n",
       "      <td>...</td>\n",
       "      <td>...</td>\n",
       "      <td>...</td>\n",
       "      <td>...</td>\n",
       "      <td>...</td>\n",
       "    </tr>\n",
       "    <tr>\n",
       "      <th>3328</th>\n",
       "      <td>AZ</td>\n",
       "      <td>192</td>\n",
       "      <td>415</td>\n",
       "      <td>414-4276</td>\n",
       "      <td>no</td>\n",
       "      <td>yes</td>\n",
       "      <td>36</td>\n",
       "      <td>156.2</td>\n",
       "      <td>77</td>\n",
       "      <td>26.55</td>\n",
       "      <td>...</td>\n",
       "      <td>660.7</td>\n",
       "      <td>286</td>\n",
       "      <td>292</td>\n",
       "      <td>107.88</td>\n",
       "      <td>110.55</td>\n",
       "      <td>0.006849</td>\n",
       "      <td>0.377203</td>\n",
       "      <td>0.445000</td>\n",
       "      <td>0.014984</td>\n",
       "      <td>West</td>\n",
       "    </tr>\n",
       "    <tr>\n",
       "      <th>3329</th>\n",
       "      <td>WV</td>\n",
       "      <td>68</td>\n",
       "      <td>415</td>\n",
       "      <td>370-3271</td>\n",
       "      <td>no</td>\n",
       "      <td>no</td>\n",
       "      <td>0</td>\n",
       "      <td>231.1</td>\n",
       "      <td>57</td>\n",
       "      <td>39.29</td>\n",
       "      <td>...</td>\n",
       "      <td>585.4</td>\n",
       "      <td>235</td>\n",
       "      <td>239</td>\n",
       "      <td>78.65</td>\n",
       "      <td>81.24</td>\n",
       "      <td>0.012552</td>\n",
       "      <td>0.334681</td>\n",
       "      <td>0.647500</td>\n",
       "      <td>0.016399</td>\n",
       "      <td>South</td>\n",
       "    </tr>\n",
       "    <tr>\n",
       "      <th>3330</th>\n",
       "      <td>RI</td>\n",
       "      <td>28</td>\n",
       "      <td>510</td>\n",
       "      <td>328-8230</td>\n",
       "      <td>no</td>\n",
       "      <td>no</td>\n",
       "      <td>0</td>\n",
       "      <td>180.8</td>\n",
       "      <td>109</td>\n",
       "      <td>30.74</td>\n",
       "      <td>...</td>\n",
       "      <td>675.6</td>\n",
       "      <td>258</td>\n",
       "      <td>264</td>\n",
       "      <td>142.19</td>\n",
       "      <td>146.00</td>\n",
       "      <td>0.007576</td>\n",
       "      <td>0.551124</td>\n",
       "      <td>0.635000</td>\n",
       "      <td>0.020870</td>\n",
       "      <td>Northeast</td>\n",
       "    </tr>\n",
       "    <tr>\n",
       "      <th>3331</th>\n",
       "      <td>CT</td>\n",
       "      <td>184</td>\n",
       "      <td>510</td>\n",
       "      <td>364-6381</td>\n",
       "      <td>yes</td>\n",
       "      <td>no</td>\n",
       "      <td>0</td>\n",
       "      <td>213.8</td>\n",
       "      <td>105</td>\n",
       "      <td>36.35</td>\n",
       "      <td>...</td>\n",
       "      <td>517.6</td>\n",
       "      <td>326</td>\n",
       "      <td>336</td>\n",
       "      <td>124.83</td>\n",
       "      <td>126.18</td>\n",
       "      <td>0.005952</td>\n",
       "      <td>0.382914</td>\n",
       "      <td>0.135000</td>\n",
       "      <td>0.009660</td>\n",
       "      <td>Northeast</td>\n",
       "    </tr>\n",
       "    <tr>\n",
       "      <th>3332</th>\n",
       "      <td>TN</td>\n",
       "      <td>74</td>\n",
       "      <td>415</td>\n",
       "      <td>400-4344</td>\n",
       "      <td>no</td>\n",
       "      <td>yes</td>\n",
       "      <td>25</td>\n",
       "      <td>234.4</td>\n",
       "      <td>113</td>\n",
       "      <td>39.85</td>\n",
       "      <td>...</td>\n",
       "      <td>755.4</td>\n",
       "      <td>272</td>\n",
       "      <td>276</td>\n",
       "      <td>146.46</td>\n",
       "      <td>150.16</td>\n",
       "      <td>0.000000</td>\n",
       "      <td>0.538456</td>\n",
       "      <td>0.925000</td>\n",
       "      <td>0.018136</td>\n",
       "      <td>South</td>\n",
       "    </tr>\n",
       "  </tbody>\n",
       "</table>\n",
       "<p>3333 rows × 31 columns</p>\n",
       "</div>"
      ],
      "text/plain": [
       "     state  account_length  area_code phone_number international_plan  \\\n",
       "0       KS             128        415     382-4657                 no   \n",
       "1       OH             107        415     371-7191                 no   \n",
       "2       NJ             137        415     358-1921                 no   \n",
       "3       OH              84        408     375-9999                yes   \n",
       "4       OK              75        415     330-6626                yes   \n",
       "...    ...             ...        ...          ...                ...   \n",
       "3328    AZ             192        415     414-4276                 no   \n",
       "3329    WV              68        415     370-3271                 no   \n",
       "3330    RI              28        510     328-8230                 no   \n",
       "3331    CT             184        510     364-6381                yes   \n",
       "3332    TN              74        415     400-4344                 no   \n",
       "\n",
       "     voice_mail_plan  number_vmail_messages  total_day_minutes  \\\n",
       "0                yes                     25              265.1   \n",
       "1                yes                     26              161.6   \n",
       "2                 no                      0              243.4   \n",
       "3                 no                      0              299.4   \n",
       "4                 no                      0              166.7   \n",
       "...              ...                    ...                ...   \n",
       "3328             yes                     36              156.2   \n",
       "3329              no                      0              231.1   \n",
       "3330              no                      0              180.8   \n",
       "3331              no                      0              213.8   \n",
       "3332             yes                     25              234.4   \n",
       "\n",
       "      total_day_calls  total_day_charge  ...  total_min  total_calls_dom  \\\n",
       "0                 110             45.07  ...      717.2              300   \n",
       "1                 123             27.47  ...      625.2              329   \n",
       "2                 114             41.38  ...      539.4              328   \n",
       "3                  71             50.90  ...      564.8              248   \n",
       "4                 113             28.34  ...      512.0              356   \n",
       "...               ...               ...  ...        ...              ...   \n",
       "3328               77             26.55  ...      660.7              286   \n",
       "3329               57             39.29  ...      585.4              235   \n",
       "3330              109             30.74  ...      675.6              258   \n",
       "3331              105             36.35  ...      517.6              326   \n",
       "3332              113             39.85  ...      755.4              272   \n",
       "\n",
       "      total_calls  total_charge_dom  total_charge  call_satisfaction  \\\n",
       "0             303            137.79        140.49           0.003300   \n",
       "1             332            151.07        154.77           0.003012   \n",
       "2             333            131.62        134.91           0.000000   \n",
       "3             255             85.12         86.90           0.007843   \n",
       "4             359            134.02        136.75           0.008357   \n",
       "...           ...               ...           ...                ...   \n",
       "3328          292            107.88        110.55           0.006849   \n",
       "3329          239             78.65         81.24           0.012552   \n",
       "3330          264            142.19        146.00           0.007576   \n",
       "3331          336            124.83        126.18           0.005952   \n",
       "3332          276            146.46        150.16           0.000000   \n",
       "\n",
       "      charge_per_min_dom  charge_per_min_intl  %_int_min     region  \n",
       "0               0.459300             0.900000   0.013943    Midwest  \n",
       "1               0.459179             1.233333   0.021913    Midwest  \n",
       "2               0.401280             0.658000   0.022618  Northeast  \n",
       "3               0.343226             0.254286   0.011686    Midwest  \n",
       "4               0.376461             0.910000   0.019727      South  \n",
       "...                  ...                  ...        ...        ...  \n",
       "3328            0.377203             0.445000   0.014984       West  \n",
       "3329            0.334681             0.647500   0.016399      South  \n",
       "3330            0.551124             0.635000   0.020870  Northeast  \n",
       "3331            0.382914             0.135000   0.009660  Northeast  \n",
       "3332            0.538456             0.925000   0.018136      South  \n",
       "\n",
       "[3333 rows x 31 columns]"
      ]
     },
     "execution_count": 18,
     "metadata": {},
     "output_type": "execute_result"
    }
   ],
   "source": [
    "df"
   ]
  },
  {
   "cell_type": "code",
   "execution_count": 19,
   "id": "912706dd",
   "metadata": {
    "ExecuteTime": {
     "end_time": "2021-08-02T15:30:38.202993Z",
     "start_time": "2021-08-02T15:30:38.195466Z"
    }
   },
   "outputs": [
    {
     "name": "stdout",
     "output_type": "stream",
     "text": [
      "<class 'pandas.core.frame.DataFrame'>\n",
      "RangeIndex: 3333 entries, 0 to 3332\n",
      "Data columns (total 31 columns):\n",
      " #   Column                  Non-Null Count  Dtype  \n",
      "---  ------                  --------------  -----  \n",
      " 0   state                   3333 non-null   object \n",
      " 1   account_length          3333 non-null   int64  \n",
      " 2   area_code               3333 non-null   int64  \n",
      " 3   phone_number            3333 non-null   object \n",
      " 4   international_plan      3333 non-null   object \n",
      " 5   voice_mail_plan         3333 non-null   object \n",
      " 6   number_vmail_messages   3333 non-null   int64  \n",
      " 7   total_day_minutes       3333 non-null   float64\n",
      " 8   total_day_calls         3333 non-null   int64  \n",
      " 9   total_day_charge        3333 non-null   float64\n",
      " 10  total_eve_minutes       3333 non-null   float64\n",
      " 11  total_eve_calls         3333 non-null   int64  \n",
      " 12  total_eve_charge        3333 non-null   float64\n",
      " 13  total_night_minutes     3333 non-null   float64\n",
      " 14  total_night_calls       3333 non-null   int64  \n",
      " 15  total_night_charge      3333 non-null   float64\n",
      " 16  total_intl_minutes      3333 non-null   float64\n",
      " 17  total_intl_calls        3333 non-null   int64  \n",
      " 18  total_intl_charge       3333 non-null   float64\n",
      " 19  customer_service_calls  3333 non-null   int64  \n",
      " 20  churn                   3333 non-null   int64  \n",
      " 21  total_min               3333 non-null   float64\n",
      " 22  total_calls_dom         3333 non-null   int64  \n",
      " 23  total_calls             3333 non-null   int64  \n",
      " 24  total_charge_dom        3333 non-null   float64\n",
      " 25  total_charge            3333 non-null   float64\n",
      " 26  call_satisfaction       3333 non-null   float64\n",
      " 27  charge_per_min_dom      3333 non-null   float64\n",
      " 28  charge_per_min_intl     3315 non-null   float64\n",
      " 29  %_int_min               3333 non-null   float64\n",
      " 30  region                  3333 non-null   object \n",
      "dtypes: float64(15), int64(11), object(5)\n",
      "memory usage: 807.3+ KB\n"
     ]
    }
   ],
   "source": [
    "df.info()"
   ]
  },
  {
   "cell_type": "code",
   "execution_count": 119,
   "id": "a6002a0f",
   "metadata": {
    "ExecuteTime": {
     "end_time": "2021-08-02T18:14:17.712115Z",
     "start_time": "2021-08-02T18:14:17.691717Z"
    }
   },
   "outputs": [],
   "source": [
    "# seperating the continous and categorical variables into two data frames for data exploration\n",
    "\n",
    "df_cont = df.select_dtypes(include=['number'])\n",
    "df_cont= df_cont.drop(\"churn\", 1)\n",
    "df_cat = df.select_dtypes(exclude=['number'])"
   ]
  },
  {
   "cell_type": "code",
   "execution_count": 120,
   "id": "f5be3993",
   "metadata": {
    "ExecuteTime": {
     "end_time": "2021-08-02T18:14:18.983844Z",
     "start_time": "2021-08-02T18:14:18.964613Z"
    }
   },
   "outputs": [
    {
     "data": {
      "text/html": [
       "<div>\n",
       "<style scoped>\n",
       "    .dataframe tbody tr th:only-of-type {\n",
       "        vertical-align: middle;\n",
       "    }\n",
       "\n",
       "    .dataframe tbody tr th {\n",
       "        vertical-align: top;\n",
       "    }\n",
       "\n",
       "    .dataframe thead th {\n",
       "        text-align: right;\n",
       "    }\n",
       "</style>\n",
       "<table border=\"1\" class=\"dataframe\">\n",
       "  <thead>\n",
       "    <tr style=\"text-align: right;\">\n",
       "      <th></th>\n",
       "      <th>state</th>\n",
       "      <th>phone_number</th>\n",
       "      <th>international_plan</th>\n",
       "      <th>voice_mail_plan</th>\n",
       "      <th>region</th>\n",
       "    </tr>\n",
       "  </thead>\n",
       "  <tbody>\n",
       "    <tr>\n",
       "      <th>0</th>\n",
       "      <td>KS</td>\n",
       "      <td>382-4657</td>\n",
       "      <td>no</td>\n",
       "      <td>yes</td>\n",
       "      <td>Midwest</td>\n",
       "    </tr>\n",
       "    <tr>\n",
       "      <th>1</th>\n",
       "      <td>OH</td>\n",
       "      <td>371-7191</td>\n",
       "      <td>no</td>\n",
       "      <td>yes</td>\n",
       "      <td>Midwest</td>\n",
       "    </tr>\n",
       "    <tr>\n",
       "      <th>2</th>\n",
       "      <td>NJ</td>\n",
       "      <td>358-1921</td>\n",
       "      <td>no</td>\n",
       "      <td>no</td>\n",
       "      <td>Northeast</td>\n",
       "    </tr>\n",
       "    <tr>\n",
       "      <th>3</th>\n",
       "      <td>OH</td>\n",
       "      <td>375-9999</td>\n",
       "      <td>yes</td>\n",
       "      <td>no</td>\n",
       "      <td>Midwest</td>\n",
       "    </tr>\n",
       "    <tr>\n",
       "      <th>4</th>\n",
       "      <td>OK</td>\n",
       "      <td>330-6626</td>\n",
       "      <td>yes</td>\n",
       "      <td>no</td>\n",
       "      <td>South</td>\n",
       "    </tr>\n",
       "    <tr>\n",
       "      <th>...</th>\n",
       "      <td>...</td>\n",
       "      <td>...</td>\n",
       "      <td>...</td>\n",
       "      <td>...</td>\n",
       "      <td>...</td>\n",
       "    </tr>\n",
       "    <tr>\n",
       "      <th>3328</th>\n",
       "      <td>AZ</td>\n",
       "      <td>414-4276</td>\n",
       "      <td>no</td>\n",
       "      <td>yes</td>\n",
       "      <td>West</td>\n",
       "    </tr>\n",
       "    <tr>\n",
       "      <th>3329</th>\n",
       "      <td>WV</td>\n",
       "      <td>370-3271</td>\n",
       "      <td>no</td>\n",
       "      <td>no</td>\n",
       "      <td>South</td>\n",
       "    </tr>\n",
       "    <tr>\n",
       "      <th>3330</th>\n",
       "      <td>RI</td>\n",
       "      <td>328-8230</td>\n",
       "      <td>no</td>\n",
       "      <td>no</td>\n",
       "      <td>Northeast</td>\n",
       "    </tr>\n",
       "    <tr>\n",
       "      <th>3331</th>\n",
       "      <td>CT</td>\n",
       "      <td>364-6381</td>\n",
       "      <td>yes</td>\n",
       "      <td>no</td>\n",
       "      <td>Northeast</td>\n",
       "    </tr>\n",
       "    <tr>\n",
       "      <th>3332</th>\n",
       "      <td>TN</td>\n",
       "      <td>400-4344</td>\n",
       "      <td>no</td>\n",
       "      <td>yes</td>\n",
       "      <td>South</td>\n",
       "    </tr>\n",
       "  </tbody>\n",
       "</table>\n",
       "<p>3333 rows × 5 columns</p>\n",
       "</div>"
      ],
      "text/plain": [
       "     state phone_number international_plan voice_mail_plan     region\n",
       "0       KS     382-4657                 no             yes    Midwest\n",
       "1       OH     371-7191                 no             yes    Midwest\n",
       "2       NJ     358-1921                 no              no  Northeast\n",
       "3       OH     375-9999                yes              no    Midwest\n",
       "4       OK     330-6626                yes              no      South\n",
       "...    ...          ...                ...             ...        ...\n",
       "3328    AZ     414-4276                 no             yes       West\n",
       "3329    WV     370-3271                 no              no      South\n",
       "3330    RI     328-8230                 no              no  Northeast\n",
       "3331    CT     364-6381                yes              no  Northeast\n",
       "3332    TN     400-4344                 no             yes      South\n",
       "\n",
       "[3333 rows x 5 columns]"
      ]
     },
     "execution_count": 120,
     "metadata": {},
     "output_type": "execute_result"
    }
   ],
   "source": [
    "df_cat"
   ]
  },
  {
   "cell_type": "code",
   "execution_count": 121,
   "id": "9f2ef3fd",
   "metadata": {
    "ExecuteTime": {
     "end_time": "2021-08-02T18:14:19.319265Z",
     "start_time": "2021-08-02T18:14:19.297459Z"
    }
   },
   "outputs": [
    {
     "name": "stdout",
     "output_type": "stream",
     "text": [
      "<class 'pandas.core.frame.DataFrame'>\n",
      "RangeIndex: 3333 entries, 0 to 3332\n",
      "Data columns (total 5 columns):\n",
      " #   Column              Non-Null Count  Dtype \n",
      "---  ------              --------------  ----- \n",
      " 0   state               3333 non-null   object\n",
      " 1   phone_number        3333 non-null   object\n",
      " 2   international_plan  3333 non-null   object\n",
      " 3   voice_mail_plan     3333 non-null   object\n",
      " 4   region              3333 non-null   object\n",
      "dtypes: object(5)\n",
      "memory usage: 130.3+ KB\n"
     ]
    },
    {
     "name": "stderr",
     "output_type": "stream",
     "text": [
      "/Users/tbai/opt/anaconda3/envs/learn-env/lib/python3.8/site-packages/pandas/core/frame.py:4163: SettingWithCopyWarning:\n",
      "\n",
      "\n",
      "A value is trying to be set on a copy of a slice from a DataFrame\n",
      "\n",
      "See the caveats in the documentation: https://pandas.pydata.org/pandas-docs/stable/user_guide/indexing.html#returning-a-view-versus-a-copy\n",
      "\n"
     ]
    }
   ],
   "source": [
    "df_cat.info()\n",
    "df_cat.drop(['phone_number', 'state'], 1, inplace= True)"
   ]
  },
  {
   "cell_type": "code",
   "execution_count": 122,
   "id": "4d91b0b5",
   "metadata": {
    "ExecuteTime": {
     "end_time": "2021-08-02T18:14:19.724022Z",
     "start_time": "2021-08-02T18:14:19.472913Z"
    }
   },
   "outputs": [
    {
     "data": {
      "image/png": "[encoded data removed]",
      "text/plain": [
       "<Figure size 1080x720 with 4 Axes>"
      ]
     },
     "metadata": {
      "needs_background": "light"
     },
     "output_type": "display_data"
    }
   ],
   "source": [
    "fig, ax = plt.subplots(2, 2, figsize=(15, 10))\n",
    "for variable, subplot in zip(df_cat.columns, ax.flatten()):\n",
    "    sns.countplot(x =df_cat[variable], ax=subplot )"
   ]
  },
  {
   "cell_type": "markdown",
   "id": "dec307c6",
   "metadata": {},
   "source": [
    "Seems that not many people have international plans.\n",
    "region seems "
   ]
  },
  {
   "cell_type": "code",
   "execution_count": 123,
   "id": "609e7106",
   "metadata": {
    "ExecuteTime": {
     "end_time": "2021-08-02T18:14:20.205403Z",
     "start_time": "2021-08-02T18:14:19.754955Z"
    }
   },
   "outputs": [
    {
     "data": {
      "image/png": "[encoded data removed]",
      "text/plain": [
       "<Figure size 1440x720 with 1 Axes>"
      ]
     },
     "metadata": {
      "needs_background": "light"
     },
     "output_type": "display_data"
    }
   ],
   "source": [
    "fig, ax = plt.subplots(figsize=(20, 10))\n",
    "state_plot = sns.countplot(x = df['state']);\n",
    "plt.xlabel(\"States\",size = 25)\n",
    "plt.ylabel(\"Count\", size = 25)\n",
    "plt.xticks(size = 13, rotation = 30);\n",
    "plt.yticks(size = 13, rotation = 30);"
   ]
  },
  {
   "cell_type": "code",
   "execution_count": 124,
   "id": "452b4aab",
   "metadata": {
    "ExecuteTime": {
     "end_time": "2021-08-02T18:14:20.214445Z",
     "start_time": "2021-08-02T18:14:20.206563Z"
    }
   },
   "outputs": [],
   "source": [
    "state_count1=df[['state','churn']]\n",
    "state_churn=state_count1[state_count1['churn']== 1].groupby('state',as_index = False).count()\n",
    "\n",
    "state_count2=df[['state','churn']].groupby('state',as_index = False).count()\n",
    "state_count2.rename(columns={\"churn\":\"total_cust\"},inplace=True)\n",
    "\n",
    "state_churn['total_cust']=state_count2['total_cust']\n",
    "state_churn['%churn']=(state_churn['churn']/state_count2['total_cust'])*100"
   ]
  },
  {
   "cell_type": "code",
   "execution_count": 125,
   "id": "fdf724a3",
   "metadata": {
    "ExecuteTime": {
     "end_time": "2021-08-02T18:14:20.225617Z",
     "start_time": "2021-08-02T18:14:20.215777Z"
    }
   },
   "outputs": [
    {
     "data": {
      "application/vnd.plotly.v1+json": {
       "config": {
        "plotlyServerURL": "https://plot.ly"
       },
       "data": [
        {
         "colorbar": {
          "title": {
           "text": "churn percentage %"
          }
         },
         "colorscale": [
          [
           0,
           "rgb(247,252,240)"
          ],
          [
           0.125,
           "rgb(224,243,219)"
          ],
          [
           0.25,
           "rgb(204,235,197)"
          ],
          [
           0.375,
           "rgb(168,221,181)"
          ],
          [
           0.5,
           "rgb(123,204,196)"
          ],
          [
           0.625,
           "rgb(78,179,211)"
          ],
          [
           0.75,
           "rgb(43,140,190)"
          ],
          [
           0.875,
           "rgb(8,104,172)"
          ],
          [
           1,
           "rgb(8,64,129)"
          ]
         ],
         "locationmode": "USA-states",
         "locations": [
          "AK",
          "AL",
          "AR",
          "AZ",
          "CA",
          "CO",
          "CT",
          "DC",
          "DE",
          "FL",
          "GA",
          "HI",
          "IA",
          "ID",
          "IL",
          "IN",
          "KS",
          "KY",
          "LA",
          "MA",
          "MD",
          "ME",
          "MI",
          "MN",
          "MO",
          "MS",
          "MT",
          "NC",
          "ND",
          "NE",
          "NH",
          "NJ",
          "NM",
          "NV",
          "NY",
          "OH",
          "OK",
          "OR",
          "PA",
          "RI",
          "SC",
          "SD",
          "TN",
          "TX",
          "UT",
          "VA",
          "VT",
          "WA",
          "WI",
          "WV",
          "WY"
         ],
         "type": "choropleth",
         "z": [
          5.769230769230769,
          10,
          20,
          6.25,
          26.47058823529412,
          13.636363636363635,
          16.216216216216218,
          9.25925925925926,
          14.754098360655737,
          12.698412698412698,
          14.814814814814813,
          5.660377358490567,
          6.8181818181818175,
          12.32876712328767,
          8.620689655172415,
          12.676056338028168,
          18.571428571428573,
          13.559322033898304,
          7.8431372549019605,
          16.923076923076923,
          24.285714285714285,
          20.967741935483872,
          21.91780821917808,
          17.857142857142858,
          11.11111111111111,
          21.53846153846154,
          20.588235294117645,
          16.176470588235293,
          9.67741935483871,
          8.19672131147541,
          16.071428571428573,
          26.47058823529412,
          9.67741935483871,
          21.21212121212121,
          18.072289156626507,
          12.82051282051282,
          14.754098360655737,
          14.102564102564102,
          17.77777777777778,
          9.230769230769232,
          23.333333333333332,
          13.333333333333334,
          9.433962264150944,
          25,
          13.88888888888889,
          6.493506493506493,
          10.95890410958904,
          21.21212121212121,
          8.974358974358974,
          9.433962264150944,
          11.688311688311687
         ]
        }
       ],
       "layout": {
        "geo": {
         "scope": "usa"
        },
        "template": {
         "data": {
          "bar": [
           {
            "error_x": {
             "color": "#2a3f5f"
            },
            "error_y": {
             "color": "#2a3f5f"
            },
            "marker": {
             "line": {
              "color": "#E5ECF6",
              "width": 0.5
             }
            },
            "type": "bar"
           }
          ],
          "barpolar": [
           {
            "marker": {
             "line": {
              "color": "#E5ECF6",
              "width": 0.5
             }
            },
            "type": "barpolar"
           }
          ],
          "carpet": [
           {
            "aaxis": {
             "endlinecolor": "#2a3f5f",
             "gridcolor": "white",
             "linecolor": "white",
             "minorgridcolor": "white",
             "startlinecolor": "#2a3f5f"
            },
            "baxis": {
             "endlinecolor": "#2a3f5f",
             "gridcolor": "white",
             "linecolor": "white",
             "minorgridcolor": "white",
             "startlinecolor": "#2a3f5f"
            },
            "type": "carpet"
           }
          ],
          "choropleth": [
           {
            "colorbar": {
             "outlinewidth": 0,
             "ticks": ""
            },
            "type": "choropleth"
           }
          ],
          "contour": [
           {
            "colorbar": {
             "outlinewidth": 0,
             "ticks": ""
            },
            "colorscale": [
             [
              0,
              "#0d0887"
             ],
             [
              0.1111111111111111,
              "#46039f"
             ],
             [
              0.2222222222222222,
              "#7201a8"
             ],
             [
              0.3333333333333333,
              "#9c179e"
             ],
             [
              0.4444444444444444,
              "#bd3786"
             ],
             [
              0.5555555555555556,
              "#d8576b"
             ],
             [
              0.6666666666666666,
              "#ed7953"
             ],
             [
              0.7777777777777778,
              "#fb9f3a"
             ],
             [
              0.8888888888888888,
              "#fdca26"
             ],
             [
              1,
              "#f0f921"
             ]
            ],
            "type": "contour"
           }
          ],
          "contourcarpet": [
           {
            "colorbar": {
             "outlinewidth": 0,
             "ticks": ""
            },
            "type": "contourcarpet"
           }
          ],
          "heatmap": [
           {
            "colorbar": {
             "outlinewidth": 0,
             "ticks": ""
            },
            "colorscale": [
             [
              0,
              "#0d0887"
             ],
             [
              0.1111111111111111,
              "#46039f"
             ],
             [
              0.2222222222222222,
              "#7201a8"
             ],
             [
              0.3333333333333333,
              "#9c179e"
             ],
             [
              0.4444444444444444,
              "#bd3786"
             ],
             [
              0.5555555555555556,
              "#d8576b"
             ],
             [
              0.6666666666666666,
              "#ed7953"
             ],
             [
              0.7777777777777778,
              "#fb9f3a"
             ],
             [
              0.8888888888888888,
              "#fdca26"
             ],
             [
              1,
              "#f0f921"
             ]
            ],
            "type": "heatmap"
           }
          ],
          "heatmapgl": [
           {
            "colorbar": {
             "outlinewidth": 0,
             "ticks": ""
            },
            "colorscale": [
             [
              0,
              "#0d0887"
             ],
             [
              0.1111111111111111,
              "#46039f"
             ],
             [
              0.2222222222222222,
              "#7201a8"
             ],
             [
              0.3333333333333333,
              "#9c179e"
             ],
             [
              0.4444444444444444,
              "#bd3786"
             ],
             [
              0.5555555555555556,
              "#d8576b"
             ],
             [
              0.6666666666666666,
              "#ed7953"
             ],
             [
              0.7777777777777778,
              "#fb9f3a"
             ],
             [
              0.8888888888888888,
              "#fdca26"
             ],
             [
              1,
              "#f0f921"
             ]
            ],
            "type": "heatmapgl"
           }
          ],
          "histogram": [
           {
            "marker": {
             "colorbar": {
              "outlinewidth": 0,
              "ticks": ""
             }
            },
            "type": "histogram"
           }
          ],
          "histogram2d": [
           {
            "colorbar": {
             "outlinewidth": 0,
             "ticks": ""
            },
            "colorscale": [
             [
              0,
              "#0d0887"
             ],
             [
              0.1111111111111111,
              "#46039f"
             ],
             [
              0.2222222222222222,
              "#7201a8"
             ],
             [
              0.3333333333333333,
              "#9c179e"
             ],
             [
              0.4444444444444444,
              "#bd3786"
             ],
             [
              0.5555555555555556,
              "#d8576b"
             ],
             [
              0.6666666666666666,
              "#ed7953"
             ],
             [
              0.7777777777777778,
              "#fb9f3a"
             ],
             [
              0.8888888888888888,
              "#fdca26"
             ],
             [
              1,
              "#f0f921"
             ]
            ],
            "type": "histogram2d"
           }
          ],
          "histogram2dcontour": [
           {
            "colorbar": {
             "outlinewidth": 0,
             "ticks": ""
            },
            "colorscale": [
             [
              0,
              "#0d0887"
             ],
             [
              0.1111111111111111,
              "#46039f"
             ],
             [
              0.2222222222222222,
              "#7201a8"
             ],
             [
              0.3333333333333333,
              "#9c179e"
             ],
             [
              0.4444444444444444,
              "#bd3786"
             ],
             [
              0.5555555555555556,
              "#d8576b"
             ],
             [
              0.6666666666666666,
              "#ed7953"
             ],
             [
              0.7777777777777778,
              "#fb9f3a"
             ],
             [
              0.8888888888888888,
              "#fdca26"
             ],
             [
              1,
              "#f0f921"
             ]
            ],
            "type": "histogram2dcontour"
           }
          ],
          "mesh3d": [
           {
            "colorbar": {
             "outlinewidth": 0,
             "ticks": ""
            },
            "type": "mesh3d"
           }
          ],
          "parcoords": [
           {
            "line": {
             "colorbar": {
              "outlinewidth": 0,
              "ticks": ""
             }
            },
            "type": "parcoords"
           }
          ],
          "pie": [
           {
            "automargin": true,
            "type": "pie"
           }
          ],
          "scatter": [
           {
            "marker": {
             "colorbar": {
              "outlinewidth": 0,
              "ticks": ""
             }
            },
            "type": "scatter"
           }
          ],
          "scatter3d": [
           {
            "line": {
             "colorbar": {
              "outlinewidth": 0,
              "ticks": ""
             }
            },
            "marker": {
             "colorbar": {
              "outlinewidth": 0,
              "ticks": ""
             }
            },
            "type": "scatter3d"
           }
          ],
          "scattercarpet": [
           {
            "marker": {
             "colorbar": {
              "outlinewidth": 0,
              "ticks": ""
             }
            },
            "type": "scattercarpet"
           }
          ],
          "scattergeo": [
           {
            "marker": {
             "colorbar": {
              "outlinewidth": 0,
              "ticks": ""
             }
            },
            "type": "scattergeo"
           }
          ],
          "scattergl": [
           {
            "marker": {
             "colorbar": {
              "outlinewidth": 0,
              "ticks": ""
             }
            },
            "type": "scattergl"
           }
          ],
          "scattermapbox": [
           {
            "marker": {
             "colorbar": {
              "outlinewidth": 0,
              "ticks": ""
             }
            },
            "type": "scattermapbox"
           }
          ],
          "scatterpolar": [
           {
            "marker": {
             "colorbar": {
              "outlinewidth": 0,
              "ticks": ""
             }
            },
            "type": "scatterpolar"
           }
          ],
          "scatterpolargl": [
           {
            "marker": {
             "colorbar": {
              "outlinewidth": 0,
              "ticks": ""
             }
            },
            "type": "scatterpolargl"
           }
          ],
          "scatterternary": [
           {
            "marker": {
             "colorbar": {
              "outlinewidth": 0,
              "ticks": ""
             }
            },
            "type": "scatterternary"
           }
          ],
          "surface": [
           {
            "colorbar": {
             "outlinewidth": 0,
             "ticks": ""
            },
            "colorscale": [
             [
              0,
              "#0d0887"
             ],
             [
              0.1111111111111111,
              "#46039f"
             ],
             [
              0.2222222222222222,
              "#7201a8"
             ],
             [
              0.3333333333333333,
              "#9c179e"
             ],
             [
              0.4444444444444444,
              "#bd3786"
             ],
             [
              0.5555555555555556,
              "#d8576b"
             ],
             [
              0.6666666666666666,
              "#ed7953"
             ],
             [
              0.7777777777777778,
              "#fb9f3a"
             ],
             [
              0.8888888888888888,
              "#fdca26"
             ],
             [
              1,
              "#f0f921"
             ]
            ],
            "type": "surface"
           }
          ],
          "table": [
           {
            "cells": {
             "fill": {
              "color": "#EBF0F8"
             },
             "line": {
              "color": "white"
             }
            },
            "header": {
             "fill": {
              "color": "#C8D4E3"
             },
             "line": {
              "color": "white"
             }
            },
            "type": "table"
           }
          ]
         },
         "layout": {
          "annotationdefaults": {
           "arrowcolor": "#2a3f5f",
           "arrowhead": 0,
           "arrowwidth": 1
          },
          "coloraxis": {
           "colorbar": {
            "outlinewidth": 0,
            "ticks": ""
           }
          },
          "colorscale": {
           "diverging": [
            [
             0,
             "#8e0152"
            ],
            [
             0.1,
             "#c51b7d"
            ],
            [
             0.2,
             "#de77ae"
            ],
            [
             0.3,
             "#f1b6da"
            ],
            [
             0.4,
             "#fde0ef"
            ],
            [
             0.5,
             "#f7f7f7"
            ],
            [
             0.6,
             "#e6f5d0"
            ],
            [
             0.7,
             "#b8e186"
            ],
            [
             0.8,
             "#7fbc41"
            ],
            [
             0.9,
             "#4d9221"
            ],
            [
             1,
             "#276419"
            ]
           ],
           "sequential": [
            [
             0,
             "#0d0887"
            ],
            [
             0.1111111111111111,
             "#46039f"
            ],
            [
             0.2222222222222222,
             "#7201a8"
            ],
            [
             0.3333333333333333,
             "#9c179e"
            ],
            [
             0.4444444444444444,
             "#bd3786"
            ],
            [
             0.5555555555555556,
             "#d8576b"
            ],
            [
             0.6666666666666666,
             "#ed7953"
            ],
            [
             0.7777777777777778,
             "#fb9f3a"
            ],
            [
             0.8888888888888888,
             "#fdca26"
            ],
            [
             1,
             "#f0f921"
            ]
           ],
           "sequentialminus": [
            [
             0,
             "#0d0887"
            ],
            [
             0.1111111111111111,
             "#46039f"
            ],
            [
             0.2222222222222222,
             "#7201a8"
            ],
            [
             0.3333333333333333,
             "#9c179e"
            ],
            [
             0.4444444444444444,
             "#bd3786"
            ],
            [
             0.5555555555555556,
             "#d8576b"
            ],
            [
             0.6666666666666666,
             "#ed7953"
            ],
            [
             0.7777777777777778,
             "#fb9f3a"
            ],
            [
             0.8888888888888888,
             "#fdca26"
            ],
            [
             1,
             "#f0f921"
            ]
           ]
          },
          "colorway": [
           "#636efa",
           "#EF553B",
           "#00cc96",
           "#ab63fa",
           "#FFA15A",
           "#19d3f3",
           "#FF6692",
           "#B6E880",
           "#FF97FF",
           "#FECB52"
          ],
          "font": {
           "color": "#2a3f5f"
          },
          "geo": {
           "bgcolor": "white",
           "lakecolor": "white",
           "landcolor": "#E5ECF6",
           "showlakes": true,
           "showland": true,
           "subunitcolor": "white"
          },
          "hoverlabel": {
           "align": "left"
          },
          "hovermode": "closest",
          "mapbox": {
           "style": "light"
          },
          "paper_bgcolor": "white",
          "plot_bgcolor": "#E5ECF6",
          "polar": {
           "angularaxis": {
            "gridcolor": "white",
            "linecolor": "white",
            "ticks": ""
           },
           "bgcolor": "#E5ECF6",
           "radialaxis": {
            "gridcolor": "white",
            "linecolor": "white",
            "ticks": ""
           }
          },
          "scene": {
           "xaxis": {
            "backgroundcolor": "#E5ECF6",
            "gridcolor": "white",
            "gridwidth": 2,
            "linecolor": "white",
            "showbackground": true,
            "ticks": "",
            "zerolinecolor": "white"
           },
           "yaxis": {
            "backgroundcolor": "#E5ECF6",
            "gridcolor": "white",
            "gridwidth": 2,
            "linecolor": "white",
            "showbackground": true,
            "ticks": "",
            "zerolinecolor": "white"
           },
           "zaxis": {
            "backgroundcolor": "#E5ECF6",
            "gridcolor": "white",
            "gridwidth": 2,
            "linecolor": "white",
            "showbackground": true,
            "ticks": "",
            "zerolinecolor": "white"
           }
          },
          "shapedefaults": {
           "line": {
            "color": "#2a3f5f"
           }
          },
          "ternary": {
           "aaxis": {
            "gridcolor": "white",
            "linecolor": "white",
            "ticks": ""
           },
           "baxis": {
            "gridcolor": "white",
            "linecolor": "white",
            "ticks": ""
           },
           "bgcolor": "#E5ECF6",
           "caxis": {
            "gridcolor": "white",
            "linecolor": "white",
            "ticks": ""
           }
          },
          "title": {
           "x": 0.05
          },
          "xaxis": {
           "automargin": true,
           "gridcolor": "white",
           "linecolor": "white",
           "ticks": "",
           "title": {
            "standoff": 15
           },
           "zerolinecolor": "white",
           "zerolinewidth": 2
          },
          "yaxis": {
           "automargin": true,
           "gridcolor": "white",
           "linecolor": "white",
           "ticks": "",
           "title": {
            "standoff": 15
           },
           "zerolinecolor": "white",
           "zerolinewidth": 2
          }
         }
        },
        "title": {
         "text": "Customer churns by State"
        }
       }
      },
      "text/html": [
       "<div>                            <div id=\"2595f568-e9de-4547-a21d-6553b980924a\" class=\"plotly-graph-div\" style=\"height:525px; width:100%;\"></div>            <script type=\"text/javascript\">                require([\"plotly\"], function(Plotly) {                    window.PLOTLYENV=window.PLOTLYENV || {};                                    if (document.getElementById(\"2595f568-e9de-4547-a21d-6553b980924a\")) {                    Plotly.newPlot(                        \"2595f568-e9de-4547-a21d-6553b980924a\",                        [{\"colorbar\": {\"title\": {\"text\": \"churn percentage %\"}}, \"colorscale\": [[0.0, \"rgb(247,252,240)\"], [0.125, \"rgb(224,243,219)\"], [0.25, \"rgb(204,235,197)\"], [0.375, \"rgb(168,221,181)\"], [0.5, \"rgb(123,204,196)\"], [0.625, \"rgb(78,179,211)\"], [0.75, \"rgb(43,140,190)\"], [0.875, \"rgb(8,104,172)\"], [1.0, \"rgb(8,64,129)\"]], \"locationmode\": \"USA-states\", \"locations\": [\"AK\", \"AL\", \"AR\", \"AZ\", \"CA\", \"CO\", \"CT\", \"DC\", \"DE\", \"FL\", \"GA\", \"HI\", \"IA\", \"ID\", \"IL\", \"IN\", \"KS\", \"KY\", \"LA\", \"MA\", \"MD\", \"ME\", \"MI\", \"MN\", \"MO\", \"MS\", \"MT\", \"NC\", \"ND\", \"NE\", \"NH\", \"NJ\", \"NM\", \"NV\", \"NY\", \"OH\", \"OK\", \"OR\", \"PA\", \"RI\", \"SC\", \"SD\", \"TN\", \"TX\", \"UT\", \"VA\", \"VT\", \"WA\", \"WI\", \"WV\", \"WY\"], \"type\": \"choropleth\", \"z\": [5.769230769230769, 10.0, 20.0, 6.25, 26.47058823529412, 13.636363636363635, 16.216216216216218, 9.25925925925926, 14.754098360655737, 12.698412698412698, 14.814814814814813, 5.660377358490567, 6.8181818181818175, 12.32876712328767, 8.620689655172415, 12.676056338028168, 18.571428571428573, 13.559322033898304, 7.8431372549019605, 16.923076923076923, 24.285714285714285, 20.967741935483872, 21.91780821917808, 17.857142857142858, 11.11111111111111, 21.53846153846154, 20.588235294117645, 16.176470588235293, 9.67741935483871, 8.19672131147541, 16.071428571428573, 26.47058823529412, 9.67741935483871, 21.21212121212121, 18.072289156626507, 12.82051282051282, 14.754098360655737, 14.102564102564102, 17.77777777777778, 9.230769230769232, 23.333333333333332, 13.333333333333334, 9.433962264150944, 25.0, 13.88888888888889, 6.493506493506493, 10.95890410958904, 21.21212121212121, 8.974358974358974, 9.433962264150944, 11.688311688311687]}],                        {\"geo\": {\"scope\": \"usa\"}, \"template\": {\"data\": {\"bar\": [{\"error_x\": {\"color\": \"#2a3f5f\"}, \"error_y\": {\"color\": \"#2a3f5f\"}, \"marker\": {\"line\": {\"color\": \"#E5ECF6\", \"width\": 0.5}}, \"type\": \"bar\"}], \"barpolar\": [{\"marker\": {\"line\": {\"color\": \"#E5ECF6\", \"width\": 0.5}}, \"type\": \"barpolar\"}], \"carpet\": [{\"aaxis\": {\"endlinecolor\": \"#2a3f5f\", \"gridcolor\": \"white\", \"linecolor\": \"white\", \"minorgridcolor\": \"white\", \"startlinecolor\": \"#2a3f5f\"}, \"baxis\": {\"endlinecolor\": \"#2a3f5f\", \"gridcolor\": \"white\", \"linecolor\": \"white\", \"minorgridcolor\": \"white\", \"startlinecolor\": \"#2a3f5f\"}, \"type\": \"carpet\"}], \"choropleth\": [{\"colorbar\": {\"outlinewidth\": 0, \"ticks\": \"\"}, \"type\": \"choropleth\"}], \"contour\": [{\"colorbar\": {\"outlinewidth\": 0, \"ticks\": \"\"}, \"colorscale\": [[0.0, \"#0d0887\"], [0.1111111111111111, \"#46039f\"], [0.2222222222222222, \"#7201a8\"], [0.3333333333333333, \"#9c179e\"], [0.4444444444444444, \"#bd3786\"], [0.5555555555555556, \"#d8576b\"], [0.6666666666666666, \"#ed7953\"], [0.7777777777777778, \"#fb9f3a\"], [0.8888888888888888, \"#fdca26\"], [1.0, \"#f0f921\"]], \"type\": \"contour\"}], \"contourcarpet\": [{\"colorbar\": {\"outlinewidth\": 0, \"ticks\": \"\"}, \"type\": \"contourcarpet\"}], \"heatmap\": [{\"colorbar\": {\"outlinewidth\": 0, \"ticks\": \"\"}, \"colorscale\": [[0.0, \"#0d0887\"], [0.1111111111111111, \"#46039f\"], [0.2222222222222222, \"#7201a8\"], [0.3333333333333333, \"#9c179e\"], [0.4444444444444444, \"#bd3786\"], [0.5555555555555556, \"#d8576b\"], [0.6666666666666666, \"#ed7953\"], [0.7777777777777778, \"#fb9f3a\"], [0.8888888888888888, \"#fdca26\"], [1.0, \"#f0f921\"]], \"type\": \"heatmap\"}], \"heatmapgl\": [{\"colorbar\": {\"outlinewidth\": 0, \"ticks\": \"\"}, \"colorscale\": [[0.0, \"#0d0887\"], [0.1111111111111111, \"#46039f\"], [0.2222222222222222, \"#7201a8\"], [0.3333333333333333, \"#9c179e\"], [0.4444444444444444, \"#bd3786\"], [0.5555555555555556, \"#d8576b\"], [0.6666666666666666, \"#ed7953\"], [0.7777777777777778, \"#fb9f3a\"], [0.8888888888888888, \"#fdca26\"], [1.0, \"#f0f921\"]], \"type\": \"heatmapgl\"}], \"histogram\": [{\"marker\": {\"colorbar\": {\"outlinewidth\": 0, \"ticks\": \"\"}}, \"type\": \"histogram\"}], \"histogram2d\": [{\"colorbar\": {\"outlinewidth\": 0, \"ticks\": \"\"}, \"colorscale\": [[0.0, \"#0d0887\"], [0.1111111111111111, \"#46039f\"], [0.2222222222222222, \"#7201a8\"], [0.3333333333333333, \"#9c179e\"], [0.4444444444444444, \"#bd3786\"], [0.5555555555555556, \"#d8576b\"], [0.6666666666666666, \"#ed7953\"], [0.7777777777777778, \"#fb9f3a\"], [0.8888888888888888, \"#fdca26\"], [1.0, \"#f0f921\"]], \"type\": \"histogram2d\"}], \"histogram2dcontour\": [{\"colorbar\": {\"outlinewidth\": 0, \"ticks\": \"\"}, \"colorscale\": [[0.0, \"#0d0887\"], [0.1111111111111111, \"#46039f\"], [0.2222222222222222, \"#7201a8\"], [0.3333333333333333, \"#9c179e\"], [0.4444444444444444, \"#bd3786\"], [0.5555555555555556, \"#d8576b\"], [0.6666666666666666, \"#ed7953\"], [0.7777777777777778, \"#fb9f3a\"], [0.8888888888888888, \"#fdca26\"], [1.0, \"#f0f921\"]], \"type\": \"histogram2dcontour\"}], \"mesh3d\": [{\"colorbar\": {\"outlinewidth\": 0, \"ticks\": \"\"}, \"type\": \"mesh3d\"}], \"parcoords\": [{\"line\": {\"colorbar\": {\"outlinewidth\": 0, \"ticks\": \"\"}}, \"type\": \"parcoords\"}], \"pie\": [{\"automargin\": true, \"type\": \"pie\"}], \"scatter\": [{\"marker\": {\"colorbar\": {\"outlinewidth\": 0, \"ticks\": \"\"}}, \"type\": \"scatter\"}], \"scatter3d\": [{\"line\": {\"colorbar\": {\"outlinewidth\": 0, \"ticks\": \"\"}}, \"marker\": {\"colorbar\": {\"outlinewidth\": 0, \"ticks\": \"\"}}, \"type\": \"scatter3d\"}], \"scattercarpet\": [{\"marker\": {\"colorbar\": {\"outlinewidth\": 0, \"ticks\": \"\"}}, \"type\": \"scattercarpet\"}], \"scattergeo\": [{\"marker\": {\"colorbar\": {\"outlinewidth\": 0, \"ticks\": \"\"}}, \"type\": \"scattergeo\"}], \"scattergl\": [{\"marker\": {\"colorbar\": {\"outlinewidth\": 0, \"ticks\": \"\"}}, \"type\": \"scattergl\"}], \"scattermapbox\": [{\"marker\": {\"colorbar\": {\"outlinewidth\": 0, \"ticks\": \"\"}}, \"type\": \"scattermapbox\"}], \"scatterpolar\": [{\"marker\": {\"colorbar\": {\"outlinewidth\": 0, \"ticks\": \"\"}}, \"type\": \"scatterpolar\"}], \"scatterpolargl\": [{\"marker\": {\"colorbar\": {\"outlinewidth\": 0, \"ticks\": \"\"}}, \"type\": \"scatterpolargl\"}], \"scatterternary\": [{\"marker\": {\"colorbar\": {\"outlinewidth\": 0, \"ticks\": \"\"}}, \"type\": \"scatterternary\"}], \"surface\": [{\"colorbar\": {\"outlinewidth\": 0, \"ticks\": \"\"}, \"colorscale\": [[0.0, \"#0d0887\"], [0.1111111111111111, \"#46039f\"], [0.2222222222222222, \"#7201a8\"], [0.3333333333333333, \"#9c179e\"], [0.4444444444444444, \"#bd3786\"], [0.5555555555555556, \"#d8576b\"], [0.6666666666666666, \"#ed7953\"], [0.7777777777777778, \"#fb9f3a\"], [0.8888888888888888, \"#fdca26\"], [1.0, \"#f0f921\"]], \"type\": \"surface\"}], \"table\": [{\"cells\": {\"fill\": {\"color\": \"#EBF0F8\"}, \"line\": {\"color\": \"white\"}}, \"header\": {\"fill\": {\"color\": \"#C8D4E3\"}, \"line\": {\"color\": \"white\"}}, \"type\": \"table\"}]}, \"layout\": {\"annotationdefaults\": {\"arrowcolor\": \"#2a3f5f\", \"arrowhead\": 0, \"arrowwidth\": 1}, \"coloraxis\": {\"colorbar\": {\"outlinewidth\": 0, \"ticks\": \"\"}}, \"colorscale\": {\"diverging\": [[0, \"#8e0152\"], [0.1, \"#c51b7d\"], [0.2, \"#de77ae\"], [0.3, \"#f1b6da\"], [0.4, \"#fde0ef\"], [0.5, \"#f7f7f7\"], [0.6, \"#e6f5d0\"], [0.7, \"#b8e186\"], [0.8, \"#7fbc41\"], [0.9, \"#4d9221\"], [1, \"#276419\"]], \"sequential\": [[0.0, \"#0d0887\"], [0.1111111111111111, \"#46039f\"], [0.2222222222222222, \"#7201a8\"], [0.3333333333333333, \"#9c179e\"], [0.4444444444444444, \"#bd3786\"], [0.5555555555555556, \"#d8576b\"], [0.6666666666666666, \"#ed7953\"], [0.7777777777777778, \"#fb9f3a\"], [0.8888888888888888, \"#fdca26\"], [1.0, \"#f0f921\"]], \"sequentialminus\": [[0.0, \"#0d0887\"], [0.1111111111111111, \"#46039f\"], [0.2222222222222222, \"#7201a8\"], [0.3333333333333333, \"#9c179e\"], [0.4444444444444444, \"#bd3786\"], [0.5555555555555556, \"#d8576b\"], [0.6666666666666666, \"#ed7953\"], [0.7777777777777778, \"#fb9f3a\"], [0.8888888888888888, \"#fdca26\"], [1.0, \"#f0f921\"]]}, \"colorway\": [\"#636efa\", \"#EF553B\", \"#00cc96\", \"#ab63fa\", \"#FFA15A\", \"#19d3f3\", \"#FF6692\", \"#B6E880\", \"#FF97FF\", \"#FECB52\"], \"font\": {\"color\": \"#2a3f5f\"}, \"geo\": {\"bgcolor\": \"white\", \"lakecolor\": \"white\", \"landcolor\": \"#E5ECF6\", \"showlakes\": true, \"showland\": true, \"subunitcolor\": \"white\"}, \"hoverlabel\": {\"align\": \"left\"}, \"hovermode\": \"closest\", \"mapbox\": {\"style\": \"light\"}, \"paper_bgcolor\": \"white\", \"plot_bgcolor\": \"#E5ECF6\", \"polar\": {\"angularaxis\": {\"gridcolor\": \"white\", \"linecolor\": \"white\", \"ticks\": \"\"}, \"bgcolor\": \"#E5ECF6\", \"radialaxis\": {\"gridcolor\": \"white\", \"linecolor\": \"white\", \"ticks\": \"\"}}, \"scene\": {\"xaxis\": {\"backgroundcolor\": \"#E5ECF6\", \"gridcolor\": \"white\", \"gridwidth\": 2, \"linecolor\": \"white\", \"showbackground\": true, \"ticks\": \"\", \"zerolinecolor\": \"white\"}, \"yaxis\": {\"backgroundcolor\": \"#E5ECF6\", \"gridcolor\": \"white\", \"gridwidth\": 2, \"linecolor\": \"white\", \"showbackground\": true, \"ticks\": \"\", \"zerolinecolor\": \"white\"}, \"zaxis\": {\"backgroundcolor\": \"#E5ECF6\", \"gridcolor\": \"white\", \"gridwidth\": 2, \"linecolor\": \"white\", \"showbackground\": true, \"ticks\": \"\", \"zerolinecolor\": \"white\"}}, \"shapedefaults\": {\"line\": {\"color\": \"#2a3f5f\"}}, \"ternary\": {\"aaxis\": {\"gridcolor\": \"white\", \"linecolor\": \"white\", \"ticks\": \"\"}, \"baxis\": {\"gridcolor\": \"white\", \"linecolor\": \"white\", \"ticks\": \"\"}, \"bgcolor\": \"#E5ECF6\", \"caxis\": {\"gridcolor\": \"white\", \"linecolor\": \"white\", \"ticks\": \"\"}}, \"title\": {\"x\": 0.05}, \"xaxis\": {\"automargin\": true, \"gridcolor\": \"white\", \"linecolor\": \"white\", \"ticks\": \"\", \"title\": {\"standoff\": 15}, \"zerolinecolor\": \"white\", \"zerolinewidth\": 2}, \"yaxis\": {\"automargin\": true, \"gridcolor\": \"white\", \"linecolor\": \"white\", \"ticks\": \"\", \"title\": {\"standoff\": 15}, \"zerolinecolor\": \"white\", \"zerolinewidth\": 2}}}, \"title\": {\"text\": \"Customer churns by State\"}},                        {\"responsive\": true}                    ).then(function(){\n",
       "                            \n",
       "var gd = document.getElementById('2595f568-e9de-4547-a21d-6553b980924a');\n",
       "var x = new MutationObserver(function (mutations, observer) {{\n",
       "        var display = window.getComputedStyle(gd).display;\n",
       "        if (!display || display === 'none') {{\n",
       "            console.log([gd, 'removed!']);\n",
       "            Plotly.purge(gd);\n",
       "            observer.disconnect();\n",
       "        }}\n",
       "}});\n",
       "\n",
       "// Listen for the removal of the full notebook cells\n",
       "var notebookContainer = gd.closest('#notebook-container');\n",
       "if (notebookContainer) {{\n",
       "    x.observe(notebookContainer, {childList: true});\n",
       "}}\n",
       "\n",
       "// Listen for the clearing of the current output cell\n",
       "var outputEl = gd.closest('.output');\n",
       "if (outputEl) {{\n",
       "    x.observe(outputEl, {childList: true});\n",
       "}}\n",
       "\n",
       "                        })                };                });            </script>        </div>"
      ]
     },
     "metadata": {},
     "output_type": "display_data"
    }
   ],
   "source": [
    "fig = go.Figure(data=go.Choropleth(\n",
    "    locations=state_churn['state'], # Spatial coordinates\n",
    "    z = state_churn['%churn'].astype(float), # Data to be color-coded\n",
    "    locationmode = 'USA-states', # set of locations match entries in `locations`\n",
    "    colorscale = 'GnBu',\n",
    "    colorbar_title = \"churn percentage %\",\n",
    "))\n",
    "\n",
    "fig.update_layout(\n",
    "    title_text = 'Customer churns by State',\n",
    "    geo_scope='usa', # limit map scope to US\n",
    ")\n",
    "\n",
    "fig.show()"
   ]
  },
  {
   "cell_type": "markdown",
   "id": "a87b9429",
   "metadata": {},
   "source": [
    "# Churn By State:\n",
    " * worst states are Texas, New Jersey and California"
   ]
  },
  {
   "cell_type": "code",
   "execution_count": 126,
   "id": "cc0bd439",
   "metadata": {
    "ExecuteTime": {
     "end_time": "2021-08-02T18:14:20.409831Z",
     "start_time": "2021-08-02T18:14:20.403521Z"
    }
   },
   "outputs": [
    {
     "data": {
      "text/plain": [
       "Index(['state', 'account_length', 'area_code', 'phone_number',\n",
       "       'international_plan', 'voice_mail_plan', 'number_vmail_messages',\n",
       "       'total_day_minutes', 'total_day_calls', 'total_day_charge',\n",
       "       'total_eve_minutes', 'total_eve_calls', 'total_eve_charge',\n",
       "       'total_night_minutes', 'total_night_calls', 'total_night_charge',\n",
       "       'total_intl_minutes', 'total_intl_calls', 'total_intl_charge',\n",
       "       'customer_service_calls', 'churn', 'total_min', 'total_calls_dom',\n",
       "       'total_calls', 'total_charge_dom', 'total_charge', 'call_satisfaction',\n",
       "       'charge_per_min_dom', 'charge_per_min_intl', '%_int_min', 'region'],\n",
       "      dtype='object')"
      ]
     },
     "execution_count": 126,
     "metadata": {},
     "output_type": "execute_result"
    }
   ],
   "source": [
    "df.columns"
   ]
  },
  {
   "cell_type": "code",
   "execution_count": 127,
   "id": "9ee9b283",
   "metadata": {
    "ExecuteTime": {
     "end_time": "2021-08-02T18:14:20.631218Z",
     "start_time": "2021-08-02T18:14:20.614702Z"
    },
    "scrolled": true
   },
   "outputs": [
    {
     "data": {
      "text/plain": [
       "state                     0\n",
       "account_length            0\n",
       "area_code                 0\n",
       "phone_number              0\n",
       "international_plan        0\n",
       "voice_mail_plan           0\n",
       "number_vmail_messages     0\n",
       "total_day_minutes         0\n",
       "total_day_calls           0\n",
       "total_day_charge          0\n",
       "total_eve_minutes         0\n",
       "total_eve_calls           0\n",
       "total_eve_charge          0\n",
       "total_night_minutes       0\n",
       "total_night_calls         0\n",
       "total_night_charge        0\n",
       "total_intl_minutes        0\n",
       "total_intl_calls          0\n",
       "total_intl_charge         0\n",
       "customer_service_calls    0\n",
       "churn                     0\n",
       "total_min                 0\n",
       "total_calls_dom           0\n",
       "total_calls               0\n",
       "total_charge_dom          0\n",
       "total_charge              0\n",
       "call_satisfaction         0\n",
       "charge_per_min_dom        0\n",
       "charge_per_min_intl       0\n",
       "%_int_min                 0\n",
       "region                    0\n",
       "dtype: int64"
      ]
     },
     "execution_count": 127,
     "metadata": {},
     "output_type": "execute_result"
    }
   ],
   "source": [
    "df.isnull().sum()"
   ]
  },
  {
   "cell_type": "code",
   "execution_count": 128,
   "id": "b38b6785",
   "metadata": {
    "ExecuteTime": {
     "end_time": "2021-08-02T18:14:20.832586Z",
     "start_time": "2021-08-02T18:14:20.824233Z"
    }
   },
   "outputs": [],
   "source": [
    "# filled the charge per_min_intl since some values were divided by 0\n",
    "df.fillna(0, inplace= True)"
   ]
  },
  {
   "cell_type": "code",
   "execution_count": 129,
   "id": "c7ec9d46",
   "metadata": {
    "ExecuteTime": {
     "end_time": "2021-08-02T18:14:21.198250Z",
     "start_time": "2021-08-02T18:14:21.183605Z"
    },
    "scrolled": true
   },
   "outputs": [
    {
     "data": {
      "text/plain": [
       "state                     0\n",
       "account_length            0\n",
       "area_code                 0\n",
       "phone_number              0\n",
       "international_plan        0\n",
       "voice_mail_plan           0\n",
       "number_vmail_messages     0\n",
       "total_day_minutes         0\n",
       "total_day_calls           0\n",
       "total_day_charge          0\n",
       "total_eve_minutes         0\n",
       "total_eve_calls           0\n",
       "total_eve_charge          0\n",
       "total_night_minutes       0\n",
       "total_night_calls         0\n",
       "total_night_charge        0\n",
       "total_intl_minutes        0\n",
       "total_intl_calls          0\n",
       "total_intl_charge         0\n",
       "customer_service_calls    0\n",
       "churn                     0\n",
       "total_min                 0\n",
       "total_calls_dom           0\n",
       "total_calls               0\n",
       "total_charge_dom          0\n",
       "total_charge              0\n",
       "call_satisfaction         0\n",
       "charge_per_min_dom        0\n",
       "charge_per_min_intl       0\n",
       "%_int_min                 0\n",
       "region                    0\n",
       "dtype: int64"
      ]
     },
     "execution_count": 129,
     "metadata": {},
     "output_type": "execute_result"
    }
   ],
   "source": [
    "df.isnull().sum()"
   ]
  },
  {
   "cell_type": "code",
   "execution_count": null,
   "id": "e156bc36",
   "metadata": {},
   "outputs": [],
   "source": []
  },
  {
   "cell_type": "code",
   "execution_count": 159,
   "id": "9c6162d4",
   "metadata": {
    "ExecuteTime": {
     "end_time": "2021-08-02T18:31:45.669554Z",
     "start_time": "2021-08-02T18:31:45.652461Z"
    }
   },
   "outputs": [],
   "source": [
    "y= df['churn']\n",
    "X= df.drop(['churn', 'state', 'phone_number'], axis=1)\n",
    "X_train, X_test, y_train, y_test = train_test_split(X, y, test_size = .3 ,random_state=42)"
   ]
  },
  {
   "cell_type": "markdown",
   "id": "68a00ce5",
   "metadata": {},
   "source": [
    "## Pipeline"
   ]
  },
  {
   "cell_type": "code",
   "execution_count": 160,
   "id": "09e465fa",
   "metadata": {
    "ExecuteTime": {
     "end_time": "2021-08-02T18:31:46.323782Z",
     "start_time": "2021-08-02T18:31:46.321209Z"
    }
   },
   "outputs": [],
   "source": [
    "# X_num = df_cont.columns\n",
    "# X_cat= df_cat.columns"
   ]
  },
  {
   "cell_type": "code",
   "execution_count": 161,
   "id": "71a513c1",
   "metadata": {
    "ExecuteTime": {
     "end_time": "2021-08-02T18:31:46.731445Z",
     "start_time": "2021-08-02T18:31:46.727832Z"
    }
   },
   "outputs": [],
   "source": [
    "# numTrans = Pipeline(steps=[\n",
    "#     ('scaler', StandardScaler())\n",
    "# ])\n",
    "# catTrans = Pipeline(steps=[\n",
    "#     ('ohe', OneHotEncoder(drop='first',\n",
    "#                           sparse=False))\n",
    "# ])\n",
    "\n",
    "# pp = ColumnTransformer(transformers=[\n",
    "#     ('num', numTrans, X_num),\n",
    "#     ('cat', catTrans, X_cat)\n",
    "# ])"
   ]
  },
  {
   "cell_type": "code",
   "execution_count": 162,
   "id": "3ae1f3f0",
   "metadata": {
    "ExecuteTime": {
     "end_time": "2021-08-02T18:31:47.080795Z",
     "start_time": "2021-08-02T18:31:47.076647Z"
    }
   },
   "outputs": [],
   "source": [
    "# X_test_clean = pp.fit_transform(X_test)"
   ]
  },
  {
   "cell_type": "code",
   "execution_count": 163,
   "id": "3d52862c",
   "metadata": {
    "ExecuteTime": {
     "end_time": "2021-08-02T18:31:47.523847Z",
     "start_time": "2021-08-02T18:31:47.519858Z"
    }
   },
   "outputs": [],
   "source": [
    "# X_test_clean=pd.DataFrame(X_test_clean)"
   ]
  },
  {
   "cell_type": "code",
   "execution_count": 164,
   "id": "530f3f6b",
   "metadata": {
    "ExecuteTime": {
     "end_time": "2021-08-02T18:31:47.941558Z",
     "start_time": "2021-08-02T18:31:47.918380Z"
    }
   },
   "outputs": [],
   "source": [
    "# transforming the categorical variables \n",
    "X_train_cat = X_train.select_dtypes(exclude=['number'])\n",
    "\n",
    "ohe = OneHotEncoder(\n",
    "    drop='first',\n",
    "    sparse=False)\n",
    "\n",
    "dums = ohe.fit_transform(X_train_cat)\n",
    "dums_df = pd.DataFrame(dums,\n",
    "                       columns=ohe.get_feature_names(),\n",
    "                       index=X_train_cat.index)"
   ]
  },
  {
   "cell_type": "code",
   "execution_count": 165,
   "id": "7f80c537",
   "metadata": {
    "ExecuteTime": {
     "end_time": "2021-08-02T18:31:48.209732Z",
     "start_time": "2021-08-02T18:31:48.192751Z"
    }
   },
   "outputs": [],
   "source": [
    "#scaling the continous variables\n",
    "X_train_nums = X_train.select_dtypes('float64')\n",
    "\n",
    "ss = StandardScaler()\n",
    "\n",
    "ss.fit(X_train_nums)\n",
    "nums_df = pd.DataFrame(ss.transform(X_train_nums),\n",
    "                      index=X_train_nums.index)\n",
    "\n",
    "\n",
    "nums_df.columns= X_train_nums.columns"
   ]
  },
  {
   "cell_type": "code",
   "execution_count": 179,
   "id": "b5564ee1",
   "metadata": {
    "ExecuteTime": {
     "end_time": "2021-08-02T18:34:24.358997Z",
     "start_time": "2021-08-02T18:34:24.334891Z"
    }
   },
   "outputs": [],
   "source": [
    "X_test_cat = X_test.select_dtypes(exclude=['number'])\n",
    "\n",
    "ohe = OneHotEncoder(\n",
    "    drop='first',\n",
    "    sparse=False)\n",
    "\n",
    "dums_2 = ohe.fit_transform(X_test_cat)\n",
    "dums_df2 = pd.DataFrame(dums_2,\n",
    "                       columns=ohe.get_feature_names(),\n",
    "                       index=X_test_cat.index)\n",
    "\n",
    "X_test_nums = X_test.select_dtypes('float64')\n",
    "\n",
    "ss = StandardScaler()\n",
    "\n",
    "ss.fit(X_test_nums)\n",
    "nums_df2 = pd.DataFrame(ss.transform(X_test_nums),\n",
    "                      index=X_test_nums.index)\n",
    "\n",
    "\n",
    "nums_df2.columns= X_train_nums.columns"
   ]
  },
  {
   "cell_type": "code",
   "execution_count": 180,
   "id": "3969dee7",
   "metadata": {
    "ExecuteTime": {
     "end_time": "2021-08-02T18:34:25.255459Z",
     "start_time": "2021-08-02T18:34:25.249360Z"
    }
   },
   "outputs": [],
   "source": [
    "X_train_clean = pd.concat([dums_df, nums_df],1)\n",
    "X_test_clean = pd.concat([dums_df2, nums_df2],1)"
   ]
  },
  {
   "cell_type": "code",
   "execution_count": 181,
   "id": "f413ef67",
   "metadata": {
    "ExecuteTime": {
     "end_time": "2021-08-02T18:34:26.182282Z",
     "start_time": "2021-08-02T18:34:26.148399Z"
    }
   },
   "outputs": [
    {
     "data": {
      "text/html": [
       "<div>\n",
       "<style scoped>\n",
       "    .dataframe tbody tr th:only-of-type {\n",
       "        vertical-align: middle;\n",
       "    }\n",
       "\n",
       "    .dataframe tbody tr th {\n",
       "        vertical-align: top;\n",
       "    }\n",
       "\n",
       "    .dataframe thead th {\n",
       "        text-align: right;\n",
       "    }\n",
       "</style>\n",
       "<table border=\"1\" class=\"dataframe\">\n",
       "  <thead>\n",
       "    <tr style=\"text-align: right;\">\n",
       "      <th></th>\n",
       "      <th>x0_yes</th>\n",
       "      <th>x1_yes</th>\n",
       "      <th>x2_Northeast</th>\n",
       "      <th>x2_South</th>\n",
       "      <th>x2_West</th>\n",
       "      <th>total_day_minutes</th>\n",
       "      <th>total_day_charge</th>\n",
       "      <th>total_eve_minutes</th>\n",
       "      <th>total_eve_charge</th>\n",
       "      <th>total_night_minutes</th>\n",
       "      <th>total_night_charge</th>\n",
       "      <th>total_intl_minutes</th>\n",
       "      <th>total_intl_charge</th>\n",
       "      <th>total_min</th>\n",
       "      <th>total_charge_dom</th>\n",
       "      <th>total_charge</th>\n",
       "      <th>call_satisfaction</th>\n",
       "      <th>charge_per_min_dom</th>\n",
       "      <th>charge_per_min_intl</th>\n",
       "      <th>%_int_min</th>\n",
       "    </tr>\n",
       "  </thead>\n",
       "  <tbody>\n",
       "    <tr>\n",
       "      <th>2016</th>\n",
       "      <td>0.0</td>\n",
       "      <td>0.0</td>\n",
       "      <td>1.0</td>\n",
       "      <td>0.0</td>\n",
       "      <td>0.0</td>\n",
       "      <td>0.410716</td>\n",
       "      <td>0.410877</td>\n",
       "      <td>1.167102</td>\n",
       "      <td>1.167733</td>\n",
       "      <td>-0.456961</td>\n",
       "      <td>-0.458282</td>\n",
       "      <td>-0.373682</td>\n",
       "      <td>-0.379643</td>\n",
       "      <td>0.640622</td>\n",
       "      <td>1.044943</td>\n",
       "      <td>1.030191</td>\n",
       "      <td>1.044815</td>\n",
       "      <td>1.264866</td>\n",
       "      <td>-0.567143</td>\n",
       "      <td>-0.627093</td>\n",
       "    </tr>\n",
       "    <tr>\n",
       "      <th>1362</th>\n",
       "      <td>0.0</td>\n",
       "      <td>0.0</td>\n",
       "      <td>0.0</td>\n",
       "      <td>1.0</td>\n",
       "      <td>0.0</td>\n",
       "      <td>-0.864713</td>\n",
       "      <td>-0.865095</td>\n",
       "      <td>-2.639021</td>\n",
       "      <td>-2.637901</td>\n",
       "      <td>-0.790790</td>\n",
       "      <td>-0.789925</td>\n",
       "      <td>-0.122835</td>\n",
       "      <td>-0.127479</td>\n",
       "      <td>-2.478104</td>\n",
       "      <td>0.400332</td>\n",
       "      <td>0.395342</td>\n",
       "      <td>1.008973</td>\n",
       "      <td>0.324584</td>\n",
       "      <td>0.815131</td>\n",
       "      <td>1.585515</td>\n",
       "    </tr>\n",
       "    <tr>\n",
       "      <th>2670</th>\n",
       "      <td>0.0</td>\n",
       "      <td>1.0</td>\n",
       "      <td>0.0</td>\n",
       "      <td>0.0</td>\n",
       "      <td>1.0</td>\n",
       "      <td>0.752053</td>\n",
       "      <td>0.752000</td>\n",
       "      <td>-0.984185</td>\n",
       "      <td>-0.983076</td>\n",
       "      <td>-0.425542</td>\n",
       "      <td>-0.423373</td>\n",
       "      <td>-0.445353</td>\n",
       "      <td>-0.446002</td>\n",
       "      <td>-0.356476</td>\n",
       "      <td>0.105904</td>\n",
       "      <td>0.089402</td>\n",
       "      <td>0.264224</td>\n",
       "      <td>-0.028174</td>\n",
       "      <td>-0.717068</td>\n",
       "      <td>-0.292651</td>\n",
       "    </tr>\n",
       "    <tr>\n",
       "      <th>2210</th>\n",
       "      <td>0.0</td>\n",
       "      <td>0.0</td>\n",
       "      <td>0.0</td>\n",
       "      <td>0.0</td>\n",
       "      <td>1.0</td>\n",
       "      <td>1.814605</td>\n",
       "      <td>1.814230</td>\n",
       "      <td>-0.211928</td>\n",
       "      <td>-0.211288</td>\n",
       "      <td>1.070799</td>\n",
       "      <td>1.069020</td>\n",
       "      <td>0.522200</td>\n",
       "      <td>0.522840</td>\n",
       "      <td>1.610893</td>\n",
       "      <td>0.533851</td>\n",
       "      <td>0.552710</td>\n",
       "      <td>-1.155889</td>\n",
       "      <td>1.744948</td>\n",
       "      <td>-0.640575</td>\n",
       "      <td>-0.323398</td>\n",
       "    </tr>\n",
       "    <tr>\n",
       "      <th>1846</th>\n",
       "      <td>0.0</td>\n",
       "      <td>1.0</td>\n",
       "      <td>1.0</td>\n",
       "      <td>0.0</td>\n",
       "      <td>0.0</td>\n",
       "      <td>-0.038896</td>\n",
       "      <td>-0.039276</td>\n",
       "      <td>-0.509404</td>\n",
       "      <td>-0.510269</td>\n",
       "      <td>-0.773117</td>\n",
       "      <td>-0.772470</td>\n",
       "      <td>0.450529</td>\n",
       "      <td>0.456481</td>\n",
       "      <td>-0.738771</td>\n",
       "      <td>0.606725</td>\n",
       "      <td>0.623086</td>\n",
       "      <td>-0.436611</td>\n",
       "      <td>0.580761</td>\n",
       "      <td>-0.103365</td>\n",
       "      <td>0.728200</td>\n",
       "    </tr>\n",
       "    <tr>\n",
       "      <th>...</th>\n",
       "      <td>...</td>\n",
       "      <td>...</td>\n",
       "      <td>...</td>\n",
       "      <td>...</td>\n",
       "      <td>...</td>\n",
       "      <td>...</td>\n",
       "      <td>...</td>\n",
       "      <td>...</td>\n",
       "      <td>...</td>\n",
       "      <td>...</td>\n",
       "      <td>...</td>\n",
       "      <td>...</td>\n",
       "      <td>...</td>\n",
       "      <td>...</td>\n",
       "      <td>...</td>\n",
       "      <td>...</td>\n",
       "      <td>...</td>\n",
       "      <td>...</td>\n",
       "      <td>...</td>\n",
       "      <td>...</td>\n",
       "    </tr>\n",
       "    <tr>\n",
       "      <th>1095</th>\n",
       "      <td>0.0</td>\n",
       "      <td>0.0</td>\n",
       "      <td>0.0</td>\n",
       "      <td>0.0</td>\n",
       "      <td>1.0</td>\n",
       "      <td>1.732023</td>\n",
       "      <td>1.732188</td>\n",
       "      <td>-0.046444</td>\n",
       "      <td>-0.046732</td>\n",
       "      <td>-0.782936</td>\n",
       "      <td>-0.781198</td>\n",
       "      <td>-1.520411</td>\n",
       "      <td>-1.521019</td>\n",
       "      <td>0.535547</td>\n",
       "      <td>0.850288</td>\n",
       "      <td>0.793650</td>\n",
       "      <td>-0.326160</td>\n",
       "      <td>2.054204</td>\n",
       "      <td>-0.494652</td>\n",
       "      <td>-1.470765</td>\n",
       "    </tr>\n",
       "    <tr>\n",
       "      <th>1130</th>\n",
       "      <td>0.0</td>\n",
       "      <td>0.0</td>\n",
       "      <td>1.0</td>\n",
       "      <td>0.0</td>\n",
       "      <td>0.0</td>\n",
       "      <td>-2.659490</td>\n",
       "      <td>-2.659228</td>\n",
       "      <td>-0.397112</td>\n",
       "      <td>-0.396702</td>\n",
       "      <td>1.000106</td>\n",
       "      <td>0.999200</td>\n",
       "      <td>0.880552</td>\n",
       "      <td>0.881179</td>\n",
       "      <td>-1.248499</td>\n",
       "      <td>-1.860699</td>\n",
       "      <td>-1.826876</td>\n",
       "      <td>-0.105948</td>\n",
       "      <td>0.023812</td>\n",
       "      <td>1.441190</td>\n",
       "      <td>1.533594</td>\n",
       "    </tr>\n",
       "    <tr>\n",
       "      <th>1294</th>\n",
       "      <td>0.0</td>\n",
       "      <td>0.0</td>\n",
       "      <td>0.0</td>\n",
       "      <td>0.0</td>\n",
       "      <td>1.0</td>\n",
       "      <td>-1.696036</td>\n",
       "      <td>-1.696312</td>\n",
       "      <td>1.202563</td>\n",
       "      <td>1.202498</td>\n",
       "      <td>-0.315574</td>\n",
       "      <td>-0.314280</td>\n",
       "      <td>-0.373682</td>\n",
       "      <td>-0.379643</td>\n",
       "      <td>-0.542034</td>\n",
       "      <td>-0.985730</td>\n",
       "      <td>-0.998981</td>\n",
       "      <td>-0.457032</td>\n",
       "      <td>-1.358426</td>\n",
       "      <td>-0.567143</td>\n",
       "      <td>-0.141458</td>\n",
       "    </tr>\n",
       "    <tr>\n",
       "      <th>860</th>\n",
       "      <td>0.0</td>\n",
       "      <td>0.0</td>\n",
       "      <td>0.0</td>\n",
       "      <td>0.0</td>\n",
       "      <td>1.0</td>\n",
       "      <td>-0.015039</td>\n",
       "      <td>-0.015527</td>\n",
       "      <td>-0.507434</td>\n",
       "      <td>-0.507951</td>\n",
       "      <td>0.548455</td>\n",
       "      <td>0.549737</td>\n",
       "      <td>-0.122835</td>\n",
       "      <td>-0.127479</td>\n",
       "      <td>0.011288</td>\n",
       "      <td>0.461956</td>\n",
       "      <td>0.456921</td>\n",
       "      <td>0.151117</td>\n",
       "      <td>-0.233507</td>\n",
       "      <td>-0.651167</td>\n",
       "      <td>-0.182442</td>\n",
       "    </tr>\n",
       "    <tr>\n",
       "      <th>3174</th>\n",
       "      <td>0.0</td>\n",
       "      <td>1.0</td>\n",
       "      <td>0.0</td>\n",
       "      <td>1.0</td>\n",
       "      <td>0.0</td>\n",
       "      <td>-2.754918</td>\n",
       "      <td>-2.755304</td>\n",
       "      <td>-1.415624</td>\n",
       "      <td>-1.416482</td>\n",
       "      <td>2.459137</td>\n",
       "      <td>2.461047</td>\n",
       "      <td>-0.588694</td>\n",
       "      <td>-0.591992</td>\n",
       "      <td>-1.099828</td>\n",
       "      <td>1.071354</td>\n",
       "      <td>1.048763</td>\n",
       "      <td>0.106434</td>\n",
       "      <td>0.132159</td>\n",
       "      <td>-0.747272</td>\n",
       "      <td>-0.054139</td>\n",
       "    </tr>\n",
       "  </tbody>\n",
       "</table>\n",
       "<p>2333 rows × 20 columns</p>\n",
       "</div>"
      ],
      "text/plain": [
       "      x0_yes  x1_yes  x2_Northeast  x2_South  x2_West  total_day_minutes  \\\n",
       "2016     0.0     0.0           1.0       0.0      0.0           0.410716   \n",
       "1362     0.0     0.0           0.0       1.0      0.0          -0.864713   \n",
       "2670     0.0     1.0           0.0       0.0      1.0           0.752053   \n",
       "2210     0.0     0.0           0.0       0.0      1.0           1.814605   \n",
       "1846     0.0     1.0           1.0       0.0      0.0          -0.038896   \n",
       "...      ...     ...           ...       ...      ...                ...   \n",
       "1095     0.0     0.0           0.0       0.0      1.0           1.732023   \n",
       "1130     0.0     0.0           1.0       0.0      0.0          -2.659490   \n",
       "1294     0.0     0.0           0.0       0.0      1.0          -1.696036   \n",
       "860      0.0     0.0           0.0       0.0      1.0          -0.015039   \n",
       "3174     0.0     1.0           0.0       1.0      0.0          -2.754918   \n",
       "\n",
       "      total_day_charge  total_eve_minutes  total_eve_charge  \\\n",
       "2016          0.410877           1.167102          1.167733   \n",
       "1362         -0.865095          -2.639021         -2.637901   \n",
       "2670          0.752000          -0.984185         -0.983076   \n",
       "2210          1.814230          -0.211928         -0.211288   \n",
       "1846         -0.039276          -0.509404         -0.510269   \n",
       "...                ...                ...               ...   \n",
       "1095          1.732188          -0.046444         -0.046732   \n",
       "1130         -2.659228          -0.397112         -0.396702   \n",
       "1294         -1.696312           1.202563          1.202498   \n",
       "860          -0.015527          -0.507434         -0.507951   \n",
       "3174         -2.755304          -1.415624         -1.416482   \n",
       "\n",
       "      total_night_minutes  total_night_charge  total_intl_minutes  \\\n",
       "2016            -0.456961           -0.458282           -0.373682   \n",
       "1362            -0.790790           -0.789925           -0.122835   \n",
       "2670            -0.425542           -0.423373           -0.445353   \n",
       "2210             1.070799            1.069020            0.522200   \n",
       "1846            -0.773117           -0.772470            0.450529   \n",
       "...                   ...                 ...                 ...   \n",
       "1095            -0.782936           -0.781198           -1.520411   \n",
       "1130             1.000106            0.999200            0.880552   \n",
       "1294            -0.315574           -0.314280           -0.373682   \n",
       "860              0.548455            0.549737           -0.122835   \n",
       "3174             2.459137            2.461047           -0.588694   \n",
       "\n",
       "      total_intl_charge  total_min  total_charge_dom  total_charge  \\\n",
       "2016          -0.379643   0.640622          1.044943      1.030191   \n",
       "1362          -0.127479  -2.478104          0.400332      0.395342   \n",
       "2670          -0.446002  -0.356476          0.105904      0.089402   \n",
       "2210           0.522840   1.610893          0.533851      0.552710   \n",
       "1846           0.456481  -0.738771          0.606725      0.623086   \n",
       "...                 ...        ...               ...           ...   \n",
       "1095          -1.521019   0.535547          0.850288      0.793650   \n",
       "1130           0.881179  -1.248499         -1.860699     -1.826876   \n",
       "1294          -0.379643  -0.542034         -0.985730     -0.998981   \n",
       "860           -0.127479   0.011288          0.461956      0.456921   \n",
       "3174          -0.591992  -1.099828          1.071354      1.048763   \n",
       "\n",
       "      call_satisfaction  charge_per_min_dom  charge_per_min_intl  %_int_min  \n",
       "2016           1.044815            1.264866            -0.567143  -0.627093  \n",
       "1362           1.008973            0.324584             0.815131   1.585515  \n",
       "2670           0.264224           -0.028174            -0.717068  -0.292651  \n",
       "2210          -1.155889            1.744948            -0.640575  -0.323398  \n",
       "1846          -0.436611            0.580761            -0.103365   0.728200  \n",
       "...                 ...                 ...                  ...        ...  \n",
       "1095          -0.326160            2.054204            -0.494652  -1.470765  \n",
       "1130          -0.105948            0.023812             1.441190   1.533594  \n",
       "1294          -0.457032           -1.358426            -0.567143  -0.141458  \n",
       "860            0.151117           -0.233507            -0.651167  -0.182442  \n",
       "3174           0.106434            0.132159            -0.747272  -0.054139  \n",
       "\n",
       "[2333 rows x 20 columns]"
      ]
     },
     "execution_count": 181,
     "metadata": {},
     "output_type": "execute_result"
    }
   ],
   "source": [
    "X_train_clean"
   ]
  },
  {
   "cell_type": "code",
   "execution_count": 182,
   "id": "e03c7120",
   "metadata": {
    "ExecuteTime": {
     "end_time": "2021-08-02T18:34:27.015983Z",
     "start_time": "2021-08-02T18:34:26.980185Z"
    }
   },
   "outputs": [
    {
     "data": {
      "text/html": [
       "<div>\n",
       "<style scoped>\n",
       "    .dataframe tbody tr th:only-of-type {\n",
       "        vertical-align: middle;\n",
       "    }\n",
       "\n",
       "    .dataframe tbody tr th {\n",
       "        vertical-align: top;\n",
       "    }\n",
       "\n",
       "    .dataframe thead th {\n",
       "        text-align: right;\n",
       "    }\n",
       "</style>\n",
       "<table border=\"1\" class=\"dataframe\">\n",
       "  <thead>\n",
       "    <tr style=\"text-align: right;\">\n",
       "      <th></th>\n",
       "      <th>x0_yes</th>\n",
       "      <th>x1_yes</th>\n",
       "      <th>x2_Northeast</th>\n",
       "      <th>x2_South</th>\n",
       "      <th>x2_West</th>\n",
       "      <th>total_day_minutes</th>\n",
       "      <th>total_day_charge</th>\n",
       "      <th>total_eve_minutes</th>\n",
       "      <th>total_eve_charge</th>\n",
       "      <th>total_night_minutes</th>\n",
       "      <th>total_night_charge</th>\n",
       "      <th>total_intl_minutes</th>\n",
       "      <th>total_intl_charge</th>\n",
       "      <th>total_min</th>\n",
       "      <th>total_charge_dom</th>\n",
       "      <th>total_charge</th>\n",
       "      <th>call_satisfaction</th>\n",
       "      <th>charge_per_min_dom</th>\n",
       "      <th>charge_per_min_intl</th>\n",
       "      <th>%_int_min</th>\n",
       "    </tr>\n",
       "  </thead>\n",
       "  <tbody>\n",
       "    <tr>\n",
       "      <th>438</th>\n",
       "      <td>0.0</td>\n",
       "      <td>0.0</td>\n",
       "      <td>0.0</td>\n",
       "      <td>0.0</td>\n",
       "      <td>1.0</td>\n",
       "      <td>-0.445110</td>\n",
       "      <td>-0.445175</td>\n",
       "      <td>2.561623</td>\n",
       "      <td>2.561418</td>\n",
       "      <td>-0.240205</td>\n",
       "      <td>-0.241616</td>\n",
       "      <td>1.172579</td>\n",
       "      <td>1.178729</td>\n",
       "      <td>1.061954</td>\n",
       "      <td>0.165651</td>\n",
       "      <td>0.207530</td>\n",
       "      <td>-0.481091</td>\n",
       "      <td>-0.307370</td>\n",
       "      <td>0.627372</td>\n",
       "      <td>0.340880</td>\n",
       "    </tr>\n",
       "    <tr>\n",
       "      <th>2674</th>\n",
       "      <td>0.0</td>\n",
       "      <td>0.0</td>\n",
       "      <td>0.0</td>\n",
       "      <td>0.0</td>\n",
       "      <td>0.0</td>\n",
       "      <td>-1.289176</td>\n",
       "      <td>-1.288918</td>\n",
       "      <td>0.323576</td>\n",
       "      <td>0.323785</td>\n",
       "      <td>-0.260318</td>\n",
       "      <td>-0.259494</td>\n",
       "      <td>0.921990</td>\n",
       "      <td>0.926765</td>\n",
       "      <td>-0.704043</td>\n",
       "      <td>0.849735</td>\n",
       "      <td>0.880854</td>\n",
       "      <td>-1.193959</td>\n",
       "      <td>-0.758702</td>\n",
       "      <td>-0.400194</td>\n",
       "      <td>1.166827</td>\n",
       "    </tr>\n",
       "    <tr>\n",
       "      <th>1345</th>\n",
       "      <td>0.0</td>\n",
       "      <td>0.0</td>\n",
       "      <td>0.0</td>\n",
       "      <td>0.0</td>\n",
       "      <td>0.0</td>\n",
       "      <td>-3.295441</td>\n",
       "      <td>-3.295512</td>\n",
       "      <td>-0.819173</td>\n",
       "      <td>-0.818292</td>\n",
       "      <td>-0.688735</td>\n",
       "      <td>-0.688564</td>\n",
       "      <td>-1.225919</td>\n",
       "      <td>-1.221563</td>\n",
       "      <td>-2.836857</td>\n",
       "      <td>-5.011735</td>\n",
       "      <td>-5.042972</td>\n",
       "      <td>3.037678</td>\n",
       "      <td>-5.680282</td>\n",
       "      <td>1.628178</td>\n",
       "      <td>0.479823</td>\n",
       "    </tr>\n",
       "    <tr>\n",
       "      <th>1957</th>\n",
       "      <td>0.0</td>\n",
       "      <td>0.0</td>\n",
       "      <td>0.0</td>\n",
       "      <td>1.0</td>\n",
       "      <td>0.0</td>\n",
       "      <td>0.617788</td>\n",
       "      <td>0.618158</td>\n",
       "      <td>0.060625</td>\n",
       "      <td>0.060944</td>\n",
       "      <td>-0.907972</td>\n",
       "      <td>-0.907568</td>\n",
       "      <td>-0.008771</td>\n",
       "      <td>-0.014786</td>\n",
       "      <td>-0.093412</td>\n",
       "      <td>-1.086119</td>\n",
       "      <td>-1.083920</td>\n",
       "      <td>-0.381040</td>\n",
       "      <td>-0.961779</td>\n",
       "      <td>0.881587</td>\n",
       "      <td>-0.036015</td>\n",
       "    </tr>\n",
       "    <tr>\n",
       "      <th>2148</th>\n",
       "      <td>0.0</td>\n",
       "      <td>0.0</td>\n",
       "      <td>0.0</td>\n",
       "      <td>0.0</td>\n",
       "      <td>1.0</td>\n",
       "      <td>-0.647391</td>\n",
       "      <td>-0.647457</td>\n",
       "      <td>0.467902</td>\n",
       "      <td>0.467998</td>\n",
       "      <td>0.530140</td>\n",
       "      <td>0.531604</td>\n",
       "      <td>-0.080368</td>\n",
       "      <td>-0.081093</td>\n",
       "      <td>0.160285</td>\n",
       "      <td>0.248180</td>\n",
       "      <td>0.244646</td>\n",
       "      <td>-0.345307</td>\n",
       "      <td>1.295884</td>\n",
       "      <td>-0.706781</td>\n",
       "      <td>-0.212980</td>\n",
       "    </tr>\n",
       "    <tr>\n",
       "      <th>...</th>\n",
       "      <td>...</td>\n",
       "      <td>...</td>\n",
       "      <td>...</td>\n",
       "      <td>...</td>\n",
       "      <td>...</td>\n",
       "      <td>...</td>\n",
       "      <td>...</td>\n",
       "      <td>...</td>\n",
       "      <td>...</td>\n",
       "      <td>...</td>\n",
       "      <td>...</td>\n",
       "      <td>...</td>\n",
       "      <td>...</td>\n",
       "      <td>...</td>\n",
       "      <td>...</td>\n",
       "      <td>...</td>\n",
       "      <td>...</td>\n",
       "      <td>...</td>\n",
       "      <td>...</td>\n",
       "      <td>...</td>\n",
       "    </tr>\n",
       "    <tr>\n",
       "      <th>3080</th>\n",
       "      <td>0.0</td>\n",
       "      <td>0.0</td>\n",
       "      <td>0.0</td>\n",
       "      <td>0.0</td>\n",
       "      <td>0.0</td>\n",
       "      <td>-0.805539</td>\n",
       "      <td>-0.805388</td>\n",
       "      <td>0.713059</td>\n",
       "      <td>0.712230</td>\n",
       "      <td>-1.670272</td>\n",
       "      <td>-1.671849</td>\n",
       "      <td>2.604518</td>\n",
       "      <td>2.610948</td>\n",
       "      <td>-0.917105</td>\n",
       "      <td>0.063086</td>\n",
       "      <td>0.156614</td>\n",
       "      <td>-1.193959</td>\n",
       "      <td>-0.270120</td>\n",
       "      <td>0.572515</td>\n",
       "      <td>2.974296</td>\n",
       "    </tr>\n",
       "    <tr>\n",
       "      <th>2548</th>\n",
       "      <td>0.0</td>\n",
       "      <td>1.0</td>\n",
       "      <td>0.0</td>\n",
       "      <td>0.0</td>\n",
       "      <td>0.0</td>\n",
       "      <td>-0.478210</td>\n",
       "      <td>-0.478708</td>\n",
       "      <td>1.231053</td>\n",
       "      <td>1.230933</td>\n",
       "      <td>-1.334377</td>\n",
       "      <td>-1.332169</td>\n",
       "      <td>0.599803</td>\n",
       "      <td>0.595233</td>\n",
       "      <td>-0.311965</td>\n",
       "      <td>0.682769</td>\n",
       "      <td>0.702411</td>\n",
       "      <td>-0.456118</td>\n",
       "      <td>0.658581</td>\n",
       "      <td>-0.589804</td>\n",
       "      <td>0.609881</td>\n",
       "    </tr>\n",
       "    <tr>\n",
       "      <th>2916</th>\n",
       "      <td>0.0</td>\n",
       "      <td>0.0</td>\n",
       "      <td>0.0</td>\n",
       "      <td>1.0</td>\n",
       "      <td>0.0</td>\n",
       "      <td>-1.206424</td>\n",
       "      <td>-1.206707</td>\n",
       "      <td>-0.838944</td>\n",
       "      <td>-0.839227</td>\n",
       "      <td>-0.274398</td>\n",
       "      <td>-0.272902</td>\n",
       "      <td>0.098625</td>\n",
       "      <td>0.104565</td>\n",
       "      <td>-1.333344</td>\n",
       "      <td>-0.821359</td>\n",
       "      <td>-0.815542</td>\n",
       "      <td>0.472819</td>\n",
       "      <td>-0.343715</td>\n",
       "      <td>-0.566103</td>\n",
       "      <td>0.823045</td>\n",
       "    </tr>\n",
       "    <tr>\n",
       "      <th>2655</th>\n",
       "      <td>0.0</td>\n",
       "      <td>0.0</td>\n",
       "      <td>0.0</td>\n",
       "      <td>0.0</td>\n",
       "      <td>0.0</td>\n",
       "      <td>0.735479</td>\n",
       "      <td>0.734983</td>\n",
       "      <td>-0.672869</td>\n",
       "      <td>-0.671753</td>\n",
       "      <td>-0.803382</td>\n",
       "      <td>-0.804770</td>\n",
       "      <td>-0.080368</td>\n",
       "      <td>-0.081093</td>\n",
       "      <td>-0.375664</td>\n",
       "      <td>-1.511645</td>\n",
       "      <td>-1.510755</td>\n",
       "      <td>-0.309676</td>\n",
       "      <td>-0.922277</td>\n",
       "      <td>-0.459065</td>\n",
       "      <td>0.043462</td>\n",
       "    </tr>\n",
       "    <tr>\n",
       "      <th>1159</th>\n",
       "      <td>0.0</td>\n",
       "      <td>0.0</td>\n",
       "      <td>0.0</td>\n",
       "      <td>0.0</td>\n",
       "      <td>0.0</td>\n",
       "      <td>-1.395833</td>\n",
       "      <td>-1.396009</td>\n",
       "      <td>0.887042</td>\n",
       "      <td>0.886682</td>\n",
       "      <td>-0.809416</td>\n",
       "      <td>-0.809240</td>\n",
       "      <td>-1.369113</td>\n",
       "      <td>-1.367438</td>\n",
       "      <td>-0.824851</td>\n",
       "      <td>1.145027</td>\n",
       "      <td>1.093082</td>\n",
       "      <td>-1.193959</td>\n",
       "      <td>0.379102</td>\n",
       "      <td>-0.929267</td>\n",
       "      <td>-0.942286</td>\n",
       "    </tr>\n",
       "  </tbody>\n",
       "</table>\n",
       "<p>1000 rows × 20 columns</p>\n",
       "</div>"
      ],
      "text/plain": [
       "      x0_yes  x1_yes  x2_Northeast  x2_South  x2_West  total_day_minutes  \\\n",
       "438      0.0     0.0           0.0       0.0      1.0          -0.445110   \n",
       "2674     0.0     0.0           0.0       0.0      0.0          -1.289176   \n",
       "1345     0.0     0.0           0.0       0.0      0.0          -3.295441   \n",
       "1957     0.0     0.0           0.0       1.0      0.0           0.617788   \n",
       "2148     0.0     0.0           0.0       0.0      1.0          -0.647391   \n",
       "...      ...     ...           ...       ...      ...                ...   \n",
       "3080     0.0     0.0           0.0       0.0      0.0          -0.805539   \n",
       "2548     0.0     1.0           0.0       0.0      0.0          -0.478210   \n",
       "2916     0.0     0.0           0.0       1.0      0.0          -1.206424   \n",
       "2655     0.0     0.0           0.0       0.0      0.0           0.735479   \n",
       "1159     0.0     0.0           0.0       0.0      0.0          -1.395833   \n",
       "\n",
       "      total_day_charge  total_eve_minutes  total_eve_charge  \\\n",
       "438          -0.445175           2.561623          2.561418   \n",
       "2674         -1.288918           0.323576          0.323785   \n",
       "1345         -3.295512          -0.819173         -0.818292   \n",
       "1957          0.618158           0.060625          0.060944   \n",
       "2148         -0.647457           0.467902          0.467998   \n",
       "...                ...                ...               ...   \n",
       "3080         -0.805388           0.713059          0.712230   \n",
       "2548         -0.478708           1.231053          1.230933   \n",
       "2916         -1.206707          -0.838944         -0.839227   \n",
       "2655          0.734983          -0.672869         -0.671753   \n",
       "1159         -1.396009           0.887042          0.886682   \n",
       "\n",
       "      total_night_minutes  total_night_charge  total_intl_minutes  \\\n",
       "438             -0.240205           -0.241616            1.172579   \n",
       "2674            -0.260318           -0.259494            0.921990   \n",
       "1345            -0.688735           -0.688564           -1.225919   \n",
       "1957            -0.907972           -0.907568           -0.008771   \n",
       "2148             0.530140            0.531604           -0.080368   \n",
       "...                   ...                 ...                 ...   \n",
       "3080            -1.670272           -1.671849            2.604518   \n",
       "2548            -1.334377           -1.332169            0.599803   \n",
       "2916            -0.274398           -0.272902            0.098625   \n",
       "2655            -0.803382           -0.804770           -0.080368   \n",
       "1159            -0.809416           -0.809240           -1.369113   \n",
       "\n",
       "      total_intl_charge  total_min  total_charge_dom  total_charge  \\\n",
       "438            1.178729   1.061954          0.165651      0.207530   \n",
       "2674           0.926765  -0.704043          0.849735      0.880854   \n",
       "1345          -1.221563  -2.836857         -5.011735     -5.042972   \n",
       "1957          -0.014786  -0.093412         -1.086119     -1.083920   \n",
       "2148          -0.081093   0.160285          0.248180      0.244646   \n",
       "...                 ...        ...               ...           ...   \n",
       "3080           2.610948  -0.917105          0.063086      0.156614   \n",
       "2548           0.595233  -0.311965          0.682769      0.702411   \n",
       "2916           0.104565  -1.333344         -0.821359     -0.815542   \n",
       "2655          -0.081093  -0.375664         -1.511645     -1.510755   \n",
       "1159          -1.367438  -0.824851          1.145027      1.093082   \n",
       "\n",
       "      call_satisfaction  charge_per_min_dom  charge_per_min_intl  %_int_min  \n",
       "438           -0.481091           -0.307370             0.627372   0.340880  \n",
       "2674          -1.193959           -0.758702            -0.400194   1.166827  \n",
       "1345           3.037678           -5.680282             1.628178   0.479823  \n",
       "1957          -0.381040           -0.961779             0.881587  -0.036015  \n",
       "2148          -0.345307            1.295884            -0.706781  -0.212980  \n",
       "...                 ...                 ...                  ...        ...  \n",
       "3080          -1.193959           -0.270120             0.572515   2.974296  \n",
       "2548          -0.456118            0.658581            -0.589804   0.609881  \n",
       "2916           0.472819           -0.343715            -0.566103   0.823045  \n",
       "2655          -0.309676           -0.922277            -0.459065   0.043462  \n",
       "1159          -1.193959            0.379102            -0.929267  -0.942286  \n",
       "\n",
       "[1000 rows x 20 columns]"
      ]
     },
     "execution_count": 182,
     "metadata": {},
     "output_type": "execute_result"
    }
   ],
   "source": [
    "X_test_clean"
   ]
  },
  {
   "cell_type": "code",
   "execution_count": 45,
   "id": "389cd4ff",
   "metadata": {
    "ExecuteTime": {
     "end_time": "2021-08-02T15:32:23.380994Z",
     "start_time": "2021-08-02T15:32:23.375468Z"
    }
   },
   "outputs": [],
   "source": [
    "from sklearn.linear_model import LogisticRegression\n",
    "log_reg = LogisticRegression()"
   ]
  },
  {
   "cell_type": "code",
   "execution_count": 46,
   "id": "3376cc12",
   "metadata": {
    "ExecuteTime": {
     "end_time": "2021-08-02T15:32:23.563324Z",
     "start_time": "2021-08-02T15:32:23.553328Z"
    }
   },
   "outputs": [
    {
     "data": {
      "text/plain": [
       "x0_yes          0\n",
       "x1_yes          0\n",
       "x2_Northeast    0\n",
       "x2_South        0\n",
       "x2_West         0\n",
       "0               0\n",
       "1               0\n",
       "2               0\n",
       "3               0\n",
       "4               0\n",
       "5               0\n",
       "6               0\n",
       "7               0\n",
       "8               0\n",
       "9               0\n",
       "10              0\n",
       "11              0\n",
       "12              0\n",
       "13              0\n",
       "14              0\n",
       "dtype: int64"
      ]
     },
     "execution_count": 46,
     "metadata": {},
     "output_type": "execute_result"
    }
   ],
   "source": [
    "X_train_clean.isnull().sum()"
   ]
  },
  {
   "cell_type": "markdown",
   "id": "9e41975c",
   "metadata": {},
   "source": [
    "# Baseline Model Logistic Classification"
   ]
  },
  {
   "cell_type": "code",
   "execution_count": 64,
   "id": "a60ab337",
   "metadata": {
    "ExecuteTime": {
     "end_time": "2021-08-02T17:23:16.073562Z",
     "start_time": "2021-08-02T17:23:16.019908Z"
    }
   },
   "outputs": [
    {
     "data": {
      "text/plain": [
       "LogisticRegression()"
      ]
     },
     "execution_count": 64,
     "metadata": {},
     "output_type": "execute_result"
    }
   ],
   "source": [
    "log_reg.fit(X_train_clean, y_train)"
   ]
  },
  {
   "cell_type": "code",
   "execution_count": 50,
   "id": "d98d3e56",
   "metadata": {
    "ExecuteTime": {
     "end_time": "2021-08-02T15:33:10.559989Z",
     "start_time": "2021-08-02T15:33:10.549028Z"
    }
   },
   "outputs": [
    {
     "data": {
      "text/plain": [
       "0.866266609515645"
      ]
     },
     "execution_count": 50,
     "metadata": {},
     "output_type": "execute_result"
    }
   ],
   "source": [
    "log_reg.score(X_train_clean, y_train)"
   ]
  },
  {
   "cell_type": "code",
   "execution_count": 65,
   "id": "ae10733e",
   "metadata": {
    "ExecuteTime": {
     "end_time": "2021-08-02T17:23:52.446586Z",
     "start_time": "2021-08-02T17:23:52.440072Z"
    }
   },
   "outputs": [],
   "source": [
    "base_pred = log_reg.predict(X_train_clean)"
   ]
  },
  {
   "cell_type": "code",
   "execution_count": 67,
   "id": "736fa4c1",
   "metadata": {
    "ExecuteTime": {
     "end_time": "2021-08-02T17:25:20.981461Z",
     "start_time": "2021-08-02T17:25:20.975270Z"
    }
   },
   "outputs": [],
   "source": [
    "def scores(actual, pred):\n",
    "    print(\"log loss: \", log_loss(actual, pred))\n",
    "    print(\"accuracy: \", accuracy_score(actual, pred))\n",
    "    print(\"precision:\", precision_score(actual, pred))\n",
    "    print(\"recall:   \", recall_score(actual, pred))"
   ]
  },
  {
   "cell_type": "code",
   "execution_count": 68,
   "id": "a3927e7a",
   "metadata": {
    "ExecuteTime": {
     "end_time": "2021-08-02T17:25:38.429709Z",
     "start_time": "2021-08-02T17:25:38.402507Z"
    }
   },
   "outputs": [
    {
     "name": "stdout",
     "output_type": "stream",
     "text": [
      "log loss:  4.619005149884729\n",
      "accuracy:  0.866266609515645\n",
      "precision: 0.6076923076923076\n",
      "recall:    0.2323529411764706\n"
     ]
    }
   ],
   "source": [
    "scores(y_train, base_pred)"
   ]
  },
  {
   "cell_type": "markdown",
   "id": "60c62d76",
   "metadata": {},
   "source": [
    "## Random Forest"
   ]
  },
  {
   "cell_type": "code",
   "execution_count": 241,
   "id": "7e5e39c5",
   "metadata": {
    "ExecuteTime": {
     "end_time": "2021-08-03T13:27:57.901436Z",
     "start_time": "2021-08-03T13:27:52.947535Z"
    }
   },
   "outputs": [
    {
     "data": {
      "text/plain": [
       "RandomForestClassifier(criterion='entropy', max_depth=10, min_samples_split=7,\n",
       "                       n_estimators=1200)"
      ]
     },
     "execution_count": 241,
     "metadata": {},
     "output_type": "execute_result"
    }
   ],
   "source": [
    "rf_model = RandomForestClassifier(criterion = 'entropy', n_estimators = 1200, max_depth=10, bootstrap = True, min_samples_split= 7)\n",
    "rf_model.fit(X_train_clean, y_train)"
   ]
  },
  {
   "cell_type": "code",
   "execution_count": 242,
   "id": "83102046",
   "metadata": {
    "ExecuteTime": {
     "end_time": "2021-08-03T13:28:01.007654Z",
     "start_time": "2021-08-03T13:28:00.840065Z"
    }
   },
   "outputs": [],
   "source": [
    "rf_preds = rf_model.predict(X_test_clean)"
   ]
  },
  {
   "cell_type": "code",
   "execution_count": 243,
   "id": "6802b8ee",
   "metadata": {
    "ExecuteTime": {
     "end_time": "2021-08-03T13:28:01.700496Z",
     "start_time": "2021-08-03T13:28:01.680942Z"
    }
   },
   "outputs": [
    {
     "name": "stdout",
     "output_type": "stream",
     "text": [
      "log loss:  1.7614799949327362\n",
      "accuracy:  0.949\n",
      "precision: 0.9693877551020408\n",
      "recall:    0.6643356643356644\n"
     ]
    }
   ],
   "source": [
    "scores(y_test, rf_preds)"
   ]
  },
  {
   "cell_type": "code",
   "execution_count": 235,
   "id": "b2967059",
   "metadata": {
    "ExecuteTime": {
     "end_time": "2021-08-03T13:21:34.595606Z",
     "start_time": "2021-08-03T13:21:34.590783Z"
    }
   },
   "outputs": [],
   "source": [
    "grid = {        \n",
    " 'max_depth': [8,10],\n",
    " 'max_features': ['auto', 'sqrt'],\n",
    " 'min_samples_leaf': [1, 2, 4],\n",
    " 'min_samples_split': [2, 5, 7]}"
   ]
  },
  {
   "cell_type": "code",
   "execution_count": 236,
   "id": "954e45b0",
   "metadata": {
    "ExecuteTime": {
     "end_time": "2021-08-03T13:21:35.181704Z",
     "start_time": "2021-08-03T13:21:35.178055Z"
    }
   },
   "outputs": [],
   "source": [
    "gs = GridSearchCV(estimator=rf_model, param_grid= grid, cv=2)"
   ]
  },
  {
   "cell_type": "code",
   "execution_count": 237,
   "id": "f3be4d8a",
   "metadata": {
    "ExecuteTime": {
     "end_time": "2021-08-03T13:24:58.693275Z",
     "start_time": "2021-08-03T13:21:35.445191Z"
    }
   },
   "outputs": [
    {
     "data": {
      "text/plain": [
       "GridSearchCV(cv=2,\n",
       "             estimator=RandomForestClassifier(criterion='entropy', max_depth=7,\n",
       "                                              n_estimators=1200),\n",
       "             param_grid={'max_depth': [8, 10], 'max_features': ['auto', 'sqrt'],\n",
       "                         'min_samples_leaf': [1, 2, 4],\n",
       "                         'min_samples_split': [2, 5, 7]})"
      ]
     },
     "execution_count": 237,
     "metadata": {},
     "output_type": "execute_result"
    }
   ],
   "source": [
    "gs.fit(X_train_clean, y_train)"
   ]
  },
  {
   "cell_type": "code",
   "execution_count": 238,
   "id": "1b5c7539",
   "metadata": {
    "ExecuteTime": {
     "end_time": "2021-08-03T13:25:16.823643Z",
     "start_time": "2021-08-03T13:25:16.816929Z"
    }
   },
   "outputs": [
    {
     "data": {
      "text/plain": [
       "{'max_depth': 10,\n",
       " 'max_features': 'auto',\n",
       " 'min_samples_leaf': 1,\n",
       " 'min_samples_split': 7}"
      ]
     },
     "execution_count": 238,
     "metadata": {},
     "output_type": "execute_result"
    }
   ],
   "source": [
    "gs.best_params_"
   ]
  },
  {
   "cell_type": "code",
   "execution_count": 250,
   "id": "231d645e",
   "metadata": {
    "ExecuteTime": {
     "end_time": "2021-08-03T13:33:28.020018Z",
     "start_time": "2021-08-03T13:33:27.928941Z"
    }
   },
   "outputs": [
    {
     "name": "stdout",
     "output_type": "stream",
     "text": [
      "account_length 0.10041014970359242\n",
      "area_code 0.035637054462799723\n",
      "international_plan 0.0027819910273351556\n",
      "voice_mail_plan 0.003564446650818935\n",
      "number_vmail_messages 0.0034036098162395652\n",
      "total_day_minutes 0.10704200381685744\n",
      "total_day_calls 0.109656692786891\n",
      "total_day_charge 0.04174363763847845\n",
      "total_eve_minutes 0.0427475689656147\n",
      "total_eve_calls 0.030313597751385316\n",
      "total_eve_charge 0.03080962832509436\n",
      "total_night_minutes 0.03571784981076201\n",
      "total_night_calls 0.035886034318930345\n",
      "total_night_charge 0.11415482869622165\n",
      "total_intl_minutes 0.024399644276978126\n",
      "total_intl_calls 0.024037904007458102\n",
      "total_intl_charge 0.14167036499836347\n",
      "customer_service_calls 0.0265438042446194\n",
      "total_min 0.05784427350839732\n",
      "total_calls_dom 0.031634915193162506\n"
     ]
    }
   ],
   "source": [
    "for name, score in zip(X_train.columns, rf_model.feature_importances_):\n",
    "    print(name,score)"
   ]
  },
  {
   "cell_type": "code",
   "execution_count": 94,
   "id": "951ab148",
   "metadata": {
    "ExecuteTime": {
     "end_time": "2021-08-02T17:59:20.435903Z",
     "start_time": "2021-08-02T17:59:20.068907Z"
    }
   },
   "outputs": [],
   "source": [
    "import xgboost as xg"
   ]
  },
  {
   "cell_type": "code",
   "execution_count": 96,
   "id": "86ddaac4",
   "metadata": {
    "ExecuteTime": {
     "end_time": "2021-08-02T18:01:11.295539Z",
     "start_time": "2021-08-02T18:01:11.291926Z"
    }
   },
   "outputs": [],
   "source": [
    "xgb_model= xg.XGBRegressor(random_state=42, objective='reg:squarederror')"
   ]
  },
  {
   "cell_type": "code",
   "execution_count": null,
   "id": "69518b00",
   "metadata": {
    "ExecuteTime": {
     "end_time": "2021-08-03T13:04:15.438084Z",
     "start_time": "2021-08-03T00:33:46.872Z"
    }
   },
   "outputs": [],
   "source": []
  },
  {
   "cell_type": "code",
   "execution_count": null,
   "id": "aa37e9d1",
   "metadata": {},
   "outputs": [],
   "source": []
  }
 ],
 "metadata": {
  "kernelspec": {
   "display_name": "Python (learn-env)",
   "language": "python",
   "name": "learn-env"
  }
 },
 "nbformat": 4,
 "nbformat_minor": 5
}
