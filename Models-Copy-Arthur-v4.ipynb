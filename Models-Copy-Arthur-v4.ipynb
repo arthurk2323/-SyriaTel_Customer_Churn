{
 "cells": [
  {
   "cell_type": "markdown",
   "metadata": {},
   "source": [
    "# SyriaTel Customer Churn Project"
   ]
  },
  {
   "cell_type": "markdown",
   "metadata": {},
   "source": [
    "### Team Members\n",
    "    * Eddie Lin\n",
    "    * Tony Bai\n",
    "    * Douglas Lu\n",
    "    * Arthur Kim"
   ]
  },
  {
   "cell_type": "markdown",
   "metadata": {},
   "source": [
    "#sa"
   ]
  },
  {
   "cell_type": "markdown",
   "metadata": {},
   "source": [
    "## Imports"
   ]
  },
  {
   "cell_type": "code",
   "execution_count": 1,
   "metadata": {
    "ExecuteTime": {
     "end_time": "2021-08-04T20:39:57.856042Z",
     "start_time": "2021-08-04T20:39:55.522165Z"
    }
   },
   "outputs": [],
   "source": [
    "#import relevant libraries\n",
    "import pandas as pd\n",
    "import numpy as np\n",
    "import matplotlib.pyplot as plt\n",
    "import seaborn as sns\n",
    "import xgboost as xg\n",
    "from imblearn.pipeline import Pipeline as imbpipeline\n",
    "from sklearn.dummy import DummyClassifier\n",
    "from sklearn.ensemble import BaggingClassifier, RandomForestClassifier\n",
    "from sklearn.tree import DecisionTreeClassifier\n",
    "from sklearn.model_selection import train_test_split, cross_val_score, GridSearchCV\n",
    "from sklearn.preprocessing import StandardScaler, OneHotEncoder\n",
    "from sklearn.linear_model import LogisticRegression\n",
    "from sklearn.metrics import accuracy_score, precision_score, recall_score, f1_score,log_loss, classification_report, confusion_matrix, plot_confusion_matrix\n",
    "from sklearn.pipeline import Pipeline \n",
    "from sklearn.compose import ColumnTransformer\n",
    "from sklearn.neighbors import KNeighborsClassifier\n",
    "from sklearn.ensemble import AdaBoostClassifier, GradientBoostingClassifier, VotingClassifier\n",
    "from imblearn.over_sampling import SMOTE, SMOTENC"
   ]
  },
  {
   "cell_type": "markdown",
   "metadata": {},
   "source": [
    "## Functions"
   ]
  },
  {
   "cell_type": "code",
   "execution_count": 2,
   "metadata": {
    "ExecuteTime": {
     "end_time": "2021-08-04T20:39:57.860028Z",
     "start_time": "2021-08-04T20:39:57.857522Z"
    }
   },
   "outputs": [],
   "source": [
    "def scores(actual, pred):\n",
    "    print(\"log loss: \", log_loss(actual, pred))\n",
    "    print(\"accuracy: \", accuracy_score(actual, pred))\n",
    "    print(\"precision:\", precision_score(actual, pred))\n",
    "    print(\"recall:   \", recall_score(actual, pred))"
   ]
  },
  {
   "cell_type": "markdown",
   "metadata": {},
   "source": [
    "## Data Manipulation"
   ]
  },
  {
   "cell_type": "code",
   "execution_count": 3,
   "metadata": {
    "ExecuteTime": {
     "end_time": "2021-08-04T20:39:57.884323Z",
     "start_time": "2021-08-04T20:39:57.863032Z"
    }
   },
   "outputs": [],
   "source": [
    "#load the data\n",
    "\n",
    "df = pd.read_csv('data/syrialtel_cleaned_data.csv')"
   ]
  },
  {
   "cell_type": "code",
   "execution_count": 4,
   "metadata": {
    "ExecuteTime": {
     "end_time": "2021-08-04T20:39:57.912242Z",
     "start_time": "2021-08-04T20:39:57.886665Z"
    }
   },
   "outputs": [
    {
     "data": {
      "text/html": [
       "<div>\n",
       "<style scoped>\n",
       "    .dataframe tbody tr th:only-of-type {\n",
       "        vertical-align: middle;\n",
       "    }\n",
       "\n",
       "    .dataframe tbody tr th {\n",
       "        vertical-align: top;\n",
       "    }\n",
       "\n",
       "    .dataframe thead th {\n",
       "        text-align: right;\n",
       "    }\n",
       "</style>\n",
       "<table border=\"1\" class=\"dataframe\">\n",
       "  <thead>\n",
       "    <tr style=\"text-align: right;\">\n",
       "      <th></th>\n",
       "      <th>state</th>\n",
       "      <th>account_length</th>\n",
       "      <th>area_code</th>\n",
       "      <th>international_plan</th>\n",
       "      <th>voice_mail_plan</th>\n",
       "      <th>number_vmail_messages</th>\n",
       "      <th>total_day_minutes</th>\n",
       "      <th>total_day_calls</th>\n",
       "      <th>total_day_charge</th>\n",
       "      <th>total_eve_minutes</th>\n",
       "      <th>...</th>\n",
       "      <th>total_calls</th>\n",
       "      <th>total_charge</th>\n",
       "      <th>charge_per_min_day</th>\n",
       "      <th>charge_per_min_eve</th>\n",
       "      <th>charge_per_min_night</th>\n",
       "      <th>charge_per_min_dom</th>\n",
       "      <th>charge_per_min_int</th>\n",
       "      <th>%_int_min</th>\n",
       "      <th>call_satisfaction</th>\n",
       "      <th>region</th>\n",
       "    </tr>\n",
       "  </thead>\n",
       "  <tbody>\n",
       "    <tr>\n",
       "      <th>0</th>\n",
       "      <td>KS</td>\n",
       "      <td>128</td>\n",
       "      <td>415</td>\n",
       "      <td>no</td>\n",
       "      <td>yes</td>\n",
       "      <td>25</td>\n",
       "      <td>265.1</td>\n",
       "      <td>110</td>\n",
       "      <td>45.07</td>\n",
       "      <td>197.4</td>\n",
       "      <td>...</td>\n",
       "      <td>303</td>\n",
       "      <td>75.56</td>\n",
       "      <td>0.409727</td>\n",
       "      <td>0.169495</td>\n",
       "      <td>0.120989</td>\n",
       "      <td>0.242867</td>\n",
       "      <td>0.900000</td>\n",
       "      <td>1.394311</td>\n",
       "      <td>0.330033</td>\n",
       "      <td>Midwest</td>\n",
       "    </tr>\n",
       "    <tr>\n",
       "      <th>1</th>\n",
       "      <td>OH</td>\n",
       "      <td>107</td>\n",
       "      <td>415</td>\n",
       "      <td>no</td>\n",
       "      <td>yes</td>\n",
       "      <td>26</td>\n",
       "      <td>161.6</td>\n",
       "      <td>123</td>\n",
       "      <td>27.47</td>\n",
       "      <td>195.5</td>\n",
       "      <td>...</td>\n",
       "      <td>332</td>\n",
       "      <td>59.24</td>\n",
       "      <td>0.223333</td>\n",
       "      <td>0.161359</td>\n",
       "      <td>0.111165</td>\n",
       "      <td>0.168815</td>\n",
       "      <td>1.233333</td>\n",
       "      <td>2.191299</td>\n",
       "      <td>0.301205</td>\n",
       "      <td>Midwest</td>\n",
       "    </tr>\n",
       "    <tr>\n",
       "      <th>2</th>\n",
       "      <td>NJ</td>\n",
       "      <td>137</td>\n",
       "      <td>415</td>\n",
       "      <td>no</td>\n",
       "      <td>no</td>\n",
       "      <td>0</td>\n",
       "      <td>243.4</td>\n",
       "      <td>114</td>\n",
       "      <td>41.38</td>\n",
       "      <td>121.2</td>\n",
       "      <td>...</td>\n",
       "      <td>333</td>\n",
       "      <td>62.29</td>\n",
       "      <td>0.362982</td>\n",
       "      <td>0.093636</td>\n",
       "      <td>0.070385</td>\n",
       "      <td>0.179878</td>\n",
       "      <td>0.658000</td>\n",
       "      <td>2.261772</td>\n",
       "      <td>0.000000</td>\n",
       "      <td>Northeast</td>\n",
       "    </tr>\n",
       "    <tr>\n",
       "      <th>3</th>\n",
       "      <td>OH</td>\n",
       "      <td>84</td>\n",
       "      <td>408</td>\n",
       "      <td>yes</td>\n",
       "      <td>no</td>\n",
       "      <td>0</td>\n",
       "      <td>299.4</td>\n",
       "      <td>71</td>\n",
       "      <td>50.90</td>\n",
       "      <td>61.9</td>\n",
       "      <td>...</td>\n",
       "      <td>255</td>\n",
       "      <td>66.80</td>\n",
       "      <td>0.716901</td>\n",
       "      <td>0.059773</td>\n",
       "      <td>0.099551</td>\n",
       "      <td>0.262177</td>\n",
       "      <td>0.254286</td>\n",
       "      <td>1.168555</td>\n",
       "      <td>0.784314</td>\n",
       "      <td>Midwest</td>\n",
       "    </tr>\n",
       "    <tr>\n",
       "      <th>4</th>\n",
       "      <td>OK</td>\n",
       "      <td>75</td>\n",
       "      <td>415</td>\n",
       "      <td>yes</td>\n",
       "      <td>no</td>\n",
       "      <td>0</td>\n",
       "      <td>166.7</td>\n",
       "      <td>113</td>\n",
       "      <td>28.34</td>\n",
       "      <td>148.3</td>\n",
       "      <td>...</td>\n",
       "      <td>359</td>\n",
       "      <td>52.09</td>\n",
       "      <td>0.250796</td>\n",
       "      <td>0.103361</td>\n",
       "      <td>0.069504</td>\n",
       "      <td>0.138652</td>\n",
       "      <td>0.910000</td>\n",
       "      <td>1.972656</td>\n",
       "      <td>0.835655</td>\n",
       "      <td>South</td>\n",
       "    </tr>\n",
       "  </tbody>\n",
       "</table>\n",
       "<p>5 rows × 34 columns</p>\n",
       "</div>"
      ],
      "text/plain": [
       "  state  account_length  area_code international_plan voice_mail_plan  \\\n",
       "0    KS             128        415                 no             yes   \n",
       "1    OH             107        415                 no             yes   \n",
       "2    NJ             137        415                 no              no   \n",
       "3    OH              84        408                yes              no   \n",
       "4    OK              75        415                yes              no   \n",
       "\n",
       "   number_vmail_messages  total_day_minutes  total_day_calls  \\\n",
       "0                     25              265.1              110   \n",
       "1                     26              161.6              123   \n",
       "2                      0              243.4              114   \n",
       "3                      0              299.4               71   \n",
       "4                      0              166.7              113   \n",
       "\n",
       "   total_day_charge  total_eve_minutes  ...  total_calls  total_charge  \\\n",
       "0             45.07              197.4  ...          303         75.56   \n",
       "1             27.47              195.5  ...          332         59.24   \n",
       "2             41.38              121.2  ...          333         62.29   \n",
       "3             50.90               61.9  ...          255         66.80   \n",
       "4             28.34              148.3  ...          359         52.09   \n",
       "\n",
       "   charge_per_min_day  charge_per_min_eve  charge_per_min_night  \\\n",
       "0            0.409727            0.169495              0.120989   \n",
       "1            0.223333            0.161359              0.111165   \n",
       "2            0.362982            0.093636              0.070385   \n",
       "3            0.716901            0.059773              0.099551   \n",
       "4            0.250796            0.103361              0.069504   \n",
       "\n",
       "   charge_per_min_dom  charge_per_min_int  %_int_min  call_satisfaction  \\\n",
       "0            0.242867            0.900000   1.394311           0.330033   \n",
       "1            0.168815            1.233333   2.191299           0.301205   \n",
       "2            0.179878            0.658000   2.261772           0.000000   \n",
       "3            0.262177            0.254286   1.168555           0.784314   \n",
       "4            0.138652            0.910000   1.972656           0.835655   \n",
       "\n",
       "      region  \n",
       "0    Midwest  \n",
       "1    Midwest  \n",
       "2  Northeast  \n",
       "3    Midwest  \n",
       "4      South  \n",
       "\n",
       "[5 rows x 34 columns]"
      ]
     },
     "execution_count": 4,
     "metadata": {},
     "output_type": "execute_result"
    }
   ],
   "source": [
    "df.head()"
   ]
  },
  {
   "cell_type": "markdown",
   "metadata": {},
   "source": [
    "The data is split to a train and test data"
   ]
  },
  {
   "cell_type": "code",
   "execution_count": 5,
   "metadata": {
    "ExecuteTime": {
     "end_time": "2021-08-04T20:39:57.922055Z",
     "start_time": "2021-08-04T20:39:57.914430Z"
    }
   },
   "outputs": [],
   "source": [
    "#seperating the target and data\n",
    "X = df.drop('churn', axis=1)\n",
    "y = df['churn']\n",
    "\n",
    "#creating a training and testing set\n",
    "X_train, X_test, y_train, y_test = train_test_split(X, y, test_size=0.3, random_state=42)"
   ]
  },
  {
   "cell_type": "markdown",
   "metadata": {},
   "source": [
    "## Splitting the data between categorical and continuous"
   ]
  },
  {
   "cell_type": "code",
   "execution_count": 6,
   "metadata": {
    "ExecuteTime": {
     "end_time": "2021-08-04T20:39:57.928717Z",
     "start_time": "2021-08-04T20:39:57.924065Z"
    }
   },
   "outputs": [],
   "source": [
    "categorical = ['state','area_code', 'international_plan', 'voice_mail_plan', 'region']\n",
    "df_cat = X_train[categorical]\n",
    "df_cont = X_train.drop(categorical,axis = 1)"
   ]
  },
  {
   "cell_type": "code",
   "execution_count": 7,
   "metadata": {
    "ExecuteTime": {
     "end_time": "2021-08-04T20:39:57.932843Z",
     "start_time": "2021-08-04T20:39:57.930767Z"
    }
   },
   "outputs": [],
   "source": [
    "#splitting the numericals and categoricals\n",
    "X_num = df_cont.columns\n",
    "X_cat = df_cat.columns"
   ]
  },
  {
   "cell_type": "markdown",
   "metadata": {},
   "source": [
    "## Pipeline"
   ]
  },
  {
   "cell_type": "code",
   "execution_count": 8,
   "metadata": {
    "ExecuteTime": {
     "end_time": "2021-08-04T20:39:57.939364Z",
     "start_time": "2021-08-04T20:39:57.936360Z"
    }
   },
   "outputs": [],
   "source": [
    "#preprocessing the pipeline with standard scaler and one hot encoder\n",
    "numTrans = Pipeline(steps=[\n",
    "    ('scaler', StandardScaler())\n",
    "    ])\n",
    "catTrans = Pipeline(steps=[\n",
    "    ('ohe', OneHotEncoder(drop='first',\n",
    "                          sparse=False))\n",
    "    ])\n",
    "\n",
    "pp = ColumnTransformer(transformers=[\n",
    "    ('num', numTrans, X_num),\n",
    "    ('cat', catTrans, X_cat)\n",
    "    ])"
   ]
  },
  {
   "cell_type": "code",
   "execution_count": 9,
   "metadata": {
    "ExecuteTime": {
     "end_time": "2021-08-04T20:39:57.966845Z",
     "start_time": "2021-08-04T20:39:57.941818Z"
    }
   },
   "outputs": [],
   "source": [
    "# transform the pipeline and then converting it back into a dataframe\n",
    "X_train_scaled = pp.fit_transform(X_train)\n",
    "X_test_scaled = pp.transform(X_test)"
   ]
  },
  {
   "cell_type": "code",
   "execution_count": 10,
   "metadata": {
    "ExecuteTime": {
     "end_time": "2021-08-04T20:39:57.972405Z",
     "start_time": "2021-08-04T20:39:57.968637Z"
    }
   },
   "outputs": [],
   "source": [
    "# aggregating col names from the one hot encode \n",
    "cat_names = pp.transformers_[1][1].named_steps['ohe'].get_feature_names(X_cat).tolist()\n",
    "feature_names= list(X_num) + cat_names\n",
    "\n",
    "# renaming the data frame with corresponding col names\n",
    "X_train_scaled = pd.DataFrame(X_train_scaled, columns = feature_names)\n",
    "X_test_scaled = pd.DataFrame(X_test_scaled, columns=feature_names)"
   ]
  },
  {
   "cell_type": "code",
   "execution_count": 11,
   "metadata": {
    "ExecuteTime": {
     "end_time": "2021-08-04T20:39:57.990159Z",
     "start_time": "2021-08-04T20:39:57.975189Z"
    }
   },
   "outputs": [
    {
     "name": "stdout",
     "output_type": "stream",
     "text": [
      "log loss:  4.939045024472227\n",
      "accuracy:  0.857\n",
      "precision: 0.0\n",
      "recall:    0.0\n"
     ]
    },
    {
     "name": "stderr",
     "output_type": "stream",
     "text": [
      "/Users/arthur/opt/anaconda3/envs/learn-env/lib/python3.8/site-packages/sklearn/metrics/_classification.py:1221: UndefinedMetricWarning: Precision is ill-defined and being set to 0.0 due to no predicted samples. Use `zero_division` parameter to control this behavior.\n",
      "  _warn_prf(average, modifier, msg_start, len(result))\n"
     ]
    }
   ],
   "source": [
    "##DUMMY insert\n",
    "dummy_clf = DummyClassifier(strategy=\"most_frequent\")\n",
    "dummy_clf.fit(X_train_scaled, y_train)\n",
    "\n",
    "y_preds_dum= dummy_clf.predict(X_test)\n",
    "\n",
    "scores(y_test, y_preds_dum)"
   ]
  },
  {
   "cell_type": "markdown",
   "metadata": {},
   "source": [
    "## Model 1:  Log Regression"
   ]
  },
  {
   "cell_type": "code",
   "execution_count": 13,
   "metadata": {
    "ExecuteTime": {
     "end_time": "2021-08-03T21:31:47.126453Z",
     "start_time": "2021-08-03T21:31:46.840016Z"
    }
   },
   "outputs": [
    {
     "name": "stdout",
     "output_type": "stream",
     "text": [
      "0.8636884138552169\n"
     ]
    }
   ],
   "source": [
    "## used a baseline log regression model to test out the data\n",
    "\n",
    "\n",
    "logreg_baseline = LogisticRegression(random_state=42, max_iter=2000)#look into warning\n",
    "\n",
    "logreg_baseline.fit(X_train_scaled, y_train)\n",
    "\n",
    "logreg_baseline_cv = cross_val_score(logreg_baseline, X_train_scaled, y_train).mean()\n",
    "print(logreg_baseline_cv)"
   ]
  },
  {
   "cell_type": "code",
   "execution_count": 14,
   "metadata": {
    "ExecuteTime": {
     "end_time": "2021-08-03T21:31:47.136354Z",
     "start_time": "2021-08-03T21:31:47.128161Z"
    }
   },
   "outputs": [
    {
     "name": "stdout",
     "output_type": "stream",
     "text": [
      "0.8769824260608658\n",
      "0.867\n"
     ]
    }
   ],
   "source": [
    "print(logreg_baseline.score(X_train_scaled, y_train))\n",
    "print(logreg_baseline.score(X_test_scaled, y_test))"
   ]
  },
  {
   "cell_type": "code",
   "execution_count": 168,
   "metadata": {
    "ExecuteTime": {
     "end_time": "2021-08-04T14:40:39.539581Z",
     "start_time": "2021-08-04T14:40:39.520337Z"
    }
   },
   "outputs": [
    {
     "name": "stdout",
     "output_type": "stream",
     "text": [
      "log loss:  4.593675651264016\n",
      "accuracy:  0.867\n",
      "precision: 0.5892857142857143\n",
      "recall:    0.23076923076923078\n"
     ]
    }
   ],
   "source": [
    "y_preds_log = logreg_baseline.predict(X_test_scaled)\n",
    "scores(y_test, y_preds_log)"
   ]
  },
  {
   "cell_type": "markdown",
   "metadata": {},
   "source": [
    "### Not terrible results for the first model"
   ]
  },
  {
   "cell_type": "markdown",
   "metadata": {},
   "source": [
    "#### But we have decided to look at recall for our metric. As a telecom company trying to reduce churn, we care about the recall of our model. Recall is defined as the TP/(TP+FN). We are trying to minimize False Negatives (FN) here, meaning that we want to reduce the number of people that our model predicts will churn but are not actually likely to. This is because we want to send out promotions to retain customers and we do not want to offer discounts to people that were already satisfied"
   ]
  },
  {
   "cell_type": "markdown",
   "metadata": {
    "ExecuteTime": {
     "end_time": "2021-08-03T21:22:48.539690Z",
     "start_time": "2021-08-03T21:22:48.536855Z"
    }
   },
   "source": [
    "## Model 2: K-Nearest Neighbors and Grid Search without SMOTE"
   ]
  },
  {
   "cell_type": "code",
   "execution_count": 302,
   "metadata": {
    "ExecuteTime": {
     "end_time": "2021-08-04T17:19:34.229815Z",
     "start_time": "2021-08-04T17:17:02.308682Z"
    }
   },
   "outputs": [
    {
     "data": {
      "text/plain": [
       "{'n_neighbors': 7, 'p': 1, 'weights': 'uniform'}"
      ]
     },
     "execution_count": 302,
     "metadata": {},
     "output_type": "execute_result"
    }
   ],
   "source": [
    "\n",
    "### initate the model with no parameters\n",
    "\n",
    "knn_model = KNeighborsClassifier()\n",
    "\n",
    "\n",
    "# initiate grid and grid search\n",
    "param_grid = {\n",
    "    'n_neighbors': list(range(1, 20, 2)),\n",
    "    'weights': ['uniform', 'distance'],\n",
    "    'p': [1, 2, 3, 4],\n",
    "}\n",
    "\n",
    "\n",
    "gs_knn = GridSearchCV(knn_model, param_grid=param_grid, cv=5)\n",
    "gs_knn.fit(X_train_scaled, y_train)\n",
    "\n",
    "gs_knn.best_params_"
   ]
  },
  {
   "cell_type": "code",
   "execution_count": 16,
   "metadata": {
    "ExecuteTime": {
     "end_time": "2021-08-03T21:34:45.669703Z",
     "start_time": "2021-08-03T21:34:44.741407Z"
    }
   },
   "outputs": [
    {
     "data": {
      "text/plain": [
       "0.9074153450492928"
      ]
     },
     "execution_count": 16,
     "metadata": {},
     "output_type": "execute_result"
    }
   ],
   "source": [
    "gs_knn.score(X_train_scaled, y_train)"
   ]
  },
  {
   "cell_type": "code",
   "execution_count": 17,
   "metadata": {
    "ExecuteTime": {
     "end_time": "2021-08-03T21:34:46.089753Z",
     "start_time": "2021-08-03T21:34:45.671472Z"
    }
   },
   "outputs": [
    {
     "data": {
      "text/plain": [
       "0.901"
      ]
     },
     "execution_count": 17,
     "metadata": {},
     "output_type": "execute_result"
    }
   ],
   "source": [
    "gs_knn.score(X_test_scaled, y_test)"
   ]
  },
  {
   "cell_type": "code",
   "execution_count": 19,
   "metadata": {
    "ExecuteTime": {
     "end_time": "2021-08-03T21:34:47.318697Z",
     "start_time": "2021-08-03T21:34:47.307537Z"
    }
   },
   "outputs": [
    {
     "name": "stdout",
     "output_type": "stream",
     "text": [
      "              precision    recall  f1-score   support\n",
      "\n",
      "           0       0.91      1.00      0.95      1993\n",
      "           1       0.94      0.39      0.55       340\n",
      "\n",
      "    accuracy                           0.91      2333\n",
      "   macro avg       0.92      0.69      0.75      2333\n",
      "weighted avg       0.91      0.91      0.89      2333\n",
      "\n"
     ]
    }
   ],
   "source": [
    "print(classification_report(y_train, y_train_preds))"
   ]
  },
  {
   "cell_type": "code",
   "execution_count": 20,
   "metadata": {
    "ExecuteTime": {
     "end_time": "2021-08-03T21:34:47.328772Z",
     "start_time": "2021-08-03T21:34:47.321081Z"
    }
   },
   "outputs": [
    {
     "name": "stdout",
     "output_type": "stream",
     "text": [
      "              precision    recall  f1-score   support\n",
      "\n",
      "           0       0.90      1.00      0.95       857\n",
      "           1       0.96      0.32      0.48       143\n",
      "\n",
      "    accuracy                           0.90      1000\n",
      "   macro avg       0.93      0.66      0.71      1000\n",
      "weighted avg       0.91      0.90      0.88      1000\n",
      "\n"
     ]
    }
   ],
   "source": [
    "print(classification_report(y_test, y_test_preds))"
   ]
  },
  {
   "cell_type": "code",
   "execution_count": 21,
   "metadata": {
    "ExecuteTime": {
     "end_time": "2021-08-03T21:34:47.337102Z",
     "start_time": "2021-08-03T21:34:47.330858Z"
    }
   },
   "outputs": [
    {
     "name": "stdout",
     "output_type": "stream",
     "text": [
      "[[1985    8]\n",
      " [ 208  132]]\n"
     ]
    }
   ],
   "source": [
    "print(confusion_matrix(y_train, y_train_preds))"
   ]
  },
  {
   "cell_type": "code",
   "execution_count": 22,
   "metadata": {
    "ExecuteTime": {
     "end_time": "2021-08-03T21:34:47.348347Z",
     "start_time": "2021-08-03T21:34:47.342287Z"
    }
   },
   "outputs": [
    {
     "name": "stdout",
     "output_type": "stream",
     "text": [
      "[[855   2]\n",
      " [ 97  46]]\n"
     ]
    }
   ],
   "source": [
    "print(confusion_matrix(y_test, y_test_preds))"
   ]
  },
  {
   "cell_type": "markdown",
   "metadata": {},
   "source": [
    "Our recall score came out too low and maybe this was caused because of a class imbalance. Now we will try to use SMOTE to reduce that"
   ]
  },
  {
   "cell_type": "markdown",
   "metadata": {},
   "source": [
    "## Model 3: K-Nearest Neighbors and Grid Search with SMOTE"
   ]
  },
  {
   "cell_type": "code",
   "execution_count": 304,
   "metadata": {
    "ExecuteTime": {
     "end_time": "2021-08-04T17:23:45.216172Z",
     "start_time": "2021-08-04T17:23:45.207966Z"
    }
   },
   "outputs": [
    {
     "data": {
      "text/plain": [
       "0.17"
      ]
     },
     "execution_count": 304,
     "metadata": {},
     "output_type": "execute_result"
    }
   ],
   "source": [
    "# calculate the current ratio of imbalance for SMOTE \n",
    "round(len(y_train[y_train==1])/len(y_train[y_train==0]),2)"
   ]
  },
  {
   "cell_type": "code",
   "execution_count": 305,
   "metadata": {
    "ExecuteTime": {
     "end_time": "2021-08-04T17:23:45.737047Z",
     "start_time": "2021-08-04T17:23:45.535769Z"
    }
   },
   "outputs": [],
   "source": [
    "# SMOTE the categorical columns by their index\n",
    "smote = SMOTENC([28, 29, 30, 31, 32, 33, 34],random_state=42, sampling_strategy=0.5)\n",
    "# X_train_resampled, y_train_resampled = smote.fit_sample(X_train_scaled, y_train)"
   ]
  },
  {
   "cell_type": "code",
   "execution_count": 345,
   "metadata": {
    "ExecuteTime": {
     "end_time": "2021-08-04T18:36:09.627859Z",
     "start_time": "2021-08-04T18:36:09.620243Z"
    }
   },
   "outputs": [],
   "source": [
    "\n",
    "# Rerun the KNN Model with SMOTED DATA\n",
    "\n",
    "knn_model_smote = imbpipeline(steps=[\n",
    "        (\"Preprocess\", pp),\n",
    "        ('sampling', smote),\n",
    "        ('knn', KNeighborsClassifier())\n",
    "    ])\n",
    "\n",
    "#perform a grid search again to see if criteria changed\n",
    "param_grid = {\n",
    "    'n_neighbors': list(range(80, 100, 2)),\n",
    "    'weights': ['uniform', 'distance'],\n",
    "    'p': [1, 2, 3, 4],\n",
    "}\n",
    "\n",
    "gs_knn = GridSearchCV(knn_model_smote, param_grid, cv=5, scoring='recall')\n",
    "# gs_knn.fit(X_train_resampled, y_train_resampled)\n",
    "\n",
    "# gs_knn.best_params_"
   ]
  },
  {
   "cell_type": "code",
   "execution_count": 346,
   "metadata": {
    "ExecuteTime": {
     "end_time": "2021-08-04T18:36:10.241954Z",
     "start_time": "2021-08-04T18:36:10.173823Z"
    }
   },
   "outputs": [
    {
     "ename": "ValueError",
     "evalue": "Invalid parameter weights for estimator Pipeline(steps=[('Preprocess',\n                 ColumnTransformer(transformers=[('num',\n                                                  Pipeline(steps=[('scaler',\n                                                                   StandardScaler())]),\n                                                  Index(['account_length', 'number_vmail_messages', 'total_day_minutes',\n       'total_day_calls', 'total_day_charge', 'total_eve_minutes',\n       'total_eve_calls', 'total_eve_charge', 'total_night_minutes',\n       'total_night_calls', 'total_night_charge', 'total_int...\n       'charge_per_min_int', '%_int_min', 'call_satisfaction'],\n      dtype='object')),\n                                                 ('cat',\n                                                  Pipeline(steps=[('ohe',\n                                                                   OneHotEncoder(drop='first',\n                                                                                 sparse=False))]),\n                                                  Index(['state', 'area_code', 'international_plan', 'voice_mail_plan',\n       'region'],\n      dtype='object'))])),\n                ('sampling',\n                 SMOTENC(categorical_features=[28, 29, 30, 31, 32, 33, 34],\n                         random_state=42, sampling_strategy=0.5)),\n                ('knn', KNeighborsClassifier())]). Check the list of available parameters with `estimator.get_params().keys()`.",
     "output_type": "error",
     "traceback": [
      "\u001b[0;31m---------------------------------------------------------------------------\u001b[0m",
      "\u001b[0;31mValueError\u001b[0m                                Traceback (most recent call last)",
      "\u001b[0;32m<ipython-input-346-6e5349521fab>\u001b[0m in \u001b[0;36m<module>\u001b[0;34m\u001b[0m\n\u001b[0;32m----> 1\u001b[0;31m \u001b[0mgs_knn\u001b[0m\u001b[0;34m.\u001b[0m\u001b[0mfit\u001b[0m\u001b[0;34m(\u001b[0m\u001b[0mX_train\u001b[0m\u001b[0;34m,\u001b[0m \u001b[0my_train\u001b[0m\u001b[0;34m)\u001b[0m\u001b[0;34m\u001b[0m\u001b[0;34m\u001b[0m\u001b[0m\n\u001b[0m\u001b[1;32m      2\u001b[0m \u001b[0;34m\u001b[0m\u001b[0m\n\u001b[1;32m      3\u001b[0m \u001b[0;31m# gs_knn.best_params_\u001b[0m\u001b[0;34m\u001b[0m\u001b[0;34m\u001b[0m\u001b[0;34m\u001b[0m\u001b[0m\n",
      "\u001b[0;32m~/opt/anaconda3/envs/learn-env/lib/python3.8/site-packages/sklearn/utils/validation.py\u001b[0m in \u001b[0;36minner_f\u001b[0;34m(*args, **kwargs)\u001b[0m\n\u001b[1;32m     70\u001b[0m                           FutureWarning)\n\u001b[1;32m     71\u001b[0m         \u001b[0mkwargs\u001b[0m\u001b[0;34m.\u001b[0m\u001b[0mupdate\u001b[0m\u001b[0;34m(\u001b[0m\u001b[0;34m{\u001b[0m\u001b[0mk\u001b[0m\u001b[0;34m:\u001b[0m \u001b[0marg\u001b[0m \u001b[0;32mfor\u001b[0m \u001b[0mk\u001b[0m\u001b[0;34m,\u001b[0m \u001b[0marg\u001b[0m \u001b[0;32min\u001b[0m \u001b[0mzip\u001b[0m\u001b[0;34m(\u001b[0m\u001b[0msig\u001b[0m\u001b[0;34m.\u001b[0m\u001b[0mparameters\u001b[0m\u001b[0;34m,\u001b[0m \u001b[0margs\u001b[0m\u001b[0;34m)\u001b[0m\u001b[0;34m}\u001b[0m\u001b[0;34m)\u001b[0m\u001b[0;34m\u001b[0m\u001b[0;34m\u001b[0m\u001b[0m\n\u001b[0;32m---> 72\u001b[0;31m         \u001b[0;32mreturn\u001b[0m \u001b[0mf\u001b[0m\u001b[0;34m(\u001b[0m\u001b[0;34m**\u001b[0m\u001b[0mkwargs\u001b[0m\u001b[0;34m)\u001b[0m\u001b[0;34m\u001b[0m\u001b[0;34m\u001b[0m\u001b[0m\n\u001b[0m\u001b[1;32m     73\u001b[0m     \u001b[0;32mreturn\u001b[0m \u001b[0minner_f\u001b[0m\u001b[0;34m\u001b[0m\u001b[0;34m\u001b[0m\u001b[0m\n\u001b[1;32m     74\u001b[0m \u001b[0;34m\u001b[0m\u001b[0m\n",
      "\u001b[0;32m~/opt/anaconda3/envs/learn-env/lib/python3.8/site-packages/sklearn/model_selection/_search.py\u001b[0m in \u001b[0;36mfit\u001b[0;34m(self, X, y, groups, **fit_params)\u001b[0m\n\u001b[1;32m    734\u001b[0m                 \u001b[0;32mreturn\u001b[0m \u001b[0mresults\u001b[0m\u001b[0;34m\u001b[0m\u001b[0;34m\u001b[0m\u001b[0m\n\u001b[1;32m    735\u001b[0m \u001b[0;34m\u001b[0m\u001b[0m\n\u001b[0;32m--> 736\u001b[0;31m             \u001b[0mself\u001b[0m\u001b[0;34m.\u001b[0m\u001b[0m_run_search\u001b[0m\u001b[0;34m(\u001b[0m\u001b[0mevaluate_candidates\u001b[0m\u001b[0;34m)\u001b[0m\u001b[0;34m\u001b[0m\u001b[0;34m\u001b[0m\u001b[0m\n\u001b[0m\u001b[1;32m    737\u001b[0m \u001b[0;34m\u001b[0m\u001b[0m\n\u001b[1;32m    738\u001b[0m         \u001b[0;31m# For multi-metric evaluation, store the best_index_, best_params_ and\u001b[0m\u001b[0;34m\u001b[0m\u001b[0;34m\u001b[0m\u001b[0;34m\u001b[0m\u001b[0m\n",
      "\u001b[0;32m~/opt/anaconda3/envs/learn-env/lib/python3.8/site-packages/sklearn/model_selection/_search.py\u001b[0m in \u001b[0;36m_run_search\u001b[0;34m(self, evaluate_candidates)\u001b[0m\n\u001b[1;32m   1186\u001b[0m     \u001b[0;32mdef\u001b[0m \u001b[0m_run_search\u001b[0m\u001b[0;34m(\u001b[0m\u001b[0mself\u001b[0m\u001b[0;34m,\u001b[0m \u001b[0mevaluate_candidates\u001b[0m\u001b[0;34m)\u001b[0m\u001b[0;34m:\u001b[0m\u001b[0;34m\u001b[0m\u001b[0;34m\u001b[0m\u001b[0m\n\u001b[1;32m   1187\u001b[0m         \u001b[0;34m\"\"\"Search all candidates in param_grid\"\"\"\u001b[0m\u001b[0;34m\u001b[0m\u001b[0;34m\u001b[0m\u001b[0m\n\u001b[0;32m-> 1188\u001b[0;31m         \u001b[0mevaluate_candidates\u001b[0m\u001b[0;34m(\u001b[0m\u001b[0mParameterGrid\u001b[0m\u001b[0;34m(\u001b[0m\u001b[0mself\u001b[0m\u001b[0;34m.\u001b[0m\u001b[0mparam_grid\u001b[0m\u001b[0;34m)\u001b[0m\u001b[0;34m)\u001b[0m\u001b[0;34m\u001b[0m\u001b[0;34m\u001b[0m\u001b[0m\n\u001b[0m\u001b[1;32m   1189\u001b[0m \u001b[0;34m\u001b[0m\u001b[0m\n\u001b[1;32m   1190\u001b[0m \u001b[0;34m\u001b[0m\u001b[0m\n",
      "\u001b[0;32m~/opt/anaconda3/envs/learn-env/lib/python3.8/site-packages/sklearn/model_selection/_search.py\u001b[0m in \u001b[0;36mevaluate_candidates\u001b[0;34m(candidate_params)\u001b[0m\n\u001b[1;32m    706\u001b[0m                               n_splits, n_candidates, n_candidates * n_splits))\n\u001b[1;32m    707\u001b[0m \u001b[0;34m\u001b[0m\u001b[0m\n\u001b[0;32m--> 708\u001b[0;31m                 out = parallel(delayed(_fit_and_score)(clone(base_estimator),\n\u001b[0m\u001b[1;32m    709\u001b[0m                                                        \u001b[0mX\u001b[0m\u001b[0;34m,\u001b[0m \u001b[0my\u001b[0m\u001b[0;34m,\u001b[0m\u001b[0;34m\u001b[0m\u001b[0;34m\u001b[0m\u001b[0m\n\u001b[1;32m    710\u001b[0m                                                        \u001b[0mtrain\u001b[0m\u001b[0;34m=\u001b[0m\u001b[0mtrain\u001b[0m\u001b[0;34m,\u001b[0m \u001b[0mtest\u001b[0m\u001b[0;34m=\u001b[0m\u001b[0mtest\u001b[0m\u001b[0;34m,\u001b[0m\u001b[0;34m\u001b[0m\u001b[0;34m\u001b[0m\u001b[0m\n",
      "\u001b[0;32m~/opt/anaconda3/envs/learn-env/lib/python3.8/site-packages/joblib/parallel.py\u001b[0m in \u001b[0;36m__call__\u001b[0;34m(self, iterable)\u001b[0m\n\u001b[1;32m   1046\u001b[0m             \u001b[0;31m# remaining jobs.\u001b[0m\u001b[0;34m\u001b[0m\u001b[0;34m\u001b[0m\u001b[0;34m\u001b[0m\u001b[0m\n\u001b[1;32m   1047\u001b[0m             \u001b[0mself\u001b[0m\u001b[0;34m.\u001b[0m\u001b[0m_iterating\u001b[0m \u001b[0;34m=\u001b[0m \u001b[0;32mFalse\u001b[0m\u001b[0;34m\u001b[0m\u001b[0;34m\u001b[0m\u001b[0m\n\u001b[0;32m-> 1048\u001b[0;31m             \u001b[0;32mif\u001b[0m \u001b[0mself\u001b[0m\u001b[0;34m.\u001b[0m\u001b[0mdispatch_one_batch\u001b[0m\u001b[0;34m(\u001b[0m\u001b[0miterator\u001b[0m\u001b[0;34m)\u001b[0m\u001b[0;34m:\u001b[0m\u001b[0;34m\u001b[0m\u001b[0;34m\u001b[0m\u001b[0m\n\u001b[0m\u001b[1;32m   1049\u001b[0m                 \u001b[0mself\u001b[0m\u001b[0;34m.\u001b[0m\u001b[0m_iterating\u001b[0m \u001b[0;34m=\u001b[0m \u001b[0mself\u001b[0m\u001b[0;34m.\u001b[0m\u001b[0m_original_iterator\u001b[0m \u001b[0;32mis\u001b[0m \u001b[0;32mnot\u001b[0m \u001b[0;32mNone\u001b[0m\u001b[0;34m\u001b[0m\u001b[0;34m\u001b[0m\u001b[0m\n\u001b[1;32m   1050\u001b[0m \u001b[0;34m\u001b[0m\u001b[0m\n",
      "\u001b[0;32m~/opt/anaconda3/envs/learn-env/lib/python3.8/site-packages/joblib/parallel.py\u001b[0m in \u001b[0;36mdispatch_one_batch\u001b[0;34m(self, iterator)\u001b[0m\n\u001b[1;32m    864\u001b[0m                 \u001b[0;32mreturn\u001b[0m \u001b[0;32mFalse\u001b[0m\u001b[0;34m\u001b[0m\u001b[0;34m\u001b[0m\u001b[0m\n\u001b[1;32m    865\u001b[0m             \u001b[0;32melse\u001b[0m\u001b[0;34m:\u001b[0m\u001b[0;34m\u001b[0m\u001b[0;34m\u001b[0m\u001b[0m\n\u001b[0;32m--> 866\u001b[0;31m                 \u001b[0mself\u001b[0m\u001b[0;34m.\u001b[0m\u001b[0m_dispatch\u001b[0m\u001b[0;34m(\u001b[0m\u001b[0mtasks\u001b[0m\u001b[0;34m)\u001b[0m\u001b[0;34m\u001b[0m\u001b[0;34m\u001b[0m\u001b[0m\n\u001b[0m\u001b[1;32m    867\u001b[0m                 \u001b[0;32mreturn\u001b[0m \u001b[0;32mTrue\u001b[0m\u001b[0;34m\u001b[0m\u001b[0;34m\u001b[0m\u001b[0m\n\u001b[1;32m    868\u001b[0m \u001b[0;34m\u001b[0m\u001b[0m\n",
      "\u001b[0;32m~/opt/anaconda3/envs/learn-env/lib/python3.8/site-packages/joblib/parallel.py\u001b[0m in \u001b[0;36m_dispatch\u001b[0;34m(self, batch)\u001b[0m\n\u001b[1;32m    782\u001b[0m         \u001b[0;32mwith\u001b[0m \u001b[0mself\u001b[0m\u001b[0;34m.\u001b[0m\u001b[0m_lock\u001b[0m\u001b[0;34m:\u001b[0m\u001b[0;34m\u001b[0m\u001b[0;34m\u001b[0m\u001b[0m\n\u001b[1;32m    783\u001b[0m             \u001b[0mjob_idx\u001b[0m \u001b[0;34m=\u001b[0m \u001b[0mlen\u001b[0m\u001b[0;34m(\u001b[0m\u001b[0mself\u001b[0m\u001b[0;34m.\u001b[0m\u001b[0m_jobs\u001b[0m\u001b[0;34m)\u001b[0m\u001b[0;34m\u001b[0m\u001b[0;34m\u001b[0m\u001b[0m\n\u001b[0;32m--> 784\u001b[0;31m             \u001b[0mjob\u001b[0m \u001b[0;34m=\u001b[0m \u001b[0mself\u001b[0m\u001b[0;34m.\u001b[0m\u001b[0m_backend\u001b[0m\u001b[0;34m.\u001b[0m\u001b[0mapply_async\u001b[0m\u001b[0;34m(\u001b[0m\u001b[0mbatch\u001b[0m\u001b[0;34m,\u001b[0m \u001b[0mcallback\u001b[0m\u001b[0;34m=\u001b[0m\u001b[0mcb\u001b[0m\u001b[0;34m)\u001b[0m\u001b[0;34m\u001b[0m\u001b[0;34m\u001b[0m\u001b[0m\n\u001b[0m\u001b[1;32m    785\u001b[0m             \u001b[0;31m# A job can complete so quickly than its callback is\u001b[0m\u001b[0;34m\u001b[0m\u001b[0;34m\u001b[0m\u001b[0;34m\u001b[0m\u001b[0m\n\u001b[1;32m    786\u001b[0m             \u001b[0;31m# called before we get here, causing self._jobs to\u001b[0m\u001b[0;34m\u001b[0m\u001b[0;34m\u001b[0m\u001b[0;34m\u001b[0m\u001b[0m\n",
      "\u001b[0;32m~/opt/anaconda3/envs/learn-env/lib/python3.8/site-packages/joblib/_parallel_backends.py\u001b[0m in \u001b[0;36mapply_async\u001b[0;34m(self, func, callback)\u001b[0m\n\u001b[1;32m    206\u001b[0m     \u001b[0;32mdef\u001b[0m \u001b[0mapply_async\u001b[0m\u001b[0;34m(\u001b[0m\u001b[0mself\u001b[0m\u001b[0;34m,\u001b[0m \u001b[0mfunc\u001b[0m\u001b[0;34m,\u001b[0m \u001b[0mcallback\u001b[0m\u001b[0;34m=\u001b[0m\u001b[0;32mNone\u001b[0m\u001b[0;34m)\u001b[0m\u001b[0;34m:\u001b[0m\u001b[0;34m\u001b[0m\u001b[0;34m\u001b[0m\u001b[0m\n\u001b[1;32m    207\u001b[0m         \u001b[0;34m\"\"\"Schedule a func to be run\"\"\"\u001b[0m\u001b[0;34m\u001b[0m\u001b[0;34m\u001b[0m\u001b[0m\n\u001b[0;32m--> 208\u001b[0;31m         \u001b[0mresult\u001b[0m \u001b[0;34m=\u001b[0m \u001b[0mImmediateResult\u001b[0m\u001b[0;34m(\u001b[0m\u001b[0mfunc\u001b[0m\u001b[0;34m)\u001b[0m\u001b[0;34m\u001b[0m\u001b[0;34m\u001b[0m\u001b[0m\n\u001b[0m\u001b[1;32m    209\u001b[0m         \u001b[0;32mif\u001b[0m \u001b[0mcallback\u001b[0m\u001b[0;34m:\u001b[0m\u001b[0;34m\u001b[0m\u001b[0;34m\u001b[0m\u001b[0m\n\u001b[1;32m    210\u001b[0m             \u001b[0mcallback\u001b[0m\u001b[0;34m(\u001b[0m\u001b[0mresult\u001b[0m\u001b[0;34m)\u001b[0m\u001b[0;34m\u001b[0m\u001b[0;34m\u001b[0m\u001b[0m\n",
      "\u001b[0;32m~/opt/anaconda3/envs/learn-env/lib/python3.8/site-packages/joblib/_parallel_backends.py\u001b[0m in \u001b[0;36m__init__\u001b[0;34m(self, batch)\u001b[0m\n\u001b[1;32m    570\u001b[0m         \u001b[0;31m# Don't delay the application, to avoid keeping the input\u001b[0m\u001b[0;34m\u001b[0m\u001b[0;34m\u001b[0m\u001b[0;34m\u001b[0m\u001b[0m\n\u001b[1;32m    571\u001b[0m         \u001b[0;31m# arguments in memory\u001b[0m\u001b[0;34m\u001b[0m\u001b[0;34m\u001b[0m\u001b[0;34m\u001b[0m\u001b[0m\n\u001b[0;32m--> 572\u001b[0;31m         \u001b[0mself\u001b[0m\u001b[0;34m.\u001b[0m\u001b[0mresults\u001b[0m \u001b[0;34m=\u001b[0m \u001b[0mbatch\u001b[0m\u001b[0;34m(\u001b[0m\u001b[0;34m)\u001b[0m\u001b[0;34m\u001b[0m\u001b[0;34m\u001b[0m\u001b[0m\n\u001b[0m\u001b[1;32m    573\u001b[0m \u001b[0;34m\u001b[0m\u001b[0m\n\u001b[1;32m    574\u001b[0m     \u001b[0;32mdef\u001b[0m \u001b[0mget\u001b[0m\u001b[0;34m(\u001b[0m\u001b[0mself\u001b[0m\u001b[0;34m)\u001b[0m\u001b[0;34m:\u001b[0m\u001b[0;34m\u001b[0m\u001b[0;34m\u001b[0m\u001b[0m\n",
      "\u001b[0;32m~/opt/anaconda3/envs/learn-env/lib/python3.8/site-packages/joblib/parallel.py\u001b[0m in \u001b[0;36m__call__\u001b[0;34m(self)\u001b[0m\n\u001b[1;32m    260\u001b[0m         \u001b[0;31m# change the default number of processes to -1\u001b[0m\u001b[0;34m\u001b[0m\u001b[0;34m\u001b[0m\u001b[0;34m\u001b[0m\u001b[0m\n\u001b[1;32m    261\u001b[0m         \u001b[0;32mwith\u001b[0m \u001b[0mparallel_backend\u001b[0m\u001b[0;34m(\u001b[0m\u001b[0mself\u001b[0m\u001b[0;34m.\u001b[0m\u001b[0m_backend\u001b[0m\u001b[0;34m,\u001b[0m \u001b[0mn_jobs\u001b[0m\u001b[0;34m=\u001b[0m\u001b[0mself\u001b[0m\u001b[0;34m.\u001b[0m\u001b[0m_n_jobs\u001b[0m\u001b[0;34m)\u001b[0m\u001b[0;34m:\u001b[0m\u001b[0;34m\u001b[0m\u001b[0;34m\u001b[0m\u001b[0m\n\u001b[0;32m--> 262\u001b[0;31m             return [func(*args, **kwargs)\n\u001b[0m\u001b[1;32m    263\u001b[0m                     for func, args, kwargs in self.items]\n\u001b[1;32m    264\u001b[0m \u001b[0;34m\u001b[0m\u001b[0m\n",
      "\u001b[0;32m~/opt/anaconda3/envs/learn-env/lib/python3.8/site-packages/joblib/parallel.py\u001b[0m in \u001b[0;36m<listcomp>\u001b[0;34m(.0)\u001b[0m\n\u001b[1;32m    260\u001b[0m         \u001b[0;31m# change the default number of processes to -1\u001b[0m\u001b[0;34m\u001b[0m\u001b[0;34m\u001b[0m\u001b[0;34m\u001b[0m\u001b[0m\n\u001b[1;32m    261\u001b[0m         \u001b[0;32mwith\u001b[0m \u001b[0mparallel_backend\u001b[0m\u001b[0;34m(\u001b[0m\u001b[0mself\u001b[0m\u001b[0;34m.\u001b[0m\u001b[0m_backend\u001b[0m\u001b[0;34m,\u001b[0m \u001b[0mn_jobs\u001b[0m\u001b[0;34m=\u001b[0m\u001b[0mself\u001b[0m\u001b[0;34m.\u001b[0m\u001b[0m_n_jobs\u001b[0m\u001b[0;34m)\u001b[0m\u001b[0;34m:\u001b[0m\u001b[0;34m\u001b[0m\u001b[0;34m\u001b[0m\u001b[0m\n\u001b[0;32m--> 262\u001b[0;31m             return [func(*args, **kwargs)\n\u001b[0m\u001b[1;32m    263\u001b[0m                     for func, args, kwargs in self.items]\n\u001b[1;32m    264\u001b[0m \u001b[0;34m\u001b[0m\u001b[0m\n",
      "\u001b[0;32m~/opt/anaconda3/envs/learn-env/lib/python3.8/site-packages/sklearn/model_selection/_validation.py\u001b[0m in \u001b[0;36m_fit_and_score\u001b[0;34m(estimator, X, y, scorer, train, test, verbose, parameters, fit_params, return_train_score, return_parameters, return_n_test_samples, return_times, return_estimator, error_score)\u001b[0m\n\u001b[1;32m    518\u001b[0m             \u001b[0mcloned_parameters\u001b[0m\u001b[0;34m[\u001b[0m\u001b[0mk\u001b[0m\u001b[0;34m]\u001b[0m \u001b[0;34m=\u001b[0m \u001b[0mclone\u001b[0m\u001b[0;34m(\u001b[0m\u001b[0mv\u001b[0m\u001b[0;34m,\u001b[0m \u001b[0msafe\u001b[0m\u001b[0;34m=\u001b[0m\u001b[0;32mFalse\u001b[0m\u001b[0;34m)\u001b[0m\u001b[0;34m\u001b[0m\u001b[0;34m\u001b[0m\u001b[0m\n\u001b[1;32m    519\u001b[0m \u001b[0;34m\u001b[0m\u001b[0m\n\u001b[0;32m--> 520\u001b[0;31m         \u001b[0mestimator\u001b[0m \u001b[0;34m=\u001b[0m \u001b[0mestimator\u001b[0m\u001b[0;34m.\u001b[0m\u001b[0mset_params\u001b[0m\u001b[0;34m(\u001b[0m\u001b[0;34m**\u001b[0m\u001b[0mcloned_parameters\u001b[0m\u001b[0;34m)\u001b[0m\u001b[0;34m\u001b[0m\u001b[0;34m\u001b[0m\u001b[0m\n\u001b[0m\u001b[1;32m    521\u001b[0m \u001b[0;34m\u001b[0m\u001b[0m\n\u001b[1;32m    522\u001b[0m     \u001b[0mstart_time\u001b[0m \u001b[0;34m=\u001b[0m \u001b[0mtime\u001b[0m\u001b[0;34m.\u001b[0m\u001b[0mtime\u001b[0m\u001b[0;34m(\u001b[0m\u001b[0;34m)\u001b[0m\u001b[0;34m\u001b[0m\u001b[0;34m\u001b[0m\u001b[0m\n",
      "\u001b[0;32m~/opt/anaconda3/envs/learn-env/lib/python3.8/site-packages/sklearn/pipeline.py\u001b[0m in \u001b[0;36mset_params\u001b[0;34m(self, **kwargs)\u001b[0m\n\u001b[1;32m    139\u001b[0m         \u001b[0mself\u001b[0m\u001b[0;34m\u001b[0m\u001b[0;34m\u001b[0m\u001b[0m\n\u001b[1;32m    140\u001b[0m         \"\"\"\n\u001b[0;32m--> 141\u001b[0;31m         \u001b[0mself\u001b[0m\u001b[0;34m.\u001b[0m\u001b[0m_set_params\u001b[0m\u001b[0;34m(\u001b[0m\u001b[0;34m'steps'\u001b[0m\u001b[0;34m,\u001b[0m \u001b[0;34m**\u001b[0m\u001b[0mkwargs\u001b[0m\u001b[0;34m)\u001b[0m\u001b[0;34m\u001b[0m\u001b[0;34m\u001b[0m\u001b[0m\n\u001b[0m\u001b[1;32m    142\u001b[0m         \u001b[0;32mreturn\u001b[0m \u001b[0mself\u001b[0m\u001b[0;34m\u001b[0m\u001b[0;34m\u001b[0m\u001b[0m\n\u001b[1;32m    143\u001b[0m \u001b[0;34m\u001b[0m\u001b[0m\n",
      "\u001b[0;32m~/opt/anaconda3/envs/learn-env/lib/python3.8/site-packages/sklearn/utils/metaestimators.py\u001b[0m in \u001b[0;36m_set_params\u001b[0;34m(self, attr, **params)\u001b[0m\n\u001b[1;32m     51\u001b[0m                 \u001b[0mself\u001b[0m\u001b[0;34m.\u001b[0m\u001b[0m_replace_estimator\u001b[0m\u001b[0;34m(\u001b[0m\u001b[0mattr\u001b[0m\u001b[0;34m,\u001b[0m \u001b[0mname\u001b[0m\u001b[0;34m,\u001b[0m \u001b[0mparams\u001b[0m\u001b[0;34m.\u001b[0m\u001b[0mpop\u001b[0m\u001b[0;34m(\u001b[0m\u001b[0mname\u001b[0m\u001b[0;34m)\u001b[0m\u001b[0;34m)\u001b[0m\u001b[0;34m\u001b[0m\u001b[0;34m\u001b[0m\u001b[0m\n\u001b[1;32m     52\u001b[0m         \u001b[0;31m# 3. Step parameters and other initialisation arguments\u001b[0m\u001b[0;34m\u001b[0m\u001b[0;34m\u001b[0m\u001b[0;34m\u001b[0m\u001b[0m\n\u001b[0;32m---> 53\u001b[0;31m         \u001b[0msuper\u001b[0m\u001b[0;34m(\u001b[0m\u001b[0;34m)\u001b[0m\u001b[0;34m.\u001b[0m\u001b[0mset_params\u001b[0m\u001b[0;34m(\u001b[0m\u001b[0;34m**\u001b[0m\u001b[0mparams\u001b[0m\u001b[0;34m)\u001b[0m\u001b[0;34m\u001b[0m\u001b[0;34m\u001b[0m\u001b[0m\n\u001b[0m\u001b[1;32m     54\u001b[0m         \u001b[0;32mreturn\u001b[0m \u001b[0mself\u001b[0m\u001b[0;34m\u001b[0m\u001b[0;34m\u001b[0m\u001b[0m\n\u001b[1;32m     55\u001b[0m \u001b[0;34m\u001b[0m\u001b[0m\n",
      "\u001b[0;32m~/opt/anaconda3/envs/learn-env/lib/python3.8/site-packages/sklearn/base.py\u001b[0m in \u001b[0;36mset_params\u001b[0;34m(self, **params)\u001b[0m\n\u001b[1;32m    247\u001b[0m             \u001b[0mkey\u001b[0m\u001b[0;34m,\u001b[0m \u001b[0mdelim\u001b[0m\u001b[0;34m,\u001b[0m \u001b[0msub_key\u001b[0m \u001b[0;34m=\u001b[0m \u001b[0mkey\u001b[0m\u001b[0;34m.\u001b[0m\u001b[0mpartition\u001b[0m\u001b[0;34m(\u001b[0m\u001b[0;34m'__'\u001b[0m\u001b[0;34m)\u001b[0m\u001b[0;34m\u001b[0m\u001b[0;34m\u001b[0m\u001b[0m\n\u001b[1;32m    248\u001b[0m             \u001b[0;32mif\u001b[0m \u001b[0mkey\u001b[0m \u001b[0;32mnot\u001b[0m \u001b[0;32min\u001b[0m \u001b[0mvalid_params\u001b[0m\u001b[0;34m:\u001b[0m\u001b[0;34m\u001b[0m\u001b[0;34m\u001b[0m\u001b[0m\n\u001b[0;32m--> 249\u001b[0;31m                 raise ValueError('Invalid parameter %s for estimator %s. '\n\u001b[0m\u001b[1;32m    250\u001b[0m                                  \u001b[0;34m'Check the list of available parameters '\u001b[0m\u001b[0;34m\u001b[0m\u001b[0;34m\u001b[0m\u001b[0m\n\u001b[1;32m    251\u001b[0m                                  \u001b[0;34m'with `estimator.get_params().keys()`.'\u001b[0m \u001b[0;34m%\u001b[0m\u001b[0;34m\u001b[0m\u001b[0;34m\u001b[0m\u001b[0m\n",
      "\u001b[0;31mValueError\u001b[0m: Invalid parameter weights for estimator Pipeline(steps=[('Preprocess',\n                 ColumnTransformer(transformers=[('num',\n                                                  Pipeline(steps=[('scaler',\n                                                                   StandardScaler())]),\n                                                  Index(['account_length', 'number_vmail_messages', 'total_day_minutes',\n       'total_day_calls', 'total_day_charge', 'total_eve_minutes',\n       'total_eve_calls', 'total_eve_charge', 'total_night_minutes',\n       'total_night_calls', 'total_night_charge', 'total_int...\n       'charge_per_min_int', '%_int_min', 'call_satisfaction'],\n      dtype='object')),\n                                                 ('cat',\n                                                  Pipeline(steps=[('ohe',\n                                                                   OneHotEncoder(drop='first',\n                                                                                 sparse=False))]),\n                                                  Index(['state', 'area_code', 'international_plan', 'voice_mail_plan',\n       'region'],\n      dtype='object'))])),\n                ('sampling',\n                 SMOTENC(categorical_features=[28, 29, 30, 31, 32, 33, 34],\n                         random_state=42, sampling_strategy=0.5)),\n                ('knn', KNeighborsClassifier())]). Check the list of available parameters with `estimator.get_params().keys()`."
     ]
    }
   ],
   "source": [
    "gs_knn.fit(X_train, y_train)\n",
    "\n",
    "# gs_knn.best_params_"
   ]
  },
  {
   "cell_type": "code",
   "execution_count": 307,
   "metadata": {
    "ExecuteTime": {
     "end_time": "2021-08-04T17:28:30.135815Z",
     "start_time": "2021-08-04T17:28:29.484270Z"
    }
   },
   "outputs": [
    {
     "data": {
      "text/plain": [
       "1.0"
      ]
     },
     "execution_count": 307,
     "metadata": {},
     "output_type": "execute_result"
    }
   ],
   "source": [
    "gs_knn.score(X_train_scaled, y_train)"
   ]
  },
  {
   "cell_type": "code",
   "execution_count": 308,
   "metadata": {
    "ExecuteTime": {
     "end_time": "2021-08-04T17:28:31.343055Z",
     "start_time": "2021-08-04T17:28:31.037163Z"
    }
   },
   "outputs": [
    {
     "data": {
      "text/plain": [
       "0.7062937062937062"
      ]
     },
     "execution_count": 308,
     "metadata": {},
     "output_type": "execute_result"
    }
   ],
   "source": [
    "gs_knn.score(X_test_scaled, y_test)"
   ]
  },
  {
   "cell_type": "code",
   "execution_count": 309,
   "metadata": {
    "ExecuteTime": {
     "end_time": "2021-08-04T17:28:37.363938Z",
     "start_time": "2021-08-04T17:28:36.449263Z"
    }
   },
   "outputs": [],
   "source": [
    "y_train_preds = gs_knn.predict(X_train_scaled)\n",
    "y_test_preds = gs_knn.predict(X_test_scaled)"
   ]
  },
  {
   "cell_type": "code",
   "execution_count": 310,
   "metadata": {
    "ExecuteTime": {
     "end_time": "2021-08-04T17:28:41.292697Z",
     "start_time": "2021-08-04T17:28:41.268378Z"
    }
   },
   "outputs": [
    {
     "name": "stdout",
     "output_type": "stream",
     "text": [
      "              precision    recall  f1-score   support\n",
      "\n",
      "           0       1.00      1.00      1.00      1993\n",
      "           1       1.00      1.00      1.00       340\n",
      "\n",
      "    accuracy                           1.00      2333\n",
      "   macro avg       1.00      1.00      1.00      2333\n",
      "weighted avg       1.00      1.00      1.00      2333\n",
      "\n"
     ]
    }
   ],
   "source": [
    "print(classification_report(y_train, y_train_preds))"
   ]
  },
  {
   "cell_type": "code",
   "execution_count": 311,
   "metadata": {
    "ExecuteTime": {
     "end_time": "2021-08-04T17:28:44.866685Z",
     "start_time": "2021-08-04T17:28:44.850710Z"
    }
   },
   "outputs": [
    {
     "name": "stdout",
     "output_type": "stream",
     "text": [
      "              precision    recall  f1-score   support\n",
      "\n",
      "           0       0.95      0.96      0.95       857\n",
      "           1       0.73      0.71      0.72       143\n",
      "\n",
      "    accuracy                           0.92      1000\n",
      "   macro avg       0.84      0.83      0.83      1000\n",
      "weighted avg       0.92      0.92      0.92      1000\n",
      "\n"
     ]
    }
   ],
   "source": [
    "print(classification_report(y_test, y_test_preds))"
   ]
  },
  {
   "cell_type": "code",
   "execution_count": 32,
   "metadata": {
    "ExecuteTime": {
     "end_time": "2021-08-03T21:38:59.114269Z",
     "start_time": "2021-08-03T21:38:59.108723Z"
    }
   },
   "outputs": [
    {
     "name": "stdout",
     "output_type": "stream",
     "text": [
      "[[722 135]\n",
      " [ 61  82]]\n"
     ]
    }
   ],
   "source": [
    "print(confusion_matrix(y_test, y_test_preds))"
   ]
  },
  {
   "cell_type": "markdown",
   "metadata": {},
   "source": [
    "## Decision Tree Model"
   ]
  },
  {
   "cell_type": "code",
   "execution_count": 73,
   "metadata": {
    "ExecuteTime": {
     "end_time": "2021-08-04T13:23:24.972038Z",
     "start_time": "2021-08-04T13:23:24.806798Z"
    }
   },
   "outputs": [
    {
     "name": "stdout",
     "output_type": "stream",
     "text": [
      "Mean Cross Val Score: 94.56%\n"
     ]
    }
   ],
   "source": [
    "#Instantiate a Decision Tree and perform 3-fold cross-validaiton on training data\n",
    "\n",
    "DT_clf = DecisionTreeClassifier() \n",
    "\n",
    "DT_cv_score = cross_val_score(DT_clf, X_train_scaled, y_train, cv=3)\n",
    "\n",
    "mean_DT_cv_score = np.mean(DT_cv_score)\n",
    "\n",
    "print(f\"Mean Cross Val Score: {mean_DT_cv_score:.2%}\")\n",
    "\n",
    "#Model did extremly well, perhaps a bit too well. We should take a look for any imbalances. "
   ]
  },
  {
   "cell_type": "code",
   "execution_count": null,
   "metadata": {},
   "outputs": [],
   "source": [
    "#Create grid search parameters and intantiate GridSearch CV. Create different parameters and then fit the data. \n",
    "\n",
    "# DT_clf = DecisionTreeClassifier() \n",
    "\n",
    "# param_grid = { \n",
    "#     'criterion': ['gini', 'entropy'],\n",
    "#     'max_depth': np.arange(1, 15, 2), #step up even higher \n",
    "#     'min_samples_split': np.arange(5, 120, 5),\n",
    "#     'min_samples_leaf': np.arange(5, 120,5)\n",
    "#     }\n",
    "\n",
    "# gs_DT_clf = GridSearchCV(DT_clf, param_grid = param_grid, n_jobs = -1, scoring = \"recall\", cv = 5)\n",
    "\n",
    "# gs_DT_clf.fit(X_train_scaled, y_train)\n",
    "    \n",
    "#SPECIFCY SCORING IN GRIDSEARCH TO RECALL? CURRENTLY ON ACCURACY: scoring = 'recall',  \n",
    "\n",
    "#consistency in paramgrid search rationale \n",
    "#random CV search \n",
    "\n",
    "#After running it best parameter = \n",
    "# {'criterion': 'entropy',\n",
    "#  'max_depth': 5,\n",
    "#  'min_samples_leaf': 10,\n",
    "#  'min_samples_split': 3}"
   ]
  },
  {
   "cell_type": "code",
   "execution_count": 77,
   "metadata": {
    "ExecuteTime": {
     "end_time": "2021-08-04T13:28:48.862667Z",
     "start_time": "2021-08-04T13:28:48.816378Z"
    }
   },
   "outputs": [],
   "source": [
    "best_DT_clf = DecisionTreeClassifier(criterion='entropy',\n",
    "                                    max_depth= 5,\n",
    "                                    min_samples_leaf= 10,\n",
    "                                    min_samples_split= 3) \n",
    "best_DT_clf.fit(X_train_scaled, y_train)\n",
    "\n",
    "y_train_preds = best_DT_clf.predict(X_train_scaled)\n",
    "y_test_preds = best_DT_clf.predict(X_test_scaled)\n"
   ]
  },
  {
   "cell_type": "code",
   "execution_count": 78,
   "metadata": {
    "ExecuteTime": {
     "end_time": "2021-08-04T13:29:20.650327Z",
     "start_time": "2021-08-04T13:29:20.620291Z"
    }
   },
   "outputs": [
    {
     "name": "stdout",
     "output_type": "stream",
     "text": [
      "              precision    recall  f1-score   support\n",
      "\n",
      "           0       0.97      1.00      0.98      1993\n",
      "           1       1.00      0.81      0.90       340\n",
      "\n",
      "    accuracy                           0.97      2333\n",
      "   macro avg       0.98      0.91      0.94      2333\n",
      "weighted avg       0.97      0.97      0.97      2333\n",
      "\n",
      "              precision    recall  f1-score   support\n",
      "\n",
      "           0       0.98      1.00      0.99       857\n",
      "           1       1.00      0.87      0.93       143\n",
      "\n",
      "    accuracy                           0.98      1000\n",
      "   macro avg       0.99      0.93      0.96      1000\n",
      "weighted avg       0.98      0.98      0.98      1000\n",
      "\n",
      "[[857   0]\n",
      " [ 19 124]]\n"
     ]
    }
   ],
   "source": [
    "print(classification_report(y_train, y_train_preds))\n",
    "print(classification_report(y_test, y_test_preds))\n",
    "print(confusion_matrix(y_test, y_test_preds))"
   ]
  },
  {
   "cell_type": "code",
   "execution_count": 79,
   "metadata": {
    "ExecuteTime": {
     "end_time": "2021-08-04T13:30:39.537565Z",
     "start_time": "2021-08-04T13:30:39.522386Z"
    }
   },
   "outputs": [
    {
     "data": {
      "text/plain": [
       "array([0.        , 0.        , 0.        , 0.        , 0.        ,\n",
       "       0.        , 0.        , 0.        , 0.        , 0.00637507,\n",
       "       0.        , 0.0616826 , 0.        , 0.        , 0.1521506 ,\n",
       "       0.        , 0.00577382, 0.        , 0.        , 0.        ,\n",
       "       0.4187382 , 0.        , 0.        , 0.        , 0.        ,\n",
       "       0.07633658, 0.        , 0.00295954, 0.        , 0.        ,\n",
       "       0.        , 0.        , 0.        , 0.        , 0.        ,\n",
       "       0.        , 0.        , 0.        , 0.        , 0.        ,\n",
       "       0.        , 0.        , 0.        , 0.        , 0.        ,\n",
       "       0.        , 0.        , 0.        , 0.        , 0.        ,\n",
       "       0.        , 0.        , 0.        , 0.        , 0.        ,\n",
       "       0.        , 0.        , 0.        , 0.        , 0.        ,\n",
       "       0.        , 0.        , 0.        , 0.        , 0.        ,\n",
       "       0.        , 0.        , 0.        , 0.        , 0.        ,\n",
       "       0.        , 0.        , 0.        , 0.        , 0.        ,\n",
       "       0.        , 0.        , 0.        , 0.        , 0.        ,\n",
       "       0.14084302, 0.13031396, 0.        , 0.00482659, 0.        ])"
      ]
     },
     "execution_count": 79,
     "metadata": {},
     "output_type": "execute_result"
    }
   ],
   "source": [
    "best_DT_clf.feature_importances_"
   ]
  },
  {
   "cell_type": "code",
   "execution_count": 84,
   "metadata": {
    "ExecuteTime": {
     "end_time": "2021-08-04T13:32:11.571792Z",
     "start_time": "2021-08-04T13:32:10.697301Z"
    }
   },
   "outputs": [
    {
     "data": {
      "image/png": "[encoded data removed]",
      "text/plain": [
       "<Figure size 576x1440 with 1 Axes>"
      ]
     },
     "metadata": {
      "needs_background": "light"
     },
     "output_type": "display_data"
    }
   ],
   "source": [
    "def plot_feature_importances(model):\n",
    "    n_features = X_train_scaled.shape[1]\n",
    "    plt.figure(figsize=(8,20))\n",
    "    plt.barh(range(n_features), model.feature_importances_, align='center') \n",
    "    plt.yticks(np.arange(n_features), X_train_scaled.columns.values) \n",
    "    plt.xlabel('Feature importance')\n",
    "    plt.ylabel('Feature')\n",
    "\n",
    "plot_feature_importances(best_DT_clf)"
   ]
  },
  {
   "cell_type": "markdown",
   "metadata": {},
   "source": [
    "# Bagging Model"
   ]
  },
  {
   "cell_type": "code",
   "execution_count": 87,
   "metadata": {
    "ExecuteTime": {
     "end_time": "2021-08-04T13:34:29.530831Z",
     "start_time": "2021-08-04T13:34:29.158241Z"
    }
   },
   "outputs": [
    {
     "data": {
      "text/plain": [
       "0.981"
      ]
     },
     "execution_count": 87,
     "metadata": {},
     "output_type": "execute_result"
    }
   ],
   "source": [
    "bagged_tree = BaggingClassifier(DecisionTreeClassifier(criterion = 'entropy', \n",
    "                                                       max_depth = 5, \n",
    "                                                       min_samples_leaf = 10, \n",
    "                                                       min_samples_split = 3), \n",
    "                                                       n_estimators = 20)\n",
    "\n",
    "#Fit the model on training data\n",
    "bagged_tree.fit(X_train_scaled, y_train)\n",
    "#Training accuracy score \n",
    "bagged_tree.score(X_train_scaled, y_train)\n",
    "#Test accuracy score\n",
    "bagged_tree.score(X_test_scaled, y_test)\n",
    "\n",
    "#make comment about overfit and why"
   ]
  },
  {
   "cell_type": "markdown",
   "metadata": {},
   "source": [
    "# Random Forest"
   ]
  },
  {
   "cell_type": "code",
   "execution_count": 89,
   "metadata": {
    "ExecuteTime": {
     "end_time": "2021-08-04T13:38:10.826047Z",
     "start_time": "2021-08-04T13:38:06.056472Z"
    }
   },
   "outputs": [
    {
     "data": {
      "text/plain": [
       "RandomForestClassifier(criterion='entropy', max_depth=10, min_samples_split=7,\n",
       "                       n_estimators=1150)"
      ]
     },
     "execution_count": 89,
     "metadata": {},
     "output_type": "execute_result"
    }
   ],
   "source": [
    "rf_model = RandomForestClassifier(criterion = 'entropy', \n",
    "                                  n_estimators = 1150, \n",
    "                                  max_depth=10, \n",
    "                                  bootstrap = True, \n",
    "                                  min_samples_split= 7)\n",
    "rf_model.fit(X_train_scaled, y_train)"
   ]
  },
  {
   "cell_type": "code",
   "execution_count": 95,
   "metadata": {
    "ExecuteTime": {
     "end_time": "2021-08-04T13:40:02.237600Z",
     "start_time": "2021-08-04T13:40:02.068785Z"
    }
   },
   "outputs": [
    {
     "name": "stdout",
     "output_type": "stream",
     "text": [
      "log loss:  1.3470122794015174\n",
      "accuracy:  0.961\n",
      "precision: 1.0\n",
      "recall:    0.7272727272727273\n"
     ]
    }
   ],
   "source": [
    "rf_preds = rf_model.predict(X_test_scaled)\n",
    "scores(y_test, rf_preds)"
   ]
  },
  {
   "cell_type": "code",
   "execution_count": 97,
   "metadata": {
    "ExecuteTime": {
     "end_time": "2021-08-04T13:44:53.647264Z",
     "start_time": "2021-08-04T13:41:51.698921Z"
    }
   },
   "outputs": [
    {
     "data": {
      "text/plain": [
       "GridSearchCV(cv=2,\n",
       "             estimator=RandomForestClassifier(criterion='entropy', max_depth=10,\n",
       "                                              min_samples_split=7,\n",
       "                                              n_estimators=1150),\n",
       "             param_grid={'max_depth': [8, 10], 'max_features': ['auto', 'sqrt'],\n",
       "                         'min_samples_leaf': [1, 2, 4],\n",
       "                         'min_samples_split': [2, 5, 7]})"
      ]
     },
     "execution_count": 97,
     "metadata": {},
     "output_type": "execute_result"
    }
   ],
   "source": [
    "# Grid Search for parameters, Played around with n_estimators before and found the optimal so excluded from this grid search\n",
    "grid = {        \n",
    " 'max_depth': [8,10],\n",
    " 'max_features': ['auto', 'sqrt'],\n",
    " 'min_samples_leaf': [1, 2, 4],\n",
    " 'min_samples_split': [2, 5, 7]}\n",
    "\n",
    "gs = GridSearchCV(estimator=rf_model, param_grid= grid, cv=2)\n",
    "gs.fit(X_train_scaled, y_train)"
   ]
  },
  {
   "cell_type": "code",
   "execution_count": 109,
   "metadata": {
    "ExecuteTime": {
     "end_time": "2021-08-04T13:50:24.004703Z",
     "start_time": "2021-08-04T13:50:23.910474Z"
    },
    "scrolled": true
   },
   "outputs": [
    {
     "data": {
      "text/plain": [
       "[('total_charge', 0.11603463923585035),\n",
       " ('total_charge_dom', 0.09165626921773305),\n",
       " ('customer_service_calls', 0.07603171274692963),\n",
       " ('call_satisfaction', 0.07278358632885197),\n",
       " ('international_plan_yes', 0.07258065463225186),\n",
       " ('total_day_minutes', 0.04704655008951919),\n",
       " ('total_day_charge', 0.043676277803954125),\n",
       " ('total_minutes', 0.03955641304780503),\n",
       " ('total_minutes_dom', 0.037589999038284985),\n",
       " ('number_vmail_messages', 0.029933485522696014)]"
      ]
     },
     "execution_count": 109,
     "metadata": {},
     "output_type": "execute_result"
    }
   ],
   "source": [
    "gs.best_params_\n",
    "best_model= gs.best_estimator_\n",
    "best_param=[]\n",
    "for name, score in zip(X_train_scaled.columns, rf_model.feature_importances_):\n",
    "    \n",
    "    best_param.append((name,score))\n",
    "best_param.sort(reverse= True, key=lambda x: x[1])\n",
    "best_param[:10]"
   ]
  },
  {
   "cell_type": "markdown",
   "metadata": {},
   "source": [
    "# XGBoost"
   ]
  },
  {
   "cell_type": "code",
   "execution_count": 49,
   "metadata": {
    "ExecuteTime": {
     "end_time": "2021-08-04T20:49:57.224005Z",
     "start_time": "2021-08-04T20:49:57.221825Z"
    }
   },
   "outputs": [],
   "source": [
    "xgb_model= xg.XGBClassifier(random_state=42, objective='binary:logistic')"
   ]
  },
  {
   "cell_type": "code",
   "execution_count": 50,
   "metadata": {
    "ExecuteTime": {
     "end_time": "2021-08-04T20:49:57.923712Z",
     "start_time": "2021-08-04T20:49:57.920820Z"
    }
   },
   "outputs": [],
   "source": [
    "grid2 = {'eta': [.05,.1, .2, .4],\n",
    "         'max_depth': [3,8,9],\n",
    "         'alpha' : [1,2,3,4]\n",
    " }\n",
    "gs = GridSearchCV(estimator=xgb_model, param_grid= grid2, cv=2)"
   ]
  },
  {
   "cell_type": "code",
   "execution_count": 51,
   "metadata": {
    "ExecuteTime": {
     "end_time": "2021-08-04T20:50:11.487744Z",
     "start_time": "2021-08-04T20:49:58.928639Z"
    }
   },
   "outputs": [
    {
     "data": {
      "text/plain": [
       "GridSearchCV(cv=2,\n",
       "             estimator=XGBClassifier(base_score=None, booster=None,\n",
       "                                     colsample_bylevel=None,\n",
       "                                     colsample_bynode=None,\n",
       "                                     colsample_bytree=None, gamma=None,\n",
       "                                     gpu_id=None, importance_type='gain',\n",
       "                                     interaction_constraints=None,\n",
       "                                     learning_rate=None, max_delta_step=None,\n",
       "                                     max_depth=None, min_child_weight=None,\n",
       "                                     missing=nan, monotone_constraints=None,\n",
       "                                     n_estimators=100, n_jobs=None,\n",
       "                                     num_parallel_tree=None, random_state=42,\n",
       "                                     reg_alpha=None, reg_lambda=None,\n",
       "                                     scale_pos_weight=None, subsample=None,\n",
       "                                     tree_method=None, validate_parameters=None,\n",
       "                                     verbosity=None),\n",
       "             param_grid={'alpha': [1, 2, 3, 4], 'eta': [0.05, 0.1, 0.2, 0.4],\n",
       "                         'max_depth': [3, 8, 9]})"
      ]
     },
     "execution_count": 51,
     "metadata": {},
     "output_type": "execute_result"
    }
   ],
   "source": [
    "gs.fit(X_train_scaled, y_train)"
   ]
  },
  {
   "cell_type": "code",
   "execution_count": 52,
   "metadata": {
    "ExecuteTime": {
     "end_time": "2021-08-04T20:50:11.493909Z",
     "start_time": "2021-08-04T20:50:11.490237Z"
    }
   },
   "outputs": [
    {
     "data": {
      "text/plain": [
       "{'alpha': 2, 'eta': 0.2, 'max_depth': 3}"
      ]
     },
     "execution_count": 52,
     "metadata": {},
     "output_type": "execute_result"
    }
   ],
   "source": [
    "gs.best_params_"
   ]
  },
  {
   "cell_type": "code",
   "execution_count": 53,
   "metadata": {
    "ExecuteTime": {
     "end_time": "2021-08-04T20:50:23.913418Z",
     "start_time": "2021-08-04T20:50:23.910989Z"
    }
   },
   "outputs": [],
   "source": [
    "xgb_model2= xg.XGBClassifier(random_state=42, objective='binary:logistic', alpha=2, eta=0.2, max_depth=3)"
   ]
  },
  {
   "cell_type": "code",
   "execution_count": 54,
   "metadata": {
    "ExecuteTime": {
     "end_time": "2021-08-04T20:50:24.951261Z",
     "start_time": "2021-08-04T20:50:24.736923Z"
    }
   },
   "outputs": [
    {
     "data": {
      "text/plain": [
       "[('total_charge', 0.2064817),\n",
       " ('customer_service_calls', 0.15857959),\n",
       " ('number_vmail_messages', 0.1379397),\n",
       " ('international_plan_yes', 0.081443824),\n",
       " ('total_intl_calls', 0.07584284),\n",
       " ('total_intl_minutes', 0.04833098),\n",
       " ('charge_per_min_int', 0.04502448),\n",
       " ('total_calls', 0.02036409),\n",
       " ('area_code_415', 0.017601628),\n",
       " ('call_satisfaction', 0.015248079),\n",
       " ('total_minutes', 0.013633176),\n",
       " ('total_eve_minutes', 0.013495498),\n",
       " ('region_South', 0.013340767),\n",
       " ('%_int_min', 0.013316962),\n",
       " ('charge_per_min_dom', 0.011165017),\n",
       " ('region_Northeast', 0.010999993),\n",
       " ('total_night_calls', 0.010710389),\n",
       " ('charge_per_min_night', 0.010427377),\n",
       " ('total_day_calls', 0.010196842),\n",
       " ('charge_per_min_eve', 0.009820581),\n",
       " ('total_charge_dom', 0.009337022),\n",
       " ('area_code_510', 0.00914245),\n",
       " ('total_minutes_dom', 0.008669826),\n",
       " ('account_length', 0.008285145),\n",
       " ('total_day_minutes', 0.008019949),\n",
       " ('charge_per_min_day', 0.00793765),\n",
       " ('total_calls_dom', 0.007877018),\n",
       " ('total_eve_calls', 0.006637635),\n",
       " ('total_night_minutes', 0.006305817),\n",
       " ('region_West', 0.0038239574),\n",
       " ('total_day_charge', 0.0),\n",
       " ('total_eve_charge', 0.0),\n",
       " ('total_night_charge', 0.0),\n",
       " ('total_intl_charge', 0.0),\n",
       " ('state_AL', 0.0),\n",
       " ('state_AR', 0.0),\n",
       " ('state_AZ', 0.0),\n",
       " ('state_CA', 0.0),\n",
       " ('state_CO', 0.0),\n",
       " ('state_CT', 0.0),\n",
       " ('state_DC', 0.0),\n",
       " ('state_DE', 0.0),\n",
       " ('state_FL', 0.0),\n",
       " ('state_GA', 0.0),\n",
       " ('state_HI', 0.0),\n",
       " ('state_IA', 0.0),\n",
       " ('state_ID', 0.0),\n",
       " ('state_IL', 0.0),\n",
       " ('state_IN', 0.0),\n",
       " ('state_KS', 0.0),\n",
       " ('state_KY', 0.0),\n",
       " ('state_LA', 0.0),\n",
       " ('state_MA', 0.0),\n",
       " ('state_MD', 0.0),\n",
       " ('state_ME', 0.0),\n",
       " ('state_MI', 0.0),\n",
       " ('state_MN', 0.0),\n",
       " ('state_MO', 0.0),\n",
       " ('state_MS', 0.0),\n",
       " ('state_MT', 0.0),\n",
       " ('state_NC', 0.0),\n",
       " ('state_ND', 0.0),\n",
       " ('state_NE', 0.0),\n",
       " ('state_NH', 0.0),\n",
       " ('state_NJ', 0.0),\n",
       " ('state_NM', 0.0),\n",
       " ('state_NV', 0.0),\n",
       " ('state_NY', 0.0),\n",
       " ('state_OH', 0.0),\n",
       " ('state_OK', 0.0),\n",
       " ('state_OR', 0.0),\n",
       " ('state_PA', 0.0),\n",
       " ('state_RI', 0.0),\n",
       " ('state_SC', 0.0),\n",
       " ('state_SD', 0.0),\n",
       " ('state_TN', 0.0),\n",
       " ('state_TX', 0.0),\n",
       " ('state_UT', 0.0),\n",
       " ('state_VA', 0.0),\n",
       " ('state_VT', 0.0),\n",
       " ('state_WA', 0.0),\n",
       " ('state_WI', 0.0),\n",
       " ('state_WV', 0.0),\n",
       " ('state_WY', 0.0),\n",
       " ('voice_mail_plan_yes', 0.0)]"
      ]
     },
     "execution_count": 54,
     "metadata": {},
     "output_type": "execute_result"
    }
   ],
   "source": [
    "best_param = []\n",
    "fit = xgb_model2.fit(X_train_scaled, y_train)\n",
    "for name, score in zip(X_train_scaled.columns, fit.feature_importances_):\n",
    "    \n",
    "    best_param.append((name,score))\n",
    "best_param.sort(reverse= True, key=lambda x: x[1])\n",
    "best_param"
   ]
  },
  {
   "cell_type": "code",
   "execution_count": 19,
   "metadata": {
    "ExecuteTime": {
     "end_time": "2021-08-04T20:40:18.986555Z",
     "start_time": "2021-08-04T20:40:18.759847Z"
    }
   },
   "outputs": [
    {
     "name": "stdout",
     "output_type": "stream",
     "text": [
      "log loss:  0.5526204223185719\n",
      "accuracy:  0.984\n",
      "precision: 1.0\n",
      "recall:    0.8881118881118881\n"
     ]
    }
   ],
   "source": [
    "xgb_model.fit(X_train_scaled, y_train)\n",
    "y_preds_xgb = xgb_model.predict(X_test_scaled)\n",
    "scores(y_test, y_preds_xgb)"
   ]
  },
  {
   "cell_type": "markdown",
   "metadata": {},
   "source": [
    "# AdaBoost"
   ]
  },
  {
   "cell_type": "code",
   "execution_count": 130,
   "metadata": {
    "ExecuteTime": {
     "end_time": "2021-08-04T13:58:15.793643Z",
     "start_time": "2021-08-04T13:58:15.514694Z"
    }
   },
   "outputs": [
    {
     "data": {
      "text/plain": [
       "0.9262751821688813"
      ]
     },
     "execution_count": 130,
     "metadata": {},
     "output_type": "execute_result"
    }
   ],
   "source": [
    "model_boost_ada = AdaBoostClassifier(n_estimators=40,random_state=42)\n",
    "model_boost_ada.fit(X_train_scaled,y_train)\n",
    "model_boost_ada.predict(X_train_scaled)\n",
    "\n",
    "model_boost_ada.score(X_train_scaled,y_train)\n"
   ]
  },
  {
   "cell_type": "code",
   "execution_count": 128,
   "metadata": {
    "ExecuteTime": {
     "end_time": "2021-08-04T13:57:22.325833Z",
     "start_time": "2021-08-04T13:57:22.310478Z"
    }
   },
   "outputs": [
    {
     "name": "stdout",
     "output_type": "stream",
     "text": [
      "log loss:  3.1430478422751973\n",
      "accuracy:  0.909\n",
      "precision: 0.76\n",
      "recall:    0.5314685314685315\n"
     ]
    }
   ],
   "source": [
    "y_preds= model_boost_ada.predict(X_test_scaled)\n",
    "scores(y_test, y_preds)"
   ]
  },
  {
   "cell_type": "markdown",
   "metadata": {},
   "source": [
    "# Gradient Boost"
   ]
  },
  {
   "cell_type": "code",
   "execution_count": 129,
   "metadata": {
    "ExecuteTime": {
     "end_time": "2021-08-04T13:57:53.942570Z",
     "start_time": "2021-08-04T13:57:52.671868Z"
    }
   },
   "outputs": [
    {
     "data": {
      "text/plain": [
       "0.9819974282040291"
      ]
     },
     "execution_count": 129,
     "metadata": {},
     "output_type": "execute_result"
    }
   ],
   "source": [
    "model_boost_gb = GradientBoostingClassifier(random_state=42)\n",
    "gb_m = model_boost_gb.fit(X_train_scaled,y_train)\n",
    "model_boost_gb.score(X_train_scaled,y_train)"
   ]
  },
  {
   "cell_type": "code",
   "execution_count": 131,
   "metadata": {
    "ExecuteTime": {
     "end_time": "2021-08-04T13:58:33.942697Z",
     "start_time": "2021-08-04T13:58:33.918758Z"
    }
   },
   "outputs": [
    {
     "name": "stdout",
     "output_type": "stream",
     "text": [
      "log loss:  0.5526204223185719\n",
      "accuracy:  0.984\n",
      "precision: 1.0\n",
      "recall:    0.8881118881118881\n"
     ]
    }
   ],
   "source": [
    "y_preds= model_boost_gb.predict(X_test_scaled)\n",
    "scores(y_test, y_preds)"
   ]
  },
  {
   "cell_type": "code",
   "execution_count": 132,
   "metadata": {
    "ExecuteTime": {
     "end_time": "2021-08-04T13:59:09.248599Z",
     "start_time": "2021-08-04T13:58:58.520477Z"
    }
   },
   "outputs": [
    {
     "data": {
      "text/plain": [
       "0.9772862330802244"
      ]
     },
     "execution_count": 132,
     "metadata": {},
     "output_type": "execute_result"
    }
   ],
   "source": [
    "gradient_boost_cv = cross_val_score(gb_m, X_train_scaled, y_train, cv = 10)\n",
    "gradient_boost_cv\n",
    "gradient_boost_cv.mean()"
   ]
  },
  {
   "cell_type": "markdown",
   "metadata": {},
   "source": [
    "# Ensemble"
   ]
  },
  {
   "cell_type": "code",
   "execution_count": 195,
   "metadata": {
    "ExecuteTime": {
     "end_time": "2021-08-04T14:48:30.439988Z",
     "start_time": "2021-08-04T14:48:30.435552Z"
    }
   },
   "outputs": [],
   "source": [
    "voting_clf = VotingClassifier(estimators=[ \n",
    "                                          (\"rf\", rf_model) ,\n",
    "                                          ('dt', best_DT_clf),\n",
    "                                          ('xgb', xgb_model),\n",
    "                                          (\"gb\", gb_m)], \n",
    "                                          voting= \"soft\")"
   ]
  },
  {
   "cell_type": "code",
   "execution_count": 196,
   "metadata": {
    "ExecuteTime": {
     "end_time": "2021-08-04T14:48:36.955593Z",
     "start_time": "2021-08-04T14:48:30.678945Z"
    }
   },
   "outputs": [
    {
     "data": {
      "text/plain": [
       "VotingClassifier(estimators=[('rf',\n",
       "                              RandomForestClassifier(criterion='entropy',\n",
       "                                                     max_depth=10,\n",
       "                                                     min_samples_split=7,\n",
       "                                                     n_estimators=1150)),\n",
       "                             ('dt',\n",
       "                              DecisionTreeClassifier(criterion='entropy',\n",
       "                                                     max_depth=5,\n",
       "                                                     min_samples_leaf=10,\n",
       "                                                     min_samples_split=3)),\n",
       "                             ('xgb',\n",
       "                              XGBClassifier(alpha=1, base_score=0.5,\n",
       "                                            booster='gbtree',\n",
       "                                            colsample_bylevel=1,\n",
       "                                            colsample_bynode=1,\n",
       "                                            colsample_bytree...\n",
       "                                            max_delta_step=0, max_depth=3,\n",
       "                                            min_child_weight=1, missing=nan,\n",
       "                                            monotone_constraints='()',\n",
       "                                            n_estimators=100, n_jobs=0,\n",
       "                                            num_parallel_tree=1,\n",
       "                                            objective='binary:hinge',\n",
       "                                            random_state=42, reg_alpha=1,\n",
       "                                            reg_lambda=1, scale_pos_weight=None,\n",
       "                                            subsample=1, tree_method='exact',\n",
       "                                            validate_parameters=1,\n",
       "                                            verbosity=None)),\n",
       "                             ('gb',\n",
       "                              GradientBoostingClassifier(random_state=42))],\n",
       "                 voting='soft')"
      ]
     },
     "execution_count": 196,
     "metadata": {},
     "output_type": "execute_result"
    }
   ],
   "source": [
    "voting_clf.fit(X_train_scaled, y_train)"
   ]
  },
  {
   "cell_type": "code",
   "execution_count": 197,
   "metadata": {
    "ExecuteTime": {
     "end_time": "2021-08-04T14:48:37.177102Z",
     "start_time": "2021-08-04T14:48:36.960401Z"
    }
   },
   "outputs": [],
   "source": [
    "y_preds = voting_clf.predict(X_test_scaled)"
   ]
  },
  {
   "cell_type": "code",
   "execution_count": 198,
   "metadata": {
    "ExecuteTime": {
     "end_time": "2021-08-04T14:48:37.190945Z",
     "start_time": "2021-08-04T14:48:37.180166Z"
    }
   },
   "outputs": [
    {
     "name": "stdout",
     "output_type": "stream",
     "text": [
      "log loss:  0.5526204223185719\n",
      "accuracy:  0.984\n",
      "precision: 1.0\n",
      "recall:    0.8881118881118881\n"
     ]
    }
   ],
   "source": [
    "scores(y_test, y_preds)"
   ]
  },
  {
   "cell_type": "code",
   "execution_count": 199,
   "metadata": {
    "ExecuteTime": {
     "end_time": "2021-08-04T14:48:43.872533Z",
     "start_time": "2021-08-04T14:48:37.192575Z"
    }
   },
   "outputs": [
    {
     "name": "stdout",
     "output_type": "stream",
     "text": [
      "RandomForestClassifier(criterion='entropy', max_depth=10, min_samples_split=7,\n",
      "                       n_estimators=1150) 0.7202797202797203\n",
      "DecisionTreeClassifier(criterion='entropy', max_depth=5, min_samples_leaf=10,\n",
      "                       min_samples_split=3) 0.8671328671328671\n",
      "XGBClassifier(alpha=1, base_score=0.5, booster='gbtree', colsample_bylevel=1,\n",
      "              colsample_bynode=1, colsample_bytree=1, eta=0.05, gamma=0,\n",
      "              gpu_id=-1, importance_type='gain', interaction_constraints='',\n",
      "              learning_rate=0.0500000007, max_delta_step=0, max_depth=3,\n",
      "              min_child_weight=1, missing=nan, monotone_constraints='()',\n",
      "              n_estimators=100, n_jobs=0, num_parallel_tree=1,\n",
      "              objective='binary:hinge', random_state=42, reg_alpha=1,\n",
      "              reg_lambda=1, scale_pos_weight=None, subsample=1,\n",
      "              tree_method='exact', validate_parameters=1, verbosity=None) 0.8881118881118881\n",
      "GradientBoostingClassifier(random_state=42) 0.8881118881118881\n"
     ]
    }
   ],
   "source": [
    "for clf in (rf_model, best_DT_clf, xgb_model, gb_m):\n",
    "    clf.fit(X_train_scaled, y_train)\n",
    "    y_pred= clf.predict(X_test_scaled)\n",
    "    print(clf, recall_score(y_test, y_pred))"
   ]
  },
  {
   "cell_type": "code",
   "execution_count": 200,
   "metadata": {
    "ExecuteTime": {
     "end_time": "2021-08-04T14:48:44.229650Z",
     "start_time": "2021-08-04T14:48:43.875055Z"
    }
   },
   "outputs": [
    {
     "data": {
      "text/plain": [
       "<sklearn.metrics._plot.confusion_matrix.ConfusionMatrixDisplay at 0x7f9034e8d700>"
      ]
     },
     "execution_count": 200,
     "metadata": {},
     "output_type": "execute_result"
    },
    {
     "data": {
      "image/png": "[encoded data removed]",
      "text/plain": [
       "<Figure size 432x288 with 2 Axes>"
      ]
     },
     "metadata": {
      "needs_background": "light"
     },
     "output_type": "display_data"
    }
   ],
   "source": [
    "plot_confusion_matrix(voting_clf, X_test_scaled, y_test)"
   ]
  },
  {
   "cell_type": "markdown",
   "metadata": {},
   "source": [
    "Looks like the ensemble does the same however if we introduce unseen data having a ensemble may be to our advantage"
   ]
  },
  {
   "cell_type": "markdown",
   "metadata": {},
   "source": [
    "# Let's create a function to calculate percentage of a customer churning"
   ]
  },
  {
   "cell_type": "code",
   "execution_count": 217,
   "metadata": {
    "ExecuteTime": {
     "end_time": "2021-08-04T15:15:44.596815Z",
     "start_time": "2021-08-04T15:15:44.590718Z"
    }
   },
   "outputs": [
    {
     "data": {
      "text/plain": [
       "Index(['state', 'account_length'], dtype='object')"
      ]
     },
     "execution_count": 217,
     "metadata": {},
     "output_type": "execute_result"
    }
   ],
   "source": [
    "df.columns[:2]"
   ]
  },
  {
   "cell_type": "code",
   "execution_count": 282,
   "metadata": {
    "ExecuteTime": {
     "end_time": "2021-08-04T15:52:28.876974Z",
     "start_time": "2021-08-04T15:52:28.861407Z"
    }
   },
   "outputs": [],
   "source": [
    "# single customer churning probability calculator\n",
    "\n",
    "def churn(total_day_minutes, total_charge, customer_service_calls, international_plan):\n",
    "    \n",
    "    #using the ensemble to predict\n",
    "    voting_clf = VotingClassifier(estimators=[ \n",
    "                                          (\"rf\", rf_model) ,\n",
    "                                          ('dt', best_DT_clf),\n",
    "                                          ('xgb', xgb_model),\n",
    "                                          (\"gb\", gb_m)], \n",
    "                                          voting= \"soft\")\n",
    "    \n",
    "    #slice out corresponding df\n",
    "    data= df[['total_day_minutes', 'total_charge', \n",
    "            'customer_service_calls','international_plan','churn'\n",
    "              ]]\n",
    "    \n",
    "    \n",
    "    #split into train test\n",
    "    y= data['churn']\n",
    "    X= data.drop('churn', axis=1)\n",
    "    X_train, X_test, y_train, y_test = train_test_split(X, y, test_size = .3 ,random_state=42)\n",
    "    \n",
    "    \n",
    "    #pipeline reintroduced to fit specific data frame\n",
    "    \n",
    "    X_num=X_train.columns[:3]\n",
    "    X_cat=X_train.columns[3:4]\n",
    "    \n",
    "    numTrans = Pipeline(steps=[\n",
    "    ('scaler', StandardScaler())\n",
    "    ])\n",
    "    catTrans = Pipeline(steps=[\n",
    "    ('ohe', OneHotEncoder(drop='first',\n",
    "                          sparse=False))\n",
    "    ])\n",
    "\n",
    "    pp = ColumnTransformer(transformers=[\n",
    "    ('num', numTrans, X_num),\n",
    "    ('cat', catTrans, X_cat)\n",
    "    ])\n",
    "    \n",
    "    \n",
    "    #use pipeline to scale \n",
    "    X_train_scaled = pp.fit_transform(X_train)\n",
    "    X_test_scaled= pp.transform(X_test)\n",
    "    X_train_scaled= pd.DataFrame(X_train_scaled)\n",
    "    X_test_scaled=pd.DataFrame(X_test_scaled)\n",
    "    \n",
    "#     create a single entry from function inputs to test\n",
    "    d= {'total_day_minutes':total_day_minutes , \n",
    "        'total_charge': total_charge , \n",
    "        'customer_service_calls': customer_service_calls,\n",
    "        'international_plan':international_plan}\n",
    "    \n",
    "    df_pred= pd.DataFrame(d, index=[0])\n",
    "    \n",
    "    #scale it so model doesnt break on string entries\n",
    "    df_pred = pp.transform(df_pred)\n",
    "    df_pred = pd.DataFrame(df_pred)\n",
    "    \n",
    "    #fit the model\n",
    "    voting_clf.fit(X_train_scaled, y_train)\n",
    "  \n",
    "    #predict the probability that customer may churn\n",
    "    p = voting_clf.predict_proba(df_pred)[0][1]\n",
    "    \n",
    "    if p >.5:\n",
    "        return 1\n",
    "    else:\n",
    "        return 0\n",
    "    \n",
    "#     print(f\"The selected account has a {round(p[0][1]*100)}% chance of churning \")\n",
    "    "
   ]
  },
  {
   "cell_type": "code",
   "execution_count": 283,
   "metadata": {
    "ExecuteTime": {
     "end_time": "2021-08-04T15:52:32.288730Z",
     "start_time": "2021-08-04T15:52:29.519177Z"
    }
   },
   "outputs": [
    {
     "data": {
      "text/plain": [
       "0"
      ]
     },
     "execution_count": 283,
     "metadata": {},
     "output_type": "execute_result"
    }
   ],
   "source": [
    "churn(200,34,0,\"yes\")"
   ]
  },
  {
   "cell_type": "code",
   "execution_count": 239,
   "metadata": {
    "ExecuteTime": {
     "end_time": "2021-08-04T15:26:40.551711Z",
     "start_time": "2021-08-04T15:26:37.780727Z"
    }
   },
   "outputs": [
    {
     "name": "stdout",
     "output_type": "stream",
     "text": [
      "The selected account has a 84.0% chance of churning \n"
     ]
    }
   ],
   "source": [
    "# example used for one customer\n",
    "churn(128,75.56,1,\"no\")"
   ]
  },
  {
   "cell_type": "code",
   "execution_count": 251,
   "metadata": {
    "ExecuteTime": {
     "end_time": "2021-08-04T15:29:19.783795Z",
     "start_time": "2021-08-04T15:29:19.774700Z"
    }
   },
   "outputs": [
    {
     "data": {
      "text/plain": [
       "state                            MT\n",
       "account_length                   94\n",
       "area_code                       415\n",
       "international_plan               no\n",
       "voice_mail_plan                  no\n",
       "number_vmail_messages             0\n",
       "total_day_minutes             137.5\n",
       "total_day_calls                 118\n",
       "total_day_charge              23.38\n",
       "total_eve_minutes             203.2\n",
       "total_eve_calls                  88\n",
       "total_eve_charge              17.27\n",
       "total_night_minutes             150\n",
       "total_night_calls               131\n",
       "total_night_charge             6.75\n",
       "total_intl_minutes             13.4\n",
       "total_intl_calls                  2\n",
       "total_intl_charge              3.62\n",
       "customer_service_calls            0\n",
       "churn                             0\n",
       "total_minutes_dom             490.7\n",
       "total_calls_dom                 337\n",
       "total_charge_dom               47.4\n",
       "total_minutes                 504.1\n",
       "total_calls                     339\n",
       "total_charge                  51.02\n",
       "charge_per_min_day         0.198136\n",
       "charge_per_min_eve          0.19625\n",
       "charge_per_min_night      0.0515267\n",
       "charge_per_min_dom         0.140653\n",
       "charge_per_min_int             1.81\n",
       "%_int_min                    2.6582\n",
       "call_satisfaction                 0\n",
       "region                         West\n",
       "Name: 193, dtype: object"
      ]
     },
     "execution_count": 251,
     "metadata": {},
     "output_type": "execute_result"
    }
   ],
   "source": [
    "df.loc[193]"
   ]
  },
  {
   "cell_type": "code",
   "execution_count": 252,
   "metadata": {
    "ExecuteTime": {
     "end_time": "2021-08-04T15:30:04.671877Z",
     "start_time": "2021-08-04T15:30:02.019733Z"
    }
   },
   "outputs": [
    {
     "name": "stdout",
     "output_type": "stream",
     "text": [
      "The selected account has a 2.0% chance of churning \n"
     ]
    }
   ],
   "source": [
    "churn(94,51.02,0,\"no\")"
   ]
  },
  {
   "cell_type": "code",
   "execution_count": 258,
   "metadata": {
    "ExecuteTime": {
     "end_time": "2021-08-04T15:37:18.757054Z",
     "start_time": "2021-08-04T15:37:18.715132Z"
    }
   },
   "outputs": [
    {
     "data": {
      "text/html": [
       "<div>\n",
       "<style scoped>\n",
       "    .dataframe tbody tr th:only-of-type {\n",
       "        vertical-align: middle;\n",
       "    }\n",
       "\n",
       "    .dataframe tbody tr th {\n",
       "        vertical-align: top;\n",
       "    }\n",
       "\n",
       "    .dataframe thead th {\n",
       "        text-align: right;\n",
       "    }\n",
       "</style>\n",
       "<table border=\"1\" class=\"dataframe\">\n",
       "  <thead>\n",
       "    <tr style=\"text-align: right;\">\n",
       "      <th></th>\n",
       "      <th>state</th>\n",
       "      <th>account_length</th>\n",
       "      <th>area_code</th>\n",
       "      <th>international_plan</th>\n",
       "      <th>voice_mail_plan</th>\n",
       "      <th>number_vmail_messages</th>\n",
       "      <th>total_day_minutes</th>\n",
       "      <th>total_day_calls</th>\n",
       "      <th>total_day_charge</th>\n",
       "      <th>total_eve_minutes</th>\n",
       "      <th>...</th>\n",
       "      <th>total_calls</th>\n",
       "      <th>total_charge</th>\n",
       "      <th>charge_per_min_day</th>\n",
       "      <th>charge_per_min_eve</th>\n",
       "      <th>charge_per_min_night</th>\n",
       "      <th>charge_per_min_dom</th>\n",
       "      <th>charge_per_min_int</th>\n",
       "      <th>%_int_min</th>\n",
       "      <th>call_satisfaction</th>\n",
       "      <th>region</th>\n",
       "    </tr>\n",
       "  </thead>\n",
       "  <tbody>\n",
       "    <tr>\n",
       "      <th>0</th>\n",
       "      <td>KS</td>\n",
       "      <td>128</td>\n",
       "      <td>415</td>\n",
       "      <td>no</td>\n",
       "      <td>yes</td>\n",
       "      <td>25</td>\n",
       "      <td>265.1</td>\n",
       "      <td>110</td>\n",
       "      <td>45.07</td>\n",
       "      <td>197.4</td>\n",
       "      <td>...</td>\n",
       "      <td>303</td>\n",
       "      <td>75.56</td>\n",
       "      <td>0.409727</td>\n",
       "      <td>0.169495</td>\n",
       "      <td>0.120989</td>\n",
       "      <td>0.242867</td>\n",
       "      <td>0.900000</td>\n",
       "      <td>1.394311</td>\n",
       "      <td>0.330033</td>\n",
       "      <td>Midwest</td>\n",
       "    </tr>\n",
       "    <tr>\n",
       "      <th>1</th>\n",
       "      <td>OH</td>\n",
       "      <td>107</td>\n",
       "      <td>415</td>\n",
       "      <td>no</td>\n",
       "      <td>yes</td>\n",
       "      <td>26</td>\n",
       "      <td>161.6</td>\n",
       "      <td>123</td>\n",
       "      <td>27.47</td>\n",
       "      <td>195.5</td>\n",
       "      <td>...</td>\n",
       "      <td>332</td>\n",
       "      <td>59.24</td>\n",
       "      <td>0.223333</td>\n",
       "      <td>0.161359</td>\n",
       "      <td>0.111165</td>\n",
       "      <td>0.168815</td>\n",
       "      <td>1.233333</td>\n",
       "      <td>2.191299</td>\n",
       "      <td>0.301205</td>\n",
       "      <td>Midwest</td>\n",
       "    </tr>\n",
       "    <tr>\n",
       "      <th>2</th>\n",
       "      <td>NJ</td>\n",
       "      <td>137</td>\n",
       "      <td>415</td>\n",
       "      <td>no</td>\n",
       "      <td>no</td>\n",
       "      <td>0</td>\n",
       "      <td>243.4</td>\n",
       "      <td>114</td>\n",
       "      <td>41.38</td>\n",
       "      <td>121.2</td>\n",
       "      <td>...</td>\n",
       "      <td>333</td>\n",
       "      <td>62.29</td>\n",
       "      <td>0.362982</td>\n",
       "      <td>0.093636</td>\n",
       "      <td>0.070385</td>\n",
       "      <td>0.179878</td>\n",
       "      <td>0.658000</td>\n",
       "      <td>2.261772</td>\n",
       "      <td>0.000000</td>\n",
       "      <td>Northeast</td>\n",
       "    </tr>\n",
       "    <tr>\n",
       "      <th>3</th>\n",
       "      <td>OH</td>\n",
       "      <td>84</td>\n",
       "      <td>408</td>\n",
       "      <td>yes</td>\n",
       "      <td>no</td>\n",
       "      <td>0</td>\n",
       "      <td>299.4</td>\n",
       "      <td>71</td>\n",
       "      <td>50.90</td>\n",
       "      <td>61.9</td>\n",
       "      <td>...</td>\n",
       "      <td>255</td>\n",
       "      <td>66.80</td>\n",
       "      <td>0.716901</td>\n",
       "      <td>0.059773</td>\n",
       "      <td>0.099551</td>\n",
       "      <td>0.262177</td>\n",
       "      <td>0.254286</td>\n",
       "      <td>1.168555</td>\n",
       "      <td>0.784314</td>\n",
       "      <td>Midwest</td>\n",
       "    </tr>\n",
       "    <tr>\n",
       "      <th>4</th>\n",
       "      <td>OK</td>\n",
       "      <td>75</td>\n",
       "      <td>415</td>\n",
       "      <td>yes</td>\n",
       "      <td>no</td>\n",
       "      <td>0</td>\n",
       "      <td>166.7</td>\n",
       "      <td>113</td>\n",
       "      <td>28.34</td>\n",
       "      <td>148.3</td>\n",
       "      <td>...</td>\n",
       "      <td>359</td>\n",
       "      <td>52.09</td>\n",
       "      <td>0.250796</td>\n",
       "      <td>0.103361</td>\n",
       "      <td>0.069504</td>\n",
       "      <td>0.138652</td>\n",
       "      <td>0.910000</td>\n",
       "      <td>1.972656</td>\n",
       "      <td>0.835655</td>\n",
       "      <td>South</td>\n",
       "    </tr>\n",
       "    <tr>\n",
       "      <th>5</th>\n",
       "      <td>AL</td>\n",
       "      <td>118</td>\n",
       "      <td>510</td>\n",
       "      <td>yes</td>\n",
       "      <td>no</td>\n",
       "      <td>0</td>\n",
       "      <td>223.4</td>\n",
       "      <td>98</td>\n",
       "      <td>37.98</td>\n",
       "      <td>220.6</td>\n",
       "      <td>...</td>\n",
       "      <td>323</td>\n",
       "      <td>67.61</td>\n",
       "      <td>0.387551</td>\n",
       "      <td>0.185644</td>\n",
       "      <td>0.077797</td>\n",
       "      <td>0.207918</td>\n",
       "      <td>0.283333</td>\n",
       "      <td>0.963008</td>\n",
       "      <td>0.000000</td>\n",
       "      <td>South</td>\n",
       "    </tr>\n",
       "    <tr>\n",
       "      <th>6</th>\n",
       "      <td>MA</td>\n",
       "      <td>121</td>\n",
       "      <td>510</td>\n",
       "      <td>no</td>\n",
       "      <td>yes</td>\n",
       "      <td>24</td>\n",
       "      <td>218.2</td>\n",
       "      <td>88</td>\n",
       "      <td>37.09</td>\n",
       "      <td>348.5</td>\n",
       "      <td>...</td>\n",
       "      <td>321</td>\n",
       "      <td>78.31</td>\n",
       "      <td>0.421477</td>\n",
       "      <td>0.274259</td>\n",
       "      <td>0.081102</td>\n",
       "      <td>0.242930</td>\n",
       "      <td>0.290000</td>\n",
       "      <td>0.953228</td>\n",
       "      <td>0.934579</td>\n",
       "      <td>Northeast</td>\n",
       "    </tr>\n",
       "    <tr>\n",
       "      <th>7</th>\n",
       "      <td>MO</td>\n",
       "      <td>147</td>\n",
       "      <td>415</td>\n",
       "      <td>yes</td>\n",
       "      <td>no</td>\n",
       "      <td>0</td>\n",
       "      <td>157.0</td>\n",
       "      <td>79</td>\n",
       "      <td>26.69</td>\n",
       "      <td>103.1</td>\n",
       "      <td>...</td>\n",
       "      <td>275</td>\n",
       "      <td>46.90</td>\n",
       "      <td>0.337848</td>\n",
       "      <td>0.093191</td>\n",
       "      <td>0.099271</td>\n",
       "      <td>0.167212</td>\n",
       "      <td>0.320000</td>\n",
       "      <td>1.482255</td>\n",
       "      <td>0.000000</td>\n",
       "      <td>Midwest</td>\n",
       "    </tr>\n",
       "    <tr>\n",
       "      <th>8</th>\n",
       "      <td>LA</td>\n",
       "      <td>117</td>\n",
       "      <td>408</td>\n",
       "      <td>no</td>\n",
       "      <td>no</td>\n",
       "      <td>0</td>\n",
       "      <td>184.5</td>\n",
       "      <td>97</td>\n",
       "      <td>31.37</td>\n",
       "      <td>351.6</td>\n",
       "      <td>...</td>\n",
       "      <td>271</td>\n",
       "      <td>73.32</td>\n",
       "      <td>0.323402</td>\n",
       "      <td>0.373625</td>\n",
       "      <td>0.107889</td>\n",
       "      <td>0.265805</td>\n",
       "      <td>0.587500</td>\n",
       "      <td>1.143834</td>\n",
       "      <td>0.369004</td>\n",
       "      <td>South</td>\n",
       "    </tr>\n",
       "    <tr>\n",
       "      <th>9</th>\n",
       "      <td>WV</td>\n",
       "      <td>141</td>\n",
       "      <td>415</td>\n",
       "      <td>yes</td>\n",
       "      <td>yes</td>\n",
       "      <td>37</td>\n",
       "      <td>258.6</td>\n",
       "      <td>84</td>\n",
       "      <td>43.96</td>\n",
       "      <td>222.0</td>\n",
       "      <td>...</td>\n",
       "      <td>297</td>\n",
       "      <td>80.54</td>\n",
       "      <td>0.523333</td>\n",
       "      <td>0.170000</td>\n",
       "      <td>0.151443</td>\n",
       "      <td>0.265479</td>\n",
       "      <td>0.604000</td>\n",
       "      <td>1.368858</td>\n",
       "      <td>0.000000</td>\n",
       "      <td>South</td>\n",
       "    </tr>\n",
       "    <tr>\n",
       "      <th>10</th>\n",
       "      <td>IN</td>\n",
       "      <td>65</td>\n",
       "      <td>415</td>\n",
       "      <td>no</td>\n",
       "      <td>no</td>\n",
       "      <td>0</td>\n",
       "      <td>129.1</td>\n",
       "      <td>137</td>\n",
       "      <td>21.95</td>\n",
       "      <td>228.5</td>\n",
       "      <td>...</td>\n",
       "      <td>337</td>\n",
       "      <td>54.20</td>\n",
       "      <td>0.160219</td>\n",
       "      <td>0.233976</td>\n",
       "      <td>0.084685</td>\n",
       "      <td>0.153384</td>\n",
       "      <td>0.571667</td>\n",
       "      <td>2.193058</td>\n",
       "      <td>1.186944</td>\n",
       "      <td>Midwest</td>\n",
       "    </tr>\n",
       "    <tr>\n",
       "      <th>11</th>\n",
       "      <td>RI</td>\n",
       "      <td>74</td>\n",
       "      <td>415</td>\n",
       "      <td>no</td>\n",
       "      <td>no</td>\n",
       "      <td>0</td>\n",
       "      <td>187.7</td>\n",
       "      <td>127</td>\n",
       "      <td>31.91</td>\n",
       "      <td>163.4</td>\n",
       "      <td>...</td>\n",
       "      <td>374</td>\n",
       "      <td>57.08</td>\n",
       "      <td>0.251260</td>\n",
       "      <td>0.093851</td>\n",
       "      <td>0.093830</td>\n",
       "      <td>0.148022</td>\n",
       "      <td>0.492000</td>\n",
       "      <td>1.636102</td>\n",
       "      <td>0.000000</td>\n",
       "      <td>Northeast</td>\n",
       "    </tr>\n",
       "    <tr>\n",
       "      <th>12</th>\n",
       "      <td>IA</td>\n",
       "      <td>168</td>\n",
       "      <td>408</td>\n",
       "      <td>no</td>\n",
       "      <td>no</td>\n",
       "      <td>0</td>\n",
       "      <td>128.8</td>\n",
       "      <td>96</td>\n",
       "      <td>21.90</td>\n",
       "      <td>104.9</td>\n",
       "      <td>...</td>\n",
       "      <td>297</td>\n",
       "      <td>40.19</td>\n",
       "      <td>0.228125</td>\n",
       "      <td>0.125634</td>\n",
       "      <td>0.049609</td>\n",
       "      <td>0.126000</td>\n",
       "      <td>1.510000</td>\n",
       "      <td>2.901554</td>\n",
       "      <td>0.336700</td>\n",
       "      <td>Midwest</td>\n",
       "    </tr>\n",
       "    <tr>\n",
       "      <th>13</th>\n",
       "      <td>MT</td>\n",
       "      <td>95</td>\n",
       "      <td>510</td>\n",
       "      <td>no</td>\n",
       "      <td>no</td>\n",
       "      <td>0</td>\n",
       "      <td>156.6</td>\n",
       "      <td>88</td>\n",
       "      <td>26.62</td>\n",
       "      <td>247.6</td>\n",
       "      <td>...</td>\n",
       "      <td>283</td>\n",
       "      <td>59.64</td>\n",
       "      <td>0.302500</td>\n",
       "      <td>0.280667</td>\n",
       "      <td>0.075217</td>\n",
       "      <td>0.202590</td>\n",
       "      <td>0.664000</td>\n",
       "      <td>2.020368</td>\n",
       "      <td>1.060071</td>\n",
       "      <td>West</td>\n",
       "    </tr>\n",
       "    <tr>\n",
       "      <th>14</th>\n",
       "      <td>IA</td>\n",
       "      <td>62</td>\n",
       "      <td>415</td>\n",
       "      <td>no</td>\n",
       "      <td>no</td>\n",
       "      <td>0</td>\n",
       "      <td>120.7</td>\n",
       "      <td>70</td>\n",
       "      <td>20.52</td>\n",
       "      <td>307.2</td>\n",
       "      <td>...</td>\n",
       "      <td>251</td>\n",
       "      <td>59.31</td>\n",
       "      <td>0.293143</td>\n",
       "      <td>0.343553</td>\n",
       "      <td>0.092323</td>\n",
       "      <td>0.227633</td>\n",
       "      <td>0.590000</td>\n",
       "      <td>2.034161</td>\n",
       "      <td>1.593625</td>\n",
       "      <td>Midwest</td>\n",
       "    </tr>\n",
       "    <tr>\n",
       "      <th>15</th>\n",
       "      <td>NY</td>\n",
       "      <td>161</td>\n",
       "      <td>415</td>\n",
       "      <td>no</td>\n",
       "      <td>no</td>\n",
       "      <td>0</td>\n",
       "      <td>332.9</td>\n",
       "      <td>67</td>\n",
       "      <td>56.59</td>\n",
       "      <td>317.8</td>\n",
       "      <td>...</td>\n",
       "      <td>301</td>\n",
       "      <td>92.29</td>\n",
       "      <td>0.844627</td>\n",
       "      <td>0.278454</td>\n",
       "      <td>0.056484</td>\n",
       "      <td>0.311062</td>\n",
       "      <td>0.162222</td>\n",
       "      <td>0.661198</td>\n",
       "      <td>1.328904</td>\n",
       "      <td>Northeast</td>\n",
       "    </tr>\n",
       "    <tr>\n",
       "      <th>16</th>\n",
       "      <td>ID</td>\n",
       "      <td>85</td>\n",
       "      <td>408</td>\n",
       "      <td>no</td>\n",
       "      <td>yes</td>\n",
       "      <td>27</td>\n",
       "      <td>196.4</td>\n",
       "      <td>139</td>\n",
       "      <td>33.39</td>\n",
       "      <td>280.9</td>\n",
       "      <td>...</td>\n",
       "      <td>308</td>\n",
       "      <td>65.02</td>\n",
       "      <td>0.240216</td>\n",
       "      <td>0.265333</td>\n",
       "      <td>0.053600</td>\n",
       "      <td>0.201612</td>\n",
       "      <td>0.932500</td>\n",
       "      <td>2.377671</td>\n",
       "      <td>0.324675</td>\n",
       "      <td>West</td>\n",
       "    </tr>\n",
       "    <tr>\n",
       "      <th>17</th>\n",
       "      <td>VT</td>\n",
       "      <td>93</td>\n",
       "      <td>510</td>\n",
       "      <td>no</td>\n",
       "      <td>no</td>\n",
       "      <td>0</td>\n",
       "      <td>190.7</td>\n",
       "      <td>114</td>\n",
       "      <td>32.42</td>\n",
       "      <td>218.2</td>\n",
       "      <td>...</td>\n",
       "      <td>349</td>\n",
       "      <td>58.99</td>\n",
       "      <td>0.284386</td>\n",
       "      <td>0.167117</td>\n",
       "      <td>0.048182</td>\n",
       "      <td>0.164162</td>\n",
       "      <td>0.730000</td>\n",
       "      <td>1.481888</td>\n",
       "      <td>0.859599</td>\n",
       "      <td>Northeast</td>\n",
       "    </tr>\n",
       "    <tr>\n",
       "      <th>18</th>\n",
       "      <td>VA</td>\n",
       "      <td>76</td>\n",
       "      <td>510</td>\n",
       "      <td>no</td>\n",
       "      <td>yes</td>\n",
       "      <td>33</td>\n",
       "      <td>189.7</td>\n",
       "      <td>66</td>\n",
       "      <td>32.25</td>\n",
       "      <td>212.8</td>\n",
       "      <td>...</td>\n",
       "      <td>244</td>\n",
       "      <td>60.50</td>\n",
       "      <td>0.488636</td>\n",
       "      <td>0.278308</td>\n",
       "      <td>0.069074</td>\n",
       "      <td>0.241841</td>\n",
       "      <td>0.540000</td>\n",
       "      <td>1.729505</td>\n",
       "      <td>0.409836</td>\n",
       "      <td>South</td>\n",
       "    </tr>\n",
       "    <tr>\n",
       "      <th>19</th>\n",
       "      <td>TX</td>\n",
       "      <td>73</td>\n",
       "      <td>415</td>\n",
       "      <td>no</td>\n",
       "      <td>no</td>\n",
       "      <td>0</td>\n",
       "      <td>224.4</td>\n",
       "      <td>90</td>\n",
       "      <td>38.15</td>\n",
       "      <td>159.5</td>\n",
       "      <td>...</td>\n",
       "      <td>254</td>\n",
       "      <td>63.90</td>\n",
       "      <td>0.423889</td>\n",
       "      <td>0.154091</td>\n",
       "      <td>0.117297</td>\n",
       "      <td>0.239643</td>\n",
       "      <td>1.755000</td>\n",
       "      <td>2.204511</td>\n",
       "      <td>0.393701</td>\n",
       "      <td>South</td>\n",
       "    </tr>\n",
       "  </tbody>\n",
       "</table>\n",
       "<p>20 rows × 34 columns</p>\n",
       "</div>"
      ],
      "text/plain": [
       "   state  account_length  area_code international_plan voice_mail_plan  \\\n",
       "0     KS             128        415                 no             yes   \n",
       "1     OH             107        415                 no             yes   \n",
       "2     NJ             137        415                 no              no   \n",
       "3     OH              84        408                yes              no   \n",
       "4     OK              75        415                yes              no   \n",
       "5     AL             118        510                yes              no   \n",
       "6     MA             121        510                 no             yes   \n",
       "7     MO             147        415                yes              no   \n",
       "8     LA             117        408                 no              no   \n",
       "9     WV             141        415                yes             yes   \n",
       "10    IN              65        415                 no              no   \n",
       "11    RI              74        415                 no              no   \n",
       "12    IA             168        408                 no              no   \n",
       "13    MT              95        510                 no              no   \n",
       "14    IA              62        415                 no              no   \n",
       "15    NY             161        415                 no              no   \n",
       "16    ID              85        408                 no             yes   \n",
       "17    VT              93        510                 no              no   \n",
       "18    VA              76        510                 no             yes   \n",
       "19    TX              73        415                 no              no   \n",
       "\n",
       "    number_vmail_messages  total_day_minutes  total_day_calls  \\\n",
       "0                      25              265.1              110   \n",
       "1                      26              161.6              123   \n",
       "2                       0              243.4              114   \n",
       "3                       0              299.4               71   \n",
       "4                       0              166.7              113   \n",
       "5                       0              223.4               98   \n",
       "6                      24              218.2               88   \n",
       "7                       0              157.0               79   \n",
       "8                       0              184.5               97   \n",
       "9                      37              258.6               84   \n",
       "10                      0              129.1              137   \n",
       "11                      0              187.7              127   \n",
       "12                      0              128.8               96   \n",
       "13                      0              156.6               88   \n",
       "14                      0              120.7               70   \n",
       "15                      0              332.9               67   \n",
       "16                     27              196.4              139   \n",
       "17                      0              190.7              114   \n",
       "18                     33              189.7               66   \n",
       "19                      0              224.4               90   \n",
       "\n",
       "    total_day_charge  total_eve_minutes  ...  total_calls  total_charge  \\\n",
       "0              45.07              197.4  ...          303         75.56   \n",
       "1              27.47              195.5  ...          332         59.24   \n",
       "2              41.38              121.2  ...          333         62.29   \n",
       "3              50.90               61.9  ...          255         66.80   \n",
       "4              28.34              148.3  ...          359         52.09   \n",
       "5              37.98              220.6  ...          323         67.61   \n",
       "6              37.09              348.5  ...          321         78.31   \n",
       "7              26.69              103.1  ...          275         46.90   \n",
       "8              31.37              351.6  ...          271         73.32   \n",
       "9              43.96              222.0  ...          297         80.54   \n",
       "10             21.95              228.5  ...          337         54.20   \n",
       "11             31.91              163.4  ...          374         57.08   \n",
       "12             21.90              104.9  ...          297         40.19   \n",
       "13             26.62              247.6  ...          283         59.64   \n",
       "14             20.52              307.2  ...          251         59.31   \n",
       "15             56.59              317.8  ...          301         92.29   \n",
       "16             33.39              280.9  ...          308         65.02   \n",
       "17             32.42              218.2  ...          349         58.99   \n",
       "18             32.25              212.8  ...          244         60.50   \n",
       "19             38.15              159.5  ...          254         63.90   \n",
       "\n",
       "    charge_per_min_day  charge_per_min_eve  charge_per_min_night  \\\n",
       "0             0.409727            0.169495              0.120989   \n",
       "1             0.223333            0.161359              0.111165   \n",
       "2             0.362982            0.093636              0.070385   \n",
       "3             0.716901            0.059773              0.099551   \n",
       "4             0.250796            0.103361              0.069504   \n",
       "5             0.387551            0.185644              0.077797   \n",
       "6             0.421477            0.274259              0.081102   \n",
       "7             0.337848            0.093191              0.099271   \n",
       "8             0.323402            0.373625              0.107889   \n",
       "9             0.523333            0.170000              0.151443   \n",
       "10            0.160219            0.233976              0.084685   \n",
       "11            0.251260            0.093851              0.093830   \n",
       "12            0.228125            0.125634              0.049609   \n",
       "13            0.302500            0.280667              0.075217   \n",
       "14            0.293143            0.343553              0.092323   \n",
       "15            0.844627            0.278454              0.056484   \n",
       "16            0.240216            0.265333              0.053600   \n",
       "17            0.284386            0.167117              0.048182   \n",
       "18            0.488636            0.278308              0.069074   \n",
       "19            0.423889            0.154091              0.117297   \n",
       "\n",
       "    charge_per_min_dom  charge_per_min_int  %_int_min  call_satisfaction  \\\n",
       "0             0.242867            0.900000   1.394311           0.330033   \n",
       "1             0.168815            1.233333   2.191299           0.301205   \n",
       "2             0.179878            0.658000   2.261772           0.000000   \n",
       "3             0.262177            0.254286   1.168555           0.784314   \n",
       "4             0.138652            0.910000   1.972656           0.835655   \n",
       "5             0.207918            0.283333   0.963008           0.000000   \n",
       "6             0.242930            0.290000   0.953228           0.934579   \n",
       "7             0.167212            0.320000   1.482255           0.000000   \n",
       "8             0.265805            0.587500   1.143834           0.369004   \n",
       "9             0.265479            0.604000   1.368858           0.000000   \n",
       "10            0.153384            0.571667   2.193058           1.186944   \n",
       "11            0.148022            0.492000   1.636102           0.000000   \n",
       "12            0.126000            1.510000   2.901554           0.336700   \n",
       "13            0.202590            0.664000   2.020368           1.060071   \n",
       "14            0.227633            0.590000   2.034161           1.593625   \n",
       "15            0.311062            0.162222   0.661198           1.328904   \n",
       "16            0.201612            0.932500   2.377671           0.324675   \n",
       "17            0.164162            0.730000   1.481888           0.859599   \n",
       "18            0.241841            0.540000   1.729505           0.409836   \n",
       "19            0.239643            1.755000   2.204511           0.393701   \n",
       "\n",
       "       region  \n",
       "0     Midwest  \n",
       "1     Midwest  \n",
       "2   Northeast  \n",
       "3     Midwest  \n",
       "4       South  \n",
       "5       South  \n",
       "6   Northeast  \n",
       "7     Midwest  \n",
       "8       South  \n",
       "9       South  \n",
       "10    Midwest  \n",
       "11  Northeast  \n",
       "12    Midwest  \n",
       "13       West  \n",
       "14    Midwest  \n",
       "15  Northeast  \n",
       "16       West  \n",
       "17  Northeast  \n",
       "18      South  \n",
       "19      South  \n",
       "\n",
       "[20 rows x 34 columns]"
      ]
     },
     "execution_count": 258,
     "metadata": {},
     "output_type": "execute_result"
    }
   ],
   "source": [
    "df.head(20)"
   ]
  },
  {
   "cell_type": "code",
   "execution_count": 265,
   "metadata": {
    "ExecuteTime": {
     "end_time": "2021-08-04T15:39:42.080398Z",
     "start_time": "2021-08-04T15:39:42.074352Z"
    }
   },
   "outputs": [],
   "source": [
    "df2= df.head(20)"
   ]
  },
  {
   "cell_type": "code",
   "execution_count": 266,
   "metadata": {
    "ExecuteTime": {
     "end_time": "2021-08-04T15:39:47.495914Z",
     "start_time": "2021-08-04T15:39:47.452294Z"
    }
   },
   "outputs": [
    {
     "data": {
      "text/html": [
       "<div>\n",
       "<style scoped>\n",
       "    .dataframe tbody tr th:only-of-type {\n",
       "        vertical-align: middle;\n",
       "    }\n",
       "\n",
       "    .dataframe tbody tr th {\n",
       "        vertical-align: top;\n",
       "    }\n",
       "\n",
       "    .dataframe thead th {\n",
       "        text-align: right;\n",
       "    }\n",
       "</style>\n",
       "<table border=\"1\" class=\"dataframe\">\n",
       "  <thead>\n",
       "    <tr style=\"text-align: right;\">\n",
       "      <th></th>\n",
       "      <th>state</th>\n",
       "      <th>account_length</th>\n",
       "      <th>area_code</th>\n",
       "      <th>international_plan</th>\n",
       "      <th>voice_mail_plan</th>\n",
       "      <th>number_vmail_messages</th>\n",
       "      <th>total_day_minutes</th>\n",
       "      <th>total_day_calls</th>\n",
       "      <th>total_day_charge</th>\n",
       "      <th>total_eve_minutes</th>\n",
       "      <th>...</th>\n",
       "      <th>total_calls</th>\n",
       "      <th>total_charge</th>\n",
       "      <th>charge_per_min_day</th>\n",
       "      <th>charge_per_min_eve</th>\n",
       "      <th>charge_per_min_night</th>\n",
       "      <th>charge_per_min_dom</th>\n",
       "      <th>charge_per_min_int</th>\n",
       "      <th>%_int_min</th>\n",
       "      <th>call_satisfaction</th>\n",
       "      <th>region</th>\n",
       "    </tr>\n",
       "  </thead>\n",
       "  <tbody>\n",
       "    <tr>\n",
       "      <th>0</th>\n",
       "      <td>KS</td>\n",
       "      <td>128</td>\n",
       "      <td>415</td>\n",
       "      <td>no</td>\n",
       "      <td>yes</td>\n",
       "      <td>25</td>\n",
       "      <td>265.1</td>\n",
       "      <td>110</td>\n",
       "      <td>45.07</td>\n",
       "      <td>197.4</td>\n",
       "      <td>...</td>\n",
       "      <td>303</td>\n",
       "      <td>75.56</td>\n",
       "      <td>0.409727</td>\n",
       "      <td>0.169495</td>\n",
       "      <td>0.120989</td>\n",
       "      <td>0.242867</td>\n",
       "      <td>0.900000</td>\n",
       "      <td>1.394311</td>\n",
       "      <td>0.330033</td>\n",
       "      <td>Midwest</td>\n",
       "    </tr>\n",
       "    <tr>\n",
       "      <th>1</th>\n",
       "      <td>OH</td>\n",
       "      <td>107</td>\n",
       "      <td>415</td>\n",
       "      <td>no</td>\n",
       "      <td>yes</td>\n",
       "      <td>26</td>\n",
       "      <td>161.6</td>\n",
       "      <td>123</td>\n",
       "      <td>27.47</td>\n",
       "      <td>195.5</td>\n",
       "      <td>...</td>\n",
       "      <td>332</td>\n",
       "      <td>59.24</td>\n",
       "      <td>0.223333</td>\n",
       "      <td>0.161359</td>\n",
       "      <td>0.111165</td>\n",
       "      <td>0.168815</td>\n",
       "      <td>1.233333</td>\n",
       "      <td>2.191299</td>\n",
       "      <td>0.301205</td>\n",
       "      <td>Midwest</td>\n",
       "    </tr>\n",
       "    <tr>\n",
       "      <th>2</th>\n",
       "      <td>NJ</td>\n",
       "      <td>137</td>\n",
       "      <td>415</td>\n",
       "      <td>no</td>\n",
       "      <td>no</td>\n",
       "      <td>0</td>\n",
       "      <td>243.4</td>\n",
       "      <td>114</td>\n",
       "      <td>41.38</td>\n",
       "      <td>121.2</td>\n",
       "      <td>...</td>\n",
       "      <td>333</td>\n",
       "      <td>62.29</td>\n",
       "      <td>0.362982</td>\n",
       "      <td>0.093636</td>\n",
       "      <td>0.070385</td>\n",
       "      <td>0.179878</td>\n",
       "      <td>0.658000</td>\n",
       "      <td>2.261772</td>\n",
       "      <td>0.000000</td>\n",
       "      <td>Northeast</td>\n",
       "    </tr>\n",
       "    <tr>\n",
       "      <th>3</th>\n",
       "      <td>OH</td>\n",
       "      <td>84</td>\n",
       "      <td>408</td>\n",
       "      <td>yes</td>\n",
       "      <td>no</td>\n",
       "      <td>0</td>\n",
       "      <td>299.4</td>\n",
       "      <td>71</td>\n",
       "      <td>50.90</td>\n",
       "      <td>61.9</td>\n",
       "      <td>...</td>\n",
       "      <td>255</td>\n",
       "      <td>66.80</td>\n",
       "      <td>0.716901</td>\n",
       "      <td>0.059773</td>\n",
       "      <td>0.099551</td>\n",
       "      <td>0.262177</td>\n",
       "      <td>0.254286</td>\n",
       "      <td>1.168555</td>\n",
       "      <td>0.784314</td>\n",
       "      <td>Midwest</td>\n",
       "    </tr>\n",
       "    <tr>\n",
       "      <th>4</th>\n",
       "      <td>OK</td>\n",
       "      <td>75</td>\n",
       "      <td>415</td>\n",
       "      <td>yes</td>\n",
       "      <td>no</td>\n",
       "      <td>0</td>\n",
       "      <td>166.7</td>\n",
       "      <td>113</td>\n",
       "      <td>28.34</td>\n",
       "      <td>148.3</td>\n",
       "      <td>...</td>\n",
       "      <td>359</td>\n",
       "      <td>52.09</td>\n",
       "      <td>0.250796</td>\n",
       "      <td>0.103361</td>\n",
       "      <td>0.069504</td>\n",
       "      <td>0.138652</td>\n",
       "      <td>0.910000</td>\n",
       "      <td>1.972656</td>\n",
       "      <td>0.835655</td>\n",
       "      <td>South</td>\n",
       "    </tr>\n",
       "    <tr>\n",
       "      <th>5</th>\n",
       "      <td>AL</td>\n",
       "      <td>118</td>\n",
       "      <td>510</td>\n",
       "      <td>yes</td>\n",
       "      <td>no</td>\n",
       "      <td>0</td>\n",
       "      <td>223.4</td>\n",
       "      <td>98</td>\n",
       "      <td>37.98</td>\n",
       "      <td>220.6</td>\n",
       "      <td>...</td>\n",
       "      <td>323</td>\n",
       "      <td>67.61</td>\n",
       "      <td>0.387551</td>\n",
       "      <td>0.185644</td>\n",
       "      <td>0.077797</td>\n",
       "      <td>0.207918</td>\n",
       "      <td>0.283333</td>\n",
       "      <td>0.963008</td>\n",
       "      <td>0.000000</td>\n",
       "      <td>South</td>\n",
       "    </tr>\n",
       "    <tr>\n",
       "      <th>6</th>\n",
       "      <td>MA</td>\n",
       "      <td>121</td>\n",
       "      <td>510</td>\n",
       "      <td>no</td>\n",
       "      <td>yes</td>\n",
       "      <td>24</td>\n",
       "      <td>218.2</td>\n",
       "      <td>88</td>\n",
       "      <td>37.09</td>\n",
       "      <td>348.5</td>\n",
       "      <td>...</td>\n",
       "      <td>321</td>\n",
       "      <td>78.31</td>\n",
       "      <td>0.421477</td>\n",
       "      <td>0.274259</td>\n",
       "      <td>0.081102</td>\n",
       "      <td>0.242930</td>\n",
       "      <td>0.290000</td>\n",
       "      <td>0.953228</td>\n",
       "      <td>0.934579</td>\n",
       "      <td>Northeast</td>\n",
       "    </tr>\n",
       "    <tr>\n",
       "      <th>7</th>\n",
       "      <td>MO</td>\n",
       "      <td>147</td>\n",
       "      <td>415</td>\n",
       "      <td>yes</td>\n",
       "      <td>no</td>\n",
       "      <td>0</td>\n",
       "      <td>157.0</td>\n",
       "      <td>79</td>\n",
       "      <td>26.69</td>\n",
       "      <td>103.1</td>\n",
       "      <td>...</td>\n",
       "      <td>275</td>\n",
       "      <td>46.90</td>\n",
       "      <td>0.337848</td>\n",
       "      <td>0.093191</td>\n",
       "      <td>0.099271</td>\n",
       "      <td>0.167212</td>\n",
       "      <td>0.320000</td>\n",
       "      <td>1.482255</td>\n",
       "      <td>0.000000</td>\n",
       "      <td>Midwest</td>\n",
       "    </tr>\n",
       "    <tr>\n",
       "      <th>8</th>\n",
       "      <td>LA</td>\n",
       "      <td>117</td>\n",
       "      <td>408</td>\n",
       "      <td>no</td>\n",
       "      <td>no</td>\n",
       "      <td>0</td>\n",
       "      <td>184.5</td>\n",
       "      <td>97</td>\n",
       "      <td>31.37</td>\n",
       "      <td>351.6</td>\n",
       "      <td>...</td>\n",
       "      <td>271</td>\n",
       "      <td>73.32</td>\n",
       "      <td>0.323402</td>\n",
       "      <td>0.373625</td>\n",
       "      <td>0.107889</td>\n",
       "      <td>0.265805</td>\n",
       "      <td>0.587500</td>\n",
       "      <td>1.143834</td>\n",
       "      <td>0.369004</td>\n",
       "      <td>South</td>\n",
       "    </tr>\n",
       "    <tr>\n",
       "      <th>9</th>\n",
       "      <td>WV</td>\n",
       "      <td>141</td>\n",
       "      <td>415</td>\n",
       "      <td>yes</td>\n",
       "      <td>yes</td>\n",
       "      <td>37</td>\n",
       "      <td>258.6</td>\n",
       "      <td>84</td>\n",
       "      <td>43.96</td>\n",
       "      <td>222.0</td>\n",
       "      <td>...</td>\n",
       "      <td>297</td>\n",
       "      <td>80.54</td>\n",
       "      <td>0.523333</td>\n",
       "      <td>0.170000</td>\n",
       "      <td>0.151443</td>\n",
       "      <td>0.265479</td>\n",
       "      <td>0.604000</td>\n",
       "      <td>1.368858</td>\n",
       "      <td>0.000000</td>\n",
       "      <td>South</td>\n",
       "    </tr>\n",
       "    <tr>\n",
       "      <th>10</th>\n",
       "      <td>IN</td>\n",
       "      <td>65</td>\n",
       "      <td>415</td>\n",
       "      <td>no</td>\n",
       "      <td>no</td>\n",
       "      <td>0</td>\n",
       "      <td>129.1</td>\n",
       "      <td>137</td>\n",
       "      <td>21.95</td>\n",
       "      <td>228.5</td>\n",
       "      <td>...</td>\n",
       "      <td>337</td>\n",
       "      <td>54.20</td>\n",
       "      <td>0.160219</td>\n",
       "      <td>0.233976</td>\n",
       "      <td>0.084685</td>\n",
       "      <td>0.153384</td>\n",
       "      <td>0.571667</td>\n",
       "      <td>2.193058</td>\n",
       "      <td>1.186944</td>\n",
       "      <td>Midwest</td>\n",
       "    </tr>\n",
       "    <tr>\n",
       "      <th>11</th>\n",
       "      <td>RI</td>\n",
       "      <td>74</td>\n",
       "      <td>415</td>\n",
       "      <td>no</td>\n",
       "      <td>no</td>\n",
       "      <td>0</td>\n",
       "      <td>187.7</td>\n",
       "      <td>127</td>\n",
       "      <td>31.91</td>\n",
       "      <td>163.4</td>\n",
       "      <td>...</td>\n",
       "      <td>374</td>\n",
       "      <td>57.08</td>\n",
       "      <td>0.251260</td>\n",
       "      <td>0.093851</td>\n",
       "      <td>0.093830</td>\n",
       "      <td>0.148022</td>\n",
       "      <td>0.492000</td>\n",
       "      <td>1.636102</td>\n",
       "      <td>0.000000</td>\n",
       "      <td>Northeast</td>\n",
       "    </tr>\n",
       "    <tr>\n",
       "      <th>12</th>\n",
       "      <td>IA</td>\n",
       "      <td>168</td>\n",
       "      <td>408</td>\n",
       "      <td>no</td>\n",
       "      <td>no</td>\n",
       "      <td>0</td>\n",
       "      <td>128.8</td>\n",
       "      <td>96</td>\n",
       "      <td>21.90</td>\n",
       "      <td>104.9</td>\n",
       "      <td>...</td>\n",
       "      <td>297</td>\n",
       "      <td>40.19</td>\n",
       "      <td>0.228125</td>\n",
       "      <td>0.125634</td>\n",
       "      <td>0.049609</td>\n",
       "      <td>0.126000</td>\n",
       "      <td>1.510000</td>\n",
       "      <td>2.901554</td>\n",
       "      <td>0.336700</td>\n",
       "      <td>Midwest</td>\n",
       "    </tr>\n",
       "    <tr>\n",
       "      <th>13</th>\n",
       "      <td>MT</td>\n",
       "      <td>95</td>\n",
       "      <td>510</td>\n",
       "      <td>no</td>\n",
       "      <td>no</td>\n",
       "      <td>0</td>\n",
       "      <td>156.6</td>\n",
       "      <td>88</td>\n",
       "      <td>26.62</td>\n",
       "      <td>247.6</td>\n",
       "      <td>...</td>\n",
       "      <td>283</td>\n",
       "      <td>59.64</td>\n",
       "      <td>0.302500</td>\n",
       "      <td>0.280667</td>\n",
       "      <td>0.075217</td>\n",
       "      <td>0.202590</td>\n",
       "      <td>0.664000</td>\n",
       "      <td>2.020368</td>\n",
       "      <td>1.060071</td>\n",
       "      <td>West</td>\n",
       "    </tr>\n",
       "    <tr>\n",
       "      <th>14</th>\n",
       "      <td>IA</td>\n",
       "      <td>62</td>\n",
       "      <td>415</td>\n",
       "      <td>no</td>\n",
       "      <td>no</td>\n",
       "      <td>0</td>\n",
       "      <td>120.7</td>\n",
       "      <td>70</td>\n",
       "      <td>20.52</td>\n",
       "      <td>307.2</td>\n",
       "      <td>...</td>\n",
       "      <td>251</td>\n",
       "      <td>59.31</td>\n",
       "      <td>0.293143</td>\n",
       "      <td>0.343553</td>\n",
       "      <td>0.092323</td>\n",
       "      <td>0.227633</td>\n",
       "      <td>0.590000</td>\n",
       "      <td>2.034161</td>\n",
       "      <td>1.593625</td>\n",
       "      <td>Midwest</td>\n",
       "    </tr>\n",
       "    <tr>\n",
       "      <th>15</th>\n",
       "      <td>NY</td>\n",
       "      <td>161</td>\n",
       "      <td>415</td>\n",
       "      <td>no</td>\n",
       "      <td>no</td>\n",
       "      <td>0</td>\n",
       "      <td>332.9</td>\n",
       "      <td>67</td>\n",
       "      <td>56.59</td>\n",
       "      <td>317.8</td>\n",
       "      <td>...</td>\n",
       "      <td>301</td>\n",
       "      <td>92.29</td>\n",
       "      <td>0.844627</td>\n",
       "      <td>0.278454</td>\n",
       "      <td>0.056484</td>\n",
       "      <td>0.311062</td>\n",
       "      <td>0.162222</td>\n",
       "      <td>0.661198</td>\n",
       "      <td>1.328904</td>\n",
       "      <td>Northeast</td>\n",
       "    </tr>\n",
       "    <tr>\n",
       "      <th>16</th>\n",
       "      <td>ID</td>\n",
       "      <td>85</td>\n",
       "      <td>408</td>\n",
       "      <td>no</td>\n",
       "      <td>yes</td>\n",
       "      <td>27</td>\n",
       "      <td>196.4</td>\n",
       "      <td>139</td>\n",
       "      <td>33.39</td>\n",
       "      <td>280.9</td>\n",
       "      <td>...</td>\n",
       "      <td>308</td>\n",
       "      <td>65.02</td>\n",
       "      <td>0.240216</td>\n",
       "      <td>0.265333</td>\n",
       "      <td>0.053600</td>\n",
       "      <td>0.201612</td>\n",
       "      <td>0.932500</td>\n",
       "      <td>2.377671</td>\n",
       "      <td>0.324675</td>\n",
       "      <td>West</td>\n",
       "    </tr>\n",
       "    <tr>\n",
       "      <th>17</th>\n",
       "      <td>VT</td>\n",
       "      <td>93</td>\n",
       "      <td>510</td>\n",
       "      <td>no</td>\n",
       "      <td>no</td>\n",
       "      <td>0</td>\n",
       "      <td>190.7</td>\n",
       "      <td>114</td>\n",
       "      <td>32.42</td>\n",
       "      <td>218.2</td>\n",
       "      <td>...</td>\n",
       "      <td>349</td>\n",
       "      <td>58.99</td>\n",
       "      <td>0.284386</td>\n",
       "      <td>0.167117</td>\n",
       "      <td>0.048182</td>\n",
       "      <td>0.164162</td>\n",
       "      <td>0.730000</td>\n",
       "      <td>1.481888</td>\n",
       "      <td>0.859599</td>\n",
       "      <td>Northeast</td>\n",
       "    </tr>\n",
       "    <tr>\n",
       "      <th>18</th>\n",
       "      <td>VA</td>\n",
       "      <td>76</td>\n",
       "      <td>510</td>\n",
       "      <td>no</td>\n",
       "      <td>yes</td>\n",
       "      <td>33</td>\n",
       "      <td>189.7</td>\n",
       "      <td>66</td>\n",
       "      <td>32.25</td>\n",
       "      <td>212.8</td>\n",
       "      <td>...</td>\n",
       "      <td>244</td>\n",
       "      <td>60.50</td>\n",
       "      <td>0.488636</td>\n",
       "      <td>0.278308</td>\n",
       "      <td>0.069074</td>\n",
       "      <td>0.241841</td>\n",
       "      <td>0.540000</td>\n",
       "      <td>1.729505</td>\n",
       "      <td>0.409836</td>\n",
       "      <td>South</td>\n",
       "    </tr>\n",
       "    <tr>\n",
       "      <th>19</th>\n",
       "      <td>TX</td>\n",
       "      <td>73</td>\n",
       "      <td>415</td>\n",
       "      <td>no</td>\n",
       "      <td>no</td>\n",
       "      <td>0</td>\n",
       "      <td>224.4</td>\n",
       "      <td>90</td>\n",
       "      <td>38.15</td>\n",
       "      <td>159.5</td>\n",
       "      <td>...</td>\n",
       "      <td>254</td>\n",
       "      <td>63.90</td>\n",
       "      <td>0.423889</td>\n",
       "      <td>0.154091</td>\n",
       "      <td>0.117297</td>\n",
       "      <td>0.239643</td>\n",
       "      <td>1.755000</td>\n",
       "      <td>2.204511</td>\n",
       "      <td>0.393701</td>\n",
       "      <td>South</td>\n",
       "    </tr>\n",
       "  </tbody>\n",
       "</table>\n",
       "<p>20 rows × 34 columns</p>\n",
       "</div>"
      ],
      "text/plain": [
       "   state  account_length  area_code international_plan voice_mail_plan  \\\n",
       "0     KS             128        415                 no             yes   \n",
       "1     OH             107        415                 no             yes   \n",
       "2     NJ             137        415                 no              no   \n",
       "3     OH              84        408                yes              no   \n",
       "4     OK              75        415                yes              no   \n",
       "5     AL             118        510                yes              no   \n",
       "6     MA             121        510                 no             yes   \n",
       "7     MO             147        415                yes              no   \n",
       "8     LA             117        408                 no              no   \n",
       "9     WV             141        415                yes             yes   \n",
       "10    IN              65        415                 no              no   \n",
       "11    RI              74        415                 no              no   \n",
       "12    IA             168        408                 no              no   \n",
       "13    MT              95        510                 no              no   \n",
       "14    IA              62        415                 no              no   \n",
       "15    NY             161        415                 no              no   \n",
       "16    ID              85        408                 no             yes   \n",
       "17    VT              93        510                 no              no   \n",
       "18    VA              76        510                 no             yes   \n",
       "19    TX              73        415                 no              no   \n",
       "\n",
       "    number_vmail_messages  total_day_minutes  total_day_calls  \\\n",
       "0                      25              265.1              110   \n",
       "1                      26              161.6              123   \n",
       "2                       0              243.4              114   \n",
       "3                       0              299.4               71   \n",
       "4                       0              166.7              113   \n",
       "5                       0              223.4               98   \n",
       "6                      24              218.2               88   \n",
       "7                       0              157.0               79   \n",
       "8                       0              184.5               97   \n",
       "9                      37              258.6               84   \n",
       "10                      0              129.1              137   \n",
       "11                      0              187.7              127   \n",
       "12                      0              128.8               96   \n",
       "13                      0              156.6               88   \n",
       "14                      0              120.7               70   \n",
       "15                      0              332.9               67   \n",
       "16                     27              196.4              139   \n",
       "17                      0              190.7              114   \n",
       "18                     33              189.7               66   \n",
       "19                      0              224.4               90   \n",
       "\n",
       "    total_day_charge  total_eve_minutes  ...  total_calls  total_charge  \\\n",
       "0              45.07              197.4  ...          303         75.56   \n",
       "1              27.47              195.5  ...          332         59.24   \n",
       "2              41.38              121.2  ...          333         62.29   \n",
       "3              50.90               61.9  ...          255         66.80   \n",
       "4              28.34              148.3  ...          359         52.09   \n",
       "5              37.98              220.6  ...          323         67.61   \n",
       "6              37.09              348.5  ...          321         78.31   \n",
       "7              26.69              103.1  ...          275         46.90   \n",
       "8              31.37              351.6  ...          271         73.32   \n",
       "9              43.96              222.0  ...          297         80.54   \n",
       "10             21.95              228.5  ...          337         54.20   \n",
       "11             31.91              163.4  ...          374         57.08   \n",
       "12             21.90              104.9  ...          297         40.19   \n",
       "13             26.62              247.6  ...          283         59.64   \n",
       "14             20.52              307.2  ...          251         59.31   \n",
       "15             56.59              317.8  ...          301         92.29   \n",
       "16             33.39              280.9  ...          308         65.02   \n",
       "17             32.42              218.2  ...          349         58.99   \n",
       "18             32.25              212.8  ...          244         60.50   \n",
       "19             38.15              159.5  ...          254         63.90   \n",
       "\n",
       "    charge_per_min_day  charge_per_min_eve  charge_per_min_night  \\\n",
       "0             0.409727            0.169495              0.120989   \n",
       "1             0.223333            0.161359              0.111165   \n",
       "2             0.362982            0.093636              0.070385   \n",
       "3             0.716901            0.059773              0.099551   \n",
       "4             0.250796            0.103361              0.069504   \n",
       "5             0.387551            0.185644              0.077797   \n",
       "6             0.421477            0.274259              0.081102   \n",
       "7             0.337848            0.093191              0.099271   \n",
       "8             0.323402            0.373625              0.107889   \n",
       "9             0.523333            0.170000              0.151443   \n",
       "10            0.160219            0.233976              0.084685   \n",
       "11            0.251260            0.093851              0.093830   \n",
       "12            0.228125            0.125634              0.049609   \n",
       "13            0.302500            0.280667              0.075217   \n",
       "14            0.293143            0.343553              0.092323   \n",
       "15            0.844627            0.278454              0.056484   \n",
       "16            0.240216            0.265333              0.053600   \n",
       "17            0.284386            0.167117              0.048182   \n",
       "18            0.488636            0.278308              0.069074   \n",
       "19            0.423889            0.154091              0.117297   \n",
       "\n",
       "    charge_per_min_dom  charge_per_min_int  %_int_min  call_satisfaction  \\\n",
       "0             0.242867            0.900000   1.394311           0.330033   \n",
       "1             0.168815            1.233333   2.191299           0.301205   \n",
       "2             0.179878            0.658000   2.261772           0.000000   \n",
       "3             0.262177            0.254286   1.168555           0.784314   \n",
       "4             0.138652            0.910000   1.972656           0.835655   \n",
       "5             0.207918            0.283333   0.963008           0.000000   \n",
       "6             0.242930            0.290000   0.953228           0.934579   \n",
       "7             0.167212            0.320000   1.482255           0.000000   \n",
       "8             0.265805            0.587500   1.143834           0.369004   \n",
       "9             0.265479            0.604000   1.368858           0.000000   \n",
       "10            0.153384            0.571667   2.193058           1.186944   \n",
       "11            0.148022            0.492000   1.636102           0.000000   \n",
       "12            0.126000            1.510000   2.901554           0.336700   \n",
       "13            0.202590            0.664000   2.020368           1.060071   \n",
       "14            0.227633            0.590000   2.034161           1.593625   \n",
       "15            0.311062            0.162222   0.661198           1.328904   \n",
       "16            0.201612            0.932500   2.377671           0.324675   \n",
       "17            0.164162            0.730000   1.481888           0.859599   \n",
       "18            0.241841            0.540000   1.729505           0.409836   \n",
       "19            0.239643            1.755000   2.204511           0.393701   \n",
       "\n",
       "       region  \n",
       "0     Midwest  \n",
       "1     Midwest  \n",
       "2   Northeast  \n",
       "3     Midwest  \n",
       "4       South  \n",
       "5       South  \n",
       "6   Northeast  \n",
       "7     Midwest  \n",
       "8       South  \n",
       "9       South  \n",
       "10    Midwest  \n",
       "11  Northeast  \n",
       "12    Midwest  \n",
       "13       West  \n",
       "14    Midwest  \n",
       "15  Northeast  \n",
       "16       West  \n",
       "17  Northeast  \n",
       "18      South  \n",
       "19      South  \n",
       "\n",
       "[20 rows x 34 columns]"
      ]
     },
     "execution_count": 266,
     "metadata": {},
     "output_type": "execute_result"
    }
   ],
   "source": [
    "df2"
   ]
  },
  {
   "cell_type": "code",
   "execution_count": 285,
   "metadata": {
    "ExecuteTime": {
     "end_time": "2021-08-04T15:53:46.507400Z",
     "start_time": "2021-08-04T15:52:50.324875Z"
    }
   },
   "outputs": [],
   "source": [
    "a=[]\n",
    "for index, i in df2.iterrows():\n",
    "    result = churn(i['account_length'], i['total_charge'], i['customer_service_calls'], i['international_plan'])\n",
    "    a.append(result)\n",
    "#     print(i)"
   ]
  },
  {
   "cell_type": "code",
   "execution_count": 286,
   "metadata": {
    "ExecuteTime": {
     "end_time": "2021-08-04T15:53:46.511229Z",
     "start_time": "2021-08-04T15:53:46.508807Z"
    }
   },
   "outputs": [
    {
     "data": {
      "text/plain": [
       "[1, 0, 0, 0, 0, 0, 1, 0, 0, 1, 1, 0, 0, 0, 0, 1, 0, 0, 0, 0]"
      ]
     },
     "execution_count": 286,
     "metadata": {},
     "output_type": "execute_result"
    }
   ],
   "source": [
    "a"
   ]
  },
  {
   "cell_type": "code",
   "execution_count": 287,
   "metadata": {
    "ExecuteTime": {
     "end_time": "2021-08-04T15:53:46.514528Z",
     "start_time": "2021-08-04T15:53:46.512627Z"
    },
    "scrolled": false
   },
   "outputs": [],
   "source": [
    "b= df.loc[:19, \"churn\"]==a"
   ]
  },
  {
   "cell_type": "code",
   "execution_count": 288,
   "metadata": {
    "ExecuteTime": {
     "end_time": "2021-08-04T15:53:46.518374Z",
     "start_time": "2021-08-04T15:53:46.515519Z"
    }
   },
   "outputs": [
    {
     "data": {
      "text/plain": [
       "0     False\n",
       "1      True\n",
       "2      True\n",
       "3      True\n",
       "4      True\n",
       "5      True\n",
       "6     False\n",
       "7      True\n",
       "8      True\n",
       "9     False\n",
       "10     True\n",
       "11     True\n",
       "12     True\n",
       "13     True\n",
       "14     True\n",
       "15     True\n",
       "16     True\n",
       "17     True\n",
       "18     True\n",
       "19     True\n",
       "Name: churn, dtype: bool"
      ]
     },
     "execution_count": 288,
     "metadata": {},
     "output_type": "execute_result"
    }
   ],
   "source": [
    "b"
   ]
  },
  {
   "cell_type": "code",
   "execution_count": 291,
   "metadata": {
    "ExecuteTime": {
     "end_time": "2021-08-04T17:02:54.919946Z",
     "start_time": "2021-08-04T17:02:54.892940Z"
    }
   },
   "outputs": [
    {
     "ename": "AttributeError",
     "evalue": "'Series' object has no attribute 'avg'",
     "output_type": "error",
     "traceback": [
      "\u001b[0;31m---------------------------------------------------------------------------\u001b[0m",
      "\u001b[0;31mAttributeError\u001b[0m                            Traceback (most recent call last)",
      "\u001b[0;32m<ipython-input-291-0d02f8ea8a8c>\u001b[0m in \u001b[0;36m<module>\u001b[0;34m\u001b[0m\n\u001b[0;32m----> 1\u001b[0;31m \u001b[0mdf\u001b[0m\u001b[0;34m.\u001b[0m\u001b[0mloc\u001b[0m\u001b[0;34m[\u001b[0m\u001b[0;34m(\u001b[0m\u001b[0mdf\u001b[0m\u001b[0;34m[\u001b[0m\u001b[0;34m'churn'\u001b[0m\u001b[0;34m]\u001b[0m\u001b[0;34m==\u001b[0m\u001b[0;36m1\u001b[0m\u001b[0;34m)\u001b[0m\u001b[0;34m,\u001b[0m\u001b[0;34m\"total_charge\"\u001b[0m\u001b[0;34m]\u001b[0m\u001b[0;34m.\u001b[0m\u001b[0mavg\u001b[0m\u001b[0;34m(\u001b[0m\u001b[0;34m)\u001b[0m\u001b[0;34m\u001b[0m\u001b[0;34m\u001b[0m\u001b[0m\n\u001b[0m",
      "\u001b[0;32m~/opt/anaconda3/envs/learn-env/lib/python3.8/site-packages/pandas/core/generic.py\u001b[0m in \u001b[0;36m__getattr__\u001b[0;34m(self, name)\u001b[0m\n\u001b[1;32m   5137\u001b[0m             \u001b[0;32mif\u001b[0m \u001b[0mself\u001b[0m\u001b[0;34m.\u001b[0m\u001b[0m_info_axis\u001b[0m\u001b[0;34m.\u001b[0m\u001b[0m_can_hold_identifiers_and_holds_name\u001b[0m\u001b[0;34m(\u001b[0m\u001b[0mname\u001b[0m\u001b[0;34m)\u001b[0m\u001b[0;34m:\u001b[0m\u001b[0;34m\u001b[0m\u001b[0;34m\u001b[0m\u001b[0m\n\u001b[1;32m   5138\u001b[0m                 \u001b[0;32mreturn\u001b[0m \u001b[0mself\u001b[0m\u001b[0;34m[\u001b[0m\u001b[0mname\u001b[0m\u001b[0;34m]\u001b[0m\u001b[0;34m\u001b[0m\u001b[0;34m\u001b[0m\u001b[0m\n\u001b[0;32m-> 5139\u001b[0;31m             \u001b[0;32mreturn\u001b[0m \u001b[0mobject\u001b[0m\u001b[0;34m.\u001b[0m\u001b[0m__getattribute__\u001b[0m\u001b[0;34m(\u001b[0m\u001b[0mself\u001b[0m\u001b[0;34m,\u001b[0m \u001b[0mname\u001b[0m\u001b[0;34m)\u001b[0m\u001b[0;34m\u001b[0m\u001b[0;34m\u001b[0m\u001b[0m\n\u001b[0m\u001b[1;32m   5140\u001b[0m \u001b[0;34m\u001b[0m\u001b[0m\n\u001b[1;32m   5141\u001b[0m     \u001b[0;32mdef\u001b[0m \u001b[0m__setattr__\u001b[0m\u001b[0;34m(\u001b[0m\u001b[0mself\u001b[0m\u001b[0;34m,\u001b[0m \u001b[0mname\u001b[0m\u001b[0;34m:\u001b[0m \u001b[0mstr\u001b[0m\u001b[0;34m,\u001b[0m \u001b[0mvalue\u001b[0m\u001b[0;34m)\u001b[0m \u001b[0;34m->\u001b[0m \u001b[0;32mNone\u001b[0m\u001b[0;34m:\u001b[0m\u001b[0;34m\u001b[0m\u001b[0;34m\u001b[0m\u001b[0m\n",
      "\u001b[0;31mAttributeError\u001b[0m: 'Series' object has no attribute 'avg'"
     ]
    }
   ],
   "source": [
    "df.loc[(df['churn']==1),\"total_charge\"].avg()"
   ]
  },
  {
   "cell_type": "code",
   "execution_count": null,
   "metadata": {},
   "outputs": [],
   "source": [
    "df.loc[(df['churn']==1),\"total_charge\"]"
   ]
  }
 ],
 "metadata": {
  "kernelspec": {
   "display_name": "Python (learn-env)",
   "language": "python",
   "name": "learn-env"
  },
  "language_info": {
   "codemirror_mode": {
    "name": "ipython",
    "version": 3
   },
   "file_extension": ".py",
   "mimetype": "text/x-python",
   "name": "python",
   "nbconvert_exporter": "python",
   "pygments_lexer": "ipython3",
   "version": "3.8.5"
  }
 },
 "nbformat": 4,
 "nbformat_minor": 4
}
