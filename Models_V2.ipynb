{
 "cells": [
  {
   "cell_type": "markdown",
   "metadata": {},
   "source": [
    "# SyriaTel Customer Churn Project"
   ]
  },
  {
   "cell_type": "markdown",
   "metadata": {},
   "source": [
    "### Team Members\n",
    "    * Eddie Lin\n",
    "    * Tony Bai\n",
    "    * Douglas Lu\n",
    "    * Arthur Kim"
   ]
  },
  {
   "cell_type": "markdown",
   "metadata": {},
   "source": [
    "## Imports"
   ]
  },
  {
   "cell_type": "code",
   "execution_count": 611,
   "metadata": {
    "ExecuteTime": {
     "end_time": "2021-08-05T15:15:58.585356Z",
     "start_time": "2021-08-05T15:15:58.577528Z"
    }
   },
   "outputs": [],
   "source": [
    "#import relevant libraries\n",
    "import pandas as pd\n",
    "import numpy as np\n",
    "import matplotlib.pyplot as plt\n",
    "import seaborn as sns\n",
    "import xgboost as xg\n",
    "from imblearn.pipeline import Pipeline as imbpipeline\n",
    "from sklearn.dummy import DummyClassifier\n",
    "from sklearn.ensemble import BaggingClassifier, RandomForestClassifier\n",
    "from sklearn.tree import DecisionTreeClassifier\n",
    "from sklearn.model_selection import train_test_split, cross_val_score, GridSearchCV\n",
    "from sklearn.preprocessing import StandardScaler, OneHotEncoder\n",
    "from sklearn.linear_model import LogisticRegression\n",
    "from sklearn.metrics import accuracy_score, precision_score, recall_score, f1_score,log_loss, classification_report, confusion_matrix, plot_confusion_matrix\n",
    "from sklearn.pipeline import Pipeline \n",
    "from sklearn.compose import ColumnTransformer\n",
    "from sklearn.neighbors import KNeighborsClassifier\n",
    "from sklearn.ensemble import AdaBoostClassifier, GradientBoostingClassifier, VotingClassifier\n",
    "from imblearn.over_sampling import SMOTE, SMOTENC\n",
    "\n",
    "import warnings\n"
   ]
  },
  {
   "cell_type": "code",
   "execution_count": 612,
   "metadata": {
    "ExecuteTime": {
     "end_time": "2021-08-05T15:15:58.593918Z",
     "start_time": "2021-08-05T15:15:58.589836Z"
    }
   },
   "outputs": [],
   "source": [
    "warnings.filterwarnings(\"ignore\")"
   ]
  },
  {
   "cell_type": "markdown",
   "metadata": {},
   "source": [
    "## Data Manipulation"
   ]
  },
  {
   "cell_type": "code",
   "execution_count": 613,
   "metadata": {
    "ExecuteTime": {
     "end_time": "2021-08-05T15:15:58.638952Z",
     "start_time": "2021-08-05T15:15:58.599786Z"
    }
   },
   "outputs": [],
   "source": [
    "#load the data\n",
    "\n",
    "df = pd.read_csv('data/syrialtel_cleaned_data.csv')"
   ]
  },
  {
   "cell_type": "code",
   "execution_count": 614,
   "metadata": {
    "ExecuteTime": {
     "end_time": "2021-08-05T15:15:58.687026Z",
     "start_time": "2021-08-05T15:15:58.642976Z"
    }
   },
   "outputs": [
    {
     "data": {
      "text/html": [
       "<div>\n",
       "<style scoped>\n",
       "    .dataframe tbody tr th:only-of-type {\n",
       "        vertical-align: middle;\n",
       "    }\n",
       "\n",
       "    .dataframe tbody tr th {\n",
       "        vertical-align: top;\n",
       "    }\n",
       "\n",
       "    .dataframe thead th {\n",
       "        text-align: right;\n",
       "    }\n",
       "</style>\n",
       "<table border=\"1\" class=\"dataframe\">\n",
       "  <thead>\n",
       "    <tr style=\"text-align: right;\">\n",
       "      <th></th>\n",
       "      <th>state</th>\n",
       "      <th>account_length</th>\n",
       "      <th>area_code</th>\n",
       "      <th>international_plan</th>\n",
       "      <th>voice_mail_plan</th>\n",
       "      <th>number_vmail_messages</th>\n",
       "      <th>total_day_minutes</th>\n",
       "      <th>total_day_calls</th>\n",
       "      <th>total_day_charge</th>\n",
       "      <th>total_eve_minutes</th>\n",
       "      <th>...</th>\n",
       "      <th>total_calls</th>\n",
       "      <th>total_charge</th>\n",
       "      <th>charge_per_min_day</th>\n",
       "      <th>charge_per_min_eve</th>\n",
       "      <th>charge_per_min_night</th>\n",
       "      <th>charge_per_min_dom</th>\n",
       "      <th>charge_per_min_int</th>\n",
       "      <th>%_int_min</th>\n",
       "      <th>call_satisfaction</th>\n",
       "      <th>region</th>\n",
       "    </tr>\n",
       "  </thead>\n",
       "  <tbody>\n",
       "    <tr>\n",
       "      <th>0</th>\n",
       "      <td>KS</td>\n",
       "      <td>128</td>\n",
       "      <td>415</td>\n",
       "      <td>no</td>\n",
       "      <td>yes</td>\n",
       "      <td>25</td>\n",
       "      <td>265.1</td>\n",
       "      <td>110</td>\n",
       "      <td>45.07</td>\n",
       "      <td>197.4</td>\n",
       "      <td>...</td>\n",
       "      <td>303</td>\n",
       "      <td>75.56</td>\n",
       "      <td>0.409727</td>\n",
       "      <td>0.169495</td>\n",
       "      <td>0.120989</td>\n",
       "      <td>0.242867</td>\n",
       "      <td>0.900000</td>\n",
       "      <td>1.394311</td>\n",
       "      <td>0.330033</td>\n",
       "      <td>Midwest</td>\n",
       "    </tr>\n",
       "    <tr>\n",
       "      <th>1</th>\n",
       "      <td>OH</td>\n",
       "      <td>107</td>\n",
       "      <td>415</td>\n",
       "      <td>no</td>\n",
       "      <td>yes</td>\n",
       "      <td>26</td>\n",
       "      <td>161.6</td>\n",
       "      <td>123</td>\n",
       "      <td>27.47</td>\n",
       "      <td>195.5</td>\n",
       "      <td>...</td>\n",
       "      <td>332</td>\n",
       "      <td>59.24</td>\n",
       "      <td>0.223333</td>\n",
       "      <td>0.161359</td>\n",
       "      <td>0.111165</td>\n",
       "      <td>0.168815</td>\n",
       "      <td>1.233333</td>\n",
       "      <td>2.191299</td>\n",
       "      <td>0.301205</td>\n",
       "      <td>Midwest</td>\n",
       "    </tr>\n",
       "    <tr>\n",
       "      <th>2</th>\n",
       "      <td>NJ</td>\n",
       "      <td>137</td>\n",
       "      <td>415</td>\n",
       "      <td>no</td>\n",
       "      <td>no</td>\n",
       "      <td>0</td>\n",
       "      <td>243.4</td>\n",
       "      <td>114</td>\n",
       "      <td>41.38</td>\n",
       "      <td>121.2</td>\n",
       "      <td>...</td>\n",
       "      <td>333</td>\n",
       "      <td>62.29</td>\n",
       "      <td>0.362982</td>\n",
       "      <td>0.093636</td>\n",
       "      <td>0.070385</td>\n",
       "      <td>0.179878</td>\n",
       "      <td>0.658000</td>\n",
       "      <td>2.261772</td>\n",
       "      <td>0.000000</td>\n",
       "      <td>Northeast</td>\n",
       "    </tr>\n",
       "    <tr>\n",
       "      <th>3</th>\n",
       "      <td>OH</td>\n",
       "      <td>84</td>\n",
       "      <td>408</td>\n",
       "      <td>yes</td>\n",
       "      <td>no</td>\n",
       "      <td>0</td>\n",
       "      <td>299.4</td>\n",
       "      <td>71</td>\n",
       "      <td>50.90</td>\n",
       "      <td>61.9</td>\n",
       "      <td>...</td>\n",
       "      <td>255</td>\n",
       "      <td>66.80</td>\n",
       "      <td>0.716901</td>\n",
       "      <td>0.059773</td>\n",
       "      <td>0.099551</td>\n",
       "      <td>0.262177</td>\n",
       "      <td>0.254286</td>\n",
       "      <td>1.168555</td>\n",
       "      <td>0.784314</td>\n",
       "      <td>Midwest</td>\n",
       "    </tr>\n",
       "    <tr>\n",
       "      <th>4</th>\n",
       "      <td>OK</td>\n",
       "      <td>75</td>\n",
       "      <td>415</td>\n",
       "      <td>yes</td>\n",
       "      <td>no</td>\n",
       "      <td>0</td>\n",
       "      <td>166.7</td>\n",
       "      <td>113</td>\n",
       "      <td>28.34</td>\n",
       "      <td>148.3</td>\n",
       "      <td>...</td>\n",
       "      <td>359</td>\n",
       "      <td>52.09</td>\n",
       "      <td>0.250796</td>\n",
       "      <td>0.103361</td>\n",
       "      <td>0.069504</td>\n",
       "      <td>0.138652</td>\n",
       "      <td>0.910000</td>\n",
       "      <td>1.972656</td>\n",
       "      <td>0.835655</td>\n",
       "      <td>South</td>\n",
       "    </tr>\n",
       "  </tbody>\n",
       "</table>\n",
       "<p>5 rows × 34 columns</p>\n",
       "</div>"
      ],
      "text/plain": [
       "  state  account_length  area_code international_plan voice_mail_plan  \\\n",
       "0    KS             128        415                 no             yes   \n",
       "1    OH             107        415                 no             yes   \n",
       "2    NJ             137        415                 no              no   \n",
       "3    OH              84        408                yes              no   \n",
       "4    OK              75        415                yes              no   \n",
       "\n",
       "   number_vmail_messages  total_day_minutes  total_day_calls  \\\n",
       "0                     25              265.1              110   \n",
       "1                     26              161.6              123   \n",
       "2                      0              243.4              114   \n",
       "3                      0              299.4               71   \n",
       "4                      0              166.7              113   \n",
       "\n",
       "   total_day_charge  total_eve_minutes  ...  total_calls  total_charge  \\\n",
       "0             45.07              197.4  ...          303         75.56   \n",
       "1             27.47              195.5  ...          332         59.24   \n",
       "2             41.38              121.2  ...          333         62.29   \n",
       "3             50.90               61.9  ...          255         66.80   \n",
       "4             28.34              148.3  ...          359         52.09   \n",
       "\n",
       "   charge_per_min_day  charge_per_min_eve  charge_per_min_night  \\\n",
       "0            0.409727            0.169495              0.120989   \n",
       "1            0.223333            0.161359              0.111165   \n",
       "2            0.362982            0.093636              0.070385   \n",
       "3            0.716901            0.059773              0.099551   \n",
       "4            0.250796            0.103361              0.069504   \n",
       "\n",
       "   charge_per_min_dom  charge_per_min_int  %_int_min  call_satisfaction  \\\n",
       "0            0.242867            0.900000   1.394311           0.330033   \n",
       "1            0.168815            1.233333   2.191299           0.301205   \n",
       "2            0.179878            0.658000   2.261772           0.000000   \n",
       "3            0.262177            0.254286   1.168555           0.784314   \n",
       "4            0.138652            0.910000   1.972656           0.835655   \n",
       "\n",
       "      region  \n",
       "0    Midwest  \n",
       "1    Midwest  \n",
       "2  Northeast  \n",
       "3    Midwest  \n",
       "4      South  \n",
       "\n",
       "[5 rows x 34 columns]"
      ]
     },
     "execution_count": 614,
     "metadata": {},
     "output_type": "execute_result"
    }
   ],
   "source": [
    "df.head()"
   ]
  },
  {
   "cell_type": "code",
   "execution_count": 615,
   "metadata": {
    "ExecuteTime": {
     "end_time": "2021-08-05T15:15:58.703483Z",
     "start_time": "2021-08-05T15:15:58.691846Z"
    }
   },
   "outputs": [
    {
     "data": {
      "text/plain": [
       "0    2850\n",
       "1     483\n",
       "Name: churn, dtype: int64"
      ]
     },
     "execution_count": 615,
     "metadata": {},
     "output_type": "execute_result"
    }
   ],
   "source": [
    "df['churn'].value_counts()"
   ]
  },
  {
   "cell_type": "code",
   "execution_count": 616,
   "metadata": {
    "ExecuteTime": {
     "end_time": "2021-08-05T15:15:58.716751Z",
     "start_time": "2021-08-05T15:15:58.708762Z"
    }
   },
   "outputs": [
    {
     "data": {
      "text/plain": [
       "198146.03000000003"
      ]
     },
     "execution_count": 616,
     "metadata": {},
     "output_type": "execute_result"
    }
   ],
   "source": [
    "df['total_charge'].sum()"
   ]
  },
  {
   "cell_type": "markdown",
   "metadata": {},
   "source": [
    "The data is split to a train and test data"
   ]
  },
  {
   "cell_type": "code",
   "execution_count": 617,
   "metadata": {
    "ExecuteTime": {
     "end_time": "2021-08-05T15:15:58.734112Z",
     "start_time": "2021-08-05T15:15:58.720839Z"
    }
   },
   "outputs": [],
   "source": [
    "#seperating the target and data\n",
    "X = df.drop('churn', axis=1)\n",
    "y = df['churn']\n",
    "\n",
    "#creating a training and testing set\n",
    "X_train, X_test, y_train, y_test = train_test_split(X, y, test_size=0.3, random_state=42)"
   ]
  },
  {
   "cell_type": "markdown",
   "metadata": {
    "heading_collapsed": true
   },
   "source": [
    "## Splitting the data between categorical and continuous"
   ]
  },
  {
   "cell_type": "code",
   "execution_count": 618,
   "metadata": {
    "ExecuteTime": {
     "end_time": "2021-08-05T15:15:58.747942Z",
     "start_time": "2021-08-05T15:15:58.738514Z"
    },
    "hidden": true
   },
   "outputs": [],
   "source": [
    "categorical = ['state','area_code', 'international_plan', 'voice_mail_plan', 'region']\n",
    "df_cat = X_train[categorical]\n",
    "df_cont = X_train.drop(categorical,axis = 1)"
   ]
  },
  {
   "cell_type": "code",
   "execution_count": 619,
   "metadata": {
    "ExecuteTime": {
     "end_time": "2021-08-05T15:15:58.757611Z",
     "start_time": "2021-08-05T15:15:58.752176Z"
    },
    "hidden": true
   },
   "outputs": [],
   "source": [
    "#splitting the numericals and categoricals\n",
    "X_num = df_cont.columns\n",
    "X_cat = df_cat.columns"
   ]
  },
  {
   "cell_type": "markdown",
   "metadata": {
    "heading_collapsed": true
   },
   "source": [
    "## Pipeline"
   ]
  },
  {
   "cell_type": "code",
   "execution_count": 620,
   "metadata": {
    "ExecuteTime": {
     "end_time": "2021-08-05T15:15:58.775090Z",
     "start_time": "2021-08-05T15:15:58.766949Z"
    },
    "hidden": true
   },
   "outputs": [],
   "source": [
    "#preprocessing the pipeline with standard scaler and one hot encoder\n",
    "numTrans = Pipeline(steps=[\n",
    "    ('scaler', StandardScaler())\n",
    "    ])\n",
    "catTrans = Pipeline(steps=[\n",
    "    ('ohe', OneHotEncoder(drop='first',\n",
    "                          sparse=False))\n",
    "    ])\n",
    "\n",
    "pp = ColumnTransformer(transformers=[\n",
    "    ('num', numTrans, X_num),\n",
    "    ('cat', catTrans, X_cat)\n",
    "    ])"
   ]
  },
  {
   "cell_type": "code",
   "execution_count": 621,
   "metadata": {
    "ExecuteTime": {
     "end_time": "2021-08-05T15:15:58.830607Z",
     "start_time": "2021-08-05T15:15:58.781883Z"
    },
    "hidden": true
   },
   "outputs": [],
   "source": [
    "# transform the pipeline and then converting it back into a dataframe\n",
    "X_train_scaled = pp.fit_transform(X_train)\n",
    "X_test_scaled = pp.transform(X_test)"
   ]
  },
  {
   "cell_type": "code",
   "execution_count": 622,
   "metadata": {
    "ExecuteTime": {
     "end_time": "2021-08-05T15:15:58.841312Z",
     "start_time": "2021-08-05T15:15:58.834110Z"
    },
    "hidden": true
   },
   "outputs": [],
   "source": [
    "# aggregating col names from the one hot encode \n",
    "cat_names = pp.transformers_[1][1].named_steps['ohe'].get_feature_names(X_cat).tolist()\n",
    "feature_names= list(X_num) + cat_names\n",
    "\n",
    "# renaming the data frame with corresponding col names\n",
    "X_train_scaled = pd.DataFrame(X_train_scaled, columns = feature_names)\n",
    "X_test_scaled = pd.DataFrame(X_test_scaled, columns=feature_names)"
   ]
  },
  {
   "cell_type": "code",
   "execution_count": 623,
   "metadata": {
    "ExecuteTime": {
     "end_time": "2021-08-05T15:15:58.852852Z",
     "start_time": "2021-08-05T15:15:58.844882Z"
    },
    "hidden": true
   },
   "outputs": [
    {
     "data": {
      "text/plain": [
       "['account_length',\n",
       " 'number_vmail_messages',\n",
       " 'total_day_minutes',\n",
       " 'total_day_calls',\n",
       " 'total_day_charge',\n",
       " 'total_eve_minutes',\n",
       " 'total_eve_calls',\n",
       " 'total_eve_charge',\n",
       " 'total_night_minutes',\n",
       " 'total_night_calls',\n",
       " 'total_night_charge',\n",
       " 'total_intl_minutes',\n",
       " 'total_intl_calls',\n",
       " 'total_intl_charge',\n",
       " 'customer_service_calls',\n",
       " 'total_minutes_dom',\n",
       " 'total_calls_dom',\n",
       " 'total_charge_dom',\n",
       " 'total_minutes',\n",
       " 'total_calls',\n",
       " 'total_charge',\n",
       " 'charge_per_min_day',\n",
       " 'charge_per_min_eve',\n",
       " 'charge_per_min_night',\n",
       " 'charge_per_min_dom',\n",
       " 'charge_per_min_int',\n",
       " '%_int_min',\n",
       " 'call_satisfaction',\n",
       " 'state_AL',\n",
       " 'state_AR',\n",
       " 'state_AZ',\n",
       " 'state_CA',\n",
       " 'state_CO',\n",
       " 'state_CT',\n",
       " 'state_DC',\n",
       " 'state_DE',\n",
       " 'state_FL',\n",
       " 'state_GA',\n",
       " 'state_HI',\n",
       " 'state_IA',\n",
       " 'state_ID',\n",
       " 'state_IL',\n",
       " 'state_IN',\n",
       " 'state_KS',\n",
       " 'state_KY',\n",
       " 'state_LA',\n",
       " 'state_MA',\n",
       " 'state_MD',\n",
       " 'state_ME',\n",
       " 'state_MI',\n",
       " 'state_MN',\n",
       " 'state_MO',\n",
       " 'state_MS',\n",
       " 'state_MT',\n",
       " 'state_NC',\n",
       " 'state_ND',\n",
       " 'state_NE',\n",
       " 'state_NH',\n",
       " 'state_NJ',\n",
       " 'state_NM',\n",
       " 'state_NV',\n",
       " 'state_NY',\n",
       " 'state_OH',\n",
       " 'state_OK',\n",
       " 'state_OR',\n",
       " 'state_PA',\n",
       " 'state_RI',\n",
       " 'state_SC',\n",
       " 'state_SD',\n",
       " 'state_TN',\n",
       " 'state_TX',\n",
       " 'state_UT',\n",
       " 'state_VA',\n",
       " 'state_VT',\n",
       " 'state_WA',\n",
       " 'state_WI',\n",
       " 'state_WV',\n",
       " 'state_WY',\n",
       " 'area_code_415',\n",
       " 'area_code_510',\n",
       " 'international_plan_yes',\n",
       " 'voice_mail_plan_yes',\n",
       " 'region_Northeast',\n",
       " 'region_South',\n",
       " 'region_West']"
      ]
     },
     "execution_count": 623,
     "metadata": {},
     "output_type": "execute_result"
    }
   ],
   "source": [
    "feature_names"
   ]
  },
  {
   "cell_type": "markdown",
   "metadata": {
    "heading_collapsed": true
   },
   "source": [
    "# Functions"
   ]
  },
  {
   "cell_type": "code",
   "execution_count": 624,
   "metadata": {
    "ExecuteTime": {
     "end_time": "2021-08-05T15:15:58.866514Z",
     "start_time": "2021-08-05T15:15:58.857708Z"
    },
    "hidden": true
   },
   "outputs": [],
   "source": [
    "def scores(model, actual = y_test ,X_train_scaled = X_train_scaled, X_test_scaled = X_test_scaled,y_train = y_train):\n",
    "    pred_train = model.predict(X_train_scaled)\n",
    "    pred_test = model.predict(X_test_scaled)\n",
    "    \n",
    "    plot_confusion_matrix(model, X_train_scaled, y_train)\n",
    "    print(\"Train Scores\")\n",
    "    print(\"log loss: \", log_loss(y_train, pred_train))\n",
    "    print(\"accuracy: \", accuracy_score(y_train, pred_train))\n",
    "    print(\"precision:\", precision_score(y_train, pred_train))\n",
    "    print(\"recall:   \", recall_score(y_train, pred_train))\n",
    "    \n",
    "    \n",
    "    print(\"Test Scores\")\n",
    "    print(\"log loss: \", log_loss(actual, pred_test))\n",
    "    print(\"accuracy: \", accuracy_score(actual, pred_test))\n",
    "    print(\"precision:\", precision_score(actual, pred_test))\n",
    "    print(\"recall:   \", recall_score(actual, pred_test))\n",
    "    \n",
    "    \n",
    "    plot_confusion_matrix(model, X_test_scaled, actual)"
   ]
  },
  {
   "cell_type": "code",
   "execution_count": 625,
   "metadata": {
    "ExecuteTime": {
     "end_time": "2021-08-05T15:15:58.877536Z",
     "start_time": "2021-08-05T15:15:58.870514Z"
    },
    "hidden": true
   },
   "outputs": [],
   "source": [
    "def plot_feature_importances(model):\n",
    "    n_features = X_train_scaled.shape[1]\n",
    "    plt.figure(figsize=(8,20))\n",
    "    plt.barh(range(n_features), model.feature_importances_, align='center') \n",
    "    plt.yticks(np.arange(n_features), X_train_scaled.columns.values) \n",
    "    plt.xlabel('Feature importance')\n",
    "    plt.ylabel('Feature')"
   ]
  },
  {
   "cell_type": "markdown",
   "metadata": {
    "heading_collapsed": true
   },
   "source": [
    "# Dummy model"
   ]
  },
  {
   "cell_type": "code",
   "execution_count": 626,
   "metadata": {
    "ExecuteTime": {
     "end_time": "2021-08-05T15:15:59.751059Z",
     "start_time": "2021-08-05T15:15:58.882491Z"
    },
    "hidden": true
   },
   "outputs": [
    {
     "name": "stdout",
     "output_type": "stream",
     "text": [
      "Train Scores\n",
      "log loss:  5.033512205001985\n",
      "accuracy:  0.8542648949849978\n",
      "precision: 0.0\n",
      "recall:    0.0\n",
      "Test Scores\n",
      "log loss:  4.939045024472227\n",
      "accuracy:  0.857\n",
      "precision: 0.0\n",
      "recall:    0.0\n"
     ]
    },
    {
     "data": {
      "image/png": "[encoded data removed]",
      "text/plain": [
       "<Figure size 432x288 with 2 Axes>"
      ]
     },
     "metadata": {
      "needs_background": "light"
     },
     "output_type": "display_data"
    },
    {
     "data": {
      "image/png": "[encoded data removed]",
      "text/plain": [
       "<Figure size 432x288 with 2 Axes>"
      ]
     },
     "metadata": {
      "needs_background": "light"
     },
     "output_type": "display_data"
    }
   ],
   "source": [
    "##We create a dummy model of our data\n",
    "dummy_clf = DummyClassifier(strategy=\"most_frequent\")\n",
    "dummy_clf.fit(X_train_scaled, y_train)\n",
    "\n",
    "#y_preds_dum= dummy_clf.predict(X_test)\n",
    "\n",
    "scores(dummy_clf);\n",
    "\n",
    "#from this data we can see that the data is skewed\n",
    "#and has a 85% accuracy of predicting correctly when \n",
    "#assuming one category"
   ]
  },
  {
   "cell_type": "markdown",
   "metadata": {
    "hidden": true
   },
   "source": [
    "## Model 1:  Log Regression"
   ]
  },
  {
   "cell_type": "code",
   "execution_count": 627,
   "metadata": {
    "ExecuteTime": {
     "end_time": "2021-08-05T15:16:00.689866Z",
     "start_time": "2021-08-05T15:15:59.756876Z"
    },
    "hidden": true
   },
   "outputs": [
    {
     "name": "stdout",
     "output_type": "stream",
     "text": [
      "0.8636884138552169\n"
     ]
    }
   ],
   "source": [
    "## Here we use a basic Log Regresion used a baseline log regression model to test out the data\n",
    "\n",
    "\n",
    "logreg = LogisticRegression(random_state=42, max_iter=2000)#look into warning\n",
    "\n",
    "logreg.fit(X_train_scaled, y_train)\n",
    "\n",
    "logreg_cv = cross_val_score(logreg, X_train_scaled, y_train).mean()\n",
    "print(logreg_cv)"
   ]
  },
  {
   "cell_type": "code",
   "execution_count": 628,
   "metadata": {
    "ExecuteTime": {
     "end_time": "2021-08-05T15:16:01.727331Z",
     "start_time": "2021-08-05T15:16:00.696522Z"
    },
    "hidden": true
   },
   "outputs": [
    {
     "name": "stdout",
     "output_type": "stream",
     "text": [
      "Train Scores\n",
      "log loss:  4.248891901939016\n",
      "accuracy:  0.8769824260608658\n",
      "precision: 0.6853146853146853\n",
      "recall:    0.28823529411764703\n",
      "Test Scores\n",
      "log loss:  4.593675651264016\n",
      "accuracy:  0.867\n",
      "precision: 0.5892857142857143\n",
      "recall:    0.23076923076923078\n"
     ]
    },
    {
     "data": {
      "image/png": "[encoded data removed]",
      "text/plain": [
       "<Figure size 432x288 with 2 Axes>"
      ]
     },
     "metadata": {
      "needs_background": "light"
     },
     "output_type": "display_data"
    },
    {
     "data": {
      "image/png": "[encoded data removed]",
      "text/plain": [
       "<Figure size 432x288 with 2 Axes>"
      ]
     },
     "metadata": {
      "needs_background": "light"
     },
     "output_type": "display_data"
    }
   ],
   "source": [
    "scores(logreg,y_test)"
   ]
  },
  {
   "cell_type": "code",
   "execution_count": 629,
   "metadata": {
    "ExecuteTime": {
     "end_time": "2021-08-05T15:16:01.736317Z",
     "start_time": "2021-08-05T15:16:01.731443Z"
    },
    "hidden": true
   },
   "outputs": [],
   "source": [
    "# print(logreg_baseline.score(X_train_scaled, y_train))\n",
    "# print(logreg_baseline.score(X_test_scaled, y_test))"
   ]
  },
  {
   "cell_type": "code",
   "execution_count": 630,
   "metadata": {
    "ExecuteTime": {
     "end_time": "2021-08-05T15:16:01.745252Z",
     "start_time": "2021-08-05T15:16:01.740740Z"
    },
    "hidden": true
   },
   "outputs": [],
   "source": [
    "# y_preds_log = logreg_baseline.predict(X_test_scaled)\n",
    "# scores(y_test,)"
   ]
  },
  {
   "cell_type": "markdown",
   "metadata": {
    "hidden": true
   },
   "source": [
    "### Not terrible results for the first model"
   ]
  },
  {
   "cell_type": "markdown",
   "metadata": {
    "hidden": true
   },
   "source": [
    "But we have decided to look at recall for our metric. As a telecom company trying to reduce churn, we care about the recall of our model. Recall is defined as the TP/(TP+FN). We are trying to minimize False Negatives (FN) here, meaning that we want to reduce the number of people that our model predicts will not churn but are actually likely to do so. This is because we want to send out promotions to retain customers and we do not want to miss any potential customers who are likely to churn."
   ]
  },
  {
   "cell_type": "markdown",
   "metadata": {
    "ExecuteTime": {
     "end_time": "2021-08-03T21:22:48.539690Z",
     "start_time": "2021-08-03T21:22:48.536855Z"
    },
    "hidden": true
   },
   "source": [
    "## Model 2: K-Nearest Neighbors and Grid Search without SMOTE"
   ]
  },
  {
   "cell_type": "markdown",
   "metadata": {
    "hidden": true
   },
   "source": [
    "The Gridsearch for the KNN model is commented out due to the long run time for the search. The best parameters from the search has been selected and assigned below."
   ]
  },
  {
   "cell_type": "code",
   "execution_count": 631,
   "metadata": {
    "ExecuteTime": {
     "end_time": "2021-08-05T15:16:01.755683Z",
     "start_time": "2021-08-05T15:16:01.750616Z"
    },
    "hidden": true
   },
   "outputs": [],
   "source": [
    "\n",
    "\n",
    "### initate the model with no parameters\n",
    "\n",
    "# knn_model = KNeighborsClassifier()\n",
    "\n",
    "\n",
    "# # initiate grid and grid search\n",
    "# param_grid = {\n",
    "#     'n_neighbors': list(range(1, 20, 2)),\n",
    "#     'weights': ['uniform', 'distance'],\n",
    "#     'p': [1, 2, 3, 4],\n",
    "# }\n",
    "\n",
    "\n",
    "# gs_knn = GridSearchCV(knn_model, param_grid=param_grid, cv=5)\n",
    "# gs_knn.fit(X_train_scaled, y_train)\n",
    "\n",
    "# gs_knn.best_params_"
   ]
  },
  {
   "cell_type": "code",
   "execution_count": 632,
   "metadata": {
    "ExecuteTime": {
     "end_time": "2021-08-05T15:16:01.797387Z",
     "start_time": "2021-08-05T15:16:01.760149Z"
    },
    "hidden": true
   },
   "outputs": [
    {
     "data": {
      "text/plain": [
       "KNeighborsClassifier(n_neighbors=7, p=1)"
      ]
     },
     "execution_count": 632,
     "metadata": {},
     "output_type": "execute_result"
    }
   ],
   "source": [
    "best_knn = KNeighborsClassifier(n_neighbors = 7,\n",
    "                                p = 1,\n",
    "                                weights = 'uniform') \n",
    "best_knn.fit(X_train_scaled, y_train)"
   ]
  },
  {
   "cell_type": "code",
   "execution_count": 633,
   "metadata": {
    "ExecuteTime": {
     "end_time": "2021-08-05T15:16:01.806530Z",
     "start_time": "2021-08-05T15:16:01.802528Z"
    },
    "hidden": true
   },
   "outputs": [],
   "source": [
    "# y_train_preds = best_knn.predict(X_train_scaled)\n",
    "# y_test_preds = best_knn.predict(X_test_scaled)"
   ]
  },
  {
   "cell_type": "code",
   "execution_count": 634,
   "metadata": {
    "ExecuteTime": {
     "end_time": "2021-08-05T15:16:01.815281Z",
     "start_time": "2021-08-05T15:16:01.810419Z"
    },
    "hidden": true
   },
   "outputs": [],
   "source": [
    "#best_knn.score(X_train_scaled, y_train)"
   ]
  },
  {
   "cell_type": "code",
   "execution_count": 635,
   "metadata": {
    "ExecuteTime": {
     "end_time": "2021-08-05T15:16:08.248458Z",
     "start_time": "2021-08-05T15:16:01.833240Z"
    },
    "hidden": true
   },
   "outputs": [
    {
     "name": "stdout",
     "output_type": "stream",
     "text": [
      "Train Scores\n",
      "log loss:  3.1977634368110373\n",
      "accuracy:  0.9074153450492928\n",
      "precision: 0.9428571428571428\n",
      "recall:    0.38823529411764707\n",
      "Test Scores\n",
      "log loss:  3.4193404622910184\n",
      "accuracy:  0.901\n",
      "precision: 0.9583333333333334\n",
      "recall:    0.32167832167832167\n"
     ]
    },
    {
     "data": {
      "image/png": "[encoded data removed]",
      "text/plain": [
       "<Figure size 432x288 with 2 Axes>"
      ]
     },
     "metadata": {
      "needs_background": "light"
     },
     "output_type": "display_data"
    },
    {
     "data": {
      "image/png": "[encoded data removed]",
      "text/plain": [
       "<Figure size 432x288 with 2 Axes>"
      ]
     },
     "metadata": {
      "needs_background": "light"
     },
     "output_type": "display_data"
    }
   ],
   "source": [
    "scores(best_knn,y_test)"
   ]
  },
  {
   "cell_type": "code",
   "execution_count": 636,
   "metadata": {
    "ExecuteTime": {
     "end_time": "2021-08-05T15:16:08.269913Z",
     "start_time": "2021-08-05T15:16:08.265012Z"
    },
    "hidden": true
   },
   "outputs": [],
   "source": [
    "# best_knn.score(X_test_scaled, y_test)"
   ]
  },
  {
   "cell_type": "code",
   "execution_count": 637,
   "metadata": {
    "ExecuteTime": {
     "end_time": "2021-08-05T15:16:08.283911Z",
     "start_time": "2021-08-05T15:16:08.276954Z"
    },
    "hidden": true
   },
   "outputs": [],
   "source": [
    "#print(classification_report(y_train, y_train_preds))"
   ]
  },
  {
   "cell_type": "code",
   "execution_count": 638,
   "metadata": {
    "ExecuteTime": {
     "end_time": "2021-08-05T15:16:08.295186Z",
     "start_time": "2021-08-05T15:16:08.288858Z"
    },
    "hidden": true
   },
   "outputs": [],
   "source": [
    "#print(classification_report(y_test, y_test_preds))"
   ]
  },
  {
   "cell_type": "code",
   "execution_count": 639,
   "metadata": {
    "ExecuteTime": {
     "end_time": "2021-08-05T15:16:08.305945Z",
     "start_time": "2021-08-05T15:16:08.300820Z"
    },
    "hidden": true
   },
   "outputs": [],
   "source": [
    "#print(confusion_matrix(y_train, y_train_preds))"
   ]
  },
  {
   "cell_type": "code",
   "execution_count": 640,
   "metadata": {
    "ExecuteTime": {
     "end_time": "2021-08-05T15:16:08.317133Z",
     "start_time": "2021-08-05T15:16:08.311848Z"
    },
    "hidden": true
   },
   "outputs": [],
   "source": [
    "#print(confusion_matrix(y_test, y_test_preds))"
   ]
  },
  {
   "cell_type": "markdown",
   "metadata": {
    "hidden": true
   },
   "source": [
    "Our recall score came out too low and maybe this was caused because of a class imbalance. Now we will try to use SMOTE to reduce that"
   ]
  },
  {
   "cell_type": "markdown",
   "metadata": {
    "hidden": true
   },
   "source": [
    "## Model 3: K-Nearest Neighbors and Grid Search with SMOTE"
   ]
  },
  {
   "cell_type": "code",
   "execution_count": 641,
   "metadata": {
    "ExecuteTime": {
     "end_time": "2021-08-05T15:16:08.335181Z",
     "start_time": "2021-08-05T15:16:08.322922Z"
    },
    "hidden": true
   },
   "outputs": [
    {
     "data": {
      "text/plain": [
       "0.17"
      ]
     },
     "execution_count": 641,
     "metadata": {},
     "output_type": "execute_result"
    }
   ],
   "source": [
    "# calculate the current ratio of imbalance for SMOTE \n",
    "round(len(y_train[y_train==1])/len(y_train[y_train==0]),2)"
   ]
  },
  {
   "cell_type": "code",
   "execution_count": 642,
   "metadata": {
    "ExecuteTime": {
     "end_time": "2021-08-05T15:16:08.347216Z",
     "start_time": "2021-08-05T15:16:08.341194Z"
    },
    "hidden": true
   },
   "outputs": [],
   "source": [
    "# SMOTE the categorical columns by their index\n",
    "cat_range = range(28,57)\n",
    "smote = SMOTENC(np.array(cat_range),random_state=42, sampling_strategy=0.5)\n",
    "# X_train_resampled, y_train_resampled = smote.fit_sample(X_traain_scaled, y_train)"
   ]
  },
  {
   "cell_type": "code",
   "execution_count": 643,
   "metadata": {
    "ExecuteTime": {
     "end_time": "2021-08-05T15:16:08.358715Z",
     "start_time": "2021-08-05T15:16:08.352705Z"
    },
    "hidden": true
   },
   "outputs": [],
   "source": [
    "# Rerun the KNN Model with SMOTED DATA\n",
    "\n",
    "knn_model_smote = imbpipeline(steps=[\n",
    "        (\"Preprocess\", pp),\n",
    "        ('sampling', smote),\n",
    "        ('knn', KNeighborsClassifier())\n",
    "    ])\n"
   ]
  },
  {
   "cell_type": "code",
   "execution_count": 644,
   "metadata": {
    "ExecuteTime": {
     "end_time": "2021-08-05T15:16:10.633654Z",
     "start_time": "2021-08-05T15:16:08.362460Z"
    },
    "hidden": true
   },
   "outputs": [
    {
     "data": {
      "text/plain": [
       "Pipeline(steps=[('Preprocess',\n",
       "                 ColumnTransformer(transformers=[('num',\n",
       "                                                  Pipeline(steps=[('scaler',\n",
       "                                                                   StandardScaler())]),\n",
       "                                                  Index(['account_length', 'number_vmail_messages', 'total_day_minutes',\n",
       "       'total_day_calls', 'total_day_charge', 'total_eve_minutes',\n",
       "       'total_eve_calls', 'total_eve_charge', 'total_night_minutes',\n",
       "       'total_night_calls', 'total_night_charge', 'total_int...\n",
       "                                                  Pipeline(steps=[('ohe',\n",
       "                                                                   OneHotEncoder(drop='first',\n",
       "                                                                                 sparse=False))]),\n",
       "                                                  Index(['state', 'area_code', 'international_plan', 'voice_mail_plan',\n",
       "       'region'],\n",
       "      dtype='object'))])),\n",
       "                ('sampling',\n",
       "                 SMOTENC(categorical_features=array([28, 29, 30, 31, 32, 33, 34, 35, 36, 37, 38, 39, 40, 41, 42, 43, 44,\n",
       "       45, 46, 47, 48, 49, 50, 51, 52, 53, 54, 55, 56]),\n",
       "                         random_state=42, sampling_strategy=0.5)),\n",
       "                ('knn', KNeighborsClassifier())])"
      ]
     },
     "execution_count": 644,
     "metadata": {},
     "output_type": "execute_result"
    }
   ],
   "source": [
    "knn_model_smote.fit(X_train,y_train)"
   ]
  },
  {
   "cell_type": "code",
   "execution_count": 645,
   "metadata": {
    "ExecuteTime": {
     "end_time": "2021-08-05T15:16:10.642625Z",
     "start_time": "2021-08-05T15:16:10.638580Z"
    },
    "hidden": true
   },
   "outputs": [],
   "source": [
    "# #perform a grid search again to see if criteria changed\n",
    "# param_grid = {\n",
    "#     'knn__n_neighbors': list(range(2, 100, 2)),\n",
    "#     'knn__weights': ['uniform', 'distance'],\n",
    "#     'knn__p': [1, 2, 3, 4],\n",
    "# }\n",
    "\n",
    "# gs_knn = GridSearchCV(knn_model_smote, param_grid, cv=2, scoring='recall')\n",
    "# #gs_knn.fit(X_train, y_train_resampled)\n",
    "\n",
    "# # gs_knn.best_params_"
   ]
  },
  {
   "cell_type": "code",
   "execution_count": 646,
   "metadata": {
    "ExecuteTime": {
     "end_time": "2021-08-05T15:16:10.651294Z",
     "start_time": "2021-08-05T15:16:10.647451Z"
    },
    "hidden": true,
    "scrolled": false
   },
   "outputs": [],
   "source": [
    "# gs_knn.fit(X_train, y_train)\n",
    "\n",
    "# gs_knn.best_params_"
   ]
  },
  {
   "cell_type": "markdown",
   "metadata": {
    "hidden": true
   },
   "source": [
    "The code above is a gridsearch for the KNN smote model. The gridsearch takes a long time to complete thus the best parameters have already been set below."
   ]
  },
  {
   "cell_type": "code",
   "execution_count": 647,
   "metadata": {
    "ExecuteTime": {
     "end_time": "2021-08-05T15:16:10.664744Z",
     "start_time": "2021-08-05T15:16:10.658351Z"
    },
    "hidden": true
   },
   "outputs": [],
   "source": [
    "#best knn smote model obtained from the gridsearch above\n",
    "best_knn_sm = KNeighborsClassifier(n_neighbors= 32, p = 2, weights= 'distance')"
   ]
  },
  {
   "cell_type": "code",
   "execution_count": 648,
   "metadata": {
    "ExecuteTime": {
     "end_time": "2021-08-05T15:16:10.704837Z",
     "start_time": "2021-08-05T15:16:10.672984Z"
    },
    "hidden": true
   },
   "outputs": [
    {
     "data": {
      "text/plain": [
       "KNeighborsClassifier(n_neighbors=32, weights='distance')"
      ]
     },
     "execution_count": 648,
     "metadata": {},
     "output_type": "execute_result"
    }
   ],
   "source": [
    "best_knn_sm.fit(X_train_scaled, y_train)"
   ]
  },
  {
   "cell_type": "code",
   "execution_count": 649,
   "metadata": {
    "ExecuteTime": {
     "end_time": "2021-08-05T15:16:16.130870Z",
     "start_time": "2021-08-05T15:16:10.710709Z"
    },
    "hidden": true
   },
   "outputs": [
    {
     "name": "stdout",
     "output_type": "stream",
     "text": [
      "Train Scores\n",
      "log loss:  9.992007221626415e-16\n",
      "accuracy:  1.0\n",
      "precision: 1.0\n",
      "recall:    1.0\n",
      "Test Scores\n",
      "log loss:  4.248270296171444\n",
      "accuracy:  0.877\n",
      "precision: 0.9545454545454546\n",
      "recall:    0.14685314685314685\n"
     ]
    },
    {
     "data": {
      "image/png": "[encoded data removed]",
      "text/plain": [
       "<Figure size 432x288 with 2 Axes>"
      ]
     },
     "metadata": {
      "needs_background": "light"
     },
     "output_type": "display_data"
    },
    {
     "data": {
      "image/png": "[encoded data removed]",
      "text/plain": [
       "<Figure size 432x288 with 2 Axes>"
      ]
     },
     "metadata": {
      "needs_background": "light"
     },
     "output_type": "display_data"
    }
   ],
   "source": [
    "scores(best_knn_sm)"
   ]
  },
  {
   "cell_type": "markdown",
   "metadata": {
    "hidden": true
   },
   "source": [
    "The SMOTE-NC KNN model is overfit. The accuracy is high on the trainning data, and the test set performs worse."
   ]
  },
  {
   "cell_type": "code",
   "execution_count": 650,
   "metadata": {
    "ExecuteTime": {
     "end_time": "2021-08-05T15:16:16.141601Z",
     "start_time": "2021-08-05T15:16:16.136502Z"
    },
    "hidden": true
   },
   "outputs": [],
   "source": [
    "# gs_knn.score(X_train_scaled, y_train)"
   ]
  },
  {
   "cell_type": "code",
   "execution_count": 651,
   "metadata": {
    "ExecuteTime": {
     "end_time": "2021-08-05T15:16:16.152634Z",
     "start_time": "2021-08-05T15:16:16.147481Z"
    },
    "hidden": true
   },
   "outputs": [],
   "source": [
    "# gs_knn.score(X_test_scaled, y_test)"
   ]
  },
  {
   "cell_type": "code",
   "execution_count": 652,
   "metadata": {
    "ExecuteTime": {
     "end_time": "2021-08-05T15:16:16.162738Z",
     "start_time": "2021-08-05T15:16:16.158162Z"
    },
    "hidden": true
   },
   "outputs": [],
   "source": [
    "# y_train_preds = gs_knn.predict(X_train_scaled)\n",
    "# y_test_preds = gs_knn.predict(X_test_scaled)"
   ]
  },
  {
   "cell_type": "code",
   "execution_count": 653,
   "metadata": {
    "ExecuteTime": {
     "end_time": "2021-08-05T15:16:16.174331Z",
     "start_time": "2021-08-05T15:16:16.169086Z"
    },
    "hidden": true
   },
   "outputs": [],
   "source": [
    "# print(classification_report(y_train, y_train_preds))"
   ]
  },
  {
   "cell_type": "code",
   "execution_count": 654,
   "metadata": {
    "ExecuteTime": {
     "end_time": "2021-08-05T15:16:16.185089Z",
     "start_time": "2021-08-05T15:16:16.179172Z"
    },
    "hidden": true
   },
   "outputs": [],
   "source": [
    "# print(classification_report(y_test, y_test_preds))"
   ]
  },
  {
   "cell_type": "code",
   "execution_count": 655,
   "metadata": {
    "ExecuteTime": {
     "end_time": "2021-08-05T15:16:16.194811Z",
     "start_time": "2021-08-05T15:16:16.190508Z"
    },
    "hidden": true
   },
   "outputs": [],
   "source": [
    "# print(confusion_matrix(y_test, y_test_preds))"
   ]
  },
  {
   "cell_type": "markdown",
   "metadata": {
    "hidden": true
   },
   "source": [
    "After applying SMOTENC to the data, the recall score significantly improved."
   ]
  },
  {
   "cell_type": "markdown",
   "metadata": {
    "hidden": true
   },
   "source": [
    "## Decision Tree Model"
   ]
  },
  {
   "cell_type": "markdown",
   "metadata": {
    "hidden": true
   },
   "source": [
    "The KNN Model with SMOTENC performed significantly better, however the recall score wasn't as high as we would like it. Here we run a Decision Tree model to see if we have a better fit."
   ]
  },
  {
   "cell_type": "code",
   "execution_count": 656,
   "metadata": {
    "ExecuteTime": {
     "end_time": "2021-08-05T15:16:16.531495Z",
     "start_time": "2021-08-05T15:16:16.199576Z"
    },
    "hidden": true
   },
   "outputs": [
    {
     "name": "stdout",
     "output_type": "stream",
     "text": [
      "Mean Cross Val Score: 94.39%\n"
     ]
    }
   ],
   "source": [
    "#Instantiate a Decision Tree and perform 3-fold cross-validaiton on training data\n",
    "\n",
    "DT_clf = DecisionTreeClassifier() \n",
    "\n",
    "DT_cv_score = cross_val_score(DT_clf, X_train_scaled, y_train, cv=3)\n",
    "\n",
    "mean_DT_cv_score = np.mean(DT_cv_score)\n",
    "\n",
    "print(f\"Mean Cross Val Score: {mean_DT_cv_score:.2%}\")\n",
    "\n",
    "#Model performed much better than the baseline and slightly better accuracy than the KNN model"
   ]
  },
  {
   "cell_type": "markdown",
   "metadata": {
    "hidden": true
   },
   "source": [
    "Due to the long runtime of the the Decision Tree Gridsearch, the best selection from the following search was selected for further analysis."
   ]
  },
  {
   "cell_type": "code",
   "execution_count": 657,
   "metadata": {
    "ExecuteTime": {
     "end_time": "2021-08-05T15:16:16.544081Z",
     "start_time": "2021-08-05T15:16:16.536970Z"
    },
    "hidden": true
   },
   "outputs": [],
   "source": [
    "#Create grid search parameters and intantiate GridSearch CV. Create different parameters and then fit the data. \n",
    "\n",
    "# DT_clf = DecisionTreeClassifier() \n",
    "\n",
    "# param_grid = { \n",
    "#     'criterion': ['gini', 'entropy'],\n",
    "#     'max_depth': np.arange(1, 15, 2), #step up even higher \n",
    "#     'min_samples_split': np.arange(5, 120, 5),\n",
    "#     'min_samples_leaf': np.arange(5, 120,5)\n",
    "#     }\n",
    "\n",
    "# gs_DT_clf = GridSearchCV(DT_clf, param_grid = param_grid, n_jobs = -1, scoring = \"recall\", cv = 5)\n",
    "\n",
    "# gs_DT_clf.fit(X_train_scaled, y_train)\n",
    "    \n",
    "#SPECIFCY SCORING IN GRIDSEARCH TO RECALL? CURRENTLY ON ACCURACY: scoring = 'recall',  \n",
    "\n",
    "#consistency in paramgrid search rationale \n",
    "#random CV search \n",
    "\n",
    "#After running it best parameter = \n",
    "# {'criterion': 'entropy',\n",
    "#  'max_depth': 7,\n",
    "#  'min_samples_leaf': 5,\n",
    "#  'min_samples_split': 5}"
   ]
  },
  {
   "cell_type": "code",
   "execution_count": 658,
   "metadata": {
    "ExecuteTime": {
     "end_time": "2021-08-05T15:16:16.652108Z",
     "start_time": "2021-08-05T15:16:16.549311Z"
    },
    "hidden": true
   },
   "outputs": [
    {
     "data": {
      "text/plain": [
       "DecisionTreeClassifier(criterion='entropy', max_depth=7, min_samples_leaf=5,\n",
       "                       min_samples_split=5)"
      ]
     },
     "execution_count": 658,
     "metadata": {},
     "output_type": "execute_result"
    }
   ],
   "source": [
    "best_DT_clf = DecisionTreeClassifier(criterion='entropy',\n",
    "                                    max_depth= 7,\n",
    "                                    min_samples_leaf= 5,\n",
    "                                    min_samples_split= 5) \n",
    "best_DT_clf.fit(X_train_scaled, y_train)\n",
    "\n",
    "# y_train_preds = best_DT_clf.predict(X_train_scaled)\n",
    "# y_test_preds = best_DT_clf.predict(X_test_scaled)\n"
   ]
  },
  {
   "cell_type": "code",
   "execution_count": 659,
   "metadata": {
    "ExecuteTime": {
     "end_time": "2021-08-05T15:16:17.426743Z",
     "start_time": "2021-08-05T15:16:16.656405Z"
    },
    "hidden": true
   },
   "outputs": [
    {
     "name": "stdout",
     "output_type": "stream",
     "text": [
      "Train Scores\n",
      "log loss:  0.8438548876552214\n",
      "accuracy:  0.9755679382768967\n",
      "precision: 0.9862542955326461\n",
      "recall:    0.8441176470588235\n",
      "Test Scores\n",
      "log loss:  0.5871599983109127\n",
      "accuracy:  0.983\n",
      "precision: 0.9921875\n",
      "recall:    0.8881118881118881\n"
     ]
    },
    {
     "data": {
      "image/png": "[encoded data removed]",
      "text/plain": [
       "<Figure size 432x288 with 2 Axes>"
      ]
     },
     "metadata": {
      "needs_background": "light"
     },
     "output_type": "display_data"
    },
    {
     "data": {
      "image/png": "[encoded data removed]",
      "text/plain": [
       "<Figure size 432x288 with 2 Axes>"
      ]
     },
     "metadata": {
      "needs_background": "light"
     },
     "output_type": "display_data"
    }
   ],
   "source": [
    "#print(classification_report(y_train, y_train_preds))\n",
    "#print(classification_report(y_test, y_test_preds))\n",
    "#print(confusion_matrix(y_test, y_test_preds))\n",
    "\n",
    "scores(best_DT_clf)"
   ]
  },
  {
   "cell_type": "markdown",
   "metadata": {
    "hidden": true
   },
   "source": [
    "We see here that the decision tree model also giving us high recall as that is the feature we want to focus on.\n",
    "\n",
    "We will plot the important features and see what drives this model."
   ]
  },
  {
   "cell_type": "code",
   "execution_count": 660,
   "metadata": {
    "ExecuteTime": {
     "end_time": "2021-08-05T15:16:17.434654Z",
     "start_time": "2021-08-05T15:16:17.430051Z"
    },
    "hidden": true
   },
   "outputs": [],
   "source": [
    "#best_DT_clf.feature_importances_"
   ]
  },
  {
   "cell_type": "code",
   "execution_count": 661,
   "metadata": {
    "ExecuteTime": {
     "end_time": "2021-08-05T15:16:21.421883Z",
     "start_time": "2021-08-05T15:16:17.439894Z"
    },
    "hidden": true
   },
   "outputs": [
    {
     "data": {
      "image/png": "[encoded data removed]",
      "text/plain": [
       "<Figure size 576x1440 with 1 Axes>"
      ]
     },
     "metadata": {
      "needs_background": "light"
     },
     "output_type": "display_data"
    }
   ],
   "source": [
    "# def plot_feature_importances(model):\n",
    "#     n_features = X_train_scaled.shape[1]\n",
    "#     plt.figure(figsize=(8,20))\n",
    "#     plt.barh(range(n_features), model.feature_importances_, align='center') \n",
    "#     plt.yticks(np.arange(n_features), X_train_scaled.columns.values) \n",
    "#     plt.xlabel('Feature importance')\n",
    "#     plt.ylabel('Feature')\n",
    "\n",
    "plot_feature_importances(best_DT_clf)"
   ]
  },
  {
   "cell_type": "markdown",
   "metadata": {
    "heading_collapsed": true
   },
   "source": [
    "# Bagging Model"
   ]
  },
  {
   "cell_type": "markdown",
   "metadata": {
    "hidden": true
   },
   "source": [
    "We also tested the bagging classifier model to see how this one stacks up to the other."
   ]
  },
  {
   "cell_type": "code",
   "execution_count": 662,
   "metadata": {
    "ExecuteTime": {
     "end_time": "2021-08-05T15:16:23.227248Z",
     "start_time": "2021-08-05T15:16:21.425814Z"
    },
    "hidden": true
   },
   "outputs": [
    {
     "name": "stdout",
     "output_type": "stream",
     "text": [
      "Train Scores\n",
      "log loss:  0.9474846503533157\n",
      "accuracy:  0.9725675096442349\n",
      "precision: 1.0\n",
      "recall:    0.8117647058823529\n",
      "Test Scores\n",
      "log loss:  0.6562367515033039\n",
      "accuracy:  0.981\n",
      "precision: 1.0\n",
      "recall:    0.8671328671328671\n"
     ]
    },
    {
     "data": {
      "image/png": "[encoded data removed]",
      "text/plain": [
       "<Figure size 432x288 with 2 Axes>"
      ]
     },
     "metadata": {
      "needs_background": "light"
     },
     "output_type": "display_data"
    },
    {
     "data": {
      "image/png": "[encoded data removed]",
      "text/plain": [
       "<Figure size 432x288 with 2 Axes>"
      ]
     },
     "metadata": {
      "needs_background": "light"
     },
     "output_type": "display_data"
    }
   ],
   "source": [
    "bagged_tree = BaggingClassifier(DecisionTreeClassifier(criterion = 'entropy', \n",
    "                                                       max_depth = 5, \n",
    "                                                       min_samples_leaf = 10, \n",
    "                                                       min_samples_split = 3), \n",
    "                                                       n_estimators = 20)\n",
    "\n",
    "#Fit the model on training data\n",
    "bagged_tree.fit(X_train_scaled, y_train)\n",
    "#Training accuracy score \n",
    "#bagged_tree.score(X_train_scaled, y_train)\n",
    "#Test accuracy score\n",
    "#bagged_tree.score(X_test_scaled, y_test)\n",
    "scores(bagged_tree)\n"
   ]
  },
  {
   "cell_type": "markdown",
   "metadata": {
    "hidden": true
   },
   "source": [
    "The data is pretty good with good accuracy with both the test and train data, but the recall on the test data performed worse."
   ]
  },
  {
   "cell_type": "markdown",
   "metadata": {
    "heading_collapsed": true
   },
   "source": [
    "# Random Forest"
   ]
  },
  {
   "cell_type": "code",
   "execution_count": 663,
   "metadata": {
    "ExecuteTime": {
     "end_time": "2021-08-05T15:16:36.802514Z",
     "start_time": "2021-08-05T15:16:23.230314Z"
    },
    "hidden": true
   },
   "outputs": [
    {
     "data": {
      "text/plain": [
       "RandomForestClassifier(criterion='entropy', max_depth=10, min_samples_split=7,\n",
       "                       n_estimators=1150)"
      ]
     },
     "execution_count": 663,
     "metadata": {},
     "output_type": "execute_result"
    }
   ],
   "source": [
    "rf_model = RandomForestClassifier(criterion = 'entropy', \n",
    "                                  n_estimators = 1150, \n",
    "                                  max_depth=10, \n",
    "                                  bootstrap = True, \n",
    "                                  min_samples_split= 7)\n",
    "rf_model.fit(X_train_scaled, y_train)"
   ]
  },
  {
   "cell_type": "code",
   "execution_count": 664,
   "metadata": {
    "ExecuteTime": {
     "end_time": "2021-08-05T15:16:40.549883Z",
     "start_time": "2021-08-05T15:16:36.807550Z"
    },
    "hidden": true
   },
   "outputs": [
    {
     "name": "stdout",
     "output_type": "stream",
     "text": [
      "Train Scores\n",
      "log loss:  0.814244621397381\n",
      "accuracy:  0.9764252036005143\n",
      "precision: 1.0\n",
      "recall:    0.8382352941176471\n",
      "Test Scores\n",
      "log loss:  1.277934726611696\n",
      "accuracy:  0.963\n",
      "precision: 1.0\n",
      "recall:    0.7412587412587412\n"
     ]
    },
    {
     "data": {
      "image/png": "[encoded data removed]",
      "text/plain": [
       "<Figure size 432x288 with 2 Axes>"
      ]
     },
     "metadata": {
      "needs_background": "light"
     },
     "output_type": "display_data"
    },
    {
     "data": {
      "image/png": "[encoded data removed]",
      "text/plain": [
       "<Figure size 432x288 with 2 Axes>"
      ]
     },
     "metadata": {
      "needs_background": "light"
     },
     "output_type": "display_data"
    }
   ],
   "source": [
    "rf_preds = rf_model.predict(X_test_scaled)\n",
    "scores(rf_model)"
   ]
  },
  {
   "cell_type": "code",
   "execution_count": 665,
   "metadata": {
    "ExecuteTime": {
     "end_time": "2021-08-05T15:16:40.559193Z",
     "start_time": "2021-08-05T15:16:40.554805Z"
    },
    "hidden": true
   },
   "outputs": [],
   "source": [
    "# # Grid Search for parameters, Played around with n_estimators before and found the optimal so excluded from this grid search\n",
    "# grid = {        \n",
    "#  'max_depth': [8,10],\n",
    "#  'max_features': ['auto', 'sqrt'],\n",
    "#  'min_samples_leaf': [1, 2, 4],\n",
    "#  'min_samples_split': [2, 5, 7]}\n",
    "\n",
    "# gs = GridSearchCV(estimator=rf_model, param_grid= grid, cv=2)\n",
    "# gs.fit(X_train_scaled, y_train)\n",
    "# gs.best_params_"
   ]
  },
  {
   "cell_type": "code",
   "execution_count": 666,
   "metadata": {
    "ExecuteTime": {
     "end_time": "2021-08-05T15:16:45.591097Z",
     "start_time": "2021-08-05T15:16:40.563781Z"
    },
    "hidden": true,
    "scrolled": true
   },
   "outputs": [
    {
     "data": {
      "image/png": "[encoded data removed]",
      "text/plain": [
       "<Figure size 576x1440 with 1 Axes>"
      ]
     },
     "metadata": {
      "needs_background": "light"
     },
     "output_type": "display_data"
    }
   ],
   "source": [
    "\n",
    "best_rf_model= RandomForestClassifier(max_depth = 10, \n",
    "                                   max_features = 'auto',\n",
    "                                   min_samples_leaf = 1,\n",
    "                                   min_samples_split = 5)\n",
    "best_rf_model.fit(X_train_scaled,y_train)\n",
    "\n",
    "plot_feature_importances(best_rf_model)\n",
    "\n",
    "# best_param=[]\n",
    "# for name, score in zip(X_train_scaled.columns, rf_model.feature_importances_):\n",
    "    \n",
    "#     best_param.append((name,score))\n",
    "# best_param.sort(reverse= True, key=lambda x: x[1])\n",
    "# best_param[:10]"
   ]
  },
  {
   "cell_type": "markdown",
   "metadata": {
    "heading_collapsed": true
   },
   "source": [
    "# XGBoost"
   ]
  },
  {
   "cell_type": "code",
   "execution_count": 667,
   "metadata": {
    "ExecuteTime": {
     "end_time": "2021-08-05T15:16:45.599411Z",
     "start_time": "2021-08-05T15:16:45.594731Z"
    },
    "hidden": true
   },
   "outputs": [],
   "source": [
    "xgb_model= xg.XGBClassifier(random_state=42, objective='binary:logistic', alpha=2)"
   ]
  },
  {
   "cell_type": "code",
   "execution_count": 668,
   "metadata": {
    "ExecuteTime": {
     "end_time": "2021-08-05T15:16:46.254261Z",
     "start_time": "2021-08-05T15:16:45.605481Z"
    },
    "hidden": true
   },
   "outputs": [
    {
     "data": {
      "text/plain": [
       "XGBClassifier(alpha=2, base_score=0.5, booster='gbtree', colsample_bylevel=1,\n",
       "              colsample_bynode=1, colsample_bytree=1, gamma=0, gpu_id=-1,\n",
       "              importance_type='gain', interaction_constraints='',\n",
       "              learning_rate=0.300000012, max_delta_step=0, max_depth=6,\n",
       "              min_child_weight=1, missing=nan, monotone_constraints='()',\n",
       "              n_estimators=100, n_jobs=0, num_parallel_tree=1, random_state=42,\n",
       "              reg_alpha=2, reg_lambda=1, scale_pos_weight=1, subsample=1,\n",
       "              tree_method='exact', validate_parameters=1, verbosity=None)"
      ]
     },
     "execution_count": 668,
     "metadata": {},
     "output_type": "execute_result"
    }
   ],
   "source": [
    "xgb_model.fit(X_train_scaled, y_train)"
   ]
  },
  {
   "cell_type": "code",
   "execution_count": 669,
   "metadata": {
    "ExecuteTime": {
     "end_time": "2021-08-05T15:16:47.217253Z",
     "start_time": "2021-08-05T15:16:46.259798Z"
    },
    "hidden": true
   },
   "outputs": [
    {
     "name": "stdout",
     "output_type": "stream",
     "text": [
      "Train Scores\n",
      "log loss:  0.19245781960301805\n",
      "accuracy:  0.9944277753964852\n",
      "precision: 1.0\n",
      "recall:    0.961764705882353\n",
      "Test Scores\n",
      "log loss:  0.5526204223185719\n",
      "accuracy:  0.984\n",
      "precision: 1.0\n",
      "recall:    0.8881118881118881\n"
     ]
    },
    {
     "data": {
      "image/png": "[encoded data removed]",
      "text/plain": [
       "<Figure size 432x288 with 2 Axes>"
      ]
     },
     "metadata": {
      "needs_background": "light"
     },
     "output_type": "display_data"
    },
    {
     "data": {
      "image/png": "[encoded data removed]",
      "text/plain": [
       "<Figure size 432x288 with 2 Axes>"
      ]
     },
     "metadata": {
      "needs_background": "light"
     },
     "output_type": "display_data"
    }
   ],
   "source": [
    "#y_preds_xgb = xgb_model.predict(X_test_scaled)\n",
    "scores(xgb_model)"
   ]
  },
  {
   "cell_type": "code",
   "execution_count": 670,
   "metadata": {
    "ExecuteTime": {
     "end_time": "2021-08-05T15:16:47.226187Z",
     "start_time": "2021-08-05T15:16:47.221159Z"
    },
    "hidden": true
   },
   "outputs": [],
   "source": [
    "# grid2 = {'eta': [.05,.1, .2, .4],\n",
    "#          'max_depth': [3,8,9],\n",
    "#          'alpha' : [1,2,3,4]\n",
    "#  }\n",
    "# gs = GridSearchCV(estimator=xgb_model, param_grid= grid2, cv=2)\n",
    "# gs.fit(X_train_scaled, y_train)\n",
    "# gs.best_params_"
   ]
  },
  {
   "cell_type": "code",
   "execution_count": 671,
   "metadata": {
    "ExecuteTime": {
     "end_time": "2021-08-05T15:16:47.954125Z",
     "start_time": "2021-08-05T15:16:47.231096Z"
    },
    "hidden": true
   },
   "outputs": [
    {
     "data": {
      "text/plain": [
       "XGBClassifier(alpha=1, base_score=0.5, booster='gbtree', colsample_bylevel=1,\n",
       "              colsample_bynode=1, colsample_bytree=1, eta=0.5, gamma=0,\n",
       "              gpu_id=-1, importance_type='gain', interaction_constraints='',\n",
       "              learning_rate=0.5, max_delta_step=0, max_depth=8,\n",
       "              min_child_weight=1, missing=nan, monotone_constraints='()',\n",
       "              n_estimators=100, n_jobs=0, num_parallel_tree=1, random_state=0,\n",
       "              reg_alpha=1, reg_lambda=1, scale_pos_weight=1, subsample=1,\n",
       "              tree_method='exact', validate_parameters=1, verbosity=None)"
      ]
     },
     "execution_count": 671,
     "metadata": {},
     "output_type": "execute_result"
    }
   ],
   "source": [
    "best_xg_model = xg.XGBClassifier(alpha = 1, eta = 0.5, max_depth = 8)\n",
    "best_xg_model.fit(X_train_scaled,y_train)"
   ]
  },
  {
   "cell_type": "code",
   "execution_count": 672,
   "metadata": {
    "ExecuteTime": {
     "end_time": "2021-08-05T15:16:49.052096Z",
     "start_time": "2021-08-05T15:16:47.959182Z"
    },
    "hidden": true
   },
   "outputs": [
    {
     "name": "stdout",
     "output_type": "stream",
     "text": [
      "Train Scores\n",
      "log loss:  9.992007221626415e-16\n",
      "accuracy:  1.0\n",
      "precision: 1.0\n",
      "recall:    1.0\n",
      "Test Scores\n",
      "log loss:  0.5526204223185719\n",
      "accuracy:  0.984\n",
      "precision: 1.0\n",
      "recall:    0.8881118881118881\n"
     ]
    },
    {
     "data": {
      "image/png": "[encoded data removed]",
      "text/plain": [
       "<Figure size 432x288 with 2 Axes>"
      ]
     },
     "metadata": {
      "needs_background": "light"
     },
     "output_type": "display_data"
    },
    {
     "data": {
      "image/png": "[encoded data removed]",
      "text/plain": [
       "<Figure size 432x288 with 2 Axes>"
      ]
     },
     "metadata": {
      "needs_background": "light"
     },
     "output_type": "display_data"
    }
   ],
   "source": [
    "scores(best_xg_model)"
   ]
  },
  {
   "cell_type": "code",
   "execution_count": 673,
   "metadata": {
    "ExecuteTime": {
     "end_time": "2021-08-05T15:16:53.480622Z",
     "start_time": "2021-08-05T15:16:49.057637Z"
    },
    "hidden": true
   },
   "outputs": [
    {
     "data": {
      "image/png": "[encoded data removed]",
      "text/plain": [
       "<Figure size 576x1440 with 1 Axes>"
      ]
     },
     "metadata": {
      "needs_background": "light"
     },
     "output_type": "display_data"
    }
   ],
   "source": [
    "# from xgboost import plot_importance\n",
    "# fit = xgb_model.fit(X_train_scaled, y_train)\n",
    "# plot_importance(fit)\n",
    "\n",
    "plot_feature_importances(best_xg_model)"
   ]
  },
  {
   "cell_type": "code",
   "execution_count": 674,
   "metadata": {
    "ExecuteTime": {
     "end_time": "2021-08-05T15:16:55.296158Z",
     "start_time": "2021-08-05T15:16:53.484740Z"
    },
    "hidden": true
   },
   "outputs": [
    {
     "name": "stdout",
     "output_type": "stream",
     "text": [
      "Train Scores\n",
      "log loss:  0.7402223830885283\n",
      "accuracy:  0.9785683669095585\n",
      "precision: 1.0\n",
      "recall:    0.8529411764705882\n",
      "Test Scores\n",
      "log loss:  0.5526204223185719\n",
      "accuracy:  0.984\n",
      "precision: 1.0\n",
      "recall:    0.8881118881118881\n"
     ]
    },
    {
     "data": {
      "image/png": "[encoded data removed]",
      "text/plain": [
       "<Figure size 432x288 with 2 Axes>"
      ]
     },
     "metadata": {
      "needs_background": "light"
     },
     "output_type": "display_data"
    },
    {
     "data": {
      "image/png": "[encoded data removed]",
      "text/plain": [
       "<Figure size 432x288 with 2 Axes>"
      ]
     },
     "metadata": {
      "needs_background": "light"
     },
     "output_type": "display_data"
    }
   ],
   "source": [
    "xgb_model= xg.XGBClassifier(random_state=42, objective='binary:hinge', alpha=1, eta =.05, max_depth =3)\n",
    "xgb_model.fit(X_train_scaled, y_train)\n",
    "y_preds_xgb = xgb_model.predict(X_test_scaled)\n",
    "scores(xgb_model)"
   ]
  },
  {
   "cell_type": "markdown",
   "metadata": {
    "heading_collapsed": true
   },
   "source": [
    "# AdaBoost"
   ]
  },
  {
   "cell_type": "code",
   "execution_count": 675,
   "metadata": {
    "ExecuteTime": {
     "end_time": "2021-08-05T15:16:55.997518Z",
     "start_time": "2021-08-05T15:16:55.300431Z"
    },
    "hidden": true
   },
   "outputs": [
    {
     "data": {
      "text/plain": [
       "AdaBoostClassifier(n_estimators=40, random_state=42)"
      ]
     },
     "execution_count": 675,
     "metadata": {},
     "output_type": "execute_result"
    }
   ],
   "source": [
    "model_boost_ada = AdaBoostClassifier(n_estimators=40,random_state=42)\n",
    "model_boost_ada.fit(X_train_scaled,y_train)\n",
    "# model_boost_ada.predict(X_train_scaled)\n",
    "\n",
    "# model_boost_ada.score(X_train_scaled,y_train)\n"
   ]
  },
  {
   "cell_type": "code",
   "execution_count": 676,
   "metadata": {
    "ExecuteTime": {
     "end_time": "2021-08-05T15:16:57.033258Z",
     "start_time": "2021-08-05T15:16:56.001369Z"
    },
    "hidden": true
   },
   "outputs": [
    {
     "name": "stdout",
     "output_type": "stream",
     "text": [
      "Train Scores\n",
      "log loss:  2.54637802170038\n",
      "accuracy:  0.9262751821688813\n",
      "precision: 0.8442622950819673\n",
      "recall:    0.6058823529411764\n",
      "Test Scores\n",
      "log loss:  3.1430478422751973\n",
      "accuracy:  0.909\n",
      "precision: 0.76\n",
      "recall:    0.5314685314685315\n"
     ]
    },
    {
     "data": {
      "image/png": "[encoded data removed]",
      "text/plain": [
       "<Figure size 432x288 with 2 Axes>"
      ]
     },
     "metadata": {
      "needs_background": "light"
     },
     "output_type": "display_data"
    },
    {
     "data": {
      "image/png": "[encoded data removed]",
      "text/plain": [
       "<Figure size 432x288 with 2 Axes>"
      ]
     },
     "metadata": {
      "needs_background": "light"
     },
     "output_type": "display_data"
    }
   ],
   "source": [
    "#y_preds= model_boost_ada.predict(X_test_scaled)\n",
    "scores(model_boost_ada)"
   ]
  },
  {
   "cell_type": "markdown",
   "metadata": {
    "heading_collapsed": true
   },
   "source": [
    "# Gradient Boost"
   ]
  },
  {
   "cell_type": "code",
   "execution_count": 677,
   "metadata": {
    "ExecuteTime": {
     "end_time": "2021-08-05T15:17:01.065314Z",
     "start_time": "2021-08-05T15:16:57.037801Z"
    },
    "hidden": true
   },
   "outputs": [],
   "source": [
    "model_boost_gb = GradientBoostingClassifier(random_state=42)\n",
    "gb_m = model_boost_gb.fit(X_train_scaled,y_train)\n",
    "#model_boost_gb.score(X_train_scaled,y_train)"
   ]
  },
  {
   "cell_type": "code",
   "execution_count": 678,
   "metadata": {
    "ExecuteTime": {
     "end_time": "2021-08-05T15:17:32.802542Z",
     "start_time": "2021-08-05T15:17:01.068929Z"
    },
    "hidden": true
   },
   "outputs": [
    {
     "data": {
      "text/plain": [
       "0.9772862330802244"
      ]
     },
     "execution_count": 678,
     "metadata": {},
     "output_type": "execute_result"
    }
   ],
   "source": [
    "gradient_boost_cv = cross_val_score(gb_m, X_train_scaled, y_train, cv = 10)\n",
    "gradient_boost_cv\n",
    "gradient_boost_cv.mean()"
   ]
  },
  {
   "cell_type": "code",
   "execution_count": 679,
   "metadata": {
    "ExecuteTime": {
     "end_time": "2021-08-05T15:17:33.803476Z",
     "start_time": "2021-08-05T15:17:32.806731Z"
    },
    "hidden": true
   },
   "outputs": [
    {
     "name": "stdout",
     "output_type": "stream",
     "text": [
      "Train Scores\n",
      "log loss:  0.6217868017943637\n",
      "accuracy:  0.9819974282040291\n",
      "precision: 1.0\n",
      "recall:    0.8764705882352941\n",
      "Test Scores\n",
      "log loss:  0.5526204223185719\n",
      "accuracy:  0.984\n",
      "precision: 1.0\n",
      "recall:    0.8881118881118881\n"
     ]
    },
    {
     "data": {
      "image/png": "[encoded data removed]",
      "text/plain": [
       "<Figure size 432x288 with 2 Axes>"
      ]
     },
     "metadata": {
      "needs_background": "light"
     },
     "output_type": "display_data"
    },
    {
     "data": {
      "image/png": "[encoded data removed]",
      "text/plain": [
       "<Figure size 432x288 with 2 Axes>"
      ]
     },
     "metadata": {
      "needs_background": "light"
     },
     "output_type": "display_data"
    }
   ],
   "source": [
    "#y_preds= model_boost_gb.predict(X_test_scaled)\n",
    "scores(model_boost_gb)"
   ]
  },
  {
   "cell_type": "markdown",
   "metadata": {
    "heading_collapsed": true
   },
   "source": [
    "# Ensemble"
   ]
  },
  {
   "cell_type": "code",
   "execution_count": 680,
   "metadata": {
    "ExecuteTime": {
     "end_time": "2021-08-05T15:17:33.838342Z",
     "start_time": "2021-08-05T15:17:33.831070Z"
    },
    "hidden": true
   },
   "outputs": [],
   "source": [
    "voting_clf = VotingClassifier(estimators=[ \n",
    "                                          (\"rf\", rf_model) ,\n",
    "                                          ('dt', best_DT_clf),\n",
    "                                          ('xgb', xgb_model),\n",
    "                                          (\"gb\", gb_m)], \n",
    "                                          voting= \"soft\")"
   ]
  },
  {
   "cell_type": "code",
   "execution_count": 681,
   "metadata": {
    "ExecuteTime": {
     "end_time": "2021-08-05T15:17:51.585997Z",
     "start_time": "2021-08-05T15:17:33.844866Z"
    },
    "hidden": true
   },
   "outputs": [
    {
     "data": {
      "text/plain": [
       "VotingClassifier(estimators=[('rf',\n",
       "                              RandomForestClassifier(criterion='entropy',\n",
       "                                                     max_depth=10,\n",
       "                                                     min_samples_split=7,\n",
       "                                                     n_estimators=1150)),\n",
       "                             ('dt',\n",
       "                              DecisionTreeClassifier(criterion='entropy',\n",
       "                                                     max_depth=7,\n",
       "                                                     min_samples_leaf=5,\n",
       "                                                     min_samples_split=5)),\n",
       "                             ('xgb',\n",
       "                              XGBClassifier(alpha=1, base_score=0.5,\n",
       "                                            booster='gbtree',\n",
       "                                            colsample_bylevel=1,\n",
       "                                            colsample_bynode=1,\n",
       "                                            colsample_bytree=...\n",
       "                                            max_delta_step=0, max_depth=3,\n",
       "                                            min_child_weight=1, missing=nan,\n",
       "                                            monotone_constraints='()',\n",
       "                                            n_estimators=100, n_jobs=0,\n",
       "                                            num_parallel_tree=1,\n",
       "                                            objective='binary:hinge',\n",
       "                                            random_state=42, reg_alpha=1,\n",
       "                                            reg_lambda=1, scale_pos_weight=None,\n",
       "                                            subsample=1, tree_method='exact',\n",
       "                                            validate_parameters=1,\n",
       "                                            verbosity=None)),\n",
       "                             ('gb',\n",
       "                              GradientBoostingClassifier(random_state=42))],\n",
       "                 voting='soft')"
      ]
     },
     "execution_count": 681,
     "metadata": {},
     "output_type": "execute_result"
    }
   ],
   "source": [
    "voting_clf.fit(X_train_scaled, y_train)"
   ]
  },
  {
   "cell_type": "code",
   "execution_count": 682,
   "metadata": {
    "ExecuteTime": {
     "end_time": "2021-08-05T15:17:51.595815Z",
     "start_time": "2021-08-05T15:17:51.589802Z"
    },
    "hidden": true
   },
   "outputs": [],
   "source": [
    "#y_preds = voting_clf.predict(X_test_scaled)"
   ]
  },
  {
   "cell_type": "code",
   "execution_count": 683,
   "metadata": {
    "ExecuteTime": {
     "end_time": "2021-08-05T15:17:54.914851Z",
     "start_time": "2021-08-05T15:17:51.602659Z"
    },
    "hidden": true
   },
   "outputs": [
    {
     "name": "stdout",
     "output_type": "stream",
     "text": [
      "Train Scores\n",
      "log loss:  0.7402223830885283\n",
      "accuracy:  0.9785683669095585\n",
      "precision: 1.0\n",
      "recall:    0.8529411764705882\n",
      "Test Scores\n",
      "log loss:  0.5526204223185719\n",
      "accuracy:  0.984\n",
      "precision: 1.0\n",
      "recall:    0.8881118881118881\n"
     ]
    },
    {
     "data": {
      "image/png": "[encoded data removed]",
      "text/plain": [
       "<Figure size 432x288 with 2 Axes>"
      ]
     },
     "metadata": {
      "needs_background": "light"
     },
     "output_type": "display_data"
    },
    {
     "data": {
      "image/png": "[encoded data removed]",
      "text/plain": [
       "<Figure size 432x288 with 2 Axes>"
      ]
     },
     "metadata": {
      "needs_background": "light"
     },
     "output_type": "display_data"
    }
   ],
   "source": [
    "scores(voting_clf)"
   ]
  },
  {
   "cell_type": "code",
   "execution_count": 684,
   "metadata": {
    "ExecuteTime": {
     "end_time": "2021-08-05T15:18:13.317685Z",
     "start_time": "2021-08-05T15:17:54.919619Z"
    },
    "hidden": true
   },
   "outputs": [
    {
     "name": "stdout",
     "output_type": "stream",
     "text": [
      "RandomForestClassifier(criterion='entropy', max_depth=10, min_samples_split=7,\n",
      "                       n_estimators=1150) 0.7132867132867133\n",
      "DecisionTreeClassifier(criterion='entropy', max_depth=7, min_samples_leaf=5,\n",
      "                       min_samples_split=5) 0.8881118881118881\n",
      "XGBClassifier(alpha=1, base_score=0.5, booster='gbtree', colsample_bylevel=1,\n",
      "              colsample_bynode=1, colsample_bytree=1, eta=0.05, gamma=0,\n",
      "              gpu_id=-1, importance_type='gain', interaction_constraints='',\n",
      "              learning_rate=0.0500000007, max_delta_step=0, max_depth=3,\n",
      "              min_child_weight=1, missing=nan, monotone_constraints='()',\n",
      "              n_estimators=100, n_jobs=0, num_parallel_tree=1,\n",
      "              objective='binary:hinge', random_state=42, reg_alpha=1,\n",
      "              reg_lambda=1, scale_pos_weight=None, subsample=1,\n",
      "              tree_method='exact', validate_parameters=1, verbosity=None) 0.8881118881118881\n",
      "GradientBoostingClassifier(random_state=42) 0.8881118881118881\n"
     ]
    }
   ],
   "source": [
    "for clf in (rf_model, best_DT_clf, xgb_model, gb_m):\n",
    "    clf.fit(X_train_scaled, y_train)\n",
    "    y_pred= clf.predict(X_test_scaled)\n",
    "    print(clf, recall_score(y_test, y_pred))"
   ]
  },
  {
   "cell_type": "code",
   "execution_count": 685,
   "metadata": {
    "ExecuteTime": {
     "end_time": "2021-08-05T15:18:13.334036Z",
     "start_time": "2021-08-05T15:18:13.323474Z"
    },
    "hidden": true
   },
   "outputs": [],
   "source": [
    "# plot_confusion_matrix(voting_clf, X_test_scaled, y_test)"
   ]
  },
  {
   "cell_type": "markdown",
   "metadata": {
    "hidden": true
   },
   "source": [
    "Looks like the ensemble does the same however if we introduce unseen data having a ensemble may be to our advantage"
   ]
  },
  {
   "cell_type": "markdown",
   "metadata": {},
   "source": [
    "# Recommendations"
   ]
  },
  {
   "cell_type": "markdown",
   "metadata": {},
   "source": [
    "## Implementing Fixed Fee Plan"
   ]
  },
  {
   "cell_type": "markdown",
   "metadata": {},
   "source": [
    "We know that total charge is one of the features of the dataset that has has high influence. To adjust total charge, we can modify the charge per minute feature. Instead of adjusting the charge per minute for all types of calls, which could lead to a greater loss in revenue, we focused on day calls because our preliminary EDA showed that the charge per min for day calls were very different between customers who churn and those who do not churn."
   ]
  },
  {
   "cell_type": "code",
   "execution_count": 686,
   "metadata": {
    "ExecuteTime": {
     "end_time": "2021-08-05T15:18:13.350392Z",
     "start_time": "2021-08-05T15:18:13.342673Z"
    }
   },
   "outputs": [],
   "source": [
    "#create a new copy of the main data frame\n",
    "new_df1 = df.copy()"
   ]
  },
  {
   "cell_type": "code",
   "execution_count": 687,
   "metadata": {
    "ExecuteTime": {
     "end_time": "2021-08-05T15:18:13.398518Z",
     "start_time": "2021-08-05T15:18:13.356781Z"
    },
    "scrolled": true
   },
   "outputs": [
    {
     "data": {
      "text/html": [
       "<div>\n",
       "<style scoped>\n",
       "    .dataframe tbody tr th:only-of-type {\n",
       "        vertical-align: middle;\n",
       "    }\n",
       "\n",
       "    .dataframe tbody tr th {\n",
       "        vertical-align: top;\n",
       "    }\n",
       "\n",
       "    .dataframe thead th {\n",
       "        text-align: right;\n",
       "    }\n",
       "</style>\n",
       "<table border=\"1\" class=\"dataframe\">\n",
       "  <thead>\n",
       "    <tr style=\"text-align: right;\">\n",
       "      <th></th>\n",
       "      <th>total_day_minutes</th>\n",
       "      <th>charge_per_min_day</th>\n",
       "    </tr>\n",
       "  </thead>\n",
       "  <tbody>\n",
       "    <tr>\n",
       "      <th>count</th>\n",
       "      <td>3333.000000</td>\n",
       "      <td>3333.000000</td>\n",
       "    </tr>\n",
       "    <tr>\n",
       "      <th>mean</th>\n",
       "      <td>179.775098</td>\n",
       "      <td>0.318147</td>\n",
       "    </tr>\n",
       "    <tr>\n",
       "      <th>std</th>\n",
       "      <td>54.467389</td>\n",
       "      <td>0.124572</td>\n",
       "    </tr>\n",
       "    <tr>\n",
       "      <th>min</th>\n",
       "      <td>0.000000</td>\n",
       "      <td>0.000000</td>\n",
       "    </tr>\n",
       "    <tr>\n",
       "      <th>25%</th>\n",
       "      <td>143.700000</td>\n",
       "      <td>0.234490</td>\n",
       "    </tr>\n",
       "    <tr>\n",
       "      <th>50%</th>\n",
       "      <td>179.400000</td>\n",
       "      <td>0.304409</td>\n",
       "    </tr>\n",
       "    <tr>\n",
       "      <th>75%</th>\n",
       "      <td>216.400000</td>\n",
       "      <td>0.384510</td>\n",
       "    </tr>\n",
       "    <tr>\n",
       "      <th>max</th>\n",
       "      <td>350.800000</td>\n",
       "      <td>1.228000</td>\n",
       "    </tr>\n",
       "  </tbody>\n",
       "</table>\n",
       "</div>"
      ],
      "text/plain": [
       "       total_day_minutes  charge_per_min_day\n",
       "count        3333.000000         3333.000000\n",
       "mean          179.775098            0.318147\n",
       "std            54.467389            0.124572\n",
       "min             0.000000            0.000000\n",
       "25%           143.700000            0.234490\n",
       "50%           179.400000            0.304409\n",
       "75%           216.400000            0.384510\n",
       "max           350.800000            1.228000"
      ]
     },
     "execution_count": 687,
     "metadata": {},
     "output_type": "execute_result"
    }
   ],
   "source": [
    "#see the statistics for total day minutes and charge per min for day calls\n",
    "new_df1[['total_day_minutes', 'charge_per_min_day']].describe()"
   ]
  },
  {
   "cell_type": "code",
   "execution_count": 688,
   "metadata": {
    "ExecuteTime": {
     "end_time": "2021-08-05T15:18:13.446797Z",
     "start_time": "2021-08-05T15:18:13.404847Z"
    },
    "scrolled": true
   },
   "outputs": [
    {
     "data": {
      "text/html": [
       "<div>\n",
       "<style scoped>\n",
       "    .dataframe tbody tr th:only-of-type {\n",
       "        vertical-align: middle;\n",
       "    }\n",
       "\n",
       "    .dataframe tbody tr th {\n",
       "        vertical-align: top;\n",
       "    }\n",
       "\n",
       "    .dataframe thead th {\n",
       "        text-align: right;\n",
       "    }\n",
       "</style>\n",
       "<table border=\"1\" class=\"dataframe\">\n",
       "  <thead>\n",
       "    <tr style=\"text-align: right;\">\n",
       "      <th></th>\n",
       "      <th>total_day_minutes</th>\n",
       "      <th>charge_per_min_day</th>\n",
       "    </tr>\n",
       "  </thead>\n",
       "  <tbody>\n",
       "    <tr>\n",
       "      <th>count</th>\n",
       "      <td>483.000000</td>\n",
       "      <td>483.000000</td>\n",
       "    </tr>\n",
       "    <tr>\n",
       "      <th>mean</th>\n",
       "      <td>206.914079</td>\n",
       "      <td>0.364148</td>\n",
       "    </tr>\n",
       "    <tr>\n",
       "      <th>std</th>\n",
       "      <td>68.997792</td>\n",
       "      <td>0.158242</td>\n",
       "    </tr>\n",
       "    <tr>\n",
       "      <th>min</th>\n",
       "      <td>0.000000</td>\n",
       "      <td>0.000000</td>\n",
       "    </tr>\n",
       "    <tr>\n",
       "      <th>25%</th>\n",
       "      <td>153.250000</td>\n",
       "      <td>0.252803</td>\n",
       "    </tr>\n",
       "    <tr>\n",
       "      <th>50%</th>\n",
       "      <td>217.600000</td>\n",
       "      <td>0.348720</td>\n",
       "    </tr>\n",
       "    <tr>\n",
       "      <th>75%</th>\n",
       "      <td>265.950000</td>\n",
       "      <td>0.449143</td>\n",
       "    </tr>\n",
       "    <tr>\n",
       "      <th>max</th>\n",
       "      <td>350.800000</td>\n",
       "      <td>1.150000</td>\n",
       "    </tr>\n",
       "  </tbody>\n",
       "</table>\n",
       "</div>"
      ],
      "text/plain": [
       "       total_day_minutes  charge_per_min_day\n",
       "count         483.000000          483.000000\n",
       "mean          206.914079            0.364148\n",
       "std            68.997792            0.158242\n",
       "min             0.000000            0.000000\n",
       "25%           153.250000            0.252803\n",
       "50%           217.600000            0.348720\n",
       "75%           265.950000            0.449143\n",
       "max           350.800000            1.150000"
      ]
     },
     "execution_count": 688,
     "metadata": {},
     "output_type": "execute_result"
    }
   ],
   "source": [
    "#see the statistics for total day minutes and charge per min for day calls for those who churn\n",
    "new_df1[new_df1['churn'] == 1][['total_day_minutes', 'charge_per_min_day']].describe()"
   ]
  },
  {
   "cell_type": "code",
   "execution_count": 689,
   "metadata": {
    "ExecuteTime": {
     "end_time": "2021-08-05T15:18:13.515087Z",
     "start_time": "2021-08-05T15:18:13.452453Z"
    },
    "scrolled": true
   },
   "outputs": [
    {
     "data": {
      "text/html": [
       "<div>\n",
       "<style scoped>\n",
       "    .dataframe tbody tr th:only-of-type {\n",
       "        vertical-align: middle;\n",
       "    }\n",
       "\n",
       "    .dataframe tbody tr th {\n",
       "        vertical-align: top;\n",
       "    }\n",
       "\n",
       "    .dataframe thead th {\n",
       "        text-align: right;\n",
       "    }\n",
       "</style>\n",
       "<table border=\"1\" class=\"dataframe\">\n",
       "  <thead>\n",
       "    <tr style=\"text-align: right;\">\n",
       "      <th></th>\n",
       "      <th>total_day_minutes</th>\n",
       "      <th>charge_per_min_day</th>\n",
       "    </tr>\n",
       "  </thead>\n",
       "  <tbody>\n",
       "    <tr>\n",
       "      <th>count</th>\n",
       "      <td>2850.000000</td>\n",
       "      <td>2850.000000</td>\n",
       "    </tr>\n",
       "    <tr>\n",
       "      <th>mean</th>\n",
       "      <td>175.175754</td>\n",
       "      <td>0.310351</td>\n",
       "    </tr>\n",
       "    <tr>\n",
       "      <th>std</th>\n",
       "      <td>50.181655</td>\n",
       "      <td>0.116160</td>\n",
       "    </tr>\n",
       "    <tr>\n",
       "      <th>min</th>\n",
       "      <td>0.000000</td>\n",
       "      <td>0.000000</td>\n",
       "    </tr>\n",
       "    <tr>\n",
       "      <th>25%</th>\n",
       "      <td>142.825000</td>\n",
       "      <td>0.233230</td>\n",
       "    </tr>\n",
       "    <tr>\n",
       "      <th>50%</th>\n",
       "      <td>177.200000</td>\n",
       "      <td>0.299729</td>\n",
       "    </tr>\n",
       "    <tr>\n",
       "      <th>75%</th>\n",
       "      <td>210.300000</td>\n",
       "      <td>0.374728</td>\n",
       "    </tr>\n",
       "    <tr>\n",
       "      <th>max</th>\n",
       "      <td>315.600000</td>\n",
       "      <td>1.228000</td>\n",
       "    </tr>\n",
       "  </tbody>\n",
       "</table>\n",
       "</div>"
      ],
      "text/plain": [
       "       total_day_minutes  charge_per_min_day\n",
       "count        2850.000000         2850.000000\n",
       "mean          175.175754            0.310351\n",
       "std            50.181655            0.116160\n",
       "min             0.000000            0.000000\n",
       "25%           142.825000            0.233230\n",
       "50%           177.200000            0.299729\n",
       "75%           210.300000            0.374728\n",
       "max           315.600000            1.228000"
      ]
     },
     "execution_count": 689,
     "metadata": {},
     "output_type": "execute_result"
    }
   ],
   "source": [
    "#see the statistics for total day minutes and charge per min for day calls for those who do not churn\n",
    "new_df1[new_df1['churn'] == 0][['total_day_minutes', 'charge_per_min_day']].describe()"
   ]
  },
  {
   "cell_type": "code",
   "execution_count": 690,
   "metadata": {
    "ExecuteTime": {
     "end_time": "2021-08-05T15:18:14.058074Z",
     "start_time": "2021-08-05T15:18:13.520427Z"
    },
    "scrolled": true
   },
   "outputs": [
    {
     "data": {
      "text/plain": [
       "<AxesSubplot:>"
      ]
     },
     "execution_count": 690,
     "metadata": {},
     "output_type": "execute_result"
    },
    {
     "data": {
      "image/png": "[encoded data removed]",
      "text/plain": [
       "<Figure size 432x288 with 1 Axes>"
      ]
     },
     "metadata": {
      "needs_background": "light"
     },
     "output_type": "display_data"
    }
   ],
   "source": [
    "new_df1[new_df1['total_day_minutes'] > 200]['charge_per_min_day'].hist(bins='auto')"
   ]
  },
  {
   "cell_type": "markdown",
   "metadata": {},
   "source": [
    "We see that the 50% percentile of total_day_minutes is ~200 minutes (we round down because if we were to promote this plan, we should have a rounded number) for customers who churn. We also see that the the price per minute at this percentile is ~$0.35. We suggest to implement a fixed fee plan for those who go over 200 minutes at a price of $0.35 per minute."
   ]
  },
  {
   "cell_type": "code",
   "execution_count": 691,
   "metadata": {
    "ExecuteTime": {
     "end_time": "2021-08-05T15:18:14.082771Z",
     "start_time": "2021-08-05T15:18:14.062587Z"
    }
   },
   "outputs": [],
   "source": [
    "def fixed_day_plan(df, day_min, charge_min_day):\n",
    "    '''\n",
    "    this function modifies the dataframe to adjust the charge_min_day to a fixed rate\n",
    "    given a threshold for total_day_min, and returns the modified df and churn rate\n",
    "    '''\n",
    "    df.loc[df['total_day_minutes'] > day_min, 'charge_per_min_day'] = charge_min_day\n",
    "    df['total_day_charge'] = df['charge_per_min_day'] * df['total_day_minutes']\n",
    "    df['total_charge_dom'] = df['total_day_charge'] + df['total_eve_charge'] + df['total_night_charge']\n",
    "    df['total_charge'] = df['total_day_charge'] + df['total_eve_charge'] + df['total_night_charge'] + df['total_intl_charge']\n",
    "    \n",
    "    #seperating the target and data\n",
    "    X = df.drop('churn', axis=1)\n",
    "    y = df['churn']\n",
    "    \n",
    "    categorical = ['state','area_code', 'international_plan', 'voice_mail_plan', 'region']\n",
    "    df_cat = X[categorical]\n",
    "    df_cont = X.drop(categorical,axis = 1)\n",
    "    \n",
    "    #splitting the numericals and categoricals\n",
    "    X_num = df_cont.columns\n",
    "    X_cat = df_cat.columns\n",
    "    \n",
    "    #preprocessing the pipeline with standard scaler and one hot encoder\n",
    "    numTrans = Pipeline(steps=[\n",
    "    ('scaler', StandardScaler())\n",
    "    ])\n",
    "    catTrans = Pipeline(steps=[\n",
    "    ('ohe', OneHotEncoder(drop='first',\n",
    "                          sparse=False))\n",
    "    ])\n",
    "\n",
    "    pp = ColumnTransformer(transformers=[\n",
    "    ('num', numTrans, X_num),\n",
    "    ('cat', catTrans, X_cat)\n",
    "    ])\n",
    "    \n",
    "    # transform the pipeline and then converting it back into a dataframe\n",
    "    X_scaled = pp.fit_transform(X)\n",
    "    \n",
    "    #aggregating col names from the one hot encode \n",
    "    cat_names = pp.transformers_[1][1].named_steps['ohe'].get_feature_names(X_cat).tolist()\n",
    "    feature_names= list(X_num) + cat_names\n",
    "\n",
    "    # renaming the data frame with corresponding col names\n",
    "    X_scaled = pd.DataFrame(X_scaled, columns = feature_names)\n",
    "    \n",
    "    #Gradient Boost\n",
    "    model_boost_gb = GradientBoostingClassifier(random_state=42)\n",
    "    gb_m = model_boost_gb.fit(X_scaled,y)\n",
    "    \n",
    "    #predict the new churn from this dataframe\n",
    "    df['churn'] = gb_m.predict(X_scaled)\n",
    "    \n",
    "    #calculate the new churn and total charge\n",
    "    new_churn = round(df['churn'].value_counts(normalize=True)[1]*100, 2)\n",
    "    \n",
    "    return df, new_churn"
   ]
  },
  {
   "cell_type": "code",
   "execution_count": 692,
   "metadata": {
    "ExecuteTime": {
     "end_time": "2021-08-05T15:18:19.611259Z",
     "start_time": "2021-08-05T15:18:14.089104Z"
    }
   },
   "outputs": [
    {
     "name": "stdout",
     "output_type": "stream",
     "text": [
      "12.57\n"
     ]
    }
   ],
   "source": [
    "new_df1, churn1 = fixed_day_plan(new_df1, 200, 0.35)\n",
    "print(churn1)"
   ]
  },
  {
   "cell_type": "markdown",
   "metadata": {},
   "source": [
    "## Improve Customer Satisfaction"
   ]
  },
  {
   "cell_type": "code",
   "execution_count": 693,
   "metadata": {
    "ExecuteTime": {
     "end_time": "2021-08-05T15:18:20.119097Z",
     "start_time": "2021-08-05T15:18:19.615586Z"
    },
    "scrolled": false
   },
   "outputs": [
    {
     "data": {
      "text/plain": [
       "<AxesSubplot:>"
      ]
     },
     "execution_count": 693,
     "metadata": {},
     "output_type": "execute_result"
    },
    {
     "data": {
      "image/png": "[encoded data removed]",
      "text/plain": [
       "<Figure size 432x288 with 1 Axes>"
      ]
     },
     "metadata": {
      "needs_background": "light"
     },
     "output_type": "display_data"
    }
   ],
   "source": [
    "df['call_satisfaction'].hist(bins='auto')"
   ]
  },
  {
   "cell_type": "code",
   "execution_count": 694,
   "metadata": {
    "ExecuteTime": {
     "end_time": "2021-08-05T15:18:20.145450Z",
     "start_time": "2021-08-05T15:18:20.123989Z"
    },
    "scrolled": true
   },
   "outputs": [
    {
     "data": {
      "text/plain": [
       "count    3333.000000\n",
       "mean        0.519833\n",
       "std         0.445629\n",
       "min         0.000000\n",
       "25%         0.289017\n",
       "50%         0.366300\n",
       "75%         0.727273\n",
       "max         3.030303\n",
       "Name: call_satisfaction, dtype: float64"
      ]
     },
     "execution_count": 694,
     "metadata": {},
     "output_type": "execute_result"
    }
   ],
   "source": [
    "df['call_satisfaction'].describe()"
   ]
  },
  {
   "cell_type": "code",
   "execution_count": 695,
   "metadata": {
    "ExecuteTime": {
     "end_time": "2021-08-05T15:18:20.161037Z",
     "start_time": "2021-08-05T15:18:20.153378Z"
    }
   },
   "outputs": [],
   "source": [
    "new_df2 = new_df1.copy()"
   ]
  },
  {
   "cell_type": "code",
   "execution_count": 696,
   "metadata": {
    "ExecuteTime": {
     "end_time": "2021-08-05T15:18:20.185512Z",
     "start_time": "2021-08-05T15:18:20.166229Z"
    }
   },
   "outputs": [],
   "source": [
    "def call_satis(df, threshold, new_satis):\n",
    "    df.loc[df['call_satisfaction'] > threshold, 'call_satisfaction'] = new_satis\n",
    "    df['customer_service_calls'] = (df['call_satisfaction']/100)*df['total_calls']\n",
    "    \n",
    "    #seperating the target and data\n",
    "    X = df.drop('churn', axis=1)\n",
    "    y = df['churn']\n",
    "    \n",
    "    categorical = ['state','area_code', 'international_plan', 'voice_mail_plan', 'region']\n",
    "    df_cat = X[categorical]\n",
    "    df_cont = X.drop(categorical,axis = 1)\n",
    "    \n",
    "    #splitting the numericals and categoricals\n",
    "    X_num = df_cont.columns\n",
    "    X_cat = df_cat.columns\n",
    "    \n",
    "    #preprocessing the pipeline with standard scaler and one hot encoder\n",
    "    numTrans = Pipeline(steps=[\n",
    "    ('scaler', StandardScaler())\n",
    "    ])\n",
    "    catTrans = Pipeline(steps=[\n",
    "    ('ohe', OneHotEncoder(drop='first',\n",
    "                          sparse=False))\n",
    "    ])\n",
    "\n",
    "    pp = ColumnTransformer(transformers=[\n",
    "    ('num', numTrans, X_num),\n",
    "    ('cat', catTrans, X_cat)\n",
    "    ])\n",
    "    \n",
    "    # transform the pipeline and then converting it back into a dataframe\n",
    "    X_scaled = pp.fit_transform(X)\n",
    "    \n",
    "    #aggregating col names from the one hot encode \n",
    "    cat_names = pp.transformers_[1][1].named_steps['ohe'].get_feature_names(X_cat).tolist()\n",
    "    feature_names= list(X_num) + cat_names\n",
    "\n",
    "    # renaming the data frame with corresponding col names\n",
    "    X_scaled = pd.DataFrame(X_scaled, columns = feature_names)\n",
    "    \n",
    "    #Gradient Boost\n",
    "    model_boost_gb = GradientBoostingClassifier(random_state=42)\n",
    "    gb_m = model_boost_gb.fit(X_scaled,y)\n",
    "    \n",
    "    #predict the new churn from this dataframe\n",
    "    df['churn'] = gb_m.predict(X_scaled)\n",
    "    \n",
    "    #calculate the new churn and total charge\n",
    "    new_churn = round(df['churn'].value_counts(normalize=True)[1]*100, 2)\n",
    "    \n",
    "    return df, new_churn"
   ]
  },
  {
   "cell_type": "code",
   "execution_count": 697,
   "metadata": {
    "ExecuteTime": {
     "end_time": "2021-08-05T15:18:25.276807Z",
     "start_time": "2021-08-05T15:18:20.190418Z"
    }
   },
   "outputs": [
    {
     "name": "stdout",
     "output_type": "stream",
     "text": [
      "10.23\n"
     ]
    }
   ],
   "source": [
    "new_df2, churn2 = call_satis(new_df2, 0.72, 0.72)\n",
    "print(churn2)"
   ]
  },
  {
   "cell_type": "markdown",
   "metadata": {},
   "source": [
    "## Prioritize Key States"
   ]
  },
  {
   "cell_type": "code",
   "execution_count": 698,
   "metadata": {
    "ExecuteTime": {
     "end_time": "2021-08-05T15:18:25.284882Z",
     "start_time": "2021-08-05T15:18:25.280061Z"
    }
   },
   "outputs": [],
   "source": [
    "new_df3 = new_df2.copy()"
   ]
  },
  {
   "cell_type": "code",
   "execution_count": 699,
   "metadata": {
    "ExecuteTime": {
     "end_time": "2021-08-05T15:18:25.294655Z",
     "start_time": "2021-08-05T15:18:25.289422Z"
    }
   },
   "outputs": [],
   "source": [
    "key_states = ['NJ', 'CA', 'TX', 'MD', 'SC']"
   ]
  },
  {
   "cell_type": "code",
   "execution_count": 700,
   "metadata": {
    "ExecuteTime": {
     "end_time": "2021-08-05T15:18:25.303323Z",
     "start_time": "2021-08-05T15:18:25.298090Z"
    }
   },
   "outputs": [],
   "source": [
    "def state_churn(df, state):\n",
    "    new_df = df[df['state'] == state]\n",
    "    churn = round(new_df['churn'].value_counts(normalize=True)[1]*100, 0)\n",
    "    return churn"
   ]
  },
  {
   "cell_type": "code",
   "execution_count": 701,
   "metadata": {
    "ExecuteTime": {
     "end_time": "2021-08-05T15:18:25.343739Z",
     "start_time": "2021-08-05T15:18:25.306747Z"
    }
   },
   "outputs": [],
   "source": [
    "states = {}\n",
    "for state in key_states:\n",
    "    states[state] = [None, None]\n",
    "\n",
    "for state in key_states:\n",
    "    states[state][0] = state_churn(df, state)\n",
    "    states[state][1] = state_churn(new_df3, state)"
   ]
  },
  {
   "cell_type": "code",
   "execution_count": 702,
   "metadata": {
    "ExecuteTime": {
     "end_time": "2021-08-05T15:18:25.355501Z",
     "start_time": "2021-08-05T15:18:25.347120Z"
    }
   },
   "outputs": [
    {
     "data": {
      "text/plain": [
       "{'NJ': [26.0, 21.0],\n",
       " 'CA': [26.0, 18.0],\n",
       " 'TX': [25.0, 15.0],\n",
       " 'MD': [24.0, 20.0],\n",
       " 'SC': [23.0, 13.0]}"
      ]
     },
     "execution_count": 702,
     "metadata": {},
     "output_type": "execute_result"
    }
   ],
   "source": [
    "states"
   ]
  },
  {
   "cell_type": "code",
   "execution_count": 703,
   "metadata": {
    "ExecuteTime": {
     "end_time": "2021-08-05T15:18:26.105592Z",
     "start_time": "2021-08-05T15:18:25.359244Z"
    }
   },
   "outputs": [
    {
     "data": {
      "image/png": "[encoded data removed]",
      "text/plain": [
       "<Figure size 720x720 with 1 Axes>"
      ]
     },
     "metadata": {
      "needs_background": "light"
     },
     "output_type": "display_data"
    }
   ],
   "source": [
    "df = pd.DataFrame(states).T\n",
    "df.rename(columns={0:'Original Churn', 1: 'New Churn'}, inplace=True)\n",
    "# plot grouped bar chart\n",
    "fig, ax = plt.subplots(figsize=(10,10))\n",
    "\n",
    "df.plot(kind=\"bar\", ax=ax, color=['royalblue','skyblue'])\n",
    "\n",
    "#set labels for axes, and the x and y tick size\n",
    "ax.set_title('Churn Rate of State Before and After Recommendations', fontsize=18)\n",
    "ax.set_ylabel(\"Churn Rate\", fontsize=16)\n",
    "plt.xticks(size = 14, rotation=0)\n",
    "plt.yticks(size = 14)\n",
    "    \n",
    "#reverse the legend labels so that it matches with the bar graphs\n",
    "ax.legend(bbox_to_anchor=(1.01, 1), loc='upper left', prop={'size': 14})\n",
    "\n",
    "\n",
    "for bar in ax.patches:\n",
    "    # The text annotation for each bar should be its height\n",
    "    bar_value = bar.get_height()\n",
    "    text = f'{bar_value:,}'\n",
    "    # Get the middle of each bar on the x-axis.\n",
    "    text_x = bar.get_x() + bar.get_width() / 2\n",
    "    # get_y() is where the bar starts so we add the height to it.\n",
    "    text_y = bar.get_y() + bar_value\n",
    "    # set the text\n",
    "    ax.text(text_x, text_y, text, ha='center', va='bottom', color='black', size=10)\n",
    "    \n",
    "fig.savefig('images/Churn_Rate_of_State_Before_and_After_Recommendations.png', bbox_inches='tight')"
   ]
  },
  {
   "cell_type": "markdown",
   "metadata": {
    "heading_collapsed": true
   },
   "source": [
    "# Let's create a function to calculate percentage of a customer churning"
   ]
  },
  {
   "cell_type": "code",
   "execution_count": 71,
   "metadata": {
    "ExecuteTime": {
     "end_time": "2021-08-04T22:41:28.997656Z",
     "start_time": "2021-08-04T22:41:28.995534Z"
    },
    "hidden": true
   },
   "outputs": [
    {
     "data": {
      "text/plain": [
       "Index(['state', 'account_length'], dtype='object')"
      ]
     },
     "execution_count": 71,
     "metadata": {},
     "output_type": "execute_result"
    }
   ],
   "source": [
    "df.columns[:2]"
   ]
  },
  {
   "cell_type": "code",
   "execution_count": 72,
   "metadata": {
    "ExecuteTime": {
     "end_time": "2021-08-04T22:41:29.007416Z",
     "start_time": "2021-08-04T22:41:28.998492Z"
    },
    "hidden": true
   },
   "outputs": [],
   "source": [
    "# single customer churning probability calculator\n",
    "\n",
    "def churn(total_day_minutes, total_charge, customer_service_calls, international_plan):\n",
    "    \n",
    "    #using the ensemble to predict\n",
    "    voting_clf = VotingClassifier(estimators=[ \n",
    "                                          (\"rf\", rf_model) ,\n",
    "                                          ('dt', best_DT_clf),\n",
    "                                          ('xgb', xgb_model),\n",
    "                                          (\"gb\", gb_m)], \n",
    "                                          voting= \"soft\")\n",
    "    \n",
    "    #slice out corresponding df\n",
    "    data= df[['total_day_minutes', 'total_charge', \n",
    "            'customer_service_calls','international_plan','churn'\n",
    "              ]]\n",
    "    \n",
    "    \n",
    "    #split into train test\n",
    "    y= data['churn']\n",
    "    X= data.drop('churn', axis=1)\n",
    "    X_train, X_test, y_train, y_test = train_test_split(X, y, test_size = .3 ,random_state=42)\n",
    "    \n",
    "    \n",
    "    #pipeline reintroduced to fit specific data frame\n",
    "    \n",
    "    X_num=X_train.columns[:3]\n",
    "    X_cat=X_train.columns[3:4]\n",
    "    \n",
    "    numTrans = Pipeline(steps=[\n",
    "    ('scaler', StandardScaler())\n",
    "    ])\n",
    "    catTrans = Pipeline(steps=[\n",
    "    ('ohe', OneHotEncoder(drop='first',\n",
    "                          sparse=False))\n",
    "    ])\n",
    "\n",
    "    pp = ColumnTransformer(transformers=[\n",
    "    ('num', numTrans, X_num),\n",
    "    ('cat', catTrans, X_cat)\n",
    "    ])\n",
    "    \n",
    "    \n",
    "    #use pipeline to scale \n",
    "    X_train_scaled = pp.fit_transform(X_train)\n",
    "    X_test_scaled= pp.transform(X_test)\n",
    "    X_train_scaled= pd.DataFrame(X_train_scaled)\n",
    "    X_test_scaled=pd.DataFrame(X_test_scaled)\n",
    "    \n",
    "#     create a single entry from function inputs to test\n",
    "    d= {'total_day_minutes':total_day_minutes , \n",
    "        'total_charge': total_charge , \n",
    "        'customer_service_calls': customer_service_calls,\n",
    "        'international_plan':international_plan}\n",
    "    \n",
    "    df_pred= pd.DataFrame(d, index=[0])\n",
    "    \n",
    "    #scale it so model doesnt break on string entries\n",
    "    df_pred = pp.transform(df_pred)\n",
    "    df_pred = pd.DataFrame(df_pred)\n",
    "    \n",
    "    #fit the model\n",
    "    voting_clf.fit(X_train_scaled, y_train)\n",
    "  \n",
    "    #predict the probability that customer may churn\n",
    "    p = voting_clf.predict_proba(df_pred)[0][1]\n",
    "    \n",
    "    if p >.5:\n",
    "        return 1\n",
    "    else:\n",
    "        return 0\n",
    "    \n",
    "#     print(f\"The selected account has a {round(p[0][1]*100)}% chance of churning \")\n",
    "    "
   ]
  },
  {
   "cell_type": "code",
   "execution_count": 73,
   "metadata": {
    "ExecuteTime": {
     "end_time": "2021-08-04T22:41:31.615759Z",
     "start_time": "2021-08-04T22:41:29.008355Z"
    },
    "hidden": true
   },
   "outputs": [
    {
     "data": {
      "text/plain": [
       "0"
      ]
     },
     "execution_count": 73,
     "metadata": {},
     "output_type": "execute_result"
    }
   ],
   "source": [
    "churn(200,34,0,\"yes\")"
   ]
  },
  {
   "cell_type": "code",
   "execution_count": 74,
   "metadata": {
    "ExecuteTime": {
     "end_time": "2021-08-04T22:41:34.227549Z",
     "start_time": "2021-08-04T22:41:31.616809Z"
    },
    "hidden": true
   },
   "outputs": [
    {
     "data": {
      "text/plain": [
       "1"
      ]
     },
     "execution_count": 74,
     "metadata": {},
     "output_type": "execute_result"
    }
   ],
   "source": [
    "# example used for one customer\n",
    "churn(128,75.56,1,\"no\")"
   ]
  },
  {
   "cell_type": "code",
   "execution_count": 75,
   "metadata": {
    "ExecuteTime": {
     "end_time": "2021-08-04T22:41:34.231711Z",
     "start_time": "2021-08-04T22:41:34.228475Z"
    },
    "hidden": true
   },
   "outputs": [
    {
     "data": {
      "text/plain": [
       "state                            MT\n",
       "account_length                   94\n",
       "area_code                       415\n",
       "international_plan               no\n",
       "voice_mail_plan                  no\n",
       "number_vmail_messages             0\n",
       "total_day_minutes             137.5\n",
       "total_day_calls                 118\n",
       "total_day_charge              23.38\n",
       "total_eve_minutes             203.2\n",
       "total_eve_calls                  88\n",
       "total_eve_charge              17.27\n",
       "total_night_minutes             150\n",
       "total_night_calls               131\n",
       "total_night_charge             6.75\n",
       "total_intl_minutes             13.4\n",
       "total_intl_calls                  2\n",
       "total_intl_charge              3.62\n",
       "customer_service_calls            0\n",
       "churn                             0\n",
       "total_minutes_dom             490.7\n",
       "total_calls_dom                 337\n",
       "total_charge_dom               47.4\n",
       "total_minutes                 504.1\n",
       "total_calls                     339\n",
       "total_charge                  51.02\n",
       "charge_per_min_day         0.198136\n",
       "charge_per_min_eve          0.19625\n",
       "charge_per_min_night      0.0515267\n",
       "charge_per_min_dom         0.140653\n",
       "charge_per_min_int             1.81\n",
       "%_int_min                    2.6582\n",
       "call_satisfaction                 0\n",
       "region                         West\n",
       "Name: 193, dtype: object"
      ]
     },
     "execution_count": 75,
     "metadata": {},
     "output_type": "execute_result"
    }
   ],
   "source": [
    "df.loc[193]"
   ]
  },
  {
   "cell_type": "code",
   "execution_count": 76,
   "metadata": {
    "ExecuteTime": {
     "end_time": "2021-08-04T22:41:36.869473Z",
     "start_time": "2021-08-04T22:41:34.232720Z"
    },
    "hidden": true
   },
   "outputs": [
    {
     "data": {
      "text/plain": [
       "0"
      ]
     },
     "execution_count": 76,
     "metadata": {},
     "output_type": "execute_result"
    }
   ],
   "source": [
    "churn(94,51.02,0,\"no\")"
   ]
  },
  {
   "cell_type": "code",
   "execution_count": 77,
   "metadata": {
    "ExecuteTime": {
     "end_time": "2021-08-04T22:41:36.887863Z",
     "start_time": "2021-08-04T22:41:36.870509Z"
    },
    "hidden": true
   },
   "outputs": [
    {
     "data": {
      "text/html": [
       "<div>\n",
       "<style scoped>\n",
       "    .dataframe tbody tr th:only-of-type {\n",
       "        vertical-align: middle;\n",
       "    }\n",
       "\n",
       "    .dataframe tbody tr th {\n",
       "        vertical-align: top;\n",
       "    }\n",
       "\n",
       "    .dataframe thead th {\n",
       "        text-align: right;\n",
       "    }\n",
       "</style>\n",
       "<table border=\"1\" class=\"dataframe\">\n",
       "  <thead>\n",
       "    <tr style=\"text-align: right;\">\n",
       "      <th></th>\n",
       "      <th>state</th>\n",
       "      <th>account_length</th>\n",
       "      <th>area_code</th>\n",
       "      <th>international_plan</th>\n",
       "      <th>voice_mail_plan</th>\n",
       "      <th>number_vmail_messages</th>\n",
       "      <th>total_day_minutes</th>\n",
       "      <th>total_day_calls</th>\n",
       "      <th>total_day_charge</th>\n",
       "      <th>total_eve_minutes</th>\n",
       "      <th>...</th>\n",
       "      <th>total_calls</th>\n",
       "      <th>total_charge</th>\n",
       "      <th>charge_per_min_day</th>\n",
       "      <th>charge_per_min_eve</th>\n",
       "      <th>charge_per_min_night</th>\n",
       "      <th>charge_per_min_dom</th>\n",
       "      <th>charge_per_min_int</th>\n",
       "      <th>%_int_min</th>\n",
       "      <th>call_satisfaction</th>\n",
       "      <th>region</th>\n",
       "    </tr>\n",
       "  </thead>\n",
       "  <tbody>\n",
       "    <tr>\n",
       "      <th>0</th>\n",
       "      <td>KS</td>\n",
       "      <td>128</td>\n",
       "      <td>415</td>\n",
       "      <td>no</td>\n",
       "      <td>yes</td>\n",
       "      <td>25</td>\n",
       "      <td>265.1</td>\n",
       "      <td>110</td>\n",
       "      <td>45.07</td>\n",
       "      <td>197.4</td>\n",
       "      <td>...</td>\n",
       "      <td>303</td>\n",
       "      <td>75.56</td>\n",
       "      <td>0.409727</td>\n",
       "      <td>0.169495</td>\n",
       "      <td>0.120989</td>\n",
       "      <td>0.242867</td>\n",
       "      <td>0.900000</td>\n",
       "      <td>1.394311</td>\n",
       "      <td>0.330033</td>\n",
       "      <td>Midwest</td>\n",
       "    </tr>\n",
       "    <tr>\n",
       "      <th>1</th>\n",
       "      <td>OH</td>\n",
       "      <td>107</td>\n",
       "      <td>415</td>\n",
       "      <td>no</td>\n",
       "      <td>yes</td>\n",
       "      <td>26</td>\n",
       "      <td>161.6</td>\n",
       "      <td>123</td>\n",
       "      <td>27.47</td>\n",
       "      <td>195.5</td>\n",
       "      <td>...</td>\n",
       "      <td>332</td>\n",
       "      <td>59.24</td>\n",
       "      <td>0.223333</td>\n",
       "      <td>0.161359</td>\n",
       "      <td>0.111165</td>\n",
       "      <td>0.168815</td>\n",
       "      <td>1.233333</td>\n",
       "      <td>2.191299</td>\n",
       "      <td>0.301205</td>\n",
       "      <td>Midwest</td>\n",
       "    </tr>\n",
       "    <tr>\n",
       "      <th>2</th>\n",
       "      <td>NJ</td>\n",
       "      <td>137</td>\n",
       "      <td>415</td>\n",
       "      <td>no</td>\n",
       "      <td>no</td>\n",
       "      <td>0</td>\n",
       "      <td>243.4</td>\n",
       "      <td>114</td>\n",
       "      <td>41.38</td>\n",
       "      <td>121.2</td>\n",
       "      <td>...</td>\n",
       "      <td>333</td>\n",
       "      <td>62.29</td>\n",
       "      <td>0.362982</td>\n",
       "      <td>0.093636</td>\n",
       "      <td>0.070385</td>\n",
       "      <td>0.179878</td>\n",
       "      <td>0.658000</td>\n",
       "      <td>2.261772</td>\n",
       "      <td>0.000000</td>\n",
       "      <td>Northeast</td>\n",
       "    </tr>\n",
       "    <tr>\n",
       "      <th>3</th>\n",
       "      <td>OH</td>\n",
       "      <td>84</td>\n",
       "      <td>408</td>\n",
       "      <td>yes</td>\n",
       "      <td>no</td>\n",
       "      <td>0</td>\n",
       "      <td>299.4</td>\n",
       "      <td>71</td>\n",
       "      <td>50.90</td>\n",
       "      <td>61.9</td>\n",
       "      <td>...</td>\n",
       "      <td>255</td>\n",
       "      <td>66.80</td>\n",
       "      <td>0.716901</td>\n",
       "      <td>0.059773</td>\n",
       "      <td>0.099551</td>\n",
       "      <td>0.262177</td>\n",
       "      <td>0.254286</td>\n",
       "      <td>1.168555</td>\n",
       "      <td>0.784314</td>\n",
       "      <td>Midwest</td>\n",
       "    </tr>\n",
       "    <tr>\n",
       "      <th>4</th>\n",
       "      <td>OK</td>\n",
       "      <td>75</td>\n",
       "      <td>415</td>\n",
       "      <td>yes</td>\n",
       "      <td>no</td>\n",
       "      <td>0</td>\n",
       "      <td>166.7</td>\n",
       "      <td>113</td>\n",
       "      <td>28.34</td>\n",
       "      <td>148.3</td>\n",
       "      <td>...</td>\n",
       "      <td>359</td>\n",
       "      <td>52.09</td>\n",
       "      <td>0.250796</td>\n",
       "      <td>0.103361</td>\n",
       "      <td>0.069504</td>\n",
       "      <td>0.138652</td>\n",
       "      <td>0.910000</td>\n",
       "      <td>1.972656</td>\n",
       "      <td>0.835655</td>\n",
       "      <td>South</td>\n",
       "    </tr>\n",
       "    <tr>\n",
       "      <th>5</th>\n",
       "      <td>AL</td>\n",
       "      <td>118</td>\n",
       "      <td>510</td>\n",
       "      <td>yes</td>\n",
       "      <td>no</td>\n",
       "      <td>0</td>\n",
       "      <td>223.4</td>\n",
       "      <td>98</td>\n",
       "      <td>37.98</td>\n",
       "      <td>220.6</td>\n",
       "      <td>...</td>\n",
       "      <td>323</td>\n",
       "      <td>67.61</td>\n",
       "      <td>0.387551</td>\n",
       "      <td>0.185644</td>\n",
       "      <td>0.077797</td>\n",
       "      <td>0.207918</td>\n",
       "      <td>0.283333</td>\n",
       "      <td>0.963008</td>\n",
       "      <td>0.000000</td>\n",
       "      <td>South</td>\n",
       "    </tr>\n",
       "    <tr>\n",
       "      <th>6</th>\n",
       "      <td>MA</td>\n",
       "      <td>121</td>\n",
       "      <td>510</td>\n",
       "      <td>no</td>\n",
       "      <td>yes</td>\n",
       "      <td>24</td>\n",
       "      <td>218.2</td>\n",
       "      <td>88</td>\n",
       "      <td>37.09</td>\n",
       "      <td>348.5</td>\n",
       "      <td>...</td>\n",
       "      <td>321</td>\n",
       "      <td>78.31</td>\n",
       "      <td>0.421477</td>\n",
       "      <td>0.274259</td>\n",
       "      <td>0.081102</td>\n",
       "      <td>0.242930</td>\n",
       "      <td>0.290000</td>\n",
       "      <td>0.953228</td>\n",
       "      <td>0.934579</td>\n",
       "      <td>Northeast</td>\n",
       "    </tr>\n",
       "    <tr>\n",
       "      <th>7</th>\n",
       "      <td>MO</td>\n",
       "      <td>147</td>\n",
       "      <td>415</td>\n",
       "      <td>yes</td>\n",
       "      <td>no</td>\n",
       "      <td>0</td>\n",
       "      <td>157.0</td>\n",
       "      <td>79</td>\n",
       "      <td>26.69</td>\n",
       "      <td>103.1</td>\n",
       "      <td>...</td>\n",
       "      <td>275</td>\n",
       "      <td>46.90</td>\n",
       "      <td>0.337848</td>\n",
       "      <td>0.093191</td>\n",
       "      <td>0.099271</td>\n",
       "      <td>0.167212</td>\n",
       "      <td>0.320000</td>\n",
       "      <td>1.482255</td>\n",
       "      <td>0.000000</td>\n",
       "      <td>Midwest</td>\n",
       "    </tr>\n",
       "    <tr>\n",
       "      <th>8</th>\n",
       "      <td>LA</td>\n",
       "      <td>117</td>\n",
       "      <td>408</td>\n",
       "      <td>no</td>\n",
       "      <td>no</td>\n",
       "      <td>0</td>\n",
       "      <td>184.5</td>\n",
       "      <td>97</td>\n",
       "      <td>31.37</td>\n",
       "      <td>351.6</td>\n",
       "      <td>...</td>\n",
       "      <td>271</td>\n",
       "      <td>73.32</td>\n",
       "      <td>0.323402</td>\n",
       "      <td>0.373625</td>\n",
       "      <td>0.107889</td>\n",
       "      <td>0.265805</td>\n",
       "      <td>0.587500</td>\n",
       "      <td>1.143834</td>\n",
       "      <td>0.369004</td>\n",
       "      <td>South</td>\n",
       "    </tr>\n",
       "    <tr>\n",
       "      <th>9</th>\n",
       "      <td>WV</td>\n",
       "      <td>141</td>\n",
       "      <td>415</td>\n",
       "      <td>yes</td>\n",
       "      <td>yes</td>\n",
       "      <td>37</td>\n",
       "      <td>258.6</td>\n",
       "      <td>84</td>\n",
       "      <td>43.96</td>\n",
       "      <td>222.0</td>\n",
       "      <td>...</td>\n",
       "      <td>297</td>\n",
       "      <td>80.54</td>\n",
       "      <td>0.523333</td>\n",
       "      <td>0.170000</td>\n",
       "      <td>0.151443</td>\n",
       "      <td>0.265479</td>\n",
       "      <td>0.604000</td>\n",
       "      <td>1.368858</td>\n",
       "      <td>0.000000</td>\n",
       "      <td>South</td>\n",
       "    </tr>\n",
       "    <tr>\n",
       "      <th>10</th>\n",
       "      <td>IN</td>\n",
       "      <td>65</td>\n",
       "      <td>415</td>\n",
       "      <td>no</td>\n",
       "      <td>no</td>\n",
       "      <td>0</td>\n",
       "      <td>129.1</td>\n",
       "      <td>137</td>\n",
       "      <td>21.95</td>\n",
       "      <td>228.5</td>\n",
       "      <td>...</td>\n",
       "      <td>337</td>\n",
       "      <td>54.20</td>\n",
       "      <td>0.160219</td>\n",
       "      <td>0.233976</td>\n",
       "      <td>0.084685</td>\n",
       "      <td>0.153384</td>\n",
       "      <td>0.571667</td>\n",
       "      <td>2.193058</td>\n",
       "      <td>1.186944</td>\n",
       "      <td>Midwest</td>\n",
       "    </tr>\n",
       "    <tr>\n",
       "      <th>11</th>\n",
       "      <td>RI</td>\n",
       "      <td>74</td>\n",
       "      <td>415</td>\n",
       "      <td>no</td>\n",
       "      <td>no</td>\n",
       "      <td>0</td>\n",
       "      <td>187.7</td>\n",
       "      <td>127</td>\n",
       "      <td>31.91</td>\n",
       "      <td>163.4</td>\n",
       "      <td>...</td>\n",
       "      <td>374</td>\n",
       "      <td>57.08</td>\n",
       "      <td>0.251260</td>\n",
       "      <td>0.093851</td>\n",
       "      <td>0.093830</td>\n",
       "      <td>0.148022</td>\n",
       "      <td>0.492000</td>\n",
       "      <td>1.636102</td>\n",
       "      <td>0.000000</td>\n",
       "      <td>Northeast</td>\n",
       "    </tr>\n",
       "    <tr>\n",
       "      <th>12</th>\n",
       "      <td>IA</td>\n",
       "      <td>168</td>\n",
       "      <td>408</td>\n",
       "      <td>no</td>\n",
       "      <td>no</td>\n",
       "      <td>0</td>\n",
       "      <td>128.8</td>\n",
       "      <td>96</td>\n",
       "      <td>21.90</td>\n",
       "      <td>104.9</td>\n",
       "      <td>...</td>\n",
       "      <td>297</td>\n",
       "      <td>40.19</td>\n",
       "      <td>0.228125</td>\n",
       "      <td>0.125634</td>\n",
       "      <td>0.049609</td>\n",
       "      <td>0.126000</td>\n",
       "      <td>1.510000</td>\n",
       "      <td>2.901554</td>\n",
       "      <td>0.336700</td>\n",
       "      <td>Midwest</td>\n",
       "    </tr>\n",
       "    <tr>\n",
       "      <th>13</th>\n",
       "      <td>MT</td>\n",
       "      <td>95</td>\n",
       "      <td>510</td>\n",
       "      <td>no</td>\n",
       "      <td>no</td>\n",
       "      <td>0</td>\n",
       "      <td>156.6</td>\n",
       "      <td>88</td>\n",
       "      <td>26.62</td>\n",
       "      <td>247.6</td>\n",
       "      <td>...</td>\n",
       "      <td>283</td>\n",
       "      <td>59.64</td>\n",
       "      <td>0.302500</td>\n",
       "      <td>0.280667</td>\n",
       "      <td>0.075217</td>\n",
       "      <td>0.202590</td>\n",
       "      <td>0.664000</td>\n",
       "      <td>2.020368</td>\n",
       "      <td>1.060071</td>\n",
       "      <td>West</td>\n",
       "    </tr>\n",
       "    <tr>\n",
       "      <th>14</th>\n",
       "      <td>IA</td>\n",
       "      <td>62</td>\n",
       "      <td>415</td>\n",
       "      <td>no</td>\n",
       "      <td>no</td>\n",
       "      <td>0</td>\n",
       "      <td>120.7</td>\n",
       "      <td>70</td>\n",
       "      <td>20.52</td>\n",
       "      <td>307.2</td>\n",
       "      <td>...</td>\n",
       "      <td>251</td>\n",
       "      <td>59.31</td>\n",
       "      <td>0.293143</td>\n",
       "      <td>0.343553</td>\n",
       "      <td>0.092323</td>\n",
       "      <td>0.227633</td>\n",
       "      <td>0.590000</td>\n",
       "      <td>2.034161</td>\n",
       "      <td>1.593625</td>\n",
       "      <td>Midwest</td>\n",
       "    </tr>\n",
       "    <tr>\n",
       "      <th>15</th>\n",
       "      <td>NY</td>\n",
       "      <td>161</td>\n",
       "      <td>415</td>\n",
       "      <td>no</td>\n",
       "      <td>no</td>\n",
       "      <td>0</td>\n",
       "      <td>332.9</td>\n",
       "      <td>67</td>\n",
       "      <td>56.59</td>\n",
       "      <td>317.8</td>\n",
       "      <td>...</td>\n",
       "      <td>301</td>\n",
       "      <td>92.29</td>\n",
       "      <td>0.844627</td>\n",
       "      <td>0.278454</td>\n",
       "      <td>0.056484</td>\n",
       "      <td>0.311062</td>\n",
       "      <td>0.162222</td>\n",
       "      <td>0.661198</td>\n",
       "      <td>1.328904</td>\n",
       "      <td>Northeast</td>\n",
       "    </tr>\n",
       "    <tr>\n",
       "      <th>16</th>\n",
       "      <td>ID</td>\n",
       "      <td>85</td>\n",
       "      <td>408</td>\n",
       "      <td>no</td>\n",
       "      <td>yes</td>\n",
       "      <td>27</td>\n",
       "      <td>196.4</td>\n",
       "      <td>139</td>\n",
       "      <td>33.39</td>\n",
       "      <td>280.9</td>\n",
       "      <td>...</td>\n",
       "      <td>308</td>\n",
       "      <td>65.02</td>\n",
       "      <td>0.240216</td>\n",
       "      <td>0.265333</td>\n",
       "      <td>0.053600</td>\n",
       "      <td>0.201612</td>\n",
       "      <td>0.932500</td>\n",
       "      <td>2.377671</td>\n",
       "      <td>0.324675</td>\n",
       "      <td>West</td>\n",
       "    </tr>\n",
       "    <tr>\n",
       "      <th>17</th>\n",
       "      <td>VT</td>\n",
       "      <td>93</td>\n",
       "      <td>510</td>\n",
       "      <td>no</td>\n",
       "      <td>no</td>\n",
       "      <td>0</td>\n",
       "      <td>190.7</td>\n",
       "      <td>114</td>\n",
       "      <td>32.42</td>\n",
       "      <td>218.2</td>\n",
       "      <td>...</td>\n",
       "      <td>349</td>\n",
       "      <td>58.99</td>\n",
       "      <td>0.284386</td>\n",
       "      <td>0.167117</td>\n",
       "      <td>0.048182</td>\n",
       "      <td>0.164162</td>\n",
       "      <td>0.730000</td>\n",
       "      <td>1.481888</td>\n",
       "      <td>0.859599</td>\n",
       "      <td>Northeast</td>\n",
       "    </tr>\n",
       "    <tr>\n",
       "      <th>18</th>\n",
       "      <td>VA</td>\n",
       "      <td>76</td>\n",
       "      <td>510</td>\n",
       "      <td>no</td>\n",
       "      <td>yes</td>\n",
       "      <td>33</td>\n",
       "      <td>189.7</td>\n",
       "      <td>66</td>\n",
       "      <td>32.25</td>\n",
       "      <td>212.8</td>\n",
       "      <td>...</td>\n",
       "      <td>244</td>\n",
       "      <td>60.50</td>\n",
       "      <td>0.488636</td>\n",
       "      <td>0.278308</td>\n",
       "      <td>0.069074</td>\n",
       "      <td>0.241841</td>\n",
       "      <td>0.540000</td>\n",
       "      <td>1.729505</td>\n",
       "      <td>0.409836</td>\n",
       "      <td>South</td>\n",
       "    </tr>\n",
       "    <tr>\n",
       "      <th>19</th>\n",
       "      <td>TX</td>\n",
       "      <td>73</td>\n",
       "      <td>415</td>\n",
       "      <td>no</td>\n",
       "      <td>no</td>\n",
       "      <td>0</td>\n",
       "      <td>224.4</td>\n",
       "      <td>90</td>\n",
       "      <td>38.15</td>\n",
       "      <td>159.5</td>\n",
       "      <td>...</td>\n",
       "      <td>254</td>\n",
       "      <td>63.90</td>\n",
       "      <td>0.423889</td>\n",
       "      <td>0.154091</td>\n",
       "      <td>0.117297</td>\n",
       "      <td>0.239643</td>\n",
       "      <td>1.755000</td>\n",
       "      <td>2.204511</td>\n",
       "      <td>0.393701</td>\n",
       "      <td>South</td>\n",
       "    </tr>\n",
       "  </tbody>\n",
       "</table>\n",
       "<p>20 rows × 34 columns</p>\n",
       "</div>"
      ],
      "text/plain": [
       "   state  account_length  area_code international_plan voice_mail_plan  \\\n",
       "0     KS             128        415                 no             yes   \n",
       "1     OH             107        415                 no             yes   \n",
       "2     NJ             137        415                 no              no   \n",
       "3     OH              84        408                yes              no   \n",
       "4     OK              75        415                yes              no   \n",
       "5     AL             118        510                yes              no   \n",
       "6     MA             121        510                 no             yes   \n",
       "7     MO             147        415                yes              no   \n",
       "8     LA             117        408                 no              no   \n",
       "9     WV             141        415                yes             yes   \n",
       "10    IN              65        415                 no              no   \n",
       "11    RI              74        415                 no              no   \n",
       "12    IA             168        408                 no              no   \n",
       "13    MT              95        510                 no              no   \n",
       "14    IA              62        415                 no              no   \n",
       "15    NY             161        415                 no              no   \n",
       "16    ID              85        408                 no             yes   \n",
       "17    VT              93        510                 no              no   \n",
       "18    VA              76        510                 no             yes   \n",
       "19    TX              73        415                 no              no   \n",
       "\n",
       "    number_vmail_messages  total_day_minutes  total_day_calls  \\\n",
       "0                      25              265.1              110   \n",
       "1                      26              161.6              123   \n",
       "2                       0              243.4              114   \n",
       "3                       0              299.4               71   \n",
       "4                       0              166.7              113   \n",
       "5                       0              223.4               98   \n",
       "6                      24              218.2               88   \n",
       "7                       0              157.0               79   \n",
       "8                       0              184.5               97   \n",
       "9                      37              258.6               84   \n",
       "10                      0              129.1              137   \n",
       "11                      0              187.7              127   \n",
       "12                      0              128.8               96   \n",
       "13                      0              156.6               88   \n",
       "14                      0              120.7               70   \n",
       "15                      0              332.9               67   \n",
       "16                     27              196.4              139   \n",
       "17                      0              190.7              114   \n",
       "18                     33              189.7               66   \n",
       "19                      0              224.4               90   \n",
       "\n",
       "    total_day_charge  total_eve_minutes  ...  total_calls  total_charge  \\\n",
       "0              45.07              197.4  ...          303         75.56   \n",
       "1              27.47              195.5  ...          332         59.24   \n",
       "2              41.38              121.2  ...          333         62.29   \n",
       "3              50.90               61.9  ...          255         66.80   \n",
       "4              28.34              148.3  ...          359         52.09   \n",
       "5              37.98              220.6  ...          323         67.61   \n",
       "6              37.09              348.5  ...          321         78.31   \n",
       "7              26.69              103.1  ...          275         46.90   \n",
       "8              31.37              351.6  ...          271         73.32   \n",
       "9              43.96              222.0  ...          297         80.54   \n",
       "10             21.95              228.5  ...          337         54.20   \n",
       "11             31.91              163.4  ...          374         57.08   \n",
       "12             21.90              104.9  ...          297         40.19   \n",
       "13             26.62              247.6  ...          283         59.64   \n",
       "14             20.52              307.2  ...          251         59.31   \n",
       "15             56.59              317.8  ...          301         92.29   \n",
       "16             33.39              280.9  ...          308         65.02   \n",
       "17             32.42              218.2  ...          349         58.99   \n",
       "18             32.25              212.8  ...          244         60.50   \n",
       "19             38.15              159.5  ...          254         63.90   \n",
       "\n",
       "    charge_per_min_day  charge_per_min_eve  charge_per_min_night  \\\n",
       "0             0.409727            0.169495              0.120989   \n",
       "1             0.223333            0.161359              0.111165   \n",
       "2             0.362982            0.093636              0.070385   \n",
       "3             0.716901            0.059773              0.099551   \n",
       "4             0.250796            0.103361              0.069504   \n",
       "5             0.387551            0.185644              0.077797   \n",
       "6             0.421477            0.274259              0.081102   \n",
       "7             0.337848            0.093191              0.099271   \n",
       "8             0.323402            0.373625              0.107889   \n",
       "9             0.523333            0.170000              0.151443   \n",
       "10            0.160219            0.233976              0.084685   \n",
       "11            0.251260            0.093851              0.093830   \n",
       "12            0.228125            0.125634              0.049609   \n",
       "13            0.302500            0.280667              0.075217   \n",
       "14            0.293143            0.343553              0.092323   \n",
       "15            0.844627            0.278454              0.056484   \n",
       "16            0.240216            0.265333              0.053600   \n",
       "17            0.284386            0.167117              0.048182   \n",
       "18            0.488636            0.278308              0.069074   \n",
       "19            0.423889            0.154091              0.117297   \n",
       "\n",
       "    charge_per_min_dom  charge_per_min_int  %_int_min  call_satisfaction  \\\n",
       "0             0.242867            0.900000   1.394311           0.330033   \n",
       "1             0.168815            1.233333   2.191299           0.301205   \n",
       "2             0.179878            0.658000   2.261772           0.000000   \n",
       "3             0.262177            0.254286   1.168555           0.784314   \n",
       "4             0.138652            0.910000   1.972656           0.835655   \n",
       "5             0.207918            0.283333   0.963008           0.000000   \n",
       "6             0.242930            0.290000   0.953228           0.934579   \n",
       "7             0.167212            0.320000   1.482255           0.000000   \n",
       "8             0.265805            0.587500   1.143834           0.369004   \n",
       "9             0.265479            0.604000   1.368858           0.000000   \n",
       "10            0.153384            0.571667   2.193058           1.186944   \n",
       "11            0.148022            0.492000   1.636102           0.000000   \n",
       "12            0.126000            1.510000   2.901554           0.336700   \n",
       "13            0.202590            0.664000   2.020368           1.060071   \n",
       "14            0.227633            0.590000   2.034161           1.593625   \n",
       "15            0.311062            0.162222   0.661198           1.328904   \n",
       "16            0.201612            0.932500   2.377671           0.324675   \n",
       "17            0.164162            0.730000   1.481888           0.859599   \n",
       "18            0.241841            0.540000   1.729505           0.409836   \n",
       "19            0.239643            1.755000   2.204511           0.393701   \n",
       "\n",
       "       region  \n",
       "0     Midwest  \n",
       "1     Midwest  \n",
       "2   Northeast  \n",
       "3     Midwest  \n",
       "4       South  \n",
       "5       South  \n",
       "6   Northeast  \n",
       "7     Midwest  \n",
       "8       South  \n",
       "9       South  \n",
       "10    Midwest  \n",
       "11  Northeast  \n",
       "12    Midwest  \n",
       "13       West  \n",
       "14    Midwest  \n",
       "15  Northeast  \n",
       "16       West  \n",
       "17  Northeast  \n",
       "18      South  \n",
       "19      South  \n",
       "\n",
       "[20 rows x 34 columns]"
      ]
     },
     "execution_count": 77,
     "metadata": {},
     "output_type": "execute_result"
    }
   ],
   "source": [
    "df.head(20)"
   ]
  },
  {
   "cell_type": "code",
   "execution_count": 78,
   "metadata": {
    "ExecuteTime": {
     "end_time": "2021-08-04T22:41:36.890638Z",
     "start_time": "2021-08-04T22:41:36.888895Z"
    },
    "hidden": true
   },
   "outputs": [],
   "source": [
    "df2= df.head(20)"
   ]
  },
  {
   "cell_type": "code",
   "execution_count": 79,
   "metadata": {
    "ExecuteTime": {
     "end_time": "2021-08-04T22:41:36.908356Z",
     "start_time": "2021-08-04T22:41:36.891735Z"
    },
    "hidden": true
   },
   "outputs": [
    {
     "data": {
      "text/html": [
       "<div>\n",
       "<style scoped>\n",
       "    .dataframe tbody tr th:only-of-type {\n",
       "        vertical-align: middle;\n",
       "    }\n",
       "\n",
       "    .dataframe tbody tr th {\n",
       "        vertical-align: top;\n",
       "    }\n",
       "\n",
       "    .dataframe thead th {\n",
       "        text-align: right;\n",
       "    }\n",
       "</style>\n",
       "<table border=\"1\" class=\"dataframe\">\n",
       "  <thead>\n",
       "    <tr style=\"text-align: right;\">\n",
       "      <th></th>\n",
       "      <th>state</th>\n",
       "      <th>account_length</th>\n",
       "      <th>area_code</th>\n",
       "      <th>international_plan</th>\n",
       "      <th>voice_mail_plan</th>\n",
       "      <th>number_vmail_messages</th>\n",
       "      <th>total_day_minutes</th>\n",
       "      <th>total_day_calls</th>\n",
       "      <th>total_day_charge</th>\n",
       "      <th>total_eve_minutes</th>\n",
       "      <th>...</th>\n",
       "      <th>total_calls</th>\n",
       "      <th>total_charge</th>\n",
       "      <th>charge_per_min_day</th>\n",
       "      <th>charge_per_min_eve</th>\n",
       "      <th>charge_per_min_night</th>\n",
       "      <th>charge_per_min_dom</th>\n",
       "      <th>charge_per_min_int</th>\n",
       "      <th>%_int_min</th>\n",
       "      <th>call_satisfaction</th>\n",
       "      <th>region</th>\n",
       "    </tr>\n",
       "  </thead>\n",
       "  <tbody>\n",
       "    <tr>\n",
       "      <th>0</th>\n",
       "      <td>KS</td>\n",
       "      <td>128</td>\n",
       "      <td>415</td>\n",
       "      <td>no</td>\n",
       "      <td>yes</td>\n",
       "      <td>25</td>\n",
       "      <td>265.1</td>\n",
       "      <td>110</td>\n",
       "      <td>45.07</td>\n",
       "      <td>197.4</td>\n",
       "      <td>...</td>\n",
       "      <td>303</td>\n",
       "      <td>75.56</td>\n",
       "      <td>0.409727</td>\n",
       "      <td>0.169495</td>\n",
       "      <td>0.120989</td>\n",
       "      <td>0.242867</td>\n",
       "      <td>0.900000</td>\n",
       "      <td>1.394311</td>\n",
       "      <td>0.330033</td>\n",
       "      <td>Midwest</td>\n",
       "    </tr>\n",
       "    <tr>\n",
       "      <th>1</th>\n",
       "      <td>OH</td>\n",
       "      <td>107</td>\n",
       "      <td>415</td>\n",
       "      <td>no</td>\n",
       "      <td>yes</td>\n",
       "      <td>26</td>\n",
       "      <td>161.6</td>\n",
       "      <td>123</td>\n",
       "      <td>27.47</td>\n",
       "      <td>195.5</td>\n",
       "      <td>...</td>\n",
       "      <td>332</td>\n",
       "      <td>59.24</td>\n",
       "      <td>0.223333</td>\n",
       "      <td>0.161359</td>\n",
       "      <td>0.111165</td>\n",
       "      <td>0.168815</td>\n",
       "      <td>1.233333</td>\n",
       "      <td>2.191299</td>\n",
       "      <td>0.301205</td>\n",
       "      <td>Midwest</td>\n",
       "    </tr>\n",
       "    <tr>\n",
       "      <th>2</th>\n",
       "      <td>NJ</td>\n",
       "      <td>137</td>\n",
       "      <td>415</td>\n",
       "      <td>no</td>\n",
       "      <td>no</td>\n",
       "      <td>0</td>\n",
       "      <td>243.4</td>\n",
       "      <td>114</td>\n",
       "      <td>41.38</td>\n",
       "      <td>121.2</td>\n",
       "      <td>...</td>\n",
       "      <td>333</td>\n",
       "      <td>62.29</td>\n",
       "      <td>0.362982</td>\n",
       "      <td>0.093636</td>\n",
       "      <td>0.070385</td>\n",
       "      <td>0.179878</td>\n",
       "      <td>0.658000</td>\n",
       "      <td>2.261772</td>\n",
       "      <td>0.000000</td>\n",
       "      <td>Northeast</td>\n",
       "    </tr>\n",
       "    <tr>\n",
       "      <th>3</th>\n",
       "      <td>OH</td>\n",
       "      <td>84</td>\n",
       "      <td>408</td>\n",
       "      <td>yes</td>\n",
       "      <td>no</td>\n",
       "      <td>0</td>\n",
       "      <td>299.4</td>\n",
       "      <td>71</td>\n",
       "      <td>50.90</td>\n",
       "      <td>61.9</td>\n",
       "      <td>...</td>\n",
       "      <td>255</td>\n",
       "      <td>66.80</td>\n",
       "      <td>0.716901</td>\n",
       "      <td>0.059773</td>\n",
       "      <td>0.099551</td>\n",
       "      <td>0.262177</td>\n",
       "      <td>0.254286</td>\n",
       "      <td>1.168555</td>\n",
       "      <td>0.784314</td>\n",
       "      <td>Midwest</td>\n",
       "    </tr>\n",
       "    <tr>\n",
       "      <th>4</th>\n",
       "      <td>OK</td>\n",
       "      <td>75</td>\n",
       "      <td>415</td>\n",
       "      <td>yes</td>\n",
       "      <td>no</td>\n",
       "      <td>0</td>\n",
       "      <td>166.7</td>\n",
       "      <td>113</td>\n",
       "      <td>28.34</td>\n",
       "      <td>148.3</td>\n",
       "      <td>...</td>\n",
       "      <td>359</td>\n",
       "      <td>52.09</td>\n",
       "      <td>0.250796</td>\n",
       "      <td>0.103361</td>\n",
       "      <td>0.069504</td>\n",
       "      <td>0.138652</td>\n",
       "      <td>0.910000</td>\n",
       "      <td>1.972656</td>\n",
       "      <td>0.835655</td>\n",
       "      <td>South</td>\n",
       "    </tr>\n",
       "    <tr>\n",
       "      <th>5</th>\n",
       "      <td>AL</td>\n",
       "      <td>118</td>\n",
       "      <td>510</td>\n",
       "      <td>yes</td>\n",
       "      <td>no</td>\n",
       "      <td>0</td>\n",
       "      <td>223.4</td>\n",
       "      <td>98</td>\n",
       "      <td>37.98</td>\n",
       "      <td>220.6</td>\n",
       "      <td>...</td>\n",
       "      <td>323</td>\n",
       "      <td>67.61</td>\n",
       "      <td>0.387551</td>\n",
       "      <td>0.185644</td>\n",
       "      <td>0.077797</td>\n",
       "      <td>0.207918</td>\n",
       "      <td>0.283333</td>\n",
       "      <td>0.963008</td>\n",
       "      <td>0.000000</td>\n",
       "      <td>South</td>\n",
       "    </tr>\n",
       "    <tr>\n",
       "      <th>6</th>\n",
       "      <td>MA</td>\n",
       "      <td>121</td>\n",
       "      <td>510</td>\n",
       "      <td>no</td>\n",
       "      <td>yes</td>\n",
       "      <td>24</td>\n",
       "      <td>218.2</td>\n",
       "      <td>88</td>\n",
       "      <td>37.09</td>\n",
       "      <td>348.5</td>\n",
       "      <td>...</td>\n",
       "      <td>321</td>\n",
       "      <td>78.31</td>\n",
       "      <td>0.421477</td>\n",
       "      <td>0.274259</td>\n",
       "      <td>0.081102</td>\n",
       "      <td>0.242930</td>\n",
       "      <td>0.290000</td>\n",
       "      <td>0.953228</td>\n",
       "      <td>0.934579</td>\n",
       "      <td>Northeast</td>\n",
       "    </tr>\n",
       "    <tr>\n",
       "      <th>7</th>\n",
       "      <td>MO</td>\n",
       "      <td>147</td>\n",
       "      <td>415</td>\n",
       "      <td>yes</td>\n",
       "      <td>no</td>\n",
       "      <td>0</td>\n",
       "      <td>157.0</td>\n",
       "      <td>79</td>\n",
       "      <td>26.69</td>\n",
       "      <td>103.1</td>\n",
       "      <td>...</td>\n",
       "      <td>275</td>\n",
       "      <td>46.90</td>\n",
       "      <td>0.337848</td>\n",
       "      <td>0.093191</td>\n",
       "      <td>0.099271</td>\n",
       "      <td>0.167212</td>\n",
       "      <td>0.320000</td>\n",
       "      <td>1.482255</td>\n",
       "      <td>0.000000</td>\n",
       "      <td>Midwest</td>\n",
       "    </tr>\n",
       "    <tr>\n",
       "      <th>8</th>\n",
       "      <td>LA</td>\n",
       "      <td>117</td>\n",
       "      <td>408</td>\n",
       "      <td>no</td>\n",
       "      <td>no</td>\n",
       "      <td>0</td>\n",
       "      <td>184.5</td>\n",
       "      <td>97</td>\n",
       "      <td>31.37</td>\n",
       "      <td>351.6</td>\n",
       "      <td>...</td>\n",
       "      <td>271</td>\n",
       "      <td>73.32</td>\n",
       "      <td>0.323402</td>\n",
       "      <td>0.373625</td>\n",
       "      <td>0.107889</td>\n",
       "      <td>0.265805</td>\n",
       "      <td>0.587500</td>\n",
       "      <td>1.143834</td>\n",
       "      <td>0.369004</td>\n",
       "      <td>South</td>\n",
       "    </tr>\n",
       "    <tr>\n",
       "      <th>9</th>\n",
       "      <td>WV</td>\n",
       "      <td>141</td>\n",
       "      <td>415</td>\n",
       "      <td>yes</td>\n",
       "      <td>yes</td>\n",
       "      <td>37</td>\n",
       "      <td>258.6</td>\n",
       "      <td>84</td>\n",
       "      <td>43.96</td>\n",
       "      <td>222.0</td>\n",
       "      <td>...</td>\n",
       "      <td>297</td>\n",
       "      <td>80.54</td>\n",
       "      <td>0.523333</td>\n",
       "      <td>0.170000</td>\n",
       "      <td>0.151443</td>\n",
       "      <td>0.265479</td>\n",
       "      <td>0.604000</td>\n",
       "      <td>1.368858</td>\n",
       "      <td>0.000000</td>\n",
       "      <td>South</td>\n",
       "    </tr>\n",
       "    <tr>\n",
       "      <th>10</th>\n",
       "      <td>IN</td>\n",
       "      <td>65</td>\n",
       "      <td>415</td>\n",
       "      <td>no</td>\n",
       "      <td>no</td>\n",
       "      <td>0</td>\n",
       "      <td>129.1</td>\n",
       "      <td>137</td>\n",
       "      <td>21.95</td>\n",
       "      <td>228.5</td>\n",
       "      <td>...</td>\n",
       "      <td>337</td>\n",
       "      <td>54.20</td>\n",
       "      <td>0.160219</td>\n",
       "      <td>0.233976</td>\n",
       "      <td>0.084685</td>\n",
       "      <td>0.153384</td>\n",
       "      <td>0.571667</td>\n",
       "      <td>2.193058</td>\n",
       "      <td>1.186944</td>\n",
       "      <td>Midwest</td>\n",
       "    </tr>\n",
       "    <tr>\n",
       "      <th>11</th>\n",
       "      <td>RI</td>\n",
       "      <td>74</td>\n",
       "      <td>415</td>\n",
       "      <td>no</td>\n",
       "      <td>no</td>\n",
       "      <td>0</td>\n",
       "      <td>187.7</td>\n",
       "      <td>127</td>\n",
       "      <td>31.91</td>\n",
       "      <td>163.4</td>\n",
       "      <td>...</td>\n",
       "      <td>374</td>\n",
       "      <td>57.08</td>\n",
       "      <td>0.251260</td>\n",
       "      <td>0.093851</td>\n",
       "      <td>0.093830</td>\n",
       "      <td>0.148022</td>\n",
       "      <td>0.492000</td>\n",
       "      <td>1.636102</td>\n",
       "      <td>0.000000</td>\n",
       "      <td>Northeast</td>\n",
       "    </tr>\n",
       "    <tr>\n",
       "      <th>12</th>\n",
       "      <td>IA</td>\n",
       "      <td>168</td>\n",
       "      <td>408</td>\n",
       "      <td>no</td>\n",
       "      <td>no</td>\n",
       "      <td>0</td>\n",
       "      <td>128.8</td>\n",
       "      <td>96</td>\n",
       "      <td>21.90</td>\n",
       "      <td>104.9</td>\n",
       "      <td>...</td>\n",
       "      <td>297</td>\n",
       "      <td>40.19</td>\n",
       "      <td>0.228125</td>\n",
       "      <td>0.125634</td>\n",
       "      <td>0.049609</td>\n",
       "      <td>0.126000</td>\n",
       "      <td>1.510000</td>\n",
       "      <td>2.901554</td>\n",
       "      <td>0.336700</td>\n",
       "      <td>Midwest</td>\n",
       "    </tr>\n",
       "    <tr>\n",
       "      <th>13</th>\n",
       "      <td>MT</td>\n",
       "      <td>95</td>\n",
       "      <td>510</td>\n",
       "      <td>no</td>\n",
       "      <td>no</td>\n",
       "      <td>0</td>\n",
       "      <td>156.6</td>\n",
       "      <td>88</td>\n",
       "      <td>26.62</td>\n",
       "      <td>247.6</td>\n",
       "      <td>...</td>\n",
       "      <td>283</td>\n",
       "      <td>59.64</td>\n",
       "      <td>0.302500</td>\n",
       "      <td>0.280667</td>\n",
       "      <td>0.075217</td>\n",
       "      <td>0.202590</td>\n",
       "      <td>0.664000</td>\n",
       "      <td>2.020368</td>\n",
       "      <td>1.060071</td>\n",
       "      <td>West</td>\n",
       "    </tr>\n",
       "    <tr>\n",
       "      <th>14</th>\n",
       "      <td>IA</td>\n",
       "      <td>62</td>\n",
       "      <td>415</td>\n",
       "      <td>no</td>\n",
       "      <td>no</td>\n",
       "      <td>0</td>\n",
       "      <td>120.7</td>\n",
       "      <td>70</td>\n",
       "      <td>20.52</td>\n",
       "      <td>307.2</td>\n",
       "      <td>...</td>\n",
       "      <td>251</td>\n",
       "      <td>59.31</td>\n",
       "      <td>0.293143</td>\n",
       "      <td>0.343553</td>\n",
       "      <td>0.092323</td>\n",
       "      <td>0.227633</td>\n",
       "      <td>0.590000</td>\n",
       "      <td>2.034161</td>\n",
       "      <td>1.593625</td>\n",
       "      <td>Midwest</td>\n",
       "    </tr>\n",
       "    <tr>\n",
       "      <th>15</th>\n",
       "      <td>NY</td>\n",
       "      <td>161</td>\n",
       "      <td>415</td>\n",
       "      <td>no</td>\n",
       "      <td>no</td>\n",
       "      <td>0</td>\n",
       "      <td>332.9</td>\n",
       "      <td>67</td>\n",
       "      <td>56.59</td>\n",
       "      <td>317.8</td>\n",
       "      <td>...</td>\n",
       "      <td>301</td>\n",
       "      <td>92.29</td>\n",
       "      <td>0.844627</td>\n",
       "      <td>0.278454</td>\n",
       "      <td>0.056484</td>\n",
       "      <td>0.311062</td>\n",
       "      <td>0.162222</td>\n",
       "      <td>0.661198</td>\n",
       "      <td>1.328904</td>\n",
       "      <td>Northeast</td>\n",
       "    </tr>\n",
       "    <tr>\n",
       "      <th>16</th>\n",
       "      <td>ID</td>\n",
       "      <td>85</td>\n",
       "      <td>408</td>\n",
       "      <td>no</td>\n",
       "      <td>yes</td>\n",
       "      <td>27</td>\n",
       "      <td>196.4</td>\n",
       "      <td>139</td>\n",
       "      <td>33.39</td>\n",
       "      <td>280.9</td>\n",
       "      <td>...</td>\n",
       "      <td>308</td>\n",
       "      <td>65.02</td>\n",
       "      <td>0.240216</td>\n",
       "      <td>0.265333</td>\n",
       "      <td>0.053600</td>\n",
       "      <td>0.201612</td>\n",
       "      <td>0.932500</td>\n",
       "      <td>2.377671</td>\n",
       "      <td>0.324675</td>\n",
       "      <td>West</td>\n",
       "    </tr>\n",
       "    <tr>\n",
       "      <th>17</th>\n",
       "      <td>VT</td>\n",
       "      <td>93</td>\n",
       "      <td>510</td>\n",
       "      <td>no</td>\n",
       "      <td>no</td>\n",
       "      <td>0</td>\n",
       "      <td>190.7</td>\n",
       "      <td>114</td>\n",
       "      <td>32.42</td>\n",
       "      <td>218.2</td>\n",
       "      <td>...</td>\n",
       "      <td>349</td>\n",
       "      <td>58.99</td>\n",
       "      <td>0.284386</td>\n",
       "      <td>0.167117</td>\n",
       "      <td>0.048182</td>\n",
       "      <td>0.164162</td>\n",
       "      <td>0.730000</td>\n",
       "      <td>1.481888</td>\n",
       "      <td>0.859599</td>\n",
       "      <td>Northeast</td>\n",
       "    </tr>\n",
       "    <tr>\n",
       "      <th>18</th>\n",
       "      <td>VA</td>\n",
       "      <td>76</td>\n",
       "      <td>510</td>\n",
       "      <td>no</td>\n",
       "      <td>yes</td>\n",
       "      <td>33</td>\n",
       "      <td>189.7</td>\n",
       "      <td>66</td>\n",
       "      <td>32.25</td>\n",
       "      <td>212.8</td>\n",
       "      <td>...</td>\n",
       "      <td>244</td>\n",
       "      <td>60.50</td>\n",
       "      <td>0.488636</td>\n",
       "      <td>0.278308</td>\n",
       "      <td>0.069074</td>\n",
       "      <td>0.241841</td>\n",
       "      <td>0.540000</td>\n",
       "      <td>1.729505</td>\n",
       "      <td>0.409836</td>\n",
       "      <td>South</td>\n",
       "    </tr>\n",
       "    <tr>\n",
       "      <th>19</th>\n",
       "      <td>TX</td>\n",
       "      <td>73</td>\n",
       "      <td>415</td>\n",
       "      <td>no</td>\n",
       "      <td>no</td>\n",
       "      <td>0</td>\n",
       "      <td>224.4</td>\n",
       "      <td>90</td>\n",
       "      <td>38.15</td>\n",
       "      <td>159.5</td>\n",
       "      <td>...</td>\n",
       "      <td>254</td>\n",
       "      <td>63.90</td>\n",
       "      <td>0.423889</td>\n",
       "      <td>0.154091</td>\n",
       "      <td>0.117297</td>\n",
       "      <td>0.239643</td>\n",
       "      <td>1.755000</td>\n",
       "      <td>2.204511</td>\n",
       "      <td>0.393701</td>\n",
       "      <td>South</td>\n",
       "    </tr>\n",
       "  </tbody>\n",
       "</table>\n",
       "<p>20 rows × 34 columns</p>\n",
       "</div>"
      ],
      "text/plain": [
       "   state  account_length  area_code international_plan voice_mail_plan  \\\n",
       "0     KS             128        415                 no             yes   \n",
       "1     OH             107        415                 no             yes   \n",
       "2     NJ             137        415                 no              no   \n",
       "3     OH              84        408                yes              no   \n",
       "4     OK              75        415                yes              no   \n",
       "5     AL             118        510                yes              no   \n",
       "6     MA             121        510                 no             yes   \n",
       "7     MO             147        415                yes              no   \n",
       "8     LA             117        408                 no              no   \n",
       "9     WV             141        415                yes             yes   \n",
       "10    IN              65        415                 no              no   \n",
       "11    RI              74        415                 no              no   \n",
       "12    IA             168        408                 no              no   \n",
       "13    MT              95        510                 no              no   \n",
       "14    IA              62        415                 no              no   \n",
       "15    NY             161        415                 no              no   \n",
       "16    ID              85        408                 no             yes   \n",
       "17    VT              93        510                 no              no   \n",
       "18    VA              76        510                 no             yes   \n",
       "19    TX              73        415                 no              no   \n",
       "\n",
       "    number_vmail_messages  total_day_minutes  total_day_calls  \\\n",
       "0                      25              265.1              110   \n",
       "1                      26              161.6              123   \n",
       "2                       0              243.4              114   \n",
       "3                       0              299.4               71   \n",
       "4                       0              166.7              113   \n",
       "5                       0              223.4               98   \n",
       "6                      24              218.2               88   \n",
       "7                       0              157.0               79   \n",
       "8                       0              184.5               97   \n",
       "9                      37              258.6               84   \n",
       "10                      0              129.1              137   \n",
       "11                      0              187.7              127   \n",
       "12                      0              128.8               96   \n",
       "13                      0              156.6               88   \n",
       "14                      0              120.7               70   \n",
       "15                      0              332.9               67   \n",
       "16                     27              196.4              139   \n",
       "17                      0              190.7              114   \n",
       "18                     33              189.7               66   \n",
       "19                      0              224.4               90   \n",
       "\n",
       "    total_day_charge  total_eve_minutes  ...  total_calls  total_charge  \\\n",
       "0              45.07              197.4  ...          303         75.56   \n",
       "1              27.47              195.5  ...          332         59.24   \n",
       "2              41.38              121.2  ...          333         62.29   \n",
       "3              50.90               61.9  ...          255         66.80   \n",
       "4              28.34              148.3  ...          359         52.09   \n",
       "5              37.98              220.6  ...          323         67.61   \n",
       "6              37.09              348.5  ...          321         78.31   \n",
       "7              26.69              103.1  ...          275         46.90   \n",
       "8              31.37              351.6  ...          271         73.32   \n",
       "9              43.96              222.0  ...          297         80.54   \n",
       "10             21.95              228.5  ...          337         54.20   \n",
       "11             31.91              163.4  ...          374         57.08   \n",
       "12             21.90              104.9  ...          297         40.19   \n",
       "13             26.62              247.6  ...          283         59.64   \n",
       "14             20.52              307.2  ...          251         59.31   \n",
       "15             56.59              317.8  ...          301         92.29   \n",
       "16             33.39              280.9  ...          308         65.02   \n",
       "17             32.42              218.2  ...          349         58.99   \n",
       "18             32.25              212.8  ...          244         60.50   \n",
       "19             38.15              159.5  ...          254         63.90   \n",
       "\n",
       "    charge_per_min_day  charge_per_min_eve  charge_per_min_night  \\\n",
       "0             0.409727            0.169495              0.120989   \n",
       "1             0.223333            0.161359              0.111165   \n",
       "2             0.362982            0.093636              0.070385   \n",
       "3             0.716901            0.059773              0.099551   \n",
       "4             0.250796            0.103361              0.069504   \n",
       "5             0.387551            0.185644              0.077797   \n",
       "6             0.421477            0.274259              0.081102   \n",
       "7             0.337848            0.093191              0.099271   \n",
       "8             0.323402            0.373625              0.107889   \n",
       "9             0.523333            0.170000              0.151443   \n",
       "10            0.160219            0.233976              0.084685   \n",
       "11            0.251260            0.093851              0.093830   \n",
       "12            0.228125            0.125634              0.049609   \n",
       "13            0.302500            0.280667              0.075217   \n",
       "14            0.293143            0.343553              0.092323   \n",
       "15            0.844627            0.278454              0.056484   \n",
       "16            0.240216            0.265333              0.053600   \n",
       "17            0.284386            0.167117              0.048182   \n",
       "18            0.488636            0.278308              0.069074   \n",
       "19            0.423889            0.154091              0.117297   \n",
       "\n",
       "    charge_per_min_dom  charge_per_min_int  %_int_min  call_satisfaction  \\\n",
       "0             0.242867            0.900000   1.394311           0.330033   \n",
       "1             0.168815            1.233333   2.191299           0.301205   \n",
       "2             0.179878            0.658000   2.261772           0.000000   \n",
       "3             0.262177            0.254286   1.168555           0.784314   \n",
       "4             0.138652            0.910000   1.972656           0.835655   \n",
       "5             0.207918            0.283333   0.963008           0.000000   \n",
       "6             0.242930            0.290000   0.953228           0.934579   \n",
       "7             0.167212            0.320000   1.482255           0.000000   \n",
       "8             0.265805            0.587500   1.143834           0.369004   \n",
       "9             0.265479            0.604000   1.368858           0.000000   \n",
       "10            0.153384            0.571667   2.193058           1.186944   \n",
       "11            0.148022            0.492000   1.636102           0.000000   \n",
       "12            0.126000            1.510000   2.901554           0.336700   \n",
       "13            0.202590            0.664000   2.020368           1.060071   \n",
       "14            0.227633            0.590000   2.034161           1.593625   \n",
       "15            0.311062            0.162222   0.661198           1.328904   \n",
       "16            0.201612            0.932500   2.377671           0.324675   \n",
       "17            0.164162            0.730000   1.481888           0.859599   \n",
       "18            0.241841            0.540000   1.729505           0.409836   \n",
       "19            0.239643            1.755000   2.204511           0.393701   \n",
       "\n",
       "       region  \n",
       "0     Midwest  \n",
       "1     Midwest  \n",
       "2   Northeast  \n",
       "3     Midwest  \n",
       "4       South  \n",
       "5       South  \n",
       "6   Northeast  \n",
       "7     Midwest  \n",
       "8       South  \n",
       "9       South  \n",
       "10    Midwest  \n",
       "11  Northeast  \n",
       "12    Midwest  \n",
       "13       West  \n",
       "14    Midwest  \n",
       "15  Northeast  \n",
       "16       West  \n",
       "17  Northeast  \n",
       "18      South  \n",
       "19      South  \n",
       "\n",
       "[20 rows x 34 columns]"
      ]
     },
     "execution_count": 79,
     "metadata": {},
     "output_type": "execute_result"
    }
   ],
   "source": [
    "df2"
   ]
  },
  {
   "cell_type": "code",
   "execution_count": 80,
   "metadata": {
    "ExecuteTime": {
     "end_time": "2021-08-04T22:42:29.296247Z",
     "start_time": "2021-08-04T22:41:36.909475Z"
    },
    "hidden": true
   },
   "outputs": [],
   "source": [
    "a=[]\n",
    "for index, i in df2.iterrows():\n",
    "    result = churn(i['account_length'], i['total_charge'], i['customer_service_calls'], i['international_plan'])\n",
    "    a.append(result)\n",
    "#     print(i)"
   ]
  },
  {
   "cell_type": "code",
   "execution_count": 81,
   "metadata": {
    "ExecuteTime": {
     "end_time": "2021-08-04T22:42:29.299782Z",
     "start_time": "2021-08-04T22:42:29.297239Z"
    },
    "hidden": true
   },
   "outputs": [
    {
     "data": {
      "text/plain": [
       "[1, 0, 0, 0, 0, 0, 1, 0, 0, 1, 1, 0, 0, 0, 0, 1, 0, 0, 0, 0]"
      ]
     },
     "execution_count": 81,
     "metadata": {},
     "output_type": "execute_result"
    }
   ],
   "source": [
    "a"
   ]
  },
  {
   "cell_type": "code",
   "execution_count": 82,
   "metadata": {
    "ExecuteTime": {
     "end_time": "2021-08-04T22:42:29.302464Z",
     "start_time": "2021-08-04T22:42:29.300630Z"
    },
    "hidden": true,
    "scrolled": false
   },
   "outputs": [],
   "source": [
    "b= df.loc[:19, \"churn\"]==a"
   ]
  },
  {
   "cell_type": "code",
   "execution_count": 83,
   "metadata": {
    "ExecuteTime": {
     "end_time": "2021-08-04T22:42:29.305638Z",
     "start_time": "2021-08-04T22:42:29.303338Z"
    },
    "hidden": true
   },
   "outputs": [
    {
     "data": {
      "text/plain": [
       "0     False\n",
       "1      True\n",
       "2      True\n",
       "3      True\n",
       "4      True\n",
       "5      True\n",
       "6     False\n",
       "7      True\n",
       "8      True\n",
       "9     False\n",
       "10     True\n",
       "11     True\n",
       "12     True\n",
       "13     True\n",
       "14     True\n",
       "15     True\n",
       "16     True\n",
       "17     True\n",
       "18     True\n",
       "19     True\n",
       "Name: churn, dtype: bool"
      ]
     },
     "execution_count": 83,
     "metadata": {},
     "output_type": "execute_result"
    }
   ],
   "source": [
    "b"
   ]
  },
  {
   "cell_type": "code",
   "execution_count": 84,
   "metadata": {
    "ExecuteTime": {
     "end_time": "2021-08-04T22:42:29.453246Z",
     "start_time": "2021-08-04T22:42:29.306452Z"
    },
    "hidden": true
   },
   "outputs": [
    {
     "ename": "AttributeError",
     "evalue": "'Series' object has no attribute 'avg'",
     "output_type": "error",
     "traceback": [
      "\u001b[0;31m---------------------------------------------------------------------------\u001b[0m",
      "\u001b[0;31mAttributeError\u001b[0m                            Traceback (most recent call last)",
      "\u001b[0;32m<ipython-input-84-0d02f8ea8a8c>\u001b[0m in \u001b[0;36m<module>\u001b[0;34m\u001b[0m\n\u001b[0;32m----> 1\u001b[0;31m \u001b[0mdf\u001b[0m\u001b[0;34m.\u001b[0m\u001b[0mloc\u001b[0m\u001b[0;34m[\u001b[0m\u001b[0;34m(\u001b[0m\u001b[0mdf\u001b[0m\u001b[0;34m[\u001b[0m\u001b[0;34m'churn'\u001b[0m\u001b[0;34m]\u001b[0m\u001b[0;34m==\u001b[0m\u001b[0;36m1\u001b[0m\u001b[0;34m)\u001b[0m\u001b[0;34m,\u001b[0m\u001b[0;34m\"total_charge\"\u001b[0m\u001b[0;34m]\u001b[0m\u001b[0;34m.\u001b[0m\u001b[0mavg\u001b[0m\u001b[0;34m(\u001b[0m\u001b[0;34m)\u001b[0m\u001b[0;34m\u001b[0m\u001b[0;34m\u001b[0m\u001b[0m\n\u001b[0m",
      "\u001b[0;32m~/opt/anaconda3/envs/learn-env/lib/python3.8/site-packages/pandas/core/generic.py\u001b[0m in \u001b[0;36m__getattr__\u001b[0;34m(self, name)\u001b[0m\n\u001b[1;32m   5137\u001b[0m             \u001b[0;32mif\u001b[0m \u001b[0mself\u001b[0m\u001b[0;34m.\u001b[0m\u001b[0m_info_axis\u001b[0m\u001b[0;34m.\u001b[0m\u001b[0m_can_hold_identifiers_and_holds_name\u001b[0m\u001b[0;34m(\u001b[0m\u001b[0mname\u001b[0m\u001b[0;34m)\u001b[0m\u001b[0;34m:\u001b[0m\u001b[0;34m\u001b[0m\u001b[0;34m\u001b[0m\u001b[0m\n\u001b[1;32m   5138\u001b[0m                 \u001b[0;32mreturn\u001b[0m \u001b[0mself\u001b[0m\u001b[0;34m[\u001b[0m\u001b[0mname\u001b[0m\u001b[0;34m]\u001b[0m\u001b[0;34m\u001b[0m\u001b[0;34m\u001b[0m\u001b[0m\n\u001b[0;32m-> 5139\u001b[0;31m             \u001b[0;32mreturn\u001b[0m \u001b[0mobject\u001b[0m\u001b[0;34m.\u001b[0m\u001b[0m__getattribute__\u001b[0m\u001b[0;34m(\u001b[0m\u001b[0mself\u001b[0m\u001b[0;34m,\u001b[0m \u001b[0mname\u001b[0m\u001b[0;34m)\u001b[0m\u001b[0;34m\u001b[0m\u001b[0;34m\u001b[0m\u001b[0m\n\u001b[0m\u001b[1;32m   5140\u001b[0m \u001b[0;34m\u001b[0m\u001b[0m\n\u001b[1;32m   5141\u001b[0m     \u001b[0;32mdef\u001b[0m \u001b[0m__setattr__\u001b[0m\u001b[0;34m(\u001b[0m\u001b[0mself\u001b[0m\u001b[0;34m,\u001b[0m \u001b[0mname\u001b[0m\u001b[0;34m:\u001b[0m \u001b[0mstr\u001b[0m\u001b[0;34m,\u001b[0m \u001b[0mvalue\u001b[0m\u001b[0;34m)\u001b[0m \u001b[0;34m->\u001b[0m \u001b[0;32mNone\u001b[0m\u001b[0;34m:\u001b[0m\u001b[0;34m\u001b[0m\u001b[0;34m\u001b[0m\u001b[0m\n",
      "\u001b[0;31mAttributeError\u001b[0m: 'Series' object has no attribute 'avg'"
     ]
    }
   ],
   "source": [
    "df.loc[(df['churn']==1),\"total_charge\"].avg()"
   ]
  },
  {
   "cell_type": "code",
   "execution_count": null,
   "metadata": {
    "ExecuteTime": {
     "end_time": "2021-08-04T22:42:29.454287Z",
     "start_time": "2021-08-04T22:26:23.323Z"
    },
    "hidden": true
   },
   "outputs": [],
   "source": [
    "df.loc[(df['churn']==1),\"total_charge\"]"
   ]
  },
  {
   "cell_type": "code",
   "execution_count": null,
   "metadata": {
    "hidden": true
   },
   "outputs": [],
   "source": []
  }
 ],
 "metadata": {
  "kernelspec": {
   "display_name": "Python (learn-env)",
   "language": "python",
   "name": "learn-env"
  },
  "language_info": {
   "codemirror_mode": {
    "name": "ipython",
    "version": 3
   },
   "file_extension": ".py",
   "mimetype": "text/x-python",
   "name": "python",
   "nbconvert_exporter": "python",
   "pygments_lexer": "ipython3",
   "version": "3.8.5"
  }
 },
 "nbformat": 4,
 "nbformat_minor": 4
}
