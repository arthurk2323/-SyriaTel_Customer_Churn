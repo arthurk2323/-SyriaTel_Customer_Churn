{
 "cells": [
  {
   "cell_type": "markdown",
   "metadata": {},
   "source": [
    "# SyriaTel Customer Churn Project - Modeling"
   ]
  },
  {
   "cell_type": "markdown",
   "metadata": {},
   "source": [
    "This notebook is the modeling step for this project. We take the cleaned data CSV that was processed through the [data cleaning notebook](01_syriatel_customer_churn_data_cleaning.ipynb) and run the data through several different model to find the best one to predict if a customer will churn."
   ]
  },
  {
   "cell_type": "markdown",
   "metadata": {
    "heading_collapsed": true
   },
   "source": [
    "### Authors"
   ]
  },
  {
   "cell_type": "markdown",
   "metadata": {
    "ExecuteTime": {
     "end_time": "2021-08-06T13:38:05.855404Z",
     "start_time": "2021-08-06T13:38:05.851605Z"
    },
    "hidden": true
   },
   "source": [
    "* Tony Bai\n",
    "* Arthur Kim\n",
    "* Eddie Lin\n",
    "* Douglas Lu"
   ]
  },
  {
   "cell_type": "markdown",
   "metadata": {
    "heading_collapsed": true
   },
   "source": [
    "## Imports"
   ]
  },
  {
   "cell_type": "code",
   "execution_count": 1,
   "metadata": {
    "ExecuteTime": {
     "end_time": "2021-08-06T17:35:59.834606Z",
     "start_time": "2021-08-06T17:35:58.370757Z"
    },
    "hidden": true
   },
   "outputs": [],
   "source": [
    "#import relevant libraries\n",
    "import pandas as pd\n",
    "import numpy as np\n",
    "import matplotlib.pyplot as plt\n",
    "#import seaborn as sns\n",
    "import xgboost as xg\n",
    "from sklearn.dummy import DummyClassifier\n",
    "from sklearn.ensemble import BaggingClassifier, RandomForestClassifier\n",
    "from sklearn.tree import DecisionTreeClassifier\n",
    "from sklearn.model_selection import train_test_split, cross_val_score, GridSearchCV\n",
    "from sklearn.preprocessing import StandardScaler, OneHotEncoder\n",
    "from sklearn.linear_model import LogisticRegression\n",
    "from sklearn.metrics import accuracy_score, precision_score, recall_score,log_loss, plot_confusion_matrix\n",
    "from sklearn.pipeline import Pipeline \n",
    "from sklearn.compose import ColumnTransformer\n",
    "from sklearn.neighbors import KNeighborsClassifier\n",
    "from sklearn.ensemble import AdaBoostClassifier, GradientBoostingClassifier, VotingClassifier\n",
    "from imblearn.over_sampling import SMOTENC\n",
    "from imblearn.pipeline import Pipeline as imbpipeline\n",
    "\n",
    "import warnings"
   ]
  },
  {
   "cell_type": "code",
   "execution_count": 2,
   "metadata": {
    "ExecuteTime": {
     "end_time": "2021-08-06T17:35:59.839032Z",
     "start_time": "2021-08-06T17:35:59.836486Z"
    },
    "hidden": true
   },
   "outputs": [],
   "source": [
    "warnings.filterwarnings(\"ignore\")"
   ]
  },
  {
   "cell_type": "markdown",
   "metadata": {
    "heading_collapsed": true
   },
   "source": [
    "## Data Manipulation"
   ]
  },
  {
   "cell_type": "markdown",
   "metadata": {
    "hidden": true
   },
   "source": [
    "Here we load the cleaned data CSV file."
   ]
  },
  {
   "cell_type": "code",
   "execution_count": 3,
   "metadata": {
    "ExecuteTime": {
     "end_time": "2021-08-06T17:35:59.866485Z",
     "start_time": "2021-08-06T17:35:59.844744Z"
    },
    "hidden": true
   },
   "outputs": [],
   "source": [
    "#load the data\n",
    "df = pd.read_csv('data/syrialtel_cleaned_data.csv')"
   ]
  },
  {
   "cell_type": "code",
   "execution_count": 4,
   "metadata": {
    "ExecuteTime": {
     "end_time": "2021-08-06T17:35:59.893684Z",
     "start_time": "2021-08-06T17:35:59.868627Z"
    },
    "hidden": true
   },
   "outputs": [
    {
     "data": {
      "text/html": [
       "<div>\n",
       "<style scoped>\n",
       "    .dataframe tbody tr th:only-of-type {\n",
       "        vertical-align: middle;\n",
       "    }\n",
       "\n",
       "    .dataframe tbody tr th {\n",
       "        vertical-align: top;\n",
       "    }\n",
       "\n",
       "    .dataframe thead th {\n",
       "        text-align: right;\n",
       "    }\n",
       "</style>\n",
       "<table border=\"1\" class=\"dataframe\">\n",
       "  <thead>\n",
       "    <tr style=\"text-align: right;\">\n",
       "      <th></th>\n",
       "      <th>state</th>\n",
       "      <th>account_length</th>\n",
       "      <th>area_code</th>\n",
       "      <th>international_plan</th>\n",
       "      <th>voice_mail_plan</th>\n",
       "      <th>number_vmail_messages</th>\n",
       "      <th>total_day_minutes</th>\n",
       "      <th>total_day_calls</th>\n",
       "      <th>total_day_charge</th>\n",
       "      <th>total_eve_minutes</th>\n",
       "      <th>...</th>\n",
       "      <th>total_calls</th>\n",
       "      <th>total_charge</th>\n",
       "      <th>charge_per_min_day</th>\n",
       "      <th>charge_per_min_eve</th>\n",
       "      <th>charge_per_min_night</th>\n",
       "      <th>charge_per_min_dom</th>\n",
       "      <th>charge_per_min_int</th>\n",
       "      <th>%_int_min</th>\n",
       "      <th>call_satisfaction</th>\n",
       "      <th>region</th>\n",
       "    </tr>\n",
       "  </thead>\n",
       "  <tbody>\n",
       "    <tr>\n",
       "      <th>0</th>\n",
       "      <td>KS</td>\n",
       "      <td>128</td>\n",
       "      <td>415</td>\n",
       "      <td>no</td>\n",
       "      <td>yes</td>\n",
       "      <td>25</td>\n",
       "      <td>265.1</td>\n",
       "      <td>110</td>\n",
       "      <td>45.07</td>\n",
       "      <td>197.4</td>\n",
       "      <td>...</td>\n",
       "      <td>303</td>\n",
       "      <td>75.56</td>\n",
       "      <td>0.409727</td>\n",
       "      <td>0.169495</td>\n",
       "      <td>0.120989</td>\n",
       "      <td>0.242867</td>\n",
       "      <td>0.900000</td>\n",
       "      <td>1.394311</td>\n",
       "      <td>0.330033</td>\n",
       "      <td>Midwest</td>\n",
       "    </tr>\n",
       "    <tr>\n",
       "      <th>1</th>\n",
       "      <td>OH</td>\n",
       "      <td>107</td>\n",
       "      <td>415</td>\n",
       "      <td>no</td>\n",
       "      <td>yes</td>\n",
       "      <td>26</td>\n",
       "      <td>161.6</td>\n",
       "      <td>123</td>\n",
       "      <td>27.47</td>\n",
       "      <td>195.5</td>\n",
       "      <td>...</td>\n",
       "      <td>332</td>\n",
       "      <td>59.24</td>\n",
       "      <td>0.223333</td>\n",
       "      <td>0.161359</td>\n",
       "      <td>0.111165</td>\n",
       "      <td>0.168815</td>\n",
       "      <td>1.233333</td>\n",
       "      <td>2.191299</td>\n",
       "      <td>0.301205</td>\n",
       "      <td>Midwest</td>\n",
       "    </tr>\n",
       "    <tr>\n",
       "      <th>2</th>\n",
       "      <td>NJ</td>\n",
       "      <td>137</td>\n",
       "      <td>415</td>\n",
       "      <td>no</td>\n",
       "      <td>no</td>\n",
       "      <td>0</td>\n",
       "      <td>243.4</td>\n",
       "      <td>114</td>\n",
       "      <td>41.38</td>\n",
       "      <td>121.2</td>\n",
       "      <td>...</td>\n",
       "      <td>333</td>\n",
       "      <td>62.29</td>\n",
       "      <td>0.362982</td>\n",
       "      <td>0.093636</td>\n",
       "      <td>0.070385</td>\n",
       "      <td>0.179878</td>\n",
       "      <td>0.658000</td>\n",
       "      <td>2.261772</td>\n",
       "      <td>0.000000</td>\n",
       "      <td>Northeast</td>\n",
       "    </tr>\n",
       "    <tr>\n",
       "      <th>3</th>\n",
       "      <td>OH</td>\n",
       "      <td>84</td>\n",
       "      <td>408</td>\n",
       "      <td>yes</td>\n",
       "      <td>no</td>\n",
       "      <td>0</td>\n",
       "      <td>299.4</td>\n",
       "      <td>71</td>\n",
       "      <td>50.90</td>\n",
       "      <td>61.9</td>\n",
       "      <td>...</td>\n",
       "      <td>255</td>\n",
       "      <td>66.80</td>\n",
       "      <td>0.716901</td>\n",
       "      <td>0.059773</td>\n",
       "      <td>0.099551</td>\n",
       "      <td>0.262177</td>\n",
       "      <td>0.254286</td>\n",
       "      <td>1.168555</td>\n",
       "      <td>0.784314</td>\n",
       "      <td>Midwest</td>\n",
       "    </tr>\n",
       "    <tr>\n",
       "      <th>4</th>\n",
       "      <td>OK</td>\n",
       "      <td>75</td>\n",
       "      <td>415</td>\n",
       "      <td>yes</td>\n",
       "      <td>no</td>\n",
       "      <td>0</td>\n",
       "      <td>166.7</td>\n",
       "      <td>113</td>\n",
       "      <td>28.34</td>\n",
       "      <td>148.3</td>\n",
       "      <td>...</td>\n",
       "      <td>359</td>\n",
       "      <td>52.09</td>\n",
       "      <td>0.250796</td>\n",
       "      <td>0.103361</td>\n",
       "      <td>0.069504</td>\n",
       "      <td>0.138652</td>\n",
       "      <td>0.910000</td>\n",
       "      <td>1.972656</td>\n",
       "      <td>0.835655</td>\n",
       "      <td>South</td>\n",
       "    </tr>\n",
       "  </tbody>\n",
       "</table>\n",
       "<p>5 rows × 34 columns</p>\n",
       "</div>"
      ],
      "text/plain": [
       "  state  account_length  area_code international_plan voice_mail_plan  \\\n",
       "0    KS             128        415                 no             yes   \n",
       "1    OH             107        415                 no             yes   \n",
       "2    NJ             137        415                 no              no   \n",
       "3    OH              84        408                yes              no   \n",
       "4    OK              75        415                yes              no   \n",
       "\n",
       "   number_vmail_messages  total_day_minutes  total_day_calls  \\\n",
       "0                     25              265.1              110   \n",
       "1                     26              161.6              123   \n",
       "2                      0              243.4              114   \n",
       "3                      0              299.4               71   \n",
       "4                      0              166.7              113   \n",
       "\n",
       "   total_day_charge  total_eve_minutes  ...  total_calls  total_charge  \\\n",
       "0             45.07              197.4  ...          303         75.56   \n",
       "1             27.47              195.5  ...          332         59.24   \n",
       "2             41.38              121.2  ...          333         62.29   \n",
       "3             50.90               61.9  ...          255         66.80   \n",
       "4             28.34              148.3  ...          359         52.09   \n",
       "\n",
       "   charge_per_min_day  charge_per_min_eve  charge_per_min_night  \\\n",
       "0            0.409727            0.169495              0.120989   \n",
       "1            0.223333            0.161359              0.111165   \n",
       "2            0.362982            0.093636              0.070385   \n",
       "3            0.716901            0.059773              0.099551   \n",
       "4            0.250796            0.103361              0.069504   \n",
       "\n",
       "   charge_per_min_dom  charge_per_min_int  %_int_min  call_satisfaction  \\\n",
       "0            0.242867            0.900000   1.394311           0.330033   \n",
       "1            0.168815            1.233333   2.191299           0.301205   \n",
       "2            0.179878            0.658000   2.261772           0.000000   \n",
       "3            0.262177            0.254286   1.168555           0.784314   \n",
       "4            0.138652            0.910000   1.972656           0.835655   \n",
       "\n",
       "      region  \n",
       "0    Midwest  \n",
       "1    Midwest  \n",
       "2  Northeast  \n",
       "3    Midwest  \n",
       "4      South  \n",
       "\n",
       "[5 rows x 34 columns]"
      ]
     },
     "execution_count": 4,
     "metadata": {},
     "output_type": "execute_result"
    }
   ],
   "source": [
    "#review the first few entires of the data\n",
    "df.head()"
   ]
  },
  {
   "cell_type": "markdown",
   "metadata": {
    "hidden": true
   },
   "source": [
    "The data is split to a train and test data for analysis."
   ]
  },
  {
   "cell_type": "code",
   "execution_count": 5,
   "metadata": {
    "ExecuteTime": {
     "end_time": "2021-08-06T17:35:59.903542Z",
     "start_time": "2021-08-06T17:35:59.895349Z"
    },
    "hidden": true
   },
   "outputs": [],
   "source": [
    "#seperating the target and data\n",
    "X = df.drop('churn', axis=1)\n",
    "y = df['churn']\n",
    "\n",
    "#creating a training and testing set\n",
    "X_train, X_test, y_train, y_test = train_test_split(X, y, test_size=0.3, random_state=42)"
   ]
  },
  {
   "cell_type": "markdown",
   "metadata": {
    "heading_collapsed": true
   },
   "source": [
    "## Splitting the Data Between Categorical and Continuous"
   ]
  },
  {
   "cell_type": "markdown",
   "metadata": {
    "hidden": true
   },
   "source": [
    "We split the data between categorical and continuous features to allow us for proper preprocessing through pipelines."
   ]
  },
  {
   "cell_type": "code",
   "execution_count": 6,
   "metadata": {
    "ExecuteTime": {
     "end_time": "2021-08-06T17:35:59.910222Z",
     "start_time": "2021-08-06T17:35:59.905415Z"
    },
    "hidden": true
   },
   "outputs": [],
   "source": [
    "categorical = ['state','area_code', 'international_plan', 'voice_mail_plan', 'region']\n",
    "df_cat = X_train[categorical]\n",
    "df_cont = X_train.drop(categorical,axis = 1)"
   ]
  },
  {
   "cell_type": "code",
   "execution_count": 7,
   "metadata": {
    "ExecuteTime": {
     "end_time": "2021-08-06T17:35:59.914025Z",
     "start_time": "2021-08-06T17:35:59.911992Z"
    },
    "hidden": true
   },
   "outputs": [],
   "source": [
    "#splitting the numericals and categoricals\n",
    "X_num = df_cont.columns\n",
    "X_cat = df_cat.columns"
   ]
  },
  {
   "cell_type": "markdown",
   "metadata": {
    "heading_collapsed": true
   },
   "source": [
    "## Pipeline"
   ]
  },
  {
   "cell_type": "markdown",
   "metadata": {
    "hidden": true
   },
   "source": [
    "We are creating a pipeline to process the categorical and continuous variable. This pipeline scales the data and creates a one hot encoder."
   ]
  },
  {
   "cell_type": "code",
   "execution_count": 8,
   "metadata": {
    "ExecuteTime": {
     "end_time": "2021-08-06T17:35:59.921453Z",
     "start_time": "2021-08-06T17:35:59.917787Z"
    },
    "hidden": true
   },
   "outputs": [],
   "source": [
    "#preprocessing the pipeline with standard scaler and one hot encoder\n",
    "numTrans = Pipeline(steps=[\n",
    "    ('scaler', StandardScaler())\n",
    "    ])\n",
    "catTrans = Pipeline(steps=[\n",
    "    ('ohe', OneHotEncoder(drop='first',\n",
    "                          sparse=False))\n",
    "    ])\n",
    "\n",
    "pp = ColumnTransformer(transformers=[\n",
    "    ('num', numTrans, X_num),\n",
    "    ('cat', catTrans, X_cat)\n",
    "    ])"
   ]
  },
  {
   "cell_type": "code",
   "execution_count": 9,
   "metadata": {
    "ExecuteTime": {
     "end_time": "2021-08-06T17:35:59.949706Z",
     "start_time": "2021-08-06T17:35:59.924225Z"
    },
    "hidden": true
   },
   "outputs": [],
   "source": [
    "# transform the pipeline and then converting it back into a dataframe\n",
    "X_train_scaled = pp.fit_transform(X_train)\n",
    "X_test_scaled = pp.transform(X_test)"
   ]
  },
  {
   "cell_type": "markdown",
   "metadata": {
    "hidden": true
   },
   "source": [
    "Using the pipeline, we need to match the columns with their respective column names. The order in which we process the data is important so we check to see whether categorical categories or the continuous comes first."
   ]
  },
  {
   "cell_type": "code",
   "execution_count": 10,
   "metadata": {
    "ExecuteTime": {
     "end_time": "2021-08-06T17:35:59.969177Z",
     "start_time": "2021-08-06T17:35:59.951425Z"
    },
    "hidden": true
   },
   "outputs": [
    {
     "data": {
      "text/html": [
       "<div>\n",
       "<style scoped>\n",
       "    .dataframe tbody tr th:only-of-type {\n",
       "        vertical-align: middle;\n",
       "    }\n",
       "\n",
       "    .dataframe tbody tr th {\n",
       "        vertical-align: top;\n",
       "    }\n",
       "\n",
       "    .dataframe thead th {\n",
       "        text-align: right;\n",
       "    }\n",
       "</style>\n",
       "<table border=\"1\" class=\"dataframe\">\n",
       "  <thead>\n",
       "    <tr style=\"text-align: right;\">\n",
       "      <th></th>\n",
       "      <th>0</th>\n",
       "      <th>1</th>\n",
       "      <th>2</th>\n",
       "      <th>3</th>\n",
       "      <th>4</th>\n",
       "      <th>5</th>\n",
       "      <th>6</th>\n",
       "      <th>7</th>\n",
       "      <th>8</th>\n",
       "      <th>9</th>\n",
       "      <th>...</th>\n",
       "      <th>75</th>\n",
       "      <th>76</th>\n",
       "      <th>77</th>\n",
       "      <th>78</th>\n",
       "      <th>79</th>\n",
       "      <th>80</th>\n",
       "      <th>81</th>\n",
       "      <th>82</th>\n",
       "      <th>83</th>\n",
       "      <th>84</th>\n",
       "    </tr>\n",
       "  </thead>\n",
       "  <tbody>\n",
       "    <tr>\n",
       "      <th>0</th>\n",
       "      <td>-0.511937</td>\n",
       "      <td>-0.585483</td>\n",
       "      <td>0.410716</td>\n",
       "      <td>0.873749</td>\n",
       "      <td>0.410877</td>\n",
       "      <td>1.167102</td>\n",
       "      <td>-1.646317</td>\n",
       "      <td>1.167733</td>\n",
       "      <td>-0.456961</td>\n",
       "      <td>0.615443</td>\n",
       "      <td>...</td>\n",
       "      <td>0.0</td>\n",
       "      <td>0.0</td>\n",
       "      <td>0.0</td>\n",
       "      <td>0.0</td>\n",
       "      <td>1.0</td>\n",
       "      <td>0.0</td>\n",
       "      <td>0.0</td>\n",
       "      <td>1.0</td>\n",
       "      <td>0.0</td>\n",
       "      <td>0.0</td>\n",
       "    </tr>\n",
       "    <tr>\n",
       "      <th>1</th>\n",
       "      <td>-0.939002</td>\n",
       "      <td>-0.585483</td>\n",
       "      <td>-0.864713</td>\n",
       "      <td>1.074874</td>\n",
       "      <td>-0.865095</td>\n",
       "      <td>-2.639021</td>\n",
       "      <td>-1.895351</td>\n",
       "      <td>-2.637901</td>\n",
       "      <td>-0.790790</td>\n",
       "      <td>1.075039</td>\n",
       "      <td>...</td>\n",
       "      <td>0.0</td>\n",
       "      <td>1.0</td>\n",
       "      <td>0.0</td>\n",
       "      <td>0.0</td>\n",
       "      <td>1.0</td>\n",
       "      <td>0.0</td>\n",
       "      <td>0.0</td>\n",
       "      <td>0.0</td>\n",
       "      <td>1.0</td>\n",
       "      <td>0.0</td>\n",
       "    </tr>\n",
       "  </tbody>\n",
       "</table>\n",
       "<p>2 rows × 85 columns</p>\n",
       "</div>"
      ],
      "text/plain": [
       "         0         1         2         3         4         5         6   \\\n",
       "0 -0.511937 -0.585483  0.410716  0.873749  0.410877  1.167102 -1.646317   \n",
       "1 -0.939002 -0.585483 -0.864713  1.074874 -0.865095 -2.639021 -1.895351   \n",
       "\n",
       "         7         8         9   ...   75   76   77   78   79   80   81   82  \\\n",
       "0  1.167733 -0.456961  0.615443  ...  0.0  0.0  0.0  0.0  1.0  0.0  0.0  1.0   \n",
       "1 -2.637901 -0.790790  1.075039  ...  0.0  1.0  0.0  0.0  1.0  0.0  0.0  0.0   \n",
       "\n",
       "    83   84  \n",
       "0  0.0  0.0  \n",
       "1  1.0  0.0  \n",
       "\n",
       "[2 rows x 85 columns]"
      ]
     },
     "execution_count": 10,
     "metadata": {},
     "output_type": "execute_result"
    }
   ],
   "source": [
    "pd.DataFrame(X_train_scaled).head(2)"
   ]
  },
  {
   "cell_type": "markdown",
   "metadata": {
    "hidden": true
   },
   "source": [
    "We see that the continuous features come first and match the column names"
   ]
  },
  {
   "cell_type": "code",
   "execution_count": 11,
   "metadata": {
    "ExecuteTime": {
     "end_time": "2021-08-06T17:35:59.975213Z",
     "start_time": "2021-08-06T17:35:59.971475Z"
    },
    "hidden": true
   },
   "outputs": [],
   "source": [
    "# aggregating col names from the one hot encode \n",
    "cat_names = pp.transformers_[1][1].named_steps['ohe'].get_feature_names(X_cat).tolist()\n",
    "feature_names= list(X_num) + cat_names\n",
    "\n",
    "# renaming the data frame with corresponding col names\n",
    "X_train_scaled = pd.DataFrame(X_train_scaled, columns = feature_names)\n",
    "X_test_scaled = pd.DataFrame(X_test_scaled, columns=feature_names)"
   ]
  },
  {
   "cell_type": "code",
   "execution_count": 12,
   "metadata": {
    "ExecuteTime": {
     "end_time": "2021-08-06T17:35:59.981577Z",
     "start_time": "2021-08-06T17:35:59.976922Z"
    },
    "hidden": true
   },
   "outputs": [
    {
     "data": {
      "text/plain": [
       "['account_length',\n",
       " 'number_vmail_messages',\n",
       " 'total_day_minutes',\n",
       " 'total_day_calls',\n",
       " 'total_day_charge',\n",
       " 'total_eve_minutes',\n",
       " 'total_eve_calls',\n",
       " 'total_eve_charge',\n",
       " 'total_night_minutes',\n",
       " 'total_night_calls',\n",
       " 'total_night_charge',\n",
       " 'total_intl_minutes',\n",
       " 'total_intl_calls',\n",
       " 'total_intl_charge',\n",
       " 'customer_service_calls',\n",
       " 'total_minutes_dom',\n",
       " 'total_calls_dom',\n",
       " 'total_charge_dom',\n",
       " 'total_minutes',\n",
       " 'total_calls',\n",
       " 'total_charge',\n",
       " 'charge_per_min_day',\n",
       " 'charge_per_min_eve',\n",
       " 'charge_per_min_night',\n",
       " 'charge_per_min_dom',\n",
       " 'charge_per_min_int',\n",
       " '%_int_min',\n",
       " 'call_satisfaction',\n",
       " 'state_AL',\n",
       " 'state_AR',\n",
       " 'state_AZ',\n",
       " 'state_CA',\n",
       " 'state_CO',\n",
       " 'state_CT',\n",
       " 'state_DC',\n",
       " 'state_DE',\n",
       " 'state_FL',\n",
       " 'state_GA',\n",
       " 'state_HI',\n",
       " 'state_IA',\n",
       " 'state_ID',\n",
       " 'state_IL',\n",
       " 'state_IN',\n",
       " 'state_KS',\n",
       " 'state_KY',\n",
       " 'state_LA',\n",
       " 'state_MA',\n",
       " 'state_MD',\n",
       " 'state_ME',\n",
       " 'state_MI',\n",
       " 'state_MN',\n",
       " 'state_MO',\n",
       " 'state_MS',\n",
       " 'state_MT',\n",
       " 'state_NC',\n",
       " 'state_ND',\n",
       " 'state_NE',\n",
       " 'state_NH',\n",
       " 'state_NJ',\n",
       " 'state_NM',\n",
       " 'state_NV',\n",
       " 'state_NY',\n",
       " 'state_OH',\n",
       " 'state_OK',\n",
       " 'state_OR',\n",
       " 'state_PA',\n",
       " 'state_RI',\n",
       " 'state_SC',\n",
       " 'state_SD',\n",
       " 'state_TN',\n",
       " 'state_TX',\n",
       " 'state_UT',\n",
       " 'state_VA',\n",
       " 'state_VT',\n",
       " 'state_WA',\n",
       " 'state_WI',\n",
       " 'state_WV',\n",
       " 'state_WY',\n",
       " 'area_code_415',\n",
       " 'area_code_510',\n",
       " 'international_plan_yes',\n",
       " 'voice_mail_plan_yes',\n",
       " 'region_Northeast',\n",
       " 'region_South',\n",
       " 'region_West']"
      ]
     },
     "execution_count": 12,
     "metadata": {},
     "output_type": "execute_result"
    }
   ],
   "source": [
    "feature_names"
   ]
  },
  {
   "cell_type": "markdown",
   "metadata": {
    "heading_collapsed": true
   },
   "source": [
    "## Functions"
   ]
  },
  {
   "cell_type": "markdown",
   "metadata": {
    "hidden": true
   },
   "source": [
    "The scores function was created to show the log loss, accuracy, precision, and recall for all the models as well as a confusion matrix to compare the train and test data."
   ]
  },
  {
   "cell_type": "code",
   "execution_count": 13,
   "metadata": {
    "ExecuteTime": {
     "end_time": "2021-08-06T17:35:59.988228Z",
     "start_time": "2021-08-06T17:35:59.983649Z"
    },
    "hidden": true
   },
   "outputs": [],
   "source": [
    "def scores(model, actual = y_test ,X_train_scaled = X_train_scaled, X_test_scaled = X_test_scaled,y_train = y_train):\n",
    "    pred_train = model.predict(X_train_scaled)\n",
    "    pred_test = model.predict(X_test_scaled)\n",
    "    \n",
    "    print(\"Train Scores\")\n",
    "    print(\"log loss: \", log_loss(y_train, pred_train))\n",
    "    print(\"accuracy: \", accuracy_score(y_train, pred_train))\n",
    "    print(\"precision:\", precision_score(y_train, pred_train))\n",
    "    print(\"recall:   \", recall_score(y_train, pred_train))\n",
    "    plot_confusion_matrix(model, X_train_scaled, y_train)\n",
    "    \n",
    "    print(\"Test Scores\")\n",
    "    print(\"log loss: \", log_loss(actual, pred_test))\n",
    "    print(\"accuracy: \", accuracy_score(actual, pred_test))\n",
    "    print(\"precision:\", precision_score(actual, pred_test))\n",
    "    print(\"recall:   \", recall_score(actual, pred_test))\n",
    "    \n",
    "    \n",
    "    plot_confusion_matrix(model, X_test_scaled, actual)"
   ]
  },
  {
   "cell_type": "markdown",
   "metadata": {
    "hidden": true
   },
   "source": [
    "The plot_feature_importances was created to pull the important features from the model to see what factors drive the model."
   ]
  },
  {
   "cell_type": "code",
   "execution_count": 14,
   "metadata": {
    "ExecuteTime": {
     "end_time": "2021-08-06T17:35:59.993710Z",
     "start_time": "2021-08-06T17:35:59.990452Z"
    },
    "hidden": true
   },
   "outputs": [],
   "source": [
    "def plot_feature_importances(model):\n",
    "    n_features = X_train_scaled.shape[1]\n",
    "    plt.figure(figsize=(8,20))\n",
    "    plt.barh(range(n_features), model.feature_importances_, align='center') \n",
    "    plt.yticks(np.arange(n_features), X_train_scaled.columns.values) \n",
    "    plt.xlabel('Feature importance')\n",
    "    plt.ylabel('Feature')"
   ]
  },
  {
   "cell_type": "markdown",
   "metadata": {
    "heading_collapsed": true
   },
   "source": [
    "## Model 1: Dummy model"
   ]
  },
  {
   "cell_type": "markdown",
   "metadata": {
    "hidden": true
   },
   "source": [
    "The dummy model is created to assume the most frequent category. We can see that since the data is skewed, the accuracy is at 85% just by predicting no churn across the data."
   ]
  },
  {
   "cell_type": "code",
   "execution_count": 15,
   "metadata": {
    "ExecuteTime": {
     "end_time": "2021-08-06T17:36:00.351320Z",
     "start_time": "2021-08-06T17:35:59.995697Z"
    },
    "hidden": true
   },
   "outputs": [
    {
     "name": "stdout",
     "output_type": "stream",
     "text": [
      "Train Scores\n",
      "log loss:  5.033512205001985\n",
      "accuracy:  0.8542648949849978\n",
      "precision: 0.0\n",
      "recall:    0.0\n",
      "Test Scores\n",
      "log loss:  4.939045024472227\n",
      "accuracy:  0.857\n",
      "precision: 0.0\n",
      "recall:    0.0\n"
     ]
    },
    {
     "data": {
      "image/png": "[encoded data removed]",
      "text/plain": [
       "<Figure size 432x288 with 2 Axes>"
      ]
     },
     "metadata": {
      "needs_background": "light"
     },
     "output_type": "display_data"
    },
    {
     "data": {
      "image/png": "[encoded data removed]",
      "text/plain": [
       "<Figure size 432x288 with 2 Axes>"
      ]
     },
     "metadata": {
      "needs_background": "light"
     },
     "output_type": "display_data"
    }
   ],
   "source": [
    "##We create a dummy model of our data\n",
    "dummy_clf = DummyClassifier(strategy=\"most_frequent\")\n",
    "dummy_clf.fit(X_train_scaled, y_train)\n",
    "\n",
    "#y_preds_dum= dummy_clf.predict(X_test)\n",
    "\n",
    "scores(dummy_clf);\n",
    "\n",
    "#from this data we can see that the data is skewed\n",
    "#and has a 85% accuracy of predicting correctly when \n",
    "#assuming one category"
   ]
  },
  {
   "cell_type": "markdown",
   "metadata": {
    "heading_collapsed": true
   },
   "source": [
    "## Model 2:  Log Regression"
   ]
  },
  {
   "cell_type": "markdown",
   "metadata": {
    "hidden": true
   },
   "source": [
    "We start off by using a simple log Regression to see how it performs."
   ]
  },
  {
   "cell_type": "code",
   "execution_count": 16,
   "metadata": {
    "ExecuteTime": {
     "end_time": "2021-08-06T17:36:00.579854Z",
     "start_time": "2021-08-06T17:36:00.352891Z"
    },
    "hidden": true
   },
   "outputs": [
    {
     "name": "stdout",
     "output_type": "stream",
     "text": [
      "0.8636884138552169\n"
     ]
    }
   ],
   "source": [
    "## Here we use a basic Log Regresion used a baseline log regression model to test out the data\n",
    "logreg = LogisticRegression(random_state=42)\n",
    "logreg.fit(X_train_scaled, y_train)\n",
    "\n",
    "logreg_cv = cross_val_score(logreg, X_train_scaled, y_train).mean()\n",
    "print(logreg_cv)"
   ]
  },
  {
   "cell_type": "code",
   "execution_count": 17,
   "metadata": {
    "ExecuteTime": {
     "end_time": "2021-08-06T17:36:00.871106Z",
     "start_time": "2021-08-06T17:36:00.581484Z"
    },
    "hidden": true,
    "scrolled": true
   },
   "outputs": [
    {
     "name": "stdout",
     "output_type": "stream",
     "text": [
      "Train Scores\n",
      "log loss:  4.248891901939016\n",
      "accuracy:  0.8769824260608658\n",
      "precision: 0.6853146853146853\n",
      "recall:    0.28823529411764703\n",
      "Test Scores\n",
      "log loss:  4.593675651264016\n",
      "accuracy:  0.867\n",
      "precision: 0.5892857142857143\n",
      "recall:    0.23076923076923078\n"
     ]
    },
    {
     "data": {
      "image/png": "[encoded data removed]",
      "text/plain": [
       "<Figure size 432x288 with 2 Axes>"
      ]
     },
     "metadata": {
      "needs_background": "light"
     },
     "output_type": "display_data"
    },
    {
     "data": {
      "image/png": "[encoded data removed]",
      "text/plain": [
       "<Figure size 432x288 with 2 Axes>"
      ]
     },
     "metadata": {
      "needs_background": "light"
     },
     "output_type": "display_data"
    }
   ],
   "source": [
    "scores(logreg,y_test)"
   ]
  },
  {
   "cell_type": "markdown",
   "metadata": {
    "hidden": true
   },
   "source": [
    "While the accuracy score is better than the dummy model, this is only slightly better and the recall score is very low."
   ]
  },
  {
   "cell_type": "markdown",
   "metadata": {
    "hidden": true
   },
   "source": [
    "### Recall is KEY"
   ]
  },
  {
   "cell_type": "markdown",
   "metadata": {
    "hidden": true
   },
   "source": [
    "We have decided to look at recall for our main metric. As a telecom company trying to reduce churn, we care about the recall of our model. Recall is defined as the TP/(TP+FN). We are trying to minimize False Negatives (FN) here, meaning that we want to reduce the number of people that our model predicts will not churn but are actually likely to do so. This is because we want to send out promotions to retain customers and we do not want to miss any potential customers who are likely to churn."
   ]
  },
  {
   "cell_type": "markdown",
   "metadata": {
    "ExecuteTime": {
     "end_time": "2021-08-03T21:22:48.539690Z",
     "start_time": "2021-08-03T21:22:48.536855Z"
    },
    "heading_collapsed": true
   },
   "source": [
    "## Model 3: K-Nearest Neighbors without SMOTE"
   ]
  },
  {
   "cell_type": "markdown",
   "metadata": {
    "hidden": true
   },
   "source": [
    "The Gridsearch for the KNN model is commented out due to the long run time for the search. The best parameters from the search has been selected and assigned below."
   ]
  },
  {
   "cell_type": "code",
   "execution_count": 18,
   "metadata": {
    "ExecuteTime": {
     "end_time": "2021-08-06T17:36:00.874561Z",
     "start_time": "2021-08-06T17:36:00.872669Z"
    },
    "hidden": true
   },
   "outputs": [],
   "source": [
    "### initate the model with no parameters\n",
    "\n",
    "# knn_model = KNeighborsClassifier()\n",
    "\n",
    "\n",
    "# # initiate grid and grid search\n",
    "# param_grid = {\n",
    "#     'n_neighbors': list(range(1, 20, 2)),\n",
    "#     'weights': ['uniform', 'distance'],\n",
    "#     'p': [1, 2, 3, 4],\n",
    "# }\n",
    "\n",
    "\n",
    "# gs_knn = GridSearchCV(knn_model, param_grid=param_grid, cv=5)\n",
    "# gs_knn.fit(X_train_scaled, y_train)\n",
    "\n",
    "# gs_knn.best_params_"
   ]
  },
  {
   "cell_type": "code",
   "execution_count": 19,
   "metadata": {
    "ExecuteTime": {
     "end_time": "2021-08-06T17:36:00.889765Z",
     "start_time": "2021-08-06T17:36:00.876262Z"
    },
    "hidden": true
   },
   "outputs": [
    {
     "data": {
      "text/plain": [
       "KNeighborsClassifier(n_neighbors=7, p=1)"
      ]
     },
     "execution_count": 19,
     "metadata": {},
     "output_type": "execute_result"
    }
   ],
   "source": [
    "best_knn = KNeighborsClassifier(n_neighbors = 7,\n",
    "                                p = 1,\n",
    "                                weights = 'uniform') \n",
    "best_knn.fit(X_train_scaled, y_train)"
   ]
  },
  {
   "cell_type": "code",
   "execution_count": 20,
   "metadata": {
    "ExecuteTime": {
     "end_time": "2021-08-06T17:36:03.476017Z",
     "start_time": "2021-08-06T17:36:00.891688Z"
    },
    "hidden": true
   },
   "outputs": [
    {
     "name": "stdout",
     "output_type": "stream",
     "text": [
      "Train Scores\n",
      "log loss:  3.1977634368110373\n",
      "accuracy:  0.9074153450492928\n",
      "precision: 0.9428571428571428\n",
      "recall:    0.38823529411764707\n",
      "Test Scores\n",
      "log loss:  3.4193404622910184\n",
      "accuracy:  0.901\n",
      "precision: 0.9583333333333334\n",
      "recall:    0.32167832167832167\n"
     ]
    },
    {
     "data": {
      "image/png": "[encoded data removed]",
      "text/plain": [
       "<Figure size 432x288 with 2 Axes>"
      ]
     },
     "metadata": {
      "needs_background": "light"
     },
     "output_type": "display_data"
    },
    {
     "data": {
      "image/png": "[encoded data removed]",
      "text/plain": [
       "<Figure size 432x288 with 2 Axes>"
      ]
     },
     "metadata": {
      "needs_background": "light"
     },
     "output_type": "display_data"
    }
   ],
   "source": [
    "scores(best_knn,y_test)"
   ]
  },
  {
   "cell_type": "markdown",
   "metadata": {
    "hidden": true
   },
   "source": [
    "This model is even better than the logistic regression in both accuracy and the recall score, however it is still too low. This may have been caused because of a class imbalance so we will run the model again but implementing SMOTENCto reduce that."
   ]
  },
  {
   "cell_type": "markdown",
   "metadata": {
    "heading_collapsed": true
   },
   "source": [
    "## Model 4: K-Nearest Neighbors with SMOTE"
   ]
  },
  {
   "cell_type": "code",
   "execution_count": 21,
   "metadata": {
    "ExecuteTime": {
     "end_time": "2021-08-06T17:36:03.490342Z",
     "start_time": "2021-08-06T17:36:03.478408Z"
    },
    "hidden": true
   },
   "outputs": [
    {
     "data": {
      "text/plain": [
       "0.17"
      ]
     },
     "execution_count": 21,
     "metadata": {},
     "output_type": "execute_result"
    }
   ],
   "source": [
    "# calculate the current ratio of imbalance for SMOTE \n",
    "round(len(y_train[y_train==1])/len(y_train[y_train==0]),2)"
   ]
  },
  {
   "cell_type": "markdown",
   "metadata": {
    "hidden": true
   },
   "source": [
    "We take a look at the feature names in the 'Pipeline section' above and selected the columns that were categorical. This turns out to be all the column from 28 onward."
   ]
  },
  {
   "cell_type": "code",
   "execution_count": 22,
   "metadata": {
    "ExecuteTime": {
     "end_time": "2021-08-06T17:36:03.496299Z",
     "start_time": "2021-08-06T17:36:03.492995Z"
    },
    "hidden": true
   },
   "outputs": [],
   "source": [
    "# SMOTE the categorical columns by their index\n",
    "cat_range = range(28,57)\n",
    "smote = SMOTENC(np.array(cat_range),random_state=42, sampling_strategy=0.5)\n",
    "# X_train_resampled, y_train_resampled = smote.fit_sample(X_traain_scaled, y_train)"
   ]
  },
  {
   "cell_type": "markdown",
   "metadata": {
    "hidden": true
   },
   "source": [
    "A new pipeline was created to incorporate SMOTENC"
   ]
  },
  {
   "cell_type": "code",
   "execution_count": 23,
   "metadata": {
    "ExecuteTime": {
     "end_time": "2021-08-06T17:36:03.509286Z",
     "start_time": "2021-08-06T17:36:03.505704Z"
    },
    "hidden": true
   },
   "outputs": [],
   "source": [
    "# Rerun the KNN Model with SMOTED DATA\n",
    "\n",
    "knn_model_smote = imbpipeline(steps=[\n",
    "        (\"Preprocess\", pp),\n",
    "        ('sampling', smote),\n",
    "        ('knn', KNeighborsClassifier())\n",
    "    ])\n"
   ]
  },
  {
   "cell_type": "code",
   "execution_count": 24,
   "metadata": {
    "ExecuteTime": {
     "end_time": "2021-08-06T17:36:04.571537Z",
     "start_time": "2021-08-06T17:36:03.515582Z"
    },
    "hidden": true
   },
   "outputs": [
    {
     "data": {
      "text/plain": [
       "Pipeline(steps=[('Preprocess',\n",
       "                 ColumnTransformer(transformers=[('num',\n",
       "                                                  Pipeline(steps=[('scaler',\n",
       "                                                                   StandardScaler())]),\n",
       "                                                  Index(['account_length', 'number_vmail_messages', 'total_day_minutes',\n",
       "       'total_day_calls', 'total_day_charge', 'total_eve_minutes',\n",
       "       'total_eve_calls', 'total_eve_charge', 'total_night_minutes',\n",
       "       'total_night_calls', 'total_night_charge', 'total_int...\n",
       "                                                  Pipeline(steps=[('ohe',\n",
       "                                                                   OneHotEncoder(drop='first',\n",
       "                                                                                 sparse=False))]),\n",
       "                                                  Index(['state', 'area_code', 'international_plan', 'voice_mail_plan',\n",
       "       'region'],\n",
       "      dtype='object'))])),\n",
       "                ('sampling',\n",
       "                 SMOTENC(categorical_features=array([28, 29, 30, 31, 32, 33, 34, 35, 36, 37, 38, 39, 40, 41, 42, 43, 44,\n",
       "       45, 46, 47, 48, 49, 50, 51, 52, 53, 54, 55, 56]),\n",
       "                         random_state=42, sampling_strategy=0.5)),\n",
       "                ('knn', KNeighborsClassifier())])"
      ]
     },
     "execution_count": 24,
     "metadata": {},
     "output_type": "execute_result"
    }
   ],
   "source": [
    "knn_model_smote.fit(X_train,y_train)"
   ]
  },
  {
   "cell_type": "code",
   "execution_count": 25,
   "metadata": {
    "ExecuteTime": {
     "end_time": "2021-08-06T17:36:04.575681Z",
     "start_time": "2021-08-06T17:36:04.573485Z"
    },
    "hidden": true
   },
   "outputs": [],
   "source": [
    "# #perform a grid search again to see if criteria changed\n",
    "# param_grid = {\n",
    "#     'knn__n_neighbors': list(range(2, 100, 2)),\n",
    "#     'knn__weights': ['uniform', 'distance'],\n",
    "#     'knn__p': [1, 2, 3, 4],\n",
    "# }\n",
    "\n",
    "# gs_knn = GridSearchCV(knn_model_smote, param_grid, cv=2, scoring='recall')"
   ]
  },
  {
   "cell_type": "code",
   "execution_count": 26,
   "metadata": {
    "ExecuteTime": {
     "end_time": "2021-08-06T17:36:04.582928Z",
     "start_time": "2021-08-06T17:36:04.579056Z"
    },
    "hidden": true,
    "scrolled": false
   },
   "outputs": [],
   "source": [
    "# gs_knn.fit(X_train, y_train)\n",
    "\n",
    "# gs_knn.best_params_"
   ]
  },
  {
   "cell_type": "markdown",
   "metadata": {
    "hidden": true
   },
   "source": [
    "The code above is a gridsearch for the KNN smote model. The gridsearch takes a long time to complete thus the best parameters have already been set below."
   ]
  },
  {
   "cell_type": "code",
   "execution_count": 27,
   "metadata": {
    "ExecuteTime": {
     "end_time": "2021-08-06T17:36:04.590132Z",
     "start_time": "2021-08-06T17:36:04.586404Z"
    },
    "hidden": true
   },
   "outputs": [],
   "source": [
    "#best knn smote model obtained from the gridsearch above\n",
    "best_knn_sm = KNeighborsClassifier(n_neighbors= 32, p = 2, weights= 'distance')"
   ]
  },
  {
   "cell_type": "code",
   "execution_count": 28,
   "metadata": {
    "ExecuteTime": {
     "end_time": "2021-08-06T17:36:04.606543Z",
     "start_time": "2021-08-06T17:36:04.592958Z"
    },
    "hidden": true
   },
   "outputs": [
    {
     "data": {
      "text/plain": [
       "KNeighborsClassifier(n_neighbors=32, weights='distance')"
      ]
     },
     "execution_count": 28,
     "metadata": {},
     "output_type": "execute_result"
    }
   ],
   "source": [
    "best_knn_sm.fit(X_train_scaled, y_train)"
   ]
  },
  {
   "cell_type": "code",
   "execution_count": 29,
   "metadata": {
    "ExecuteTime": {
     "end_time": "2021-08-06T17:36:07.343187Z",
     "start_time": "2021-08-06T17:36:04.608983Z"
    },
    "hidden": true
   },
   "outputs": [
    {
     "name": "stdout",
     "output_type": "stream",
     "text": [
      "Train Scores\n",
      "log loss:  9.992007221626415e-16\n",
      "accuracy:  1.0\n",
      "precision: 1.0\n",
      "recall:    1.0\n",
      "Test Scores\n",
      "log loss:  4.248270296171444\n",
      "accuracy:  0.877\n",
      "precision: 0.9545454545454546\n",
      "recall:    0.14685314685314685\n"
     ]
    },
    {
     "data": {
      "image/png": "[encoded data removed]",
      "text/plain": [
       "<Figure size 432x288 with 2 Axes>"
      ]
     },
     "metadata": {
      "needs_background": "light"
     },
     "output_type": "display_data"
    },
    {
     "data": {
      "image/png": "[encoded data removed]",
      "text/plain": [
       "<Figure size 432x288 with 2 Axes>"
      ]
     },
     "metadata": {
      "needs_background": "light"
     },
     "output_type": "display_data"
    }
   ],
   "source": [
    "scores(best_knn_sm)"
   ]
  },
  {
   "cell_type": "markdown",
   "metadata": {
    "hidden": true
   },
   "source": [
    "We prioritize the the recall in the gridsearch and the SMOTE-NC KNN model is overfit. The accuracy is high on the trainning data, and the test set performs worse."
   ]
  },
  {
   "cell_type": "markdown",
   "metadata": {
    "hidden": true
   },
   "source": [
    "After applying SMOTENC to the data, the model performed significantly worse on the test set for recall."
   ]
  },
  {
   "cell_type": "markdown",
   "metadata": {
    "heading_collapsed": true
   },
   "source": [
    "## Model 5: Decision Tree Model"
   ]
  },
  {
   "cell_type": "markdown",
   "metadata": {
    "hidden": true
   },
   "source": [
    "The KNN Model with SMOTENC performed poorly so we decided to move on to a new model. Here we run a Decision Tree model to see if we have a better fit."
   ]
  },
  {
   "cell_type": "code",
   "execution_count": 30,
   "metadata": {
    "ExecuteTime": {
     "end_time": "2021-08-06T17:36:07.489433Z",
     "start_time": "2021-08-06T17:36:07.345006Z"
    },
    "hidden": true
   },
   "outputs": [
    {
     "name": "stdout",
     "output_type": "stream",
     "text": [
      "Mean Cross Val Score: 94.43%\n"
     ]
    }
   ],
   "source": [
    "#Here we Instantiate a Decision Tree and run the classifer on our data\n",
    "\n",
    "DT_clf = DecisionTreeClassifier() \n",
    "\n",
    "DT_cv_score_cv = cross_val_score(DT_clf, X_train_scaled, y_train, cv=3).mean()\n",
    "\n",
    "print(f\"Mean Cross Val Score: {DT_cv_score_cv:.2%}\")"
   ]
  },
  {
   "cell_type": "markdown",
   "metadata": {
    "hidden": true
   },
   "source": [
    "Due to the long runtime of the the Decision Tree Gridsearch, the best selection from the following search was selected for further analysis."
   ]
  },
  {
   "cell_type": "code",
   "execution_count": 31,
   "metadata": {
    "ExecuteTime": {
     "end_time": "2021-08-06T17:36:07.493202Z",
     "start_time": "2021-08-06T17:36:07.491367Z"
    },
    "hidden": true
   },
   "outputs": [],
   "source": [
    "#Create grid search parameters and intantiate GridSearch CV. Create different parameters and then fit the data. \n",
    "\n",
    "# DT_clf = DecisionTreeClassifier() \n",
    "\n",
    "# param_grid = { \n",
    "#     'criterion': ['gini', 'entropy'],\n",
    "#     'max_depth': np.arange(1, 15, 2), #step up even higher \n",
    "#     'min_samples_split': np.arange(5, 120, 5),\n",
    "#     'min_samples_leaf': np.arange(5, 120,5)\n",
    "#     }\n",
    "\n",
    "# gs_DT_clf = GridSearchCV(DT_clf, param_grid = param_grid, n_jobs = -1, scoring = \"recall\", cv = 5)\n",
    "\n",
    "# gs_DT_clf.fit(X_train_scaled, y_train)\n",
    "    \n",
    "\n",
    "\n",
    "#After running it best parameter = \n",
    "# {'criterion': 'entropy',\n",
    "#  'max_depth': 7,\n",
    "#  'min_samples_leaf': 5,\n",
    "#  'min_samples_split': 5}"
   ]
  },
  {
   "cell_type": "code",
   "execution_count": 32,
   "metadata": {
    "ExecuteTime": {
     "end_time": "2021-08-06T17:36:07.540801Z",
     "start_time": "2021-08-06T17:36:07.495115Z"
    },
    "hidden": true
   },
   "outputs": [
    {
     "data": {
      "text/plain": [
       "DecisionTreeClassifier(criterion='entropy', max_depth=7, min_samples_leaf=5,\n",
       "                       min_samples_split=5)"
      ]
     },
     "execution_count": 32,
     "metadata": {},
     "output_type": "execute_result"
    }
   ],
   "source": [
    "best_DT_clf = DecisionTreeClassifier(criterion='entropy',\n",
    "                                    max_depth= 7,\n",
    "                                    min_samples_leaf= 5,\n",
    "                                    min_samples_split= 5) \n",
    "best_DT_clf.fit(X_train_scaled, y_train)\n"
   ]
  },
  {
   "cell_type": "code",
   "execution_count": 33,
   "metadata": {
    "ExecuteTime": {
     "end_time": "2021-08-06T17:36:07.908001Z",
     "start_time": "2021-08-06T17:36:07.542749Z"
    },
    "hidden": true
   },
   "outputs": [
    {
     "name": "stdout",
     "output_type": "stream",
     "text": [
      "Train Scores\n",
      "log loss:  0.8438548876552214\n",
      "accuracy:  0.9755679382768967\n",
      "precision: 0.9862542955326461\n",
      "recall:    0.8441176470588235\n",
      "Test Scores\n",
      "log loss:  0.5871599983109127\n",
      "accuracy:  0.983\n",
      "precision: 0.9921875\n",
      "recall:    0.8881118881118881\n"
     ]
    },
    {
     "data": {
      "image/png": "[encoded data removed]",
      "text/plain": [
       "<Figure size 432x288 with 2 Axes>"
      ]
     },
     "metadata": {
      "needs_background": "light"
     },
     "output_type": "display_data"
    },
    {
     "data": {
      "image/png": "[encoded data removed]",
      "text/plain": [
       "<Figure size 432x288 with 2 Axes>"
      ]
     },
     "metadata": {
      "needs_background": "light"
     },
     "output_type": "display_data"
    }
   ],
   "source": [
    "scores(best_DT_clf)"
   ]
  },
  {
   "cell_type": "markdown",
   "metadata": {
    "hidden": true
   },
   "source": [
    "We see here that the decision tree model also giving us high recall as that is the feature we want to focus on.\n",
    "\n",
    "We will plot the important features and see what drives this model."
   ]
  },
  {
   "cell_type": "code",
   "execution_count": 34,
   "metadata": {
    "ExecuteTime": {
     "end_time": "2021-08-06T17:36:09.590021Z",
     "start_time": "2021-08-06T17:36:07.910147Z"
    },
    "hidden": true
   },
   "outputs": [
    {
     "data": {
      "image/png": "[encoded data removed]",
      "text/plain": [
       "<Figure size 576x1440 with 1 Axes>"
      ]
     },
     "metadata": {
      "needs_background": "light"
     },
     "output_type": "display_data"
    }
   ],
   "source": [
    "plot_feature_importances(best_DT_clf)"
   ]
  },
  {
   "cell_type": "markdown",
   "metadata": {
    "hidden": true
   },
   "source": [
    "It seems like total charge, international plan status, and customer service calls were the most important features."
   ]
  },
  {
   "cell_type": "markdown",
   "metadata": {
    "heading_collapsed": true
   },
   "source": [
    "## Model 6: Bagged Decision Tree Model"
   ]
  },
  {
   "cell_type": "markdown",
   "metadata": {
    "hidden": true
   },
   "source": [
    "We also tested the bagging classifier model to see how this one stacks up to the other."
   ]
  },
  {
   "cell_type": "code",
   "execution_count": 35,
   "metadata": {
    "ExecuteTime": {
     "end_time": "2021-08-06T17:36:10.395069Z",
     "start_time": "2021-08-06T17:36:09.591839Z"
    },
    "hidden": true
   },
   "outputs": [
    {
     "name": "stdout",
     "output_type": "stream",
     "text": [
      "Train Scores\n",
      "log loss:  0.9474846503533157\n",
      "accuracy:  0.9725675096442349\n",
      "precision: 1.0\n",
      "recall:    0.8117647058823529\n",
      "Test Scores\n",
      "log loss:  0.6562367515033039\n",
      "accuracy:  0.981\n",
      "precision: 1.0\n",
      "recall:    0.8671328671328671\n"
     ]
    },
    {
     "data": {
      "image/png": "[encoded data removed]",
      "text/plain": [
       "<Figure size 432x288 with 2 Axes>"
      ]
     },
     "metadata": {
      "needs_background": "light"
     },
     "output_type": "display_data"
    },
    {
     "data": {
      "image/png": "[encoded data removed]",
      "text/plain": [
       "<Figure size 432x288 with 2 Axes>"
      ]
     },
     "metadata": {
      "needs_background": "light"
     },
     "output_type": "display_data"
    }
   ],
   "source": [
    "bagged_tree = BaggingClassifier(DecisionTreeClassifier(criterion = 'entropy', \n",
    "                                                       max_depth = 5, \n",
    "                                                       min_samples_leaf = 10, \n",
    "                                                       min_samples_split = 3), \n",
    "                                                       n_estimators = 20)\n",
    "\n",
    "#Fit the model on training data\n",
    "bagged_tree.fit(X_train_scaled, y_train)\n",
    "scores(bagged_tree)\n"
   ]
  },
  {
   "cell_type": "markdown",
   "metadata": {
    "hidden": true
   },
   "source": [
    "The data is pretty good with good accuracy with both the test and train data, but the recall on the test data performed worse."
   ]
  },
  {
   "cell_type": "markdown",
   "metadata": {
    "heading_collapsed": true
   },
   "source": [
    "## Model 7: Random Forest"
   ]
  },
  {
   "cell_type": "markdown",
   "metadata": {
    "hidden": true
   },
   "source": [
    "We also wanted to see how the random forest classifier performed on our data. We selected some parameters to see how well it did. Since the initial model performed fairly well, we decided to run a gridsearch to find some better parameters."
   ]
  },
  {
   "cell_type": "code",
   "execution_count": 36,
   "metadata": {
    "ExecuteTime": {
     "end_time": "2021-08-06T17:36:16.408437Z",
     "start_time": "2021-08-06T17:36:10.396632Z"
    },
    "hidden": true
   },
   "outputs": [
    {
     "data": {
      "text/plain": [
       "RandomForestClassifier(criterion='entropy', max_depth=10, min_samples_split=7,\n",
       "                       n_estimators=1150)"
      ]
     },
     "execution_count": 36,
     "metadata": {},
     "output_type": "execute_result"
    }
   ],
   "source": [
    "rf_model = RandomForestClassifier(criterion = 'entropy', \n",
    "                                  n_estimators = 1150, \n",
    "                                  max_depth=10, \n",
    "                                  bootstrap = True, \n",
    "                                  min_samples_split= 7)\n",
    "rf_model.fit(X_train_scaled, y_train)"
   ]
  },
  {
   "cell_type": "code",
   "execution_count": 37,
   "metadata": {
    "ExecuteTime": {
     "end_time": "2021-08-06T17:36:18.149698Z",
     "start_time": "2021-08-06T17:36:16.410394Z"
    },
    "hidden": true
   },
   "outputs": [
    {
     "name": "stdout",
     "output_type": "stream",
     "text": [
      "Train Scores\n",
      "log loss:  0.814244621397381\n",
      "accuracy:  0.9764252036005143\n",
      "precision: 1.0\n",
      "recall:    0.8382352941176471\n",
      "Test Scores\n",
      "log loss:  1.3815510557964281\n",
      "accuracy:  0.96\n",
      "precision: 1.0\n",
      "recall:    0.7202797202797203\n"
     ]
    },
    {
     "data": {
      "image/png": "[encoded data removed]",
      "text/plain": [
       "<Figure size 432x288 with 2 Axes>"
      ]
     },
     "metadata": {
      "needs_background": "light"
     },
     "output_type": "display_data"
    },
    {
     "data": {
      "image/png": "[encoded data removed]",
      "text/plain": [
       "<Figure size 432x288 with 2 Axes>"
      ]
     },
     "metadata": {
      "needs_background": "light"
     },
     "output_type": "display_data"
    }
   ],
   "source": [
    "rf_preds = rf_model.predict(X_test_scaled)\n",
    "scores(rf_model)"
   ]
  },
  {
   "cell_type": "code",
   "execution_count": 38,
   "metadata": {
    "ExecuteTime": {
     "end_time": "2021-08-06T17:36:18.154090Z",
     "start_time": "2021-08-06T17:36:18.151943Z"
    },
    "hidden": true
   },
   "outputs": [],
   "source": [
    "# # Grid Search for parameters, Played around with n_estimators before and found the optimal so excluded from this grid search\n",
    "# grid = {        \n",
    "#  'max_depth': [8,10],\n",
    "#  'max_features': ['auto', 'sqrt'],\n",
    "#  'min_samples_leaf': [1, 2, 4],\n",
    "#  'min_samples_split': [2, 5, 7]}\n",
    "\n",
    "# gs = GridSearchCV(estimator=rf_model, param_grid= grid, cv=2)\n",
    "# gs.fit(X_train_scaled, y_train)\n",
    "# gs.best_params_"
   ]
  },
  {
   "cell_type": "markdown",
   "metadata": {
    "hidden": true
   },
   "source": [
    "The gridsearch above was ran and the best parameters for the data was selected for the best random forest model below."
   ]
  },
  {
   "cell_type": "code",
   "execution_count": 39,
   "metadata": {
    "ExecuteTime": {
     "end_time": "2021-08-06T17:36:19.932962Z",
     "start_time": "2021-08-06T17:36:18.156238Z"
    },
    "hidden": true,
    "scrolled": true
   },
   "outputs": [
    {
     "data": {
      "image/png": "[encoded data removed]",
      "text/plain": [
       "<Figure size 576x1440 with 1 Axes>"
      ]
     },
     "metadata": {
      "needs_background": "light"
     },
     "output_type": "display_data"
    }
   ],
   "source": [
    "\n",
    "best_rf_model= RandomForestClassifier(max_depth = 10, \n",
    "                                   max_features = 'auto',\n",
    "                                   min_samples_leaf = 1,\n",
    "                                   min_samples_split = 5)\n",
    "best_rf_model.fit(X_train_scaled,y_train)\n",
    "\n",
    "plot_feature_importances(best_rf_model)"
   ]
  },
  {
   "cell_type": "markdown",
   "metadata": {
    "heading_collapsed": true
   },
   "source": [
    "## Model 8: XGBoost"
   ]
  },
  {
   "cell_type": "markdown",
   "metadata": {
    "hidden": true
   },
   "source": [
    "We decided to explore the different boosting models."
   ]
  },
  {
   "cell_type": "code",
   "execution_count": 40,
   "metadata": {
    "ExecuteTime": {
     "end_time": "2021-08-06T17:36:19.936439Z",
     "start_time": "2021-08-06T17:36:19.934433Z"
    },
    "hidden": true
   },
   "outputs": [],
   "source": [
    "xgb_model= xg.XGBClassifier(random_state=42, objective='binary:logistic', alpha=2)"
   ]
  },
  {
   "cell_type": "code",
   "execution_count": 41,
   "metadata": {
    "ExecuteTime": {
     "end_time": "2021-08-06T17:36:20.102207Z",
     "start_time": "2021-08-06T17:36:19.938367Z"
    },
    "hidden": true
   },
   "outputs": [
    {
     "data": {
      "text/plain": [
       "XGBClassifier(alpha=2, base_score=0.5, booster='gbtree', colsample_bylevel=1,\n",
       "              colsample_bynode=1, colsample_bytree=1, gamma=0, gpu_id=-1,\n",
       "              importance_type='gain', interaction_constraints='',\n",
       "              learning_rate=0.300000012, max_delta_step=0, max_depth=6,\n",
       "              min_child_weight=1, missing=nan, monotone_constraints='()',\n",
       "              n_estimators=100, n_jobs=0, num_parallel_tree=1, random_state=42,\n",
       "              reg_alpha=2, reg_lambda=1, scale_pos_weight=1, subsample=1,\n",
       "              tree_method='exact', validate_parameters=1, verbosity=None)"
      ]
     },
     "execution_count": 41,
     "metadata": {},
     "output_type": "execute_result"
    }
   ],
   "source": [
    "xgb_model.fit(X_train_scaled, y_train)"
   ]
  },
  {
   "cell_type": "code",
   "execution_count": 42,
   "metadata": {
    "ExecuteTime": {
     "end_time": "2021-08-06T17:36:20.459187Z",
     "start_time": "2021-08-06T17:36:20.103913Z"
    },
    "hidden": true
   },
   "outputs": [
    {
     "name": "stdout",
     "output_type": "stream",
     "text": [
      "Train Scores\n",
      "log loss:  0.19245781960301805\n",
      "accuracy:  0.9944277753964852\n",
      "precision: 1.0\n",
      "recall:    0.961764705882353\n",
      "Test Scores\n",
      "log loss:  0.5526204223185719\n",
      "accuracy:  0.984\n",
      "precision: 1.0\n",
      "recall:    0.8881118881118881\n"
     ]
    },
    {
     "data": {
      "image/png": "[encoded data removed]",
      "text/plain": [
       "<Figure size 432x288 with 2 Axes>"
      ]
     },
     "metadata": {
      "needs_background": "light"
     },
     "output_type": "display_data"
    },
    {
     "data": {
      "image/png": "[encoded data removed]",
      "text/plain": [
       "<Figure size 432x288 with 2 Axes>"
      ]
     },
     "metadata": {
      "needs_background": "light"
     },
     "output_type": "display_data"
    }
   ],
   "source": [
    "scores(xgb_model)"
   ]
  },
  {
   "cell_type": "code",
   "execution_count": 43,
   "metadata": {
    "ExecuteTime": {
     "end_time": "2021-08-06T17:36:20.462657Z",
     "start_time": "2021-08-06T17:36:20.460759Z"
    },
    "hidden": true
   },
   "outputs": [],
   "source": [
    "# grid2 = {'eta': [.05,.1, .2, .4],\n",
    "#          'max_depth': [3,8,9],\n",
    "#          'alpha' : [1,2,3,4]\n",
    "#  }\n",
    "# gs = GridSearchCV(estimator=xgb_model, param_grid= grid2, cv=2)\n",
    "# gs.fit(X_train_scaled, y_train)\n",
    "# gs.best_params_"
   ]
  },
  {
   "cell_type": "markdown",
   "metadata": {
    "hidden": true
   },
   "source": [
    "The gridsearch was run for the XGBoost model and the best parameters was selected for the model below."
   ]
  },
  {
   "cell_type": "code",
   "execution_count": 44,
   "metadata": {
    "ExecuteTime": {
     "end_time": "2021-08-06T17:36:20.631936Z",
     "start_time": "2021-08-06T17:36:20.464251Z"
    },
    "hidden": true
   },
   "outputs": [
    {
     "data": {
      "text/plain": [
       "XGBClassifier(alpha=1, base_score=0.5, booster='gbtree', colsample_bylevel=1,\n",
       "              colsample_bynode=1, colsample_bytree=1, eta=0.5, gamma=0,\n",
       "              gpu_id=-1, importance_type='gain', interaction_constraints='',\n",
       "              learning_rate=0.5, max_delta_step=0, max_depth=8,\n",
       "              min_child_weight=1, missing=nan, monotone_constraints='()',\n",
       "              n_estimators=100, n_jobs=0, num_parallel_tree=1, random_state=0,\n",
       "              reg_alpha=1, reg_lambda=1, scale_pos_weight=1, subsample=1,\n",
       "              tree_method='exact', validate_parameters=1, verbosity=None)"
      ]
     },
     "execution_count": 44,
     "metadata": {},
     "output_type": "execute_result"
    }
   ],
   "source": [
    "best_xg_model = xg.XGBClassifier(alpha = 1, eta = 0.5, max_depth = 8)\n",
    "best_xg_model.fit(X_train_scaled,y_train)"
   ]
  },
  {
   "cell_type": "code",
   "execution_count": 45,
   "metadata": {
    "ExecuteTime": {
     "end_time": "2021-08-06T17:36:20.979395Z",
     "start_time": "2021-08-06T17:36:20.633578Z"
    },
    "hidden": true
   },
   "outputs": [
    {
     "name": "stdout",
     "output_type": "stream",
     "text": [
      "Train Scores\n",
      "log loss:  9.992007221626415e-16\n",
      "accuracy:  1.0\n",
      "precision: 1.0\n",
      "recall:    1.0\n",
      "Test Scores\n",
      "log loss:  0.5526204223185719\n",
      "accuracy:  0.984\n",
      "precision: 1.0\n",
      "recall:    0.8881118881118881\n"
     ]
    },
    {
     "data": {
      "image/png": "[encoded data removed]",
      "text/plain": [
       "<Figure size 432x288 with 2 Axes>"
      ]
     },
     "metadata": {
      "needs_background": "light"
     },
     "output_type": "display_data"
    },
    {
     "data": {
      "image/png": "[encoded data removed]",
      "text/plain": [
       "<Figure size 432x288 with 2 Axes>"
      ]
     },
     "metadata": {
      "needs_background": "light"
     },
     "output_type": "display_data"
    }
   ],
   "source": [
    "scores(best_xg_model)"
   ]
  },
  {
   "cell_type": "code",
   "execution_count": 46,
   "metadata": {
    "ExecuteTime": {
     "end_time": "2021-08-06T17:36:22.620541Z",
     "start_time": "2021-08-06T17:36:20.981279Z"
    },
    "hidden": true
   },
   "outputs": [
    {
     "data": {
      "image/png": "[encoded data removed]",
      "text/plain": [
       "<Figure size 576x1440 with 1 Axes>"
      ]
     },
     "metadata": {
      "needs_background": "light"
     },
     "output_type": "display_data"
    }
   ],
   "source": [
    "plot_feature_importances(best_xg_model)"
   ]
  },
  {
   "cell_type": "code",
   "execution_count": 47,
   "metadata": {
    "ExecuteTime": {
     "end_time": "2021-08-06T17:36:23.147347Z",
     "start_time": "2021-08-06T17:36:22.622116Z"
    },
    "hidden": true
   },
   "outputs": [
    {
     "name": "stdout",
     "output_type": "stream",
     "text": [
      "Train Scores\n",
      "log loss:  0.7402223830885283\n",
      "accuracy:  0.9785683669095585\n",
      "precision: 1.0\n",
      "recall:    0.8529411764705882\n",
      "Test Scores\n",
      "log loss:  0.5526204223185719\n",
      "accuracy:  0.984\n",
      "precision: 1.0\n",
      "recall:    0.8881118881118881\n"
     ]
    },
    {
     "data": {
      "image/png": "[encoded data removed]",
      "text/plain": [
       "<Figure size 432x288 with 2 Axes>"
      ]
     },
     "metadata": {
      "needs_background": "light"
     },
     "output_type": "display_data"
    },
    {
     "data": {
      "image/png": "[encoded data removed]",
      "text/plain": [
       "<Figure size 432x288 with 2 Axes>"
      ]
     },
     "metadata": {
      "needs_background": "light"
     },
     "output_type": "display_data"
    }
   ],
   "source": [
    "xgb_model= xg.XGBClassifier(random_state=42, objective='binary:hinge', alpha=1, eta =.05, max_depth =3)\n",
    "xgb_model.fit(X_train_scaled, y_train)\n",
    "y_preds_xgb = xgb_model.predict(X_test_scaled)\n",
    "scores(xgb_model)"
   ]
  },
  {
   "cell_type": "markdown",
   "metadata": {
    "hidden": true
   },
   "source": [
    "From the sores above, we see that the model fit perfectly on the training data and the test data performed exceptionally well too."
   ]
  },
  {
   "cell_type": "markdown",
   "metadata": {
    "heading_collapsed": true
   },
   "source": [
    "## Model 9: AdaBoost"
   ]
  },
  {
   "cell_type": "markdown",
   "metadata": {
    "hidden": true
   },
   "source": [
    "We ran a basic ADABoost and found that the scores were not performing as well and decided not to run a gridsearch for this model"
   ]
  },
  {
   "cell_type": "code",
   "execution_count": 48,
   "metadata": {
    "ExecuteTime": {
     "end_time": "2021-08-06T17:36:23.459208Z",
     "start_time": "2021-08-06T17:36:23.148900Z"
    },
    "hidden": true
   },
   "outputs": [
    {
     "data": {
      "text/plain": [
       "AdaBoostClassifier(n_estimators=40, random_state=42)"
      ]
     },
     "execution_count": 48,
     "metadata": {},
     "output_type": "execute_result"
    }
   ],
   "source": [
    "model_boost_ada = AdaBoostClassifier(n_estimators=40,random_state=42)\n",
    "model_boost_ada.fit(X_train_scaled,y_train)"
   ]
  },
  {
   "cell_type": "code",
   "execution_count": 49,
   "metadata": {
    "ExecuteTime": {
     "end_time": "2021-08-06T17:36:23.870239Z",
     "start_time": "2021-08-06T17:36:23.460800Z"
    },
    "hidden": true
   },
   "outputs": [
    {
     "name": "stdout",
     "output_type": "stream",
     "text": [
      "Train Scores\n",
      "log loss:  2.54637802170038\n",
      "accuracy:  0.9262751821688813\n",
      "precision: 0.8442622950819673\n",
      "recall:    0.6058823529411764\n",
      "Test Scores\n",
      "log loss:  3.1430478422751973\n",
      "accuracy:  0.909\n",
      "precision: 0.76\n",
      "recall:    0.5314685314685315\n"
     ]
    },
    {
     "data": {
      "image/png": "[encoded data removed]",
      "text/plain": [
       "<Figure size 432x288 with 2 Axes>"
      ]
     },
     "metadata": {
      "needs_background": "light"
     },
     "output_type": "display_data"
    },
    {
     "data": {
      "image/png": "[encoded data removed]",
      "text/plain": [
       "<Figure size 432x288 with 2 Axes>"
      ]
     },
     "metadata": {
      "needs_background": "light"
     },
     "output_type": "display_data"
    }
   ],
   "source": [
    "scores(model_boost_ada)"
   ]
  },
  {
   "cell_type": "markdown",
   "metadata": {
    "heading_collapsed": true
   },
   "source": [
    "## Model 10: Gradient Boost"
   ]
  },
  {
   "cell_type": "markdown",
   "metadata": {
    "hidden": true
   },
   "source": [
    "Gradient boost model was also tested and this also performed well."
   ]
  },
  {
   "cell_type": "code",
   "execution_count": 50,
   "metadata": {
    "ExecuteTime": {
     "end_time": "2021-08-06T17:36:25.321716Z",
     "start_time": "2021-08-06T17:36:23.871814Z"
    },
    "hidden": true
   },
   "outputs": [],
   "source": [
    "model_boost_gb = GradientBoostingClassifier(random_state=42)\n",
    "gb_m = model_boost_gb.fit(X_train_scaled,y_train)"
   ]
  },
  {
   "cell_type": "code",
   "execution_count": 51,
   "metadata": {
    "ExecuteTime": {
     "end_time": "2021-08-06T17:36:38.477920Z",
     "start_time": "2021-08-06T17:36:25.322969Z"
    },
    "hidden": true
   },
   "outputs": [
    {
     "data": {
      "text/plain": [
       "0.9772862330802244"
      ]
     },
     "execution_count": 51,
     "metadata": {},
     "output_type": "execute_result"
    }
   ],
   "source": [
    "gradient_boost_cv = cross_val_score(gb_m, X_train_scaled, y_train, cv = 10)\n",
    "gradient_boost_cv\n",
    "gradient_boost_cv.mean()"
   ]
  },
  {
   "cell_type": "code",
   "execution_count": 52,
   "metadata": {
    "ExecuteTime": {
     "end_time": "2021-08-06T17:36:38.854932Z",
     "start_time": "2021-08-06T17:36:38.479718Z"
    },
    "hidden": true
   },
   "outputs": [
    {
     "name": "stdout",
     "output_type": "stream",
     "text": [
      "Train Scores\n",
      "log loss:  0.6217868017943637\n",
      "accuracy:  0.9819974282040291\n",
      "precision: 1.0\n",
      "recall:    0.8764705882352941\n",
      "Test Scores\n",
      "log loss:  0.5526204223185719\n",
      "accuracy:  0.984\n",
      "precision: 1.0\n",
      "recall:    0.8881118881118881\n"
     ]
    },
    {
     "data": {
      "image/png": "[encoded data removed]",
      "text/plain": [
       "<Figure size 432x288 with 2 Axes>"
      ]
     },
     "metadata": {
      "needs_background": "light"
     },
     "output_type": "display_data"
    },
    {
     "data": {
      "image/png": "[encoded data removed]",
      "text/plain": [
       "<Figure size 432x288 with 2 Axes>"
      ]
     },
     "metadata": {
      "needs_background": "light"
     },
     "output_type": "display_data"
    }
   ],
   "source": [
    "scores(model_boost_gb)"
   ]
  },
  {
   "cell_type": "markdown",
   "metadata": {
    "hidden": true
   },
   "source": [
    "The gradient boost model recall scores were similar to those of the XGBoost model but we decided that the gradient boost model was better because the train and test recall scores were similar meaning that the model was not overfitting on the train data unlike the XGBoost model."
   ]
  },
  {
   "cell_type": "markdown",
   "metadata": {
    "heading_collapsed": true
   },
   "source": [
    "## Model 11: Ensemble"
   ]
  },
  {
   "cell_type": "markdown",
   "metadata": {
    "hidden": true
   },
   "source": [
    "We wanted to see if an ensemble would improve our results by passing through some of the better preforming models."
   ]
  },
  {
   "cell_type": "code",
   "execution_count": 53,
   "metadata": {
    "ExecuteTime": {
     "end_time": "2021-08-06T17:36:38.859070Z",
     "start_time": "2021-08-06T17:36:38.856460Z"
    },
    "hidden": true
   },
   "outputs": [],
   "source": [
    "voting_clf = VotingClassifier(estimators=[ \n",
    "                                          (\"rf\", rf_model) ,\n",
    "                                          ('dt', best_DT_clf),\n",
    "                                          ('xgb', xgb_model),\n",
    "                                          (\"gb\", gb_m)], \n",
    "                                          voting= \"soft\")"
   ]
  },
  {
   "cell_type": "code",
   "execution_count": 54,
   "metadata": {
    "ExecuteTime": {
     "end_time": "2021-08-06T17:36:46.537129Z",
     "start_time": "2021-08-06T17:36:38.860495Z"
    },
    "hidden": true
   },
   "outputs": [
    {
     "data": {
      "text/plain": [
       "VotingClassifier(estimators=[('rf',\n",
       "                              RandomForestClassifier(criterion='entropy',\n",
       "                                                     max_depth=10,\n",
       "                                                     min_samples_split=7,\n",
       "                                                     n_estimators=1150)),\n",
       "                             ('dt',\n",
       "                              DecisionTreeClassifier(criterion='entropy',\n",
       "                                                     max_depth=7,\n",
       "                                                     min_samples_leaf=5,\n",
       "                                                     min_samples_split=5)),\n",
       "                             ('xgb',\n",
       "                              XGBClassifier(alpha=1, base_score=0.5,\n",
       "                                            booster='gbtree',\n",
       "                                            colsample_bylevel=1,\n",
       "                                            colsample_bynode=1,\n",
       "                                            colsample_bytree=...\n",
       "                                            max_delta_step=0, max_depth=3,\n",
       "                                            min_child_weight=1, missing=nan,\n",
       "                                            monotone_constraints='()',\n",
       "                                            n_estimators=100, n_jobs=0,\n",
       "                                            num_parallel_tree=1,\n",
       "                                            objective='binary:hinge',\n",
       "                                            random_state=42, reg_alpha=1,\n",
       "                                            reg_lambda=1, scale_pos_weight=None,\n",
       "                                            subsample=1, tree_method='exact',\n",
       "                                            validate_parameters=1,\n",
       "                                            verbosity=None)),\n",
       "                             ('gb',\n",
       "                              GradientBoostingClassifier(random_state=42))],\n",
       "                 voting='soft')"
      ]
     },
     "execution_count": 54,
     "metadata": {},
     "output_type": "execute_result"
    }
   ],
   "source": [
    "voting_clf.fit(X_train_scaled, y_train)"
   ]
  },
  {
   "cell_type": "code",
   "execution_count": 55,
   "metadata": {
    "ExecuteTime": {
     "end_time": "2021-08-06T17:36:48.056256Z",
     "start_time": "2021-08-06T17:36:46.538873Z"
    },
    "hidden": true
   },
   "outputs": [
    {
     "name": "stdout",
     "output_type": "stream",
     "text": [
      "Train Scores\n",
      "log loss:  0.7402223830885283\n",
      "accuracy:  0.9785683669095585\n",
      "precision: 1.0\n",
      "recall:    0.8529411764705882\n",
      "Test Scores\n",
      "log loss:  0.5526204223185719\n",
      "accuracy:  0.984\n",
      "precision: 1.0\n",
      "recall:    0.8881118881118881\n"
     ]
    },
    {
     "data": {
      "image/png": "[encoded data removed]",
      "text/plain": [
       "<Figure size 432x288 with 2 Axes>"
      ]
     },
     "metadata": {
      "needs_background": "light"
     },
     "output_type": "display_data"
    },
    {
     "data": {
      "image/png": "[encoded data removed]",
      "text/plain": [
       "<Figure size 432x288 with 2 Axes>"
      ]
     },
     "metadata": {
      "needs_background": "light"
     },
     "output_type": "display_data"
    }
   ],
   "source": [
    "scores(voting_clf)"
   ]
  },
  {
   "cell_type": "markdown",
   "metadata": {
    "hidden": true
   },
   "source": [
    "Here we see that the data performed well but it does perform as well as our boosted data."
   ]
  },
  {
   "cell_type": "code",
   "execution_count": 56,
   "metadata": {
    "ExecuteTime": {
     "end_time": "2021-08-06T17:36:55.891476Z",
     "start_time": "2021-08-06T17:36:48.057865Z"
    },
    "hidden": true
   },
   "outputs": [
    {
     "name": "stdout",
     "output_type": "stream",
     "text": [
      "RandomForestClassifier(criterion='entropy', max_depth=10, min_samples_split=7,\n",
      "                       n_estimators=1150) 0.7342657342657343\n",
      "DecisionTreeClassifier(criterion='entropy', max_depth=7, min_samples_leaf=5,\n",
      "                       min_samples_split=5) 0.8881118881118881\n",
      "XGBClassifier(alpha=1, base_score=0.5, booster='gbtree', colsample_bylevel=1,\n",
      "              colsample_bynode=1, colsample_bytree=1, eta=0.05, gamma=0,\n",
      "              gpu_id=-1, importance_type='gain', interaction_constraints='',\n",
      "              learning_rate=0.0500000007, max_delta_step=0, max_depth=3,\n",
      "              min_child_weight=1, missing=nan, monotone_constraints='()',\n",
      "              n_estimators=100, n_jobs=0, num_parallel_tree=1,\n",
      "              objective='binary:hinge', random_state=42, reg_alpha=1,\n",
      "              reg_lambda=1, scale_pos_weight=None, subsample=1,\n",
      "              tree_method='exact', validate_parameters=1, verbosity=None) 0.8881118881118881\n",
      "GradientBoostingClassifier(random_state=42) 0.8881118881118881\n"
     ]
    }
   ],
   "source": [
    "for clf in (rf_model, best_DT_clf, xgb_model, gb_m):\n",
    "    clf.fit(X_train_scaled, y_train)\n",
    "    y_pred= clf.predict(X_test_scaled)\n",
    "    print(clf, recall_score(y_test, y_pred))"
   ]
  },
  {
   "cell_type": "markdown",
   "metadata": {
    "hidden": true
   },
   "source": [
    "Since this data did not perform as well as the XGboost or the gradient boost, we decided that the ensemble would not be necessary for this data."
   ]
  },
  {
   "cell_type": "markdown",
   "metadata": {},
   "source": [
    "## Recommendations"
   ]
  },
  {
   "cell_type": "markdown",
   "metadata": {},
   "source": [
    "Based on our original EDA from the first [notebook](01_syriatel_customer_churn_data_cleaning.ipynb) and the important features highlighted in the models above, we created three key recommendations to SyriaTel to improve churn:\n",
    "1. Implement Fixed Fee Plan\n",
    "2. Improve Customer Satisfaction\n",
    "3. Prioritize Key States\n",
    "\n",
    "We test our recommendations by applying them to the original dataset and run them through our model to predict the new churn status to see if churn decreases."
   ]
  },
  {
   "cell_type": "code",
   "execution_count": 57,
   "metadata": {
    "ExecuteTime": {
     "end_time": "2021-08-06T17:36:55.902940Z",
     "start_time": "2021-08-06T17:36:55.894038Z"
    }
   },
   "outputs": [
    {
     "data": {
      "text/plain": [
       "14.49"
      ]
     },
     "execution_count": 57,
     "metadata": {},
     "output_type": "execute_result"
    }
   ],
   "source": [
    "#print out original churn\n",
    "round(df['churn'].value_counts(normalize=True)[1]*100,2)"
   ]
  },
  {
   "cell_type": "markdown",
   "metadata": {},
   "source": [
    "### Implement Fixed Fee Plan"
   ]
  },
  {
   "cell_type": "markdown",
   "metadata": {},
   "source": [
    "We know that total charge is one of the features of the dataset that has has high influence in our model. To adjust total charge, we can modify the charge per minute feature. Instead of adjusting the charge per minute for all types of calls, which could lead to a greater loss in revenue, we focused on day calls because our preliminary EDA showed that the charge per min for day calls were noticeably different between customers who churn and those who do not churn."
   ]
  },
  {
   "cell_type": "code",
   "execution_count": 58,
   "metadata": {
    "ExecuteTime": {
     "end_time": "2021-08-06T17:36:55.908749Z",
     "start_time": "2021-08-06T17:36:55.905371Z"
    }
   },
   "outputs": [],
   "source": [
    "#create a new copy of the main data frame\n",
    "new_df1 = df.copy()"
   ]
  },
  {
   "cell_type": "code",
   "execution_count": 59,
   "metadata": {
    "ExecuteTime": {
     "end_time": "2021-08-06T17:36:55.930005Z",
     "start_time": "2021-08-06T17:36:55.911287Z"
    },
    "scrolled": true
   },
   "outputs": [
    {
     "data": {
      "text/html": [
       "<div>\n",
       "<style scoped>\n",
       "    .dataframe tbody tr th:only-of-type {\n",
       "        vertical-align: middle;\n",
       "    }\n",
       "\n",
       "    .dataframe tbody tr th {\n",
       "        vertical-align: top;\n",
       "    }\n",
       "\n",
       "    .dataframe thead th {\n",
       "        text-align: right;\n",
       "    }\n",
       "</style>\n",
       "<table border=\"1\" class=\"dataframe\">\n",
       "  <thead>\n",
       "    <tr style=\"text-align: right;\">\n",
       "      <th></th>\n",
       "      <th>total_day_minutes</th>\n",
       "      <th>charge_per_min_day</th>\n",
       "    </tr>\n",
       "  </thead>\n",
       "  <tbody>\n",
       "    <tr>\n",
       "      <th>count</th>\n",
       "      <td>3333.000000</td>\n",
       "      <td>3333.000000</td>\n",
       "    </tr>\n",
       "    <tr>\n",
       "      <th>mean</th>\n",
       "      <td>179.775098</td>\n",
       "      <td>0.318147</td>\n",
       "    </tr>\n",
       "    <tr>\n",
       "      <th>std</th>\n",
       "      <td>54.467389</td>\n",
       "      <td>0.124572</td>\n",
       "    </tr>\n",
       "    <tr>\n",
       "      <th>min</th>\n",
       "      <td>0.000000</td>\n",
       "      <td>0.000000</td>\n",
       "    </tr>\n",
       "    <tr>\n",
       "      <th>25%</th>\n",
       "      <td>143.700000</td>\n",
       "      <td>0.234490</td>\n",
       "    </tr>\n",
       "    <tr>\n",
       "      <th>50%</th>\n",
       "      <td>179.400000</td>\n",
       "      <td>0.304409</td>\n",
       "    </tr>\n",
       "    <tr>\n",
       "      <th>75%</th>\n",
       "      <td>216.400000</td>\n",
       "      <td>0.384510</td>\n",
       "    </tr>\n",
       "    <tr>\n",
       "      <th>max</th>\n",
       "      <td>350.800000</td>\n",
       "      <td>1.228000</td>\n",
       "    </tr>\n",
       "  </tbody>\n",
       "</table>\n",
       "</div>"
      ],
      "text/plain": [
       "       total_day_minutes  charge_per_min_day\n",
       "count        3333.000000         3333.000000\n",
       "mean          179.775098            0.318147\n",
       "std            54.467389            0.124572\n",
       "min             0.000000            0.000000\n",
       "25%           143.700000            0.234490\n",
       "50%           179.400000            0.304409\n",
       "75%           216.400000            0.384510\n",
       "max           350.800000            1.228000"
      ]
     },
     "execution_count": 59,
     "metadata": {},
     "output_type": "execute_result"
    }
   ],
   "source": [
    "#see the statistics for total day minutes and charge per min for day calls\n",
    "new_df1[['total_day_minutes', 'charge_per_min_day']].describe()"
   ]
  },
  {
   "cell_type": "code",
   "execution_count": 60,
   "metadata": {
    "ExecuteTime": {
     "end_time": "2021-08-06T17:36:55.949699Z",
     "start_time": "2021-08-06T17:36:55.932689Z"
    },
    "scrolled": true
   },
   "outputs": [
    {
     "data": {
      "text/html": [
       "<div>\n",
       "<style scoped>\n",
       "    .dataframe tbody tr th:only-of-type {\n",
       "        vertical-align: middle;\n",
       "    }\n",
       "\n",
       "    .dataframe tbody tr th {\n",
       "        vertical-align: top;\n",
       "    }\n",
       "\n",
       "    .dataframe thead th {\n",
       "        text-align: right;\n",
       "    }\n",
       "</style>\n",
       "<table border=\"1\" class=\"dataframe\">\n",
       "  <thead>\n",
       "    <tr style=\"text-align: right;\">\n",
       "      <th></th>\n",
       "      <th>total_day_minutes</th>\n",
       "      <th>charge_per_min_day</th>\n",
       "    </tr>\n",
       "  </thead>\n",
       "  <tbody>\n",
       "    <tr>\n",
       "      <th>count</th>\n",
       "      <td>483.000000</td>\n",
       "      <td>483.000000</td>\n",
       "    </tr>\n",
       "    <tr>\n",
       "      <th>mean</th>\n",
       "      <td>206.914079</td>\n",
       "      <td>0.364148</td>\n",
       "    </tr>\n",
       "    <tr>\n",
       "      <th>std</th>\n",
       "      <td>68.997792</td>\n",
       "      <td>0.158242</td>\n",
       "    </tr>\n",
       "    <tr>\n",
       "      <th>min</th>\n",
       "      <td>0.000000</td>\n",
       "      <td>0.000000</td>\n",
       "    </tr>\n",
       "    <tr>\n",
       "      <th>25%</th>\n",
       "      <td>153.250000</td>\n",
       "      <td>0.252803</td>\n",
       "    </tr>\n",
       "    <tr>\n",
       "      <th>50%</th>\n",
       "      <td>217.600000</td>\n",
       "      <td>0.348720</td>\n",
       "    </tr>\n",
       "    <tr>\n",
       "      <th>75%</th>\n",
       "      <td>265.950000</td>\n",
       "      <td>0.449143</td>\n",
       "    </tr>\n",
       "    <tr>\n",
       "      <th>max</th>\n",
       "      <td>350.800000</td>\n",
       "      <td>1.150000</td>\n",
       "    </tr>\n",
       "  </tbody>\n",
       "</table>\n",
       "</div>"
      ],
      "text/plain": [
       "       total_day_minutes  charge_per_min_day\n",
       "count         483.000000          483.000000\n",
       "mean          206.914079            0.364148\n",
       "std            68.997792            0.158242\n",
       "min             0.000000            0.000000\n",
       "25%           153.250000            0.252803\n",
       "50%           217.600000            0.348720\n",
       "75%           265.950000            0.449143\n",
       "max           350.800000            1.150000"
      ]
     },
     "execution_count": 60,
     "metadata": {},
     "output_type": "execute_result"
    }
   ],
   "source": [
    "#see the statistics for total day minutes and charge per min for day calls for those who churn\n",
    "new_df1[new_df1['churn'] == 1][['total_day_minutes', 'charge_per_min_day']].describe()"
   ]
  },
  {
   "cell_type": "code",
   "execution_count": 61,
   "metadata": {
    "ExecuteTime": {
     "end_time": "2021-08-06T17:36:55.967010Z",
     "start_time": "2021-08-06T17:36:55.951938Z"
    },
    "scrolled": true
   },
   "outputs": [
    {
     "data": {
      "text/html": [
       "<div>\n",
       "<style scoped>\n",
       "    .dataframe tbody tr th:only-of-type {\n",
       "        vertical-align: middle;\n",
       "    }\n",
       "\n",
       "    .dataframe tbody tr th {\n",
       "        vertical-align: top;\n",
       "    }\n",
       "\n",
       "    .dataframe thead th {\n",
       "        text-align: right;\n",
       "    }\n",
       "</style>\n",
       "<table border=\"1\" class=\"dataframe\">\n",
       "  <thead>\n",
       "    <tr style=\"text-align: right;\">\n",
       "      <th></th>\n",
       "      <th>total_day_minutes</th>\n",
       "      <th>charge_per_min_day</th>\n",
       "    </tr>\n",
       "  </thead>\n",
       "  <tbody>\n",
       "    <tr>\n",
       "      <th>count</th>\n",
       "      <td>2850.000000</td>\n",
       "      <td>2850.000000</td>\n",
       "    </tr>\n",
       "    <tr>\n",
       "      <th>mean</th>\n",
       "      <td>175.175754</td>\n",
       "      <td>0.310351</td>\n",
       "    </tr>\n",
       "    <tr>\n",
       "      <th>std</th>\n",
       "      <td>50.181655</td>\n",
       "      <td>0.116160</td>\n",
       "    </tr>\n",
       "    <tr>\n",
       "      <th>min</th>\n",
       "      <td>0.000000</td>\n",
       "      <td>0.000000</td>\n",
       "    </tr>\n",
       "    <tr>\n",
       "      <th>25%</th>\n",
       "      <td>142.825000</td>\n",
       "      <td>0.233230</td>\n",
       "    </tr>\n",
       "    <tr>\n",
       "      <th>50%</th>\n",
       "      <td>177.200000</td>\n",
       "      <td>0.299729</td>\n",
       "    </tr>\n",
       "    <tr>\n",
       "      <th>75%</th>\n",
       "      <td>210.300000</td>\n",
       "      <td>0.374728</td>\n",
       "    </tr>\n",
       "    <tr>\n",
       "      <th>max</th>\n",
       "      <td>315.600000</td>\n",
       "      <td>1.228000</td>\n",
       "    </tr>\n",
       "  </tbody>\n",
       "</table>\n",
       "</div>"
      ],
      "text/plain": [
       "       total_day_minutes  charge_per_min_day\n",
       "count        2850.000000         2850.000000\n",
       "mean          175.175754            0.310351\n",
       "std            50.181655            0.116160\n",
       "min             0.000000            0.000000\n",
       "25%           142.825000            0.233230\n",
       "50%           177.200000            0.299729\n",
       "75%           210.300000            0.374728\n",
       "max           315.600000            1.228000"
      ]
     },
     "execution_count": 61,
     "metadata": {},
     "output_type": "execute_result"
    }
   ],
   "source": [
    "#see the statistics for total day minutes and charge per min for day calls for those who do not churn\n",
    "new_df1[new_df1['churn'] == 0][['total_day_minutes', 'charge_per_min_day']].describe()"
   ]
  },
  {
   "cell_type": "code",
   "execution_count": 62,
   "metadata": {
    "ExecuteTime": {
     "end_time": "2021-08-06T17:36:56.230178Z",
     "start_time": "2021-08-06T17:36:55.968910Z"
    },
    "scrolled": true
   },
   "outputs": [
    {
     "data": {
      "text/plain": [
       "<AxesSubplot:>"
      ]
     },
     "execution_count": 62,
     "metadata": {},
     "output_type": "execute_result"
    },
    {
     "data": {
      "image/png": "[encoded data removed]",
      "text/plain": [
       "<Figure size 432x288 with 1 Axes>"
      ]
     },
     "metadata": {
      "needs_background": "light"
     },
     "output_type": "display_data"
    }
   ],
   "source": [
    "new_df1[new_df1['total_day_minutes'] > 200]['charge_per_min_day'].hist(bins='auto')"
   ]
  },
  {
   "cell_type": "markdown",
   "metadata": {},
   "source": [
    "We see that the 50% percentile of total_day_minutes is ~200 minutes (we round down because if we were to promote this plan, we should have a rounded number) for customers who churn. We also see that the the price per minute at this percentile is ~$0.35. \n",
    "\n",
    "We suggest to implement a fixed fee plan for those who go over 200 minutes at a price of $0.35 per minute.\n",
    "\n",
    "The gradient boost model was selected to be used here as the model had the best predictor for the training and testing data for the recall. The recall score was close unlike the XGboost where the training set performed far better than the test data."
   ]
  },
  {
   "cell_type": "markdown",
   "metadata": {},
   "source": [
    "We created the function below to allow us to test different minute and charge per minute parameters and how it affects churn."
   ]
  },
  {
   "cell_type": "code",
   "execution_count": 63,
   "metadata": {
    "ExecuteTime": {
     "end_time": "2021-08-06T17:36:56.244082Z",
     "start_time": "2021-08-06T17:36:56.233389Z"
    }
   },
   "outputs": [],
   "source": [
    "def fixed_day_plan(df, day_min, charge_min_day):\n",
    "    '''\n",
    "    this function modifies the dataframe to adjust the charge_min_day to a fixed rate\n",
    "    given a threshold for total_day_min, and returns the modified df and churn rate\n",
    "    '''\n",
    "    df.loc[df['total_day_minutes'] > day_min, 'charge_per_min_day'] = charge_min_day\n",
    "    df['total_day_charge'] = df['charge_per_min_day'] * df['total_day_minutes']\n",
    "    df['total_charge_dom'] = df['total_day_charge'] + df['total_eve_charge'] + df['total_night_charge']\n",
    "    df['total_charge'] = df['total_day_charge'] + df['total_eve_charge'] + df['total_night_charge'] + df['total_intl_charge']\n",
    "    \n",
    "    #seperating the target and data\n",
    "    X = df.drop('churn', axis=1)\n",
    "    y = df['churn']\n",
    "    \n",
    "    categorical = ['state','area_code', 'international_plan', 'voice_mail_plan', 'region']\n",
    "    df_cat = X[categorical]\n",
    "    df_cont = X.drop(categorical,axis = 1)\n",
    "    \n",
    "    #splitting the numericals and categoricals\n",
    "    X_num = df_cont.columns\n",
    "    X_cat = df_cat.columns\n",
    "    \n",
    "    #preprocessing the pipeline with standard scaler and one hot encoder\n",
    "    numTrans = Pipeline(steps=[\n",
    "    ('scaler', StandardScaler())\n",
    "    ])\n",
    "    catTrans = Pipeline(steps=[\n",
    "    ('ohe', OneHotEncoder(drop='first',\n",
    "                          sparse=False))\n",
    "    ])\n",
    "\n",
    "    pp = ColumnTransformer(transformers=[\n",
    "    ('num', numTrans, X_num),\n",
    "    ('cat', catTrans, X_cat)\n",
    "    ])\n",
    "    \n",
    "    # transform the pipeline and then converting it back into a dataframe\n",
    "    X_scaled = pp.fit_transform(X)\n",
    "    \n",
    "    #aggregating col names from the one hot encode \n",
    "    cat_names = pp.transformers_[1][1].named_steps['ohe'].get_feature_names(X_cat).tolist()\n",
    "    feature_names= list(X_num) + cat_names\n",
    "\n",
    "    # renaming the data frame with corresponding col names\n",
    "    X_scaled = pd.DataFrame(X_scaled, columns = feature_names)\n",
    "    \n",
    "    #Gradient Boost\n",
    "    model_boost_gb = GradientBoostingClassifier(random_state=42)\n",
    "    gb_m = model_boost_gb.fit(X_scaled,y)\n",
    "    \n",
    "    #predict the new churn from this dataframe\n",
    "    df['churn'] = gb_m.predict(X_scaled)\n",
    "    \n",
    "    #calculate the new churn and total charge\n",
    "    new_churn = round(df['churn'].value_counts(normalize=True)[1]*100, 2)\n",
    "    \n",
    "    return df, new_churn"
   ]
  },
  {
   "cell_type": "code",
   "execution_count": 64,
   "metadata": {
    "ExecuteTime": {
     "end_time": "2021-08-06T17:36:58.578355Z",
     "start_time": "2021-08-06T17:36:56.246794Z"
    }
   },
   "outputs": [
    {
     "name": "stdout",
     "output_type": "stream",
     "text": [
      "12.57\n"
     ]
    }
   ],
   "source": [
    "new_df1, churn1 = fixed_day_plan(new_df1, 200, 0.35)\n",
    "print(churn1)"
   ]
  },
  {
   "cell_type": "markdown",
   "metadata": {
    "ExecuteTime": {
     "end_time": "2021-08-06T14:10:46.022172Z",
     "start_time": "2021-08-06T14:10:46.018564Z"
    }
   },
   "source": [
    "After applying our fixed fee plan, churn decreased from 14.49% to 12-13%."
   ]
  },
  {
   "cell_type": "markdown",
   "metadata": {
    "heading_collapsed": true
   },
   "source": [
    "### Improve Customer Satisfaction"
   ]
  },
  {
   "cell_type": "markdown",
   "metadata": {
    "hidden": true
   },
   "source": [
    "Here we want to see how we can improve churn rate by improving customer satisfaction for those who have a high call ratio to the customer support to their overall calls. We see that the most extreme case, a customer calls for support nearly 3% of all their calls."
   ]
  },
  {
   "cell_type": "code",
   "execution_count": 65,
   "metadata": {
    "ExecuteTime": {
     "end_time": "2021-08-06T17:36:58.823705Z",
     "start_time": "2021-08-06T17:36:58.579927Z"
    },
    "hidden": true,
    "scrolled": false
   },
   "outputs": [
    {
     "data": {
      "text/plain": [
       "<AxesSubplot:>"
      ]
     },
     "execution_count": 65,
     "metadata": {},
     "output_type": "execute_result"
    },
    {
     "data": {
      "image/png": "[encoded data removed]",
      "text/plain": [
       "<Figure size 432x288 with 1 Axes>"
      ]
     },
     "metadata": {
      "needs_background": "light"
     },
     "output_type": "display_data"
    }
   ],
   "source": [
    "df['call_satisfaction'].hist(bins='auto')"
   ]
  },
  {
   "cell_type": "code",
   "execution_count": 66,
   "metadata": {
    "ExecuteTime": {
     "end_time": "2021-08-06T17:36:58.831889Z",
     "start_time": "2021-08-06T17:36:58.825281Z"
    },
    "hidden": true,
    "scrolled": true
   },
   "outputs": [
    {
     "data": {
      "text/plain": [
       "count    3333.000000\n",
       "mean        0.519833\n",
       "std         0.445629\n",
       "min         0.000000\n",
       "25%         0.289017\n",
       "50%         0.366300\n",
       "75%         0.727273\n",
       "max         3.030303\n",
       "Name: call_satisfaction, dtype: float64"
      ]
     },
     "execution_count": 66,
     "metadata": {},
     "output_type": "execute_result"
    }
   ],
   "source": [
    "df['call_satisfaction'].describe()"
   ]
  },
  {
   "cell_type": "markdown",
   "metadata": {
    "hidden": true
   },
   "source": [
    "We tested out what would happen if we capped the call_satisfaction ratio at the 75 percentile of 0.72. "
   ]
  },
  {
   "cell_type": "code",
   "execution_count": 67,
   "metadata": {
    "ExecuteTime": {
     "end_time": "2021-08-06T17:36:58.836064Z",
     "start_time": "2021-08-06T17:36:58.833622Z"
    },
    "hidden": true
   },
   "outputs": [],
   "source": [
    "new_df2 = new_df1.copy()"
   ]
  },
  {
   "cell_type": "markdown",
   "metadata": {
    "hidden": true
   },
   "source": [
    "We created the function below to allow us to test different customer satisfaction threshold and how it affects churn."
   ]
  },
  {
   "cell_type": "code",
   "execution_count": 68,
   "metadata": {
    "ExecuteTime": {
     "end_time": "2021-08-06T17:36:58.853816Z",
     "start_time": "2021-08-06T17:36:58.847435Z"
    },
    "hidden": true
   },
   "outputs": [],
   "source": [
    "def call_satis(df, threshold, new_satis):\n",
    "    df.loc[df['call_satisfaction'] > threshold, 'call_satisfaction'] = new_satis\n",
    "    df['customer_service_calls'] = (df['call_satisfaction']/100)*df['total_calls']\n",
    "    \n",
    "    #seperating the target and data\n",
    "    X = df.drop('churn', axis=1)\n",
    "    y = df['churn']\n",
    "    \n",
    "    categorical = ['state','area_code', 'international_plan', 'voice_mail_plan', 'region']\n",
    "    df_cat = X[categorical]\n",
    "    df_cont = X.drop(categorical,axis = 1)\n",
    "    \n",
    "    #splitting the numericals and categoricals\n",
    "    X_num = df_cont.columns\n",
    "    X_cat = df_cat.columns\n",
    "    \n",
    "    #preprocessing the pipeline with standard scaler and one hot encoder\n",
    "    numTrans = Pipeline(steps=[\n",
    "    ('scaler', StandardScaler())\n",
    "    ])\n",
    "    catTrans = Pipeline(steps=[\n",
    "    ('ohe', OneHotEncoder(drop='first',\n",
    "                          sparse=False))\n",
    "    ])\n",
    "\n",
    "    pp = ColumnTransformer(transformers=[\n",
    "    ('num', numTrans, X_num),\n",
    "    ('cat', catTrans, X_cat)\n",
    "    ])\n",
    "    \n",
    "    # transform the pipeline and then converting it back into a dataframe\n",
    "    X_scaled = pp.fit_transform(X)\n",
    "    \n",
    "    #aggregating col names from the one hot encode \n",
    "    cat_names = pp.transformers_[1][1].named_steps['ohe'].get_feature_names(X_cat).tolist()\n",
    "    feature_names= list(X_num) + cat_names\n",
    "\n",
    "    # renaming the data frame with corresponding col names\n",
    "    X_scaled = pd.DataFrame(X_scaled, columns = feature_names)\n",
    "    \n",
    "    #Gradient Boost\n",
    "    model_boost_gb = GradientBoostingClassifier(random_state=42)\n",
    "    gb_m = model_boost_gb.fit(X_scaled,y)\n",
    "    \n",
    "    #predict the new churn from this dataframe\n",
    "    df['churn'] = gb_m.predict(X_scaled)\n",
    "    \n",
    "    #calculate the new churn and total charge\n",
    "    new_churn = round(df['churn'].value_counts(normalize=True)[1]*100, 2)\n",
    "    \n",
    "    return df, new_churn"
   ]
  },
  {
   "cell_type": "code",
   "execution_count": 69,
   "metadata": {
    "ExecuteTime": {
     "end_time": "2021-08-06T17:37:00.944974Z",
     "start_time": "2021-08-06T17:36:58.856242Z"
    },
    "hidden": true
   },
   "outputs": [
    {
     "name": "stdout",
     "output_type": "stream",
     "text": [
      "10.23\n"
     ]
    }
   ],
   "source": [
    "new_df2, churn2 = call_satis(new_df2, 0.72, 0.72)\n",
    "print(churn2)"
   ]
  },
  {
   "cell_type": "markdown",
   "metadata": {
    "hidden": true
   },
   "source": [
    "We created a theoretical scenario where the customers who had a call rate over 0.72% were fixed at 0.72% on top of fixing the daycall rate above. This improved our churn rate even further and dropped it to about 10%."
   ]
  },
  {
   "cell_type": "markdown",
   "metadata": {},
   "source": [
    "### Prioritize Key States"
   ]
  },
  {
   "cell_type": "markdown",
   "metadata": {
    "ExecuteTime": {
     "end_time": "2021-08-06T04:04:17.705247Z",
     "start_time": "2021-08-06T04:04:17.697895Z"
    }
   },
   "source": [
    "We wanted to take a look at what is to be expected from these changes if they were to be rolled out to the five states with the highest churn rates. These states were NJ, CA, TX, MD, and SC."
   ]
  },
  {
   "cell_type": "code",
   "execution_count": 70,
   "metadata": {
    "ExecuteTime": {
     "end_time": "2021-08-06T17:37:00.950402Z",
     "start_time": "2021-08-06T17:37:00.946851Z"
    }
   },
   "outputs": [],
   "source": [
    "new_df3 = new_df2.copy()\n",
    "new_df4 = df.copy()"
   ]
  },
  {
   "cell_type": "code",
   "execution_count": 71,
   "metadata": {
    "ExecuteTime": {
     "end_time": "2021-08-06T17:37:00.956310Z",
     "start_time": "2021-08-06T17:37:00.953537Z"
    }
   },
   "outputs": [],
   "source": [
    "key_states = ['NJ', 'CA', 'TX', 'MD', 'SC']"
   ]
  },
  {
   "cell_type": "code",
   "execution_count": 72,
   "metadata": {
    "ExecuteTime": {
     "end_time": "2021-08-06T17:37:00.960731Z",
     "start_time": "2021-08-06T17:37:00.957954Z"
    }
   },
   "outputs": [],
   "source": [
    "def state_churn(df, state):\n",
    "    new_df = df[df['state'] == state]\n",
    "    churn = round(new_df['churn'].value_counts(normalize=True)[1]*100, 1)\n",
    "    return churn"
   ]
  },
  {
   "cell_type": "code",
   "execution_count": 73,
   "metadata": {
    "ExecuteTime": {
     "end_time": "2021-08-06T17:37:00.983049Z",
     "start_time": "2021-08-06T17:37:00.962385Z"
    }
   },
   "outputs": [],
   "source": [
    "states = {}\n",
    "for state in key_states:\n",
    "    states[state] = [None, None]\n",
    "\n",
    "for state in key_states:\n",
    "    states[state][0] = state_churn(new_df4, state)\n",
    "    states[state][1] = state_churn(new_df3, state)"
   ]
  },
  {
   "cell_type": "code",
   "execution_count": 82,
   "metadata": {
    "ExecuteTime": {
     "end_time": "2021-08-06T17:37:39.684386Z",
     "start_time": "2021-08-06T17:37:39.286832Z"
    }
   },
   "outputs": [
    {
     "data": {
      "image/png": "[encoded data removed]",
      "text/plain": [
       "<Figure size 504x504 with 1 Axes>"
      ]
     },
     "metadata": {
      "needs_background": "light"
     },
     "output_type": "display_data"
    }
   ],
   "source": [
    "df2 = pd.DataFrame(states).T\n",
    "df2.rename(columns={0:'Original Churn', 1: 'New Churn'}, inplace=True)\n",
    "# plot grouped bar chart\n",
    "fig, ax = plt.subplots(figsize=(7,7))\n",
    "\n",
    "df2.plot(kind=\"bar\", ax=ax, color=['royalblue','skyblue'])\n",
    "\n",
    "#set labels for axes, and the x and y tick size\n",
    "ax.set_title('Churn Rate of State Before and After Recommendations', fontsize=18)\n",
    "ax.set_ylabel(\"Churn Rate\", fontsize=16)\n",
    "plt.xticks(size = 14, rotation=0)\n",
    "plt.yticks(size = 14)\n",
    "    \n",
    "#reverse the legend labels so that it matches with the bar graphs\n",
    "ax.legend(bbox_to_anchor=(1.01, 1), loc='upper left', prop={'size': 14})\n",
    "\n",
    "\n",
    "for bar in ax.patches:\n",
    "    # The text annotation for each bar should be its height\n",
    "    bar_value = bar.get_height()\n",
    "    text = f'{bar_value:,}'\n",
    "    # Get the middle of each bar on the x-axis.\n",
    "    text_x = bar.get_x() + bar.get_width() / 2\n",
    "    # get_y() is where the bar starts so we add the height to it.\n",
    "    text_y = bar.get_y() + bar_value\n",
    "    # set the text\n",
    "    ax.text(text_x, text_y, text, ha='center', va='bottom', color='black', size=10)\n",
    "    \n",
    "fig.savefig('images/Churn_Rate_of_State_Before_and_After_Recommendations.png', bbox_inches='tight')"
   ]
  },
  {
   "cell_type": "markdown",
   "metadata": {},
   "source": [
    "When we applied these recommendations to these five states, we found that there was a significant drop in the churn rate to all the states. When these changes go through for these states, we can compare the results and see potentially how well our recommendations helped reduce the churn rate."
   ]
  },
  {
   "cell_type": "markdown",
   "metadata": {
    "heading_collapsed": true
   },
   "source": [
    "## Conclusions"
   ]
  },
  {
   "cell_type": "markdown",
   "metadata": {
    "hidden": true
   },
   "source": [
    "In conclusion, we have identified two of the most import key features when predicting a customer's churn rate in our best-performing Gradient Boost Model. The first key feature with a high influence on churn rate prediction is total charge. To better assess and apply this metric on our customers to decrease the churn rate, we looked into \"total day minutes\" as well as \"charge per minute per day\" as our anlaysis concluded that call minutes made during the daytime versus that of any other time segment had a bigger impact between customers who churn and those who do not churn. We implemented a recommendation to adjust a customer's charge per minute by looking at the 50% percentile of total day minutes to determine a cut off of 200 minutes as a threshold cut off. At this cut off at the 50% percentile, we then saw that 35 cent as a charge per daytiem minutes would be an appropriate fixed rate to implement at the cut off. Hence, we recommend SyriaTel to provide all customers who make 200 minutes of calls during the day with a fixed rate plan of 35 cents per minute for day calls.\n",
    "\n",
    "We then identified the second important key feature when predicting a customer's churn rate, which is customer satisfaction as we discovered that customer dissatisfaction is higher amongst customers who churn. Hence identifying ways to improve customer satisfaction by lowering the customer service call rate would help reduce churn (defined as all customer service calls over total calls). We suggested implementing a targeted approach decrease the call ratio by providing better service to our customers during their customer service calls to decrease the need for customers to make any additional or future calls.\n",
    "\n",
    "Lastly, we then identified 5 of the states with the highest churn rate to prioritize the deployment of these suggestions. By implementing these recommendations in the top 5 states with the highest churn rate, we were able to lower the churn rate for these 5 states from a range of 23% - 26% churn down to a range of 13% to 21% churn for NJ, CA, TX, MD, and SC."
   ]
  },
  {
   "cell_type": "markdown",
   "metadata": {
    "heading_collapsed": true
   },
   "source": [
    "## Next Steps"
   ]
  },
  {
   "cell_type": "markdown",
   "metadata": {
    "hidden": true
   },
   "source": [
    "To measure whether the implementation of a flat fee of 35 cents per minute across all customers who make more than 200 mins for day calls provides the best pricing for customers, further market research on pricing plans can be conducted across SyriaTel's main competitors. In order to further improve on lowering the churn rate across all customers, we would need to collect more data from users. One way to implement a next step is to conduct a customer satisfaction survey to pinpoint more specifically other areas that can be improved upon in order to provide better customer experiences for all SyriaTel users. Lastly, after a period of 12 months, we would also like to analyze the results of the implementations across the 5 highest churning states across the nation before deploying such recommendations on a national level. We hope to see that a fixed rate plan as well as an improved customer satisfaction ratio would be observed across NJ, CA, TX, MD, and SC."
   ]
  },
  {
   "cell_type": "markdown",
   "metadata": {},
   "source": [
    "## Extra: Let's Create a Function to Calculate The Probability of a Customer Churning"
   ]
  },
  {
   "cell_type": "markdown",
   "metadata": {},
   "source": [
    "We wrote a function that takes in some parameters and when run returns the likelihood probability that that customer belongs to the churning class (probability that they churn)"
   ]
  },
  {
   "cell_type": "code",
   "execution_count": 75,
   "metadata": {
    "ExecuteTime": {
     "end_time": "2021-08-06T17:37:01.402497Z",
     "start_time": "2021-08-06T17:37:01.394713Z"
    }
   },
   "outputs": [],
   "source": [
    "# single customer churning probability calculator\n",
    "\n",
    "def churn(total_day_minutes, total_charge, customer_service_calls, international_plan):\n",
    "    \n",
    "    #using the ensemble to predict\n",
    "    voting_clf = VotingClassifier(estimators=[ \n",
    "                                          (\"rf\", rf_model) ,\n",
    "                                          ('dt', best_DT_clf),\n",
    "                                          ('xgb', xgb_model),\n",
    "                                          (\"gb\", gb_m)], \n",
    "                                          voting= \"soft\")\n",
    "    \n",
    "    #slice out corresponding df\n",
    "    data= df[['total_day_minutes', 'total_charge', \n",
    "            'customer_service_calls','international_plan','churn'\n",
    "              ]]\n",
    "    \n",
    "    \n",
    "    #split into train test\n",
    "    y= data['churn']\n",
    "    X= data.drop('churn', axis=1)\n",
    "    X_train, X_test, y_train, y_test = train_test_split(X, y, test_size = .3 ,random_state=42)\n",
    "    \n",
    "    \n",
    "    #pipeline reintroduced to fit specific data frame\n",
    "    \n",
    "    X_num=X_train.columns[:3]\n",
    "    X_cat=X_train.columns[3:4]\n",
    "    \n",
    "    numTrans = Pipeline(steps=[\n",
    "    ('scaler', StandardScaler())\n",
    "    ])\n",
    "    catTrans = Pipeline(steps=[\n",
    "    ('ohe', OneHotEncoder(drop='first',\n",
    "                          sparse=False))\n",
    "    ])\n",
    "\n",
    "    pp = ColumnTransformer(transformers=[\n",
    "    ('num', numTrans, X_num),\n",
    "    ('cat', catTrans, X_cat)\n",
    "    ])\n",
    "    \n",
    "    \n",
    "    #use pipeline to scale \n",
    "    X_train_scaled = pp.fit_transform(X_train)\n",
    "    X_test_scaled= pp.transform(X_test)\n",
    "    X_train_scaled= pd.DataFrame(X_train_scaled)\n",
    "    X_test_scaled=pd.DataFrame(X_test_scaled)\n",
    "    \n",
    "#     create a single entry from function inputs to test\n",
    "    d= {'total_day_minutes':total_day_minutes , \n",
    "        'total_charge': total_charge , \n",
    "        'customer_service_calls': customer_service_calls,\n",
    "        'international_plan':international_plan}\n",
    "    \n",
    "    df_pred= pd.DataFrame(d, index=[0])\n",
    "    \n",
    "    #scale it so model doesnt break on string entries\n",
    "    df_pred = pp.transform(df_pred)\n",
    "    df_pred = pd.DataFrame(df_pred)\n",
    "    \n",
    "    #fit the model\n",
    "    voting_clf.fit(X_train_scaled, y_train)\n",
    "  \n",
    "    #predict the probability that customer may churn\n",
    "    p = voting_clf.predict_proba(df_pred)\n",
    "    \n",
    "   \n",
    "    \n",
    "    print(f\"The selected account has a {round(p[0][1]*100)}% chance of churning \")\n",
    "    "
   ]
  },
  {
   "cell_type": "code",
   "execution_count": 76,
   "metadata": {
    "ExecuteTime": {
     "end_time": "2021-08-06T17:37:01.443999Z",
     "start_time": "2021-08-06T17:37:01.405110Z"
    }
   },
   "outputs": [
    {
     "data": {
      "text/html": [
       "<div>\n",
       "<style scoped>\n",
       "    .dataframe tbody tr th:only-of-type {\n",
       "        vertical-align: middle;\n",
       "    }\n",
       "\n",
       "    .dataframe tbody tr th {\n",
       "        vertical-align: top;\n",
       "    }\n",
       "\n",
       "    .dataframe thead th {\n",
       "        text-align: right;\n",
       "    }\n",
       "</style>\n",
       "<table border=\"1\" class=\"dataframe\">\n",
       "  <thead>\n",
       "    <tr style=\"text-align: right;\">\n",
       "      <th></th>\n",
       "      <th>state</th>\n",
       "      <th>account_length</th>\n",
       "      <th>area_code</th>\n",
       "      <th>international_plan</th>\n",
       "      <th>voice_mail_plan</th>\n",
       "      <th>number_vmail_messages</th>\n",
       "      <th>total_day_minutes</th>\n",
       "      <th>total_day_calls</th>\n",
       "      <th>total_day_charge</th>\n",
       "      <th>total_eve_minutes</th>\n",
       "      <th>...</th>\n",
       "      <th>total_calls</th>\n",
       "      <th>total_charge</th>\n",
       "      <th>charge_per_min_day</th>\n",
       "      <th>charge_per_min_eve</th>\n",
       "      <th>charge_per_min_night</th>\n",
       "      <th>charge_per_min_dom</th>\n",
       "      <th>charge_per_min_int</th>\n",
       "      <th>%_int_min</th>\n",
       "      <th>call_satisfaction</th>\n",
       "      <th>region</th>\n",
       "    </tr>\n",
       "  </thead>\n",
       "  <tbody>\n",
       "    <tr>\n",
       "      <th>0</th>\n",
       "      <td>KS</td>\n",
       "      <td>128</td>\n",
       "      <td>415</td>\n",
       "      <td>no</td>\n",
       "      <td>yes</td>\n",
       "      <td>25</td>\n",
       "      <td>265.1</td>\n",
       "      <td>110</td>\n",
       "      <td>45.07</td>\n",
       "      <td>197.4</td>\n",
       "      <td>...</td>\n",
       "      <td>303</td>\n",
       "      <td>75.56</td>\n",
       "      <td>0.409727</td>\n",
       "      <td>0.169495</td>\n",
       "      <td>0.120989</td>\n",
       "      <td>0.242867</td>\n",
       "      <td>0.900000</td>\n",
       "      <td>1.394311</td>\n",
       "      <td>0.330033</td>\n",
       "      <td>Midwest</td>\n",
       "    </tr>\n",
       "    <tr>\n",
       "      <th>1</th>\n",
       "      <td>OH</td>\n",
       "      <td>107</td>\n",
       "      <td>415</td>\n",
       "      <td>no</td>\n",
       "      <td>yes</td>\n",
       "      <td>26</td>\n",
       "      <td>161.6</td>\n",
       "      <td>123</td>\n",
       "      <td>27.47</td>\n",
       "      <td>195.5</td>\n",
       "      <td>...</td>\n",
       "      <td>332</td>\n",
       "      <td>59.24</td>\n",
       "      <td>0.223333</td>\n",
       "      <td>0.161359</td>\n",
       "      <td>0.111165</td>\n",
       "      <td>0.168815</td>\n",
       "      <td>1.233333</td>\n",
       "      <td>2.191299</td>\n",
       "      <td>0.301205</td>\n",
       "      <td>Midwest</td>\n",
       "    </tr>\n",
       "    <tr>\n",
       "      <th>2</th>\n",
       "      <td>NJ</td>\n",
       "      <td>137</td>\n",
       "      <td>415</td>\n",
       "      <td>no</td>\n",
       "      <td>no</td>\n",
       "      <td>0</td>\n",
       "      <td>243.4</td>\n",
       "      <td>114</td>\n",
       "      <td>41.38</td>\n",
       "      <td>121.2</td>\n",
       "      <td>...</td>\n",
       "      <td>333</td>\n",
       "      <td>62.29</td>\n",
       "      <td>0.362982</td>\n",
       "      <td>0.093636</td>\n",
       "      <td>0.070385</td>\n",
       "      <td>0.179878</td>\n",
       "      <td>0.658000</td>\n",
       "      <td>2.261772</td>\n",
       "      <td>0.000000</td>\n",
       "      <td>Northeast</td>\n",
       "    </tr>\n",
       "    <tr>\n",
       "      <th>3</th>\n",
       "      <td>OH</td>\n",
       "      <td>84</td>\n",
       "      <td>408</td>\n",
       "      <td>yes</td>\n",
       "      <td>no</td>\n",
       "      <td>0</td>\n",
       "      <td>299.4</td>\n",
       "      <td>71</td>\n",
       "      <td>50.90</td>\n",
       "      <td>61.9</td>\n",
       "      <td>...</td>\n",
       "      <td>255</td>\n",
       "      <td>66.80</td>\n",
       "      <td>0.716901</td>\n",
       "      <td>0.059773</td>\n",
       "      <td>0.099551</td>\n",
       "      <td>0.262177</td>\n",
       "      <td>0.254286</td>\n",
       "      <td>1.168555</td>\n",
       "      <td>0.784314</td>\n",
       "      <td>Midwest</td>\n",
       "    </tr>\n",
       "    <tr>\n",
       "      <th>4</th>\n",
       "      <td>OK</td>\n",
       "      <td>75</td>\n",
       "      <td>415</td>\n",
       "      <td>yes</td>\n",
       "      <td>no</td>\n",
       "      <td>0</td>\n",
       "      <td>166.7</td>\n",
       "      <td>113</td>\n",
       "      <td>28.34</td>\n",
       "      <td>148.3</td>\n",
       "      <td>...</td>\n",
       "      <td>359</td>\n",
       "      <td>52.09</td>\n",
       "      <td>0.250796</td>\n",
       "      <td>0.103361</td>\n",
       "      <td>0.069504</td>\n",
       "      <td>0.138652</td>\n",
       "      <td>0.910000</td>\n",
       "      <td>1.972656</td>\n",
       "      <td>0.835655</td>\n",
       "      <td>South</td>\n",
       "    </tr>\n",
       "    <tr>\n",
       "      <th>...</th>\n",
       "      <td>...</td>\n",
       "      <td>...</td>\n",
       "      <td>...</td>\n",
       "      <td>...</td>\n",
       "      <td>...</td>\n",
       "      <td>...</td>\n",
       "      <td>...</td>\n",
       "      <td>...</td>\n",
       "      <td>...</td>\n",
       "      <td>...</td>\n",
       "      <td>...</td>\n",
       "      <td>...</td>\n",
       "      <td>...</td>\n",
       "      <td>...</td>\n",
       "      <td>...</td>\n",
       "      <td>...</td>\n",
       "      <td>...</td>\n",
       "      <td>...</td>\n",
       "      <td>...</td>\n",
       "      <td>...</td>\n",
       "      <td>...</td>\n",
       "    </tr>\n",
       "    <tr>\n",
       "      <th>3328</th>\n",
       "      <td>AZ</td>\n",
       "      <td>192</td>\n",
       "      <td>415</td>\n",
       "      <td>no</td>\n",
       "      <td>yes</td>\n",
       "      <td>36</td>\n",
       "      <td>156.2</td>\n",
       "      <td>77</td>\n",
       "      <td>26.55</td>\n",
       "      <td>215.5</td>\n",
       "      <td>...</td>\n",
       "      <td>292</td>\n",
       "      <td>60.10</td>\n",
       "      <td>0.344805</td>\n",
       "      <td>0.145397</td>\n",
       "      <td>0.151325</td>\n",
       "      <td>0.200804</td>\n",
       "      <td>0.445000</td>\n",
       "      <td>1.498411</td>\n",
       "      <td>0.684932</td>\n",
       "      <td>West</td>\n",
       "    </tr>\n",
       "    <tr>\n",
       "      <th>3329</th>\n",
       "      <td>WV</td>\n",
       "      <td>68</td>\n",
       "      <td>415</td>\n",
       "      <td>no</td>\n",
       "      <td>no</td>\n",
       "      <td>0</td>\n",
       "      <td>231.1</td>\n",
       "      <td>57</td>\n",
       "      <td>39.29</td>\n",
       "      <td>153.4</td>\n",
       "      <td>...</td>\n",
       "      <td>239</td>\n",
       "      <td>63.53</td>\n",
       "      <td>0.689298</td>\n",
       "      <td>0.237091</td>\n",
       "      <td>0.070000</td>\n",
       "      <td>0.259319</td>\n",
       "      <td>0.647500</td>\n",
       "      <td>1.639904</td>\n",
       "      <td>1.255230</td>\n",
       "      <td>South</td>\n",
       "    </tr>\n",
       "    <tr>\n",
       "      <th>3330</th>\n",
       "      <td>RI</td>\n",
       "      <td>28</td>\n",
       "      <td>510</td>\n",
       "      <td>no</td>\n",
       "      <td>no</td>\n",
       "      <td>0</td>\n",
       "      <td>180.8</td>\n",
       "      <td>109</td>\n",
       "      <td>30.74</td>\n",
       "      <td>288.8</td>\n",
       "      <td>...</td>\n",
       "      <td>264</td>\n",
       "      <td>67.74</td>\n",
       "      <td>0.282018</td>\n",
       "      <td>0.423276</td>\n",
       "      <td>0.094945</td>\n",
       "      <td>0.247791</td>\n",
       "      <td>0.635000</td>\n",
       "      <td>2.087034</td>\n",
       "      <td>0.757576</td>\n",
       "      <td>Northeast</td>\n",
       "    </tr>\n",
       "    <tr>\n",
       "      <th>3331</th>\n",
       "      <td>CT</td>\n",
       "      <td>184</td>\n",
       "      <td>510</td>\n",
       "      <td>yes</td>\n",
       "      <td>no</td>\n",
       "      <td>0</td>\n",
       "      <td>213.8</td>\n",
       "      <td>105</td>\n",
       "      <td>36.35</td>\n",
       "      <td>159.6</td>\n",
       "      <td>...</td>\n",
       "      <td>336</td>\n",
       "      <td>57.53</td>\n",
       "      <td>0.346190</td>\n",
       "      <td>0.161548</td>\n",
       "      <td>0.045693</td>\n",
       "      <td>0.172331</td>\n",
       "      <td>0.135000</td>\n",
       "      <td>0.965997</td>\n",
       "      <td>0.595238</td>\n",
       "      <td>Northeast</td>\n",
       "    </tr>\n",
       "    <tr>\n",
       "      <th>3332</th>\n",
       "      <td>TN</td>\n",
       "      <td>74</td>\n",
       "      <td>415</td>\n",
       "      <td>no</td>\n",
       "      <td>yes</td>\n",
       "      <td>25</td>\n",
       "      <td>234.4</td>\n",
       "      <td>113</td>\n",
       "      <td>39.85</td>\n",
       "      <td>265.9</td>\n",
       "      <td>...</td>\n",
       "      <td>276</td>\n",
       "      <td>77.01</td>\n",
       "      <td>0.352655</td>\n",
       "      <td>0.275610</td>\n",
       "      <td>0.141039</td>\n",
       "      <td>0.269522</td>\n",
       "      <td>0.925000</td>\n",
       "      <td>1.813609</td>\n",
       "      <td>0.000000</td>\n",
       "      <td>South</td>\n",
       "    </tr>\n",
       "  </tbody>\n",
       "</table>\n",
       "<p>3333 rows × 34 columns</p>\n",
       "</div>"
      ],
      "text/plain": [
       "     state  account_length  area_code international_plan voice_mail_plan  \\\n",
       "0       KS             128        415                 no             yes   \n",
       "1       OH             107        415                 no             yes   \n",
       "2       NJ             137        415                 no              no   \n",
       "3       OH              84        408                yes              no   \n",
       "4       OK              75        415                yes              no   \n",
       "...    ...             ...        ...                ...             ...   \n",
       "3328    AZ             192        415                 no             yes   \n",
       "3329    WV              68        415                 no              no   \n",
       "3330    RI              28        510                 no              no   \n",
       "3331    CT             184        510                yes              no   \n",
       "3332    TN              74        415                 no             yes   \n",
       "\n",
       "      number_vmail_messages  total_day_minutes  total_day_calls  \\\n",
       "0                        25              265.1              110   \n",
       "1                        26              161.6              123   \n",
       "2                         0              243.4              114   \n",
       "3                         0              299.4               71   \n",
       "4                         0              166.7              113   \n",
       "...                     ...                ...              ...   \n",
       "3328                     36              156.2               77   \n",
       "3329                      0              231.1               57   \n",
       "3330                      0              180.8              109   \n",
       "3331                      0              213.8              105   \n",
       "3332                     25              234.4              113   \n",
       "\n",
       "      total_day_charge  total_eve_minutes  ...  total_calls  total_charge  \\\n",
       "0                45.07              197.4  ...          303         75.56   \n",
       "1                27.47              195.5  ...          332         59.24   \n",
       "2                41.38              121.2  ...          333         62.29   \n",
       "3                50.90               61.9  ...          255         66.80   \n",
       "4                28.34              148.3  ...          359         52.09   \n",
       "...                ...                ...  ...          ...           ...   \n",
       "3328             26.55              215.5  ...          292         60.10   \n",
       "3329             39.29              153.4  ...          239         63.53   \n",
       "3330             30.74              288.8  ...          264         67.74   \n",
       "3331             36.35              159.6  ...          336         57.53   \n",
       "3332             39.85              265.9  ...          276         77.01   \n",
       "\n",
       "      charge_per_min_day  charge_per_min_eve  charge_per_min_night  \\\n",
       "0               0.409727            0.169495              0.120989   \n",
       "1               0.223333            0.161359              0.111165   \n",
       "2               0.362982            0.093636              0.070385   \n",
       "3               0.716901            0.059773              0.099551   \n",
       "4               0.250796            0.103361              0.069504   \n",
       "...                  ...                 ...                   ...   \n",
       "3328            0.344805            0.145397              0.151325   \n",
       "3329            0.689298            0.237091              0.070000   \n",
       "3330            0.282018            0.423276              0.094945   \n",
       "3331            0.346190            0.161548              0.045693   \n",
       "3332            0.352655            0.275610              0.141039   \n",
       "\n",
       "      charge_per_min_dom  charge_per_min_int  %_int_min  call_satisfaction  \\\n",
       "0               0.242867            0.900000   1.394311           0.330033   \n",
       "1               0.168815            1.233333   2.191299           0.301205   \n",
       "2               0.179878            0.658000   2.261772           0.000000   \n",
       "3               0.262177            0.254286   1.168555           0.784314   \n",
       "4               0.138652            0.910000   1.972656           0.835655   \n",
       "...                  ...                 ...        ...                ...   \n",
       "3328            0.200804            0.445000   1.498411           0.684932   \n",
       "3329            0.259319            0.647500   1.639904           1.255230   \n",
       "3330            0.247791            0.635000   2.087034           0.757576   \n",
       "3331            0.172331            0.135000   0.965997           0.595238   \n",
       "3332            0.269522            0.925000   1.813609           0.000000   \n",
       "\n",
       "         region  \n",
       "0       Midwest  \n",
       "1       Midwest  \n",
       "2     Northeast  \n",
       "3       Midwest  \n",
       "4         South  \n",
       "...         ...  \n",
       "3328       West  \n",
       "3329      South  \n",
       "3330  Northeast  \n",
       "3331  Northeast  \n",
       "3332      South  \n",
       "\n",
       "[3333 rows x 34 columns]"
      ]
     },
     "execution_count": 76,
     "metadata": {},
     "output_type": "execute_result"
    }
   ],
   "source": [
    "df"
   ]
  },
  {
   "cell_type": "markdown",
   "metadata": {},
   "source": [
    "\n",
    "\n",
    "So below is the churn rate for someone that has 200 day minutes, 34$ total charge and 0 customer calls with an international plan"
   ]
  },
  {
   "cell_type": "code",
   "execution_count": 77,
   "metadata": {
    "ExecuteTime": {
     "end_time": "2021-08-06T17:37:05.260215Z",
     "start_time": "2021-08-06T17:37:01.445810Z"
    }
   },
   "outputs": [
    {
     "name": "stdout",
     "output_type": "stream",
     "text": [
      "The selected account has a 27.0% chance of churning \n"
     ]
    }
   ],
   "source": [
    "churn(200,34,0,\"yes\")"
   ]
  },
  {
   "cell_type": "code",
   "execution_count": 78,
   "metadata": {
    "ExecuteTime": {
     "end_time": "2021-08-06T17:37:09.016549Z",
     "start_time": "2021-08-06T17:37:05.262716Z"
    }
   },
   "outputs": [
    {
     "name": "stdout",
     "output_type": "stream",
     "text": [
      "The selected account has a 81.0% chance of churning \n"
     ]
    }
   ],
   "source": [
    "# example used for one customer\n",
    "churn(128,75.56,1,\"no\")"
   ]
  },
  {
   "cell_type": "markdown",
   "metadata": {},
   "source": [
    "### Let's select a random person in the data and use the function"
   ]
  },
  {
   "cell_type": "code",
   "execution_count": 79,
   "metadata": {
    "ExecuteTime": {
     "end_time": "2021-08-06T17:37:09.024520Z",
     "start_time": "2021-08-06T17:37:09.018805Z"
    }
   },
   "outputs": [
    {
     "data": {
      "text/plain": [
       "state                            MT\n",
       "account_length                   94\n",
       "area_code                       415\n",
       "international_plan               no\n",
       "voice_mail_plan                  no\n",
       "number_vmail_messages             0\n",
       "total_day_minutes             137.5\n",
       "total_day_calls                 118\n",
       "total_day_charge              23.38\n",
       "total_eve_minutes             203.2\n",
       "total_eve_calls                  88\n",
       "total_eve_charge              17.27\n",
       "total_night_minutes             150\n",
       "total_night_calls               131\n",
       "total_night_charge             6.75\n",
       "total_intl_minutes             13.4\n",
       "total_intl_calls                  2\n",
       "total_intl_charge              3.62\n",
       "customer_service_calls            0\n",
       "churn                             0\n",
       "total_minutes_dom             490.7\n",
       "total_calls_dom                 337\n",
       "total_charge_dom               47.4\n",
       "total_minutes                 504.1\n",
       "total_calls                     339\n",
       "total_charge                  51.02\n",
       "charge_per_min_day         0.198136\n",
       "charge_per_min_eve          0.19625\n",
       "charge_per_min_night      0.0515267\n",
       "charge_per_min_dom         0.140653\n",
       "charge_per_min_int             1.81\n",
       "%_int_min                    2.6582\n",
       "call_satisfaction                 0\n",
       "region                         West\n",
       "Name: 193, dtype: object"
      ]
     },
     "execution_count": 79,
     "metadata": {},
     "output_type": "execute_result"
    }
   ],
   "source": [
    "df.loc[193]"
   ]
  },
  {
   "cell_type": "code",
   "execution_count": 80,
   "metadata": {
    "ExecuteTime": {
     "end_time": "2021-08-06T17:37:12.739359Z",
     "start_time": "2021-08-06T17:37:09.026951Z"
    }
   },
   "outputs": [
    {
     "name": "stdout",
     "output_type": "stream",
     "text": [
      "The selected account has a 2.0% chance of churning \n"
     ]
    }
   ],
   "source": [
    "churn(94,51.02,0,\"no\")"
   ]
  },
  {
   "cell_type": "markdown",
   "metadata": {},
   "source": [
    "After putting this random person in the function, the function predict that he/she will have a 2.0% of churning, and this person did not actually churn from the original dataset."
   ]
  }
 ],
 "metadata": {
  "kernelspec": {
   "display_name": "Python (learn-env)",
   "language": "python",
   "name": "learn-env"
  },
  "language_info": {
   "codemirror_mode": {
    "name": "ipython",
    "version": 3
   },
   "file_extension": ".py",
   "mimetype": "text/x-python",
   "name": "python",
   "nbconvert_exporter": "python",
   "pygments_lexer": "ipython3",
   "version": "3.8.5"
  }
 },
 "nbformat": 4,
 "nbformat_minor": 4
}
